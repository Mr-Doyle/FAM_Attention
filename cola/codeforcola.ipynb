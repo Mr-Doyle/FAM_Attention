{
 "cells": [
  {
   "cell_type": "markdown",
   "id": "f2b0e782-97ae-47c3-82ca-4dc8d8642e02",
   "metadata": {},
   "source": [
    "# 加载数据"
   ]
  },
  {
   "cell_type": "code",
   "execution_count": 1,
   "id": "784160cd-6f31-46a5-bfc5-ee9f2f6b39c3",
   "metadata": {
    "execution": {
     "iopub.execute_input": "2024-07-26T12:09:59.365955Z",
     "iopub.status.busy": "2024-07-26T12:09:59.365454Z",
     "iopub.status.idle": "2024-07-26T12:09:59.379498Z",
     "shell.execute_reply": "2024-07-26T12:09:59.378314Z",
     "shell.execute_reply.started": "2024-07-26T12:09:59.365904Z"
    }
   },
   "outputs": [],
   "source": [
    "# 文件保存位置\n",
    "file_path = '/root/autodl-tmp/fam_classifier/cola/'"
   ]
  },
  {
   "cell_type": "code",
   "execution_count": 2,
   "id": "fb1fe662-6932-4e1b-aa6e-a013f4e8f5c4",
   "metadata": {
    "execution": {
     "iopub.execute_input": "2024-07-26T12:10:01.401741Z",
     "iopub.status.busy": "2024-07-26T12:10:01.401050Z",
     "iopub.status.idle": "2024-07-26T12:10:16.302768Z",
     "shell.execute_reply": "2024-07-26T12:10:16.301970Z",
     "shell.execute_reply.started": "2024-07-26T12:10:01.401690Z"
    }
   },
   "outputs": [
    {
     "name": "stderr",
     "output_type": "stream",
     "text": [
      "Reusing dataset glue (/root/.cache/huggingface/datasets/glue/cola/1.0.0/dacbe3125aa31d7f70367a07a8a9e72a5a0bfeb5fc42e75c9db75b96da6053ad)\n"
     ]
    },
    {
     "data": {
      "application/vnd.jupyter.widget-view+json": {
       "model_id": "5f0da07faa4c476498ad29a3f8be0b93",
       "version_major": 2,
       "version_minor": 0
      },
      "text/plain": [
       "  0%|          | 0/3 [00:00<?, ?it/s]"
      ]
     },
     "metadata": {},
     "output_type": "display_data"
    }
   ],
   "source": [
    "from datasets import load_dataset\n",
    "from transformers import BertTokenizer\n",
    "import torch\n",
    "from d2l import torch as d2l\n",
    "\n",
    "\n",
    "# 使用 BERT 的分词器对文本语句进行分词\n",
    "dataset = load_dataset('glue', name='cola')\n",
    "tokenizer = BertTokenizer.from_pretrained('bert-base-cased',\n",
    "                                         add_special_tokens=True)"
   ]
  },
  {
   "cell_type": "code",
   "execution_count": 3,
   "id": "2d01751b-43ce-4323-a1fd-9a518444ea98",
   "metadata": {
    "execution": {
     "iopub.execute_input": "2024-07-26T12:10:24.013503Z",
     "iopub.status.busy": "2024-07-26T12:10:24.013076Z",
     "iopub.status.idle": "2024-07-26T12:10:24.024670Z",
     "shell.execute_reply": "2024-07-26T12:10:24.023719Z",
     "shell.execute_reply.started": "2024-07-26T12:10:24.013477Z"
    }
   },
   "outputs": [],
   "source": [
    "class ColaDataset(torch.utils.data.Dataset):\n",
    "    \"\"\"用于加载cola数据集\"\"\"\n",
    "\n",
    "    def __init__(self, dataset, num_steps, tokenizer, vocab=None):\n",
    "        self.num_steps = num_steps\n",
    "        self.tokens = [tokenizer.tokenize(sen) for sen in dataset['sentence']]\n",
    "        maxlen = max([len(tokens) for tokens in self.tokens])\n",
    "        print(f'Max length of token sequence: {maxlen}')\n",
    "        self.labels = torch.tensor(dataset['label'])\n",
    "        if vocab is None:\n",
    "            self.vocab = d2l.Vocab(self.tokens,\n",
    "                                   reserved_tokens=['<pad>', '<cls>'])\n",
    "        else:\n",
    "            self.vocab = vocab\n",
    "        out = list(map(self._preprocess, self.tokens))\n",
    "        all_token_ids = [token_ids for token_ids, _ in out]\n",
    "        all_valid_lens = [valid_lens for _, valid_lens in out]\n",
    "        self.all_token_ids = torch.tensor(all_token_ids, dtype=torch.long)\n",
    "        self.all_valid_lens = torch.tensor(all_valid_lens)\n",
    "        print('read ' + str(len(self.all_token_ids)) + ' examples')\n",
    "\n",
    "    def _preprocess(self, tokens):\n",
    "        self._truncate_tokens(tokens)\n",
    "        tokens = ['<cls>'] + tokens\n",
    "        token_ids = self.vocab[tokens] + [self.vocab['<pad>']] \\\n",
    "                    * (self.num_steps - len(tokens))\n",
    "        valid_lens = len(tokens)\n",
    "        return token_ids, valid_lens\n",
    "\n",
    "    def _truncate_tokens(self, tokens):\n",
    "        # 为\"<cls>标签预留位置\"\n",
    "        while len(tokens) > self.num_steps - 1:\n",
    "            tokens.pop()\n",
    "\n",
    "    def __getitem__(self, idx):\n",
    "        return (self.all_token_ids[idx], \n",
    "                self.all_valid_lens[idx]), self.labels[idx]\n",
    "\n",
    "    def __len__(self):\n",
    "        return len(self.all_token_ids)"
   ]
  },
  {
   "cell_type": "code",
   "execution_count": 9,
   "id": "5d5927bf-1c1a-4a67-9942-faa133ef84fd",
   "metadata": {
    "execution": {
     "iopub.execute_input": "2024-07-26T12:13:25.331032Z",
     "iopub.status.busy": "2024-07-26T12:13:25.330361Z",
     "iopub.status.idle": "2024-07-26T12:13:27.079289Z",
     "shell.execute_reply": "2024-07-26T12:13:27.078568Z",
     "shell.execute_reply.started": "2024-07-26T12:13:25.330981Z"
    }
   },
   "outputs": [
    {
     "name": "stdout",
     "output_type": "stream",
     "text": [
      "Max length of token sequence: 45\n",
      "read 8551 examples\n",
      "词表大小: 5956\n",
      "Max length of token sequence: 34\n",
      "read 1043 examples\n"
     ]
    }
   ],
   "source": [
    "num_steps, batch_size = 50, 16\n",
    "train_set = ColaDataset(dataset['train'], num_steps, tokenizer)\n",
    "vocab = train_set.vocab\n",
    "print(f'词表大小: {len(vocab)}') \n",
    "valid_set = ColaDataset(dataset['validation'], num_steps, tokenizer, vocab)"
   ]
  },
  {
   "cell_type": "code",
   "execution_count": 7,
   "id": "785ad07c-0ee9-4971-8ef3-5c96544b59c2",
   "metadata": {
    "execution": {
     "iopub.execute_input": "2024-07-26T12:12:54.790699Z",
     "iopub.status.busy": "2024-07-26T12:12:54.790243Z",
     "iopub.status.idle": "2024-07-26T12:12:54.795721Z",
     "shell.execute_reply": "2024-07-26T12:12:54.795027Z",
     "shell.execute_reply.started": "2024-07-26T12:12:54.790672Z"
    }
   },
   "outputs": [
    {
     "data": {
      "text/plain": [
       "['I', 'read', 'three', 'his', 'books', '.']"
      ]
     },
     "execution_count": 7,
     "metadata": {},
     "output_type": "execute_result"
    }
   ],
   "source": [
    "# 查看数据文本的 token list\n",
    "train_set.tokens[1000]"
   ]
  },
  {
   "cell_type": "code",
   "execution_count": 10,
   "id": "f7a020d7-3ef4-49dd-a611-2b6d3f8b1865",
   "metadata": {
    "execution": {
     "iopub.execute_input": "2024-07-26T12:13:29.074299Z",
     "iopub.status.busy": "2024-07-26T12:13:29.073502Z",
     "iopub.status.idle": "2024-07-26T12:13:29.082010Z",
     "shell.execute_reply": "2024-07-26T12:13:29.081353Z",
     "shell.execute_reply.started": "2024-07-26T12:13:29.074268Z"
    }
   },
   "outputs": [
    {
     "name": "stdout",
     "output_type": "stream",
     "text": [
      "训练集长度: 535, 验证集长度: 66\n"
     ]
    }
   ],
   "source": [
    "train_iter = torch.utils.data.DataLoader(train_set, batch_size, shuffle=True)\n",
    "# test_iter = torch.utils.data.DataLoader(test_set, batch_size)\n",
    "valid_iter = torch.utils.data.DataLoader(valid_set, batch_size)\n",
    "print(f'训练集长度: {len(train_iter)}, '\n",
    "      f'验证集长度: {len(valid_iter)}')"
   ]
  },
  {
   "cell_type": "markdown",
   "id": "d26c2d53-700e-4cc7-93bf-2abd404308df",
   "metadata": {},
   "source": [
    "# 训练词向量"
   ]
  },
  {
   "cell_type": "code",
   "execution_count": 15,
   "id": "8d13cec5-99c8-4d62-b2a3-587b5cc5e540",
   "metadata": {
    "execution": {
     "iopub.execute_input": "2024-07-26T07:01:14.816133Z",
     "iopub.status.busy": "2024-07-26T07:01:14.815844Z",
     "iopub.status.idle": "2024-07-26T07:01:16.585705Z",
     "shell.execute_reply": "2024-07-26T07:01:16.584355Z",
     "shell.execute_reply.started": "2024-07-26T07:01:14.816108Z"
    }
   },
   "outputs": [
    {
     "name": "stdout",
     "output_type": "stream",
     "text": [
      "词向量模型中保存的单词数量为 5953\n"
     ]
    }
   ],
   "source": [
    "from gensim.models import word2vec\n",
    "\n",
    "\n",
    "model = word2vec.Word2Vec(sentences=train_set.tokens, vector_size=512, sg=1, min_count=1)\n",
    "print(f'词向量模型中保存的单词数量为 {len(model.wv.index_to_key)}')\n",
    "model.save(file_path + \"cola_word_vec_sg_min1.bin\")"
   ]
  },
  {
   "cell_type": "markdown",
   "id": "f3499fac-692b-41e3-9743-2c80a4dba8af",
   "metadata": {},
   "source": [
    "# 因子分析"
   ]
  },
  {
   "cell_type": "code",
   "execution_count": 17,
   "id": "172c2b94-4729-4c15-9805-c927224d9e8a",
   "metadata": {
    "execution": {
     "iopub.execute_input": "2024-07-26T07:06:02.642692Z",
     "iopub.status.busy": "2024-07-26T07:06:02.642182Z",
     "iopub.status.idle": "2024-07-26T07:06:02.648735Z",
     "shell.execute_reply": "2024-07-26T07:06:02.647735Z",
     "shell.execute_reply.started": "2024-07-26T07:06:02.642643Z"
    }
   },
   "outputs": [],
   "source": [
    "import numpy as np\n",
    "import pandas as pd\n",
    "import matplotlib.pyplot as plt\n",
    "import seaborn as sns\n",
    "import math\n",
    "# from gensim.models import word2vec\n",
    "from factor_analyzer import FactorAnalyzer\n",
    "from factor_analyzer.factor_analyzer import calculate_bartlett_sphericity,calculate_kmo"
   ]
  },
  {
   "cell_type": "code",
   "execution_count": 18,
   "id": "51250183-e04f-4c97-97f7-617593394a17",
   "metadata": {
    "execution": {
     "iopub.execute_input": "2024-07-26T07:06:32.891269Z",
     "iopub.status.busy": "2024-07-26T07:06:32.890573Z",
     "iopub.status.idle": "2024-07-26T07:06:32.986064Z",
     "shell.execute_reply": "2024-07-26T07:06:32.984976Z",
     "shell.execute_reply.started": "2024-07-26T07:06:32.891219Z"
    }
   },
   "outputs": [],
   "source": [
    "# 加载 word2vector 模型\n",
    "model = word2vec.Word2Vec.load(file_path + 'cola_word_vec_sg_min1.bin')"
   ]
  },
  {
   "cell_type": "code",
   "execution_count": 16,
   "id": "597bbf28-bab0-49af-96b0-8e776a6f9f52",
   "metadata": {
    "execution": {
     "iopub.execute_input": "2024-07-26T07:05:11.986636Z",
     "iopub.status.busy": "2024-07-26T07:05:11.985563Z",
     "iopub.status.idle": "2024-07-26T07:05:12.031495Z",
     "shell.execute_reply": "2024-07-26T07:05:12.030556Z",
     "shell.execute_reply.started": "2024-07-26T07:05:11.986577Z"
    },
    "scrolled": true
   },
   "outputs": [
    {
     "name": "stdout",
     "output_type": "stream",
     "text": [
      "词向量矩阵尺寸: (5953, 512)\n",
      "单词film:  3670 [ 0.00067321 -0.0147386   0.01622277  0.04943561  0.06070393  0.02208116\n",
      " -0.00306527 -0.01757154  0.02561275  0.01819989  0.05919463  0.03114606\n",
      "  0.02818074 -0.04726499  0.00901544 -0.0045493   0.02536115  0.03498453\n",
      " -0.02030631 -0.02280748  0.02798464 -0.04969786  0.02932375 -0.02342127\n",
      " -0.06469516  0.01508706  0.03071228 -0.0065481   0.00787455 -0.01343325\n",
      "  0.02272628  0.0220133  -0.00659877 -0.00936674 -0.03594262  0.01846363\n",
      "  0.02223285  0.02582609 -0.06801753 -0.02156065 -0.02286487  0.03227818\n",
      " -0.05380051 -0.02047102  0.08602271  0.04159933  0.039427   -0.02488046\n",
      " -0.01926424 -0.0219202   0.01013623  0.00044712  0.02644728 -0.00063266\n",
      " -0.06377125  0.0087523  -0.00369908 -0.05664607 -0.02418485 -0.01833108\n",
      "  0.0475396   0.05355097  0.0276797   0.01978247  0.0158341  -0.0009738\n",
      " -0.05746465 -0.02795283  0.00018604 -0.05228028  0.02786082 -0.03280906\n",
      " -0.07541947 -0.01891064 -0.02125478  0.04491287  0.03285615  0.01611457\n",
      " -0.01315588  0.04340972  0.04056852 -0.02152976  0.02549949  0.00610253\n",
      "  0.01632579 -0.00179381 -0.0185485  -0.05301233 -0.00574262 -0.01145532\n",
      " -0.03993654 -0.09598827  0.00533331 -0.05568196 -0.02487077  0.02061705\n",
      "  0.00939079  0.00298696  0.01107214  0.00106803 -0.10708398  0.01901159\n",
      " -0.00609083  0.05188558 -0.0206244   0.02491369  0.02711414  0.01691514\n",
      " -0.00214653 -0.02607738  0.00934605 -0.05264986  0.04028844  0.03751976\n",
      " -0.02396339  0.01804004  0.0166724   0.06169246  0.02001648  0.02922962\n",
      " -0.04004064 -0.02922568 -0.00031155  0.00790115  0.02995276 -0.00657168\n",
      " -0.00988615 -0.02684753  0.0370032   0.01277704 -0.04253692 -0.03601652\n",
      "  0.05272103 -0.02044847  0.02340395 -0.04456465 -0.05136979  0.05664646\n",
      " -0.02822317 -0.04188405 -0.04965526 -0.03219976 -0.04505214 -0.01577411\n",
      " -0.03430831 -0.02831733 -0.02302156 -0.0250212   0.04209797  0.03478757\n",
      "  0.00605822 -0.02295159 -0.01419593  0.02485569 -0.02594708  0.01032634\n",
      "  0.02077831  0.04248172 -0.03347773 -0.0193133   0.01442743 -0.01313727\n",
      "  0.02452079 -0.03606648  0.03781758  0.00453533  0.01293604  0.01877974\n",
      "  0.02680567  0.00203875 -0.04012349 -0.01899138 -0.01008727 -0.03028485\n",
      " -0.05206922 -0.00556219 -0.00436735  0.04699595  0.05301691 -0.01226164\n",
      " -0.01500147 -0.00417984  0.00234437 -0.02987571 -0.00483967  0.00472476\n",
      " -0.02235276 -0.00772991  0.01583623 -0.03110963 -0.01721398  0.01022544\n",
      "  0.00281765 -0.00672141  0.05028738  0.00046117 -0.0076439  -0.03272521\n",
      " -0.04564559 -0.00896189 -0.00171708 -0.01544418 -0.00971952 -0.0206419\n",
      " -0.02951855  0.08155571 -0.04492931  0.01846559  0.03393369 -0.01457957\n",
      "  0.0257708  -0.01757876  0.03819175 -0.01039513 -0.06938634  0.00749025\n",
      "  0.06685008  0.03652105 -0.06088615  0.02996335 -0.053764   -0.05303665\n",
      " -0.00018489 -0.0057014   0.04769699 -0.01054759 -0.00947584 -0.03439894\n",
      "  0.00794796  0.05266313 -0.06628911 -0.00351215  0.02043207 -0.03551864\n",
      " -0.07027759  0.01949598  0.00216976  0.05806893  0.0338277   0.03563298\n",
      " -0.05587678  0.02591515 -0.01749484  0.02151224  0.00930519  0.02801594\n",
      "  0.021378    0.03019115 -0.0050377  -0.01912108 -0.02043442  0.00667087\n",
      "  0.02274017 -0.00286214 -0.05264117 -0.00603516  0.00932103 -0.05290734\n",
      "  0.03500859  0.02803801  0.04854607 -0.04135447  0.00390636 -0.00867199\n",
      " -0.02988533 -0.02848312 -0.0008977   0.03374398 -0.03670037 -0.00663791\n",
      "  0.01455362  0.02060186  0.03746998 -0.04609878 -0.05525704  0.05619434\n",
      " -0.03721964  0.02234641 -0.0156248  -0.01603505 -0.02488251  0.00586092\n",
      " -0.00080716 -0.01328197 -0.00733248  0.00491103  0.02930692  0.00658183\n",
      " -0.02783979  0.04548182  0.0205143   0.0191678   0.04863308  0.00830529\n",
      "  0.02918619 -0.02880418 -0.0303112   0.01285325  0.01355127 -0.0266397\n",
      "  0.05151048  0.02653176  0.02759971 -0.04170644  0.00870126  0.00349747\n",
      "  0.00552701 -0.01979026 -0.00096625  0.00595123 -0.01482369 -0.0014837\n",
      " -0.0024024   0.02130955  0.00534526  0.0524392  -0.01986656 -0.00576565\n",
      "  0.03953197 -0.0215725   0.01166336  0.01186942 -0.0277037   0.02098412\n",
      " -0.0203658  -0.02350698  0.04457332 -0.01386186 -0.01577495 -0.00213371\n",
      "  0.01857863 -0.01688026 -0.02514086 -0.03652302  0.03538911  0.06363007\n",
      " -0.01750231 -0.03829423  0.00263378  0.06018314  0.01233636  0.0395482\n",
      "  0.01984254 -0.00176931 -0.03345512 -0.0152297   0.02167272 -0.03096098\n",
      "  0.05015335  0.0269387   0.0498667   0.05267704 -0.02786161  0.00830583\n",
      " -0.0457253  -0.05424459 -0.02425072 -0.02937835  0.02405136  0.02200555\n",
      "  0.03836822 -0.0486288   0.06895272 -0.03095881 -0.05740897  0.00083035\n",
      "  0.01471007 -0.00975279  0.01341362  0.01001325 -0.01718728  0.02758337\n",
      "  0.03708785 -0.04930452 -0.01718267 -0.00237738  0.02364743 -0.03484913\n",
      "  0.02393319  0.02907634  0.02804325 -0.01049187  0.06313112  0.04197531\n",
      "  0.00226901 -0.02592172  0.06022574 -0.03381176  0.0100823  -0.02414692\n",
      " -0.0076546   0.00790728 -0.01064662 -0.04117286  0.03020812  0.04493223\n",
      " -0.00974261 -0.03187315  0.04910942  0.05243777 -0.05025369  0.04248656\n",
      "  0.00970171  0.00621085  0.01024712 -0.01259813 -0.02350589  0.03996368\n",
      "  0.0203536  -0.02248065 -0.01518097 -0.00580607  0.0559921  -0.00814761\n",
      "  0.00262516  0.00459318  0.03747353 -0.0098862   0.03513776  0.00121514\n",
      " -0.0243612  -0.04813524 -0.02821319  0.02680307  0.04626523 -0.01324537\n",
      "  0.01357217  0.00873572  0.0285306  -0.00132879 -0.03008759 -0.05230459\n",
      "  0.0007703   0.00913836 -0.01303934  0.04526572  0.01872388 -0.01548857\n",
      " -0.01698308  0.0657209   0.05972036  0.0767234  -0.03949977 -0.04371416\n",
      " -0.07079177  0.02574121  0.02670447  0.02377766  0.02427827  0.02790083\n",
      "  0.01766722 -0.00053362  0.01254238 -0.04669249  0.02201029 -0.01628256\n",
      "  0.00881839 -0.05042882  0.03184468 -0.009965   -0.01849684 -0.05774155\n",
      " -0.08775265 -0.03329873 -0.01673093 -0.03964014  0.00859551 -0.01310074\n",
      "  0.00395395  0.05984213  0.00806107 -0.00517808  0.05088934  0.01940664\n",
      " -0.02303281 -0.00854831  0.02043384  0.01798109 -0.01897718  0.02303194\n",
      " -0.0037998   0.00216497 -0.03820031  0.03439036 -0.01562384  0.01403117\n",
      " -0.01261406  0.03280864  0.01681372 -0.01367909 -0.02665314  0.06019842\n",
      "  0.00157628  0.01117133  0.01701017 -0.00278904 -0.01864557  0.02957393\n",
      "  0.01989173  0.02026674 -0.01030897 -0.02190622  0.05829338  0.00276079\n",
      " -0.0505174  -0.02729678 -0.02517364  0.0389993  -0.05853264  0.00491284\n",
      " -0.02979868 -0.03819438]\n"
     ]
    }
   ],
   "source": [
    "embedding = np.array([model.wv[word] for word in model.wv.index_to_key])\n",
    "print(f\"词向量矩阵尺寸: {embedding.shape}\")\n",
    "# 查看某个单词的词向量\n",
    "print(\"单词film, 索引:  \", model.wv.key_to_index['film'], \"向量: \", model.wv['film'])"
   ]
  },
  {
   "cell_type": "code",
   "execution_count": 19,
   "id": "7c0c97b3-585b-48ec-b806-401427f60df0",
   "metadata": {
    "execution": {
     "iopub.execute_input": "2024-07-26T07:06:50.062817Z",
     "iopub.status.busy": "2024-07-26T07:06:50.062352Z",
     "iopub.status.idle": "2024-07-26T07:06:50.269278Z",
     "shell.execute_reply": "2024-07-26T07:06:50.268230Z",
     "shell.execute_reply.started": "2024-07-26T07:06:50.062791Z"
    }
   },
   "outputs": [
    {
     "name": "stdout",
     "output_type": "stream",
     "text": [
      "Bartlett's球状检验: 检验总体变量的相关矩阵是否是单位阵\n",
      "inf 0.0\n",
      "kmo检验:\n",
      "检查变量间的相关性和偏相关性，取值在0-1之间；KMO统计量越接近1，变量间的相关性越强，偏相关性越弱，因子分析的效果越好\n",
      "KMO值为:  0.9991196744780876\n"
     ]
    },
    {
     "name": "stderr",
     "output_type": "stream",
     "text": [
      "/root/miniconda3/lib/python3.8/site-packages/factor_analyzer/factor_analyzer.py:108: RuntimeWarning: divide by zero encountered in log\n",
      "  statistic = -np.log(corr_det) * (n - 1 - (2 * p + 5) / 6)\n",
      "/root/miniconda3/lib/python3.8/site-packages/factor_analyzer/utils.py:244: UserWarning: The inverse of the variance-covariance matrix was calculated using the Moore-Penrose generalized matrix inversion, due to its determinant being at or very close to zero.\n",
      "  warnings.warn(\n"
     ]
    }
   ],
   "source": [
    "# Bartlett's球状检验\n",
    "print('Bartlett\\'s球状检验: 检验总体变量的相关矩阵是否是单位阵')\n",
    "chi_square_value, p_value = calculate_bartlett_sphericity(embedding)\n",
    "print(chi_square_value, p_value)\n",
    "\n",
    "# 导入kmo检验\n",
    "print('kmo检验:')\n",
    "print('检查变量间的相关性和偏相关性，取值在0-1之间；KMO统计量越接近1，变量间的相关性越强，偏相关性越弱，因子分析的效果越好')\n",
    "kmo_all, kmo_model = calculate_kmo(embedding)\n",
    "print('KMO值为: ', kmo_model)"
   ]
  },
  {
   "cell_type": "code",
   "execution_count": 20,
   "id": "2e11ec89-64ba-4d9f-a355-e81dab2e3040",
   "metadata": {
    "execution": {
     "iopub.execute_input": "2024-07-26T07:08:35.458775Z",
     "iopub.status.busy": "2024-07-26T07:08:35.458308Z",
     "iopub.status.idle": "2024-07-26T07:14:45.065585Z",
     "shell.execute_reply": "2024-07-26T07:14:45.064879Z",
     "shell.execute_reply.started": "2024-07-26T07:08:35.458748Z"
    }
   },
   "outputs": [
    {
     "name": "stdout",
     "output_type": "stream",
     "text": [
      "******开始因子分析******\n"
     ]
    }
   ],
   "source": [
    "print('******开始因子分析******')\n",
    "fa = FactorAnalyzer(25, rotation='varimax')\n",
    "fa.fit(embedding)\n",
    "\n",
    "# 特征值、特征向量\n",
    "ev, v = fa.get_eigenvalues()"
   ]
  },
  {
   "cell_type": "code",
   "execution_count": 21,
   "id": "b7e50a86-5577-464b-86cd-d59987302f19",
   "metadata": {
    "execution": {
     "iopub.execute_input": "2024-07-26T07:15:49.528377Z",
     "iopub.status.busy": "2024-07-26T07:15:49.528091Z",
     "iopub.status.idle": "2024-07-26T07:15:49.698375Z",
     "shell.execute_reply": "2024-07-26T07:15:49.697574Z",
     "shell.execute_reply.started": "2024-07-26T07:15:49.528352Z"
    }
   },
   "outputs": [
    {
     "data": {
      "image/png": "[encoded data removed]",
      "text/plain": [
       "<Figure size 640x480 with 1 Axes>"
      ]
     },
     "metadata": {},
     "output_type": "display_data"
    }
   ],
   "source": [
    "# 可视化, plot横轴是指标个数，纵轴是ev值\n",
    "plt.scatter(range(1, embedding.shape[1]+1), ev)\n",
    "plt.plot(range(1, embedding.shape[1]+1), ev)\n",
    "plt.title('Scree Plot')\n",
    "plt.xlabel('Factors')\n",
    "plt.ylabel('Eigenvalue')\n",
    "plt.grid()\n",
    "plt.show()\n",
    "# plt.savefig('ev.png')"
   ]
  },
  {
   "cell_type": "code",
   "execution_count": 22,
   "id": "1407561b-af82-4b48-bdaa-3b85d74ef79f",
   "metadata": {
    "execution": {
     "iopub.execute_input": "2024-07-26T07:15:52.496692Z",
     "iopub.status.busy": "2024-07-26T07:15:52.496413Z",
     "iopub.status.idle": "2024-07-26T07:15:52.669863Z",
     "shell.execute_reply": "2024-07-26T07:15:52.669051Z",
     "shell.execute_reply.started": "2024-07-26T07:15:52.496668Z"
    }
   },
   "outputs": [
    {
     "data": {
      "image/png": "[encoded data removed]",
      "text/plain": [
       "<Figure size 640x480 with 1 Axes>"
      ]
     },
     "metadata": {},
     "output_type": "display_data"
    }
   ],
   "source": [
    "# 前三十\n",
    "plt.scatter(range(1, 31), ev[:30])\n",
    "plt.plot(range(1, 31), ev[:30])\n",
    "plt.title('Scree Plot')\n",
    "plt.xlabel('Factors')\n",
    "plt.ylabel('Eigenvalue')\n",
    "plt.grid()\n",
    "plt.show()\n",
    "# plt.savefig(file_path + 'ev30.png')"
   ]
  },
  {
   "cell_type": "code",
   "execution_count": 23,
   "id": "3bc2e336-fea9-4d12-b97f-d3257459ab60",
   "metadata": {
    "execution": {
     "iopub.execute_input": "2024-07-26T07:16:00.229572Z",
     "iopub.status.busy": "2024-07-26T07:16:00.229062Z",
     "iopub.status.idle": "2024-07-26T07:20:39.468082Z",
     "shell.execute_reply": "2024-07-26T07:20:39.466991Z",
     "shell.execute_reply.started": "2024-07-26T07:16:00.229522Z"
    }
   },
   "outputs": [
    {
     "name": "stdout",
     "output_type": "stream",
     "text": [
      "因子分析结果矩阵:  (512, 8)\n"
     ]
    }
   ],
   "source": [
    "fa = FactorAnalyzer(8, rotation=\"promax\")\n",
    "fa.fit(embedding)\n",
    "print(\"因子分析结果矩阵: \", fa.loadings_.shape)\n",
    "\n",
    "# 512*8(变量个数*因子个数)\n",
    "index = fa.loadings_.argmax(axis=1)\n",
    "res = np.array([[i, idx] for i, idx in enumerate(index)])\n",
    "\n",
    "data_1 = pd.DataFrame(fa.loadings_, columns=['fa1', 'fa2', 'fa3', 'fa4', 'fa5', 'fa6', 'fa7', 'fa8'])\n",
    "data_2 = pd.DataFrame(res, columns=['Dimension', 'Factor'])\n",
    "with pd.ExcelWriter(file_path + \"colaFA.xlsx\") as writer1:\n",
    "    data_1.to_excel(writer1, sheet_name=\"Sheet1\")\n",
    "    data_2.to_excel(writer1, sheet_name=\"Sheet2\")\n",
    "    writer1.save()"
   ]
  },
  {
   "cell_type": "code",
   "execution_count": 24,
   "id": "e77bd34f-fbbe-4f33-a058-4b8e8514ae89",
   "metadata": {
    "execution": {
     "iopub.execute_input": "2024-07-26T07:21:43.121908Z",
     "iopub.status.busy": "2024-07-26T07:21:43.121186Z",
     "iopub.status.idle": "2024-07-26T07:21:44.388439Z",
     "shell.execute_reply": "2024-07-26T07:21:44.387561Z",
     "shell.execute_reply.started": "2024-07-26T07:21:43.121858Z"
    }
   },
   "outputs": [
    {
     "data": {
      "text/plain": [
       "Text(120.72222222222221, 0.5, 'Dimension')"
      ]
     },
     "execution_count": 24,
     "metadata": {},
     "output_type": "execute_result"
    },
    {
     "data": {
      "image/png": "[encoded data removed]",
      "text/plain": [
       "<Figure size 1200x2500 with 2 Axes>"
      ]
     },
     "metadata": {},
     "output_type": "display_data"
    }
   ],
   "source": [
    "# 因子分析结果可视化\n",
    "df_cm = pd.DataFrame(np.abs(fa.loadings_))\n",
    "fig, ax = plt.subplots(figsize=(12, 25))\n",
    "sns.heatmap(df_cm, annot=None, cmap='YlGnBu', ax=ax)  # cbar_kws\n",
    "\n",
    "ax.tick_params(axis='x', labelsize=15)\n",
    "ax.set_title(\"Factor Analysis\", fontsize=12)\n",
    "ax.set_ylabel(\"Dimension\")"
   ]
  },
  {
   "cell_type": "code",
   "execution_count": 25,
   "id": "dc86f192-b714-457c-ab6e-69d306d35638",
   "metadata": {
    "execution": {
     "iopub.execute_input": "2024-07-26T07:21:56.473975Z",
     "iopub.status.busy": "2024-07-26T07:21:56.473687Z",
     "iopub.status.idle": "2024-07-26T07:21:56.552084Z",
     "shell.execute_reply": "2024-07-26T07:21:56.551298Z",
     "shell.execute_reply.started": "2024-07-26T07:21:56.473951Z"
    }
   },
   "outputs": [
    {
     "data": {
      "text/plain": [
       "<Figure size 640x480 with 0 Axes>"
      ]
     },
     "metadata": {},
     "output_type": "display_data"
    }
   ],
   "source": [
    "# 保存可视化结果图\n",
    "plt.savefig(file_path + 'cola_dimension.png')"
   ]
  },
  {
   "cell_type": "markdown",
   "id": "8e37631e-3c8d-4003-a057-96be6e32c930",
   "metadata": {},
   "source": [
    "# 模型架构"
   ]
  },
  {
   "cell_type": "markdown",
   "id": "8e757819-312b-42aa-a4fe-30681cd93e90",
   "metadata": {},
   "source": [
    "## FAM"
   ]
  },
  {
   "cell_type": "code",
   "execution_count": 11,
   "id": "a98dc262-fd1f-49dd-a2a1-982bbeb722c0",
   "metadata": {
    "execution": {
     "iopub.execute_input": "2024-07-26T12:13:35.173831Z",
     "iopub.status.busy": "2024-07-26T12:13:35.173537Z",
     "iopub.status.idle": "2024-07-26T12:13:35.391958Z",
     "shell.execute_reply": "2024-07-26T12:13:35.391078Z",
     "shell.execute_reply.started": "2024-07-26T12:13:35.173807Z"
    }
   },
   "outputs": [],
   "source": [
    "import torch\n",
    "from torch import nn\n",
    "import numpy as np\n",
    "import pandas as pd\n",
    "from d2l import torch as d2l\n",
    "import matplotlib.pyplot as plt\n",
    "from tqdm import tqdm\n",
    "import time\n",
    "import math\n",
    "from gensim.models import word2vec"
   ]
  },
  {
   "cell_type": "code",
   "execution_count": 12,
   "id": "0695c9e6-651f-484c-b054-14cf7bc0fd63",
   "metadata": {
    "execution": {
     "iopub.execute_input": "2024-07-26T12:13:37.091841Z",
     "iopub.status.busy": "2024-07-26T12:13:37.091446Z",
     "iopub.status.idle": "2024-07-26T12:13:37.235732Z",
     "shell.execute_reply": "2024-07-26T12:13:37.234902Z",
     "shell.execute_reply.started": "2024-07-26T12:13:37.091814Z"
    }
   },
   "outputs": [],
   "source": [
    "class FamAttention(nn.Module):\n",
    "    \"\"\"修改多头注意力，针对嵌入512维，8个head的模型\"\"\"\n",
    "    def __init__(self, num_hiddens, dim_dict, dropout, bias=False, **kwargs):\n",
    "        super(FamAttention, self).__init__(**kwargs)\n",
    "        self.attention = d2l.DotProductAttention(dropout)\n",
    "        self.W_o = nn.Linear(num_hiddens, num_hiddens, bias=bias)\n",
    "        self.dim_dict = dim_dict\n",
    "        self.dim_0 = [dim for dim, idx in self.dim_dict.items() if idx == 0]\n",
    "        self.dim_1 = [dim for dim, idx in self.dim_dict.items() if idx == 1]\n",
    "        self.dim_2 = [dim for dim, idx in self.dim_dict.items() if idx == 2]\n",
    "        self.dim_3 = [dim for dim, idx in self.dim_dict.items() if idx == 3]\n",
    "        self.dim_4 = [dim for dim, idx in self.dim_dict.items() if idx == 4]\n",
    "        self.dim_5 = [dim for dim, idx in self.dim_dict.items() if idx == 5]\n",
    "        self.dim_6 = [dim for dim, idx in self.dim_dict.items() if idx == 6]\n",
    "        self.dim_7 = [dim for dim, idx in self.dim_dict.items() if idx == 7]\n",
    "        # self.list_concat = torch.cat((self.dim_0, self.dim_1, self.dim_2, self.dim_3, self.dim_4, self.dim_5,\n",
    "        # self.dim_6, self.dim_7))\n",
    "        self.len_0, self.len_1, self.len_2, self.len_3, self.len_4, self.len_5, self.len_6, self.len_7 = len(\n",
    "            self.dim_0), len(self.dim_1), len(self.dim_2), len(self.dim_3), len(self.dim_4), len(self.dim_5),\\\n",
    "            len(self.dim_6), len(self.dim_7)\n",
    "\n",
    "        self.Wq0 = nn.Linear(self.len_0, self.len_0, bias=bias)\n",
    "        self.Wq1 = nn.Linear(self.len_1, self.len_1, bias=bias)\n",
    "        self.Wq2 = nn.Linear(self.len_2, self.len_2, bias=bias)\n",
    "        self.Wq3 = nn.Linear(self.len_3, self.len_3, bias=bias)\n",
    "        self.Wq4 = nn.Linear(self.len_4, self.len_4, bias=bias)\n",
    "        self.Wq5 = nn.Linear(self.len_5, self.len_5, bias=bias)\n",
    "        self.Wq6 = nn.Linear(self.len_6, self.len_6, bias=bias)\n",
    "        self.Wq7 = nn.Linear(self.len_7, self.len_7, bias=bias)\n",
    "\n",
    "        self.Wk0 = nn.Linear(self.len_0, self.len_0, bias=bias)\n",
    "        self.Wk1 = nn.Linear(self.len_1, self.len_1, bias=bias)\n",
    "        self.Wk2 = nn.Linear(self.len_2, self.len_2, bias=bias)\n",
    "        self.Wk3 = nn.Linear(self.len_3, self.len_3, bias=bias)\n",
    "        self.Wk4 = nn.Linear(self.len_4, self.len_4, bias=bias)\n",
    "        self.Wk5 = nn.Linear(self.len_5, self.len_5, bias=bias)\n",
    "        self.Wk6 = nn.Linear(self.len_6, self.len_6, bias=bias)\n",
    "        self.Wk7 = nn.Linear(self.len_7, self.len_7, bias=bias)\n",
    "\n",
    "        self.Wv0 = nn.Linear(self.len_0, self.len_0, bias=bias)\n",
    "        self.Wv1 = nn.Linear(self.len_1, self.len_1, bias=bias)\n",
    "        self.Wv2 = nn.Linear(self.len_2, self.len_2, bias=bias)\n",
    "        self.Wv3 = nn.Linear(self.len_3, self.len_3, bias=bias)\n",
    "        self.Wv4 = nn.Linear(self.len_4, self.len_4, bias=bias)\n",
    "        self.Wv5 = nn.Linear(self.len_5, self.len_5, bias=bias)\n",
    "        self.Wv6 = nn.Linear(self.len_6, self.len_6, bias=bias)\n",
    "        self.Wv7 = nn.Linear(self.len_7, self.len_7, bias=bias)\n",
    "\n",
    "    def forward(self, queries, keys, values, valid_lens):\n",
    "        def assemble(output_concat, list_concat):\n",
    "            reslist = []\n",
    "            for i in range(512):\n",
    "                reslist.append(list_concat.index(i))\n",
    "            return torch.index_select(output_concat, -1, torch.tensor(reslist, device=output_concat.device))\n",
    "\n",
    "        # queries, keys, values的形状: (batch_size，查询或者“键－值”对的个数，num_hiddens)\n",
    "        # qi, ki, vi的形状：(batch_size, 查询或者“键－值”对的个数， self.len_i)\n",
    "        q0, k0, v0 = torch.index_select(queries, -1, torch.tensor(self.dim_0, device=queries.device)), \\\n",
    "            torch.index_select(keys, -1, torch.tensor(self.dim_0, device=keys.device)), torch.index_select(\n",
    "            values, -1, torch.tensor(self.dim_0, device=values.device))\n",
    "        q1, k1, v1 = torch.index_select(queries, -1, torch.tensor(self.dim_1, device=queries.device)), \\\n",
    "            torch.index_select(keys, -1, torch.tensor(self.dim_1, device=keys.device)), torch.index_select(\n",
    "            values, -1, torch.tensor(self.dim_1, device=values.device))\n",
    "        q2, k2, v2 = torch.index_select(queries, -1, torch.tensor(self.dim_2, device=queries.device)), \\\n",
    "            torch.index_select(keys, -1, torch.tensor(self.dim_2, device=keys.device)), torch.index_select(\n",
    "            values, -1, torch.tensor(self.dim_2, device=values.device))\n",
    "        q3, k3, v3 = torch.index_select(queries, -1, torch.tensor(self.dim_3, device=queries.device)), \\\n",
    "            torch.index_select(keys, -1, torch.tensor(self.dim_3, device=keys.device)), torch.index_select(\n",
    "            values, -1, torch.tensor(self.dim_3, device=values.device))\n",
    "        q4, k4, v4 = torch.index_select(queries, -1, torch.tensor(self.dim_4, device=queries.device)), \\\n",
    "            torch.index_select(keys, -1, torch.tensor(self.dim_4, device=keys.device)), torch.index_select(\n",
    "            values, -1, torch.tensor(self.dim_4, device=values.device))\n",
    "        q5, k5, v5 = torch.index_select(queries, -1, torch.tensor(self.dim_5, device=queries.device)), \\\n",
    "            torch.index_select(keys, -1, torch.tensor(self.dim_5, device=keys.device)), torch.index_select(\n",
    "            values, -1, torch.tensor(self.dim_5, device=values.device))\n",
    "        q6, k6, v6 = torch.index_select(queries, -1, torch.tensor(self.dim_6, device=queries.device)), \\\n",
    "            torch.index_select(keys, -1, torch.tensor(self.dim_6, device=keys.device)), torch.index_select(\n",
    "            values, -1, torch.tensor(self.dim_6, device=values.device))\n",
    "        q7, k7, v7 = torch.index_select(queries, -1, torch.tensor(self.dim_7, device=queries.device)), \\\n",
    "            torch.index_select(keys, -1, torch.tensor(self.dim_7, device=keys.device)), torch.index_select(\n",
    "            values, -1, torch.tensor(self.dim_7, device=values.device))\n",
    "\n",
    "        head0 = self.attention(self.Wq0(q0), self.Wk0(k0), self.Wv0(v0), valid_lens)\n",
    "        head1 = self.attention(self.Wq1(q1), self.Wk1(k1), self.Wv1(v1), valid_lens)\n",
    "        head2 = self.attention(self.Wq2(q2), self.Wk2(k2), self.Wv2(v2), valid_lens)\n",
    "        head3 = self.attention(self.Wq3(q3), self.Wk3(k3), self.Wv3(v3), valid_lens)\n",
    "        head4 = self.attention(self.Wq4(q4), self.Wk4(k4), self.Wv4(v4), valid_lens)\n",
    "        head5 = self.attention(self.Wq5(q5), self.Wk5(k5), self.Wv5(v5), valid_lens)\n",
    "        head6 = self.attention(self.Wq6(q6), self.Wk6(k6), self.Wv6(v6), valid_lens)\n",
    "        head7 = self.attention(self.Wq7(q7), self.Wk7(k7), self.Wv7(v7), valid_lens)\n",
    "\n",
    "        output_concat = torch.cat((head0, head1, head2, head3, head4, head5, head6, head7), dim=-1)\n",
    "        list_concat = self.dim_0 + self.dim_1 + self.dim_2 + self.dim_3 + self.dim_4 + self.dim_5 + self.dim_6 + self.dim_7\n",
    "        return self.W_o(assemble(output_concat, list_concat))"
   ]
  },
  {
   "cell_type": "code",
   "execution_count": 17,
   "id": "d9ccd849-8656-4b70-972a-45b80c888cae",
   "metadata": {
    "execution": {
     "iopub.execute_input": "2024-07-26T12:15:11.240971Z",
     "iopub.status.busy": "2024-07-26T12:15:11.240683Z",
     "iopub.status.idle": "2024-07-26T12:15:11.246495Z",
     "shell.execute_reply": "2024-07-26T12:15:11.245906Z",
     "shell.execute_reply.started": "2024-07-26T12:15:11.240946Z"
    }
   },
   "outputs": [],
   "source": [
    "# 编码器块\n",
    "class EncoderBlock(nn.Module):\n",
    "    \"\"\"transformer编码器块\"\"\"\n",
    "\n",
    "    def __init__(self, num_hiddens, norm_shape, ffn_num_input,\n",
    "                 ffn_num_hiddens, dim_dict, dropout, use_bias=False, **kwargs):\n",
    "        super(EncoderBlock, self).__init__(**kwargs)\n",
    "        self.attention = FamAttention(num_hiddens, dim_dict, dropout, use_bias)\n",
    "        self.addnorm1 = d2l.AddNorm(norm_shape, dropout)\n",
    "        self.ffn = d2l.PositionWiseFFN(\n",
    "            ffn_num_input, ffn_num_hiddens, num_hiddens)\n",
    "        self.addnorm2 = d2l.AddNorm(norm_shape, dropout)\n",
    "\n",
    "    def forward(self, X, valid_lens):\n",
    "        Y = self.addnorm1(X, self.attention(X, X, X, valid_lens))\n",
    "        return self.addnorm2(Y, self.ffn(Y))"
   ]
  },
  {
   "cell_type": "code",
   "execution_count": 18,
   "id": "957570e4-19f6-4e68-9001-a36b49d336b4",
   "metadata": {
    "execution": {
     "iopub.execute_input": "2024-07-26T12:15:12.995972Z",
     "iopub.status.busy": "2024-07-26T12:15:12.995243Z",
     "iopub.status.idle": "2024-07-26T12:15:13.009205Z",
     "shell.execute_reply": "2024-07-26T12:15:13.008199Z",
     "shell.execute_reply.started": "2024-07-26T12:15:12.995917Z"
    }
   },
   "outputs": [],
   "source": [
    "class FamEncoder(d2l.Encoder):\n",
    "    \"\"\"采用BERT编码器结构\"\"\"\n",
    "\n",
    "    def __init__(self, vocab_size, num_hiddens, norm_shape, ffn_num_input,\n",
    "                 ffn_num_hiddens, dim_dict, num_layers, dropout,\n",
    "                 use_bias=False, **kwargs):\n",
    "        super(FamEncoder, self).__init__(**kwargs)\n",
    "        self.num_hiddens = num_hiddens\n",
    "        self.embedding = nn.Embedding(vocab_size, num_hiddens)\n",
    "        self.pos_encoding = d2l.PositionalEncoding(num_hiddens, dropout)\n",
    "        self.blks = nn.Sequential()\n",
    "        self.agg_layer = nn.Sequential(\n",
    "                                    nn.Linear(num_hiddens, num_hiddens),\n",
    "                                    nn.ReLU())\n",
    "        self.output = nn.Linear(num_hiddens, 2)\n",
    "        for i in range(num_layers):\n",
    "            self.blks.add_module(f\"{i}\", EncoderBlock(\n",
    "                num_hiddens, norm_shape, ffn_num_input,\n",
    "                ffn_num_hiddens, dim_dict, dropout, use_bias))\n",
    "\n",
    "    def forward(self, X, valid_lens, *args):\n",
    "        # X的形状保持不变：（批量大小，最大序列长度，num_hiddens）\n",
    "        X = self.pos_encoding(self.embedding(X) * math.sqrt(self.num_hiddens))\n",
    "        self.attention_weights = [None] * len(self.blks)\n",
    "        for i, blk in enumerate(self.blks):\n",
    "            X = blk(X, valid_lens)\n",
    "            self.attention_weights[i] = blk.attention.attention.attention_weights\n",
    "        # 取句首'<cls>'标签对应的输出向量用于分类\n",
    "        return self.output(self.agg_layer(X[:, 0, :]))"
   ]
  },
  {
   "cell_type": "markdown",
   "id": "150e12f0-5554-4c20-9167-9c410d3e7ee4",
   "metadata": {},
   "source": [
    "## Baseline"
   ]
  },
  {
   "cell_type": "code",
   "execution_count": 36,
   "id": "2d2b8e30-a8d8-488e-a86c-9004785a0db1",
   "metadata": {
    "execution": {
     "iopub.execute_input": "2024-07-26T12:41:55.895865Z",
     "iopub.status.busy": "2024-07-26T12:41:55.895517Z",
     "iopub.status.idle": "2024-07-26T12:41:55.903790Z",
     "shell.execute_reply": "2024-07-26T12:41:55.903225Z",
     "shell.execute_reply.started": "2024-07-26T12:41:55.895839Z"
    }
   },
   "outputs": [],
   "source": [
    "class TransformerEncoder(d2l.Encoder):\n",
    "    \"\"\"transformer编码器\"\"\"\n",
    "    def __init__(self, vocab_size, key_size, query_size, value_size,\n",
    "                 num_hiddens, norm_shape, ffn_num_input, ffn_num_hiddens,\n",
    "                 num_heads, num_layers, dropout, use_bias=False, **kwargs):\n",
    "        super(TransformerEncoder, self).__init__(**kwargs)\n",
    "        self.num_hiddens = num_hiddens\n",
    "        self.embedding = nn.Embedding(vocab_size, num_hiddens)\n",
    "        self.pos_encoding = d2l.PositionalEncoding(num_hiddens, dropout)\n",
    "        self.blks = nn.Sequential()\n",
    "        self.outhidden = nn.Sequential(\n",
    "                                    nn.Linear(num_hiddens, num_hiddens),\n",
    "                                    nn.ReLU())\n",
    "        self.Dense = nn.Linear(num_hiddens, 2)\n",
    "        for i in range(num_layers):\n",
    "            self.blks.add_module(\"block\"+str(i),\n",
    "                d2l.EncoderBlock(key_size, query_size, value_size, num_hiddens,\n",
    "                             norm_shape, ffn_num_input, ffn_num_hiddens,\n",
    "                             num_heads, dropout, use_bias))\n",
    "\n",
    "    def forward(self, X, valid_lens, *args):\n",
    "        # 因为位置编码值在-1和1之间，\n",
    "        # 因此嵌入值乘以嵌入维度的平方根进行缩放，然后再与位置编码相加。\n",
    "        X = self.pos_encoding(self.embedding(X) * math.sqrt(self.num_hiddens))\n",
    "        self.attention_weights = [None] * len(self.blks)\n",
    "        for i, blk in enumerate(self.blks):\n",
    "            X = blk(X, valid_lens)\n",
    "            self.attention_weights[\n",
    "                i] = blk.attention.attention.attention_weights\n",
    "        # 取句首'cls'token的向量用于分类\n",
    "        return self.Dense(self.outhidden(X[:, 0, :]))"
   ]
  },
  {
   "cell_type": "markdown",
   "id": "161ccc96-369b-4d01-acd3-3063cf77d2b0",
   "metadata": {},
   "source": [
    "# 训练准备"
   ]
  },
  {
   "cell_type": "markdown",
   "id": "e3eb06b4-8fb6-4a06-a60a-a2acb02542de",
   "metadata": {},
   "source": [
    "## 参数和超参数, 实例化模型"
   ]
  },
  {
   "cell_type": "code",
   "execution_count": 49,
   "id": "b58184e0-1544-4878-bc58-bf88e96ef6c1",
   "metadata": {
    "execution": {
     "iopub.execute_input": "2024-07-26T12:48:04.455388Z",
     "iopub.status.busy": "2024-07-26T12:48:04.455009Z",
     "iopub.status.idle": "2024-07-26T12:48:04.459229Z",
     "shell.execute_reply": "2024-07-26T12:48:04.458569Z",
     "shell.execute_reply.started": "2024-07-26T12:48:04.455361Z"
    }
   },
   "outputs": [],
   "source": [
    "# 参数和超参数\n",
    "num_hiddens, num_layers, dropout = 512, 3, 0.1\n",
    "ffn_num_input, ffn_num_hiddens, num_heads, norm_shape = 512, 2048, 8, [512]\n",
    "lr, num_epochs, device = 5e-3, 20, d2l.try_gpu()"
   ]
  },
  {
   "cell_type": "markdown",
   "id": "8d483039-eaf7-4145-910d-f30230e4c42e",
   "metadata": {},
   "source": [
    "### FAM"
   ]
  },
  {
   "cell_type": "code",
   "execution_count": 50,
   "id": "9ab0347d-93ae-4f88-a986-57b5a4801490",
   "metadata": {
    "execution": {
     "iopub.execute_input": "2024-07-26T12:48:12.994074Z",
     "iopub.status.busy": "2024-07-26T12:48:12.993790Z",
     "iopub.status.idle": "2024-07-26T12:48:13.041438Z",
     "shell.execute_reply": "2024-07-26T12:48:13.040831Z",
     "shell.execute_reply.started": "2024-07-26T12:48:12.994049Z"
    }
   },
   "outputs": [],
   "source": [
    "file_path = '/root/autodl-tmp/fam_classifier/cola/'\n",
    "excelfile = pd.read_excel(file_path + 'colaFA.xlsx', sheet_name='Sheet2', header=0, index_col=0)\n",
    "dim_dict = dict()\n",
    "for i in range(512):\n",
    "    dim_dict[excelfile['Dimension'].values[i]] = excelfile['Factor'].values[i]"
   ]
  },
  {
   "cell_type": "code",
   "execution_count": 51,
   "id": "bd214d62-65d6-4de8-af4b-c30cba056dfc",
   "metadata": {
    "execution": {
     "iopub.execute_input": "2024-07-26T12:48:14.651896Z",
     "iopub.status.busy": "2024-07-26T12:48:14.651392Z",
     "iopub.status.idle": "2024-07-26T12:48:14.728003Z",
     "shell.execute_reply": "2024-07-26T12:48:14.727201Z",
     "shell.execute_reply.started": "2024-07-26T12:48:14.651864Z"
    }
   },
   "outputs": [
    {
     "name": "stdout",
     "output_type": "stream",
     "text": [
      "11,034,560 total parameters.\n",
      "11,034,560 training parameters.\n"
     ]
    }
   ],
   "source": [
    "net = FamEncoder(\n",
    "    len(vocab), num_hiddens, norm_shape, ffn_num_input,\n",
    "    ffn_num_hiddens, dim_dict, num_layers, dropout)\n",
    "# Find total parameters and trainable parameters\n",
    "total_params = sum(p.numel() for p in net.parameters())\n",
    "print(f'{total_params:,} total parameters.')\n",
    "total_trainable_params = sum(p.numel() for p in net.parameters() if p.requires_grad)\n",
    "print(f'{total_trainable_params:,} training parameters.')"
   ]
  },
  {
   "cell_type": "markdown",
   "id": "b539bde1-81b0-4339-a6c6-764863806834",
   "metadata": {},
   "source": [
    "### Baseline"
   ]
  },
  {
   "cell_type": "code",
   "execution_count": 60,
   "id": "99677100-91b6-4814-a515-d8074ce3559f",
   "metadata": {
    "execution": {
     "iopub.execute_input": "2024-07-26T13:12:30.924125Z",
     "iopub.status.busy": "2024-07-26T13:12:30.923831Z",
     "iopub.status.idle": "2024-07-26T13:12:31.005530Z",
     "shell.execute_reply": "2024-07-26T13:12:31.004958Z",
     "shell.execute_reply.started": "2024-07-26T13:12:30.924100Z"
    }
   },
   "outputs": [
    {
     "name": "stdout",
     "output_type": "stream",
     "text": [
      "12,764,162 total parameters.\n",
      "12,764,162 training parameters.\n"
     ]
    }
   ],
   "source": [
    "# 实例化 Baseline 模型\n",
    "ffn_num_input, ffn_num_hiddens, num_heads = 512, 2048, 8\n",
    "key_size, query_size, value_size = 512, 512, 512\n",
    "norm_shape = [512]\n",
    "basenet = TransformerEncoder(\n",
    "    len(vocab), key_size, query_size, value_size, num_hiddens,\n",
    "    norm_shape, ffn_num_input, ffn_num_hiddens, num_heads,\n",
    "    num_layers, dropout)\n",
    "\n",
    "# Find total parameters and trainable parameters\n",
    "total_params = sum(p.numel() for p in basenet.parameters())\n",
    "print(f'{total_params:,} total parameters.')\n",
    "total_trainable_params = sum(p.numel() for p in basenet.parameters() if p.requires_grad)\n",
    "print(f'{total_trainable_params:,} training parameters.')"
   ]
  },
  {
   "cell_type": "markdown",
   "id": "163ffcd1-9dc9-49e4-8db7-8ae75fe4cf1c",
   "metadata": {},
   "source": [
    "## 初始化模型参数"
   ]
  },
  {
   "cell_type": "code",
   "execution_count": 61,
   "id": "813d7075-95ab-4505-ae70-2ff1009c1ddf",
   "metadata": {
    "execution": {
     "iopub.execute_input": "2024-07-26T13:14:09.986102Z",
     "iopub.status.busy": "2024-07-26T13:14:09.985808Z",
     "iopub.status.idle": "2024-07-26T13:14:10.066689Z",
     "shell.execute_reply": "2024-07-26T13:14:10.065998Z",
     "shell.execute_reply.started": "2024-07-26T13:14:09.986078Z"
    }
   },
   "outputs": [],
   "source": [
    "# 初始化embedding层模型权重\n",
    "def get_embedding_weights(vocab, word2vecmodel, num_hiddens):\n",
    "    wordlist = word2vecmodel.wv.index_to_key\n",
    "    n = len(vocab)\n",
    "    data = np.random.randn(n, num_hiddens)\n",
    "    for i in range(n):\n",
    "        word = vocab.idx_to_token[i]\n",
    "        data[i] = np.array(word2vecmodel.wv[word]) if word in wordlist else data[i]\n",
    "    return torch.tensor(data, dtype=torch.float32)\n",
    "\n",
    "\n",
    "def init_embedding_weights(module, weights):\n",
    "    module.weight.data = weights\n",
    "\n",
    "\n",
    "# 初始化线性层权重\n",
    "def xavier_init_weights(m):\n",
    "    if type(m) in (nn.Linear, nn.Conv1d):\n",
    "        nn.init.xavier_uniform_(m.weight)\n",
    "\n",
    "\n",
    "file_path = '/root/autodl-tmp/fam_classifier/cola/'\n",
    "word2vecmodel = word2vec.Word2Vec.load(file_path + 'cola_word_vec_sg_min1.bin')\n",
    "# weights = get_embedding_weights(vocab, word2vecmodel, num_hiddens)"
   ]
  },
  {
   "cell_type": "markdown",
   "id": "9137c914-8f26-4ff3-afec-27fc29327564",
   "metadata": {},
   "source": [
    "### FAM"
   ]
  },
  {
   "cell_type": "code",
   "execution_count": 53,
   "id": "c922d681-4b73-4f5a-a672-2b7afa28fabf",
   "metadata": {
    "execution": {
     "iopub.execute_input": "2024-07-26T12:48:36.780937Z",
     "iopub.status.busy": "2024-07-26T12:48:36.780644Z",
     "iopub.status.idle": "2024-07-26T12:48:37.273994Z",
     "shell.execute_reply": "2024-07-26T12:48:37.273470Z",
     "shell.execute_reply.started": "2024-07-26T12:48:36.780912Z"
    },
    "scrolled": true
   },
   "outputs": [
    {
     "data": {
      "text/plain": [
       "FamEncoder(\n",
       "  (embedding): Embedding(5956, 512)\n",
       "  (pos_encoding): PositionalEncoding(\n",
       "    (dropout): Dropout(p=0.1, inplace=False)\n",
       "  )\n",
       "  (blks): Sequential(\n",
       "    (0): EncoderBlock(\n",
       "      (attention): FamAttention(\n",
       "        (attention): DotProductAttention(\n",
       "          (dropout): Dropout(p=0.1, inplace=False)\n",
       "        )\n",
       "        (W_o): Linear(in_features=512, out_features=512, bias=False)\n",
       "        (Wq0): Linear(in_features=210, out_features=210, bias=False)\n",
       "        (Wq1): Linear(in_features=140, out_features=140, bias=False)\n",
       "        (Wq2): Linear(in_features=64, out_features=64, bias=False)\n",
       "        (Wq3): Linear(in_features=28, out_features=28, bias=False)\n",
       "        (Wq4): Linear(in_features=28, out_features=28, bias=False)\n",
       "        (Wq5): Linear(in_features=17, out_features=17, bias=False)\n",
       "        (Wq6): Linear(in_features=13, out_features=13, bias=False)\n",
       "        (Wq7): Linear(in_features=12, out_features=12, bias=False)\n",
       "        (Wk0): Linear(in_features=210, out_features=210, bias=False)\n",
       "        (Wk1): Linear(in_features=140, out_features=140, bias=False)\n",
       "        (Wk2): Linear(in_features=64, out_features=64, bias=False)\n",
       "        (Wk3): Linear(in_features=28, out_features=28, bias=False)\n",
       "        (Wk4): Linear(in_features=28, out_features=28, bias=False)\n",
       "        (Wk5): Linear(in_features=17, out_features=17, bias=False)\n",
       "        (Wk6): Linear(in_features=13, out_features=13, bias=False)\n",
       "        (Wk7): Linear(in_features=12, out_features=12, bias=False)\n",
       "        (Wv0): Linear(in_features=210, out_features=210, bias=False)\n",
       "        (Wv1): Linear(in_features=140, out_features=140, bias=False)\n",
       "        (Wv2): Linear(in_features=64, out_features=64, bias=False)\n",
       "        (Wv3): Linear(in_features=28, out_features=28, bias=False)\n",
       "        (Wv4): Linear(in_features=28, out_features=28, bias=False)\n",
       "        (Wv5): Linear(in_features=17, out_features=17, bias=False)\n",
       "        (Wv6): Linear(in_features=13, out_features=13, bias=False)\n",
       "        (Wv7): Linear(in_features=12, out_features=12, bias=False)\n",
       "      )\n",
       "      (addnorm1): AddNorm(\n",
       "        (dropout): Dropout(p=0.1, inplace=False)\n",
       "        (ln): LayerNorm((512,), eps=1e-05, elementwise_affine=True)\n",
       "      )\n",
       "      (ffn): PositionWiseFFN(\n",
       "        (dense1): Linear(in_features=512, out_features=2048, bias=True)\n",
       "        (relu): ReLU()\n",
       "        (dense2): Linear(in_features=2048, out_features=512, bias=True)\n",
       "      )\n",
       "      (addnorm2): AddNorm(\n",
       "        (dropout): Dropout(p=0.1, inplace=False)\n",
       "        (ln): LayerNorm((512,), eps=1e-05, elementwise_affine=True)\n",
       "      )\n",
       "    )\n",
       "    (1): EncoderBlock(\n",
       "      (attention): FamAttention(\n",
       "        (attention): DotProductAttention(\n",
       "          (dropout): Dropout(p=0.1, inplace=False)\n",
       "        )\n",
       "        (W_o): Linear(in_features=512, out_features=512, bias=False)\n",
       "        (Wq0): Linear(in_features=210, out_features=210, bias=False)\n",
       "        (Wq1): Linear(in_features=140, out_features=140, bias=False)\n",
       "        (Wq2): Linear(in_features=64, out_features=64, bias=False)\n",
       "        (Wq3): Linear(in_features=28, out_features=28, bias=False)\n",
       "        (Wq4): Linear(in_features=28, out_features=28, bias=False)\n",
       "        (Wq5): Linear(in_features=17, out_features=17, bias=False)\n",
       "        (Wq6): Linear(in_features=13, out_features=13, bias=False)\n",
       "        (Wq7): Linear(in_features=12, out_features=12, bias=False)\n",
       "        (Wk0): Linear(in_features=210, out_features=210, bias=False)\n",
       "        (Wk1): Linear(in_features=140, out_features=140, bias=False)\n",
       "        (Wk2): Linear(in_features=64, out_features=64, bias=False)\n",
       "        (Wk3): Linear(in_features=28, out_features=28, bias=False)\n",
       "        (Wk4): Linear(in_features=28, out_features=28, bias=False)\n",
       "        (Wk5): Linear(in_features=17, out_features=17, bias=False)\n",
       "        (Wk6): Linear(in_features=13, out_features=13, bias=False)\n",
       "        (Wk7): Linear(in_features=12, out_features=12, bias=False)\n",
       "        (Wv0): Linear(in_features=210, out_features=210, bias=False)\n",
       "        (Wv1): Linear(in_features=140, out_features=140, bias=False)\n",
       "        (Wv2): Linear(in_features=64, out_features=64, bias=False)\n",
       "        (Wv3): Linear(in_features=28, out_features=28, bias=False)\n",
       "        (Wv4): Linear(in_features=28, out_features=28, bias=False)\n",
       "        (Wv5): Linear(in_features=17, out_features=17, bias=False)\n",
       "        (Wv6): Linear(in_features=13, out_features=13, bias=False)\n",
       "        (Wv7): Linear(in_features=12, out_features=12, bias=False)\n",
       "      )\n",
       "      (addnorm1): AddNorm(\n",
       "        (dropout): Dropout(p=0.1, inplace=False)\n",
       "        (ln): LayerNorm((512,), eps=1e-05, elementwise_affine=True)\n",
       "      )\n",
       "      (ffn): PositionWiseFFN(\n",
       "        (dense1): Linear(in_features=512, out_features=2048, bias=True)\n",
       "        (relu): ReLU()\n",
       "        (dense2): Linear(in_features=2048, out_features=512, bias=True)\n",
       "      )\n",
       "      (addnorm2): AddNorm(\n",
       "        (dropout): Dropout(p=0.1, inplace=False)\n",
       "        (ln): LayerNorm((512,), eps=1e-05, elementwise_affine=True)\n",
       "      )\n",
       "    )\n",
       "    (2): EncoderBlock(\n",
       "      (attention): FamAttention(\n",
       "        (attention): DotProductAttention(\n",
       "          (dropout): Dropout(p=0.1, inplace=False)\n",
       "        )\n",
       "        (W_o): Linear(in_features=512, out_features=512, bias=False)\n",
       "        (Wq0): Linear(in_features=210, out_features=210, bias=False)\n",
       "        (Wq1): Linear(in_features=140, out_features=140, bias=False)\n",
       "        (Wq2): Linear(in_features=64, out_features=64, bias=False)\n",
       "        (Wq3): Linear(in_features=28, out_features=28, bias=False)\n",
       "        (Wq4): Linear(in_features=28, out_features=28, bias=False)\n",
       "        (Wq5): Linear(in_features=17, out_features=17, bias=False)\n",
       "        (Wq6): Linear(in_features=13, out_features=13, bias=False)\n",
       "        (Wq7): Linear(in_features=12, out_features=12, bias=False)\n",
       "        (Wk0): Linear(in_features=210, out_features=210, bias=False)\n",
       "        (Wk1): Linear(in_features=140, out_features=140, bias=False)\n",
       "        (Wk2): Linear(in_features=64, out_features=64, bias=False)\n",
       "        (Wk3): Linear(in_features=28, out_features=28, bias=False)\n",
       "        (Wk4): Linear(in_features=28, out_features=28, bias=False)\n",
       "        (Wk5): Linear(in_features=17, out_features=17, bias=False)\n",
       "        (Wk6): Linear(in_features=13, out_features=13, bias=False)\n",
       "        (Wk7): Linear(in_features=12, out_features=12, bias=False)\n",
       "        (Wv0): Linear(in_features=210, out_features=210, bias=False)\n",
       "        (Wv1): Linear(in_features=140, out_features=140, bias=False)\n",
       "        (Wv2): Linear(in_features=64, out_features=64, bias=False)\n",
       "        (Wv3): Linear(in_features=28, out_features=28, bias=False)\n",
       "        (Wv4): Linear(in_features=28, out_features=28, bias=False)\n",
       "        (Wv5): Linear(in_features=17, out_features=17, bias=False)\n",
       "        (Wv6): Linear(in_features=13, out_features=13, bias=False)\n",
       "        (Wv7): Linear(in_features=12, out_features=12, bias=False)\n",
       "      )\n",
       "      (addnorm1): AddNorm(\n",
       "        (dropout): Dropout(p=0.1, inplace=False)\n",
       "        (ln): LayerNorm((512,), eps=1e-05, elementwise_affine=True)\n",
       "      )\n",
       "      (ffn): PositionWiseFFN(\n",
       "        (dense1): Linear(in_features=512, out_features=2048, bias=True)\n",
       "        (relu): ReLU()\n",
       "        (dense2): Linear(in_features=2048, out_features=512, bias=True)\n",
       "      )\n",
       "      (addnorm2): AddNorm(\n",
       "        (dropout): Dropout(p=0.1, inplace=False)\n",
       "        (ln): LayerNorm((512,), eps=1e-05, elementwise_affine=True)\n",
       "      )\n",
       "    )\n",
       "  )\n",
       "  (agg_layer): Sequential(\n",
       "    (0): Linear(in_features=512, out_features=512, bias=True)\n",
       "    (1): ReLU()\n",
       "  )\n",
       "  (output): Linear(in_features=512, out_features=2, bias=True)\n",
       ")"
      ]
     },
     "execution_count": 53,
     "metadata": {},
     "output_type": "execute_result"
    }
   ],
   "source": [
    "# init_embedding_weights(net.embedding, weights)\n",
    "net.embedding.weight.data.copy_(get_embedding_weights(vocab, word2vecmodel, num_hiddens))\n",
    "net.embedding.weight.requires_grad = False\n",
    "net.apply(xavier_init_weights)"
   ]
  },
  {
   "cell_type": "code",
   "execution_count": 54,
   "id": "db917a89-be65-48ca-8082-144e39e0fa02",
   "metadata": {
    "execution": {
     "iopub.execute_input": "2024-07-26T12:49:06.300709Z",
     "iopub.status.busy": "2024-07-26T12:49:06.300418Z",
     "iopub.status.idle": "2024-07-26T12:49:06.332387Z",
     "shell.execute_reply": "2024-07-26T12:49:06.331738Z",
     "shell.execute_reply.started": "2024-07-26T12:49:06.300684Z"
    },
    "scrolled": true
   },
   "outputs": [
    {
     "name": "stdout",
     "output_type": "stream",
     "text": [
      "embedding.weight ; torch.Size([5956, 512])\n",
      "blks.0.attention.W_o.weight ; torch.Size([512, 512])\n",
      "blks.0.attention.Wq0.weight ; torch.Size([210, 210])\n",
      "blks.0.attention.Wq1.weight ; torch.Size([140, 140])\n",
      "blks.0.attention.Wq2.weight ; torch.Size([64, 64])\n",
      "blks.0.attention.Wq3.weight ; torch.Size([28, 28])\n",
      "blks.0.attention.Wq4.weight ; torch.Size([28, 28])\n",
      "blks.0.attention.Wq5.weight ; torch.Size([17, 17])\n",
      "blks.0.attention.Wq6.weight ; torch.Size([13, 13])\n",
      "blks.0.attention.Wq7.weight ; torch.Size([12, 12])\n",
      "blks.0.attention.Wk0.weight ; torch.Size([210, 210])\n",
      "blks.0.attention.Wk1.weight ; torch.Size([140, 140])\n",
      "blks.0.attention.Wk2.weight ; torch.Size([64, 64])\n",
      "blks.0.attention.Wk3.weight ; torch.Size([28, 28])\n",
      "blks.0.attention.Wk4.weight ; torch.Size([28, 28])\n",
      "blks.0.attention.Wk5.weight ; torch.Size([17, 17])\n",
      "blks.0.attention.Wk6.weight ; torch.Size([13, 13])\n",
      "blks.0.attention.Wk7.weight ; torch.Size([12, 12])\n",
      "blks.0.attention.Wv0.weight ; torch.Size([210, 210])\n",
      "blks.0.attention.Wv1.weight ; torch.Size([140, 140])\n",
      "blks.0.attention.Wv2.weight ; torch.Size([64, 64])\n",
      "blks.0.attention.Wv3.weight ; torch.Size([28, 28])\n",
      "blks.0.attention.Wv4.weight ; torch.Size([28, 28])\n",
      "blks.0.attention.Wv5.weight ; torch.Size([17, 17])\n",
      "blks.0.attention.Wv6.weight ; torch.Size([13, 13])\n",
      "blks.0.attention.Wv7.weight ; torch.Size([12, 12])\n",
      "blks.0.addnorm1.ln.weight ; torch.Size([512])\n",
      "blks.0.addnorm1.ln.bias ; torch.Size([512])\n",
      "blks.0.ffn.dense1.weight ; torch.Size([2048, 512])\n",
      "blks.0.ffn.dense1.bias ; torch.Size([2048])\n",
      "blks.0.ffn.dense2.weight ; torch.Size([512, 2048])\n",
      "blks.0.ffn.dense2.bias ; torch.Size([512])\n",
      "blks.0.addnorm2.ln.weight ; torch.Size([512])\n",
      "blks.0.addnorm2.ln.bias ; torch.Size([512])\n",
      "blks.1.attention.W_o.weight ; torch.Size([512, 512])\n",
      "blks.1.attention.Wq0.weight ; torch.Size([210, 210])\n",
      "blks.1.attention.Wq1.weight ; torch.Size([140, 140])\n",
      "blks.1.attention.Wq2.weight ; torch.Size([64, 64])\n",
      "blks.1.attention.Wq3.weight ; torch.Size([28, 28])\n",
      "blks.1.attention.Wq4.weight ; torch.Size([28, 28])\n",
      "blks.1.attention.Wq5.weight ; torch.Size([17, 17])\n",
      "blks.1.attention.Wq6.weight ; torch.Size([13, 13])\n",
      "blks.1.attention.Wq7.weight ; torch.Size([12, 12])\n",
      "blks.1.attention.Wk0.weight ; torch.Size([210, 210])\n",
      "blks.1.attention.Wk1.weight ; torch.Size([140, 140])\n",
      "blks.1.attention.Wk2.weight ; torch.Size([64, 64])\n",
      "blks.1.attention.Wk3.weight ; torch.Size([28, 28])\n",
      "blks.1.attention.Wk4.weight ; torch.Size([28, 28])\n",
      "blks.1.attention.Wk5.weight ; torch.Size([17, 17])\n",
      "blks.1.attention.Wk6.weight ; torch.Size([13, 13])\n",
      "blks.1.attention.Wk7.weight ; torch.Size([12, 12])\n",
      "blks.1.attention.Wv0.weight ; torch.Size([210, 210])\n",
      "blks.1.attention.Wv1.weight ; torch.Size([140, 140])\n",
      "blks.1.attention.Wv2.weight ; torch.Size([64, 64])\n",
      "blks.1.attention.Wv3.weight ; torch.Size([28, 28])\n",
      "blks.1.attention.Wv4.weight ; torch.Size([28, 28])\n",
      "blks.1.attention.Wv5.weight ; torch.Size([17, 17])\n",
      "blks.1.attention.Wv6.weight ; torch.Size([13, 13])\n",
      "blks.1.attention.Wv7.weight ; torch.Size([12, 12])\n",
      "blks.1.addnorm1.ln.weight ; torch.Size([512])\n",
      "blks.1.addnorm1.ln.bias ; torch.Size([512])\n",
      "blks.1.ffn.dense1.weight ; torch.Size([2048, 512])\n",
      "blks.1.ffn.dense1.bias ; torch.Size([2048])\n",
      "blks.1.ffn.dense2.weight ; torch.Size([512, 2048])\n",
      "blks.1.ffn.dense2.bias ; torch.Size([512])\n",
      "blks.1.addnorm2.ln.weight ; torch.Size([512])\n",
      "blks.1.addnorm2.ln.bias ; torch.Size([512])\n",
      "blks.2.attention.W_o.weight ; torch.Size([512, 512])\n",
      "blks.2.attention.Wq0.weight ; torch.Size([210, 210])\n",
      "blks.2.attention.Wq1.weight ; torch.Size([140, 140])\n",
      "blks.2.attention.Wq2.weight ; torch.Size([64, 64])\n",
      "blks.2.attention.Wq3.weight ; torch.Size([28, 28])\n",
      "blks.2.attention.Wq4.weight ; torch.Size([28, 28])\n",
      "blks.2.attention.Wq5.weight ; torch.Size([17, 17])\n",
      "blks.2.attention.Wq6.weight ; torch.Size([13, 13])\n",
      "blks.2.attention.Wq7.weight ; torch.Size([12, 12])\n",
      "blks.2.attention.Wk0.weight ; torch.Size([210, 210])\n",
      "blks.2.attention.Wk1.weight ; torch.Size([140, 140])\n",
      "blks.2.attention.Wk2.weight ; torch.Size([64, 64])\n",
      "blks.2.attention.Wk3.weight ; torch.Size([28, 28])\n",
      "blks.2.attention.Wk4.weight ; torch.Size([28, 28])\n",
      "blks.2.attention.Wk5.weight ; torch.Size([17, 17])\n",
      "blks.2.attention.Wk6.weight ; torch.Size([13, 13])\n",
      "blks.2.attention.Wk7.weight ; torch.Size([12, 12])\n",
      "blks.2.attention.Wv0.weight ; torch.Size([210, 210])\n",
      "blks.2.attention.Wv1.weight ; torch.Size([140, 140])\n",
      "blks.2.attention.Wv2.weight ; torch.Size([64, 64])\n",
      "blks.2.attention.Wv3.weight ; torch.Size([28, 28])\n",
      "blks.2.attention.Wv4.weight ; torch.Size([28, 28])\n",
      "blks.2.attention.Wv5.weight ; torch.Size([17, 17])\n",
      "blks.2.attention.Wv6.weight ; torch.Size([13, 13])\n",
      "blks.2.attention.Wv7.weight ; torch.Size([12, 12])\n",
      "blks.2.addnorm1.ln.weight ; torch.Size([512])\n",
      "blks.2.addnorm1.ln.bias ; torch.Size([512])\n",
      "blks.2.ffn.dense1.weight ; torch.Size([2048, 512])\n",
      "blks.2.ffn.dense1.bias ; torch.Size([2048])\n",
      "blks.2.ffn.dense2.weight ; torch.Size([512, 2048])\n",
      "blks.2.ffn.dense2.bias ; torch.Size([512])\n",
      "blks.2.addnorm2.ln.weight ; torch.Size([512])\n",
      "blks.2.addnorm2.ln.bias ; torch.Size([512])\n",
      "agg_layer.0.weight ; torch.Size([512, 512])\n",
      "agg_layer.0.bias ; torch.Size([512])\n",
      "output.weight ; torch.Size([2, 512])\n",
      "output.bias ; torch.Size([2])\n"
     ]
    }
   ],
   "source": [
    "# 查看模型参数\n",
    "for name, parameters in net.named_parameters():\n",
    "    print(name, ';', parameters.size())"
   ]
  },
  {
   "cell_type": "markdown",
   "id": "c0b795a3-1fab-4fac-951a-3efd240c39b3",
   "metadata": {},
   "source": [
    "### Baseline"
   ]
  },
  {
   "cell_type": "code",
   "execution_count": 62,
   "id": "65c1eeee-a4ea-4997-b9fb-9720f9917cc2",
   "metadata": {
    "execution": {
     "iopub.execute_input": "2024-07-26T13:14:15.613368Z",
     "iopub.status.busy": "2024-07-26T13:14:15.613081Z",
     "iopub.status.idle": "2024-07-26T13:14:15.676710Z",
     "shell.execute_reply": "2024-07-26T13:14:15.676180Z",
     "shell.execute_reply.started": "2024-07-26T13:14:15.613343Z"
    },
    "scrolled": true
   },
   "outputs": [
    {
     "data": {
      "text/plain": [
       "TransformerEncoder(\n",
       "  (embedding): Embedding(5956, 512)\n",
       "  (pos_encoding): PositionalEncoding(\n",
       "    (dropout): Dropout(p=0.1, inplace=False)\n",
       "  )\n",
       "  (blks): Sequential(\n",
       "    (block0): EncoderBlock(\n",
       "      (attention): MultiHeadAttention(\n",
       "        (attention): DotProductAttention(\n",
       "          (dropout): Dropout(p=0.1, inplace=False)\n",
       "        )\n",
       "        (W_q): Linear(in_features=512, out_features=512, bias=False)\n",
       "        (W_k): Linear(in_features=512, out_features=512, bias=False)\n",
       "        (W_v): Linear(in_features=512, out_features=512, bias=False)\n",
       "        (W_o): Linear(in_features=512, out_features=512, bias=False)\n",
       "      )\n",
       "      (addnorm1): AddNorm(\n",
       "        (dropout): Dropout(p=0.1, inplace=False)\n",
       "        (ln): LayerNorm((512,), eps=1e-05, elementwise_affine=True)\n",
       "      )\n",
       "      (ffn): PositionWiseFFN(\n",
       "        (dense1): Linear(in_features=512, out_features=2048, bias=True)\n",
       "        (relu): ReLU()\n",
       "        (dense2): Linear(in_features=2048, out_features=512, bias=True)\n",
       "      )\n",
       "      (addnorm2): AddNorm(\n",
       "        (dropout): Dropout(p=0.1, inplace=False)\n",
       "        (ln): LayerNorm((512,), eps=1e-05, elementwise_affine=True)\n",
       "      )\n",
       "    )\n",
       "    (block1): EncoderBlock(\n",
       "      (attention): MultiHeadAttention(\n",
       "        (attention): DotProductAttention(\n",
       "          (dropout): Dropout(p=0.1, inplace=False)\n",
       "        )\n",
       "        (W_q): Linear(in_features=512, out_features=512, bias=False)\n",
       "        (W_k): Linear(in_features=512, out_features=512, bias=False)\n",
       "        (W_v): Linear(in_features=512, out_features=512, bias=False)\n",
       "        (W_o): Linear(in_features=512, out_features=512, bias=False)\n",
       "      )\n",
       "      (addnorm1): AddNorm(\n",
       "        (dropout): Dropout(p=0.1, inplace=False)\n",
       "        (ln): LayerNorm((512,), eps=1e-05, elementwise_affine=True)\n",
       "      )\n",
       "      (ffn): PositionWiseFFN(\n",
       "        (dense1): Linear(in_features=512, out_features=2048, bias=True)\n",
       "        (relu): ReLU()\n",
       "        (dense2): Linear(in_features=2048, out_features=512, bias=True)\n",
       "      )\n",
       "      (addnorm2): AddNorm(\n",
       "        (dropout): Dropout(p=0.1, inplace=False)\n",
       "        (ln): LayerNorm((512,), eps=1e-05, elementwise_affine=True)\n",
       "      )\n",
       "    )\n",
       "    (block2): EncoderBlock(\n",
       "      (attention): MultiHeadAttention(\n",
       "        (attention): DotProductAttention(\n",
       "          (dropout): Dropout(p=0.1, inplace=False)\n",
       "        )\n",
       "        (W_q): Linear(in_features=512, out_features=512, bias=False)\n",
       "        (W_k): Linear(in_features=512, out_features=512, bias=False)\n",
       "        (W_v): Linear(in_features=512, out_features=512, bias=False)\n",
       "        (W_o): Linear(in_features=512, out_features=512, bias=False)\n",
       "      )\n",
       "      (addnorm1): AddNorm(\n",
       "        (dropout): Dropout(p=0.1, inplace=False)\n",
       "        (ln): LayerNorm((512,), eps=1e-05, elementwise_affine=True)\n",
       "      )\n",
       "      (ffn): PositionWiseFFN(\n",
       "        (dense1): Linear(in_features=512, out_features=2048, bias=True)\n",
       "        (relu): ReLU()\n",
       "        (dense2): Linear(in_features=2048, out_features=512, bias=True)\n",
       "      )\n",
       "      (addnorm2): AddNorm(\n",
       "        (dropout): Dropout(p=0.1, inplace=False)\n",
       "        (ln): LayerNorm((512,), eps=1e-05, elementwise_affine=True)\n",
       "      )\n",
       "    )\n",
       "  )\n",
       "  (outhidden): Sequential(\n",
       "    (0): Linear(in_features=512, out_features=512, bias=True)\n",
       "    (1): ReLU()\n",
       "  )\n",
       "  (Dense): Linear(in_features=512, out_features=2, bias=True)\n",
       ")"
      ]
     },
     "execution_count": 62,
     "metadata": {},
     "output_type": "execute_result"
    }
   ],
   "source": [
    "init_embedding_weights(basenet.embedding, weights)\n",
    "basenet.embedding.weight.requires_grad = False\n",
    "basenet.apply(xavier_init_weights)"
   ]
  },
  {
   "cell_type": "code",
   "execution_count": 63,
   "id": "272f7fe2-895d-414d-87dd-19793f0ae2f7",
   "metadata": {
    "execution": {
     "iopub.execute_input": "2024-07-26T13:14:26.122039Z",
     "iopub.status.busy": "2024-07-26T13:14:26.121751Z",
     "iopub.status.idle": "2024-07-26T13:14:26.137223Z",
     "shell.execute_reply": "2024-07-26T13:14:26.136525Z",
     "shell.execute_reply.started": "2024-07-26T13:14:26.122014Z"
    },
    "scrolled": true
   },
   "outputs": [
    {
     "name": "stdout",
     "output_type": "stream",
     "text": [
      "embedding.weight ; torch.Size([5956, 512])\n",
      "blks.block0.attention.W_q.weight ; torch.Size([512, 512])\n",
      "blks.block0.attention.W_k.weight ; torch.Size([512, 512])\n",
      "blks.block0.attention.W_v.weight ; torch.Size([512, 512])\n",
      "blks.block0.attention.W_o.weight ; torch.Size([512, 512])\n",
      "blks.block0.addnorm1.ln.weight ; torch.Size([512])\n",
      "blks.block0.addnorm1.ln.bias ; torch.Size([512])\n",
      "blks.block0.ffn.dense1.weight ; torch.Size([2048, 512])\n",
      "blks.block0.ffn.dense1.bias ; torch.Size([2048])\n",
      "blks.block0.ffn.dense2.weight ; torch.Size([512, 2048])\n",
      "blks.block0.ffn.dense2.bias ; torch.Size([512])\n",
      "blks.block0.addnorm2.ln.weight ; torch.Size([512])\n",
      "blks.block0.addnorm2.ln.bias ; torch.Size([512])\n",
      "blks.block1.attention.W_q.weight ; torch.Size([512, 512])\n",
      "blks.block1.attention.W_k.weight ; torch.Size([512, 512])\n",
      "blks.block1.attention.W_v.weight ; torch.Size([512, 512])\n",
      "blks.block1.attention.W_o.weight ; torch.Size([512, 512])\n",
      "blks.block1.addnorm1.ln.weight ; torch.Size([512])\n",
      "blks.block1.addnorm1.ln.bias ; torch.Size([512])\n",
      "blks.block1.ffn.dense1.weight ; torch.Size([2048, 512])\n",
      "blks.block1.ffn.dense1.bias ; torch.Size([2048])\n",
      "blks.block1.ffn.dense2.weight ; torch.Size([512, 2048])\n",
      "blks.block1.ffn.dense2.bias ; torch.Size([512])\n",
      "blks.block1.addnorm2.ln.weight ; torch.Size([512])\n",
      "blks.block1.addnorm2.ln.bias ; torch.Size([512])\n",
      "blks.block2.attention.W_q.weight ; torch.Size([512, 512])\n",
      "blks.block2.attention.W_k.weight ; torch.Size([512, 512])\n",
      "blks.block2.attention.W_v.weight ; torch.Size([512, 512])\n",
      "blks.block2.attention.W_o.weight ; torch.Size([512, 512])\n",
      "blks.block2.addnorm1.ln.weight ; torch.Size([512])\n",
      "blks.block2.addnorm1.ln.bias ; torch.Size([512])\n",
      "blks.block2.ffn.dense1.weight ; torch.Size([2048, 512])\n",
      "blks.block2.ffn.dense1.bias ; torch.Size([2048])\n",
      "blks.block2.ffn.dense2.weight ; torch.Size([512, 2048])\n",
      "blks.block2.ffn.dense2.bias ; torch.Size([512])\n",
      "blks.block2.addnorm2.ln.weight ; torch.Size([512])\n",
      "blks.block2.addnorm2.ln.bias ; torch.Size([512])\n",
      "outhidden.0.weight ; torch.Size([512, 512])\n",
      "outhidden.0.bias ; torch.Size([512])\n",
      "Dense.weight ; torch.Size([2, 512])\n",
      "Dense.bias ; torch.Size([2])\n"
     ]
    }
   ],
   "source": [
    "# 查看模型参数\n",
    "for name, parameters in basenet.named_parameters():\n",
    "    print(name, ';', parameters.size())"
   ]
  },
  {
   "cell_type": "markdown",
   "id": "19a4ccda-1276-4160-835c-4b58e60453ea",
   "metadata": {},
   "source": [
    "## 评估指标"
   ]
  },
  {
   "cell_type": "code",
   "execution_count": 25,
   "id": "1a0bd69f-adee-44f7-bcc3-00acd78fb47e",
   "metadata": {
    "execution": {
     "iopub.execute_input": "2024-07-26T12:17:26.224100Z",
     "iopub.status.busy": "2024-07-26T12:17:26.223306Z",
     "iopub.status.idle": "2024-07-26T12:17:26.288069Z",
     "shell.execute_reply": "2024-07-26T12:17:26.287249Z",
     "shell.execute_reply.started": "2024-07-26T12:17:26.224048Z"
    }
   },
   "outputs": [],
   "source": [
    "# 定义评估模型准确率和F1指标的函数\n",
    "from sklearn.metrics import accuracy_score, f1_score\n",
    "# f1_score(labels, predicitons, average='None, 'micro', 'macro', 'weighted', 'samples)\n",
    "def evaluate_accuracy_f1(net, data_iter, device=None):\n",
    "    net.eval()  # Set the model to evaluation mode\n",
    "    if not device:\n",
    "        device = next(iter(net.parameters())).device\n",
    "\n",
    "    y_pred, y_true = torch.tensor([], device=device), torch.tensor([], device=device)\n",
    "    with torch.no_grad():\n",
    "        for data in data_iter:\n",
    "            X, y = data\n",
    "            tokens, valid_len = [x.to(device) for x in X]\n",
    "            y = y.to(device)\n",
    "            y_pred = torch.cat([y_pred, net(tokens, valid_len).argmax(dim=-1)])\n",
    "            y_true = torch.cat([y_true, y])\n",
    "    return accuracy_score(y_pred.cpu(), y_true.cpu()), f1_score(y_pred.cpu(), y_true.cpu(), average='macro')"
   ]
  },
  {
   "cell_type": "markdown",
   "id": "1dfc4d08-98cd-437f-a1ff-aa62de0cf588",
   "metadata": {},
   "source": [
    "# 正式训练"
   ]
  },
  {
   "cell_type": "markdown",
   "id": "9bbb7dd3-cb59-4115-8095-886151f304be",
   "metadata": {},
   "source": [
    "## 2 层 FAM, 20 epochs"
   ]
  },
  {
   "cell_type": "code",
   "execution_count": 29,
   "id": "5c02082b-91f5-419a-8cdf-74c34ec6345f",
   "metadata": {
    "execution": {
     "iopub.execute_input": "2024-07-26T12:20:25.548807Z",
     "iopub.status.busy": "2024-07-26T12:20:25.548385Z",
     "iopub.status.idle": "2024-07-26T12:34:48.863493Z",
     "shell.execute_reply": "2024-07-26T12:34:48.862608Z",
     "shell.execute_reply.started": "2024-07-26T12:20:25.548780Z"
    },
    "scrolled": true
   },
   "outputs": [
    {
     "name": "stderr",
     "output_type": "stream",
     "text": [
      "100%|██████████| 535/535 [00:23<00:00, 22.65it/s]\n"
     ]
    },
    {
     "name": "stdout",
     "output_type": "stream",
     "text": [
      "epoch 1, loss 0.686, train_acc 0.704, train_f1 0.413, test_acc 0.691, test_f1 0.409, taking 43 seconds\n"
     ]
    },
    {
     "name": "stderr",
     "output_type": "stream",
     "text": [
      "100%|██████████| 535/535 [00:23<00:00, 22.37it/s]\n"
     ]
    },
    {
     "name": "stdout",
     "output_type": "stream",
     "text": [
      "epoch 2, loss 0.611, train_acc 0.704, train_f1 0.413, test_acc 0.691, test_f1 0.409, taking 43 seconds\n"
     ]
    },
    {
     "name": "stderr",
     "output_type": "stream",
     "text": [
      "100%|██████████| 535/535 [00:24<00:00, 22.27it/s]\n"
     ]
    },
    {
     "name": "stdout",
     "output_type": "stream",
     "text": [
      "epoch 3, loss 0.607, train_acc 0.704, train_f1 0.413, test_acc 0.691, test_f1 0.409, taking 43 seconds\n"
     ]
    },
    {
     "name": "stderr",
     "output_type": "stream",
     "text": [
      "100%|██████████| 535/535 [00:23<00:00, 22.53it/s]\n"
     ]
    },
    {
     "name": "stdout",
     "output_type": "stream",
     "text": [
      "epoch 4, loss 0.607, train_acc 0.704, train_f1 0.413, test_acc 0.691, test_f1 0.409, taking 43 seconds\n"
     ]
    },
    {
     "name": "stderr",
     "output_type": "stream",
     "text": [
      "100%|██████████| 535/535 [00:24<00:00, 22.28it/s]\n"
     ]
    },
    {
     "name": "stdout",
     "output_type": "stream",
     "text": [
      "epoch 5, loss 0.607, train_acc 0.704, train_f1 0.413, test_acc 0.691, test_f1 0.409, taking 43 seconds\n"
     ]
    },
    {
     "name": "stderr",
     "output_type": "stream",
     "text": [
      "100%|██████████| 535/535 [00:24<00:00, 22.05it/s]\n"
     ]
    },
    {
     "name": "stdout",
     "output_type": "stream",
     "text": [
      "epoch 6, loss 0.607, train_acc 0.704, train_f1 0.413, test_acc 0.691, test_f1 0.409, taking 43 seconds\n"
     ]
    },
    {
     "name": "stderr",
     "output_type": "stream",
     "text": [
      "100%|██████████| 535/535 [00:24<00:00, 22.15it/s]\n"
     ]
    },
    {
     "name": "stdout",
     "output_type": "stream",
     "text": [
      "epoch 7, loss 0.607, train_acc 0.704, train_f1 0.413, test_acc 0.691, test_f1 0.409, taking 43 seconds\n"
     ]
    },
    {
     "name": "stderr",
     "output_type": "stream",
     "text": [
      "100%|██████████| 535/535 [00:24<00:00, 22.18it/s]\n"
     ]
    },
    {
     "name": "stdout",
     "output_type": "stream",
     "text": [
      "epoch 8, loss 0.607, train_acc 0.704, train_f1 0.413, test_acc 0.691, test_f1 0.409, taking 43 seconds\n"
     ]
    },
    {
     "name": "stderr",
     "output_type": "stream",
     "text": [
      "100%|██████████| 535/535 [00:24<00:00, 22.02it/s]\n"
     ]
    },
    {
     "name": "stdout",
     "output_type": "stream",
     "text": [
      "epoch 9, loss 0.607, train_acc 0.704, train_f1 0.413, test_acc 0.691, test_f1 0.409, taking 44 seconds\n"
     ]
    },
    {
     "name": "stderr",
     "output_type": "stream",
     "text": [
      "100%|██████████| 535/535 [00:25<00:00, 21.39it/s]\n"
     ]
    },
    {
     "name": "stdout",
     "output_type": "stream",
     "text": [
      "epoch 10, loss 0.607, train_acc 0.704, train_f1 0.413, test_acc 0.691, test_f1 0.409, taking 44 seconds\n"
     ]
    },
    {
     "name": "stderr",
     "output_type": "stream",
     "text": [
      "100%|██████████| 535/535 [00:24<00:00, 21.45it/s]\n"
     ]
    },
    {
     "name": "stdout",
     "output_type": "stream",
     "text": [
      "epoch 11, loss 0.607, train_acc 0.704, train_f1 0.413, test_acc 0.691, test_f1 0.409, taking 44 seconds\n"
     ]
    },
    {
     "name": "stderr",
     "output_type": "stream",
     "text": [
      "100%|██████████| 535/535 [00:24<00:00, 21.50it/s]\n"
     ]
    },
    {
     "name": "stdout",
     "output_type": "stream",
     "text": [
      "epoch 12, loss 0.607, train_acc 0.704, train_f1 0.413, test_acc 0.691, test_f1 0.409, taking 45 seconds\n"
     ]
    },
    {
     "name": "stderr",
     "output_type": "stream",
     "text": [
      "100%|██████████| 535/535 [00:24<00:00, 21.49it/s]\n"
     ]
    },
    {
     "name": "stdout",
     "output_type": "stream",
     "text": [
      "epoch 13, loss 0.607, train_acc 0.704, train_f1 0.413, test_acc 0.691, test_f1 0.409, taking 44 seconds\n"
     ]
    },
    {
     "name": "stderr",
     "output_type": "stream",
     "text": [
      "100%|██████████| 535/535 [00:23<00:00, 22.36it/s]\n"
     ]
    },
    {
     "name": "stdout",
     "output_type": "stream",
     "text": [
      "epoch 14, loss 0.609, train_acc 0.704, train_f1 0.413, test_acc 0.691, test_f1 0.409, taking 43 seconds\n"
     ]
    },
    {
     "name": "stderr",
     "output_type": "stream",
     "text": [
      "100%|██████████| 535/535 [00:23<00:00, 22.30it/s]\n"
     ]
    },
    {
     "name": "stdout",
     "output_type": "stream",
     "text": [
      "epoch 15, loss 0.607, train_acc 0.704, train_f1 0.413, test_acc 0.691, test_f1 0.409, taking 43 seconds\n"
     ]
    },
    {
     "name": "stderr",
     "output_type": "stream",
     "text": [
      "100%|██████████| 535/535 [00:23<00:00, 22.49it/s]\n"
     ]
    },
    {
     "name": "stdout",
     "output_type": "stream",
     "text": [
      "epoch 16, loss 0.607, train_acc 0.704, train_f1 0.413, test_acc 0.691, test_f1 0.409, taking 43 seconds\n"
     ]
    },
    {
     "name": "stderr",
     "output_type": "stream",
     "text": [
      "100%|██████████| 535/535 [00:23<00:00, 22.30it/s]\n"
     ]
    },
    {
     "name": "stdout",
     "output_type": "stream",
     "text": [
      "epoch 17, loss 0.607, train_acc 0.704, train_f1 0.413, test_acc 0.691, test_f1 0.409, taking 43 seconds\n"
     ]
    },
    {
     "name": "stderr",
     "output_type": "stream",
     "text": [
      "100%|██████████| 535/535 [00:23<00:00, 22.54it/s]\n"
     ]
    },
    {
     "name": "stdout",
     "output_type": "stream",
     "text": [
      "epoch 18, loss 0.607, train_acc 0.704, train_f1 0.413, test_acc 0.691, test_f1 0.409, taking 43 seconds\n"
     ]
    },
    {
     "name": "stderr",
     "output_type": "stream",
     "text": [
      "100%|██████████| 535/535 [00:24<00:00, 22.28it/s]\n"
     ]
    },
    {
     "name": "stdout",
     "output_type": "stream",
     "text": [
      "epoch 19, loss 0.607, train_acc 0.704, train_f1 0.413, test_acc 0.691, test_f1 0.409, taking 43 seconds\n"
     ]
    },
    {
     "name": "stderr",
     "output_type": "stream",
     "text": [
      "100%|██████████| 535/535 [00:24<00:00, 22.24it/s]\n"
     ]
    },
    {
     "name": "stdout",
     "output_type": "stream",
     "text": [
      "epoch 20, loss 0.607, train_acc 0.704, train_f1 0.413, test_acc 0.691, test_f1 0.409, taking 43 seconds\n",
      "Training is finished.\n",
      "训练损失:0.607, 训练集准确率:0.704, 训练集f1:0.413, 测试集准确率:0.691, 测试集f1:0.409, 在设备cuda:0上训练20周期, 耗时863 s\n"
     ]
    }
   ],
   "source": [
    "# 以‘微调’的模式进行训练\n",
    "# activation function: nn.ReLU()\n",
    "# 8,460,758 total parameters.\n",
    "loss = nn.CrossEntropyLoss(reduction='none')\n",
    "# 为不同层赋予不同的学习率\n",
    "forward_params = [\n",
    "    param for name, param in net.named_parameters()\n",
    "    if name != \"embedding.weight\"]\n",
    "# trainer = torch.optim.Adam(\n",
    "#     [{'params': net.embedding.parameters()},\n",
    "#     {'params': forward_params,\n",
    "#     'lr': lr * 10}], lr=lr)\n",
    "trainer = torch.optim.Adam(forward_params, lr=lr)\n",
    "net.to(device)\n",
    "\n",
    "num_batches = len(train_iter)\n",
    "losses, train_accuracy, test_accuracy = [], [], []\n",
    "train_f1, test_f1 = [], []\n",
    "total_start = time.time()\n",
    "for epoch in range(num_epochs):\n",
    "    train_loss = 0\n",
    "    start_time = time.perf_counter()\n",
    "    net.train()\n",
    "    for index, data in tqdm(enumerate(train_iter), total=num_batches, leave=True):\n",
    "        (tokens, valid_len), y = data\n",
    "        tokens, valid_len = [v.to(device) for v in (tokens, valid_len)]\n",
    "        y = y.to(device)\n",
    "        l = loss(net(tokens, valid_len), y)\n",
    "        trainer.zero_grad()\n",
    "        l.sum().backward()\n",
    "        trainer.step()\n",
    "        train_loss += l.sum().cpu().detach().numpy() / batch_size\n",
    "        # train_acc += d2l.accuracy(net(X, valid_len), y) / batch_size\n",
    "    epochloss = train_loss / num_batches\n",
    "    epochtrainacc, epochtrainf1 = evaluate_accuracy_f1(net, train_iter)\n",
    "    epochtestacc, epochtestf1 = evaluate_accuracy_f1(net, valid_iter)\n",
    "    end_time = time.perf_counter()\n",
    "    print(f'epoch {epoch + 1}, loss {epochloss:.3f}, train_acc {epochtrainacc:.3f}, '\n",
    "        f'train_f1 {epochtrainf1:.3f}, test_acc {epochtestacc:.3f}, '\n",
    "        f'test_f1 {epochtestf1:.3f}, taking {round(end_time - start_time)} seconds')\n",
    "    losses.append(epochloss)\n",
    "    train_accuracy.append(epochtrainacc)\n",
    "    train_f1.append(epochtrainf1)\n",
    "    test_accuracy.append(epochtestacc)\n",
    "    test_f1.append(epochtestf1)\n",
    "total_timecost = round(time.time() - total_start)\n",
    "print('Training is finished.')\n",
    "print(f'训练损失:{losses[-1]:.3f}, 训练集准确率:{train_accuracy[-1]:.3f}, '\n",
    "      f'训练集f1:{train_f1[-1]:.3f}, 测试集准确率:{test_accuracy[-1]:.3f}, '\n",
    "     f'测试集f1:{test_f1[-1]:.3f}, 在设备{device}上训练{num_epochs}周期, 耗时{total_timecost} s')"
   ]
  },
  {
   "cell_type": "markdown",
   "id": "f81f56bd-eb67-47dd-b26b-b4c0e6cb2134",
   "metadata": {},
   "source": [
    "## 保存结果"
   ]
  },
  {
   "cell_type": "code",
   "execution_count": 30,
   "id": "218a1daf-afa7-4919-9cdb-6510720eca61",
   "metadata": {
    "execution": {
     "iopub.execute_input": "2024-07-26T12:41:12.234089Z",
     "iopub.status.busy": "2024-07-26T12:41:12.233707Z",
     "iopub.status.idle": "2024-07-26T12:41:12.238059Z",
     "shell.execute_reply": "2024-07-26T12:41:12.237362Z",
     "shell.execute_reply.started": "2024-07-26T12:41:12.234061Z"
    }
   },
   "outputs": [
    {
     "name": "stdout",
     "output_type": "stream",
     "text": [
      "训练集最佳准确率: 0.704,\n",
      "训练集最佳F1分数: 0.413,\n",
      "测试集最佳准确率: 0.691,\n",
      "测试集最佳F1分数: 0.409\n"
     ]
    }
   ],
   "source": [
    "print(f\"训练集最佳准确率: {max(train_accuracy):.3f},\\n\"\n",
    "    f\"训练集最佳F1分数: {max(train_f1):.3f},\\n\"\n",
    "    f\"测试集最佳准确率: {max(test_accuracy):.3f},\\n\"\n",
    "    f\"测试集最佳F1分数: {max(test_f1):.3f}\")"
   ]
  },
  {
   "cell_type": "code",
   "execution_count": 31,
   "id": "bd13d377-c418-46bd-97a9-8cc73aaa9fcb",
   "metadata": {
    "execution": {
     "iopub.execute_input": "2024-07-26T12:41:15.891268Z",
     "iopub.status.busy": "2024-07-26T12:41:15.890927Z",
     "iopub.status.idle": "2024-07-26T12:41:16.038797Z",
     "shell.execute_reply": "2024-07-26T12:41:16.037907Z",
     "shell.execute_reply.started": "2024-07-26T12:41:15.891243Z"
    }
   },
   "outputs": [
    {
     "data": {
      "image/png": "[encoded data removed]",
      "text/plain": [
       "<Figure size 640x480 with 1 Axes>"
      ]
     },
     "metadata": {},
     "output_type": "display_data"
    }
   ],
   "source": [
    "fig = plt.figure()\n",
    "plt.title('train loss and accuracy')\n",
    "epochs = np.arange(1, num_epochs + 1)\n",
    "plt.axis([0, num_epochs, 0, 1])\n",
    "# losses, test_accuracy, test_f1\n",
    "plt.plot(epochs, losses, 'r.-', label='loss')\n",
    "# plt.plot(epochs, train_accuracy, 'g-.', label='train_acc')\n",
    "plt.plot(epochs, test_accuracy, 'g-.', label='test_acc')\n",
    "plt.plot(epochs, test_f1, 'b-.', label='test_f1')\n",
    "plt.legend(loc='best', frameon=False)\n",
    "plt.show()"
   ]
  },
  {
   "cell_type": "code",
   "execution_count": 33,
   "id": "cb4331b0-5493-4458-9b86-d6c57e1f2167",
   "metadata": {
    "execution": {
     "iopub.execute_input": "2024-07-26T12:41:33.887728Z",
     "iopub.status.busy": "2024-07-26T12:41:33.887343Z",
     "iopub.status.idle": "2024-07-26T12:41:33.905409Z",
     "shell.execute_reply": "2024-07-26T12:41:33.904794Z",
     "shell.execute_reply.started": "2024-07-26T12:41:33.887701Z"
    }
   },
   "outputs": [],
   "source": [
    "result = pd.DataFrame({\"train_acc\": train_accuracy,\n",
    "                       \"train_f1\": train_f1,\n",
    "                      \"test_acc\": test_accuracy,\n",
    "                      \"test_f1\": test_f1})\n",
    "result.to_excel(file_path + 'output/2layerfa.xlsx')"
   ]
  },
  {
   "cell_type": "code",
   "execution_count": 34,
   "id": "8755011e-3083-410e-b364-ecbc6346f421",
   "metadata": {
    "execution": {
     "iopub.execute_input": "2024-07-26T12:41:36.778985Z",
     "iopub.status.busy": "2024-07-26T12:41:36.778639Z",
     "iopub.status.idle": "2024-07-26T12:41:36.820831Z",
     "shell.execute_reply": "2024-07-26T12:41:36.820124Z",
     "shell.execute_reply.started": "2024-07-26T12:41:36.778960Z"
    }
   },
   "outputs": [],
   "source": [
    "torch.save(net.state_dict(), file_path + 'output/2layer_state_dict.pth')"
   ]
  },
  {
   "cell_type": "markdown",
   "id": "5f356047-30d9-4e63-8014-6aea0bfefd3f",
   "metadata": {},
   "source": [
    "## 2 层 Baseline, 20 epochs"
   ]
  },
  {
   "cell_type": "code",
   "execution_count": 44,
   "id": "13b30619-aaa6-494b-968b-d966bbe8d4f6",
   "metadata": {
    "execution": {
     "iopub.execute_input": "2024-07-26T12:44:52.615840Z",
     "iopub.status.busy": "2024-07-26T12:44:52.615418Z",
     "iopub.status.idle": "2024-07-26T12:46:14.873755Z",
     "shell.execute_reply": "2024-07-26T12:46:14.873066Z",
     "shell.execute_reply.started": "2024-07-26T12:44:52.615815Z"
    },
    "scrolled": true
   },
   "outputs": [
    {
     "name": "stderr",
     "output_type": "stream",
     "text": [
      "100%|██████████| 535/535 [00:03<00:00, 170.97it/s]\n"
     ]
    },
    {
     "name": "stdout",
     "output_type": "stream",
     "text": [
      "epoch 1, loss 0.668, train_acc 0.704, train_f1 0.413, test_acc 0.691, test_f1 0.409, taking 4 seconds\n"
     ]
    },
    {
     "name": "stderr",
     "output_type": "stream",
     "text": [
      "100%|██████████| 535/535 [00:02<00:00, 178.70it/s]\n"
     ]
    },
    {
     "name": "stdout",
     "output_type": "stream",
     "text": [
      "epoch 2, loss 0.611, train_acc 0.704, train_f1 0.413, test_acc 0.691, test_f1 0.409, taking 4 seconds\n"
     ]
    },
    {
     "name": "stderr",
     "output_type": "stream",
     "text": [
      "100%|██████████| 535/535 [00:03<00:00, 176.67it/s]\n"
     ]
    },
    {
     "name": "stdout",
     "output_type": "stream",
     "text": [
      "epoch 3, loss 0.608, train_acc 0.704, train_f1 0.413, test_acc 0.691, test_f1 0.409, taking 4 seconds\n"
     ]
    },
    {
     "name": "stderr",
     "output_type": "stream",
     "text": [
      "100%|██████████| 535/535 [00:02<00:00, 181.00it/s]\n"
     ]
    },
    {
     "name": "stdout",
     "output_type": "stream",
     "text": [
      "epoch 4, loss 0.607, train_acc 0.704, train_f1 0.413, test_acc 0.691, test_f1 0.409, taking 4 seconds\n"
     ]
    },
    {
     "name": "stderr",
     "output_type": "stream",
     "text": [
      "100%|██████████| 535/535 [00:03<00:00, 169.37it/s]\n"
     ]
    },
    {
     "name": "stdout",
     "output_type": "stream",
     "text": [
      "epoch 5, loss 0.607, train_acc 0.704, train_f1 0.413, test_acc 0.691, test_f1 0.409, taking 4 seconds\n"
     ]
    },
    {
     "name": "stderr",
     "output_type": "stream",
     "text": [
      "100%|██████████| 535/535 [00:02<00:00, 182.50it/s]\n"
     ]
    },
    {
     "name": "stdout",
     "output_type": "stream",
     "text": [
      "epoch 6, loss 0.607, train_acc 0.704, train_f1 0.413, test_acc 0.691, test_f1 0.409, taking 4 seconds\n"
     ]
    },
    {
     "name": "stderr",
     "output_type": "stream",
     "text": [
      "100%|██████████| 535/535 [00:03<00:00, 173.33it/s]\n"
     ]
    },
    {
     "name": "stdout",
     "output_type": "stream",
     "text": [
      "epoch 7, loss 0.607, train_acc 0.704, train_f1 0.413, test_acc 0.691, test_f1 0.409, taking 4 seconds\n"
     ]
    },
    {
     "name": "stderr",
     "output_type": "stream",
     "text": [
      "100%|██████████| 535/535 [00:02<00:00, 183.04it/s]\n"
     ]
    },
    {
     "name": "stdout",
     "output_type": "stream",
     "text": [
      "epoch 8, loss 0.607, train_acc 0.704, train_f1 0.413, test_acc 0.691, test_f1 0.409, taking 4 seconds\n"
     ]
    },
    {
     "name": "stderr",
     "output_type": "stream",
     "text": [
      "100%|██████████| 535/535 [00:02<00:00, 182.52it/s]\n"
     ]
    },
    {
     "name": "stdout",
     "output_type": "stream",
     "text": [
      "epoch 9, loss 0.607, train_acc 0.704, train_f1 0.413, test_acc 0.691, test_f1 0.409, taking 4 seconds\n"
     ]
    },
    {
     "name": "stderr",
     "output_type": "stream",
     "text": [
      "100%|██████████| 535/535 [00:02<00:00, 180.18it/s]\n"
     ]
    },
    {
     "name": "stdout",
     "output_type": "stream",
     "text": [
      "epoch 10, loss 0.607, train_acc 0.704, train_f1 0.413, test_acc 0.691, test_f1 0.409, taking 4 seconds\n"
     ]
    },
    {
     "name": "stderr",
     "output_type": "stream",
     "text": [
      "100%|██████████| 535/535 [00:02<00:00, 179.86it/s]\n"
     ]
    },
    {
     "name": "stdout",
     "output_type": "stream",
     "text": [
      "epoch 11, loss 0.607, train_acc 0.704, train_f1 0.413, test_acc 0.691, test_f1 0.409, taking 4 seconds\n"
     ]
    },
    {
     "name": "stderr",
     "output_type": "stream",
     "text": [
      "100%|██████████| 535/535 [00:02<00:00, 181.90it/s]\n"
     ]
    },
    {
     "name": "stdout",
     "output_type": "stream",
     "text": [
      "epoch 12, loss 0.607, train_acc 0.704, train_f1 0.413, test_acc 0.691, test_f1 0.409, taking 4 seconds\n"
     ]
    },
    {
     "name": "stderr",
     "output_type": "stream",
     "text": [
      "100%|██████████| 535/535 [00:02<00:00, 183.02it/s]\n"
     ]
    },
    {
     "name": "stdout",
     "output_type": "stream",
     "text": [
      "epoch 13, loss 0.607, train_acc 0.704, train_f1 0.413, test_acc 0.691, test_f1 0.409, taking 4 seconds\n"
     ]
    },
    {
     "name": "stderr",
     "output_type": "stream",
     "text": [
      "100%|██████████| 535/535 [00:03<00:00, 175.74it/s]\n"
     ]
    },
    {
     "name": "stdout",
     "output_type": "stream",
     "text": [
      "epoch 14, loss 0.607, train_acc 0.704, train_f1 0.413, test_acc 0.691, test_f1 0.409, taking 4 seconds\n"
     ]
    },
    {
     "name": "stderr",
     "output_type": "stream",
     "text": [
      "100%|██████████| 535/535 [00:02<00:00, 179.64it/s]\n"
     ]
    },
    {
     "name": "stdout",
     "output_type": "stream",
     "text": [
      "epoch 15, loss 0.620, train_acc 0.704, train_f1 0.413, test_acc 0.691, test_f1 0.409, taking 4 seconds\n"
     ]
    },
    {
     "name": "stderr",
     "output_type": "stream",
     "text": [
      "100%|██████████| 535/535 [00:03<00:00, 159.90it/s]\n"
     ]
    },
    {
     "name": "stdout",
     "output_type": "stream",
     "text": [
      "epoch 16, loss 0.607, train_acc 0.704, train_f1 0.413, test_acc 0.691, test_f1 0.409, taking 4 seconds\n"
     ]
    },
    {
     "name": "stderr",
     "output_type": "stream",
     "text": [
      "100%|██████████| 535/535 [00:03<00:00, 168.72it/s]\n"
     ]
    },
    {
     "name": "stdout",
     "output_type": "stream",
     "text": [
      "epoch 17, loss 0.607, train_acc 0.704, train_f1 0.413, test_acc 0.691, test_f1 0.409, taking 4 seconds\n"
     ]
    },
    {
     "name": "stderr",
     "output_type": "stream",
     "text": [
      "100%|██████████| 535/535 [00:03<00:00, 166.36it/s]\n"
     ]
    },
    {
     "name": "stdout",
     "output_type": "stream",
     "text": [
      "epoch 18, loss 0.607, train_acc 0.704, train_f1 0.413, test_acc 0.691, test_f1 0.409, taking 4 seconds\n"
     ]
    },
    {
     "name": "stderr",
     "output_type": "stream",
     "text": [
      "100%|██████████| 535/535 [00:03<00:00, 171.01it/s]\n"
     ]
    },
    {
     "name": "stdout",
     "output_type": "stream",
     "text": [
      "epoch 19, loss 0.607, train_acc 0.704, train_f1 0.413, test_acc 0.691, test_f1 0.409, taking 4 seconds\n"
     ]
    },
    {
     "name": "stderr",
     "output_type": "stream",
     "text": [
      "100%|██████████| 535/535 [00:03<00:00, 166.14it/s]\n"
     ]
    },
    {
     "name": "stdout",
     "output_type": "stream",
     "text": [
      "epoch 20, loss 0.607, train_acc 0.704, train_f1 0.413, test_acc 0.691, test_f1 0.409, taking 4 seconds\n",
      "Training is finished.\n",
      "训练损失:0.607, 训练集准确率:0.704, 训练集f1:0.413, 测试集准确率:0.691, 测试集f1:0.409, 在设备cuda:0上训练20周期, 耗时82 s\n"
     ]
    }
   ],
   "source": [
    "# 以‘微调’的模式进行训练\n",
    "# activation function: nn.ReLU()\n",
    "# 9,613,826 total parameters.\n",
    "loss = nn.CrossEntropyLoss(reduction='none')\n",
    "# 为不同层赋予不同的学习率\n",
    "forward_params = [\n",
    "    param for name, param in basenet.named_parameters()\n",
    "    if name != \"embedding.weight\"]\n",
    "trainer = torch.optim.Adam(forward_params, lr=lr)\n",
    "basenet.to(device)\n",
    "\n",
    "num_batches = len(train_iter)\n",
    "losses, train_accuracy, test_accuracy = [], [], []\n",
    "train_f1, test_f1 = [], []\n",
    "total_start = time.time()\n",
    "for epoch in range(num_epochs):\n",
    "    train_loss = 0\n",
    "    start_time = time.perf_counter()\n",
    "    basenet.train()\n",
    "    for index, data in tqdm(enumerate(train_iter), total=num_batches, leave=True):\n",
    "        (tokens, valid_len), y = data\n",
    "        tokens, valid_len = [v.to(device) for v in (tokens, valid_len)]\n",
    "        y = y.to(device)\n",
    "        l = loss(basenet(tokens, valid_len), y)\n",
    "        trainer.zero_grad()\n",
    "        l.sum().backward()\n",
    "        trainer.step()\n",
    "        train_loss += l.sum().cpu().detach().numpy() / batch_size\n",
    "        # train_acc += d2l.accuracy(net(X, valid_len), y) / batch_size\n",
    "    epochloss = train_loss / num_batches\n",
    "    epochtrainacc, epochtrainf1 =evaluate_accuracy_f1(basenet, train_iter)\n",
    "    epochtestacc, epochtestf1 = evaluate_accuracy_f1(basenet, valid_iter)\n",
    "    end_time = time.perf_counter()\n",
    "    print(f'epoch {epoch + 1}, loss {epochloss:.3f}, train_acc {epochtrainacc:.3f}, '\n",
    "        f'train_f1 {epochtrainf1:.3f}, test_acc {epochtestacc:.3f}, '\n",
    "        f'test_f1 {epochtestf1:.3f}, taking {round(end_time - start_time)} seconds')\n",
    "    losses.append(epochloss)\n",
    "    train_accuracy.append(epochtrainacc)\n",
    "    train_f1.append(epochtrainf1)\n",
    "    test_accuracy.append(epochtestacc)\n",
    "    test_f1.append(epochtestf1)\n",
    "total_timecost = round(time.time() - total_start)\n",
    "print('Training is finished.')\n",
    "print(f'训练损失:{losses[-1]:.3f}, 训练集准确率:{train_accuracy[-1]:.3f}, '\n",
    "      f'训练集f1:{train_f1[-1]:.3f}, 测试集准确率:{test_accuracy[-1]:.3f}, '\n",
    "     f'测试集f1:{test_f1[-1]:.3f}, 在设备{device}上训练{num_epochs}周期, 耗时{total_timecost} s')"
   ]
  },
  {
   "cell_type": "markdown",
   "id": "d128baa7-9cbf-4c16-8d8c-788f04e5c4e7",
   "metadata": {},
   "source": [
    "## 保存结果"
   ]
  },
  {
   "cell_type": "code",
   "execution_count": 45,
   "id": "013d5827-5f1b-46fb-a130-add72b1de479",
   "metadata": {
    "execution": {
     "iopub.execute_input": "2024-07-26T12:46:44.939958Z",
     "iopub.status.busy": "2024-07-26T12:46:44.939673Z",
     "iopub.status.idle": "2024-07-26T12:46:44.943492Z",
     "shell.execute_reply": "2024-07-26T12:46:44.942959Z",
     "shell.execute_reply.started": "2024-07-26T12:46:44.939933Z"
    }
   },
   "outputs": [
    {
     "name": "stdout",
     "output_type": "stream",
     "text": [
      "训练集最佳准确率: 0.704,\n",
      "训练集最佳F1分数: 0.413,\n",
      "测试集最佳准确率: 0.691,\n",
      "测试集最佳F1分数: 0.409\n"
     ]
    }
   ],
   "source": [
    "print(f\"训练集最佳准确率: {max(train_accuracy):.3f},\\n\"\n",
    "    f\"训练集最佳F1分数: {max(train_f1):.3f},\\n\"\n",
    "    f\"测试集最佳准确率: {max(test_accuracy):.3f},\\n\"\n",
    "    f\"测试集最佳F1分数: {max(test_f1):.3f}\")"
   ]
  },
  {
   "cell_type": "code",
   "execution_count": 46,
   "id": "48b4d0e0-755f-43f9-b336-6db87955afb3",
   "metadata": {
    "execution": {
     "iopub.execute_input": "2024-07-26T12:47:03.926217Z",
     "iopub.status.busy": "2024-07-26T12:47:03.925936Z",
     "iopub.status.idle": "2024-07-26T12:47:04.065869Z",
     "shell.execute_reply": "2024-07-26T12:47:04.065027Z",
     "shell.execute_reply.started": "2024-07-26T12:47:03.926193Z"
    }
   },
   "outputs": [
    {
     "data": {
      "image/png": "[encoded data removed]",
      "text/plain": [
       "<Figure size 640x480 with 1 Axes>"
      ]
     },
     "metadata": {},
     "output_type": "display_data"
    }
   ],
   "source": [
    "fig = plt.figure()\n",
    "plt.title('train loss and accuracy')\n",
    "epochs = np.arange(1, num_epochs + 1)\n",
    "plt.axis([0, num_epochs, 0, 1])\n",
    "# losses, test_accuracy, test_f1\n",
    "plt.plot(epochs, losses, 'r.-', label='loss')\n",
    "# plt.plot(epochs, train_accuracy, 'g-.', label='train_acc')\n",
    "plt.plot(epochs, test_accuracy, 'g-.', label='test_acc')\n",
    "plt.plot(epochs, test_f1, 'b-.', label='test_f1')\n",
    "plt.legend(loc='best', frameon=False)\n",
    "plt.show()"
   ]
  },
  {
   "cell_type": "code",
   "execution_count": 47,
   "id": "596b48f8-148a-4455-abde-65c8a3a3f1b8",
   "metadata": {
    "execution": {
     "iopub.execute_input": "2024-07-26T12:47:18.629867Z",
     "iopub.status.busy": "2024-07-26T12:47:18.629241Z",
     "iopub.status.idle": "2024-07-26T12:47:18.644762Z",
     "shell.execute_reply": "2024-07-26T12:47:18.644206Z",
     "shell.execute_reply.started": "2024-07-26T12:47:18.629837Z"
    }
   },
   "outputs": [],
   "source": [
    "result = pd.DataFrame({\"train_acc\": train_accuracy,\n",
    "                       \"train_f1\": train_f1,\n",
    "                      \"test_acc\": test_accuracy,\n",
    "                      \"test_f1\": test_f1})\n",
    "result.to_excel(file_path + 'output/2layerba.xlsx')"
   ]
  },
  {
   "cell_type": "code",
   "execution_count": 48,
   "id": "cd34a17f-2563-4a3b-b4a8-5154fc96ece0",
   "metadata": {
    "execution": {
     "iopub.execute_input": "2024-07-26T12:47:32.253488Z",
     "iopub.status.busy": "2024-07-26T12:47:32.253064Z",
     "iopub.status.idle": "2024-07-26T12:47:32.308958Z",
     "shell.execute_reply": "2024-07-26T12:47:32.308366Z",
     "shell.execute_reply.started": "2024-07-26T12:47:32.253455Z"
    }
   },
   "outputs": [],
   "source": [
    "torch.save(net.state_dict(), file_path + 'output/2layerba_state_dict.pth')"
   ]
  },
  {
   "cell_type": "markdown",
   "id": "12a3e521-99a8-4dd1-a2ba-4033cccbe0ee",
   "metadata": {},
   "source": [
    "## 3 层 FAM, 20 epochs"
   ]
  },
  {
   "cell_type": "code",
   "execution_count": 55,
   "id": "603df91d-50f3-42b2-82d1-f7258bcc9692",
   "metadata": {
    "execution": {
     "iopub.execute_input": "2024-07-26T12:49:45.558663Z",
     "iopub.status.busy": "2024-07-26T12:49:45.558141Z",
     "iopub.status.idle": "2024-07-26T13:11:04.842555Z",
     "shell.execute_reply": "2024-07-26T13:11:04.841863Z",
     "shell.execute_reply.started": "2024-07-26T12:49:45.558612Z"
    },
    "scrolled": true
   },
   "outputs": [
    {
     "name": "stderr",
     "output_type": "stream",
     "text": [
      "100%|██████████| 535/535 [00:35<00:00, 15.25it/s]\n"
     ]
    },
    {
     "name": "stdout",
     "output_type": "stream",
     "text": [
      "epoch 1, loss 0.657, train_acc 0.704, train_f1 0.413, test_acc 0.691, test_f1 0.409, taking 63 seconds\n"
     ]
    },
    {
     "name": "stderr",
     "output_type": "stream",
     "text": [
      "100%|██████████| 535/535 [00:35<00:00, 14.91it/s]\n"
     ]
    },
    {
     "name": "stdout",
     "output_type": "stream",
     "text": [
      "epoch 2, loss 0.610, train_acc 0.704, train_f1 0.413, test_acc 0.691, test_f1 0.409, taking 64 seconds\n"
     ]
    },
    {
     "name": "stderr",
     "output_type": "stream",
     "text": [
      "100%|██████████| 535/535 [00:35<00:00, 14.94it/s]\n"
     ]
    },
    {
     "name": "stdout",
     "output_type": "stream",
     "text": [
      "epoch 3, loss 0.608, train_acc 0.704, train_f1 0.413, test_acc 0.691, test_f1 0.409, taking 64 seconds\n"
     ]
    },
    {
     "name": "stderr",
     "output_type": "stream",
     "text": [
      "100%|██████████| 535/535 [00:35<00:00, 15.11it/s]\n"
     ]
    },
    {
     "name": "stdout",
     "output_type": "stream",
     "text": [
      "epoch 4, loss 0.607, train_acc 0.704, train_f1 0.413, test_acc 0.691, test_f1 0.409, taking 63 seconds\n"
     ]
    },
    {
     "name": "stderr",
     "output_type": "stream",
     "text": [
      "100%|██████████| 535/535 [00:35<00:00, 14.93it/s]\n"
     ]
    },
    {
     "name": "stdout",
     "output_type": "stream",
     "text": [
      "epoch 5, loss 0.607, train_acc 0.704, train_f1 0.413, test_acc 0.691, test_f1 0.409, taking 64 seconds\n"
     ]
    },
    {
     "name": "stderr",
     "output_type": "stream",
     "text": [
      "100%|██████████| 535/535 [00:35<00:00, 14.89it/s]\n"
     ]
    },
    {
     "name": "stdout",
     "output_type": "stream",
     "text": [
      "epoch 6, loss 0.607, train_acc 0.704, train_f1 0.413, test_acc 0.691, test_f1 0.409, taking 64 seconds\n"
     ]
    },
    {
     "name": "stderr",
     "output_type": "stream",
     "text": [
      "100%|██████████| 535/535 [00:36<00:00, 14.74it/s]\n"
     ]
    },
    {
     "name": "stdout",
     "output_type": "stream",
     "text": [
      "epoch 7, loss 0.607, train_acc 0.704, train_f1 0.413, test_acc 0.691, test_f1 0.409, taking 66 seconds\n"
     ]
    },
    {
     "name": "stderr",
     "output_type": "stream",
     "text": [
      "100%|██████████| 535/535 [00:37<00:00, 14.41it/s]\n"
     ]
    },
    {
     "name": "stdout",
     "output_type": "stream",
     "text": [
      "epoch 8, loss 0.607, train_acc 0.704, train_f1 0.413, test_acc 0.691, test_f1 0.409, taking 66 seconds\n"
     ]
    },
    {
     "name": "stderr",
     "output_type": "stream",
     "text": [
      "100%|██████████| 535/535 [00:35<00:00, 15.02it/s]\n"
     ]
    },
    {
     "name": "stdout",
     "output_type": "stream",
     "text": [
      "epoch 9, loss 0.607, train_acc 0.704, train_f1 0.413, test_acc 0.691, test_f1 0.409, taking 64 seconds\n"
     ]
    },
    {
     "name": "stderr",
     "output_type": "stream",
     "text": [
      "100%|██████████| 535/535 [00:35<00:00, 15.00it/s]\n"
     ]
    },
    {
     "name": "stdout",
     "output_type": "stream",
     "text": [
      "epoch 10, loss 0.607, train_acc 0.704, train_f1 0.413, test_acc 0.691, test_f1 0.409, taking 64 seconds\n"
     ]
    },
    {
     "name": "stderr",
     "output_type": "stream",
     "text": [
      "100%|██████████| 535/535 [00:35<00:00, 14.95it/s]\n"
     ]
    },
    {
     "name": "stdout",
     "output_type": "stream",
     "text": [
      "epoch 11, loss 0.607, train_acc 0.704, train_f1 0.413, test_acc 0.691, test_f1 0.409, taking 64 seconds\n"
     ]
    },
    {
     "name": "stderr",
     "output_type": "stream",
     "text": [
      "100%|██████████| 535/535 [00:34<00:00, 15.30it/s]\n"
     ]
    },
    {
     "name": "stdout",
     "output_type": "stream",
     "text": [
      "epoch 12, loss 0.607, train_acc 0.704, train_f1 0.413, test_acc 0.691, test_f1 0.409, taking 63 seconds\n"
     ]
    },
    {
     "name": "stderr",
     "output_type": "stream",
     "text": [
      "100%|██████████| 535/535 [00:35<00:00, 15.27it/s]\n"
     ]
    },
    {
     "name": "stdout",
     "output_type": "stream",
     "text": [
      "epoch 13, loss 0.607, train_acc 0.704, train_f1 0.413, test_acc 0.691, test_f1 0.409, taking 63 seconds\n"
     ]
    },
    {
     "name": "stderr",
     "output_type": "stream",
     "text": [
      "100%|██████████| 535/535 [00:35<00:00, 15.19it/s]\n"
     ]
    },
    {
     "name": "stdout",
     "output_type": "stream",
     "text": [
      "epoch 14, loss 0.607, train_acc 0.704, train_f1 0.413, test_acc 0.691, test_f1 0.409, taking 64 seconds\n"
     ]
    },
    {
     "name": "stderr",
     "output_type": "stream",
     "text": [
      "100%|██████████| 535/535 [00:36<00:00, 14.83it/s]\n"
     ]
    },
    {
     "name": "stdout",
     "output_type": "stream",
     "text": [
      "epoch 15, loss 0.610, train_acc 0.704, train_f1 0.413, test_acc 0.691, test_f1 0.409, taking 64 seconds\n"
     ]
    },
    {
     "name": "stderr",
     "output_type": "stream",
     "text": [
      "100%|██████████| 535/535 [00:35<00:00, 15.25it/s]\n"
     ]
    },
    {
     "name": "stdout",
     "output_type": "stream",
     "text": [
      "epoch 16, loss 0.607, train_acc 0.704, train_f1 0.413, test_acc 0.691, test_f1 0.409, taking 63 seconds\n"
     ]
    },
    {
     "name": "stderr",
     "output_type": "stream",
     "text": [
      "100%|██████████| 535/535 [00:35<00:00, 15.00it/s]\n"
     ]
    },
    {
     "name": "stdout",
     "output_type": "stream",
     "text": [
      "epoch 17, loss 0.607, train_acc 0.704, train_f1 0.413, test_acc 0.691, test_f1 0.409, taking 64 seconds\n"
     ]
    },
    {
     "name": "stderr",
     "output_type": "stream",
     "text": [
      "100%|██████████| 535/535 [00:35<00:00, 15.01it/s]\n"
     ]
    },
    {
     "name": "stdout",
     "output_type": "stream",
     "text": [
      "epoch 18, loss 0.607, train_acc 0.704, train_f1 0.413, test_acc 0.691, test_f1 0.409, taking 64 seconds\n"
     ]
    },
    {
     "name": "stderr",
     "output_type": "stream",
     "text": [
      "100%|██████████| 535/535 [00:35<00:00, 15.02it/s]\n"
     ]
    },
    {
     "name": "stdout",
     "output_type": "stream",
     "text": [
      "epoch 19, loss 0.607, train_acc 0.704, train_f1 0.413, test_acc 0.691, test_f1 0.409, taking 64 seconds\n"
     ]
    },
    {
     "name": "stderr",
     "output_type": "stream",
     "text": [
      "100%|██████████| 535/535 [00:35<00:00, 15.05it/s]\n"
     ]
    },
    {
     "name": "stdout",
     "output_type": "stream",
     "text": [
      "epoch 20, loss 0.607, train_acc 0.704, train_f1 0.413, test_acc 0.691, test_f1 0.409, taking 64 seconds\n",
      "Training is finished.\n",
      "训练损失:0.607, 训练集准确率:0.704, 训练集f1:0.413, 测试集准确率:0.691, 测试集f1:0.409, 在设备cuda:0上训练20周期, 耗时1279 s\n"
     ]
    }
   ],
   "source": [
    "# 以‘微调’的模式进行训练\n",
    "# activation function: nn.ReLU()\n",
    "# 11,034,560 total parameters.\n",
    "loss = nn.CrossEntropyLoss(reduction='none')\n",
    "# 为不同层赋予不同的学习率\n",
    "forward_params = [\n",
    "    param for name, param in net.named_parameters()\n",
    "    if name != \"embedding.weight\"]\n",
    "# trainer = torch.optim.Adam(\n",
    "#     [{'params': net.embedding.parameters()},\n",
    "#     {'params': forward_params,\n",
    "#     'lr': lr * 10}], lr=lr)\n",
    "trainer = torch.optim.Adam(forward_params, lr=lr)\n",
    "net.to(device)\n",
    "\n",
    "num_batches = len(train_iter)\n",
    "losses, train_accuracy, test_accuracy = [], [], []\n",
    "train_f1, test_f1 = [], []\n",
    "total_start = time.time()\n",
    "for epoch in range(num_epochs):\n",
    "    train_loss = 0\n",
    "    start_time = time.perf_counter()\n",
    "    net.train()\n",
    "    for index, data in tqdm(enumerate(train_iter), total=num_batches, leave=True):\n",
    "        (tokens, valid_len), y = data\n",
    "        tokens, valid_len = [v.to(device) for v in (tokens, valid_len)]\n",
    "        y = y.to(device)\n",
    "        l = loss(net(tokens, valid_len), y)\n",
    "        trainer.zero_grad()\n",
    "        l.sum().backward()\n",
    "        trainer.step()\n",
    "        train_loss += l.sum().cpu().detach().numpy() / batch_size\n",
    "        # train_acc += d2l.accuracy(net(X, valid_len), y) / batch_size\n",
    "    epochloss = train_loss / num_batches\n",
    "    epochtrainacc, epochtrainf1 = evaluate_accuracy_f1(net, train_iter)\n",
    "    epochtestacc, epochtestf1 = evaluate_accuracy_f1(net, valid_iter)\n",
    "    end_time = time.perf_counter()\n",
    "    print(f'epoch {epoch + 1}, loss {epochloss:.3f}, train_acc {epochtrainacc:.3f}, '\n",
    "        f'train_f1 {epochtrainf1:.3f}, test_acc {epochtestacc:.3f}, '\n",
    "        f'test_f1 {epochtestf1:.3f}, taking {round(end_time - start_time)} seconds')\n",
    "    losses.append(epochloss)\n",
    "    train_accuracy.append(epochtrainacc)\n",
    "    train_f1.append(epochtrainf1)\n",
    "    test_accuracy.append(epochtestacc)\n",
    "    test_f1.append(epochtestf1)\n",
    "total_timecost = round(time.time() - total_start)\n",
    "print('Training is finished.')\n",
    "print(f'训练损失:{losses[-1]:.3f}, 训练集准确率:{train_accuracy[-1]:.3f}, '\n",
    "      f'训练集f1:{train_f1[-1]:.3f}, 测试集准确率:{test_accuracy[-1]:.3f}, '\n",
    "     f'测试集f1:{test_f1[-1]:.3f}, 在设备{device}上训练{num_epochs}周期, 耗时{total_timecost} s')"
   ]
  },
  {
   "cell_type": "markdown",
   "id": "b460b3f0-8048-4057-a7f5-c72d71e9e27c",
   "metadata": {},
   "source": [
    "## 保存结果"
   ]
  },
  {
   "cell_type": "code",
   "execution_count": 56,
   "id": "a32717bb-0277-4371-9026-766deb5047cb",
   "metadata": {
    "execution": {
     "iopub.execute_input": "2024-07-26T13:11:47.127361Z",
     "iopub.status.busy": "2024-07-26T13:11:47.126882Z",
     "iopub.status.idle": "2024-07-26T13:11:47.131614Z",
     "shell.execute_reply": "2024-07-26T13:11:47.130997Z",
     "shell.execute_reply.started": "2024-07-26T13:11:47.127335Z"
    }
   },
   "outputs": [
    {
     "name": "stdout",
     "output_type": "stream",
     "text": [
      "训练集最佳准确率: 0.704,\n",
      "训练集最佳F1分数: 0.413,\n",
      "测试集最佳准确率: 0.691,\n",
      "测试集最佳F1分数: 0.409\n"
     ]
    }
   ],
   "source": [
    "print(f\"训练集最佳准确率: {max(train_accuracy):.3f},\\n\"\n",
    "    f\"训练集最佳F1分数: {max(train_f1):.3f},\\n\"\n",
    "    f\"测试集最佳准确率: {max(test_accuracy):.3f},\\n\"\n",
    "    f\"测试集最佳F1分数: {max(test_f1):.3f}\")"
   ]
  },
  {
   "cell_type": "code",
   "execution_count": 57,
   "id": "0fefde65-dbf2-442a-9e6c-03ec6f59b8de",
   "metadata": {
    "execution": {
     "iopub.execute_input": "2024-07-26T13:11:49.222435Z",
     "iopub.status.busy": "2024-07-26T13:11:49.222000Z",
     "iopub.status.idle": "2024-07-26T13:11:49.358121Z",
     "shell.execute_reply": "2024-07-26T13:11:49.357391Z",
     "shell.execute_reply.started": "2024-07-26T13:11:49.222408Z"
    }
   },
   "outputs": [
    {
     "data": {
      "image/png": "[encoded data removed]",
      "text/plain": [
       "<Figure size 640x480 with 1 Axes>"
      ]
     },
     "metadata": {},
     "output_type": "display_data"
    }
   ],
   "source": [
    "fig = plt.figure()\n",
    "plt.title('train loss and accuracy')\n",
    "epochs = np.arange(1, num_epochs + 1)\n",
    "plt.axis([0, num_epochs, 0, 1])\n",
    "# losses, test_accuracy, test_f1\n",
    "plt.plot(epochs, losses, 'r.-', label='loss')\n",
    "# plt.plot(epochs, train_accuracy, 'g-.', label='train_acc')\n",
    "plt.plot(epochs, test_accuracy, 'g-.', label='test_acc')\n",
    "plt.plot(epochs, test_f1, 'b-.', label='test_f1')\n",
    "plt.legend(loc='best', frameon=False)\n",
    "plt.show()"
   ]
  },
  {
   "cell_type": "code",
   "execution_count": 58,
   "id": "b300c738-4d31-4a48-af6c-2a513ddcefec",
   "metadata": {
    "execution": {
     "iopub.execute_input": "2024-07-26T13:12:18.226232Z",
     "iopub.status.busy": "2024-07-26T13:12:18.225429Z",
     "iopub.status.idle": "2024-07-26T13:12:18.240925Z",
     "shell.execute_reply": "2024-07-26T13:12:18.240407Z",
     "shell.execute_reply.started": "2024-07-26T13:12:18.226202Z"
    }
   },
   "outputs": [],
   "source": [
    "result = pd.DataFrame({\"train_acc\": train_accuracy,\n",
    "                       \"train_f1\": train_f1,\n",
    "                      \"test_acc\": test_accuracy,\n",
    "                      \"test_f1\": test_f1})\n",
    "result.to_excel(file_path + 'output/3layerfa.xlsx')"
   ]
  },
  {
   "cell_type": "code",
   "execution_count": 59,
   "id": "bb825aed-6eb9-42a4-a179-d5684c87e03c",
   "metadata": {
    "execution": {
     "iopub.execute_input": "2024-07-26T13:12:20.345512Z",
     "iopub.status.busy": "2024-07-26T13:12:20.344763Z",
     "iopub.status.idle": "2024-07-26T13:12:20.398846Z",
     "shell.execute_reply": "2024-07-26T13:12:20.398253Z",
     "shell.execute_reply.started": "2024-07-26T13:12:20.345482Z"
    }
   },
   "outputs": [],
   "source": [
    "torch.save(net.state_dict(), file_path + 'output/3layer_state_dict.pth')"
   ]
  },
  {
   "cell_type": "markdown",
   "id": "d6dd79ad-da77-485f-bd37-976439ff3213",
   "metadata": {},
   "source": [
    "## 3 层 Baseline, 20 epochs"
   ]
  },
  {
   "cell_type": "code",
   "execution_count": 64,
   "id": "1d73d873-fd96-4bc3-837e-b2250087b70e",
   "metadata": {
    "execution": {
     "iopub.execute_input": "2024-07-26T13:14:47.864012Z",
     "iopub.status.busy": "2024-07-26T13:14:47.863400Z",
     "iopub.status.idle": "2024-07-26T13:16:42.740016Z",
     "shell.execute_reply": "2024-07-26T13:16:42.739247Z",
     "shell.execute_reply.started": "2024-07-26T13:14:47.863971Z"
    },
    "scrolled": true
   },
   "outputs": [
    {
     "name": "stderr",
     "output_type": "stream",
     "text": [
      "100%|██████████| 535/535 [00:04<00:00, 118.67it/s]\n"
     ]
    },
    {
     "name": "stdout",
     "output_type": "stream",
     "text": [
      "epoch 1, loss 0.688, train_acc 0.704, train_f1 0.413, test_acc 0.691, test_f1 0.409, taking 6 seconds\n"
     ]
    },
    {
     "name": "stderr",
     "output_type": "stream",
     "text": [
      "100%|██████████| 535/535 [00:04<00:00, 123.15it/s]\n"
     ]
    },
    {
     "name": "stdout",
     "output_type": "stream",
     "text": [
      "epoch 2, loss 0.611, train_acc 0.704, train_f1 0.413, test_acc 0.691, test_f1 0.409, taking 6 seconds\n"
     ]
    },
    {
     "name": "stderr",
     "output_type": "stream",
     "text": [
      "100%|██████████| 535/535 [00:04<00:00, 124.23it/s]\n"
     ]
    },
    {
     "name": "stdout",
     "output_type": "stream",
     "text": [
      "epoch 3, loss 0.608, train_acc 0.704, train_f1 0.413, test_acc 0.691, test_f1 0.409, taking 6 seconds\n"
     ]
    },
    {
     "name": "stderr",
     "output_type": "stream",
     "text": [
      "100%|██████████| 535/535 [00:04<00:00, 120.81it/s]\n"
     ]
    },
    {
     "name": "stdout",
     "output_type": "stream",
     "text": [
      "epoch 4, loss 0.607, train_acc 0.704, train_f1 0.413, test_acc 0.691, test_f1 0.409, taking 6 seconds\n"
     ]
    },
    {
     "name": "stderr",
     "output_type": "stream",
     "text": [
      "100%|██████████| 535/535 [00:04<00:00, 120.55it/s]\n"
     ]
    },
    {
     "name": "stdout",
     "output_type": "stream",
     "text": [
      "epoch 5, loss 0.607, train_acc 0.704, train_f1 0.413, test_acc 0.691, test_f1 0.409, taking 6 seconds\n"
     ]
    },
    {
     "name": "stderr",
     "output_type": "stream",
     "text": [
      "100%|██████████| 535/535 [00:04<00:00, 122.54it/s]\n"
     ]
    },
    {
     "name": "stdout",
     "output_type": "stream",
     "text": [
      "epoch 6, loss 0.607, train_acc 0.704, train_f1 0.413, test_acc 0.691, test_f1 0.409, taking 6 seconds\n"
     ]
    },
    {
     "name": "stderr",
     "output_type": "stream",
     "text": [
      "100%|██████████| 535/535 [00:04<00:00, 129.51it/s]\n"
     ]
    },
    {
     "name": "stdout",
     "output_type": "stream",
     "text": [
      "epoch 7, loss 0.607, train_acc 0.704, train_f1 0.413, test_acc 0.691, test_f1 0.409, taking 6 seconds\n"
     ]
    },
    {
     "name": "stderr",
     "output_type": "stream",
     "text": [
      "100%|██████████| 535/535 [00:04<00:00, 133.00it/s]\n"
     ]
    },
    {
     "name": "stdout",
     "output_type": "stream",
     "text": [
      "epoch 8, loss 0.607, train_acc 0.704, train_f1 0.413, test_acc 0.691, test_f1 0.409, taking 5 seconds\n"
     ]
    },
    {
     "name": "stderr",
     "output_type": "stream",
     "text": [
      "100%|██████████| 535/535 [00:03<00:00, 134.56it/s]\n"
     ]
    },
    {
     "name": "stdout",
     "output_type": "stream",
     "text": [
      "epoch 9, loss 0.607, train_acc 0.704, train_f1 0.413, test_acc 0.691, test_f1 0.409, taking 5 seconds\n"
     ]
    },
    {
     "name": "stderr",
     "output_type": "stream",
     "text": [
      "100%|██████████| 535/535 [00:04<00:00, 131.74it/s]\n"
     ]
    },
    {
     "name": "stdout",
     "output_type": "stream",
     "text": [
      "epoch 10, loss 0.608, train_acc 0.704, train_f1 0.413, test_acc 0.691, test_f1 0.409, taking 6 seconds\n"
     ]
    },
    {
     "name": "stderr",
     "output_type": "stream",
     "text": [
      "100%|██████████| 535/535 [00:03<00:00, 135.23it/s]\n"
     ]
    },
    {
     "name": "stdout",
     "output_type": "stream",
     "text": [
      "epoch 11, loss 0.607, train_acc 0.704, train_f1 0.413, test_acc 0.691, test_f1 0.409, taking 5 seconds\n"
     ]
    },
    {
     "name": "stderr",
     "output_type": "stream",
     "text": [
      "100%|██████████| 535/535 [00:04<00:00, 119.88it/s]\n"
     ]
    },
    {
     "name": "stdout",
     "output_type": "stream",
     "text": [
      "epoch 12, loss 0.608, train_acc 0.704, train_f1 0.413, test_acc 0.691, test_f1 0.409, taking 6 seconds\n"
     ]
    },
    {
     "name": "stderr",
     "output_type": "stream",
     "text": [
      "100%|██████████| 535/535 [00:04<00:00, 120.09it/s]\n"
     ]
    },
    {
     "name": "stdout",
     "output_type": "stream",
     "text": [
      "epoch 13, loss 0.607, train_acc 0.704, train_f1 0.413, test_acc 0.691, test_f1 0.409, taking 6 seconds\n"
     ]
    },
    {
     "name": "stderr",
     "output_type": "stream",
     "text": [
      "100%|██████████| 535/535 [00:04<00:00, 125.87it/s]\n"
     ]
    },
    {
     "name": "stdout",
     "output_type": "stream",
     "text": [
      "epoch 14, loss 0.607, train_acc 0.704, train_f1 0.413, test_acc 0.691, test_f1 0.409, taking 6 seconds\n"
     ]
    },
    {
     "name": "stderr",
     "output_type": "stream",
     "text": [
      "100%|██████████| 535/535 [00:04<00:00, 117.53it/s]\n"
     ]
    },
    {
     "name": "stdout",
     "output_type": "stream",
     "text": [
      "epoch 15, loss 0.607, train_acc 0.704, train_f1 0.413, test_acc 0.691, test_f1 0.409, taking 6 seconds\n"
     ]
    },
    {
     "name": "stderr",
     "output_type": "stream",
     "text": [
      "100%|██████████| 535/535 [00:04<00:00, 123.69it/s]\n"
     ]
    },
    {
     "name": "stdout",
     "output_type": "stream",
     "text": [
      "epoch 16, loss 0.607, train_acc 0.704, train_f1 0.413, test_acc 0.691, test_f1 0.409, taking 6 seconds\n"
     ]
    },
    {
     "name": "stderr",
     "output_type": "stream",
     "text": [
      "100%|██████████| 535/535 [00:04<00:00, 125.54it/s]\n"
     ]
    },
    {
     "name": "stdout",
     "output_type": "stream",
     "text": [
      "epoch 17, loss 0.608, train_acc 0.704, train_f1 0.413, test_acc 0.691, test_f1 0.409, taking 6 seconds\n"
     ]
    },
    {
     "name": "stderr",
     "output_type": "stream",
     "text": [
      "100%|██████████| 535/535 [00:04<00:00, 123.95it/s]\n"
     ]
    },
    {
     "name": "stdout",
     "output_type": "stream",
     "text": [
      "epoch 18, loss 0.607, train_acc 0.704, train_f1 0.413, test_acc 0.691, test_f1 0.409, taking 6 seconds\n"
     ]
    },
    {
     "name": "stderr",
     "output_type": "stream",
     "text": [
      "100%|██████████| 535/535 [00:04<00:00, 122.70it/s]\n"
     ]
    },
    {
     "name": "stdout",
     "output_type": "stream",
     "text": [
      "epoch 19, loss 0.607, train_acc 0.704, train_f1 0.413, test_acc 0.691, test_f1 0.409, taking 6 seconds\n"
     ]
    },
    {
     "name": "stderr",
     "output_type": "stream",
     "text": [
      "100%|██████████| 535/535 [00:04<00:00, 124.91it/s]\n"
     ]
    },
    {
     "name": "stdout",
     "output_type": "stream",
     "text": [
      "epoch 20, loss 0.607, train_acc 0.704, train_f1 0.413, test_acc 0.691, test_f1 0.409, taking 6 seconds\n",
      "Training is finished.\n",
      "训练损失:0.607, 训练集准确率:0.704, 训练集f1:0.413, 测试集准确率:0.691, 测试集f1:0.409, 在设备cuda:0上训练20周期, 耗时115 s\n"
     ]
    }
   ],
   "source": [
    "# 以‘微调’的模式进行训练\n",
    "# activation function: nn.ReLU()\n",
    "# 12,764,162 total parameters.\n",
    "loss = nn.CrossEntropyLoss(reduction='none')\n",
    "# 为不同层赋予不同的学习率\n",
    "forward_params = [\n",
    "    param for name, param in basenet.named_parameters()\n",
    "    if name != \"embedding.weight\"]\n",
    "trainer = torch.optim.Adam(forward_params, lr=lr)\n",
    "basenet.to(device)\n",
    "\n",
    "num_batches = len(train_iter)\n",
    "losses, train_accuracy, test_accuracy = [], [], []\n",
    "train_f1, test_f1 = [], []\n",
    "total_start = time.time()\n",
    "for epoch in range(num_epochs):\n",
    "    train_loss = 0\n",
    "    start_time = time.perf_counter()\n",
    "    basenet.train()\n",
    "    for index, data in tqdm(enumerate(train_iter), total=num_batches, leave=True):\n",
    "        (tokens, valid_len), y = data\n",
    "        tokens, valid_len = [v.to(device) for v in (tokens, valid_len)]\n",
    "        y = y.to(device)\n",
    "        l = loss(basenet(tokens, valid_len), y)\n",
    "        trainer.zero_grad()\n",
    "        l.sum().backward()\n",
    "        trainer.step()\n",
    "        train_loss += l.sum().cpu().detach().numpy() / batch_size\n",
    "        # train_acc += d2l.accuracy(net(X, valid_len), y) / batch_size\n",
    "    epochloss = train_loss / num_batches\n",
    "    epochtrainacc, epochtrainf1 =evaluate_accuracy_f1(basenet, train_iter)\n",
    "    epochtestacc, epochtestf1 = evaluate_accuracy_f1(basenet, valid_iter)\n",
    "    end_time = time.perf_counter()\n",
    "    print(f'epoch {epoch + 1}, loss {epochloss:.3f}, train_acc {epochtrainacc:.3f}, '\n",
    "        f'train_f1 {epochtrainf1:.3f}, test_acc {epochtestacc:.3f}, '\n",
    "        f'test_f1 {epochtestf1:.3f}, taking {round(end_time - start_time)} seconds')\n",
    "    losses.append(epochloss)\n",
    "    train_accuracy.append(epochtrainacc)\n",
    "    train_f1.append(epochtrainf1)\n",
    "    test_accuracy.append(epochtestacc)\n",
    "    test_f1.append(epochtestf1)\n",
    "total_timecost = round(time.time() - total_start)\n",
    "print('Training is finished.')\n",
    "print(f'训练损失:{losses[-1]:.3f}, 训练集准确率:{train_accuracy[-1]:.3f}, '\n",
    "      f'训练集f1:{train_f1[-1]:.3f}, 测试集准确率:{test_accuracy[-1]:.3f}, '\n",
    "     f'测试集f1:{test_f1[-1]:.3f}, 在设备{device}上训练{num_epochs}周期, 耗时{total_timecost} s')"
   ]
  },
  {
   "cell_type": "markdown",
   "id": "975ab276-186c-4706-806b-bd188652077d",
   "metadata": {},
   "source": [
    "## 保存结果"
   ]
  },
  {
   "cell_type": "code",
   "execution_count": 65,
   "id": "5d573d1f-7b26-4f96-893c-f36d6f2d2395",
   "metadata": {
    "execution": {
     "iopub.execute_input": "2024-07-26T13:18:34.121648Z",
     "iopub.status.busy": "2024-07-26T13:18:34.121354Z",
     "iopub.status.idle": "2024-07-26T13:18:34.125649Z",
     "shell.execute_reply": "2024-07-26T13:18:34.125132Z",
     "shell.execute_reply.started": "2024-07-26T13:18:34.121623Z"
    }
   },
   "outputs": [
    {
     "name": "stdout",
     "output_type": "stream",
     "text": [
      "训练集最佳准确率: 0.704,\n",
      "训练集最佳F1分数: 0.413,\n",
      "测试集最佳准确率: 0.691,\n",
      "测试集最佳F1分数: 0.409\n"
     ]
    }
   ],
   "source": [
    "print(f\"训练集最佳准确率: {max(train_accuracy):.3f},\\n\"\n",
    "    f\"训练集最佳F1分数: {max(train_f1):.3f},\\n\"\n",
    "    f\"测试集最佳准确率: {max(test_accuracy):.3f},\\n\"\n",
    "    f\"测试集最佳F1分数: {max(test_f1):.3f}\")"
   ]
  },
  {
   "cell_type": "code",
   "execution_count": 66,
   "id": "ab8790e7-cf4a-4eff-b8b1-1c0ff172b4f6",
   "metadata": {
    "execution": {
     "iopub.execute_input": "2024-07-26T13:18:35.762602Z",
     "iopub.status.busy": "2024-07-26T13:18:35.762089Z",
     "iopub.status.idle": "2024-07-26T13:18:35.900633Z",
     "shell.execute_reply": "2024-07-26T13:18:35.900098Z",
     "shell.execute_reply.started": "2024-07-26T13:18:35.762570Z"
    }
   },
   "outputs": [
    {
     "data": {
      "image/png": "[encoded data removed]",
      "text/plain": [
       "<Figure size 640x480 with 1 Axes>"
      ]
     },
     "metadata": {},
     "output_type": "display_data"
    }
   ],
   "source": [
    "fig = plt.figure()\n",
    "plt.title('train loss and accuracy')\n",
    "epochs = np.arange(1, num_epochs + 1)\n",
    "plt.axis([0, num_epochs, 0, 1])\n",
    "# losses, test_accuracy, test_f1\n",
    "plt.plot(epochs, losses, 'r.-', label='loss')\n",
    "# plt.plot(epochs, train_accuracy, 'g-.', label='train_acc')\n",
    "plt.plot(epochs, test_accuracy, 'g-.', label='test_acc')\n",
    "plt.plot(epochs, test_f1, 'b-.', label='test_f1')\n",
    "plt.legend(loc='best', frameon=False)\n",
    "plt.show()"
   ]
  },
  {
   "cell_type": "code",
   "execution_count": 67,
   "id": "4b2f1aae-0b14-43a9-b373-e02a636c0b54",
   "metadata": {
    "execution": {
     "iopub.execute_input": "2024-07-26T13:18:39.850948Z",
     "iopub.status.busy": "2024-07-26T13:18:39.850518Z",
     "iopub.status.idle": "2024-07-26T13:18:39.867165Z",
     "shell.execute_reply": "2024-07-26T13:18:39.866262Z",
     "shell.execute_reply.started": "2024-07-26T13:18:39.850922Z"
    }
   },
   "outputs": [],
   "source": [
    "result = pd.DataFrame({\"train_acc\": train_accuracy,\n",
    "                       \"train_f1\": train_f1,\n",
    "                      \"test_acc\": test_accuracy,\n",
    "                      \"test_f1\": test_f1})\n",
    "result.to_excel(file_path + 'output/3layerba.xlsx')"
   ]
  },
  {
   "cell_type": "code",
   "execution_count": 68,
   "id": "6fe1cb1d-7ba0-4b54-9603-ed8f1c7bdbc7",
   "metadata": {
    "execution": {
     "iopub.execute_input": "2024-07-26T13:18:45.643067Z",
     "iopub.status.busy": "2024-07-26T13:18:45.642777Z",
     "iopub.status.idle": "2024-07-26T13:18:45.697357Z",
     "shell.execute_reply": "2024-07-26T13:18:45.696742Z",
     "shell.execute_reply.started": "2024-07-26T13:18:45.643042Z"
    }
   },
   "outputs": [],
   "source": [
    "torch.save(net.state_dict(), file_path + 'output/3layerba_state_dict.pth')"
   ]
  },
  {
   "cell_type": "markdown",
   "id": "087262d1-0e4d-40f7-bc1b-371a5c89001d",
   "metadata": {},
   "source": [
    "# 结尾"
   ]
  }
 ],
 "metadata": {
  "kernelspec": {
   "display_name": "Python 3 (ipykernel)",
   "language": "python",
   "name": "python3"
  },
  "language_info": {
   "codemirror_mode": {
    "name": "ipython",
    "version": 3
   },
   "file_extension": ".py",
   "mimetype": "text/x-python",
   "name": "python",
   "nbconvert_exporter": "python",
   "pygments_lexer": "ipython3",
   "version": "3.8.10"
  }
 },
 "nbformat": 4,
 "nbformat_minor": 5
}
