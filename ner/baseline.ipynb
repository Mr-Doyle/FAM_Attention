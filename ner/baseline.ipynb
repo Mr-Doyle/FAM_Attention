{
 "cells": [
  {
   "cell_type": "markdown",
   "id": "e89b0394-d9d1-4fef-a0c3-f675ae7bb8b7",
   "metadata": {},
   "source": [
    "# 加载数据集"
   ]
  },
  {
   "cell_type": "code",
   "execution_count": 1,
   "id": "eb391dea-c32c-49f3-8fa8-7983326b92ba",
   "metadata": {
    "execution": {
     "iopub.execute_input": "2024-08-04T01:14:13.879213Z",
     "iopub.status.busy": "2024-08-04T01:14:13.876907Z",
     "iopub.status.idle": "2024-08-04T01:14:15.438852Z",
     "shell.execute_reply": "2024-08-04T01:14:15.437072Z",
     "shell.execute_reply.started": "2024-08-04T01:14:13.879098Z"
    }
   },
   "outputs": [
    {
     "data": {
      "application/vnd.jupyter.widget-view+json": {
       "model_id": "0fc2429117644d509faea28b8cf87475",
       "version_major": 2,
       "version_minor": 0
      },
      "text/plain": [
       "Generating train split: 0 examples [00:00, ? examples/s]"
      ]
     },
     "metadata": {},
     "output_type": "display_data"
    },
    {
     "data": {
      "application/vnd.jupyter.widget-view+json": {
       "model_id": "1fae4066bef3494f94d36f04854fe983",
       "version_major": 2,
       "version_minor": 0
      },
      "text/plain": [
       "Generating validation split: 0 examples [00:00, ? examples/s]"
      ]
     },
     "metadata": {},
     "output_type": "display_data"
    },
    {
     "data": {
      "application/vnd.jupyter.widget-view+json": {
       "model_id": "1b3a9bd1009e4717a5de1df95f86f730",
       "version_major": 2,
       "version_minor": 0
      },
      "text/plain": [
       "Generating test split: 0 examples [00:00, ? examples/s]"
      ]
     },
     "metadata": {},
     "output_type": "display_data"
    },
    {
     "name": "stdout",
     "output_type": "stream",
     "text": [
      "14041 3453 3250\n",
      "训练集中标签统计: Counter({0: 169575, 5: 7140, 3: 6600, 1: 6321, 4: 4528, 6: 3704, 2: 3438, 8: 1157, 7: 1155})\n",
      "测试集中标签统计: Counter({0: 38315, 5: 1668, 1: 1661, 3: 1617, 4: 1156, 6: 835, 2: 702, 8: 257, 7: 216})\n",
      "验证集中标签统计: Counter({0: 42757, 3: 1842, 5: 1837, 1: 1341, 4: 1307, 2: 922, 6: 751, 7: 346, 8: 257})\n"
     ]
    }
   ],
   "source": [
    "from datasets import load_dataset\n",
    "from collections import Counter\n",
    "\n",
    "dataset = load_dataset('conll2003')\n",
    "print(len(dataset['train']), len(dataset['test']), len(dataset['validation']))\n",
    "print(f\"训练集中标签统计: {Counter(t for tags in dataset['train']['tags'] for t in tags)}\")\n",
    "print(f\"测试集中标签统计: {Counter(t for tags in dataset['test']['tags'] for t in tags)}\")\n",
    "print(f\"验证集中标签统计: {Counter(t for tags in dataset['validation']['tags'] for t in tags)}\")"
   ]
  },
  {
   "cell_type": "code",
   "execution_count": 2,
   "id": "b0a4d6a9-128d-4c2b-a239-5c8fb319cb5e",
   "metadata": {
    "execution": {
     "iopub.execute_input": "2024-08-04T01:14:17.613243Z",
     "iopub.status.busy": "2024-08-04T01:14:17.612735Z",
     "iopub.status.idle": "2024-08-04T01:14:17.621981Z",
     "shell.execute_reply": "2024-08-04T01:14:17.619917Z",
     "shell.execute_reply.started": "2024-08-04T01:14:17.613209Z"
    }
   },
   "outputs": [],
   "source": [
    "label2id = {\n",
    "          \"O\": 0,\n",
    "          \"B-ORG\": 1,\n",
    "          \"B-MISC\": 2,\n",
    "          \"B-PER\": 3,\n",
    "          \"I-PER\": 4,\n",
    "          \"B-LOC\": 5,\n",
    "          \"I-ORG\": 6,\n",
    "          \"I-MISC\": 7,\n",
    "          \"I-LOC\": 8}\n",
    "id2label = {v: k for k, v in label2id.items()}"
   ]
  },
  {
   "cell_type": "code",
   "execution_count": 17,
   "id": "89930839-2c9e-46c7-9e41-c4b135a46883",
   "metadata": {
    "execution": {
     "iopub.execute_input": "2024-08-03T03:37:23.502352Z",
     "iopub.status.busy": "2024-08-03T03:37:23.501861Z",
     "iopub.status.idle": "2024-08-03T03:37:24.164115Z",
     "shell.execute_reply": "2024-08-03T03:37:24.163295Z",
     "shell.execute_reply.started": "2024-08-03T03:37:23.502305Z"
    }
   },
   "outputs": [
    {
     "name": "stdout",
     "output_type": "stream",
     "text": [
      "训练集中最大token列表长度: 113, 测试集中最大token列表长度: 124, 验证集中最大token列表长度: 109 .\n"
     ]
    },
    {
     "data": {
      "text/plain": [
       "(array([8.129e+03, 2.641e+03, 2.208e+03, 9.210e+02, 1.280e+02, 1.200e+01,\n",
       "        1.000e+00, 0.000e+00, 0.000e+00, 1.000e+00]),\n",
       " array([  1. ,  12.2,  23.4,  34.6,  45.8,  57. ,  68.2,  79.4,  90.6,\n",
       "        101.8, 113. ]),\n",
       " <BarContainer object of 10 artists>)"
      ]
     },
     "execution_count": 17,
     "metadata": {},
     "output_type": "execute_result"
    },
    {
     "data": {
      "image/png": "[encoded data removed]",
      "text/plain": [
       "<Figure size 640x480 with 1 Axes>"
      ]
     },
     "metadata": {},
     "output_type": "display_data"
    }
   ],
   "source": [
    "import matplotlib.pyplot as plt\n",
    "\n",
    "print(f\"训练集中最大token列表长度: {max(len(t) for t in dataset['train']['tokens'])}, \"\n",
    "        f\"测试集中最大token列表长度: {max(len(t) for t in dataset['test']['tokens'])}, \"\n",
    "        f\"验证集中最大token列表长度: {max(len(t) for t in dataset['validation']['tokens'])} .\")\n",
    "plt.hist(list(len(t) for t in dataset['train']['tokens']))"
   ]
  },
  {
   "cell_type": "markdown",
   "id": "69e9d16e-8f58-4f79-80ac-89391fb6e045",
   "metadata": {},
   "source": [
    "# 使用训练集训练词向量"
   ]
  },
  {
   "cell_type": "code",
   "execution_count": 18,
   "id": "76bfafa2-ac2f-4de0-aa6d-6677434852dd",
   "metadata": {
    "execution": {
     "iopub.execute_input": "2024-08-03T03:39:12.237210Z",
     "iopub.status.busy": "2024-08-03T03:39:12.236927Z",
     "iopub.status.idle": "2024-08-03T03:39:18.471766Z",
     "shell.execute_reply": "2024-08-03T03:39:18.470691Z",
     "shell.execute_reply.started": "2024-08-03T03:39:12.237186Z"
    }
   },
   "outputs": [],
   "source": [
    "from gensim.models import word2vec\n",
    "\n",
    "model = word2vec.Word2Vec(sentences=dataset['train']['tokens'], vector_size=512, sg=1, min_count=1)\n",
    "model.save(\"/root/autodl-tmp/ner/conll2003_word_vec_sg.bin\")"
   ]
  },
  {
   "cell_type": "markdown",
   "id": "9460e3c8-27ef-4ec5-9b48-45792dcd16dd",
   "metadata": {},
   "source": [
    "# 因子分析"
   ]
  },
  {
   "cell_type": "code",
   "execution_count": 19,
   "id": "58833e4e-3cdf-432f-a03e-5b7122b0c720",
   "metadata": {
    "execution": {
     "iopub.execute_input": "2024-08-03T03:39:45.003230Z",
     "iopub.status.busy": "2024-08-03T03:39:45.002605Z",
     "iopub.status.idle": "2024-08-03T03:39:47.167641Z",
     "shell.execute_reply": "2024-08-03T03:39:47.166578Z",
     "shell.execute_reply.started": "2024-08-03T03:39:45.003188Z"
    }
   },
   "outputs": [],
   "source": [
    "import numpy as np\n",
    "import pandas as pd\n",
    "from d2l import torch as d2l\n",
    "import matplotlib.pyplot as plt\n",
    "import seaborn as sns\n",
    "import math\n",
    "from gensim.models import word2vec\n",
    "from factor_analyzer import FactorAnalyzer\n",
    "from factor_analyzer.factor_analyzer import calculate_bartlett_sphericity, calculate_kmo"
   ]
  },
  {
   "cell_type": "code",
   "execution_count": 20,
   "id": "3b17f002-1a06-4106-baa2-0aa7782009fa",
   "metadata": {
    "execution": {
     "iopub.execute_input": "2024-08-03T03:40:23.325300Z",
     "iopub.status.busy": "2024-08-03T03:40:23.324832Z",
     "iopub.status.idle": "2024-08-03T03:40:23.670192Z",
     "shell.execute_reply": "2024-08-03T03:40:23.669090Z",
     "shell.execute_reply.started": "2024-08-03T03:40:23.325274Z"
    }
   },
   "outputs": [
    {
     "name": "stdout",
     "output_type": "stream",
     "text": [
      "(23622, 512)\n"
     ]
    }
   ],
   "source": [
    "# 加载训练好的word2vec模型\n",
    "model = word2vec.Word2Vec.load(\"/root/autodl-tmp/ner/conll2003_word_vec_sg.bin\")\n",
    "embedding = np.array([model.wv[word] for word in model.wv.index_to_key])\n",
    "print(embedding.shape)"
   ]
  },
  {
   "cell_type": "code",
   "execution_count": 21,
   "id": "0db63d12-ad35-4166-82d4-0d13483194d6",
   "metadata": {
    "execution": {
     "iopub.execute_input": "2024-08-03T03:40:35.388954Z",
     "iopub.status.busy": "2024-08-03T03:40:35.388488Z",
     "iopub.status.idle": "2024-08-03T03:40:35.945570Z",
     "shell.execute_reply": "2024-08-03T03:40:35.944887Z",
     "shell.execute_reply.started": "2024-08-03T03:40:35.388928Z"
    }
   },
   "outputs": [
    {
     "name": "stdout",
     "output_type": "stream",
     "text": [
      "Bartlett's球状检验: 检验总体变量的相关矩阵是否是单位阵\n",
      "inf 0.0\n",
      "kmo检验:\n",
      "检查变量间的相关性和偏相关性，取值在0-1之间；KMO统计量越接近1，变量间的相关性越强，偏相关性越弱，因子分析的效果越好\n"
     ]
    },
    {
     "name": "stderr",
     "output_type": "stream",
     "text": [
      "/root/miniconda3/lib/python3.8/site-packages/factor_analyzer/factor_analyzer.py:108: RuntimeWarning: divide by zero encountered in log\n",
      "  statistic = -np.log(corr_det) * (n - 1 - (2 * p + 5) / 6)\n"
     ]
    },
    {
     "name": "stdout",
     "output_type": "stream",
     "text": [
      "KMO值为:  0.999157674744419\n"
     ]
    },
    {
     "name": "stderr",
     "output_type": "stream",
     "text": [
      "/root/miniconda3/lib/python3.8/site-packages/factor_analyzer/utils.py:244: UserWarning: The inverse of the variance-covariance matrix was calculated using the Moore-Penrose generalized matrix inversion, due to its determinant being at or very close to zero.\n",
      "  warnings.warn(\n"
     ]
    }
   ],
   "source": [
    "# Bartlett's球状检验\n",
    "print('Bartlett\\'s球状检验: 检验总体变量的相关矩阵是否是单位阵')\n",
    "chi_square_value, p_value = calculate_bartlett_sphericity(embedding)\n",
    "print(chi_square_value, p_value)\n",
    "\n",
    "# 导入kmo检验\n",
    "print('kmo检验:')\n",
    "print('检查变量间的相关性和偏相关性，取值在0-1之间；KMO统计量越接近1，变量间的相关性越强，偏相关性越弱，因子分析的效果越好')\n",
    "kmo_all, kmo_model = calculate_kmo(embedding)\n",
    "print('KMO值为: ', kmo_model)"
   ]
  },
  {
   "cell_type": "code",
   "execution_count": 22,
   "id": "47a5a1b3-422a-475f-b49c-b567ee50d103",
   "metadata": {
    "execution": {
     "iopub.execute_input": "2024-08-03T03:41:03.156671Z",
     "iopub.status.busy": "2024-08-03T03:41:03.156388Z",
     "iopub.status.idle": "2024-08-03T03:47:34.718118Z",
     "shell.execute_reply": "2024-08-03T03:47:34.717038Z",
     "shell.execute_reply.started": "2024-08-03T03:41:03.156647Z"
    }
   },
   "outputs": [],
   "source": [
    "# 因子分析\n",
    "fa = FactorAnalyzer(25, rotation=None)\n",
    "# fa = FactorAnalyzer(25, rotation='varimax')\n",
    "fa.fit(embedding)\n",
    "\n",
    "# 特征值、特征向量\n",
    "ev, v = fa.get_eigenvalues()"
   ]
  },
  {
   "cell_type": "code",
   "execution_count": 23,
   "id": "ee4aaf51-4fce-46cc-a138-6657ce8d9a9b",
   "metadata": {
    "execution": {
     "iopub.execute_input": "2024-08-03T04:02:48.059251Z",
     "iopub.status.busy": "2024-08-03T04:02:48.058752Z",
     "iopub.status.idle": "2024-08-03T04:02:48.240811Z",
     "shell.execute_reply": "2024-08-03T04:02:48.240014Z",
     "shell.execute_reply.started": "2024-08-03T04:02:48.059203Z"
    }
   },
   "outputs": [
    {
     "data": {
      "image/png": "[encoded data removed]",
      "text/plain": [
       "<Figure size 640x480 with 1 Axes>"
      ]
     },
     "metadata": {},
     "output_type": "display_data"
    }
   ],
   "source": [
    "# 可视化\n",
    "# plot横轴是指标个数，纵轴是ev值\n",
    "plt.scatter(range(1, embedding.shape[1]+1), ev)\n",
    "plt.plot(range(1, embedding.shape[1]+1), ev)\n",
    "plt.title('Scree Plot')\n",
    "plt.xlabel('Factors')\n",
    "plt.ylabel('Eigenvalue')\n",
    "plt.grid()\n",
    "plt.show()"
   ]
  },
  {
   "cell_type": "code",
   "execution_count": 25,
   "id": "e23b1330-bd98-45c8-9199-bdd2014eb2c9",
   "metadata": {
    "execution": {
     "iopub.execute_input": "2024-08-03T04:03:21.602020Z",
     "iopub.status.busy": "2024-08-03T04:03:21.601736Z",
     "iopub.status.idle": "2024-08-03T04:03:21.819037Z",
     "shell.execute_reply": "2024-08-03T04:03:21.818269Z",
     "shell.execute_reply.started": "2024-08-03T04:03:21.601996Z"
    }
   },
   "outputs": [
    {
     "data": {
      "image/png": "[encoded data removed]",
      "text/plain": [
       "<Figure size 640x480 with 1 Axes>"
      ]
     },
     "metadata": {},
     "output_type": "display_data"
    },
    {
     "data": {
      "text/plain": [
       "<Figure size 640x480 with 0 Axes>"
      ]
     },
     "metadata": {},
     "output_type": "display_data"
    }
   ],
   "source": [
    "# 更清晰的展示前三十个\n",
    "plt.scatter(range(1, 31), ev[:30])\n",
    "plt.plot(range(1, 31), ev[:30])\n",
    "plt.title('Scree Plot')\n",
    "plt.xlabel('Factors')\n",
    "plt.ylabel('Eigenvalue')\n",
    "plt.grid()\n",
    "plt.show()\n",
    "plt.savefig('ev30.png')"
   ]
  },
  {
   "cell_type": "code",
   "execution_count": 26,
   "id": "ccadd4ec-5e43-46e7-9418-18399da61002",
   "metadata": {
    "execution": {
     "iopub.execute_input": "2024-08-03T04:04:58.462851Z",
     "iopub.status.busy": "2024-08-03T04:04:58.462274Z",
     "iopub.status.idle": "2024-08-03T04:10:17.667038Z",
     "shell.execute_reply": "2024-08-03T04:10:17.666396Z",
     "shell.execute_reply.started": "2024-08-03T04:04:58.462815Z"
    }
   },
   "outputs": [
    {
     "name": "stdout",
     "output_type": "stream",
     "text": [
      "(512, 8)\n"
     ]
    }
   ],
   "source": [
    "# 上图表示，八个因子已经承载了足够多的特征值，确定因子数为8进行因子分析\n",
    "fa = FactorAnalyzer(8, rotation=\"promax\")\n",
    "fa.fit(embedding)\n",
    "print(fa.loadings_.shape)\n",
    "\n",
    "# 保存因子分析的结果\n",
    "# 512*8(变量个数*因子个数)\n",
    "index = fa.loadings_.argmax(axis=1)\n",
    "res = np.array([[i, idx] for i, idx in enumerate(index)])\n",
    "\n",
    "data_1 = pd.DataFrame(fa.loadings_, columns=['fa1', 'fa2', 'fa3', 'fa4', 'fa5', 'fa6', 'fa7', 'fa8'])\n",
    "data_2 = pd.DataFrame(res, columns=['Dimension', 'Factor'])\n",
    "with pd.ExcelWriter(\"FAoutput.xlsx\") as writer1:\n",
    "    data_1.to_excel(writer1, sheet_name=\"Sheet1\")\n",
    "    data_2.to_excel(writer1, sheet_name=\"Sheet2\")\n",
    "    writer1.save()"
   ]
  },
  {
   "cell_type": "code",
   "execution_count": 27,
   "id": "45c8556c-2bc7-4fb4-990d-811d0876c45f",
   "metadata": {
    "execution": {
     "iopub.execute_input": "2024-08-03T04:14:53.951032Z",
     "iopub.status.busy": "2024-08-03T04:14:53.950334Z",
     "iopub.status.idle": "2024-08-03T04:14:56.092629Z",
     "shell.execute_reply": "2024-08-03T04:14:56.091908Z",
     "shell.execute_reply.started": "2024-08-03T04:14:53.951003Z"
    }
   },
   "outputs": [
    {
     "data": {
      "image/png": "[encoded data removed]",
      "text/plain": [
       "<Figure size 1200x2500 with 2 Axes>"
      ]
     },
     "metadata": {},
     "output_type": "display_data"
    }
   ],
   "source": [
    "# 因子分析结果可视化\n",
    "df_cm = pd.DataFrame(np.abs(fa.loadings_))\n",
    "fig, ax = plt.subplots(figsize=(12, 25))\n",
    "sns.heatmap(df_cm, annot=None, cmap='YlGnBu', ax=ax)  # cbar_kws\n",
    "\n",
    "ax.tick_params(axis='x', labelsize=15)\n",
    "ax.set_title(\"Factor Analysis\", fontsize=12)\n",
    "ax.set_ylabel(\"Dimension\")\n",
    "plt.savefig('FAdimension.png')"
   ]
  },
  {
   "cell_type": "markdown",
   "id": "46cbd0b3-2e48-4a90-8ea2-879ce96fdb21",
   "metadata": {},
   "source": [
    "# 模型架构"
   ]
  },
  {
   "cell_type": "code",
   "execution_count": 3,
   "id": "7b5102a1-217d-4031-9170-a065969900e6",
   "metadata": {
    "execution": {
     "iopub.execute_input": "2024-08-04T01:14:30.154509Z",
     "iopub.status.busy": "2024-08-04T01:14:30.153480Z",
     "iopub.status.idle": "2024-08-04T01:14:33.582309Z",
     "shell.execute_reply": "2024-08-04T01:14:33.581376Z",
     "shell.execute_reply.started": "2024-08-04T01:14:30.154428Z"
    }
   },
   "outputs": [],
   "source": [
    "import torch\n",
    "from torch import nn\n",
    "import numpy as np\n",
    "import pandas as pd\n",
    "from d2l import torch as d2l\n",
    "import matplotlib.pyplot as plt\n",
    "from datasets import load_dataset\n",
    "from tqdm import tqdm\n",
    "import time\n",
    "import math\n",
    "from gensim.models import word2vec"
   ]
  },
  {
   "cell_type": "markdown",
   "id": "5a6877f7-12ec-49d3-a236-18753c54897e",
   "metadata": {},
   "source": [
    "## FAM"
   ]
  },
  {
   "cell_type": "code",
   "execution_count": 4,
   "id": "b54b58ed-7cd0-48bc-ba98-d29f6fef664d",
   "metadata": {
    "execution": {
     "iopub.execute_input": "2024-08-03T14:30:30.758546Z",
     "iopub.status.busy": "2024-08-03T14:30:30.758116Z",
     "iopub.status.idle": "2024-08-03T14:30:30.791483Z",
     "shell.execute_reply": "2024-08-03T14:30:30.790765Z",
     "shell.execute_reply.started": "2024-08-03T14:30:30.758520Z"
    }
   },
   "outputs": [],
   "source": [
    "class FAMAttention(nn.Module):\n",
    "    \"\"\"修改多头注意力，针对嵌入512维，8个head的模型\"\"\"\n",
    "\n",
    "    def __init__(self, num_hiddens, dim_dict, dropout, bias=False, **kwargs):\n",
    "        super(FAMAttention, self).__init__(**kwargs)\n",
    "        self.attention = d2l.DotProductAttention(dropout)\n",
    "        self.W_o = nn.Linear(num_hiddens, num_hiddens, bias=bias)\n",
    "        self.dim_dict = dim_dict\n",
    "        self.dim_0 = [dim for dim, idx in self.dim_dict.items() if idx == 0]\n",
    "        self.dim_1 = [dim for dim, idx in self.dim_dict.items() if idx == 1]\n",
    "        self.dim_2 = [dim for dim, idx in self.dim_dict.items() if idx == 2]\n",
    "        self.dim_3 = [dim for dim, idx in self.dim_dict.items() if idx == 3]\n",
    "        self.dim_4 = [dim for dim, idx in self.dim_dict.items() if idx == 4]\n",
    "        self.dim_5 = [dim for dim, idx in self.dim_dict.items() if idx == 5]\n",
    "        self.dim_6 = [dim for dim, idx in self.dim_dict.items() if idx == 6]\n",
    "        self.dim_7 = [dim for dim, idx in self.dim_dict.items() if idx == 7]\n",
    "        # self.list_concat = torch.cat((self.dim_0, self.dim_1, self.dim_2, self.dim_3, self.dim_4, self.dim_5,\n",
    "        # self.dim_6, self.dim_7))\n",
    "        self.len_0, self.len_1, self.len_2, self.len_3, self.len_4, self.len_5, self.len_6, self.len_7 = len(\n",
    "            self.dim_0), len(self.dim_1), len(self.dim_2), len(self.dim_3), len(self.dim_4), len(self.dim_5),\\\n",
    "            len(self.dim_6), len(self.dim_7)\n",
    "\n",
    "        self.Wq0 = nn.Linear(self.len_0, self.len_0, bias=bias)\n",
    "        self.Wq1 = nn.Linear(self.len_1, self.len_1, bias=bias)\n",
    "        self.Wq2 = nn.Linear(self.len_2, self.len_2, bias=bias)\n",
    "        self.Wq3 = nn.Linear(self.len_3, self.len_3, bias=bias)\n",
    "        self.Wq4 = nn.Linear(self.len_4, self.len_4, bias=bias)\n",
    "        self.Wq5 = nn.Linear(self.len_5, self.len_5, bias=bias)\n",
    "        self.Wq6 = nn.Linear(self.len_6, self.len_6, bias=bias)\n",
    "        self.Wq7 = nn.Linear(self.len_7, self.len_7, bias=bias)\n",
    "\n",
    "        self.Wk0 = nn.Linear(self.len_0, self.len_0, bias=bias)\n",
    "        self.Wk1 = nn.Linear(self.len_1, self.len_1, bias=bias)\n",
    "        self.Wk2 = nn.Linear(self.len_2, self.len_2, bias=bias)\n",
    "        self.Wk3 = nn.Linear(self.len_3, self.len_3, bias=bias)\n",
    "        self.Wk4 = nn.Linear(self.len_4, self.len_4, bias=bias)\n",
    "        self.Wk5 = nn.Linear(self.len_5, self.len_5, bias=bias)\n",
    "        self.Wk6 = nn.Linear(self.len_6, self.len_6, bias=bias)\n",
    "        self.Wk7 = nn.Linear(self.len_7, self.len_7, bias=bias)\n",
    "\n",
    "        self.Wv0 = nn.Linear(self.len_0, self.len_0, bias=bias)\n",
    "        self.Wv1 = nn.Linear(self.len_1, self.len_1, bias=bias)\n",
    "        self.Wv2 = nn.Linear(self.len_2, self.len_2, bias=bias)\n",
    "        self.Wv3 = nn.Linear(self.len_3, self.len_3, bias=bias)\n",
    "        self.Wv4 = nn.Linear(self.len_4, self.len_4, bias=bias)\n",
    "        self.Wv5 = nn.Linear(self.len_5, self.len_5, bias=bias)\n",
    "        self.Wv6 = nn.Linear(self.len_6, self.len_6, bias=bias)\n",
    "        self.Wv7 = nn.Linear(self.len_7, self.len_7, bias=bias)\n",
    "\n",
    "    def forward(self, queries, keys, values, valid_lens):\n",
    "        def assemble(output_concat, list_concat):\n",
    "            reslist = []\n",
    "            for i in range(512):\n",
    "                reslist.append(list_concat.index(i))\n",
    "            return torch.index_select(output_concat, -1, torch.tensor(reslist, device=output_concat.device))\n",
    "\n",
    "        # queries, keys, values的形状: (batch_size，查询或者“键－值”对的个数，num_hiddens)\n",
    "        # qi, ki, vi的形状：(batch_size, 查询或者“键－值”对的个数， self.len_i)\n",
    "        q0, k0, v0 = torch.index_select(queries, -1, torch.tensor(self.dim_0, device=queries.device)), \\\n",
    "            torch.index_select(keys, -1, torch.tensor(self.dim_0, device=keys.device)), torch.index_select(\n",
    "            values, -1, torch.tensor(self.dim_0, device=values.device))\n",
    "        q1, k1, v1 = torch.index_select(queries, -1, torch.tensor(self.dim_1, device=queries.device)), \\\n",
    "            torch.index_select(keys, -1, torch.tensor(self.dim_1, device=keys.device)), torch.index_select(\n",
    "            values, -1, torch.tensor(self.dim_1, device=values.device))\n",
    "        q2, k2, v2 = torch.index_select(queries, -1, torch.tensor(self.dim_2, device=queries.device)), \\\n",
    "            torch.index_select(keys, -1, torch.tensor(self.dim_2, device=keys.device)), torch.index_select(\n",
    "            values, -1, torch.tensor(self.dim_2, device=values.device))\n",
    "        q3, k3, v3 = torch.index_select(queries, -1, torch.tensor(self.dim_3, device=queries.device)), \\\n",
    "            torch.index_select(keys, -1, torch.tensor(self.dim_3, device=keys.device)), torch.index_select(\n",
    "            values, -1, torch.tensor(self.dim_3, device=values.device))\n",
    "        q4, k4, v4 = torch.index_select(queries, -1, torch.tensor(self.dim_4, device=queries.device)), \\\n",
    "            torch.index_select(keys, -1, torch.tensor(self.dim_4, device=keys.device)), torch.index_select(\n",
    "            values, -1, torch.tensor(self.dim_4, device=values.device))\n",
    "        q5, k5, v5 = torch.index_select(queries, -1, torch.tensor(self.dim_5, device=queries.device)), \\\n",
    "            torch.index_select(keys, -1, torch.tensor(self.dim_5, device=keys.device)), torch.index_select(\n",
    "            values, -1, torch.tensor(self.dim_5, device=values.device))\n",
    "        q6, k6, v6 = torch.index_select(queries, -1, torch.tensor(self.dim_6, device=queries.device)), \\\n",
    "            torch.index_select(keys, -1, torch.tensor(self.dim_6, device=keys.device)), torch.index_select(\n",
    "            values, -1, torch.tensor(self.dim_6, device=values.device))\n",
    "        q7, k7, v7 = torch.index_select(queries, -1, torch.tensor(self.dim_7, device=queries.device)), \\\n",
    "            torch.index_select(keys, -1, torch.tensor(self.dim_7, device=keys.device)), torch.index_select(\n",
    "            values, -1, torch.tensor(self.dim_7, device=values.device))\n",
    "\n",
    "        head0 = self.attention(self.Wq0(q0), self.Wk0(k0), self.Wv0(v0), valid_lens)\n",
    "        head1 = self.attention(self.Wq1(q1), self.Wk1(k1), self.Wv1(v1), valid_lens)\n",
    "        head2 = self.attention(self.Wq2(q2), self.Wk2(k2), self.Wv2(v2), valid_lens)\n",
    "        head3 = self.attention(self.Wq3(q3), self.Wk3(k3), self.Wv3(v3), valid_lens)\n",
    "        head4 = self.attention(self.Wq4(q4), self.Wk4(k4), self.Wv4(v4), valid_lens)\n",
    "        head5 = self.attention(self.Wq5(q5), self.Wk5(k5), self.Wv5(v5), valid_lens)\n",
    "        head6 = self.attention(self.Wq6(q6), self.Wk6(k6), self.Wv6(v6), valid_lens)\n",
    "        head7 = self.attention(self.Wq7(q7), self.Wk7(k7), self.Wv7(v7), valid_lens)\n",
    "\n",
    "        output_concat = torch.cat((head0, head1, head2, head3, head4, head5, head6, head7), dim=-1)\n",
    "        list_concat = self.dim_0 + self.dim_1 + self.dim_2 + self.dim_3 + self.dim_4 + self.dim_5 + self.dim_6 + self.dim_7\n",
    "        return self.W_o(assemble(output_concat, list_concat))"
   ]
  },
  {
   "cell_type": "code",
   "execution_count": 5,
   "id": "1334b56c-9efe-41db-82ac-ca6be34ac97a",
   "metadata": {
    "execution": {
     "iopub.execute_input": "2024-08-03T14:30:31.721479Z",
     "iopub.status.busy": "2024-08-03T14:30:31.721190Z",
     "iopub.status.idle": "2024-08-03T14:30:31.728045Z",
     "shell.execute_reply": "2024-08-03T14:30:31.727046Z",
     "shell.execute_reply.started": "2024-08-03T14:30:31.721454Z"
    }
   },
   "outputs": [],
   "source": [
    "# 编码器块\n",
    "class EncoderBlock(nn.Module):\n",
    "    \"\"\"修改的编码器块\"\"\"\n",
    "\n",
    "    def __init__(self, num_hiddens, norm_shape, ffn_num_input,\n",
    "                 ffn_num_hiddens, dim_dict, dropout, use_bias=False, **kwargs):\n",
    "        super(EncoderBlock, self).__init__(**kwargs)\n",
    "        self.attention = FAMAttention(num_hiddens, dim_dict, dropout, use_bias)\n",
    "        self.addnorm1 = d2l.AddNorm(norm_shape, dropout)\n",
    "        self.ffn = d2l.PositionWiseFFN(\n",
    "            ffn_num_input, ffn_num_hiddens, num_hiddens)\n",
    "        self.addnorm2 = d2l.AddNorm(norm_shape, dropout)\n",
    "\n",
    "    def forward(self, X, valid_lens):\n",
    "        Y = self.addnorm1(X, self.attention(X, X, X, valid_lens))\n",
    "        return self.addnorm2(Y, self.ffn(Y))"
   ]
  },
  {
   "cell_type": "code",
   "execution_count": 6,
   "id": "7705f198-dfaa-466f-8808-f03a0fd357f3",
   "metadata": {
    "execution": {
     "iopub.execute_input": "2024-08-03T14:30:32.923589Z",
     "iopub.status.busy": "2024-08-03T14:30:32.923077Z",
     "iopub.status.idle": "2024-08-03T14:30:32.937620Z",
     "shell.execute_reply": "2024-08-03T14:30:32.936374Z",
     "shell.execute_reply.started": "2024-08-03T14:30:32.923541Z"
    }
   },
   "outputs": [],
   "source": [
    "# 编码器\n",
    "class FAMforNER(d2l.Encoder):\n",
    "    \"\"\"修改的编码器\"\"\"\n",
    "\n",
    "    def __init__(self, vocab_size, num_hiddens, norm_shape, ffn_num_input,\n",
    "                 ffn_num_hiddens, dim_dict, num_layers, dropout, num_output,\n",
    "                 use_bias=False, **kwargs):\n",
    "        super(FAMforNER, self).__init__(**kwargs)\n",
    "        self.num_hiddens = num_hiddens\n",
    "        self.embedding = nn.Embedding(vocab_size, num_hiddens)\n",
    "        self.pos_encoding = d2l.PositionalEncoding(num_hiddens, dropout)\n",
    "        self.blks = nn.Sequential()\n",
    "        self.outhidden = nn.Sequential(\n",
    "                                    nn.Linear(num_hiddens, num_hiddens),\n",
    "                                    nn.ReLU(),\n",
    "                                    nn.Linear(num_hiddens, num_output))\n",
    "        for i in range(num_layers):\n",
    "            self.blks.add_module(\"block\" + str(i),\n",
    "                                 EncoderBlock(num_hiddens, norm_shape, ffn_num_input,\n",
    "                                              ffn_num_hiddens, dim_dict, dropout, use_bias))\n",
    "\n",
    "    def forward(self, X, valid_lens, *args):\n",
    "        X = self.pos_encoding(self.embedding(X) * math.sqrt(self.num_hiddens))\n",
    "        self.attention_weights = [None] * len(self.blks)\n",
    "        for i, blk in enumerate(self.blks):\n",
    "            X = blk(X, valid_lens)\n",
    "            self.attention_weights[i] = blk.attention.attention.attention_weights\n",
    "        return self.outhidden(X)"
   ]
  },
  {
   "cell_type": "markdown",
   "id": "d4a3b14c-2a9a-43ce-a68e-7bf5f590f584",
   "metadata": {},
   "source": [
    "## Baseline"
   ]
  },
  {
   "cell_type": "code",
   "execution_count": 4,
   "id": "3aea0597-d97a-47d5-be0a-b0f2b8543d9f",
   "metadata": {
    "execution": {
     "iopub.execute_input": "2024-08-04T01:18:10.642314Z",
     "iopub.status.busy": "2024-08-04T01:18:10.641609Z",
     "iopub.status.idle": "2024-08-04T01:18:10.654476Z",
     "shell.execute_reply": "2024-08-04T01:18:10.653048Z",
     "shell.execute_reply.started": "2024-08-04T01:18:10.642278Z"
    }
   },
   "outputs": [],
   "source": [
    "class BaseforNER(d2l.Encoder):\n",
    "    \"\"\"transformer编码器\"\"\"\n",
    "    def __init__(self, vocab_size, key_size, query_size, value_size,\n",
    "                 num_hiddens, norm_shape, ffn_num_input, ffn_num_hiddens,\n",
    "                 num_heads, num_layers, dropout, num_output, use_bias=False, **kwargs):\n",
    "        super(BaseforNER, self).__init__(**kwargs)\n",
    "        self.num_hiddens = num_hiddens\n",
    "        self.embedding = nn.Embedding(vocab_size, num_hiddens)\n",
    "        self.pos_encoding = d2l.PositionalEncoding(num_hiddens, dropout)\n",
    "        self.blks = nn.Sequential()\n",
    "        self.outhidden = nn.Sequential(\n",
    "                                    nn.Linear(num_hiddens, num_hiddens),\n",
    "                                    nn.ReLU(),\n",
    "                                    nn.Linear(num_hiddens, num_output),\n",
    "                                    nn.Softmax(dim=-1))\n",
    "        for i in range(num_layers):\n",
    "            self.blks.add_module(\"block\"+str(i),\n",
    "                d2l.EncoderBlock(key_size, query_size, value_size, num_hiddens,\n",
    "                             norm_shape, ffn_num_input, ffn_num_hiddens,\n",
    "                             num_heads, dropout, use_bias))\n",
    "\n",
    "    def forward(self, X, valid_lens, *args):\n",
    "        # 因为位置编码值在-1和1之间，\n",
    "        # 因此嵌入值乘以嵌入维度的平方根进行缩放，\n",
    "        # 然后再与位置编码相加。\n",
    "        X = self.pos_encoding(self.embedding(X) * math.sqrt(self.num_hiddens))\n",
    "        self.attention_weights = [None] * len(self.blks)\n",
    "        for i, blk in enumerate(self.blks):\n",
    "            X = blk(X, valid_lens)\n",
    "            self.attention_weights[\n",
    "                i] = blk.attention.attention.attention_weights\n",
    "        # 取句首'cls'token的向量用于情感分类\n",
    "        return self.outhidden(X)"
   ]
  },
  {
   "cell_type": "markdown",
   "id": "27d85b5e-51c9-4167-959b-8d243f44a995",
   "metadata": {},
   "source": [
    "# 生成训练、测试和验证数据集"
   ]
  },
  {
   "cell_type": "code",
   "execution_count": 5,
   "id": "6e999f79-f073-4ce4-8186-dfafeb87a077",
   "metadata": {
    "execution": {
     "iopub.execute_input": "2024-08-04T01:18:13.297205Z",
     "iopub.status.busy": "2024-08-04T01:18:13.296159Z",
     "iopub.status.idle": "2024-08-04T01:18:13.657109Z",
     "shell.execute_reply": "2024-08-04T01:18:13.655897Z",
     "shell.execute_reply.started": "2024-08-04T01:18:13.297126Z"
    }
   },
   "outputs": [
    {
     "name": "stdout",
     "output_type": "stream",
     "text": [
      "词表大小:  23625\n",
      "前50个token:  ['<unk>', '<pad>', '<cls>', '.', ',', 'the', 'of', 'in', 'to', 'a', '-LPR-', '-RPR-', 'and', '\"', 'on', 'said', \"'s\", 'for', '1', '-', 'The', 'was', '2', '0', '3', 'at', 'with', 'that', 'from', 'by', 'is', ':', 'as', 'he', '4', 'had', 'has', 'it', 'his', 'not', 'were', 'be', 'an', 'have', 'after', 'who', 'will', '5', 'but', 'first']\n"
     ]
    }
   ],
   "source": [
    "vocab = d2l.Vocab(dataset['train']['tokens'], min_freq=1, reserved_tokens=['<pad>', '<cls>'])\n",
    "print('词表大小: ', len(vocab))\n",
    "print('前50个token: ', vocab.idx_to_token[:50])"
   ]
  },
  {
   "cell_type": "code",
   "execution_count": 14,
   "id": "bfb61683-99ca-448a-848e-0f112fe2874c",
   "metadata": {
    "execution": {
     "iopub.execute_input": "2024-08-03T05:08:39.294462Z",
     "iopub.status.busy": "2024-08-03T05:08:39.294178Z",
     "iopub.status.idle": "2024-08-03T05:08:39.481651Z",
     "shell.execute_reply": "2024-08-03T05:08:39.481163Z",
     "shell.execute_reply.started": "2024-08-03T05:08:39.294438Z"
    }
   },
   "outputs": [
    {
     "data": {
      "text/plain": [
       "[959, 11984, 235, 764, 8, 4149, 211, 6184, 3]"
      ]
     },
     "execution_count": 14,
     "metadata": {},
     "output_type": "execute_result"
    }
   ],
   "source": [
    "vocab[dataset['train']['tokens'][0]]"
   ]
  },
  {
   "cell_type": "code",
   "execution_count": 6,
   "id": "f05027b6-3d59-477e-8c7c-a14a0e2afa07",
   "metadata": {
    "execution": {
     "iopub.execute_input": "2024-08-04T01:18:17.935861Z",
     "iopub.status.busy": "2024-08-04T01:18:17.935273Z",
     "iopub.status.idle": "2024-08-04T01:18:18.965028Z",
     "shell.execute_reply": "2024-08-04T01:18:18.963819Z",
     "shell.execute_reply.started": "2024-08-04T01:18:17.935828Z"
    }
   },
   "outputs": [
    {
     "name": "stdout",
     "output_type": "stream",
     "text": [
      "X: torch.Size([64, 60]) , y: torch.Size([64, 60]) , valid_len: torch.Size([64])\n",
      "小批量数目： 220\n"
     ]
    }
   ],
   "source": [
    "# 每条数据包括: (语句词元, 语句有效长度, 标签)\n",
    "def load_conll_data(vocab, dataset, batch_size, num_steps):\n",
    "    data_tokens = torch.tensor([d2l.truncate_pad(\n",
    "        vocab[line], num_steps, vocab['<pad>']) for line in dataset['tokens']])\n",
    "    valid_lens = (data_tokens != vocab['<pad>']).type(torch.int32).sum(1)\n",
    "    # labels = torch.tensor(dataset[:]['label'])\n",
    "    labels = torch.tensor([d2l.truncate_pad(tags, num_steps, 0) for tags in dataset['tags']])\n",
    "    return d2l.load_array((data_tokens, valid_lens, labels), batch_size)\n",
    "\n",
    "\n",
    "batch_size, num_steps = 64, 60\n",
    "train_iter = load_conll_data(vocab, dataset['train'], batch_size, num_steps)\n",
    "for X, valid_len, y in train_iter:\n",
    "    print('X:', X.shape, ', y:', y.shape, ', valid_len:', valid_len.shape)\n",
    "    break\n",
    "print('小批量数目：', len(train_iter))"
   ]
  },
  {
   "cell_type": "code",
   "execution_count": 7,
   "id": "045c618a-0225-46a3-81ef-b3c8971b7e57",
   "metadata": {
    "execution": {
     "iopub.execute_input": "2024-08-04T01:18:19.443699Z",
     "iopub.status.busy": "2024-08-04T01:18:19.443108Z",
     "iopub.status.idle": "2024-08-04T01:18:19.843205Z",
     "shell.execute_reply": "2024-08-04T01:18:19.841588Z",
     "shell.execute_reply.started": "2024-08-04T01:18:19.443666Z"
    }
   },
   "outputs": [],
   "source": [
    "test_iter = load_conll_data(vocab, dataset['test'], batch_size, num_steps)\n",
    "validation_iter = load_conll_data(vocab, dataset['validation'], batch_size, num_steps)"
   ]
  },
  {
   "cell_type": "markdown",
   "id": "8925f3bd-5e10-4a18-b73f-d3e9ab6efa89",
   "metadata": {},
   "source": [
    "# 实验准备"
   ]
  },
  {
   "cell_type": "markdown",
   "id": "e54f9ad0-bd18-4999-95f9-c033ac498cce",
   "metadata": {},
   "source": [
    "## 参数、超参数、读取必要文件"
   ]
  },
  {
   "cell_type": "code",
   "execution_count": 49,
   "id": "2e913260-c3a0-4581-ac7b-cc538ecb7abe",
   "metadata": {
    "execution": {
     "iopub.execute_input": "2024-08-04T02:35:43.321604Z",
     "iopub.status.busy": "2024-08-04T02:35:43.320933Z",
     "iopub.status.idle": "2024-08-04T02:35:43.329592Z",
     "shell.execute_reply": "2024-08-04T02:35:43.327777Z",
     "shell.execute_reply.started": "2024-08-04T02:35:43.321560Z"
    }
   },
   "outputs": [],
   "source": [
    "# 参数和超参数\n",
    "# num_output 是实体标签类别数\n",
    "num_hiddens, num_layers, dropout, num_output = 512, 3, 0.1, 9\n",
    "ffn_num_input, ffn_num_hiddens, num_heads, norm_shape = 512, 2048, 8, [512]\n",
    "lr, num_epochs, device = 5e-5, 100, torch.device('cuda')\n",
    "key_size, query_size, value_size = 512, 512, 512"
   ]
  },
  {
   "cell_type": "code",
   "execution_count": 9,
   "id": "9473c643-dc68-4312-8598-9ac1dfdb3b7b",
   "metadata": {
    "execution": {
     "iopub.execute_input": "2024-08-04T01:18:48.343093Z",
     "iopub.status.busy": "2024-08-04T01:18:48.342029Z",
     "iopub.status.idle": "2024-08-04T01:18:48.350171Z",
     "shell.execute_reply": "2024-08-04T01:18:48.348330Z",
     "shell.execute_reply.started": "2024-08-04T01:18:48.343011Z"
    }
   },
   "outputs": [],
   "source": [
    "# 结果保存目录\n",
    "file_path = '/root/autodl-tmp/ner/'"
   ]
  },
  {
   "cell_type": "code",
   "execution_count": 12,
   "id": "eda6be7b-7237-4fed-848c-dba1bb1b8d59",
   "metadata": {
    "execution": {
     "iopub.execute_input": "2024-08-03T14:33:37.967951Z",
     "iopub.status.busy": "2024-08-03T14:33:37.967424Z",
     "iopub.status.idle": "2024-08-03T14:33:38.118149Z",
     "shell.execute_reply": "2024-08-03T14:33:38.117356Z",
     "shell.execute_reply.started": "2024-08-03T14:33:37.967900Z"
    }
   },
   "outputs": [],
   "source": [
    "# 因子分析结果\n",
    "excelfile = pd.read_excel(file_path + 'FAoutput.xlsx', sheet_name='Sheet2', header=0, index_col=0)\n",
    "dim_dict = dict()\n",
    "for i in range(512):\n",
    "    dim_dict[excelfile['Dimension'].values[i]] = excelfile['Factor'].values[i]"
   ]
  },
  {
   "cell_type": "markdown",
   "id": "2568e0de-6bfa-486f-88fb-5ded0db7ead3",
   "metadata": {},
   "source": [
    "## 实例化和初始化模型"
   ]
  },
  {
   "cell_type": "code",
   "execution_count": 50,
   "id": "29a97933-e313-4ee2-b33e-12f257f67bf2",
   "metadata": {
    "execution": {
     "iopub.execute_input": "2024-08-04T02:35:46.664981Z",
     "iopub.status.busy": "2024-08-04T02:35:46.663939Z",
     "iopub.status.idle": "2024-08-04T02:35:46.903613Z",
     "shell.execute_reply": "2024-08-04T02:35:46.902392Z",
     "shell.execute_reply.started": "2024-08-04T02:35:46.664900Z"
    }
   },
   "outputs": [
    {
     "name": "stdout",
     "output_type": "stream",
     "text": [
      "21,814,281 total parameters.\n",
      "21,814,281 training parameters.\n"
     ]
    }
   ],
   "source": [
    "# 实例化模型, 打印模型参数数量\n",
    "net = BaseforNER(\n",
    "    len(vocab), key_size, query_size, value_size, num_hiddens,\n",
    "    norm_shape, ffn_num_input, ffn_num_hiddens, num_heads,\n",
    "    num_layers, dropout, num_output)\n",
    "\n",
    "# Find total parameters and trainable parameters\n",
    "total_params = sum(p.numel() for p in net.parameters())\n",
    "print(f'{total_params:,} total parameters.')\n",
    "total_trainable_params = sum(p.numel() for p in net.parameters() if p.requires_grad)\n",
    "print(f'{total_trainable_params:,} training parameters.')"
   ]
  },
  {
   "cell_type": "code",
   "execution_count": 14,
   "id": "500a875e-0f53-48f8-83a5-75ee2e338f96",
   "metadata": {
    "collapsed": true,
    "execution": {
     "iopub.execute_input": "2024-08-04T01:20:22.834570Z",
     "iopub.status.busy": "2024-08-04T01:20:22.833981Z",
     "iopub.status.idle": "2024-08-04T01:20:22.884015Z",
     "shell.execute_reply": "2024-08-04T01:20:22.882329Z",
     "shell.execute_reply.started": "2024-08-04T01:20:22.834537Z"
    },
    "jupyter": {
     "outputs_hidden": true
    },
    "scrolled": true
   },
   "outputs": [
    {
     "name": "stdout",
     "output_type": "stream",
     "text": [
      "embedding.weight\n",
      "blks.block0.attention.W_q.weight\n",
      "blks.block0.attention.W_k.weight\n",
      "blks.block0.attention.W_v.weight\n",
      "blks.block0.attention.W_o.weight\n",
      "blks.block0.addnorm1.ln.weight\n",
      "blks.block0.addnorm1.ln.bias\n",
      "blks.block0.ffn.dense1.weight\n",
      "blks.block0.ffn.dense1.bias\n",
      "blks.block0.ffn.dense2.weight\n",
      "blks.block0.ffn.dense2.bias\n",
      "blks.block0.addnorm2.ln.weight\n",
      "blks.block0.addnorm2.ln.bias\n",
      "blks.block1.attention.W_q.weight\n",
      "blks.block1.attention.W_k.weight\n",
      "blks.block1.attention.W_v.weight\n",
      "blks.block1.attention.W_o.weight\n",
      "blks.block1.addnorm1.ln.weight\n",
      "blks.block1.addnorm1.ln.bias\n",
      "blks.block1.ffn.dense1.weight\n",
      "blks.block1.ffn.dense1.bias\n",
      "blks.block1.ffn.dense2.weight\n",
      "blks.block1.ffn.dense2.bias\n",
      "blks.block1.addnorm2.ln.weight\n",
      "blks.block1.addnorm2.ln.bias\n",
      "blks.block2.attention.W_q.weight\n",
      "blks.block2.attention.W_k.weight\n",
      "blks.block2.attention.W_v.weight\n",
      "blks.block2.attention.W_o.weight\n",
      "blks.block2.addnorm1.ln.weight\n",
      "blks.block2.addnorm1.ln.bias\n",
      "blks.block2.ffn.dense1.weight\n",
      "blks.block2.ffn.dense1.bias\n",
      "blks.block2.ffn.dense2.weight\n",
      "blks.block2.ffn.dense2.bias\n",
      "blks.block2.addnorm2.ln.weight\n",
      "blks.block2.addnorm2.ln.bias\n",
      "blks.block3.attention.W_q.weight\n",
      "blks.block3.attention.W_k.weight\n",
      "blks.block3.attention.W_v.weight\n",
      "blks.block3.attention.W_o.weight\n",
      "blks.block3.addnorm1.ln.weight\n",
      "blks.block3.addnorm1.ln.bias\n",
      "blks.block3.ffn.dense1.weight\n",
      "blks.block3.ffn.dense1.bias\n",
      "blks.block3.ffn.dense2.weight\n",
      "blks.block3.ffn.dense2.bias\n",
      "blks.block3.addnorm2.ln.weight\n",
      "blks.block3.addnorm2.ln.bias\n",
      "blks.block4.attention.W_q.weight\n",
      "blks.block4.attention.W_k.weight\n",
      "blks.block4.attention.W_v.weight\n",
      "blks.block4.attention.W_o.weight\n",
      "blks.block4.addnorm1.ln.weight\n",
      "blks.block4.addnorm1.ln.bias\n",
      "blks.block4.ffn.dense1.weight\n",
      "blks.block4.ffn.dense1.bias\n",
      "blks.block4.ffn.dense2.weight\n",
      "blks.block4.ffn.dense2.bias\n",
      "blks.block4.addnorm2.ln.weight\n",
      "blks.block4.addnorm2.ln.bias\n",
      "blks.block5.attention.W_q.weight\n",
      "blks.block5.attention.W_k.weight\n",
      "blks.block5.attention.W_v.weight\n",
      "blks.block5.attention.W_o.weight\n",
      "blks.block5.addnorm1.ln.weight\n",
      "blks.block5.addnorm1.ln.bias\n",
      "blks.block5.ffn.dense1.weight\n",
      "blks.block5.ffn.dense1.bias\n",
      "blks.block5.ffn.dense2.weight\n",
      "blks.block5.ffn.dense2.bias\n",
      "blks.block5.addnorm2.ln.weight\n",
      "blks.block5.addnorm2.ln.bias\n",
      "blks.block6.attention.W_q.weight\n",
      "blks.block6.attention.W_k.weight\n",
      "blks.block6.attention.W_v.weight\n",
      "blks.block6.attention.W_o.weight\n",
      "blks.block6.addnorm1.ln.weight\n",
      "blks.block6.addnorm1.ln.bias\n",
      "blks.block6.ffn.dense1.weight\n",
      "blks.block6.ffn.dense1.bias\n",
      "blks.block6.ffn.dense2.weight\n",
      "blks.block6.ffn.dense2.bias\n",
      "blks.block6.addnorm2.ln.weight\n",
      "blks.block6.addnorm2.ln.bias\n",
      "blks.block7.attention.W_q.weight\n",
      "blks.block7.attention.W_k.weight\n",
      "blks.block7.attention.W_v.weight\n",
      "blks.block7.attention.W_o.weight\n",
      "blks.block7.addnorm1.ln.weight\n",
      "blks.block7.addnorm1.ln.bias\n",
      "blks.block7.ffn.dense1.weight\n",
      "blks.block7.ffn.dense1.bias\n",
      "blks.block7.ffn.dense2.weight\n",
      "blks.block7.ffn.dense2.bias\n",
      "blks.block7.addnorm2.ln.weight\n",
      "blks.block7.addnorm2.ln.bias\n",
      "blks.block8.attention.W_q.weight\n",
      "blks.block8.attention.W_k.weight\n",
      "blks.block8.attention.W_v.weight\n",
      "blks.block8.attention.W_o.weight\n",
      "blks.block8.addnorm1.ln.weight\n",
      "blks.block8.addnorm1.ln.bias\n",
      "blks.block8.ffn.dense1.weight\n",
      "blks.block8.ffn.dense1.bias\n",
      "blks.block8.ffn.dense2.weight\n",
      "blks.block8.ffn.dense2.bias\n",
      "blks.block8.addnorm2.ln.weight\n",
      "blks.block8.addnorm2.ln.bias\n",
      "blks.block9.attention.W_q.weight\n",
      "blks.block9.attention.W_k.weight\n",
      "blks.block9.attention.W_v.weight\n",
      "blks.block9.attention.W_o.weight\n",
      "blks.block9.addnorm1.ln.weight\n",
      "blks.block9.addnorm1.ln.bias\n",
      "blks.block9.ffn.dense1.weight\n",
      "blks.block9.ffn.dense1.bias\n",
      "blks.block9.ffn.dense2.weight\n",
      "blks.block9.ffn.dense2.bias\n",
      "blks.block9.addnorm2.ln.weight\n",
      "blks.block9.addnorm2.ln.bias\n",
      "blks.block10.attention.W_q.weight\n",
      "blks.block10.attention.W_k.weight\n",
      "blks.block10.attention.W_v.weight\n",
      "blks.block10.attention.W_o.weight\n",
      "blks.block10.addnorm1.ln.weight\n",
      "blks.block10.addnorm1.ln.bias\n",
      "blks.block10.ffn.dense1.weight\n",
      "blks.block10.ffn.dense1.bias\n",
      "blks.block10.ffn.dense2.weight\n",
      "blks.block10.ffn.dense2.bias\n",
      "blks.block10.addnorm2.ln.weight\n",
      "blks.block10.addnorm2.ln.bias\n",
      "blks.block11.attention.W_q.weight\n",
      "blks.block11.attention.W_k.weight\n",
      "blks.block11.attention.W_v.weight\n",
      "blks.block11.attention.W_o.weight\n",
      "blks.block11.addnorm1.ln.weight\n",
      "blks.block11.addnorm1.ln.bias\n",
      "blks.block11.ffn.dense1.weight\n",
      "blks.block11.ffn.dense1.bias\n",
      "blks.block11.ffn.dense2.weight\n",
      "blks.block11.ffn.dense2.bias\n",
      "blks.block11.addnorm2.ln.weight\n",
      "blks.block11.addnorm2.ln.bias\n",
      "outhidden.0.weight\n",
      "outhidden.0.bias\n",
      "outhidden.2.weight\n",
      "outhidden.2.bias\n"
     ]
    }
   ],
   "source": [
    "for name, p in net.named_parameters():\n",
    "    print(name)"
   ]
  },
  {
   "cell_type": "code",
   "execution_count": 51,
   "id": "29f13bb3-9657-464e-9dba-bad06d3c04d0",
   "metadata": {
    "execution": {
     "iopub.execute_input": "2024-08-04T02:35:55.410590Z",
     "iopub.status.busy": "2024-08-04T02:35:55.409852Z",
     "iopub.status.idle": "2024-08-04T02:36:01.923154Z",
     "shell.execute_reply": "2024-08-04T02:36:01.921980Z",
     "shell.execute_reply.started": "2024-08-04T02:35:55.410542Z"
    }
   },
   "outputs": [],
   "source": [
    "# 用word2vector训练的词向量来初始化embedding层模型权重\n",
    "def get_embedding_weights(vocab, word2vecmodel, num_hiddens):\n",
    "    wordlist = word2vecmodel.wv.index_to_key\n",
    "    n = len(vocab)\n",
    "    data = np.random.randn(n, num_hiddens)\n",
    "    for i in range(n):\n",
    "        word = vocab.idx_to_token[i]\n",
    "        data[i] = np.array(word2vecmodel.wv[word]) if word in wordlist else data[i]\n",
    "    return torch.tensor(data, dtype=torch.float32)\n",
    "\n",
    "\n",
    "def init_embedding_weights(net, weights):\n",
    "    for m in net.modules():\n",
    "        if isinstance(m, nn.Embedding):\n",
    "            m.weight.data = weights\n",
    "\n",
    "\n",
    "word2vecmodel = word2vec.Word2Vec.load(file_path + 'conll2003_word_vec_sg.bin')\n",
    "weights = get_embedding_weights(vocab, word2vecmodel, num_hiddens)\n",
    "init_embedding_weights(net, weights)\n",
    "\n",
    "# 用Xavier初始化线性层权重\n",
    "for m in net.modules():\n",
    "    if isinstance(m, nn.Linear):\n",
    "        nn.init.xavier_uniform_(m.weight)"
   ]
  },
  {
   "cell_type": "code",
   "execution_count": 16,
   "id": "a4cdefff-3b4c-46cc-804d-e81ed756a089",
   "metadata": {
    "execution": {
     "iopub.execute_input": "2024-08-04T01:20:45.863628Z",
     "iopub.status.busy": "2024-08-04T01:20:45.863170Z",
     "iopub.status.idle": "2024-08-04T01:20:46.242453Z",
     "shell.execute_reply": "2024-08-04T01:20:46.241425Z",
     "shell.execute_reply.started": "2024-08-04T01:20:45.863604Z"
    }
   },
   "outputs": [
    {
     "data": {
      "text/plain": [
       "torch.Size([64, 60, 9])"
      ]
     },
     "execution_count": 16,
     "metadata": {},
     "output_type": "execute_result"
    }
   ],
   "source": [
    "net.eval()\n",
    "net(X, valid_len).shape"
   ]
  },
  {
   "cell_type": "code",
   "execution_count": 17,
   "id": "516869fe-32ec-418d-a366-92279afe3838",
   "metadata": {
    "execution": {
     "iopub.execute_input": "2024-08-04T01:20:51.013039Z",
     "iopub.status.busy": "2024-08-04T01:20:51.012063Z",
     "iopub.status.idle": "2024-08-04T01:20:51.380633Z",
     "shell.execute_reply": "2024-08-04T01:20:51.378909Z",
     "shell.execute_reply.started": "2024-08-04T01:20:51.012992Z"
    }
   },
   "outputs": [
    {
     "data": {
      "text/plain": [
       "tensor(2.2299, grad_fn=<NllLossBackward0>)"
      ]
     },
     "execution_count": 17,
     "metadata": {},
     "output_type": "execute_result"
    }
   ],
   "source": [
    "nn.functional.cross_entropy(net(X, valid_len).view(-1, num_output), y.view(-1))"
   ]
  },
  {
   "cell_type": "markdown",
   "id": "baa75025-4048-447c-af28-ed35fb44bac2",
   "metadata": {
    "execution": {
     "iopub.execute_input": "2024-08-03T05:22:39.135896Z",
     "iopub.status.busy": "2024-08-03T05:22:39.135506Z",
     "iopub.status.idle": "2024-08-03T05:22:39.139268Z",
     "shell.execute_reply": "2024-08-03T05:22:39.138597Z",
     "shell.execute_reply.started": "2024-08-03T05:22:39.135871Z"
    }
   },
   "source": [
    "## 评估函数"
   ]
  },
  {
   "cell_type": "code",
   "execution_count": 24,
   "id": "65f87cc1-e0b4-4713-ae66-09c154293d12",
   "metadata": {
    "execution": {
     "iopub.execute_input": "2024-08-04T01:31:23.466626Z",
     "iopub.status.busy": "2024-08-04T01:31:23.466337Z",
     "iopub.status.idle": "2024-08-04T01:31:23.474374Z",
     "shell.execute_reply": "2024-08-04T01:31:23.473314Z",
     "shell.execute_reply.started": "2024-08-04T01:31:23.466603Z"
    }
   },
   "outputs": [],
   "source": [
    "# 定义评估模型准确率和 F1 指标的函数\n",
    "from sklearn.metrics import accuracy_score, f1_score\n",
    "# f1_score(labels, predicitons, average='micro')\n",
    "def evaluate_accuracy_f1(net, data_iter, device=None):\n",
    "    net.eval()  # Set the model to evaluation mode\n",
    "    if not device:\n",
    "        device = next(iter(net.parameters())).device\n",
    "\n",
    "    y_pred, y_true = torch.tensor([], device=device), torch.tensor([], device=device)\n",
    "    with torch.no_grad():\n",
    "        for data in data_iter:\n",
    "            if isinstance(data, list) or isinstance(data, tuple):\n",
    "                X, valid_len, y = [x.to(device) for x in data]\n",
    "            else:\n",
    "                X = X.to(device)\n",
    "            y_pred = torch.cat([y_pred, net(X, valid_len).argmax(dim=-1).view(-1)])\n",
    "            y_true = torch.cat([y_true, y.view(-1)])\n",
    "    return accuracy_score(y_pred.cpu(), y_true.cpu()), f1_score(y_pred.cpu(), y_true.cpu(), average='macro')"
   ]
  },
  {
   "cell_type": "code",
   "execution_count": 46,
   "id": "f2b431cb-601e-4170-b166-4c26088a4519",
   "metadata": {
    "execution": {
     "iopub.execute_input": "2024-08-03T05:49:00.284156Z",
     "iopub.status.busy": "2024-08-03T05:49:00.283619Z",
     "iopub.status.idle": "2024-08-03T05:49:22.049126Z",
     "shell.execute_reply": "2024-08-03T05:49:22.048319Z",
     "shell.execute_reply.started": "2024-08-03T05:49:00.284115Z"
    }
   },
   "outputs": [
    {
     "data": {
      "text/plain": [
       "(0.061733758084757215, 0.013674394877504452)"
      ]
     },
     "execution_count": 46,
     "metadata": {},
     "output_type": "execute_result"
    }
   ],
   "source": [
    "evaluate_accuracy_f1(net, test_iter, device='cpu')"
   ]
  },
  {
   "cell_type": "markdown",
   "id": "2b5ac1e2-d137-4875-a203-fba463283cb7",
   "metadata": {},
   "source": [
    "# 模型训练"
   ]
  },
  {
   "cell_type": "markdown",
   "id": "34d1542e-d89d-4205-8991-3f5dbbf78f05",
   "metadata": {},
   "source": [
    "## 训练 1 (2 layer baseline)"
   ]
  },
  {
   "cell_type": "markdown",
   "id": "d663fcb0-8600-4de5-a66c-6038644c6116",
   "metadata": {},
   "source": [
    "### 前 100 epoch"
   ]
  },
  {
   "cell_type": "code",
   "execution_count": 32,
   "id": "aee98e83-6b5e-4eaf-8ce2-48254707ca8a",
   "metadata": {
    "execution": {
     "iopub.execute_input": "2024-08-04T01:39:19.000749Z",
     "iopub.status.busy": "2024-08-04T01:39:19.000175Z",
     "iopub.status.idle": "2024-08-04T01:39:19.107623Z",
     "shell.execute_reply": "2024-08-04T01:39:19.107127Z",
     "shell.execute_reply.started": "2024-08-04T01:39:19.000727Z"
    }
   },
   "outputs": [
    {
     "name": "stdout",
     "output_type": "stream",
     "text": [
      "[1.0, 26.827242524916944, 49.32373472949389, 25.693181818181817, 37.45030918727915, 23.75, 45.78158747300216, 146.8181818181818, 146.56439066551425]\n"
     ]
    }
   ],
   "source": [
    "# 带权重的损失函数\n",
    "tags_cnt = Counter(t for tags in dataset['train']['tags'] for t in tags)\n",
    "weights = [max(tags_cnt.values()) / tags_cnt[k] for k in sorted(tags_cnt.keys())]\n",
    "print(weights)\n",
    "class_weights = torch.FloatTensor(weights).to(device)\n",
    "criterion = nn.CrossEntropyLoss(reduction='none', weight=class_weights)"
   ]
  },
  {
   "cell_type": "code",
   "execution_count": 33,
   "id": "0efed34d-1fc4-4a69-a31f-2cfcbfe6b182",
   "metadata": {
    "execution": {
     "iopub.execute_input": "2024-08-04T01:39:34.137720Z",
     "iopub.status.busy": "2024-08-04T01:39:34.136585Z",
     "iopub.status.idle": "2024-08-04T01:39:34.144697Z",
     "shell.execute_reply": "2024-08-04T01:39:34.144009Z",
     "shell.execute_reply.started": "2024-08-04T01:39:34.137673Z"
    }
   },
   "outputs": [],
   "source": [
    "# trainer = torch.optim.Adam(params=net.parameters(), lr=lr)\n",
    "# 为不同层赋予不同的学习率\n",
    "forward_params = [\n",
    "                param for name, param in net.named_parameters()\n",
    "                if name != \"embedding.weight\"]\n",
    "trainer = torch.optim.Adam(\n",
    "                        [{'params': net.embedding.parameters()},\n",
    "                         {'params': forward_params, 'lr': lr * 10}], lr=lr)"
   ]
  },
  {
   "cell_type": "code",
   "execution_count": 34,
   "id": "e1c23937-e904-4e7e-9709-d391ef5725a1",
   "metadata": {
    "execution": {
     "iopub.execute_input": "2024-08-04T01:39:36.791655Z",
     "iopub.status.busy": "2024-08-04T01:39:36.789872Z",
     "iopub.status.idle": "2024-08-04T01:48:24.661171Z",
     "shell.execute_reply": "2024-08-04T01:48:24.658336Z",
     "shell.execute_reply.started": "2024-08-04T01:39:36.791566Z"
    },
    "scrolled": true
   },
   "outputs": [
    {
     "name": "stderr",
     "output_type": "stream",
     "text": [
      "100%|██████████| 220/220 [00:03<00:00, 64.43it/s]\n"
     ]
    },
    {
     "name": "stdout",
     "output_type": "stream",
     "text": [
      "epoch 1, loss 292.792, train_acc 0.895, train_f1 0.193, test_acc 0.850, test_f1 0.147, valid_acc 0.839, valid_f1 0.158, taking 5 seconds.\n"
     ]
    },
    {
     "name": "stderr",
     "output_type": "stream",
     "text": [
      "100%|██████████| 220/220 [00:03<00:00, 63.61it/s]\n"
     ]
    },
    {
     "name": "stdout",
     "output_type": "stream",
     "text": [
      "epoch 2, loss 292.332, train_acc 0.795, train_f1 0.162, test_acc 0.801, test_f1 0.139, valid_acc 0.769, valid_f1 0.138, taking 5 seconds.\n"
     ]
    },
    {
     "name": "stderr",
     "output_type": "stream",
     "text": [
      "100%|██████████| 220/220 [00:03<00:00, 63.64it/s]\n"
     ]
    },
    {
     "name": "stdout",
     "output_type": "stream",
     "text": [
      "epoch 3, loss 288.128, train_acc 0.888, train_f1 0.221, test_acc 0.879, test_f1 0.158, valid_acc 0.874, valid_f1 0.182, taking 5 seconds.\n"
     ]
    },
    {
     "name": "stderr",
     "output_type": "stream",
     "text": [
      "100%|██████████| 220/220 [00:03<00:00, 63.26it/s]\n"
     ]
    },
    {
     "name": "stdout",
     "output_type": "stream",
     "text": [
      "epoch 4, loss 289.865, train_acc 0.885, train_f1 0.199, test_acc 0.894, test_f1 0.150, valid_acc 0.891, valid_f1 0.180, taking 5 seconds.\n"
     ]
    },
    {
     "name": "stderr",
     "output_type": "stream",
     "text": [
      "100%|██████████| 220/220 [00:03<00:00, 63.99it/s]\n"
     ]
    },
    {
     "name": "stdout",
     "output_type": "stream",
     "text": [
      "epoch 5, loss 289.303, train_acc 0.906, train_f1 0.196, test_acc 0.894, test_f1 0.151, valid_acc 0.892, valid_f1 0.172, taking 5 seconds.\n"
     ]
    },
    {
     "name": "stderr",
     "output_type": "stream",
     "text": [
      "100%|██████████| 220/220 [00:03<00:00, 64.27it/s]\n"
     ]
    },
    {
     "name": "stdout",
     "output_type": "stream",
     "text": [
      "epoch 6, loss 287.710, train_acc 0.777, train_f1 0.197, test_acc 0.678, test_f1 0.158, valid_acc 0.676, valid_f1 0.166, taking 5 seconds.\n"
     ]
    },
    {
     "name": "stderr",
     "output_type": "stream",
     "text": [
      "100%|██████████| 220/220 [00:03<00:00, 63.41it/s]\n"
     ]
    },
    {
     "name": "stdout",
     "output_type": "stream",
     "text": [
      "epoch 7, loss 287.164, train_acc 0.910, train_f1 0.217, test_acc 0.850, test_f1 0.178, valid_acc 0.838, valid_f1 0.184, taking 5 seconds.\n"
     ]
    },
    {
     "name": "stderr",
     "output_type": "stream",
     "text": [
      "100%|██████████| 220/220 [00:03<00:00, 63.60it/s]\n"
     ]
    },
    {
     "name": "stdout",
     "output_type": "stream",
     "text": [
      "epoch 8, loss 285.604, train_acc 0.839, train_f1 0.191, test_acc 0.797, test_f1 0.166, valid_acc 0.770, valid_f1 0.168, taking 5 seconds.\n"
     ]
    },
    {
     "name": "stderr",
     "output_type": "stream",
     "text": [
      "100%|██████████| 220/220 [00:03<00:00, 63.92it/s]\n"
     ]
    },
    {
     "name": "stdout",
     "output_type": "stream",
     "text": [
      "epoch 9, loss 286.057, train_acc 0.860, train_f1 0.198, test_acc 0.847, test_f1 0.172, valid_acc 0.833, valid_f1 0.182, taking 5 seconds.\n"
     ]
    },
    {
     "name": "stderr",
     "output_type": "stream",
     "text": [
      "100%|██████████| 220/220 [00:03<00:00, 63.77it/s]\n"
     ]
    },
    {
     "name": "stdout",
     "output_type": "stream",
     "text": [
      "epoch 10, loss 290.419, train_acc 0.806, train_f1 0.194, test_acc 0.824, test_f1 0.156, valid_acc 0.801, valid_f1 0.176, taking 5 seconds.\n"
     ]
    },
    {
     "name": "stderr",
     "output_type": "stream",
     "text": [
      "100%|██████████| 220/220 [00:03<00:00, 64.15it/s]\n"
     ]
    },
    {
     "name": "stdout",
     "output_type": "stream",
     "text": [
      "epoch 11, loss 286.536, train_acc 0.870, train_f1 0.216, test_acc 0.840, test_f1 0.174, valid_acc 0.831, valid_f1 0.193, taking 5 seconds.\n"
     ]
    },
    {
     "name": "stderr",
     "output_type": "stream",
     "text": [
      "100%|██████████| 220/220 [00:03<00:00, 64.15it/s]\n"
     ]
    },
    {
     "name": "stdout",
     "output_type": "stream",
     "text": [
      "epoch 12, loss 286.506, train_acc 0.883, train_f1 0.214, test_acc 0.842, test_f1 0.190, valid_acc 0.830, valid_f1 0.192, taking 5 seconds.\n"
     ]
    },
    {
     "name": "stderr",
     "output_type": "stream",
     "text": [
      "100%|██████████| 220/220 [00:03<00:00, 63.50it/s]\n"
     ]
    },
    {
     "name": "stdout",
     "output_type": "stream",
     "text": [
      "epoch 13, loss 285.186, train_acc 0.900, train_f1 0.231, test_acc 0.780, test_f1 0.161, valid_acc 0.770, valid_f1 0.166, taking 5 seconds.\n"
     ]
    },
    {
     "name": "stderr",
     "output_type": "stream",
     "text": [
      "100%|██████████| 220/220 [00:03<00:00, 64.04it/s]\n"
     ]
    },
    {
     "name": "stdout",
     "output_type": "stream",
     "text": [
      "epoch 14, loss 284.574, train_acc 0.858, train_f1 0.209, test_acc 0.778, test_f1 0.147, valid_acc 0.759, valid_f1 0.157, taking 5 seconds.\n"
     ]
    },
    {
     "name": "stderr",
     "output_type": "stream",
     "text": [
      "100%|██████████| 220/220 [00:03<00:00, 64.57it/s]\n"
     ]
    },
    {
     "name": "stdout",
     "output_type": "stream",
     "text": [
      "epoch 15, loss 283.325, train_acc 0.895, train_f1 0.236, test_acc 0.804, test_f1 0.159, valid_acc 0.783, valid_f1 0.168, taking 5 seconds.\n"
     ]
    },
    {
     "name": "stderr",
     "output_type": "stream",
     "text": [
      "100%|██████████| 220/220 [00:03<00:00, 64.92it/s]\n"
     ]
    },
    {
     "name": "stdout",
     "output_type": "stream",
     "text": [
      "epoch 16, loss 282.446, train_acc 0.850, train_f1 0.213, test_acc 0.773, test_f1 0.180, valid_acc 0.757, valid_f1 0.187, taking 5 seconds.\n"
     ]
    },
    {
     "name": "stderr",
     "output_type": "stream",
     "text": [
      "100%|██████████| 220/220 [00:03<00:00, 65.47it/s]\n"
     ]
    },
    {
     "name": "stdout",
     "output_type": "stream",
     "text": [
      "epoch 17, loss 284.465, train_acc 0.874, train_f1 0.226, test_acc 0.802, test_f1 0.147, valid_acc 0.777, valid_f1 0.161, taking 5 seconds.\n"
     ]
    },
    {
     "name": "stderr",
     "output_type": "stream",
     "text": [
      "100%|██████████| 220/220 [00:03<00:00, 63.78it/s]\n"
     ]
    },
    {
     "name": "stdout",
     "output_type": "stream",
     "text": [
      "epoch 18, loss 283.828, train_acc 0.878, train_f1 0.238, test_acc 0.802, test_f1 0.162, valid_acc 0.779, valid_f1 0.176, taking 5 seconds.\n"
     ]
    },
    {
     "name": "stderr",
     "output_type": "stream",
     "text": [
      "100%|██████████| 220/220 [00:03<00:00, 63.45it/s]\n"
     ]
    },
    {
     "name": "stdout",
     "output_type": "stream",
     "text": [
      "epoch 19, loss 284.246, train_acc 0.807, train_f1 0.178, test_acc 0.774, test_f1 0.133, valid_acc 0.748, valid_f1 0.138, taking 5 seconds.\n"
     ]
    },
    {
     "name": "stderr",
     "output_type": "stream",
     "text": [
      "100%|██████████| 220/220 [00:03<00:00, 66.10it/s]\n"
     ]
    },
    {
     "name": "stdout",
     "output_type": "stream",
     "text": [
      "epoch 20, loss 286.839, train_acc 0.818, train_f1 0.201, test_acc 0.772, test_f1 0.145, valid_acc 0.745, valid_f1 0.148, taking 5 seconds.\n"
     ]
    },
    {
     "name": "stderr",
     "output_type": "stream",
     "text": [
      "100%|██████████| 220/220 [00:03<00:00, 63.29it/s]\n"
     ]
    },
    {
     "name": "stdout",
     "output_type": "stream",
     "text": [
      "epoch 21, loss 283.697, train_acc 0.924, train_f1 0.218, test_acc 0.841, test_f1 0.159, valid_acc 0.826, valid_f1 0.176, taking 5 seconds.\n"
     ]
    },
    {
     "name": "stderr",
     "output_type": "stream",
     "text": [
      "100%|██████████| 220/220 [00:03<00:00, 63.57it/s]\n"
     ]
    },
    {
     "name": "stdout",
     "output_type": "stream",
     "text": [
      "epoch 22, loss 283.422, train_acc 0.882, train_f1 0.226, test_acc 0.789, test_f1 0.157, valid_acc 0.773, valid_f1 0.173, taking 5 seconds.\n"
     ]
    },
    {
     "name": "stderr",
     "output_type": "stream",
     "text": [
      "100%|██████████| 220/220 [00:03<00:00, 64.10it/s]\n"
     ]
    },
    {
     "name": "stdout",
     "output_type": "stream",
     "text": [
      "epoch 23, loss 283.282, train_acc 0.869, train_f1 0.218, test_acc 0.585, test_f1 0.116, valid_acc 0.596, valid_f1 0.132, taking 5 seconds.\n"
     ]
    },
    {
     "name": "stderr",
     "output_type": "stream",
     "text": [
      "100%|██████████| 220/220 [00:03<00:00, 62.95it/s]\n"
     ]
    },
    {
     "name": "stdout",
     "output_type": "stream",
     "text": [
      "epoch 24, loss 282.423, train_acc 0.857, train_f1 0.220, test_acc 0.655, test_f1 0.124, valid_acc 0.672, valid_f1 0.138, taking 5 seconds.\n"
     ]
    },
    {
     "name": "stderr",
     "output_type": "stream",
     "text": [
      "100%|██████████| 220/220 [00:03<00:00, 62.92it/s]\n"
     ]
    },
    {
     "name": "stdout",
     "output_type": "stream",
     "text": [
      "epoch 25, loss 282.346, train_acc 0.869, train_f1 0.235, test_acc 0.792, test_f1 0.146, valid_acc 0.766, valid_f1 0.158, taking 5 seconds.\n"
     ]
    },
    {
     "name": "stderr",
     "output_type": "stream",
     "text": [
      "100%|██████████| 220/220 [00:03<00:00, 62.20it/s]\n"
     ]
    },
    {
     "name": "stdout",
     "output_type": "stream",
     "text": [
      "epoch 26, loss 282.251, train_acc 0.850, train_f1 0.237, test_acc 0.748, test_f1 0.135, valid_acc 0.736, valid_f1 0.155, taking 5 seconds.\n"
     ]
    },
    {
     "name": "stderr",
     "output_type": "stream",
     "text": [
      "100%|██████████| 220/220 [00:03<00:00, 62.50it/s]\n"
     ]
    },
    {
     "name": "stdout",
     "output_type": "stream",
     "text": [
      "epoch 27, loss 281.750, train_acc 0.877, train_f1 0.226, test_acc 0.699, test_f1 0.131, valid_acc 0.710, valid_f1 0.150, taking 5 seconds.\n"
     ]
    },
    {
     "name": "stderr",
     "output_type": "stream",
     "text": [
      "100%|██████████| 220/220 [00:03<00:00, 63.23it/s]\n"
     ]
    },
    {
     "name": "stdout",
     "output_type": "stream",
     "text": [
      "epoch 28, loss 281.436, train_acc 0.837, train_f1 0.225, test_acc 0.782, test_f1 0.137, valid_acc 0.760, valid_f1 0.155, taking 5 seconds.\n"
     ]
    },
    {
     "name": "stderr",
     "output_type": "stream",
     "text": [
      "100%|██████████| 220/220 [00:03<00:00, 65.94it/s]\n"
     ]
    },
    {
     "name": "stdout",
     "output_type": "stream",
     "text": [
      "epoch 29, loss 278.322, train_acc 0.823, train_f1 0.209, test_acc 0.740, test_f1 0.139, valid_acc 0.733, valid_f1 0.157, taking 5 seconds.\n"
     ]
    },
    {
     "name": "stderr",
     "output_type": "stream",
     "text": [
      "100%|██████████| 220/220 [00:03<00:00, 68.27it/s]\n"
     ]
    },
    {
     "name": "stdout",
     "output_type": "stream",
     "text": [
      "epoch 30, loss 276.444, train_acc 0.852, train_f1 0.231, test_acc 0.594, test_f1 0.117, valid_acc 0.654, valid_f1 0.140, taking 5 seconds.\n"
     ]
    },
    {
     "name": "stderr",
     "output_type": "stream",
     "text": [
      "100%|██████████| 220/220 [00:03<00:00, 64.94it/s]\n"
     ]
    },
    {
     "name": "stdout",
     "output_type": "stream",
     "text": [
      "epoch 31, loss 281.221, train_acc 0.895, train_f1 0.247, test_acc 0.529, test_f1 0.109, valid_acc 0.598, valid_f1 0.130, taking 5 seconds.\n"
     ]
    },
    {
     "name": "stderr",
     "output_type": "stream",
     "text": [
      "100%|██████████| 220/220 [00:03<00:00, 65.55it/s]\n"
     ]
    },
    {
     "name": "stdout",
     "output_type": "stream",
     "text": [
      "epoch 32, loss 279.130, train_acc 0.880, train_f1 0.247, test_acc 0.626, test_f1 0.119, valid_acc 0.655, valid_f1 0.152, taking 5 seconds.\n"
     ]
    },
    {
     "name": "stderr",
     "output_type": "stream",
     "text": [
      "100%|██████████| 220/220 [00:03<00:00, 56.41it/s]\n"
     ]
    },
    {
     "name": "stdout",
     "output_type": "stream",
     "text": [
      "epoch 33, loss 280.505, train_acc 0.869, train_f1 0.244, test_acc 0.362, test_f1 0.089, valid_acc 0.452, valid_f1 0.116, taking 5 seconds.\n"
     ]
    },
    {
     "name": "stderr",
     "output_type": "stream",
     "text": [
      "100%|██████████| 220/220 [00:03<00:00, 55.06it/s]\n"
     ]
    },
    {
     "name": "stdout",
     "output_type": "stream",
     "text": [
      "epoch 34, loss 277.776, train_acc 0.891, train_f1 0.265, test_acc 0.363, test_f1 0.107, valid_acc 0.449, valid_f1 0.138, taking 6 seconds.\n"
     ]
    },
    {
     "name": "stderr",
     "output_type": "stream",
     "text": [
      "100%|██████████| 220/220 [00:03<00:00, 56.28it/s]\n"
     ]
    },
    {
     "name": "stdout",
     "output_type": "stream",
     "text": [
      "epoch 35, loss 276.003, train_acc 0.893, train_f1 0.255, test_acc 0.438, test_f1 0.117, valid_acc 0.479, valid_f1 0.141, taking 5 seconds.\n"
     ]
    },
    {
     "name": "stderr",
     "output_type": "stream",
     "text": [
      "100%|██████████| 220/220 [00:03<00:00, 55.20it/s]\n"
     ]
    },
    {
     "name": "stdout",
     "output_type": "stream",
     "text": [
      "epoch 36, loss 276.588, train_acc 0.893, train_f1 0.240, test_acc 0.292, test_f1 0.098, valid_acc 0.387, valid_f1 0.119, taking 6 seconds.\n"
     ]
    },
    {
     "name": "stderr",
     "output_type": "stream",
     "text": [
      "100%|██████████| 220/220 [00:03<00:00, 55.40it/s]\n"
     ]
    },
    {
     "name": "stdout",
     "output_type": "stream",
     "text": [
      "epoch 37, loss 273.513, train_acc 0.876, train_f1 0.257, test_acc 0.315, test_f1 0.093, valid_acc 0.403, valid_f1 0.126, taking 6 seconds.\n"
     ]
    },
    {
     "name": "stderr",
     "output_type": "stream",
     "text": [
      "100%|██████████| 220/220 [00:03<00:00, 55.47it/s]\n"
     ]
    },
    {
     "name": "stdout",
     "output_type": "stream",
     "text": [
      "epoch 38, loss 273.341, train_acc 0.884, train_f1 0.263, test_acc 0.416, test_f1 0.112, valid_acc 0.504, valid_f1 0.145, taking 6 seconds.\n"
     ]
    },
    {
     "name": "stderr",
     "output_type": "stream",
     "text": [
      "100%|██████████| 220/220 [00:03<00:00, 55.66it/s]\n"
     ]
    },
    {
     "name": "stdout",
     "output_type": "stream",
     "text": [
      "epoch 39, loss 273.591, train_acc 0.868, train_f1 0.236, test_acc 0.439, test_f1 0.110, valid_acc 0.537, valid_f1 0.133, taking 6 seconds.\n"
     ]
    },
    {
     "name": "stderr",
     "output_type": "stream",
     "text": [
      "100%|██████████| 220/220 [00:03<00:00, 55.59it/s]\n"
     ]
    },
    {
     "name": "stdout",
     "output_type": "stream",
     "text": [
      "epoch 40, loss 274.282, train_acc 0.861, train_f1 0.234, test_acc 0.587, test_f1 0.133, valid_acc 0.631, valid_f1 0.150, taking 5 seconds.\n"
     ]
    },
    {
     "name": "stderr",
     "output_type": "stream",
     "text": [
      "100%|██████████| 220/220 [00:03<00:00, 55.57it/s]\n"
     ]
    },
    {
     "name": "stdout",
     "output_type": "stream",
     "text": [
      "epoch 41, loss 274.365, train_acc 0.867, train_f1 0.249, test_acc 0.548, test_f1 0.130, valid_acc 0.557, valid_f1 0.147, taking 6 seconds.\n"
     ]
    },
    {
     "name": "stderr",
     "output_type": "stream",
     "text": [
      "100%|██████████| 220/220 [00:03<00:00, 55.49it/s]\n"
     ]
    },
    {
     "name": "stdout",
     "output_type": "stream",
     "text": [
      "epoch 42, loss 273.156, train_acc 0.879, train_f1 0.260, test_acc 0.325, test_f1 0.095, valid_acc 0.410, valid_f1 0.125, taking 6 seconds.\n"
     ]
    },
    {
     "name": "stderr",
     "output_type": "stream",
     "text": [
      "100%|██████████| 220/220 [00:03<00:00, 55.55it/s]\n"
     ]
    },
    {
     "name": "stdout",
     "output_type": "stream",
     "text": [
      "epoch 43, loss 274.193, train_acc 0.885, train_f1 0.251, test_acc 0.557, test_f1 0.120, valid_acc 0.597, valid_f1 0.145, taking 6 seconds.\n"
     ]
    },
    {
     "name": "stderr",
     "output_type": "stream",
     "text": [
      "100%|██████████| 220/220 [00:03<00:00, 55.68it/s]\n"
     ]
    },
    {
     "name": "stdout",
     "output_type": "stream",
     "text": [
      "epoch 44, loss 271.631, train_acc 0.876, train_f1 0.249, test_acc 0.579, test_f1 0.125, valid_acc 0.588, valid_f1 0.147, taking 6 seconds.\n"
     ]
    },
    {
     "name": "stderr",
     "output_type": "stream",
     "text": [
      "100%|██████████| 220/220 [00:03<00:00, 56.70it/s]\n"
     ]
    },
    {
     "name": "stdout",
     "output_type": "stream",
     "text": [
      "epoch 45, loss 272.720, train_acc 0.872, train_f1 0.246, test_acc 0.650, test_f1 0.133, valid_acc 0.687, valid_f1 0.156, taking 5 seconds.\n"
     ]
    },
    {
     "name": "stderr",
     "output_type": "stream",
     "text": [
      "100%|██████████| 220/220 [00:03<00:00, 58.85it/s]\n"
     ]
    },
    {
     "name": "stdout",
     "output_type": "stream",
     "text": [
      "epoch 46, loss 273.779, train_acc 0.868, train_f1 0.261, test_acc 0.608, test_f1 0.131, valid_acc 0.616, valid_f1 0.156, taking 5 seconds.\n"
     ]
    },
    {
     "name": "stderr",
     "output_type": "stream",
     "text": [
      "100%|██████████| 220/220 [00:03<00:00, 56.33it/s]\n"
     ]
    },
    {
     "name": "stdout",
     "output_type": "stream",
     "text": [
      "epoch 47, loss 273.178, train_acc 0.874, train_f1 0.247, test_acc 0.794, test_f1 0.150, valid_acc 0.779, valid_f1 0.173, taking 5 seconds.\n"
     ]
    },
    {
     "name": "stderr",
     "output_type": "stream",
     "text": [
      "100%|██████████| 220/220 [00:03<00:00, 55.62it/s]\n"
     ]
    },
    {
     "name": "stdout",
     "output_type": "stream",
     "text": [
      "epoch 48, loss 272.346, train_acc 0.869, train_f1 0.262, test_acc 0.674, test_f1 0.143, valid_acc 0.671, valid_f1 0.152, taking 6 seconds.\n"
     ]
    },
    {
     "name": "stderr",
     "output_type": "stream",
     "text": [
      "100%|██████████| 220/220 [00:03<00:00, 55.51it/s]\n"
     ]
    },
    {
     "name": "stdout",
     "output_type": "stream",
     "text": [
      "epoch 49, loss 271.648, train_acc 0.857, train_f1 0.241, test_acc 0.735, test_f1 0.146, valid_acc 0.711, valid_f1 0.170, taking 6 seconds.\n"
     ]
    },
    {
     "name": "stderr",
     "output_type": "stream",
     "text": [
      "100%|██████████| 220/220 [00:03<00:00, 56.35it/s]\n"
     ]
    },
    {
     "name": "stdout",
     "output_type": "stream",
     "text": [
      "epoch 50, loss 273.256, train_acc 0.838, train_f1 0.219, test_acc 0.788, test_f1 0.151, valid_acc 0.759, valid_f1 0.163, taking 5 seconds.\n"
     ]
    },
    {
     "name": "stderr",
     "output_type": "stream",
     "text": [
      "100%|██████████| 220/220 [00:03<00:00, 56.29it/s]\n"
     ]
    },
    {
     "name": "stdout",
     "output_type": "stream",
     "text": [
      "epoch 51, loss 272.331, train_acc 0.885, train_f1 0.273, test_acc 0.694, test_f1 0.149, valid_acc 0.712, valid_f1 0.168, taking 5 seconds.\n"
     ]
    },
    {
     "name": "stderr",
     "output_type": "stream",
     "text": [
      "100%|██████████| 220/220 [00:03<00:00, 56.03it/s]\n"
     ]
    },
    {
     "name": "stdout",
     "output_type": "stream",
     "text": [
      "epoch 52, loss 269.907, train_acc 0.871, train_f1 0.263, test_acc 0.800, test_f1 0.164, valid_acc 0.775, valid_f1 0.176, taking 5 seconds.\n"
     ]
    },
    {
     "name": "stderr",
     "output_type": "stream",
     "text": [
      "100%|██████████| 220/220 [00:03<00:00, 56.22it/s]\n"
     ]
    },
    {
     "name": "stdout",
     "output_type": "stream",
     "text": [
      "epoch 53, loss 269.249, train_acc 0.815, train_f1 0.235, test_acc 0.849, test_f1 0.157, valid_acc 0.813, valid_f1 0.163, taking 5 seconds.\n"
     ]
    },
    {
     "name": "stderr",
     "output_type": "stream",
     "text": [
      "100%|██████████| 220/220 [00:03<00:00, 55.78it/s]\n"
     ]
    },
    {
     "name": "stdout",
     "output_type": "stream",
     "text": [
      "epoch 54, loss 267.957, train_acc 0.858, train_f1 0.259, test_acc 0.786, test_f1 0.155, valid_acc 0.768, valid_f1 0.176, taking 5 seconds.\n"
     ]
    },
    {
     "name": "stderr",
     "output_type": "stream",
     "text": [
      "100%|██████████| 220/220 [00:03<00:00, 56.08it/s]\n"
     ]
    },
    {
     "name": "stdout",
     "output_type": "stream",
     "text": [
      "epoch 55, loss 267.951, train_acc 0.865, train_f1 0.262, test_acc 0.843, test_f1 0.150, valid_acc 0.822, valid_f1 0.169, taking 5 seconds.\n"
     ]
    },
    {
     "name": "stderr",
     "output_type": "stream",
     "text": [
      "100%|██████████| 220/220 [00:03<00:00, 56.16it/s]\n"
     ]
    },
    {
     "name": "stdout",
     "output_type": "stream",
     "text": [
      "epoch 56, loss 265.947, train_acc 0.882, train_f1 0.287, test_acc 0.754, test_f1 0.152, valid_acc 0.759, valid_f1 0.175, taking 5 seconds.\n"
     ]
    },
    {
     "name": "stderr",
     "output_type": "stream",
     "text": [
      "100%|██████████| 220/220 [00:03<00:00, 56.12it/s]\n"
     ]
    },
    {
     "name": "stdout",
     "output_type": "stream",
     "text": [
      "epoch 57, loss 270.260, train_acc 0.873, train_f1 0.257, test_acc 0.623, test_f1 0.140, valid_acc 0.653, valid_f1 0.161, taking 5 seconds.\n"
     ]
    },
    {
     "name": "stderr",
     "output_type": "stream",
     "text": [
      "100%|██████████| 220/220 [00:03<00:00, 56.18it/s]\n"
     ]
    },
    {
     "name": "stdout",
     "output_type": "stream",
     "text": [
      "epoch 58, loss 270.987, train_acc 0.842, train_f1 0.251, test_acc 0.735, test_f1 0.140, valid_acc 0.729, valid_f1 0.159, taking 5 seconds.\n"
     ]
    },
    {
     "name": "stderr",
     "output_type": "stream",
     "text": [
      "100%|██████████| 220/220 [00:03<00:00, 56.07it/s]\n"
     ]
    },
    {
     "name": "stdout",
     "output_type": "stream",
     "text": [
      "epoch 59, loss 269.655, train_acc 0.838, train_f1 0.252, test_acc 0.736, test_f1 0.144, valid_acc 0.731, valid_f1 0.160, taking 5 seconds.\n"
     ]
    },
    {
     "name": "stderr",
     "output_type": "stream",
     "text": [
      "100%|██████████| 220/220 [00:03<00:00, 55.91it/s]\n"
     ]
    },
    {
     "name": "stdout",
     "output_type": "stream",
     "text": [
      "epoch 60, loss 268.177, train_acc 0.856, train_f1 0.264, test_acc 0.546, test_f1 0.121, valid_acc 0.606, valid_f1 0.153, taking 5 seconds.\n"
     ]
    },
    {
     "name": "stderr",
     "output_type": "stream",
     "text": [
      "100%|██████████| 220/220 [00:03<00:00, 55.83it/s]\n"
     ]
    },
    {
     "name": "stdout",
     "output_type": "stream",
     "text": [
      "epoch 61, loss 268.672, train_acc 0.847, train_f1 0.249, test_acc 0.654, test_f1 0.132, valid_acc 0.687, valid_f1 0.156, taking 5 seconds.\n"
     ]
    },
    {
     "name": "stderr",
     "output_type": "stream",
     "text": [
      "100%|██████████| 220/220 [00:03<00:00, 55.83it/s]\n"
     ]
    },
    {
     "name": "stdout",
     "output_type": "stream",
     "text": [
      "epoch 62, loss 266.379, train_acc 0.858, train_f1 0.264, test_acc 0.835, test_f1 0.151, valid_acc 0.815, valid_f1 0.175, taking 5 seconds.\n"
     ]
    },
    {
     "name": "stderr",
     "output_type": "stream",
     "text": [
      "100%|██████████| 220/220 [00:03<00:00, 55.85it/s]\n"
     ]
    },
    {
     "name": "stdout",
     "output_type": "stream",
     "text": [
      "epoch 63, loss 265.601, train_acc 0.862, train_f1 0.280, test_acc 0.662, test_f1 0.134, valid_acc 0.683, valid_f1 0.166, taking 5 seconds.\n"
     ]
    },
    {
     "name": "stderr",
     "output_type": "stream",
     "text": [
      "100%|██████████| 220/220 [00:03<00:00, 55.71it/s]\n"
     ]
    },
    {
     "name": "stdout",
     "output_type": "stream",
     "text": [
      "epoch 64, loss 265.234, train_acc 0.840, train_f1 0.253, test_acc 0.800, test_f1 0.148, valid_acc 0.772, valid_f1 0.166, taking 5 seconds.\n"
     ]
    },
    {
     "name": "stderr",
     "output_type": "stream",
     "text": [
      "100%|██████████| 220/220 [00:03<00:00, 55.76it/s]\n"
     ]
    },
    {
     "name": "stdout",
     "output_type": "stream",
     "text": [
      "epoch 65, loss 265.867, train_acc 0.842, train_f1 0.250, test_acc 0.807, test_f1 0.145, valid_acc 0.788, valid_f1 0.162, taking 5 seconds.\n"
     ]
    },
    {
     "name": "stderr",
     "output_type": "stream",
     "text": [
      "100%|██████████| 220/220 [00:03<00:00, 55.60it/s]\n"
     ]
    },
    {
     "name": "stdout",
     "output_type": "stream",
     "text": [
      "epoch 66, loss 264.711, train_acc 0.848, train_f1 0.271, test_acc 0.797, test_f1 0.148, valid_acc 0.766, valid_f1 0.170, taking 6 seconds.\n"
     ]
    },
    {
     "name": "stderr",
     "output_type": "stream",
     "text": [
      "100%|██████████| 220/220 [00:03<00:00, 55.57it/s]\n"
     ]
    },
    {
     "name": "stdout",
     "output_type": "stream",
     "text": [
      "epoch 67, loss 265.409, train_acc 0.848, train_f1 0.261, test_acc 0.793, test_f1 0.148, valid_acc 0.764, valid_f1 0.167, taking 5 seconds.\n"
     ]
    },
    {
     "name": "stderr",
     "output_type": "stream",
     "text": [
      "100%|██████████| 220/220 [00:03<00:00, 55.78it/s]\n"
     ]
    },
    {
     "name": "stdout",
     "output_type": "stream",
     "text": [
      "epoch 68, loss 266.218, train_acc 0.848, train_f1 0.254, test_acc 0.793, test_f1 0.156, valid_acc 0.761, valid_f1 0.168, taking 5 seconds.\n"
     ]
    },
    {
     "name": "stderr",
     "output_type": "stream",
     "text": [
      "100%|██████████| 220/220 [00:03<00:00, 55.78it/s]\n"
     ]
    },
    {
     "name": "stdout",
     "output_type": "stream",
     "text": [
      "epoch 69, loss 267.034, train_acc 0.856, train_f1 0.260, test_acc 0.809, test_f1 0.155, valid_acc 0.784, valid_f1 0.168, taking 5 seconds.\n"
     ]
    },
    {
     "name": "stderr",
     "output_type": "stream",
     "text": [
      "100%|██████████| 220/220 [00:03<00:00, 55.65it/s]\n"
     ]
    },
    {
     "name": "stdout",
     "output_type": "stream",
     "text": [
      "epoch 70, loss 265.576, train_acc 0.854, train_f1 0.265, test_acc 0.720, test_f1 0.144, valid_acc 0.711, valid_f1 0.158, taking 5 seconds.\n"
     ]
    },
    {
     "name": "stderr",
     "output_type": "stream",
     "text": [
      "100%|██████████| 220/220 [00:03<00:00, 56.39it/s]\n"
     ]
    },
    {
     "name": "stdout",
     "output_type": "stream",
     "text": [
      "epoch 71, loss 265.277, train_acc 0.857, train_f1 0.264, test_acc 0.736, test_f1 0.144, valid_acc 0.721, valid_f1 0.158, taking 5 seconds.\n"
     ]
    },
    {
     "name": "stderr",
     "output_type": "stream",
     "text": [
      "100%|██████████| 220/220 [00:03<00:00, 57.91it/s]\n"
     ]
    },
    {
     "name": "stdout",
     "output_type": "stream",
     "text": [
      "epoch 72, loss 264.518, train_acc 0.859, train_f1 0.263, test_acc 0.634, test_f1 0.137, valid_acc 0.670, valid_f1 0.156, taking 5 seconds.\n"
     ]
    },
    {
     "name": "stderr",
     "output_type": "stream",
     "text": [
      "100%|██████████| 220/220 [00:03<00:00, 55.79it/s]\n"
     ]
    },
    {
     "name": "stdout",
     "output_type": "stream",
     "text": [
      "epoch 73, loss 263.762, train_acc 0.864, train_f1 0.282, test_acc 0.768, test_f1 0.150, valid_acc 0.751, valid_f1 0.174, taking 5 seconds.\n"
     ]
    },
    {
     "name": "stderr",
     "output_type": "stream",
     "text": [
      "100%|██████████| 220/220 [00:03<00:00, 55.77it/s]\n"
     ]
    },
    {
     "name": "stdout",
     "output_type": "stream",
     "text": [
      "epoch 74, loss 264.067, train_acc 0.868, train_f1 0.280, test_acc 0.822, test_f1 0.150, valid_acc 0.803, valid_f1 0.170, taking 5 seconds.\n"
     ]
    },
    {
     "name": "stderr",
     "output_type": "stream",
     "text": [
      "100%|██████████| 220/220 [00:03<00:00, 55.50it/s]\n"
     ]
    },
    {
     "name": "stdout",
     "output_type": "stream",
     "text": [
      "epoch 75, loss 264.409, train_acc 0.841, train_f1 0.269, test_acc 0.734, test_f1 0.147, valid_acc 0.733, valid_f1 0.165, taking 6 seconds.\n"
     ]
    },
    {
     "name": "stderr",
     "output_type": "stream",
     "text": [
      "100%|██████████| 220/220 [00:03<00:00, 55.41it/s]\n"
     ]
    },
    {
     "name": "stdout",
     "output_type": "stream",
     "text": [
      "epoch 76, loss 263.280, train_acc 0.836, train_f1 0.259, test_acc 0.281, test_f1 0.108, valid_acc 0.366, valid_f1 0.126, taking 6 seconds.\n"
     ]
    },
    {
     "name": "stderr",
     "output_type": "stream",
     "text": [
      "100%|██████████| 220/220 [00:03<00:00, 56.04it/s]\n"
     ]
    },
    {
     "name": "stdout",
     "output_type": "stream",
     "text": [
      "epoch 77, loss 263.345, train_acc 0.854, train_f1 0.274, test_acc 0.587, test_f1 0.143, valid_acc 0.637, valid_f1 0.159, taking 5 seconds.\n"
     ]
    },
    {
     "name": "stderr",
     "output_type": "stream",
     "text": [
      "100%|██████████| 220/220 [00:03<00:00, 55.73it/s]\n"
     ]
    },
    {
     "name": "stdout",
     "output_type": "stream",
     "text": [
      "epoch 78, loss 263.225, train_acc 0.851, train_f1 0.271, test_acc 0.703, test_f1 0.144, valid_acc 0.725, valid_f1 0.164, taking 5 seconds.\n"
     ]
    },
    {
     "name": "stderr",
     "output_type": "stream",
     "text": [
      "100%|██████████| 220/220 [00:03<00:00, 55.84it/s]\n"
     ]
    },
    {
     "name": "stdout",
     "output_type": "stream",
     "text": [
      "epoch 79, loss 262.916, train_acc 0.862, train_f1 0.283, test_acc 0.588, test_f1 0.130, valid_acc 0.633, valid_f1 0.159, taking 5 seconds.\n"
     ]
    },
    {
     "name": "stderr",
     "output_type": "stream",
     "text": [
      "100%|██████████| 220/220 [00:03<00:00, 55.49it/s]\n"
     ]
    },
    {
     "name": "stdout",
     "output_type": "stream",
     "text": [
      "epoch 80, loss 263.695, train_acc 0.854, train_f1 0.271, test_acc 0.678, test_f1 0.134, valid_acc 0.709, valid_f1 0.159, taking 6 seconds.\n"
     ]
    },
    {
     "name": "stderr",
     "output_type": "stream",
     "text": [
      "100%|██████████| 220/220 [00:03<00:00, 55.86it/s]\n"
     ]
    },
    {
     "name": "stdout",
     "output_type": "stream",
     "text": [
      "epoch 81, loss 263.935, train_acc 0.859, train_f1 0.268, test_acc 0.515, test_f1 0.119, valid_acc 0.576, valid_f1 0.146, taking 5 seconds.\n"
     ]
    },
    {
     "name": "stderr",
     "output_type": "stream",
     "text": [
      "100%|██████████| 220/220 [00:03<00:00, 56.01it/s]\n"
     ]
    },
    {
     "name": "stdout",
     "output_type": "stream",
     "text": [
      "epoch 82, loss 263.397, train_acc 0.860, train_f1 0.273, test_acc 0.697, test_f1 0.144, valid_acc 0.736, valid_f1 0.165, taking 5 seconds.\n"
     ]
    },
    {
     "name": "stderr",
     "output_type": "stream",
     "text": [
      "100%|██████████| 220/220 [00:03<00:00, 56.01it/s]\n"
     ]
    },
    {
     "name": "stdout",
     "output_type": "stream",
     "text": [
      "epoch 83, loss 264.217, train_acc 0.850, train_f1 0.265, test_acc 0.848, test_f1 0.155, valid_acc 0.818, valid_f1 0.167, taking 5 seconds.\n"
     ]
    },
    {
     "name": "stderr",
     "output_type": "stream",
     "text": [
      "100%|██████████| 220/220 [00:03<00:00, 58.70it/s]\n"
     ]
    },
    {
     "name": "stdout",
     "output_type": "stream",
     "text": [
      "epoch 84, loss 264.266, train_acc 0.856, train_f1 0.268, test_acc 0.345, test_f1 0.103, valid_acc 0.438, valid_f1 0.134, taking 5 seconds.\n"
     ]
    },
    {
     "name": "stderr",
     "output_type": "stream",
     "text": [
      "100%|██████████| 220/220 [00:03<00:00, 58.04it/s]\n"
     ]
    },
    {
     "name": "stdout",
     "output_type": "stream",
     "text": [
      "epoch 85, loss 263.301, train_acc 0.851, train_f1 0.274, test_acc 0.406, test_f1 0.110, valid_acc 0.484, valid_f1 0.140, taking 5 seconds.\n"
     ]
    },
    {
     "name": "stderr",
     "output_type": "stream",
     "text": [
      "100%|██████████| 220/220 [00:03<00:00, 55.41it/s]\n"
     ]
    },
    {
     "name": "stdout",
     "output_type": "stream",
     "text": [
      "epoch 86, loss 262.274, train_acc 0.843, train_f1 0.278, test_acc 0.592, test_f1 0.135, valid_acc 0.630, valid_f1 0.157, taking 6 seconds.\n"
     ]
    },
    {
     "name": "stderr",
     "output_type": "stream",
     "text": [
      "100%|██████████| 220/220 [00:03<00:00, 55.69it/s]\n"
     ]
    },
    {
     "name": "stdout",
     "output_type": "stream",
     "text": [
      "epoch 87, loss 262.036, train_acc 0.859, train_f1 0.280, test_acc 0.615, test_f1 0.145, valid_acc 0.666, valid_f1 0.166, taking 5 seconds.\n"
     ]
    },
    {
     "name": "stderr",
     "output_type": "stream",
     "text": [
      "100%|██████████| 220/220 [00:03<00:00, 55.50it/s]\n"
     ]
    },
    {
     "name": "stdout",
     "output_type": "stream",
     "text": [
      "epoch 88, loss 263.461, train_acc 0.858, train_f1 0.280, test_acc 0.416, test_f1 0.110, valid_acc 0.504, valid_f1 0.139, taking 6 seconds.\n"
     ]
    },
    {
     "name": "stderr",
     "output_type": "stream",
     "text": [
      "100%|██████████| 220/220 [00:03<00:00, 56.63it/s]\n"
     ]
    },
    {
     "name": "stdout",
     "output_type": "stream",
     "text": [
      "epoch 89, loss 263.205, train_acc 0.862, train_f1 0.286, test_acc 0.311, test_f1 0.106, valid_acc 0.389, valid_f1 0.137, taking 5 seconds.\n"
     ]
    },
    {
     "name": "stderr",
     "output_type": "stream",
     "text": [
      "100%|██████████| 220/220 [00:03<00:00, 58.80it/s]\n"
     ]
    },
    {
     "name": "stdout",
     "output_type": "stream",
     "text": [
      "epoch 90, loss 262.651, train_acc 0.863, train_f1 0.284, test_acc 0.603, test_f1 0.133, valid_acc 0.657, valid_f1 0.159, taking 5 seconds.\n"
     ]
    },
    {
     "name": "stderr",
     "output_type": "stream",
     "text": [
      "100%|██████████| 220/220 [00:03<00:00, 56.72it/s]\n"
     ]
    },
    {
     "name": "stdout",
     "output_type": "stream",
     "text": [
      "epoch 91, loss 268.892, train_acc 0.857, train_f1 0.277, test_acc 0.681, test_f1 0.142, valid_acc 0.711, valid_f1 0.165, taking 5 seconds.\n"
     ]
    },
    {
     "name": "stderr",
     "output_type": "stream",
     "text": [
      "100%|██████████| 220/220 [00:03<00:00, 55.74it/s]\n"
     ]
    },
    {
     "name": "stdout",
     "output_type": "stream",
     "text": [
      "epoch 92, loss 263.681, train_acc 0.870, train_f1 0.282, test_acc 0.676, test_f1 0.139, valid_acc 0.682, valid_f1 0.160, taking 5 seconds.\n"
     ]
    },
    {
     "name": "stderr",
     "output_type": "stream",
     "text": [
      "100%|██████████| 220/220 [00:03<00:00, 55.80it/s]\n"
     ]
    },
    {
     "name": "stdout",
     "output_type": "stream",
     "text": [
      "epoch 93, loss 264.391, train_acc 0.875, train_f1 0.284, test_acc 0.329, test_f1 0.102, valid_acc 0.400, valid_f1 0.127, taking 5 seconds.\n"
     ]
    },
    {
     "name": "stderr",
     "output_type": "stream",
     "text": [
      "100%|██████████| 220/220 [00:03<00:00, 55.98it/s]\n"
     ]
    },
    {
     "name": "stdout",
     "output_type": "stream",
     "text": [
      "epoch 94, loss 264.453, train_acc 0.877, train_f1 0.281, test_acc 0.672, test_f1 0.139, valid_acc 0.699, valid_f1 0.159, taking 5 seconds.\n"
     ]
    },
    {
     "name": "stderr",
     "output_type": "stream",
     "text": [
      "100%|██████████| 220/220 [00:03<00:00, 56.12it/s]\n"
     ]
    },
    {
     "name": "stdout",
     "output_type": "stream",
     "text": [
      "epoch 95, loss 264.425, train_acc 0.871, train_f1 0.287, test_acc 0.433, test_f1 0.118, valid_acc 0.509, valid_f1 0.148, taking 5 seconds.\n"
     ]
    },
    {
     "name": "stderr",
     "output_type": "stream",
     "text": [
      "100%|██████████| 220/220 [00:03<00:00, 58.53it/s]\n"
     ]
    },
    {
     "name": "stdout",
     "output_type": "stream",
     "text": [
      "epoch 96, loss 264.093, train_acc 0.870, train_f1 0.284, test_acc 0.425, test_f1 0.109, valid_acc 0.512, valid_f1 0.131, taking 5 seconds.\n"
     ]
    },
    {
     "name": "stderr",
     "output_type": "stream",
     "text": [
      "100%|██████████| 220/220 [00:03<00:00, 59.28it/s]\n"
     ]
    },
    {
     "name": "stdout",
     "output_type": "stream",
     "text": [
      "epoch 97, loss 263.440, train_acc 0.865, train_f1 0.283, test_acc 0.605, test_f1 0.130, valid_acc 0.672, valid_f1 0.156, taking 5 seconds.\n"
     ]
    },
    {
     "name": "stderr",
     "output_type": "stream",
     "text": [
      "100%|██████████| 220/220 [00:03<00:00, 56.72it/s]\n"
     ]
    },
    {
     "name": "stdout",
     "output_type": "stream",
     "text": [
      "epoch 98, loss 262.714, train_acc 0.846, train_f1 0.265, test_acc 0.624, test_f1 0.136, valid_acc 0.665, valid_f1 0.157, taking 5 seconds.\n"
     ]
    },
    {
     "name": "stderr",
     "output_type": "stream",
     "text": [
      "100%|██████████| 220/220 [00:03<00:00, 56.01it/s]\n"
     ]
    },
    {
     "name": "stdout",
     "output_type": "stream",
     "text": [
      "epoch 99, loss 263.089, train_acc 0.843, train_f1 0.267, test_acc 0.532, test_f1 0.127, valid_acc 0.587, valid_f1 0.148, taking 5 seconds.\n"
     ]
    },
    {
     "name": "stderr",
     "output_type": "stream",
     "text": [
      "100%|██████████| 220/220 [00:03<00:00, 55.78it/s]\n"
     ]
    },
    {
     "name": "stdout",
     "output_type": "stream",
     "text": [
      "epoch 100, loss 263.893, train_acc 0.866, train_f1 0.280, test_acc 0.568, test_f1 0.133, valid_acc 0.635, valid_f1 0.158, taking 5 seconds.\n",
      "Training is finished.\n",
      "训练损失: 263.893, 训练集准确率: 0.866, 训练集f1: 0.280, 测试集准确率: 0.568, 测试集f1: 0.133, 验证集准确率: 0.635, 验证集f1: 0.158, 在设备 cuda 上训练 100 周期, 耗时 528 s\n"
     ]
    }
   ],
   "source": [
    "# 18,663,945 total parameters\n",
    "net.to(device)\n",
    "num_batches = len(train_iter)\n",
    "losses, train_accuracy, test_accuracy, valid_accuracy = [], [], [], []\n",
    "train_f1, test_f1, valid_f1 = [], [], []\n",
    "total_start = time.time()\n",
    "for epoch in range(num_epochs):\n",
    "    train_loss = 0\n",
    "    start_time = time.perf_counter()\n",
    "    net.train()\n",
    "    for index, data in tqdm(enumerate(train_iter), total=num_batches, leave=True):\n",
    "        X, valid_len, y = [v.to(device) for v in data]\n",
    "        l = criterion(net(X, valid_len).view(-1, num_output), y.view(-1))\n",
    "        trainer.zero_grad()\n",
    "        l.sum().backward()\n",
    "        trainer.step()\n",
    "        train_loss += l.sum().cpu().detach().numpy() / batch_size\n",
    "        # train_acc += d2l.accuracy(net(X, valid_len), y) / batch_size\n",
    "    epochloss = train_loss / num_batches\n",
    "    epochtrainacc, epochtrainf1 =evaluate_accuracy_f1(net, train_iter)\n",
    "    epochtestacc, epochtestf1 = evaluate_accuracy_f1(net, test_iter)\n",
    "    epochvalidacc, epochvalidf1 = evaluate_accuracy_f1(net, validation_iter)\n",
    "    end_time = time.perf_counter()\n",
    "    print(f'epoch {epoch + 1}, loss {epochloss:.3f}, train_acc {epochtrainacc:.3f}, '\n",
    "        f'train_f1 {epochtrainf1:.3f}, test_acc {epochtestacc:.3f}, '\n",
    "        f'test_f1 {epochtestf1:.3f}, valid_acc {epochvalidacc:.3f}, '\n",
    "        f'valid_f1 {epochvalidf1:.3f}, taking {round(end_time - start_time)} seconds.')\n",
    "    losses.append(epochloss)\n",
    "    train_accuracy.append(epochtrainacc)\n",
    "    train_f1.append(epochtrainf1)\n",
    "    test_accuracy.append(epochtestacc)\n",
    "    test_f1.append(epochtestf1)\n",
    "    valid_accuracy.append(epochvalidacc)\n",
    "    valid_f1.append(epochvalidf1)\n",
    "total_timecost = round(time.time() - total_start)\n",
    "print('Training is finished.')\n",
    "print(f'训练损失: {losses[-1]:.3f}, 训练集准确率: {train_accuracy[-1]:.3f}, '\n",
    "     f'训练集f1: {train_f1[-1]:.3f}, 测试集准确率: {test_accuracy[-1]:.3f}, '\n",
    "     f'测试集f1: {test_f1[-1]:.3f}, 验证集准确率: {valid_accuracy[-1]:.3f}, '\n",
    "     f'验证集f1: {valid_f1[-1]:.3f}, 在设备 {device} 上训练 {num_epochs} 周期, 耗时 {total_timecost} s')"
   ]
  },
  {
   "cell_type": "markdown",
   "id": "9867c0d3-6deb-48d0-8c08-123d39ed23df",
   "metadata": {
    "jp-MarkdownHeadingCollapsed": true
   },
   "source": [
    "### 保存结果"
   ]
  },
  {
   "cell_type": "code",
   "execution_count": 81,
   "id": "ead4e42e-7553-4bd1-bb5e-554a23d607b1",
   "metadata": {
    "execution": {
     "iopub.execute_input": "2024-08-03T12:31:44.848592Z",
     "iopub.status.busy": "2024-08-03T12:31:44.847243Z",
     "iopub.status.idle": "2024-08-03T12:31:44.855260Z",
     "shell.execute_reply": "2024-08-03T12:31:44.854019Z",
     "shell.execute_reply.started": "2024-08-03T12:31:44.848532Z"
    }
   },
   "outputs": [
    {
     "name": "stdout",
     "output_type": "stream",
     "text": [
      "训练损失: 154.878, 训练集准确率: 0.771, 训练集f1: 0.249, 测试集准确率: 0.708, 测试集f1: 0.155, 验证集准确率: 0.775, 验证集f1: 0.184, 在设备 cuda 上训练 100 周期, 耗时 10783 s\n"
     ]
    }
   ],
   "source": [
    "print(f'训练损失: {losses[-1]:.3f}, 训练集准确率: {train_accuracy[-1]:.3f}, '\n",
    "     f'训练集f1: {train_f1[-1]:.3f}, 测试集准确率: {test_accuracy[-1]:.3f}, '\n",
    "     f'测试集f1: {test_f1[-1]:.3f}, 验证集准确率: {valid_accuracy[-1]:.3f}, '\n",
    "     f'验证集f1: {valid_f1[-1]:.3f}, 在设备 {device} 上训练 {num_epochs} 周期, 耗时 {total_timecost} s')"
   ]
  },
  {
   "cell_type": "code",
   "execution_count": 82,
   "id": "eea1a52f-a6bc-45bb-bb18-baa0af8f0fd7",
   "metadata": {
    "execution": {
     "iopub.execute_input": "2024-08-03T12:32:15.444666Z",
     "iopub.status.busy": "2024-08-03T12:32:15.443333Z",
     "iopub.status.idle": "2024-08-03T12:32:15.612040Z",
     "shell.execute_reply": "2024-08-03T12:32:15.611224Z",
     "shell.execute_reply.started": "2024-08-03T12:32:15.444607Z"
    }
   },
   "outputs": [
    {
     "data": {
      "image/png": "[encoded data removed]",
      "text/plain": [
       "<Figure size 640x480 with 1 Axes>"
      ]
     },
     "metadata": {},
     "output_type": "display_data"
    }
   ],
   "source": [
    "fig = plt.figure()\n",
    "plt.title('loss and accuracy')\n",
    "epochs = np.arange(1, num_epochs + 1)\n",
    "plt.axis([0, num_epochs, 0, 1])\n",
    "# losses, train_accuracy, test_accuracy, test_f1\n",
    "plt.plot(epochs, losses, 'r.-', label='loss')\n",
    "# plt.plot(epochs, train_accuracy, 'g-.', label='train_acc')\n",
    "plt.plot(epochs, test_accuracy, 'g-.', label='test_acc')\n",
    "plt.plot(epochs, test_f1, 'b-.', label='test_f1')\n",
    "plt.legend(loc='best', frameon=False)\n",
    "plt.show()"
   ]
  },
  {
   "cell_type": "code",
   "execution_count": 83,
   "id": "077c035b-44bc-40e2-a0d0-814c39fa7fd5",
   "metadata": {
    "execution": {
     "iopub.execute_input": "2024-08-03T12:33:03.026376Z",
     "iopub.status.busy": "2024-08-03T12:33:03.025893Z",
     "iopub.status.idle": "2024-08-03T12:33:03.211393Z",
     "shell.execute_reply": "2024-08-03T12:33:03.210294Z",
     "shell.execute_reply.started": "2024-08-03T12:33:03.026351Z"
    }
   },
   "outputs": [],
   "source": [
    "torch.save(net.state_dict(), 'output/12layer_state_dict.pth')"
   ]
  },
  {
   "cell_type": "markdown",
   "id": "4b2991b9-7018-4b59-b83a-19d15ce180e5",
   "metadata": {},
   "source": [
    "### 重新训练"
   ]
  },
  {
   "cell_type": "code",
   "execution_count": null,
   "id": "ee49e3fc-2419-4bc5-9e42-2167a575c2cf",
   "metadata": {
    "execution": {
     "execution_failed": "2024-08-03T16:00:02.170Z",
     "iopub.execute_input": "2024-08-03T15:10:44.339884Z",
     "iopub.status.busy": "2024-08-03T15:10:44.339599Z"
    },
    "scrolled": true
   },
   "outputs": [
    {
     "name": "stderr",
     "output_type": "stream",
     "text": [
      "100%|██████████| 220/220 [00:51<00:00,  4.31it/s]\n"
     ]
    },
    {
     "name": "stdout",
     "output_type": "stream",
     "text": [
      "epoch 1, loss 155.286, train_acc 0.770, train_f1 0.247, test_acc 0.711, test_f1 0.157, valid_acc 0.779, valid_f1 0.185, taking 109 seconds.\n"
     ]
    },
    {
     "name": "stderr",
     "output_type": "stream",
     "text": [
      "100%|██████████| 220/220 [00:50<00:00,  4.35it/s]\n"
     ]
    },
    {
     "name": "stdout",
     "output_type": "stream",
     "text": [
      "epoch 2, loss 155.132, train_acc 0.766, train_f1 0.245, test_acc 0.701, test_f1 0.155, valid_acc 0.769, valid_f1 0.182, taking 108 seconds.\n"
     ]
    },
    {
     "name": "stderr",
     "output_type": "stream",
     "text": [
      "100%|██████████| 220/220 [00:50<00:00,  4.33it/s]\n"
     ]
    },
    {
     "name": "stdout",
     "output_type": "stream",
     "text": [
      "epoch 3, loss 154.970, train_acc 0.772, train_f1 0.252, test_acc 0.717, test_f1 0.157, valid_acc 0.784, valid_f1 0.189, taking 109 seconds.\n"
     ]
    },
    {
     "name": "stderr",
     "output_type": "stream",
     "text": [
      "100%|██████████| 220/220 [00:51<00:00,  4.31it/s]\n"
     ]
    },
    {
     "name": "stdout",
     "output_type": "stream",
     "text": [
      "epoch 4, loss 154.570, train_acc 0.768, train_f1 0.252, test_acc 0.716, test_f1 0.159, valid_acc 0.774, valid_f1 0.184, taking 109 seconds.\n"
     ]
    },
    {
     "name": "stderr",
     "output_type": "stream",
     "text": [
      "100%|██████████| 220/220 [00:50<00:00,  4.33it/s]\n"
     ]
    },
    {
     "name": "stdout",
     "output_type": "stream",
     "text": [
      "epoch 5, loss 154.259, train_acc 0.769, train_f1 0.251, test_acc 0.717, test_f1 0.158, valid_acc 0.783, valid_f1 0.190, taking 109 seconds.\n"
     ]
    },
    {
     "name": "stderr",
     "output_type": "stream",
     "text": [
      "100%|██████████| 220/220 [00:50<00:00,  4.39it/s]\n"
     ]
    },
    {
     "name": "stdout",
     "output_type": "stream",
     "text": [
      "epoch 6, loss 154.068, train_acc 0.768, train_f1 0.250, test_acc 0.724, test_f1 0.160, valid_acc 0.785, valid_f1 0.191, taking 108 seconds.\n"
     ]
    },
    {
     "name": "stderr",
     "output_type": "stream",
     "text": [
      "100%|██████████| 220/220 [00:51<00:00,  4.31it/s]\n"
     ]
    },
    {
     "name": "stdout",
     "output_type": "stream",
     "text": [
      "epoch 7, loss 154.232, train_acc 0.775, train_f1 0.255, test_acc 0.723, test_f1 0.158, valid_acc 0.788, valid_f1 0.191, taking 109 seconds.\n"
     ]
    },
    {
     "name": "stderr",
     "output_type": "stream",
     "text": [
      "100%|██████████| 220/220 [00:50<00:00,  4.33it/s]\n"
     ]
    },
    {
     "name": "stdout",
     "output_type": "stream",
     "text": [
      "epoch 8, loss 153.691, train_acc 0.778, train_f1 0.260, test_acc 0.724, test_f1 0.157, valid_acc 0.790, valid_f1 0.192, taking 109 seconds.\n"
     ]
    },
    {
     "name": "stderr",
     "output_type": "stream",
     "text": [
      "100%|██████████| 220/220 [00:50<00:00,  4.32it/s]\n"
     ]
    },
    {
     "name": "stdout",
     "output_type": "stream",
     "text": [
      "epoch 9, loss 153.242, train_acc 0.773, train_f1 0.257, test_acc 0.722, test_f1 0.159, valid_acc 0.788, valid_f1 0.193, taking 109 seconds.\n"
     ]
    },
    {
     "name": "stderr",
     "output_type": "stream",
     "text": [
      "100%|██████████| 220/220 [00:50<00:00,  4.32it/s]\n"
     ]
    },
    {
     "name": "stdout",
     "output_type": "stream",
     "text": [
      "epoch 10, loss 153.257, train_acc 0.776, train_f1 0.259, test_acc 0.729, test_f1 0.158, valid_acc 0.789, valid_f1 0.189, taking 108 seconds.\n"
     ]
    },
    {
     "name": "stderr",
     "output_type": "stream",
     "text": [
      "100%|██████████| 220/220 [00:50<00:00,  4.34it/s]\n"
     ]
    },
    {
     "name": "stdout",
     "output_type": "stream",
     "text": [
      "epoch 11, loss 153.073, train_acc 0.773, train_f1 0.255, test_acc 0.720, test_f1 0.155, valid_acc 0.787, valid_f1 0.190, taking 109 seconds.\n"
     ]
    },
    {
     "name": "stderr",
     "output_type": "stream",
     "text": [
      "100%|██████████| 220/220 [00:50<00:00,  4.37it/s]\n"
     ]
    },
    {
     "name": "stdout",
     "output_type": "stream",
     "text": [
      "epoch 12, loss 152.458, train_acc 0.779, train_f1 0.260, test_acc 0.725, test_f1 0.158, valid_acc 0.795, valid_f1 0.192, taking 108 seconds.\n"
     ]
    },
    {
     "name": "stderr",
     "output_type": "stream",
     "text": [
      "100%|██████████| 220/220 [00:50<00:00,  4.36it/s]\n"
     ]
    },
    {
     "name": "stdout",
     "output_type": "stream",
     "text": [
      "epoch 13, loss 152.597, train_acc 0.778, train_f1 0.262, test_acc 0.719, test_f1 0.158, valid_acc 0.786, valid_f1 0.191, taking 109 seconds.\n"
     ]
    },
    {
     "name": "stderr",
     "output_type": "stream",
     "text": [
      "100%|██████████| 220/220 [00:50<00:00,  4.31it/s]\n"
     ]
    },
    {
     "name": "stdout",
     "output_type": "stream",
     "text": [
      "epoch 14, loss 152.787, train_acc 0.777, train_f1 0.262, test_acc 0.729, test_f1 0.160, valid_acc 0.787, valid_f1 0.188, taking 108 seconds.\n"
     ]
    },
    {
     "name": "stderr",
     "output_type": "stream",
     "text": [
      "100%|██████████| 220/220 [00:50<00:00,  4.32it/s]\n"
     ]
    },
    {
     "name": "stdout",
     "output_type": "stream",
     "text": [
      "epoch 15, loss 152.132, train_acc 0.782, train_f1 0.264, test_acc 0.733, test_f1 0.161, valid_acc 0.793, valid_f1 0.193, taking 109 seconds.\n"
     ]
    },
    {
     "name": "stderr",
     "output_type": "stream",
     "text": [
      "100%|██████████| 220/220 [00:50<00:00,  4.34it/s]\n"
     ]
    },
    {
     "name": "stdout",
     "output_type": "stream",
     "text": [
      "epoch 16, loss 152.302, train_acc 0.778, train_f1 0.265, test_acc 0.727, test_f1 0.160, valid_acc 0.795, valid_f1 0.195, taking 109 seconds.\n"
     ]
    },
    {
     "name": "stderr",
     "output_type": "stream",
     "text": [
      "100%|██████████| 220/220 [00:51<00:00,  4.31it/s]\n"
     ]
    },
    {
     "name": "stdout",
     "output_type": "stream",
     "text": [
      "epoch 17, loss 151.836, train_acc 0.779, train_f1 0.262, test_acc 0.728, test_f1 0.158, valid_acc 0.795, valid_f1 0.194, taking 109 seconds.\n"
     ]
    },
    {
     "name": "stderr",
     "output_type": "stream",
     "text": [
      "100%|██████████| 220/220 [00:51<00:00,  4.31it/s]\n"
     ]
    },
    {
     "name": "stdout",
     "output_type": "stream",
     "text": [
      "epoch 18, loss 151.591, train_acc 0.787, train_f1 0.270, test_acc 0.730, test_f1 0.159, valid_acc 0.794, valid_f1 0.193, taking 109 seconds.\n"
     ]
    },
    {
     "name": "stderr",
     "output_type": "stream",
     "text": [
      "100%|██████████| 220/220 [00:51<00:00,  4.31it/s]\n"
     ]
    },
    {
     "name": "stdout",
     "output_type": "stream",
     "text": [
      "epoch 19, loss 151.807, train_acc 0.791, train_f1 0.272, test_acc 0.734, test_f1 0.161, valid_acc 0.799, valid_f1 0.195, taking 109 seconds.\n"
     ]
    },
    {
     "name": "stderr",
     "output_type": "stream",
     "text": [
      "100%|██████████| 220/220 [00:50<00:00,  4.37it/s]\n"
     ]
    },
    {
     "name": "stdout",
     "output_type": "stream",
     "text": [
      "epoch 20, loss 151.402, train_acc 0.782, train_f1 0.266, test_acc 0.732, test_f1 0.160, valid_acc 0.794, valid_f1 0.192, taking 108 seconds.\n"
     ]
    },
    {
     "name": "stderr",
     "output_type": "stream",
     "text": [
      "100%|██████████| 220/220 [00:50<00:00,  4.32it/s]\n"
     ]
    },
    {
     "name": "stdout",
     "output_type": "stream",
     "text": [
      "epoch 21, loss 151.378, train_acc 0.779, train_f1 0.263, test_acc 0.731, test_f1 0.160, valid_acc 0.789, valid_f1 0.189, taking 109 seconds.\n"
     ]
    },
    {
     "name": "stderr",
     "output_type": "stream",
     "text": [
      "100%|██████████| 220/220 [00:50<00:00,  4.32it/s]\n"
     ]
    },
    {
     "name": "stdout",
     "output_type": "stream",
     "text": [
      "epoch 22, loss 151.212, train_acc 0.786, train_f1 0.270, test_acc 0.735, test_f1 0.162, valid_acc 0.794, valid_f1 0.193, taking 108 seconds.\n"
     ]
    },
    {
     "name": "stderr",
     "output_type": "stream",
     "text": [
      "100%|██████████| 220/220 [00:50<00:00,  4.32it/s]\n"
     ]
    },
    {
     "name": "stdout",
     "output_type": "stream",
     "text": [
      "epoch 23, loss 150.730, train_acc 0.791, train_f1 0.270, test_acc 0.736, test_f1 0.163, valid_acc 0.795, valid_f1 0.192, taking 108 seconds.\n"
     ]
    },
    {
     "name": "stderr",
     "output_type": "stream",
     "text": [
      "100%|██████████| 220/220 [00:50<00:00,  4.35it/s]\n"
     ]
    },
    {
     "name": "stdout",
     "output_type": "stream",
     "text": [
      "epoch 24, loss 150.318, train_acc 0.787, train_f1 0.269, test_acc 0.729, test_f1 0.161, valid_acc 0.791, valid_f1 0.193, taking 108 seconds.\n"
     ]
    },
    {
     "name": "stderr",
     "output_type": "stream",
     "text": [
      "100%|██████████| 220/220 [00:50<00:00,  4.35it/s]\n"
     ]
    },
    {
     "name": "stdout",
     "output_type": "stream",
     "text": [
      "epoch 25, loss 150.911, train_acc 0.788, train_f1 0.271, test_acc 0.728, test_f1 0.161, valid_acc 0.789, valid_f1 0.192, taking 108 seconds.\n"
     ]
    },
    {
     "name": "stderr",
     "output_type": "stream",
     "text": [
      "100%|██████████| 220/220 [00:50<00:00,  4.34it/s]\n"
     ]
    },
    {
     "name": "stdout",
     "output_type": "stream",
     "text": [
      "epoch 26, loss 150.750, train_acc 0.787, train_f1 0.274, test_acc 0.724, test_f1 0.162, valid_acc 0.790, valid_f1 0.193, taking 108 seconds.\n"
     ]
    },
    {
     "name": "stderr",
     "output_type": "stream",
     "text": [
      "100%|██████████| 220/220 [00:50<00:00,  4.33it/s]\n"
     ]
    },
    {
     "name": "stdout",
     "output_type": "stream",
     "text": [
      "epoch 27, loss 150.249, train_acc 0.789, train_f1 0.277, test_acc 0.727, test_f1 0.161, valid_acc 0.796, valid_f1 0.195, taking 108 seconds.\n"
     ]
    },
    {
     "name": "stderr",
     "output_type": "stream",
     "text": [
      " 58%|█████▊    | 127/220 [00:29<00:21,  4.34it/s]"
     ]
    }
   ],
   "source": [
    "# 18,663,945 total parameters\n",
    "net.to(device)\n",
    "num_batches = len(train_iter)\n",
    "losses, train_accuracy, test_accuracy, valid_accuracy = [], [], [], []\n",
    "train_f1, test_f1, valid_f1 = [], [], []\n",
    "total_start = time.time()\n",
    "for epoch in range(num_epochs):\n",
    "    train_loss = 0\n",
    "    start_time = time.perf_counter()\n",
    "    net.train()\n",
    "    for index, data in tqdm(enumerate(train_iter), total=num_batches, leave=True):\n",
    "        X, valid_len, y = [v.to(device) for v in data]\n",
    "        l = criterion(net(X, valid_len).view(-1, num_output), y.view(-1))\n",
    "        trainer.zero_grad()\n",
    "        l.sum().backward()\n",
    "        trainer.step()\n",
    "        train_loss += l.sum().cpu().detach().numpy() / batch_size\n",
    "        # train_acc += d2l.accuracy(net(X, valid_len), y) / batch_size\n",
    "    epochloss = train_loss / num_batches\n",
    "    epochtrainacc, epochtrainf1 =evaluate_accuracy_f1(net, train_iter)\n",
    "    epochtestacc, epochtestf1 = evaluate_accuracy_f1(net, test_iter)\n",
    "    epochvalidacc, epochvalidf1 = evaluate_accuracy_f1(net, validation_iter)\n",
    "    end_time = time.perf_counter()\n",
    "    print(f'epoch {epoch + 1}, loss {epochloss:.3f}, train_acc {epochtrainacc:.3f}, '\n",
    "        f'train_f1 {epochtrainf1:.3f}, test_acc {epochtestacc:.3f}, '\n",
    "        f'test_f1 {epochtestf1:.3f}, valid_acc {epochvalidacc:.3f}, '\n",
    "        f'valid_f1 {epochvalidf1:.3f}, taking {round(end_time - start_time)} seconds.')\n",
    "    losses.append(epochloss)\n",
    "    train_accuracy.append(epochtrainacc)\n",
    "    train_f1.append(epochtrainf1)\n",
    "    test_accuracy.append(epochtestacc)\n",
    "    test_f1.append(epochtestf1)\n",
    "    valid_accuracy.append(epochvalidacc)\n",
    "    valid_f1.append(epochvalidf1)\n",
    "total_timecost = round(time.time() - total_start)\n",
    "print('Training is finished.')\n",
    "print(f'训练损失: {losses[-1]:.3f}, 训练集准确率: {train_accuracy[-1]:.3f}, '\n",
    "     f'训练集f1: {train_f1[-1]:.3f}, 测试集准确率: {test_accuracy[-1]:.3f}, '\n",
    "     f'测试集f1: {test_f1[-1]:.3f}, 验证集准确率: {valid_accuracy[-1]:.3f}, '\n",
    "     f'验证集f1: {valid_f1[-1]:.3f}, 在设备 {device} 上训练 {num_epochs} 周期, 耗时 {total_timecost} s')"
   ]
  },
  {
   "cell_type": "markdown",
   "id": "b0bd8bba-8f5f-470e-b0a6-fd9aac4e1301",
   "metadata": {},
   "source": [
    "### 保存结果"
   ]
  },
  {
   "cell_type": "code",
   "execution_count": 36,
   "id": "53482a7d-f638-4b1b-8a5f-9b7f27234689",
   "metadata": {
    "execution": {
     "iopub.execute_input": "2024-08-04T02:20:53.903525Z",
     "iopub.status.busy": "2024-08-04T02:20:53.902702Z",
     "iopub.status.idle": "2024-08-04T02:20:53.913522Z",
     "shell.execute_reply": "2024-08-04T02:20:53.911688Z",
     "shell.execute_reply.started": "2024-08-04T02:20:53.903446Z"
    }
   },
   "outputs": [
    {
     "name": "stdout",
     "output_type": "stream",
     "text": [
      "测试集最佳准确率: 0.8943,\n",
      "测试集最佳F1分数: 0.1901,\n",
      "验证集最佳准确率: 0.8922,\n",
      "测试集最佳F1分数: 0.1932,\n",
      "\n"
     ]
    }
   ],
   "source": [
    "print(f\"测试集最佳准确率: {max(test_accuracy):.4f},\\n\"\n",
    "    f\"测试集最佳F1分数: {max(test_f1):.4f},\\n\"\n",
    "    f\"验证集最佳准确率: {max(valid_accuracy):.4f},\\n\"\n",
    "    f\"测试集最佳F1分数: {max(valid_f1):.4f},\\n\")"
   ]
  },
  {
   "cell_type": "code",
   "execution_count": 38,
   "id": "048bde32-db87-4665-9f9e-2b6f255d4396",
   "metadata": {
    "execution": {
     "iopub.execute_input": "2024-08-04T02:21:09.124533Z",
     "iopub.status.busy": "2024-08-04T02:21:09.123503Z",
     "iopub.status.idle": "2024-08-04T02:21:09.442656Z",
     "shell.execute_reply": "2024-08-04T02:21:09.441555Z",
     "shell.execute_reply.started": "2024-08-04T02:21:09.124452Z"
    }
   },
   "outputs": [
    {
     "data": {
      "image/png": "[encoded data removed]",
      "text/plain": [
       "<Figure size 640x480 with 1 Axes>"
      ]
     },
     "metadata": {},
     "output_type": "display_data"
    }
   ],
   "source": [
    "fig = plt.figure()\n",
    "plt.title('test and valid accuracy')\n",
    "epochs = np.arange(1, num_epochs + 1)\n",
    "plt.axis([0, num_epochs, 0, 1])\n",
    "# losses, train_accuracy, test_accuracy, test_f1\n",
    "# plt.plot(epochs, losses, 'r.-', label='loss')\n",
    "# plt.plot(epochs, train_accuracy, 'g-.', label='train_acc')\n",
    "plt.plot(epochs, test_accuracy, 'g-.', label='test_acc')\n",
    "plt.plot(epochs, test_f1, 'b-.', label='test_f1')\n",
    "plt.plot(epochs, valid_accuracy, label='test_acc')\n",
    "plt.plot(epochs, valid_f1, label='test_f1')\n",
    "plt.legend(loc='best', frameon=False)\n",
    "plt.show()"
   ]
  },
  {
   "cell_type": "code",
   "execution_count": 39,
   "id": "7a0c9b98-b6e9-4fdc-84c4-7967fe237962",
   "metadata": {
    "execution": {
     "iopub.execute_input": "2024-08-04T02:21:25.355122Z",
     "iopub.status.busy": "2024-08-04T02:21:25.354740Z",
     "iopub.status.idle": "2024-08-04T02:21:25.510448Z",
     "shell.execute_reply": "2024-08-04T02:21:25.509290Z",
     "shell.execute_reply.started": "2024-08-04T02:21:25.355084Z"
    }
   },
   "outputs": [],
   "source": [
    "result = pd.DataFrame({\"train_acc\": train_accuracy,\n",
    "                       \"train_f1\": train_f1,\n",
    "                      \"test_acc\": test_accuracy,\n",
    "                      \"test_f1\": test_f1,\n",
    "                      \"valid_acc\": valid_accuracy,\n",
    "                      \"valid_f1\": valid_f1,})\n",
    "result.to_excel(file_path + 'output/2layerba.xlsx')"
   ]
  },
  {
   "cell_type": "code",
   "execution_count": 40,
   "id": "368383c7-fff3-45a1-931b-1c8ba78a92c8",
   "metadata": {
    "execution": {
     "iopub.execute_input": "2024-08-04T02:21:40.031380Z",
     "iopub.status.busy": "2024-08-04T02:21:40.030778Z",
     "iopub.status.idle": "2024-08-04T02:21:40.151399Z",
     "shell.execute_reply": "2024-08-04T02:21:40.150173Z",
     "shell.execute_reply.started": "2024-08-04T02:21:40.031344Z"
    }
   },
   "outputs": [],
   "source": [
    "torch.save(net.state_dict(), 'output/2layerba_100epoch_state_dict.pth')"
   ]
  },
  {
   "cell_type": "markdown",
   "id": "e349dc48-7af1-4fe9-879a-bf080e8340c1",
   "metadata": {},
   "source": [
    "# 训练 2 (3 layer baseline)"
   ]
  },
  {
   "cell_type": "code",
   "execution_count": 52,
   "id": "d0f5ff90-e7c2-42ec-8b4a-6ed3a7bbe6a5",
   "metadata": {
    "execution": {
     "iopub.execute_input": "2024-08-04T02:37:05.211663Z",
     "iopub.status.busy": "2024-08-04T02:37:05.210726Z",
     "iopub.status.idle": "2024-08-04T02:37:05.396780Z",
     "shell.execute_reply": "2024-08-04T02:37:05.395503Z",
     "shell.execute_reply.started": "2024-08-04T02:37:05.211626Z"
    }
   },
   "outputs": [
    {
     "name": "stdout",
     "output_type": "stream",
     "text": [
      "[1.0, 26.827242524916944, 49.32373472949389, 25.693181818181817, 37.45030918727915, 23.75, 45.78158747300216, 146.8181818181818, 146.56439066551425]\n"
     ]
    }
   ],
   "source": [
    "# 带权重的损失函数\n",
    "tags_cnt = Counter(t for tags in dataset['train']['tags'] for t in tags)\n",
    "weights = [max(tags_cnt.values()) / tags_cnt[k] for k in sorted(tags_cnt.keys())]\n",
    "print(weights)\n",
    "class_weights = torch.FloatTensor(weights).to(device)\n",
    "criterion = nn.CrossEntropyLoss(reduction='none', weight=class_weights)"
   ]
  },
  {
   "cell_type": "code",
   "execution_count": 53,
   "id": "7471afef-3dcf-4dc4-a571-dba6b4bc60d7",
   "metadata": {
    "execution": {
     "iopub.execute_input": "2024-08-04T02:37:09.528789Z",
     "iopub.status.busy": "2024-08-04T02:37:09.528170Z",
     "iopub.status.idle": "2024-08-04T02:37:09.536801Z",
     "shell.execute_reply": "2024-08-04T02:37:09.535574Z",
     "shell.execute_reply.started": "2024-08-04T02:37:09.528750Z"
    }
   },
   "outputs": [],
   "source": [
    "# trainer = torch.optim.Adam(params=net.parameters(), lr=lr)\n",
    "# 为不同层赋予不同的学习率\n",
    "forward_params = [\n",
    "                param for name, param in net.named_parameters()\n",
    "                if name != \"embedding.weight\"]\n",
    "trainer = torch.optim.Adam(\n",
    "                        [{'params': net.embedding.parameters()},\n",
    "                         {'params': forward_params, 'lr': lr * 10}], lr=lr)"
   ]
  },
  {
   "cell_type": "code",
   "execution_count": 54,
   "id": "4988845a-93d6-4d2d-8cc0-0a42b5dfef55",
   "metadata": {
    "execution": {
     "iopub.execute_input": "2024-08-04T02:37:16.781457Z",
     "iopub.status.busy": "2024-08-04T02:37:16.780407Z",
     "iopub.status.idle": "2024-08-04T02:47:18.590572Z",
     "shell.execute_reply": "2024-08-04T02:47:18.589106Z",
     "shell.execute_reply.started": "2024-08-04T02:37:16.781376Z"
    },
    "scrolled": true
   },
   "outputs": [
    {
     "name": "stderr",
     "output_type": "stream",
     "text": [
      "100%|██████████| 220/220 [00:04<00:00, 49.46it/s]\n"
     ]
    },
    {
     "name": "stdout",
     "output_type": "stream",
     "text": [
      "epoch 1, loss 321.252, train_acc 0.960, train_f1 0.109, test_acc 0.961, test_f1 0.109, valid_acc 0.956, valid_f1 0.109, taking 6 seconds.\n"
     ]
    },
    {
     "name": "stderr",
     "output_type": "stream",
     "text": [
      "100%|██████████| 220/220 [00:04<00:00, 50.96it/s]\n"
     ]
    },
    {
     "name": "stdout",
     "output_type": "stream",
     "text": [
      "epoch 2, loss 307.271, train_acc 0.960, train_f1 0.109, test_acc 0.961, test_f1 0.109, valid_acc 0.956, valid_f1 0.109, taking 6 seconds.\n"
     ]
    },
    {
     "name": "stderr",
     "output_type": "stream",
     "text": [
      "100%|██████████| 220/220 [00:04<00:00, 50.73it/s]\n"
     ]
    },
    {
     "name": "stdout",
     "output_type": "stream",
     "text": [
      "epoch 3, loss 307.270, train_acc 0.960, train_f1 0.109, test_acc 0.961, test_f1 0.109, valid_acc 0.956, valid_f1 0.109, taking 6 seconds.\n"
     ]
    },
    {
     "name": "stderr",
     "output_type": "stream",
     "text": [
      "100%|██████████| 220/220 [00:04<00:00, 50.83it/s]\n"
     ]
    },
    {
     "name": "stdout",
     "output_type": "stream",
     "text": [
      "epoch 4, loss 307.270, train_acc 0.960, train_f1 0.109, test_acc 0.961, test_f1 0.109, valid_acc 0.956, valid_f1 0.109, taking 6 seconds.\n"
     ]
    },
    {
     "name": "stderr",
     "output_type": "stream",
     "text": [
      "100%|██████████| 220/220 [00:04<00:00, 50.74it/s]\n"
     ]
    },
    {
     "name": "stdout",
     "output_type": "stream",
     "text": [
      "epoch 5, loss 307.270, train_acc 0.960, train_f1 0.109, test_acc 0.961, test_f1 0.109, valid_acc 0.956, valid_f1 0.109, taking 6 seconds.\n"
     ]
    },
    {
     "name": "stderr",
     "output_type": "stream",
     "text": [
      "100%|██████████| 220/220 [00:04<00:00, 50.97it/s]\n"
     ]
    },
    {
     "name": "stdout",
     "output_type": "stream",
     "text": [
      "epoch 6, loss 307.270, train_acc 0.960, train_f1 0.109, test_acc 0.961, test_f1 0.109, valid_acc 0.956, valid_f1 0.109, taking 6 seconds.\n"
     ]
    },
    {
     "name": "stderr",
     "output_type": "stream",
     "text": [
      "100%|██████████| 220/220 [00:04<00:00, 50.90it/s]\n"
     ]
    },
    {
     "name": "stdout",
     "output_type": "stream",
     "text": [
      "epoch 7, loss 307.270, train_acc 0.960, train_f1 0.109, test_acc 0.961, test_f1 0.109, valid_acc 0.956, valid_f1 0.109, taking 6 seconds.\n"
     ]
    },
    {
     "name": "stderr",
     "output_type": "stream",
     "text": [
      "100%|██████████| 220/220 [00:04<00:00, 50.95it/s]\n"
     ]
    },
    {
     "name": "stdout",
     "output_type": "stream",
     "text": [
      "epoch 8, loss 307.270, train_acc 0.960, train_f1 0.109, test_acc 0.961, test_f1 0.109, valid_acc 0.956, valid_f1 0.109, taking 6 seconds.\n"
     ]
    },
    {
     "name": "stderr",
     "output_type": "stream",
     "text": [
      "100%|██████████| 220/220 [00:04<00:00, 50.82it/s]\n"
     ]
    },
    {
     "name": "stdout",
     "output_type": "stream",
     "text": [
      "epoch 9, loss 307.270, train_acc 0.960, train_f1 0.109, test_acc 0.961, test_f1 0.109, valid_acc 0.956, valid_f1 0.109, taking 6 seconds.\n"
     ]
    },
    {
     "name": "stderr",
     "output_type": "stream",
     "text": [
      "100%|██████████| 220/220 [00:04<00:00, 50.98it/s]\n"
     ]
    },
    {
     "name": "stdout",
     "output_type": "stream",
     "text": [
      "epoch 10, loss 307.270, train_acc 0.960, train_f1 0.109, test_acc 0.961, test_f1 0.109, valid_acc 0.956, valid_f1 0.109, taking 6 seconds.\n"
     ]
    },
    {
     "name": "stderr",
     "output_type": "stream",
     "text": [
      "100%|██████████| 220/220 [00:04<00:00, 51.06it/s]\n"
     ]
    },
    {
     "name": "stdout",
     "output_type": "stream",
     "text": [
      "epoch 11, loss 307.270, train_acc 0.960, train_f1 0.109, test_acc 0.961, test_f1 0.109, valid_acc 0.956, valid_f1 0.109, taking 6 seconds.\n"
     ]
    },
    {
     "name": "stderr",
     "output_type": "stream",
     "text": [
      "100%|██████████| 220/220 [00:04<00:00, 51.23it/s]\n"
     ]
    },
    {
     "name": "stdout",
     "output_type": "stream",
     "text": [
      "epoch 12, loss 307.270, train_acc 0.960, train_f1 0.109, test_acc 0.961, test_f1 0.109, valid_acc 0.956, valid_f1 0.109, taking 6 seconds.\n"
     ]
    },
    {
     "name": "stderr",
     "output_type": "stream",
     "text": [
      "100%|██████████| 220/220 [00:04<00:00, 51.07it/s]\n"
     ]
    },
    {
     "name": "stdout",
     "output_type": "stream",
     "text": [
      "epoch 13, loss 307.270, train_acc 0.960, train_f1 0.109, test_acc 0.961, test_f1 0.109, valid_acc 0.956, valid_f1 0.109, taking 6 seconds.\n"
     ]
    },
    {
     "name": "stderr",
     "output_type": "stream",
     "text": [
      "100%|██████████| 220/220 [00:04<00:00, 51.22it/s]\n"
     ]
    },
    {
     "name": "stdout",
     "output_type": "stream",
     "text": [
      "epoch 14, loss 307.270, train_acc 0.960, train_f1 0.109, test_acc 0.961, test_f1 0.109, valid_acc 0.956, valid_f1 0.109, taking 6 seconds.\n"
     ]
    },
    {
     "name": "stderr",
     "output_type": "stream",
     "text": [
      "100%|██████████| 220/220 [00:04<00:00, 50.66it/s]\n"
     ]
    },
    {
     "name": "stdout",
     "output_type": "stream",
     "text": [
      "epoch 15, loss 307.270, train_acc 0.960, train_f1 0.109, test_acc 0.961, test_f1 0.109, valid_acc 0.956, valid_f1 0.109, taking 6 seconds.\n"
     ]
    },
    {
     "name": "stderr",
     "output_type": "stream",
     "text": [
      "100%|██████████| 220/220 [00:04<00:00, 50.61it/s]\n"
     ]
    },
    {
     "name": "stdout",
     "output_type": "stream",
     "text": [
      "epoch 16, loss 307.270, train_acc 0.960, train_f1 0.109, test_acc 0.961, test_f1 0.109, valid_acc 0.956, valid_f1 0.109, taking 6 seconds.\n"
     ]
    },
    {
     "name": "stderr",
     "output_type": "stream",
     "text": [
      "100%|██████████| 220/220 [00:04<00:00, 50.63it/s]\n"
     ]
    },
    {
     "name": "stdout",
     "output_type": "stream",
     "text": [
      "epoch 17, loss 307.270, train_acc 0.960, train_f1 0.109, test_acc 0.961, test_f1 0.109, valid_acc 0.956, valid_f1 0.109, taking 6 seconds.\n"
     ]
    },
    {
     "name": "stderr",
     "output_type": "stream",
     "text": [
      "100%|██████████| 220/220 [00:04<00:00, 51.02it/s]\n"
     ]
    },
    {
     "name": "stdout",
     "output_type": "stream",
     "text": [
      "epoch 18, loss 307.270, train_acc 0.960, train_f1 0.109, test_acc 0.961, test_f1 0.109, valid_acc 0.956, valid_f1 0.109, taking 6 seconds.\n"
     ]
    },
    {
     "name": "stderr",
     "output_type": "stream",
     "text": [
      "100%|██████████| 220/220 [00:04<00:00, 51.54it/s]\n"
     ]
    },
    {
     "name": "stdout",
     "output_type": "stream",
     "text": [
      "epoch 19, loss 307.270, train_acc 0.960, train_f1 0.109, test_acc 0.961, test_f1 0.109, valid_acc 0.956, valid_f1 0.109, taking 6 seconds.\n"
     ]
    },
    {
     "name": "stderr",
     "output_type": "stream",
     "text": [
      "100%|██████████| 220/220 [00:04<00:00, 50.93it/s]\n"
     ]
    },
    {
     "name": "stdout",
     "output_type": "stream",
     "text": [
      "epoch 20, loss 307.270, train_acc 0.960, train_f1 0.109, test_acc 0.961, test_f1 0.109, valid_acc 0.956, valid_f1 0.109, taking 6 seconds.\n"
     ]
    },
    {
     "name": "stderr",
     "output_type": "stream",
     "text": [
      "100%|██████████| 220/220 [00:04<00:00, 51.26it/s]\n"
     ]
    },
    {
     "name": "stdout",
     "output_type": "stream",
     "text": [
      "epoch 21, loss 307.270, train_acc 0.960, train_f1 0.109, test_acc 0.961, test_f1 0.109, valid_acc 0.956, valid_f1 0.109, taking 6 seconds.\n"
     ]
    },
    {
     "name": "stderr",
     "output_type": "stream",
     "text": [
      "100%|██████████| 220/220 [00:04<00:00, 54.00it/s]\n"
     ]
    },
    {
     "name": "stdout",
     "output_type": "stream",
     "text": [
      "epoch 22, loss 307.270, train_acc 0.960, train_f1 0.109, test_acc 0.961, test_f1 0.109, valid_acc 0.956, valid_f1 0.109, taking 6 seconds.\n"
     ]
    },
    {
     "name": "stderr",
     "output_type": "stream",
     "text": [
      "100%|██████████| 220/220 [00:04<00:00, 53.14it/s]\n"
     ]
    },
    {
     "name": "stdout",
     "output_type": "stream",
     "text": [
      "epoch 23, loss 307.270, train_acc 0.960, train_f1 0.109, test_acc 0.961, test_f1 0.109, valid_acc 0.956, valid_f1 0.109, taking 6 seconds.\n"
     ]
    },
    {
     "name": "stderr",
     "output_type": "stream",
     "text": [
      "100%|██████████| 220/220 [00:04<00:00, 52.13it/s]\n"
     ]
    },
    {
     "name": "stdout",
     "output_type": "stream",
     "text": [
      "epoch 24, loss 307.270, train_acc 0.960, train_f1 0.109, test_acc 0.961, test_f1 0.109, valid_acc 0.956, valid_f1 0.109, taking 6 seconds.\n"
     ]
    },
    {
     "name": "stderr",
     "output_type": "stream",
     "text": [
      "100%|██████████| 220/220 [00:04<00:00, 51.89it/s]\n"
     ]
    },
    {
     "name": "stdout",
     "output_type": "stream",
     "text": [
      "epoch 25, loss 307.270, train_acc 0.960, train_f1 0.109, test_acc 0.961, test_f1 0.109, valid_acc 0.956, valid_f1 0.109, taking 6 seconds.\n"
     ]
    },
    {
     "name": "stderr",
     "output_type": "stream",
     "text": [
      "100%|██████████| 220/220 [00:04<00:00, 52.50it/s]\n"
     ]
    },
    {
     "name": "stdout",
     "output_type": "stream",
     "text": [
      "epoch 26, loss 307.270, train_acc 0.960, train_f1 0.109, test_acc 0.961, test_f1 0.109, valid_acc 0.956, valid_f1 0.109, taking 6 seconds.\n"
     ]
    },
    {
     "name": "stderr",
     "output_type": "stream",
     "text": [
      "100%|██████████| 220/220 [00:04<00:00, 51.62it/s]\n"
     ]
    },
    {
     "name": "stdout",
     "output_type": "stream",
     "text": [
      "epoch 27, loss 307.270, train_acc 0.960, train_f1 0.109, test_acc 0.961, test_f1 0.109, valid_acc 0.956, valid_f1 0.109, taking 6 seconds.\n"
     ]
    },
    {
     "name": "stderr",
     "output_type": "stream",
     "text": [
      "100%|██████████| 220/220 [00:04<00:00, 51.32it/s]\n"
     ]
    },
    {
     "name": "stdout",
     "output_type": "stream",
     "text": [
      "epoch 28, loss 307.270, train_acc 0.960, train_f1 0.109, test_acc 0.961, test_f1 0.109, valid_acc 0.956, valid_f1 0.109, taking 6 seconds.\n"
     ]
    },
    {
     "name": "stderr",
     "output_type": "stream",
     "text": [
      "100%|██████████| 220/220 [00:04<00:00, 51.26it/s]\n"
     ]
    },
    {
     "name": "stdout",
     "output_type": "stream",
     "text": [
      "epoch 29, loss 307.270, train_acc 0.960, train_f1 0.109, test_acc 0.961, test_f1 0.109, valid_acc 0.956, valid_f1 0.109, taking 6 seconds.\n"
     ]
    },
    {
     "name": "stderr",
     "output_type": "stream",
     "text": [
      "100%|██████████| 220/220 [00:04<00:00, 50.82it/s]\n"
     ]
    },
    {
     "name": "stdout",
     "output_type": "stream",
     "text": [
      "epoch 30, loss 307.270, train_acc 0.960, train_f1 0.109, test_acc 0.961, test_f1 0.109, valid_acc 0.956, valid_f1 0.109, taking 6 seconds.\n"
     ]
    },
    {
     "name": "stderr",
     "output_type": "stream",
     "text": [
      "100%|██████████| 220/220 [00:04<00:00, 49.19it/s]\n"
     ]
    },
    {
     "name": "stdout",
     "output_type": "stream",
     "text": [
      "epoch 31, loss 307.270, train_acc 0.960, train_f1 0.109, test_acc 0.961, test_f1 0.109, valid_acc 0.956, valid_f1 0.109, taking 6 seconds.\n"
     ]
    },
    {
     "name": "stderr",
     "output_type": "stream",
     "text": [
      "100%|██████████| 220/220 [00:04<00:00, 51.51it/s]\n"
     ]
    },
    {
     "name": "stdout",
     "output_type": "stream",
     "text": [
      "epoch 32, loss 307.637, train_acc 0.960, train_f1 0.109, test_acc 0.961, test_f1 0.109, valid_acc 0.956, valid_f1 0.109, taking 6 seconds.\n"
     ]
    },
    {
     "name": "stderr",
     "output_type": "stream",
     "text": [
      "100%|██████████| 220/220 [00:04<00:00, 50.86it/s]\n"
     ]
    },
    {
     "name": "stdout",
     "output_type": "stream",
     "text": [
      "epoch 33, loss 307.270, train_acc 0.960, train_f1 0.109, test_acc 0.961, test_f1 0.109, valid_acc 0.956, valid_f1 0.109, taking 6 seconds.\n"
     ]
    },
    {
     "name": "stderr",
     "output_type": "stream",
     "text": [
      "100%|██████████| 220/220 [00:04<00:00, 51.23it/s]\n"
     ]
    },
    {
     "name": "stdout",
     "output_type": "stream",
     "text": [
      "epoch 34, loss 307.271, train_acc 0.960, train_f1 0.109, test_acc 0.961, test_f1 0.109, valid_acc 0.956, valid_f1 0.109, taking 6 seconds.\n"
     ]
    },
    {
     "name": "stderr",
     "output_type": "stream",
     "text": [
      "100%|██████████| 220/220 [00:04<00:00, 51.33it/s]\n"
     ]
    },
    {
     "name": "stdout",
     "output_type": "stream",
     "text": [
      "epoch 35, loss 307.271, train_acc 0.960, train_f1 0.109, test_acc 0.961, test_f1 0.109, valid_acc 0.956, valid_f1 0.109, taking 6 seconds.\n"
     ]
    },
    {
     "name": "stderr",
     "output_type": "stream",
     "text": [
      "100%|██████████| 220/220 [00:04<00:00, 50.96it/s]\n"
     ]
    },
    {
     "name": "stdout",
     "output_type": "stream",
     "text": [
      "epoch 36, loss 307.271, train_acc 0.960, train_f1 0.109, test_acc 0.961, test_f1 0.109, valid_acc 0.956, valid_f1 0.109, taking 6 seconds.\n"
     ]
    },
    {
     "name": "stderr",
     "output_type": "stream",
     "text": [
      "100%|██████████| 220/220 [00:04<00:00, 51.10it/s]\n"
     ]
    },
    {
     "name": "stdout",
     "output_type": "stream",
     "text": [
      "epoch 37, loss 307.271, train_acc 0.960, train_f1 0.109, test_acc 0.961, test_f1 0.109, valid_acc 0.956, valid_f1 0.109, taking 6 seconds.\n"
     ]
    },
    {
     "name": "stderr",
     "output_type": "stream",
     "text": [
      "100%|██████████| 220/220 [00:04<00:00, 51.28it/s]\n"
     ]
    },
    {
     "name": "stdout",
     "output_type": "stream",
     "text": [
      "epoch 38, loss 307.271, train_acc 0.960, train_f1 0.109, test_acc 0.961, test_f1 0.109, valid_acc 0.956, valid_f1 0.109, taking 6 seconds.\n"
     ]
    },
    {
     "name": "stderr",
     "output_type": "stream",
     "text": [
      "100%|██████████| 220/220 [00:04<00:00, 51.14it/s]\n"
     ]
    },
    {
     "name": "stdout",
     "output_type": "stream",
     "text": [
      "epoch 39, loss 307.271, train_acc 0.960, train_f1 0.109, test_acc 0.961, test_f1 0.109, valid_acc 0.956, valid_f1 0.109, taking 6 seconds.\n"
     ]
    },
    {
     "name": "stderr",
     "output_type": "stream",
     "text": [
      "100%|██████████| 220/220 [00:04<00:00, 51.02it/s]\n"
     ]
    },
    {
     "name": "stdout",
     "output_type": "stream",
     "text": [
      "epoch 40, loss 307.271, train_acc 0.960, train_f1 0.109, test_acc 0.961, test_f1 0.109, valid_acc 0.956, valid_f1 0.109, taking 6 seconds.\n"
     ]
    },
    {
     "name": "stderr",
     "output_type": "stream",
     "text": [
      "100%|██████████| 220/220 [00:04<00:00, 51.42it/s]\n"
     ]
    },
    {
     "name": "stdout",
     "output_type": "stream",
     "text": [
      "epoch 41, loss 307.271, train_acc 0.960, train_f1 0.109, test_acc 0.961, test_f1 0.109, valid_acc 0.956, valid_f1 0.109, taking 6 seconds.\n"
     ]
    },
    {
     "name": "stderr",
     "output_type": "stream",
     "text": [
      "100%|██████████| 220/220 [00:04<00:00, 50.78it/s]\n"
     ]
    },
    {
     "name": "stdout",
     "output_type": "stream",
     "text": [
      "epoch 42, loss 307.271, train_acc 0.960, train_f1 0.109, test_acc 0.961, test_f1 0.109, valid_acc 0.956, valid_f1 0.109, taking 6 seconds.\n"
     ]
    },
    {
     "name": "stderr",
     "output_type": "stream",
     "text": [
      "100%|██████████| 220/220 [00:04<00:00, 50.89it/s]\n"
     ]
    },
    {
     "name": "stdout",
     "output_type": "stream",
     "text": [
      "epoch 43, loss 307.271, train_acc 0.960, train_f1 0.109, test_acc 0.961, test_f1 0.109, valid_acc 0.956, valid_f1 0.109, taking 6 seconds.\n"
     ]
    },
    {
     "name": "stderr",
     "output_type": "stream",
     "text": [
      "100%|██████████| 220/220 [00:04<00:00, 51.80it/s]\n"
     ]
    },
    {
     "name": "stdout",
     "output_type": "stream",
     "text": [
      "epoch 44, loss 307.271, train_acc 0.960, train_f1 0.109, test_acc 0.961, test_f1 0.109, valid_acc 0.956, valid_f1 0.109, taking 6 seconds.\n"
     ]
    },
    {
     "name": "stderr",
     "output_type": "stream",
     "text": [
      "100%|██████████| 220/220 [00:04<00:00, 50.97it/s]\n"
     ]
    },
    {
     "name": "stdout",
     "output_type": "stream",
     "text": [
      "epoch 45, loss 307.271, train_acc 0.960, train_f1 0.109, test_acc 0.961, test_f1 0.109, valid_acc 0.956, valid_f1 0.109, taking 6 seconds.\n"
     ]
    },
    {
     "name": "stderr",
     "output_type": "stream",
     "text": [
      "100%|██████████| 220/220 [00:04<00:00, 50.95it/s]\n"
     ]
    },
    {
     "name": "stdout",
     "output_type": "stream",
     "text": [
      "epoch 46, loss 307.271, train_acc 0.960, train_f1 0.109, test_acc 0.961, test_f1 0.109, valid_acc 0.956, valid_f1 0.109, taking 6 seconds.\n"
     ]
    },
    {
     "name": "stderr",
     "output_type": "stream",
     "text": [
      "100%|██████████| 220/220 [00:04<00:00, 50.90it/s]\n"
     ]
    },
    {
     "name": "stdout",
     "output_type": "stream",
     "text": [
      "epoch 47, loss 307.271, train_acc 0.960, train_f1 0.109, test_acc 0.961, test_f1 0.109, valid_acc 0.956, valid_f1 0.109, taking 6 seconds.\n"
     ]
    },
    {
     "name": "stderr",
     "output_type": "stream",
     "text": [
      "100%|██████████| 220/220 [00:04<00:00, 50.96it/s]\n"
     ]
    },
    {
     "name": "stdout",
     "output_type": "stream",
     "text": [
      "epoch 48, loss 307.271, train_acc 0.960, train_f1 0.109, test_acc 0.961, test_f1 0.109, valid_acc 0.956, valid_f1 0.109, taking 6 seconds.\n"
     ]
    },
    {
     "name": "stderr",
     "output_type": "stream",
     "text": [
      "100%|██████████| 220/220 [00:04<00:00, 51.16it/s]\n"
     ]
    },
    {
     "name": "stdout",
     "output_type": "stream",
     "text": [
      "epoch 49, loss 307.271, train_acc 0.960, train_f1 0.109, test_acc 0.961, test_f1 0.109, valid_acc 0.956, valid_f1 0.109, taking 6 seconds.\n"
     ]
    },
    {
     "name": "stderr",
     "output_type": "stream",
     "text": [
      "100%|██████████| 220/220 [00:04<00:00, 51.06it/s]\n"
     ]
    },
    {
     "name": "stdout",
     "output_type": "stream",
     "text": [
      "epoch 50, loss 307.271, train_acc 0.960, train_f1 0.109, test_acc 0.961, test_f1 0.109, valid_acc 0.956, valid_f1 0.109, taking 6 seconds.\n"
     ]
    },
    {
     "name": "stderr",
     "output_type": "stream",
     "text": [
      "100%|██████████| 220/220 [00:04<00:00, 51.12it/s]\n"
     ]
    },
    {
     "name": "stdout",
     "output_type": "stream",
     "text": [
      "epoch 51, loss 307.271, train_acc 0.960, train_f1 0.109, test_acc 0.961, test_f1 0.109, valid_acc 0.956, valid_f1 0.109, taking 6 seconds.\n"
     ]
    },
    {
     "name": "stderr",
     "output_type": "stream",
     "text": [
      "100%|██████████| 220/220 [00:04<00:00, 51.26it/s]\n"
     ]
    },
    {
     "name": "stdout",
     "output_type": "stream",
     "text": [
      "epoch 52, loss 307.271, train_acc 0.960, train_f1 0.109, test_acc 0.961, test_f1 0.109, valid_acc 0.956, valid_f1 0.109, taking 6 seconds.\n"
     ]
    },
    {
     "name": "stderr",
     "output_type": "stream",
     "text": [
      "100%|██████████| 220/220 [00:04<00:00, 51.71it/s]\n"
     ]
    },
    {
     "name": "stdout",
     "output_type": "stream",
     "text": [
      "epoch 53, loss 307.271, train_acc 0.960, train_f1 0.109, test_acc 0.961, test_f1 0.109, valid_acc 0.956, valid_f1 0.109, taking 6 seconds.\n"
     ]
    },
    {
     "name": "stderr",
     "output_type": "stream",
     "text": [
      "100%|██████████| 220/220 [00:04<00:00, 52.04it/s]\n"
     ]
    },
    {
     "name": "stdout",
     "output_type": "stream",
     "text": [
      "epoch 54, loss 307.271, train_acc 0.960, train_f1 0.109, test_acc 0.961, test_f1 0.109, valid_acc 0.956, valid_f1 0.109, taking 6 seconds.\n"
     ]
    },
    {
     "name": "stderr",
     "output_type": "stream",
     "text": [
      "100%|██████████| 220/220 [00:04<00:00, 51.78it/s]\n"
     ]
    },
    {
     "name": "stdout",
     "output_type": "stream",
     "text": [
      "epoch 55, loss 307.271, train_acc 0.960, train_f1 0.109, test_acc 0.961, test_f1 0.109, valid_acc 0.956, valid_f1 0.109, taking 6 seconds.\n"
     ]
    },
    {
     "name": "stderr",
     "output_type": "stream",
     "text": [
      "100%|██████████| 220/220 [00:04<00:00, 51.01it/s]\n"
     ]
    },
    {
     "name": "stdout",
     "output_type": "stream",
     "text": [
      "epoch 56, loss 307.271, train_acc 0.960, train_f1 0.109, test_acc 0.961, test_f1 0.109, valid_acc 0.956, valid_f1 0.109, taking 6 seconds.\n"
     ]
    },
    {
     "name": "stderr",
     "output_type": "stream",
     "text": [
      "100%|██████████| 220/220 [00:04<00:00, 51.18it/s]\n"
     ]
    },
    {
     "name": "stdout",
     "output_type": "stream",
     "text": [
      "epoch 57, loss 307.271, train_acc 0.960, train_f1 0.109, test_acc 0.961, test_f1 0.109, valid_acc 0.956, valid_f1 0.109, taking 6 seconds.\n"
     ]
    },
    {
     "name": "stderr",
     "output_type": "stream",
     "text": [
      "100%|██████████| 220/220 [00:04<00:00, 51.22it/s]\n"
     ]
    },
    {
     "name": "stdout",
     "output_type": "stream",
     "text": [
      "epoch 58, loss 307.271, train_acc 0.960, train_f1 0.109, test_acc 0.961, test_f1 0.109, valid_acc 0.956, valid_f1 0.109, taking 6 seconds.\n"
     ]
    },
    {
     "name": "stderr",
     "output_type": "stream",
     "text": [
      "100%|██████████| 220/220 [00:04<00:00, 50.90it/s]\n"
     ]
    },
    {
     "name": "stdout",
     "output_type": "stream",
     "text": [
      "epoch 59, loss 307.271, train_acc 0.960, train_f1 0.109, test_acc 0.961, test_f1 0.109, valid_acc 0.956, valid_f1 0.109, taking 6 seconds.\n"
     ]
    },
    {
     "name": "stderr",
     "output_type": "stream",
     "text": [
      "100%|██████████| 220/220 [00:04<00:00, 51.14it/s]\n"
     ]
    },
    {
     "name": "stdout",
     "output_type": "stream",
     "text": [
      "epoch 60, loss 307.271, train_acc 0.960, train_f1 0.109, test_acc 0.961, test_f1 0.109, valid_acc 0.956, valid_f1 0.109, taking 6 seconds.\n"
     ]
    },
    {
     "name": "stderr",
     "output_type": "stream",
     "text": [
      "100%|██████████| 220/220 [00:04<00:00, 51.21it/s]\n"
     ]
    },
    {
     "name": "stdout",
     "output_type": "stream",
     "text": [
      "epoch 61, loss 307.271, train_acc 0.960, train_f1 0.109, test_acc 0.961, test_f1 0.109, valid_acc 0.956, valid_f1 0.109, taking 6 seconds.\n"
     ]
    },
    {
     "name": "stderr",
     "output_type": "stream",
     "text": [
      "100%|██████████| 220/220 [00:04<00:00, 51.25it/s]\n"
     ]
    },
    {
     "name": "stdout",
     "output_type": "stream",
     "text": [
      "epoch 62, loss 307.271, train_acc 0.960, train_f1 0.109, test_acc 0.961, test_f1 0.109, valid_acc 0.956, valid_f1 0.109, taking 6 seconds.\n"
     ]
    },
    {
     "name": "stderr",
     "output_type": "stream",
     "text": [
      "100%|██████████| 220/220 [00:04<00:00, 51.09it/s]\n"
     ]
    },
    {
     "name": "stdout",
     "output_type": "stream",
     "text": [
      "epoch 63, loss 307.271, train_acc 0.960, train_f1 0.109, test_acc 0.961, test_f1 0.109, valid_acc 0.956, valid_f1 0.109, taking 6 seconds.\n"
     ]
    },
    {
     "name": "stderr",
     "output_type": "stream",
     "text": [
      "100%|██████████| 220/220 [00:04<00:00, 51.92it/s]\n"
     ]
    },
    {
     "name": "stdout",
     "output_type": "stream",
     "text": [
      "epoch 64, loss 307.271, train_acc 0.960, train_f1 0.109, test_acc 0.961, test_f1 0.109, valid_acc 0.956, valid_f1 0.109, taking 6 seconds.\n"
     ]
    },
    {
     "name": "stderr",
     "output_type": "stream",
     "text": [
      "100%|██████████| 220/220 [00:04<00:00, 51.46it/s]\n"
     ]
    },
    {
     "name": "stdout",
     "output_type": "stream",
     "text": [
      "epoch 65, loss 307.271, train_acc 0.960, train_f1 0.109, test_acc 0.961, test_f1 0.109, valid_acc 0.956, valid_f1 0.109, taking 6 seconds.\n"
     ]
    },
    {
     "name": "stderr",
     "output_type": "stream",
     "text": [
      "100%|██████████| 220/220 [00:04<00:00, 51.31it/s]\n"
     ]
    },
    {
     "name": "stdout",
     "output_type": "stream",
     "text": [
      "epoch 66, loss 307.271, train_acc 0.960, train_f1 0.109, test_acc 0.961, test_f1 0.109, valid_acc 0.956, valid_f1 0.109, taking 6 seconds.\n"
     ]
    },
    {
     "name": "stderr",
     "output_type": "stream",
     "text": [
      "100%|██████████| 220/220 [00:04<00:00, 51.11it/s]\n"
     ]
    },
    {
     "name": "stdout",
     "output_type": "stream",
     "text": [
      "epoch 67, loss 307.271, train_acc 0.960, train_f1 0.109, test_acc 0.961, test_f1 0.109, valid_acc 0.956, valid_f1 0.109, taking 6 seconds.\n"
     ]
    },
    {
     "name": "stderr",
     "output_type": "stream",
     "text": [
      "100%|██████████| 220/220 [00:04<00:00, 51.22it/s]\n"
     ]
    },
    {
     "name": "stdout",
     "output_type": "stream",
     "text": [
      "epoch 68, loss 307.271, train_acc 0.960, train_f1 0.109, test_acc 0.961, test_f1 0.109, valid_acc 0.956, valid_f1 0.109, taking 6 seconds.\n"
     ]
    },
    {
     "name": "stderr",
     "output_type": "stream",
     "text": [
      "100%|██████████| 220/220 [00:04<00:00, 51.29it/s]\n"
     ]
    },
    {
     "name": "stdout",
     "output_type": "stream",
     "text": [
      "epoch 69, loss 307.271, train_acc 0.960, train_f1 0.109, test_acc 0.961, test_f1 0.109, valid_acc 0.956, valid_f1 0.109, taking 6 seconds.\n"
     ]
    },
    {
     "name": "stderr",
     "output_type": "stream",
     "text": [
      "100%|██████████| 220/220 [00:04<00:00, 50.54it/s]\n"
     ]
    },
    {
     "name": "stdout",
     "output_type": "stream",
     "text": [
      "epoch 70, loss 307.271, train_acc 0.960, train_f1 0.109, test_acc 0.961, test_f1 0.109, valid_acc 0.956, valid_f1 0.109, taking 6 seconds.\n"
     ]
    },
    {
     "name": "stderr",
     "output_type": "stream",
     "text": [
      "100%|██████████| 220/220 [00:04<00:00, 48.76it/s]\n"
     ]
    },
    {
     "name": "stdout",
     "output_type": "stream",
     "text": [
      "epoch 71, loss 307.271, train_acc 0.960, train_f1 0.109, test_acc 0.961, test_f1 0.109, valid_acc 0.956, valid_f1 0.109, taking 6 seconds.\n"
     ]
    },
    {
     "name": "stderr",
     "output_type": "stream",
     "text": [
      "100%|██████████| 220/220 [00:04<00:00, 50.05it/s]\n"
     ]
    },
    {
     "name": "stdout",
     "output_type": "stream",
     "text": [
      "epoch 72, loss 307.271, train_acc 0.960, train_f1 0.109, test_acc 0.961, test_f1 0.109, valid_acc 0.956, valid_f1 0.109, taking 6 seconds.\n"
     ]
    },
    {
     "name": "stderr",
     "output_type": "stream",
     "text": [
      "100%|██████████| 220/220 [00:04<00:00, 50.10it/s]\n"
     ]
    },
    {
     "name": "stdout",
     "output_type": "stream",
     "text": [
      "epoch 73, loss 307.271, train_acc 0.960, train_f1 0.109, test_acc 0.961, test_f1 0.109, valid_acc 0.956, valid_f1 0.109, taking 6 seconds.\n"
     ]
    },
    {
     "name": "stderr",
     "output_type": "stream",
     "text": [
      "100%|██████████| 220/220 [00:04<00:00, 51.25it/s]\n"
     ]
    },
    {
     "name": "stdout",
     "output_type": "stream",
     "text": [
      "epoch 74, loss 307.271, train_acc 0.960, train_f1 0.109, test_acc 0.961, test_f1 0.109, valid_acc 0.956, valid_f1 0.109, taking 6 seconds.\n"
     ]
    },
    {
     "name": "stderr",
     "output_type": "stream",
     "text": [
      "100%|██████████| 220/220 [00:04<00:00, 51.12it/s]\n"
     ]
    },
    {
     "name": "stdout",
     "output_type": "stream",
     "text": [
      "epoch 75, loss 307.271, train_acc 0.960, train_f1 0.109, test_acc 0.961, test_f1 0.109, valid_acc 0.956, valid_f1 0.109, taking 6 seconds.\n"
     ]
    },
    {
     "name": "stderr",
     "output_type": "stream",
     "text": [
      "100%|██████████| 220/220 [00:04<00:00, 50.76it/s]\n"
     ]
    },
    {
     "name": "stdout",
     "output_type": "stream",
     "text": [
      "epoch 76, loss 307.271, train_acc 0.960, train_f1 0.109, test_acc 0.961, test_f1 0.109, valid_acc 0.956, valid_f1 0.109, taking 6 seconds.\n"
     ]
    },
    {
     "name": "stderr",
     "output_type": "stream",
     "text": [
      "100%|██████████| 220/220 [00:04<00:00, 50.61it/s]\n"
     ]
    },
    {
     "name": "stdout",
     "output_type": "stream",
     "text": [
      "epoch 77, loss 307.271, train_acc 0.960, train_f1 0.109, test_acc 0.961, test_f1 0.109, valid_acc 0.956, valid_f1 0.109, taking 6 seconds.\n"
     ]
    },
    {
     "name": "stderr",
     "output_type": "stream",
     "text": [
      "100%|██████████| 220/220 [00:04<00:00, 51.53it/s]\n"
     ]
    },
    {
     "name": "stdout",
     "output_type": "stream",
     "text": [
      "epoch 78, loss 307.271, train_acc 0.960, train_f1 0.109, test_acc 0.961, test_f1 0.109, valid_acc 0.956, valid_f1 0.109, taking 6 seconds.\n"
     ]
    },
    {
     "name": "stderr",
     "output_type": "stream",
     "text": [
      "100%|██████████| 220/220 [00:04<00:00, 51.32it/s]\n"
     ]
    },
    {
     "name": "stdout",
     "output_type": "stream",
     "text": [
      "epoch 79, loss 307.271, train_acc 0.960, train_f1 0.109, test_acc 0.961, test_f1 0.109, valid_acc 0.956, valid_f1 0.109, taking 6 seconds.\n"
     ]
    },
    {
     "name": "stderr",
     "output_type": "stream",
     "text": [
      "100%|██████████| 220/220 [00:04<00:00, 50.99it/s]\n"
     ]
    },
    {
     "name": "stdout",
     "output_type": "stream",
     "text": [
      "epoch 80, loss 307.271, train_acc 0.960, train_f1 0.109, test_acc 0.961, test_f1 0.109, valid_acc 0.956, valid_f1 0.109, taking 6 seconds.\n"
     ]
    },
    {
     "name": "stderr",
     "output_type": "stream",
     "text": [
      "100%|██████████| 220/220 [00:04<00:00, 50.98it/s]\n"
     ]
    },
    {
     "name": "stdout",
     "output_type": "stream",
     "text": [
      "epoch 81, loss 307.271, train_acc 0.960, train_f1 0.109, test_acc 0.961, test_f1 0.109, valid_acc 0.956, valid_f1 0.109, taking 6 seconds.\n"
     ]
    },
    {
     "name": "stderr",
     "output_type": "stream",
     "text": [
      "100%|██████████| 220/220 [00:04<00:00, 50.84it/s]\n"
     ]
    },
    {
     "name": "stdout",
     "output_type": "stream",
     "text": [
      "epoch 82, loss 307.271, train_acc 0.960, train_f1 0.109, test_acc 0.961, test_f1 0.109, valid_acc 0.956, valid_f1 0.109, taking 6 seconds.\n"
     ]
    },
    {
     "name": "stderr",
     "output_type": "stream",
     "text": [
      "100%|██████████| 220/220 [00:04<00:00, 50.80it/s]\n"
     ]
    },
    {
     "name": "stdout",
     "output_type": "stream",
     "text": [
      "epoch 83, loss 307.271, train_acc 0.960, train_f1 0.109, test_acc 0.961, test_f1 0.109, valid_acc 0.956, valid_f1 0.109, taking 6 seconds.\n"
     ]
    },
    {
     "name": "stderr",
     "output_type": "stream",
     "text": [
      "100%|██████████| 220/220 [00:04<00:00, 51.01it/s]\n"
     ]
    },
    {
     "name": "stdout",
     "output_type": "stream",
     "text": [
      "epoch 84, loss 307.271, train_acc 0.960, train_f1 0.109, test_acc 0.961, test_f1 0.109, valid_acc 0.956, valid_f1 0.109, taking 6 seconds.\n"
     ]
    },
    {
     "name": "stderr",
     "output_type": "stream",
     "text": [
      "100%|██████████| 220/220 [00:04<00:00, 50.73it/s]\n"
     ]
    },
    {
     "name": "stdout",
     "output_type": "stream",
     "text": [
      "epoch 85, loss 307.271, train_acc 0.960, train_f1 0.109, test_acc 0.961, test_f1 0.109, valid_acc 0.956, valid_f1 0.109, taking 6 seconds.\n"
     ]
    },
    {
     "name": "stderr",
     "output_type": "stream",
     "text": [
      "100%|██████████| 220/220 [00:04<00:00, 50.66it/s]\n"
     ]
    },
    {
     "name": "stdout",
     "output_type": "stream",
     "text": [
      "epoch 86, loss 307.271, train_acc 0.960, train_f1 0.109, test_acc 0.961, test_f1 0.109, valid_acc 0.956, valid_f1 0.109, taking 6 seconds.\n"
     ]
    },
    {
     "name": "stderr",
     "output_type": "stream",
     "text": [
      "100%|██████████| 220/220 [00:04<00:00, 51.00it/s]\n"
     ]
    },
    {
     "name": "stdout",
     "output_type": "stream",
     "text": [
      "epoch 87, loss 307.271, train_acc 0.960, train_f1 0.109, test_acc 0.961, test_f1 0.109, valid_acc 0.956, valid_f1 0.109, taking 6 seconds.\n"
     ]
    },
    {
     "name": "stderr",
     "output_type": "stream",
     "text": [
      "100%|██████████| 220/220 [00:04<00:00, 50.81it/s]\n"
     ]
    },
    {
     "name": "stdout",
     "output_type": "stream",
     "text": [
      "epoch 88, loss 307.271, train_acc 0.960, train_f1 0.109, test_acc 0.961, test_f1 0.109, valid_acc 0.956, valid_f1 0.109, taking 6 seconds.\n"
     ]
    },
    {
     "name": "stderr",
     "output_type": "stream",
     "text": [
      "100%|██████████| 220/220 [00:04<00:00, 50.79it/s]\n"
     ]
    },
    {
     "name": "stdout",
     "output_type": "stream",
     "text": [
      "epoch 89, loss 307.271, train_acc 0.960, train_f1 0.109, test_acc 0.961, test_f1 0.109, valid_acc 0.956, valid_f1 0.109, taking 6 seconds.\n"
     ]
    },
    {
     "name": "stderr",
     "output_type": "stream",
     "text": [
      "100%|██████████| 220/220 [00:04<00:00, 50.76it/s]\n"
     ]
    },
    {
     "name": "stdout",
     "output_type": "stream",
     "text": [
      "epoch 90, loss 307.271, train_acc 0.960, train_f1 0.109, test_acc 0.961, test_f1 0.109, valid_acc 0.956, valid_f1 0.109, taking 6 seconds.\n"
     ]
    },
    {
     "name": "stderr",
     "output_type": "stream",
     "text": [
      "100%|██████████| 220/220 [00:04<00:00, 51.21it/s]\n"
     ]
    },
    {
     "name": "stdout",
     "output_type": "stream",
     "text": [
      "epoch 91, loss 307.271, train_acc 0.960, train_f1 0.109, test_acc 0.961, test_f1 0.109, valid_acc 0.956, valid_f1 0.109, taking 6 seconds.\n"
     ]
    },
    {
     "name": "stderr",
     "output_type": "stream",
     "text": [
      "100%|██████████| 220/220 [00:04<00:00, 51.24it/s]\n"
     ]
    },
    {
     "name": "stdout",
     "output_type": "stream",
     "text": [
      "epoch 92, loss 307.271, train_acc 0.960, train_f1 0.109, test_acc 0.961, test_f1 0.109, valid_acc 0.956, valid_f1 0.109, taking 6 seconds.\n"
     ]
    },
    {
     "name": "stderr",
     "output_type": "stream",
     "text": [
      "100%|██████████| 220/220 [00:04<00:00, 50.99it/s]\n"
     ]
    },
    {
     "name": "stdout",
     "output_type": "stream",
     "text": [
      "epoch 93, loss 307.271, train_acc 0.960, train_f1 0.109, test_acc 0.961, test_f1 0.109, valid_acc 0.956, valid_f1 0.109, taking 6 seconds.\n"
     ]
    },
    {
     "name": "stderr",
     "output_type": "stream",
     "text": [
      "100%|██████████| 220/220 [00:04<00:00, 50.46it/s]\n"
     ]
    },
    {
     "name": "stdout",
     "output_type": "stream",
     "text": [
      "epoch 94, loss 307.271, train_acc 0.960, train_f1 0.109, test_acc 0.961, test_f1 0.109, valid_acc 0.956, valid_f1 0.109, taking 6 seconds.\n"
     ]
    },
    {
     "name": "stderr",
     "output_type": "stream",
     "text": [
      "100%|██████████| 220/220 [00:04<00:00, 50.65it/s]\n"
     ]
    },
    {
     "name": "stdout",
     "output_type": "stream",
     "text": [
      "epoch 95, loss 307.271, train_acc 0.960, train_f1 0.109, test_acc 0.961, test_f1 0.109, valid_acc 0.956, valid_f1 0.109, taking 6 seconds.\n"
     ]
    },
    {
     "name": "stderr",
     "output_type": "stream",
     "text": [
      "100%|██████████| 220/220 [00:04<00:00, 50.61it/s]\n"
     ]
    },
    {
     "name": "stdout",
     "output_type": "stream",
     "text": [
      "epoch 96, loss 307.271, train_acc 0.960, train_f1 0.109, test_acc 0.961, test_f1 0.109, valid_acc 0.956, valid_f1 0.109, taking 6 seconds.\n"
     ]
    },
    {
     "name": "stderr",
     "output_type": "stream",
     "text": [
      "100%|██████████| 220/220 [00:04<00:00, 50.66it/s]\n"
     ]
    },
    {
     "name": "stdout",
     "output_type": "stream",
     "text": [
      "epoch 97, loss 307.271, train_acc 0.960, train_f1 0.109, test_acc 0.961, test_f1 0.109, valid_acc 0.956, valid_f1 0.109, taking 6 seconds.\n"
     ]
    },
    {
     "name": "stderr",
     "output_type": "stream",
     "text": [
      "100%|██████████| 220/220 [00:04<00:00, 47.65it/s]\n"
     ]
    },
    {
     "name": "stdout",
     "output_type": "stream",
     "text": [
      "epoch 98, loss 307.271, train_acc 0.960, train_f1 0.109, test_acc 0.961, test_f1 0.109, valid_acc 0.956, valid_f1 0.109, taking 6 seconds.\n"
     ]
    },
    {
     "name": "stderr",
     "output_type": "stream",
     "text": [
      "100%|██████████| 220/220 [00:04<00:00, 50.64it/s]\n"
     ]
    },
    {
     "name": "stdout",
     "output_type": "stream",
     "text": [
      "epoch 99, loss 307.271, train_acc 0.960, train_f1 0.109, test_acc 0.961, test_f1 0.109, valid_acc 0.956, valid_f1 0.109, taking 6 seconds.\n"
     ]
    },
    {
     "name": "stderr",
     "output_type": "stream",
     "text": [
      "100%|██████████| 220/220 [00:04<00:00, 51.11it/s]\n"
     ]
    },
    {
     "name": "stdout",
     "output_type": "stream",
     "text": [
      "epoch 100, loss 307.271, train_acc 0.960, train_f1 0.109, test_acc 0.961, test_f1 0.109, valid_acc 0.956, valid_f1 0.109, taking 6 seconds.\n",
      "Training is finished.\n",
      "训练损失: 307.271, 训练集准确率: 0.960, 训练集f1: 0.109, 测试集准确率: 0.961, 测试集f1: 0.109, 验证集准确率: 0.956, 验证集f1: 0.109, 在设备 cuda 上训练 100 周期, 耗时 602 s\n"
     ]
    }
   ],
   "source": [
    "# 21,814,281 total parameters\n",
    "net.to(device)\n",
    "num_batches = len(train_iter)\n",
    "losses, train_accuracy, test_accuracy, valid_accuracy = [], [], [], []\n",
    "train_f1, test_f1, valid_f1 = [], [], []\n",
    "total_start = time.time()\n",
    "for epoch in range(num_epochs):\n",
    "    train_loss = 0\n",
    "    start_time = time.perf_counter()\n",
    "    net.train()\n",
    "    for index, data in tqdm(enumerate(train_iter), total=num_batches, leave=True):\n",
    "        X, valid_len, y = [v.to(device) for v in data]\n",
    "        l = criterion(net(X, valid_len).view(-1, num_output), y.view(-1))\n",
    "        trainer.zero_grad()\n",
    "        l.sum().backward()\n",
    "        trainer.step()\n",
    "        train_loss += l.sum().cpu().detach().numpy() / batch_size\n",
    "        # train_acc += d2l.accuracy(net(X, valid_len), y) / batch_size\n",
    "    epochloss = train_loss / num_batches\n",
    "    epochtrainacc, epochtrainf1 =evaluate_accuracy_f1(net, train_iter)\n",
    "    epochtestacc, epochtestf1 = evaluate_accuracy_f1(net, test_iter)\n",
    "    epochvalidacc, epochvalidf1 = evaluate_accuracy_f1(net, validation_iter)\n",
    "    end_time = time.perf_counter()\n",
    "    print(f'epoch {epoch + 1}, loss {epochloss:.3f}, train_acc {epochtrainacc:.3f}, '\n",
    "        f'train_f1 {epochtrainf1:.3f}, test_acc {epochtestacc:.3f}, '\n",
    "        f'test_f1 {epochtestf1:.3f}, valid_acc {epochvalidacc:.3f}, '\n",
    "        f'valid_f1 {epochvalidf1:.3f}, taking {round(end_time - start_time)} seconds.')\n",
    "    losses.append(epochloss)\n",
    "    train_accuracy.append(epochtrainacc)\n",
    "    train_f1.append(epochtrainf1)\n",
    "    test_accuracy.append(epochtestacc)\n",
    "    test_f1.append(epochtestf1)\n",
    "    valid_accuracy.append(epochvalidacc)\n",
    "    valid_f1.append(epochvalidf1)\n",
    "total_timecost = round(time.time() - total_start)\n",
    "print('Training is finished.')\n",
    "print(f'训练损失: {losses[-1]:.3f}, 训练集准确率: {train_accuracy[-1]:.3f}, '\n",
    "     f'训练集f1: {train_f1[-1]:.3f}, 测试集准确率: {test_accuracy[-1]:.3f}, '\n",
    "     f'测试集f1: {test_f1[-1]:.3f}, 验证集准确率: {valid_accuracy[-1]:.3f}, '\n",
    "     f'验证集f1: {valid_f1[-1]:.3f}, 在设备 {device} 上训练 {num_epochs} 周期, 耗时 {total_timecost} s')"
   ]
  },
  {
   "cell_type": "markdown",
   "id": "b0dd74ab-c498-4ad9-83c6-ae92127bc514",
   "metadata": {},
   "source": [
    "### 保存结果"
   ]
  },
  {
   "cell_type": "code",
   "execution_count": 55,
   "id": "21ca9004-fbb9-4015-8c78-1dbcc7ea5c64",
   "metadata": {
    "execution": {
     "iopub.execute_input": "2024-08-04T03:46:17.152955Z",
     "iopub.status.busy": "2024-08-04T03:46:17.151051Z",
     "iopub.status.idle": "2024-08-04T03:46:17.162909Z",
     "shell.execute_reply": "2024-08-04T03:46:17.161094Z",
     "shell.execute_reply.started": "2024-08-04T03:46:17.152862Z"
    }
   },
   "outputs": [
    {
     "name": "stdout",
     "output_type": "stream",
     "text": [
      "测试集最佳准确率: 0.9611,\n",
      "测试集最佳F1分数: 0.1089,\n",
      "验证集最佳准确率: 0.9563,\n",
      "测试集最佳F1分数: 0.1086,\n",
      "\n"
     ]
    }
   ],
   "source": [
    "print(f\"测试集最佳准确率: {max(test_accuracy):.4f},\\n\"\n",
    "    f\"测试集最佳F1分数: {max(test_f1):.4f},\\n\"\n",
    "    f\"验证集最佳准确率: {max(valid_accuracy):.4f},\\n\"\n",
    "    f\"测试集最佳F1分数: {max(valid_f1):.4f},\\n\")"
   ]
  },
  {
   "cell_type": "code",
   "execution_count": 56,
   "id": "422ba7ce-7d40-4d55-8461-3c89f1d0e9a6",
   "metadata": {
    "execution": {
     "iopub.execute_input": "2024-08-04T03:46:20.049708Z",
     "iopub.status.busy": "2024-08-04T03:46:20.048696Z",
     "iopub.status.idle": "2024-08-04T03:46:20.311397Z",
     "shell.execute_reply": "2024-08-04T03:46:20.310238Z",
     "shell.execute_reply.started": "2024-08-04T03:46:20.049627Z"
    }
   },
   "outputs": [
    {
     "data": {
      "image/png": "[encoded data removed]",
      "text/plain": [
       "<Figure size 640x480 with 1 Axes>"
      ]
     },
     "metadata": {},
     "output_type": "display_data"
    }
   ],
   "source": [
    "fig = plt.figure()\n",
    "plt.title('test and valid accuracy')\n",
    "epochs = np.arange(1, num_epochs + 1)\n",
    "plt.axis([0, num_epochs, 0, 1])\n",
    "# losses, train_accuracy, test_accuracy, test_f1\n",
    "# plt.plot(epochs, losses, 'r.-', label='loss')\n",
    "# plt.plot(epochs, train_accuracy, 'g-.', label='train_acc')\n",
    "plt.plot(epochs, test_accuracy, 'g-.', label='test_acc')\n",
    "plt.plot(epochs, test_f1, 'b-.', label='test_f1')\n",
    "plt.plot(epochs, valid_accuracy, label='test_acc')\n",
    "plt.plot(epochs, valid_f1, label='test_f1')\n",
    "plt.legend(loc='best', frameon=False)\n",
    "plt.show()"
   ]
  },
  {
   "cell_type": "code",
   "execution_count": null,
   "id": "bf676c73-a397-4a96-91f6-cd7a7d192cfb",
   "metadata": {},
   "outputs": [],
   "source": [
    "result = pd.DataFrame({\"train_acc\": train_accuracy,\n",
    "                       \"train_f1\": train_f1,\n",
    "                      \"test_acc\": test_accuracy,\n",
    "                      \"test_f1\": test_f1,\n",
    "                      \"valid_acc\": valid_accuracy,\n",
    "                      \"valid_f1\": valid_f1,})\n",
    "result.to_excel(file_path + 'output/3layerba.xlsx')"
   ]
  },
  {
   "cell_type": "code",
   "execution_count": 57,
   "id": "3f44bf62-e599-4c8f-8cae-d89bda1ebbd3",
   "metadata": {
    "execution": {
     "iopub.execute_input": "2024-08-04T03:46:25.270528Z",
     "iopub.status.busy": "2024-08-04T03:46:25.269894Z",
     "iopub.status.idle": "2024-08-04T03:46:25.448427Z",
     "shell.execute_reply": "2024-08-04T03:46:25.447207Z",
     "shell.execute_reply.started": "2024-08-04T03:46:25.270491Z"
    }
   },
   "outputs": [],
   "source": [
    "torch.save(net.state_dict(), 'output/3layerba_100epoch_state_dict.pth')"
   ]
  },
  {
   "cell_type": "code",
   "execution_count": null,
   "id": "921a74e0-e153-4da4-bac6-aade50523c2e",
   "metadata": {},
   "outputs": [],
   "source": []
  }
 ],
 "metadata": {
  "kernelspec": {
   "display_name": "Python 3 (ipykernel)",
   "language": "python",
   "name": "python3"
  },
  "language_info": {
   "codemirror_mode": {
    "name": "ipython",
    "version": 3
   },
   "file_extension": ".py",
   "mimetype": "text/x-python",
   "name": "python",
   "nbconvert_exporter": "python",
   "pygments_lexer": "ipython3",
   "version": "3.8.10"
  }
 },
 "nbformat": 4,
 "nbformat_minor": 5
}
