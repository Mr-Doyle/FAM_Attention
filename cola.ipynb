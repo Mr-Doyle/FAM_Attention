{
 "cells": [
  {
   "cell_type": "markdown",
   "id": "31e53cec-73af-45d0-9999-ae6e7c7e586c",
   "metadata": {},
   "source": [
    "# 测试"
   ]
  },
  {
   "cell_type": "code",
   "execution_count": null,
   "id": "b1f389fb-2b8b-40d2-bdcd-ec8ab58486a8",
   "metadata": {},
   "outputs": [],
   "source": [
    "!pip list"
   ]
  },
  {
   "cell_type": "code",
   "execution_count": 3,
   "id": "44e0e025-aaaf-4a04-ab31-9d168a63757f",
   "metadata": {},
   "outputs": [
    {
     "name": "stdout",
     "output_type": "stream",
     "text": [
      "Looking in indexes: http://mirrors.aliyun.com/pypi/simple\n",
      "Collecting transformers\n",
      "  Downloading http://mirrors.aliyun.com/pypi/packages/b1/7a/60a226cb857bb7e4c3c8ceaf7035b6618e5cec8056426fbd0a914a70f2b1/transformers-4.22.2-py3-none-any.whl (4.9 MB)\n",
      "\u001b[2K     \u001b[90m━━━━━━━━━━━━━━━━━━━━━━━━━━━━━━━━━━━━━━━━\u001b[0m \u001b[32m4.9/4.9 MB\u001b[0m \u001b[31m174.6 kB/s\u001b[0m eta \u001b[36m0:00:00\u001b[0m00:01\u001b[0m00:01\u001b[0m\n",
      "\u001b[?25hCollecting regex!=2019.12.17\n",
      "  Downloading http://mirrors.aliyun.com/pypi/packages/26/c9/460171cfb4b4d68265a10621195e1baa5b906ef899eb0f19577b3ce4f9c5/regex-2022.9.13-cp38-cp38-manylinux_2_17_x86_64.manylinux2014_x86_64.whl (772 kB)\n",
      "\u001b[2K     \u001b[90m━━━━━━━━━━━━━━━━━━━━━━━━━━━━━━━━━━━━━\u001b[0m \u001b[32m772.3/772.3 kB\u001b[0m \u001b[31m184.8 kB/s\u001b[0m eta \u001b[36m0:00:00\u001b[0m00:01\u001b[0m00:01\u001b[0m\n",
      "\u001b[?25hRequirement already satisfied: pyyaml>=5.1 in ./miniconda3/lib/python3.8/site-packages (from transformers) (6.0)\n",
      "Requirement already satisfied: tqdm>=4.27 in ./miniconda3/lib/python3.8/site-packages (from transformers) (4.64.0)\n",
      "Requirement already satisfied: huggingface-hub<1.0,>=0.9.0 in ./miniconda3/lib/python3.8/site-packages (from transformers) (0.9.1)\n",
      "Requirement already satisfied: packaging>=20.0 in ./miniconda3/lib/python3.8/site-packages (from transformers) (21.3)\n",
      "Requirement already satisfied: numpy>=1.17 in ./miniconda3/lib/python3.8/site-packages (from transformers) (1.21.5)\n",
      "Requirement already satisfied: requests in ./miniconda3/lib/python3.8/site-packages (from transformers) (2.25.1)\n",
      "Requirement already satisfied: filelock in ./miniconda3/lib/python3.8/site-packages (from transformers) (3.8.0)\n",
      "Collecting tokenizers!=0.11.3,<0.13,>=0.11.1\n",
      "  Downloading http://mirrors.aliyun.com/pypi/packages/36/fa/e22ebbcaeecd9bd04efa30f7ec43ccf1501c97615c9af3bbf13a77ce0b81/tokenizers-0.12.1-cp38-cp38-manylinux_2_12_x86_64.manylinux2010_x86_64.whl (6.6 MB)\n",
      "\u001b[2K     \u001b[90m━━━━━━━━━━━━━━━━━━━━━━━━━━━━━━━━━━━━━━━━\u001b[0m \u001b[32m6.6/6.6 MB\u001b[0m \u001b[31m172.4 kB/s\u001b[0m eta \u001b[36m0:00:00\u001b[0m00:01\u001b[0m00:02\u001b[0m\n",
      "\u001b[?25hRequirement already satisfied: typing-extensions>=3.7.4.3 in ./miniconda3/lib/python3.8/site-packages (from huggingface-hub<1.0,>=0.9.0->transformers) (4.3.0)\n",
      "Requirement already satisfied: pyparsing!=3.0.5,>=2.0.2 in ./miniconda3/lib/python3.8/site-packages (from packaging>=20.0->transformers) (3.0.9)\n",
      "Requirement already satisfied: certifi>=2017.4.17 in ./miniconda3/lib/python3.8/site-packages (from requests->transformers) (2022.6.15)\n",
      "Requirement already satisfied: idna<3,>=2.5 in ./miniconda3/lib/python3.8/site-packages (from requests->transformers) (2.10)\n",
      "Requirement already satisfied: urllib3<1.27,>=1.21.1 in ./miniconda3/lib/python3.8/site-packages (from requests->transformers) (1.26.11)\n",
      "Requirement already satisfied: chardet<5,>=3.0.2 in ./miniconda3/lib/python3.8/site-packages (from requests->transformers) (4.0.0)\n",
      "Installing collected packages: tokenizers, regex, transformers\n",
      "Successfully installed regex-2022.9.13 tokenizers-0.12.1 transformers-4.22.2\n",
      "\u001b[33mWARNING: Running pip as the 'root' user can result in broken permissions and conflicting behaviour with the system package manager. It is recommended to use a virtual environment instead: https://pip.pypa.io/warnings/venv\u001b[0m\u001b[33m\n",
      "\u001b[0m"
     ]
    }
   ],
   "source": [
    "!pip install transformers"
   ]
  },
  {
   "cell_type": "code",
   "execution_count": 25,
   "id": "efc76301-6307-4a9d-b56d-78862318e562",
   "metadata": {},
   "outputs": [
    {
     "data": {
      "text/plain": [
       "['John', \"'\", 's', 'from', 'U', '.', 'S', '.']"
      ]
     },
     "execution_count": 25,
     "metadata": {},
     "output_type": "execute_result"
    }
   ],
   "source": [
    "from transformers import BertTokenizer\n",
    "\n",
    "# tokenizer = BertTokenizer.from_pretrained('bert-base-uncased')\n",
    "tokenizer = BertTokenizer.from_pretrained('bert-base-cased')\n",
    "\n",
    "tokenizer.tokenize('John\\'s from U.S.')"
   ]
  },
  {
   "cell_type": "code",
   "execution_count": 1,
   "id": "07dc15ae-4a7f-4f2e-8278-73fb82070a7c",
   "metadata": {},
   "outputs": [
    {
     "data": {
      "application/vnd.jupyter.widget-view+json": {
       "model_id": "01278b3982614e4e8e1b40fa11b80cc0",
       "version_major": 2,
       "version_minor": 0
      },
      "text/plain": [
       "Downloading builder script:   0%|          | 0.00/7.78k [00:00<?, ?B/s]"
      ]
     },
     "metadata": {},
     "output_type": "display_data"
    },
    {
     "data": {
      "application/vnd.jupyter.widget-view+json": {
       "model_id": "527cae81cc114b83badab9038cd6a91e",
       "version_major": 2,
       "version_minor": 0
      },
      "text/plain": [
       "Downloading metadata:   0%|          | 0.00/4.47k [00:00<?, ?B/s]"
      ]
     },
     "metadata": {},
     "output_type": "display_data"
    },
    {
     "name": "stdout",
     "output_type": "stream",
     "text": [
      "Downloading and preparing dataset glue/cola (download: 368.14 KiB, generated: 596.73 KiB, post-processed: Unknown size, total: 964.86 KiB) to /root/.cache/huggingface/datasets/glue/cola/1.0.0/dacbe3125aa31d7f70367a07a8a9e72a5a0bfeb5fc42e75c9db75b96da6053ad...\n"
     ]
    },
    {
     "data": {
      "application/vnd.jupyter.widget-view+json": {
       "model_id": "5681229229c1443780b31505bdfcab88",
       "version_major": 2,
       "version_minor": 0
      },
      "text/plain": [
       "Downloading data:   0%|          | 0.00/377k [00:00<?, ?B/s]"
      ]
     },
     "metadata": {},
     "output_type": "display_data"
    },
    {
     "data": {
      "application/vnd.jupyter.widget-view+json": {
       "model_id": "",
       "version_major": 2,
       "version_minor": 0
      },
      "text/plain": [
       "Generating train split:   0%|          | 0/8551 [00:00<?, ? examples/s]"
      ]
     },
     "metadata": {},
     "output_type": "display_data"
    },
    {
     "data": {
      "application/vnd.jupyter.widget-view+json": {
       "model_id": "",
       "version_major": 2,
       "version_minor": 0
      },
      "text/plain": [
       "Generating validation split:   0%|          | 0/1043 [00:00<?, ? examples/s]"
      ]
     },
     "metadata": {},
     "output_type": "display_data"
    },
    {
     "data": {
      "application/vnd.jupyter.widget-view+json": {
       "model_id": "",
       "version_major": 2,
       "version_minor": 0
      },
      "text/plain": [
       "Generating test split:   0%|          | 0/1063 [00:00<?, ? examples/s]"
      ]
     },
     "metadata": {},
     "output_type": "display_data"
    },
    {
     "name": "stdout",
     "output_type": "stream",
     "text": [
      "Dataset glue downloaded and prepared to /root/.cache/huggingface/datasets/glue/cola/1.0.0/dacbe3125aa31d7f70367a07a8a9e72a5a0bfeb5fc42e75c9db75b96da6053ad. Subsequent calls will reuse this data.\n"
     ]
    },
    {
     "data": {
      "application/vnd.jupyter.widget-view+json": {
       "model_id": "7510058767f644859ff44bc2b7211e7a",
       "version_major": 2,
       "version_minor": 0
      },
      "text/plain": [
       "  0%|          | 0/3 [00:00<?, ?it/s]"
      ]
     },
     "metadata": {},
     "output_type": "display_data"
    }
   ],
   "source": [
    "from datasets import load_dataset\n",
    "\n",
    "dataset = load_dataset('glue', name='cola')"
   ]
  },
  {
   "cell_type": "code",
   "execution_count": 9,
   "id": "486de844-44ce-4788-919a-df250c8eef49",
   "metadata": {},
   "outputs": [],
   "source": [
    "import torch\n",
    "from d2l import torch as d2l"
   ]
  },
  {
   "cell_type": "code",
   "execution_count": 4,
   "id": "e2e376fc-9eb5-40f3-9f99-31088df80285",
   "metadata": {},
   "outputs": [],
   "source": [
    "class ColaDataset(torch.utils.data.Dataset):\n",
    "    \"\"\"用于加载cola数据集\"\"\"\n",
    "\n",
    "    def __init__(self, dataset, num_steps, tokenizer, vocab=None):\n",
    "        self.num_steps = num_steps\n",
    "        self.tokens = [tokenizer.tokenize(sen) for sen in dataset['sentence']]\n",
    "        maxlen = max([len(tokens) for tokens in self.tokens])\n",
    "        print(f'Max length of token sequence: {maxlen}')\n",
    "        self.labels = torch.tensor(dataset['label'])\n",
    "        if vocab is None:\n",
    "            self.vocab = d2l.Vocab(self.tokens,\n",
    "                                   reserved_tokens=['<pad>', '<cls>'])\n",
    "        else:\n",
    "            self.vocab = vocab\n",
    "        out = list(map(self._preprocess, self.tokens))\n",
    "        all_token_ids = [token_ids for token_ids, _ in out]\n",
    "        all_valid_lens = [valid_lens for _, valid_lens in out]\n",
    "        self.all_token_ids = torch.tensor(all_token_ids, dtype=torch.long)\n",
    "        self.all_valid_lens = torch.tensor(all_valid_lens)\n",
    "        print('read ' + str(len(self.all_token_ids)) + ' examples')\n",
    "\n",
    "    def _preprocess(self, tokens):\n",
    "        self._truncate_tokens(tokens)\n",
    "        tokens = ['<cls>'] + tokens\n",
    "        token_ids = self.vocab[tokens] + [self.vocab['<pad>']] \\\n",
    "                    * (self.num_steps - len(tokens))\n",
    "        valid_lens = len(tokens)\n",
    "        return token_ids, valid_lens\n",
    "\n",
    "    def _truncate_tokens(self, tokens):\n",
    "        # 为\"<cls>标签预留位置\"\n",
    "        while len(tokens) > self.num_steps - 1:\n",
    "            tokens.pop()\n",
    "\n",
    "    def __getitem__(self, idx):\n",
    "        return (self.all_token_ids[idx], \n",
    "                self.all_valid_lens[idx]), self.labels[idx]\n",
    "\n",
    "    def __len__(self):\n",
    "        return len(self.all_token_ids)"
   ]
  },
  {
   "cell_type": "code",
   "execution_count": 5,
   "id": "db5692ff-cf20-4d5f-ab9c-ce0279ccd7af",
   "metadata": {},
   "outputs": [
    {
     "name": "stdout",
     "output_type": "stream",
     "text": [
      "Max length of token sequence: 45\n",
      "read 8551 examples\n"
     ]
    }
   ],
   "source": [
    "train_set = ColaDataset(dataset['train'], 50, tokenizer)"
   ]
  },
  {
   "cell_type": "code",
   "execution_count": 6,
   "id": "ecb86893-e7dc-413c-baca-be18879c2844",
   "metadata": {},
   "outputs": [
    {
     "name": "stdout",
     "output_type": "stream",
     "text": [
      "词表大小: 5956\n"
     ]
    }
   ],
   "source": [
    "vocab = train_set.vocab\n",
    "print(f'词表大小: {len(vocab)}') "
   ]
  },
  {
   "cell_type": "code",
   "execution_count": 7,
   "id": "b7d91472-7a19-463c-9bed-566cc2519a2a",
   "metadata": {},
   "outputs": [
    {
     "name": "stdout",
     "output_type": "stream",
     "text": [
      "Max length of token sequence: 36\n",
      "read 1063 examples\n",
      "Max length of token sequence: 34\n",
      "read 1043 examples\n"
     ]
    }
   ],
   "source": [
    "vocab = train_set.vocab\n",
    "print(f'词表大小: {len(vocab)}')  # 不区分大小写，词表大小为1881；区分大小写为2003\n",
    "test_set = ColaDataset(dataset['test'], 50, tokenizer, vocab)\n",
    "valid_set = ColaDataset(dataset['validation'], 50, tokenizer, vocab)"
   ]
  },
  {
   "cell_type": "code",
   "execution_count": 23,
   "id": "d3abfcf4-e6bc-430a-b6e2-2ceb27f75432",
   "metadata": {},
   "outputs": [
    {
     "data": {
      "text/plain": [
       "3518"
      ]
     },
     "execution_count": 23,
     "metadata": {},
     "output_type": "execute_result"
    }
   ],
   "source": [
    "vocab['film']"
   ]
  },
  {
   "cell_type": "code",
   "execution_count": 8,
   "id": "e69ecda7-7c4c-4b68-abfe-b076d5a5faaf",
   "metadata": {},
   "outputs": [
    {
     "data": {
      "text/plain": [
       "((tensor([   2,   25, 2426,  131, 1347,    4,  213,    3,    1,    1,    1,    1,\n",
       "             1,    1,    1,    1,    1,    1,    1,    1,    1,    1,    1,    1,\n",
       "             1,    1,    1,    1,    1,    1,    1,    1,    1,    1,    1,    1,\n",
       "             1,    1,    1,    1,    1,    1,    1,    1,    1,    1,    1,    1,\n",
       "             1,    1]),\n",
       "  tensor(8)),\n",
       " tensor(-1))"
      ]
     },
     "execution_count": 8,
     "metadata": {},
     "output_type": "execute_result"
    }
   ],
   "source": [
    "test_set[0]  # ((tokens, valid_lens), label) "
   ]
  },
  {
   "cell_type": "code",
   "execution_count": 85,
   "id": "7b77a521-2bfa-4d1e-90d0-58f383d54f1c",
   "metadata": {},
   "outputs": [
    {
     "data": {
      "text/plain": [
       "{'sentence': 'Bill whistled past the house.', 'label': -1, 'idx': 0}"
      ]
     },
     "execution_count": 85,
     "metadata": {},
     "output_type": "execute_result"
    }
   ],
   "source": [
    "dataset['test'][0]"
   ]
  },
  {
   "cell_type": "code",
   "execution_count": 87,
   "id": "f823043d-333c-4e09-943b-3637b38ccbcd",
   "metadata": {},
   "outputs": [
    {
     "data": {
      "text/plain": [
       "['Bill', 'whistle', '##d', 'past', 'the', 'house', '.']"
      ]
     },
     "execution_count": 87,
     "metadata": {},
     "output_type": "execute_result"
    }
   ],
   "source": [
    "tokenizer.tokenize(dataset['test']['sentence'][0])"
   ]
  },
  {
   "cell_type": "code",
   "execution_count": 16,
   "id": "5e5ccdde-e0b6-4170-9ae9-04e3689b3c5f",
   "metadata": {},
   "outputs": [
    {
     "data": {
      "text/plain": [
       "['<unk>',\n",
       " '<pad>',\n",
       " '<cls>',\n",
       " '.',\n",
       " 'the',\n",
       " 'to',\n",
       " 'I',\n",
       " 'The',\n",
       " 'a',\n",
       " 'that',\n",
       " 'is',\n",
       " 'John',\n",
       " ',',\n",
       " \"'\",\n",
       " 'of',\n",
       " 'and',\n",
       " 'was',\n",
       " 'in',\n",
       " '?',\n",
       " 'you']"
      ]
     },
     "execution_count": 16,
     "metadata": {},
     "output_type": "execute_result"
    }
   ],
   "source": [
    "vocab.idx_to_token[:20]"
   ]
  },
  {
   "cell_type": "code",
   "execution_count": 31,
   "id": "0ef32d2c-1a63-494c-9650-a88144ef7d68",
   "metadata": {},
   "outputs": [
    {
     "name": "stdout",
     "output_type": "stream",
     "text": [
      "训练集长度: 268, 测试集长度: 34, 验证集长度: 33\n",
      "X: torch.Size([32, 50]), 有效长度: torch.Size([32]), y: torch.Size([32])\n"
     ]
    }
   ],
   "source": [
    "batch_size = 32\n",
    "train_iter = torch.utils.data.DataLoader(train_set, batch_size)\n",
    "test_iter = torch.utils.data.DataLoader(test_set, batch_size)\n",
    "valid_iter = torch.utils.data.DataLoader(valid_set, batch_size)\n",
    "print(f'训练集长度: {len(train_iter)}, 测试集长度: {len(test_iter)}, '\n",
    "      f'验证集长度: {len(valid_iter)}')\n",
    "\n",
    "for (X, valid_len), y in train_iter:\n",
    "    print(f'X: {X.shape}, 有效长度: {valid_len.shape}, y: {y.shape}')\n",
    "    break"
   ]
  },
  {
   "cell_type": "code",
   "execution_count": 20,
   "id": "e168e497-fb53-4011-a320-ca6a2144a61f",
   "metadata": {},
   "outputs": [
    {
     "data": {
      "text/plain": [
       "8551"
      ]
     },
     "execution_count": 20,
     "metadata": {},
     "output_type": "execute_result"
    }
   ],
   "source": [
    "len(train_set.tokens)"
   ]
  },
  {
   "cell_type": "code",
   "execution_count": 32,
   "id": "2a0c9af1-72dc-42d2-aa8c-d7d453e68d59",
   "metadata": {},
   "outputs": [
    {
     "data": {
      "text/plain": [
       "['If',\n",
       " 'you',\n",
       " 'eat',\n",
       " 'more',\n",
       " ',',\n",
       " 'you',\n",
       " 'want',\n",
       " 'corresponding',\n",
       " '##ly',\n",
       " 'less',\n",
       " '.']"
      ]
     },
     "execution_count": 32,
     "metadata": {},
     "output_type": "execute_result"
    }
   ],
   "source": [
    "train_set.tokens[100]"
   ]
  },
  {
   "cell_type": "code",
   "execution_count": 22,
   "id": "9ec13f22-6376-4c52-8af2-80fef4247aa1",
   "metadata": {},
   "outputs": [
    {
     "data": {
      "text/plain": [
       "{'sentence': 'If you eat more, you want correspondingly less.',\n",
       " 'label': 1,\n",
       " 'idx': 100}"
      ]
     },
     "execution_count": 22,
     "metadata": {},
     "output_type": "execute_result"
    }
   ],
   "source": [
    "dataset['train'][100]"
   ]
  },
  {
   "cell_type": "markdown",
   "id": "b685b35d-f3b6-4e52-bb15-6ac2c837412a",
   "metadata": {},
   "source": [
    "# 训练词向量"
   ]
  },
  {
   "cell_type": "code",
   "execution_count": 18,
   "id": "64371e46-9cc0-4bfd-9c42-47de2ee0d915",
   "metadata": {},
   "outputs": [],
   "source": [
    "from gensim.models import word2vec\n",
    "\n",
    "file_path = 'autodl-tmp/'\n",
    "model = word2vec.Word2Vec(sentences=train_set.tokens, vector_size=512, sg=1, min_count=1)"
   ]
  },
  {
   "cell_type": "code",
   "execution_count": 20,
   "id": "fea7bd17-f08b-4f5e-8f47-1fb167dc3d81",
   "metadata": {},
   "outputs": [
    {
     "name": "stdout",
     "output_type": "stream",
     "text": [
      "词向量模型中保存的单词数量为 5953\n"
     ]
    }
   ],
   "source": [
    "print(f'词向量模型中保存的单词数量为 {len(model.wv.index_to_key)}')\n",
    "model.save(file_path + \"cola_word_vec_sg_min1.bin\")"
   ]
  },
  {
   "cell_type": "code",
   "execution_count": 22,
   "id": "4a060350-f7f9-4e52-94e7-3913f0fccc5a",
   "metadata": {},
   "outputs": [
    {
     "data": {
      "text/plain": [
       "3670"
      ]
     },
     "execution_count": 22,
     "metadata": {},
     "output_type": "execute_result"
    }
   ],
   "source": [
    "model.wv.key_to_index['film']"
   ]
  },
  {
   "cell_type": "markdown",
   "id": "a479e9a5-b97f-4329-9b35-62c41a446ce4",
   "metadata": {},
   "source": [
    "# 因子分析"
   ]
  },
  {
   "cell_type": "code",
   "execution_count": 24,
   "id": "3659c1fa-5dc1-46e3-b8ff-c8b750ce2346",
   "metadata": {},
   "outputs": [],
   "source": [
    "import numpy as np\n",
    "import pandas as pd\n",
    "import matplotlib.pyplot as plt\n",
    "import seaborn as sns\n",
    "from factor_analyzer import FactorAnalyzer\n",
    "from factor_analyzer.factor_analyzer import calculate_bartlett_sphericity,calculate_kmo"
   ]
  },
  {
   "cell_type": "code",
   "execution_count": 25,
   "id": "8d1a8f9b-db2b-4459-b1ff-15d599df8f01",
   "metadata": {},
   "outputs": [
    {
     "data": {
      "text/plain": [
       "(5953, 512)"
      ]
     },
     "execution_count": 25,
     "metadata": {},
     "output_type": "execute_result"
    }
   ],
   "source": [
    "embedding = np.array([model.wv[word] for word in model.wv.index_to_key])\n",
    "embedding.shape"
   ]
  },
  {
   "cell_type": "code",
   "execution_count": 42,
   "id": "1d826c23-f78b-4ae3-aa2a-f2016c1e0f7c",
   "metadata": {},
   "outputs": [
    {
     "name": "stdout",
     "output_type": "stream",
     "text": [
      "Bartlett's球状检验: 检验总体变量的相关矩阵是否是单位阵\n"
     ]
    },
    {
     "name": "stderr",
     "output_type": "stream",
     "text": [
      "/root/miniconda3/lib/python3.8/site-packages/factor_analyzer/factor_analyzer.py:108: RuntimeWarning: divide by zero encountered in log\n",
      "  statistic = -np.log(corr_det) * (n - 1 - (2 * p + 5) / 6)\n"
     ]
    },
    {
     "name": "stdout",
     "output_type": "stream",
     "text": [
      "inf 0.0\n",
      "kmo检验:\n",
      "检查变量间的相关性和偏相关性，取值在0-1之间；KMO统计量越接近1，变量间的相关性越强，偏相关性越弱，因子分析的效果越好\n",
      "KMO值为:  0.9947172771076265\n"
     ]
    },
    {
     "name": "stderr",
     "output_type": "stream",
     "text": [
      "/root/miniconda3/lib/python3.8/site-packages/factor_analyzer/utils.py:244: UserWarning: The inverse of the variance-covariance matrix was calculated using the Moore-Penrose generalized matrix inversion, due to its determinant being at or very close to zero.\n",
      "  warnings.warn(\n"
     ]
    }
   ],
   "source": [
    "# min_count = 5时的因子分析\n",
    "# Bartlett's球状检验\n",
    "print('Bartlett\\'s球状检验: 检验总体变量的相关矩阵是否是单位阵')\n",
    "chi_square_value, p_value = calculate_bartlett_sphericity(embedding)\n",
    "print(chi_square_value, p_value)\n",
    "\n",
    "# 导入kmo检验\n",
    "print('kmo检验:')\n",
    "print('检查变量间的相关性和偏相关性，取值在0-1之间；KMO统计量越接近1，变量间的相关性越强，偏相关性越弱，因子分析的效果越好')\n",
    "kmo_all, kmo_model = calculate_kmo(embedding)\n",
    "print('KMO值为: ', kmo_model)"
   ]
  },
  {
   "cell_type": "code",
   "execution_count": 43,
   "id": "99e3ce0e-8101-48fd-9f78-db4fd7a9ef20",
   "metadata": {},
   "outputs": [
    {
     "name": "stdout",
     "output_type": "stream",
     "text": [
      "******因子分析******\n"
     ]
    }
   ],
   "source": [
    "# fa = FactorAnalyzer(25, rotation='varimax')\n",
    "print('******因子分析******')\n",
    "fa = FactorAnalyzer(25, rotation='varimax')\n",
    "fa.fit(embedding)\n",
    "\n",
    "# 特征值、特征向量\n",
    "ev, v = fa.get_eigenvalues()"
   ]
  },
  {
   "cell_type": "code",
   "execution_count": 44,
   "id": "212dd121-3ed1-4355-9138-d77466cb76c2",
   "metadata": {},
   "outputs": [
    {
     "data": {
      "image/png": "[encoded data removed]",
      "text/plain": [
       "<Figure size 640x480 with 1 Axes>"
      ]
     },
     "metadata": {},
     "output_type": "display_data"
    }
   ],
   "source": [
    "# 可视化, plot横轴是指标个数，纵轴是ev值\n",
    "plt.scatter(range(1, embedding.shape[1]+1), ev)\n",
    "plt.plot(range(1, embedding.shape[1]+1), ev)\n",
    "plt.title('Scree Plot')\n",
    "plt.xlabel('Factors')\n",
    "plt.ylabel('Eigenvalue')\n",
    "plt.grid()\n",
    "plt.show()"
   ]
  },
  {
   "cell_type": "code",
   "execution_count": 45,
   "id": "53975d09-772b-45d9-95ec-df2dd25a4078",
   "metadata": {},
   "outputs": [
    {
     "data": {
      "image/png": "[encoded data removed]",
      "text/plain": [
       "<Figure size 640x480 with 1 Axes>"
      ]
     },
     "metadata": {},
     "output_type": "display_data"
    }
   ],
   "source": [
    "# 前三十\n",
    "plt.scatter(range(1, 31), ev[:30])\n",
    "plt.plot(range(1, 31), ev[:30])\n",
    "plt.title('Scree Plot')\n",
    "plt.xlabel('Factors')\n",
    "plt.ylabel('Eigenvalue')\n",
    "plt.grid()\n",
    "plt.show()"
   ]
  },
  {
   "cell_type": "code",
   "execution_count": 46,
   "id": "b485532b-d2a0-4966-8d0c-4892fbeb8913",
   "metadata": {},
   "outputs": [
    {
     "name": "stdout",
     "output_type": "stream",
     "text": [
      "(512, 8)\n"
     ]
    },
    {
     "name": "stderr",
     "output_type": "stream",
     "text": [
      "/root/miniconda3/lib/python3.8/site-packages/IPython/core/interactiveshell.py:3473: FutureWarning: As the xlwt package is no longer maintained, the xlwt engine will be removed in a future version of pandas. This is the only engine in pandas that supports writing in the xls format. Install openpyxl and write to an xlsx file instead. You can set the option io.excel.xls.writer to 'xlwt' to silence this warning. While this option is deprecated and will also raise a warning, it can be globally set and the warning suppressed.\n",
      "  if (await self.run_code(code, result,  async_=asy)):\n"
     ]
    }
   ],
   "source": [
    "fa = FactorAnalyzer(8, rotation=\"promax\")\n",
    "fa.fit(embedding)\n",
    "print(fa.loadings_.shape)\n",
    "\n",
    "# 512*8(变量个数*因子个数)\n",
    "index = fa.loadings_.argmax(axis=1)\n",
    "res = np.array([[i, idx] for i, idx in enumerate(index)])\n",
    "\n",
    "data_1 = pd.DataFrame(fa.loadings_, columns=['fa1', 'fa2', 'fa3', 'fa4', 'fa5', 'fa6', 'fa7', 'fa8'])\n",
    "data_2 = pd.DataFrame(res, columns=['Dimension', 'Factor'])\n",
    "with pd.ExcelWriter(file_path + \"colaFA.xls\") as writer1:\n",
    "    data_1.to_excel(writer1, sheet_name=\"Sheet1\")\n",
    "    data_2.to_excel(writer1, sheet_name=\"Sheet2\")\n",
    "    writer1.save()"
   ]
  },
  {
   "cell_type": "code",
   "execution_count": 47,
   "id": "f4d6ce0f-f31a-4ca7-abb2-6a361ce556c2",
   "metadata": {},
   "outputs": [
    {
     "data": {
      "text/plain": [
       "Text(120.72222222222221, 0.5, 'Dimension')"
      ]
     },
     "execution_count": 47,
     "metadata": {},
     "output_type": "execute_result"
    },
    {
     "data": {
      "image/png": "[encoded data removed]",
      "text/plain": [
       "<Figure size 1200x2500 with 2 Axes>"
      ]
     },
     "metadata": {},
     "output_type": "display_data"
    }
   ],
   "source": [
    "# 因子分析结果可视化\n",
    "df_cm = pd.DataFrame(np.abs(fa.loadings_))\n",
    "fig, ax = plt.subplots(figsize=(12,25))\n",
    "sns.heatmap(df_cm, annot=None, cmap='YlGnBu', ax=ax)  # cbar_kws\n",
    "\n",
    "\n",
    "# dict_={'orientation':'vertical',\"label\":\"color  \\\n",
    "# scale\",\"drawedges\":True,\"ticklocation\":\"top\",\"extend\":\"min\", \\\n",
    "# \"filled\":True,\"alpha\":0.8,\"cmap\":\"cmap\",\"ticks\":tick_}\n",
    "# cbar_kws = dict_\n",
    "\n",
    "# 设置y轴字体的大小\n",
    "ax.tick_params(axis='x',labelsize=15)\n",
    "ax.set_title(\"Factor Analysis\",fontsize=12)\n",
    "ax.set_ylabel(\"Dimension\")\n",
    "# plt.savefig(file_path + 'cola_dimension.png')"
   ]
  },
  {
   "cell_type": "code",
   "execution_count": 48,
   "id": "b7ae618d-0450-4e9e-9592-8aa1b8a55403",
   "metadata": {},
   "outputs": [
    {
     "data": {
      "text/plain": [
       "<Figure size 640x480 with 0 Axes>"
      ]
     },
     "metadata": {},
     "output_type": "display_data"
    }
   ],
   "source": [
    "plt.savefig(file_path + 'cola_dimension.png')"
   ]
  },
  {
   "cell_type": "markdown",
   "id": "fa8b99cd-dc0f-4412-a10b-bda54f0a754f",
   "metadata": {},
   "source": [
    "# 因子分析(min_count=1)"
   ]
  },
  {
   "cell_type": "code",
   "execution_count": 26,
   "id": "626ce09f-65da-4729-8f2b-ca3fb2d9ed80",
   "metadata": {},
   "outputs": [
    {
     "name": "stdout",
     "output_type": "stream",
     "text": [
      "Bartlett's球状检验: 检验总体变量的相关矩阵是否是单位阵\n",
      "inf 0.0\n",
      "kmo检验:\n",
      "检查变量间的相关性和偏相关性，取值在0-1之间；KMO统计量越接近1，变量间的相关性越强，偏相关性越弱，因子分析的效果越好\n"
     ]
    },
    {
     "name": "stderr",
     "output_type": "stream",
     "text": [
      "/root/miniconda3/lib/python3.8/site-packages/factor_analyzer/factor_analyzer.py:108: RuntimeWarning: divide by zero encountered in log\n",
      "  statistic = -np.log(corr_det) * (n - 1 - (2 * p + 5) / 6)\n"
     ]
    },
    {
     "name": "stdout",
     "output_type": "stream",
     "text": [
      "KMO值为:  0.9990945234873921\n"
     ]
    },
    {
     "name": "stderr",
     "output_type": "stream",
     "text": [
      "/root/miniconda3/lib/python3.8/site-packages/factor_analyzer/utils.py:244: UserWarning: The inverse of the variance-covariance matrix was calculated using the Moore-Penrose generalized matrix inversion, due to its determinant being at or very close to zero.\n",
      "  warnings.warn(\n"
     ]
    }
   ],
   "source": [
    "# Bartlett's球状检验\n",
    "print('Bartlett\\'s球状检验: 检验总体变量的相关矩阵是否是单位阵')\n",
    "chi_square_value, p_value = calculate_bartlett_sphericity(embedding)\n",
    "print(chi_square_value, p_value)\n",
    "\n",
    "# 导入kmo检验\n",
    "print('kmo检验:')\n",
    "print('检查变量间的相关性和偏相关性，取值在0-1之间；KMO统计量越接近1，变量间的相关性越强，偏相关性越弱，因子分析的效果越好')\n",
    "kmo_all, kmo_model = calculate_kmo(embedding)\n",
    "print('KMO值为: ', kmo_model)"
   ]
  },
  {
   "cell_type": "code",
   "execution_count": 27,
   "id": "96be29f3-0d0f-4fa7-aaf9-9aad30d55bbc",
   "metadata": {},
   "outputs": [
    {
     "name": "stdout",
     "output_type": "stream",
     "text": [
      "******因子分析******\n"
     ]
    },
    {
     "data": {
      "image/png": "[encoded data removed]",
      "text/plain": [
       "<Figure size 640x480 with 1 Axes>"
      ]
     },
     "metadata": {},
     "output_type": "display_data"
    }
   ],
   "source": [
    "print('******因子分析******')\n",
    "fa = FactorAnalyzer(25, rotation='varimax')\n",
    "fa.fit(embedding)\n",
    "\n",
    "# 特征值、特征向量\n",
    "ev, v = fa.get_eigenvalues()\n",
    "\n",
    "# 可视化, plot横轴是指标个数，纵轴是ev值\n",
    "plt.scatter(range(1, embedding.shape[1]+1), ev)\n",
    "plt.plot(range(1, embedding.shape[1]+1), ev)\n",
    "plt.title('Scree Plot')\n",
    "plt.xlabel('Factors')\n",
    "plt.ylabel('Eigenvalue')\n",
    "plt.grid()\n",
    "plt.show()"
   ]
  },
  {
   "cell_type": "code",
   "execution_count": 28,
   "id": "5893f3dd-07f8-4a05-b912-8af55e046282",
   "metadata": {},
   "outputs": [
    {
     "data": {
      "image/png": "[encoded data removed]",
      "text/plain": [
       "<Figure size 640x480 with 1 Axes>"
      ]
     },
     "metadata": {},
     "output_type": "display_data"
    }
   ],
   "source": [
    "# 前三十\n",
    "plt.scatter(range(1, 31), ev[:30])\n",
    "plt.plot(range(1, 31), ev[:30])\n",
    "plt.title('Scree Plot')\n",
    "plt.xlabel('Factors')\n",
    "plt.ylabel('Eigenvalue')\n",
    "plt.grid()\n",
    "plt.show()"
   ]
  },
  {
   "cell_type": "code",
   "execution_count": 29,
   "id": "12670d7d-b102-4b99-8e70-40740e27513b",
   "metadata": {},
   "outputs": [
    {
     "name": "stdout",
     "output_type": "stream",
     "text": [
      "(512, 8)\n"
     ]
    },
    {
     "name": "stderr",
     "output_type": "stream",
     "text": [
      "/root/miniconda3/lib/python3.8/site-packages/IPython/core/interactiveshell.py:3473: FutureWarning: As the xlwt package is no longer maintained, the xlwt engine will be removed in a future version of pandas. This is the only engine in pandas that supports writing in the xls format. Install openpyxl and write to an xlsx file instead. You can set the option io.excel.xls.writer to 'xlwt' to silence this warning. While this option is deprecated and will also raise a warning, it can be globally set and the warning suppressed.\n",
      "  if (await self.run_code(code, result,  async_=asy)):\n"
     ]
    }
   ],
   "source": [
    "fa = FactorAnalyzer(8, rotation=\"promax\")\n",
    "fa.fit(embedding)\n",
    "print(fa.loadings_.shape)\n",
    "\n",
    "# 512*8(变量个数*因子个数)\n",
    "index = fa.loadings_.argmax(axis=1)\n",
    "res = np.array([[i, idx] for i, idx in enumerate(index)])\n",
    "\n",
    "data_1 = pd.DataFrame(fa.loadings_, columns=['fa1', 'fa2', 'fa3', 'fa4', 'fa5', 'fa6', 'fa7', 'fa8'])\n",
    "data_2 = pd.DataFrame(res, columns=['Dimension', 'Factor'])\n",
    "with pd.ExcelWriter(file_path + \"colaFA.xls\") as writer1:\n",
    "    data_1.to_excel(writer1, sheet_name=\"Sheet1\")\n",
    "    data_2.to_excel(writer1, sheet_name=\"Sheet2\")\n",
    "    writer1.save()"
   ]
  },
  {
   "cell_type": "code",
   "execution_count": 30,
   "id": "6851d257-c0a1-4449-ae4f-5261f95aeee6",
   "metadata": {},
   "outputs": [
    {
     "data": {
      "text/plain": [
       "Text(120.72222222222221, 0.5, 'Dimension')"
      ]
     },
     "execution_count": 30,
     "metadata": {},
     "output_type": "execute_result"
    },
    {
     "data": {
      "image/png": "[encoded data removed]",
      "text/plain": [
       "<Figure size 1200x2500 with 2 Axes>"
      ]
     },
     "metadata": {},
     "output_type": "display_data"
    }
   ],
   "source": [
    "# 因子分析结果可视化\n",
    "df_cm = pd.DataFrame(np.abs(fa.loadings_))\n",
    "fig, ax = plt.subplots(figsize=(12,25))\n",
    "sns.heatmap(df_cm, annot=None, cmap='YlGnBu', ax=ax)  # cbar_kws\n",
    "\n",
    "\n",
    "# dict_={'orientation':'vertical',\"label\":\"color  \\\n",
    "# scale\",\"drawedges\":True,\"ticklocation\":\"top\",\"extend\":\"min\", \\\n",
    "# \"filled\":True,\"alpha\":0.8,\"cmap\":\"cmap\",\"ticks\":tick_}\n",
    "# cbar_kws = dict_\n",
    "\n",
    "# 设置y轴字体的大小\n",
    "ax.tick_params(axis='x',labelsize=15)\n",
    "ax.set_title(\"Factor Analysis\",fontsize=12)\n",
    "ax.set_ylabel(\"Dimension\")\n",
    "# plt.savefig(file_path + 'cola_dimension.png')"
   ]
  },
  {
   "cell_type": "code",
   "execution_count": 31,
   "id": "771deaff-87be-4abf-86ef-83ddb496c9cc",
   "metadata": {},
   "outputs": [
    {
     "data": {
      "text/plain": [
       "<Figure size 640x480 with 0 Axes>"
      ]
     },
     "metadata": {},
     "output_type": "display_data"
    }
   ],
   "source": [
    "plt.savefig(file_path + 'cola_dimension_mc1.png')"
   ]
  },
  {
   "cell_type": "markdown",
   "id": "97e53e03-ab5c-4778-95ed-ba364d17b22e",
   "metadata": {},
   "source": [
    "# 修改的模型架构"
   ]
  },
  {
   "cell_type": "code",
   "execution_count": 1,
   "id": "be96dfd1-c6e8-4461-a0ef-18305bac94bf",
   "metadata": {},
   "outputs": [],
   "source": [
    "import torch\n",
    "from torch import nn\n",
    "import numpy as np\n",
    "import pandas as pd\n",
    "from d2l import torch as d2l\n",
    "import matplotlib.pyplot as plt\n",
    "from tqdm import tqdm\n",
    "import time\n",
    "import math\n",
    "from gensim.models import word2vec"
   ]
  },
  {
   "cell_type": "code",
   "execution_count": 2,
   "id": "09552350-c8f2-48cf-984b-a9b83a73b9d6",
   "metadata": {},
   "outputs": [],
   "source": [
    "class FamAttention(nn.Module):\n",
    "    \"\"\"修改多头注意力，针对嵌入512维，8个head的模型\"\"\"\n",
    "    def __init__(self, num_hiddens, dim_dict, dropout, bias=False, **kwargs):\n",
    "        super(FamAttention, self).__init__(**kwargs)\n",
    "        self.attention = d2l.DotProductAttention(dropout)\n",
    "        self.W_o = nn.Linear(num_hiddens, num_hiddens, bias=bias)\n",
    "        self.dim_dict = dim_dict\n",
    "        self.dim_0 = [dim for dim, idx in self.dim_dict.items() if idx == 0]\n",
    "        self.dim_1 = [dim for dim, idx in self.dim_dict.items() if idx == 1]\n",
    "        self.dim_2 = [dim for dim, idx in self.dim_dict.items() if idx == 2]\n",
    "        self.dim_3 = [dim for dim, idx in self.dim_dict.items() if idx == 3]\n",
    "        self.dim_4 = [dim for dim, idx in self.dim_dict.items() if idx == 4]\n",
    "        self.dim_5 = [dim for dim, idx in self.dim_dict.items() if idx == 5]\n",
    "        self.dim_6 = [dim for dim, idx in self.dim_dict.items() if idx == 6]\n",
    "        self.dim_7 = [dim for dim, idx in self.dim_dict.items() if idx == 7]\n",
    "        # self.list_concat = torch.cat((self.dim_0, self.dim_1, self.dim_2, self.dim_3, self.dim_4, self.dim_5,\n",
    "        # self.dim_6, self.dim_7))\n",
    "        self.len_0, self.len_1, self.len_2, self.len_3, self.len_4, self.len_5, self.len_6, self.len_7 = len(\n",
    "            self.dim_0), len(self.dim_1), len(self.dim_2), len(self.dim_3), len(self.dim_4), len(self.dim_5),\\\n",
    "            len(self.dim_6), len(self.dim_7)\n",
    "\n",
    "        self.Wq0 = nn.Linear(self.len_0, self.len_0, bias=bias)\n",
    "        self.Wq1 = nn.Linear(self.len_1, self.len_1, bias=bias)\n",
    "        self.Wq2 = nn.Linear(self.len_2, self.len_2, bias=bias)\n",
    "        self.Wq3 = nn.Linear(self.len_3, self.len_3, bias=bias)\n",
    "        self.Wq4 = nn.Linear(self.len_4, self.len_4, bias=bias)\n",
    "        self.Wq5 = nn.Linear(self.len_5, self.len_5, bias=bias)\n",
    "        self.Wq6 = nn.Linear(self.len_6, self.len_6, bias=bias)\n",
    "        self.Wq7 = nn.Linear(self.len_7, self.len_7, bias=bias)\n",
    "\n",
    "        self.Wk0 = nn.Linear(self.len_0, self.len_0, bias=bias)\n",
    "        self.Wk1 = nn.Linear(self.len_1, self.len_1, bias=bias)\n",
    "        self.Wk2 = nn.Linear(self.len_2, self.len_2, bias=bias)\n",
    "        self.Wk3 = nn.Linear(self.len_3, self.len_3, bias=bias)\n",
    "        self.Wk4 = nn.Linear(self.len_4, self.len_4, bias=bias)\n",
    "        self.Wk5 = nn.Linear(self.len_5, self.len_5, bias=bias)\n",
    "        self.Wk6 = nn.Linear(self.len_6, self.len_6, bias=bias)\n",
    "        self.Wk7 = nn.Linear(self.len_7, self.len_7, bias=bias)\n",
    "\n",
    "        self.Wv0 = nn.Linear(self.len_0, self.len_0, bias=bias)\n",
    "        self.Wv1 = nn.Linear(self.len_1, self.len_1, bias=bias)\n",
    "        self.Wv2 = nn.Linear(self.len_2, self.len_2, bias=bias)\n",
    "        self.Wv3 = nn.Linear(self.len_3, self.len_3, bias=bias)\n",
    "        self.Wv4 = nn.Linear(self.len_4, self.len_4, bias=bias)\n",
    "        self.Wv5 = nn.Linear(self.len_5, self.len_5, bias=bias)\n",
    "        self.Wv6 = nn.Linear(self.len_6, self.len_6, bias=bias)\n",
    "        self.Wv7 = nn.Linear(self.len_7, self.len_7, bias=bias)\n",
    "\n",
    "    def forward(self, queries, keys, values, valid_lens):\n",
    "        def assemble(output_concat, list_concat):\n",
    "            reslist = []\n",
    "            for i in range(512):\n",
    "                reslist.append(list_concat.index(i))\n",
    "            return torch.index_select(output_concat, -1, torch.tensor(reslist, device=output_concat.device))\n",
    "\n",
    "        # queries, keys, values的形状: (batch_size，查询或者“键－值”对的个数，num_hiddens)\n",
    "        # qi, ki, vi的形状：(batch_size, 查询或者“键－值”对的个数， self.len_i)\n",
    "        q0, k0, v0 = torch.index_select(queries, -1, torch.tensor(self.dim_0, device=queries.device)), \\\n",
    "            torch.index_select(keys, -1, torch.tensor(self.dim_0, device=keys.device)), torch.index_select(\n",
    "            values, -1, torch.tensor(self.dim_0, device=values.device))\n",
    "        q1, k1, v1 = torch.index_select(queries, -1, torch.tensor(self.dim_1, device=queries.device)), \\\n",
    "            torch.index_select(keys, -1, torch.tensor(self.dim_1, device=keys.device)), torch.index_select(\n",
    "            values, -1, torch.tensor(self.dim_1, device=values.device))\n",
    "        q2, k2, v2 = torch.index_select(queries, -1, torch.tensor(self.dim_2, device=queries.device)), \\\n",
    "            torch.index_select(keys, -1, torch.tensor(self.dim_2, device=keys.device)), torch.index_select(\n",
    "            values, -1, torch.tensor(self.dim_2, device=values.device))\n",
    "        q3, k3, v3 = torch.index_select(queries, -1, torch.tensor(self.dim_3, device=queries.device)), \\\n",
    "            torch.index_select(keys, -1, torch.tensor(self.dim_3, device=keys.device)), torch.index_select(\n",
    "            values, -1, torch.tensor(self.dim_3, device=values.device))\n",
    "        q4, k4, v4 = torch.index_select(queries, -1, torch.tensor(self.dim_4, device=queries.device)), \\\n",
    "            torch.index_select(keys, -1, torch.tensor(self.dim_4, device=keys.device)), torch.index_select(\n",
    "            values, -1, torch.tensor(self.dim_4, device=values.device))\n",
    "        q5, k5, v5 = torch.index_select(queries, -1, torch.tensor(self.dim_5, device=queries.device)), \\\n",
    "            torch.index_select(keys, -1, torch.tensor(self.dim_5, device=keys.device)), torch.index_select(\n",
    "            values, -1, torch.tensor(self.dim_5, device=values.device))\n",
    "        q6, k6, v6 = torch.index_select(queries, -1, torch.tensor(self.dim_6, device=queries.device)), \\\n",
    "            torch.index_select(keys, -1, torch.tensor(self.dim_6, device=keys.device)), torch.index_select(\n",
    "            values, -1, torch.tensor(self.dim_6, device=values.device))\n",
    "        q7, k7, v7 = torch.index_select(queries, -1, torch.tensor(self.dim_7, device=queries.device)), \\\n",
    "            torch.index_select(keys, -1, torch.tensor(self.dim_7, device=keys.device)), torch.index_select(\n",
    "            values, -1, torch.tensor(self.dim_7, device=values.device))\n",
    "\n",
    "        head0 = self.attention(self.Wq0(q0), self.Wk0(k0), self.Wv0(v0), valid_lens)\n",
    "        head1 = self.attention(self.Wq1(q1), self.Wk1(k1), self.Wv1(v1), valid_lens)\n",
    "        head2 = self.attention(self.Wq2(q2), self.Wk2(k2), self.Wv2(v2), valid_lens)\n",
    "        head3 = self.attention(self.Wq3(q3), self.Wk3(k3), self.Wv3(v3), valid_lens)\n",
    "        head4 = self.attention(self.Wq4(q4), self.Wk4(k4), self.Wv4(v4), valid_lens)\n",
    "        head5 = self.attention(self.Wq5(q5), self.Wk5(k5), self.Wv5(v5), valid_lens)\n",
    "        head6 = self.attention(self.Wq6(q6), self.Wk6(k6), self.Wv6(v6), valid_lens)\n",
    "        head7 = self.attention(self.Wq7(q7), self.Wk7(k7), self.Wv7(v7), valid_lens)\n",
    "\n",
    "        output_concat = torch.cat((head0, head1, head2, head3, head4, head5, head6, head7), dim=-1)\n",
    "        list_concat = self.dim_0 + self.dim_1 + self.dim_2 + self.dim_3 + self.dim_4 + self.dim_5 + self.dim_6 + self.dim_7\n",
    "        return self.W_o(assemble(output_concat, list_concat))"
   ]
  },
  {
   "cell_type": "code",
   "execution_count": 3,
   "id": "290f971f-4cc6-424c-b0d2-8d42b4e59bc3",
   "metadata": {},
   "outputs": [],
   "source": [
    "# 编码器块\n",
    "class EncoderBlock(nn.Module):\n",
    "    \"\"\"transformer编码器块\"\"\"\n",
    "\n",
    "    def __init__(self, num_hiddens, norm_shape, ffn_num_input,\n",
    "                 ffn_num_hiddens, dim_dict, dropout, use_bias=False, **kwargs):\n",
    "        super(EncoderBlock, self).__init__(**kwargs)\n",
    "        self.attention = FamAttention(num_hiddens, dim_dict, dropout, use_bias)\n",
    "        self.addnorm1 = d2l.AddNorm(norm_shape, dropout)\n",
    "        self.ffn = d2l.PositionWiseFFN(\n",
    "            ffn_num_input, ffn_num_hiddens, num_hiddens)\n",
    "        self.addnorm2 = d2l.AddNorm(norm_shape, dropout)\n",
    "\n",
    "    def forward(self, X, valid_lens):\n",
    "        Y = self.addnorm1(X, self.attention(X, X, X, valid_lens))\n",
    "        return self.addnorm2(Y, self.ffn(Y))"
   ]
  },
  {
   "cell_type": "code",
   "execution_count": 4,
   "id": "cb7fa3e8-7349-4687-9936-8428af076313",
   "metadata": {},
   "outputs": [],
   "source": [
    "class FamEncoder(d2l.Encoder):\n",
    "    \"\"\"采用BERT编码器结构\"\"\"\n",
    "\n",
    "    def __init__(self, vocab_size, num_hiddens, norm_shape, ffn_num_input,\n",
    "                 ffn_num_hiddens, dim_dict, num_layers, dropout,\n",
    "                 use_bias=False, **kwargs):\n",
    "        super(FamEncoder, self).__init__(**kwargs)\n",
    "        self.num_hiddens = num_hiddens\n",
    "        self.embedding = nn.Embedding(vocab_size, num_hiddens)\n",
    "        self.pos_encoding = d2l.PositionalEncoding(num_hiddens, dropout)\n",
    "        self.blks = nn.Sequential()\n",
    "        self.agg_layer = nn.Sequential(\n",
    "                                    nn.Linear(num_hiddens, num_hiddens),\n",
    "                                    nn.ReLU())\n",
    "        self.output = nn.Linear(num_hiddens, 2)\n",
    "        for i in range(num_layers):\n",
    "            self.blks.add_module(f\"{i}\", EncoderBlock(\n",
    "                num_hiddens, norm_shape, ffn_num_input,\n",
    "                ffn_num_hiddens, dim_dict, dropout, use_bias))\n",
    "\n",
    "    def forward(self, X, valid_lens, *args):\n",
    "        # X的形状保持不变：（批量大小，最大序列长度，num_hiddens）\n",
    "        X = self.pos_encoding(self.embedding(X) * math.sqrt(self.num_hiddens))\n",
    "        self.attention_weights = [None] * len(self.blks)\n",
    "        for i, blk in enumerate(self.blks):\n",
    "            X = blk(X, valid_lens)\n",
    "            self.attention_weights[i] = blk.attention.attention.attention_weights\n",
    "        # 取句首'<cls>'标签对应的输出向量用于分类\n",
    "        return self.output(self.agg_layer(X[:, 0, :]))"
   ]
  },
  {
   "cell_type": "markdown",
   "id": "6a63857a-561f-411e-b784-b90f13e91467",
   "metadata": {},
   "source": [
    "# 常规模型架构"
   ]
  },
  {
   "cell_type": "code",
   "execution_count": 19,
   "id": "dc39e168-f268-48a1-abae-3de1bf1aead2",
   "metadata": {},
   "outputs": [],
   "source": [
    "class TransformerEncoder(d2l.Encoder):\n",
    "    \"\"\"transformer编码器\"\"\"\n",
    "    def __init__(self, vocab_size, key_size, query_size, value_size,\n",
    "                 num_hiddens, norm_shape, ffn_num_input, ffn_num_hiddens,\n",
    "                 num_heads, num_layers, dropout, use_bias=False, **kwargs):\n",
    "        super(TransformerEncoder, self).__init__(**kwargs)\n",
    "        self.num_hiddens = num_hiddens\n",
    "        self.embedding = nn.Embedding(vocab_size, num_hiddens)\n",
    "        self.pos_encoding = d2l.PositionalEncoding(num_hiddens, dropout)\n",
    "        self.blks = nn.Sequential()\n",
    "        self.outhidden = nn.Sequential(\n",
    "                                    nn.Linear(num_hiddens, num_hiddens),\n",
    "                                    nn.ReLU())\n",
    "        self.Dense = nn.Linear(num_hiddens, 2)\n",
    "        for i in range(num_layers):\n",
    "            self.blks.add_module(\"block\"+str(i),\n",
    "                d2l.EncoderBlock(key_size, query_size, value_size, num_hiddens,\n",
    "                             norm_shape, ffn_num_input, ffn_num_hiddens,\n",
    "                             num_heads, dropout, use_bias))\n",
    "\n",
    "    def forward(self, X, valid_lens, *args):\n",
    "        # 因为位置编码值在-1和1之间，\n",
    "        # 因此嵌入值乘以嵌入维度的平方根进行缩放，然后再与位置编码相加。\n",
    "        X = self.pos_encoding(self.embedding(X) * math.sqrt(self.num_hiddens))\n",
    "        self.attention_weights = [None] * len(self.blks)\n",
    "        for i, blk in enumerate(self.blks):\n",
    "            X = blk(X, valid_lens)\n",
    "            self.attention_weights[\n",
    "                i] = blk.attention.attention.attention_weights\n",
    "        # 取句首'cls'token的向量用于分类\n",
    "        return self.Dense(self.outhidden(X[:, 0, :]))"
   ]
  },
  {
   "cell_type": "code",
   "execution_count": 20,
   "id": "77528626-4255-4023-9d44-1e937499cf63",
   "metadata": {},
   "outputs": [],
   "source": [
    "# num_hiddens, num_layers, dropout = 512, 2, 0.1\n",
    "# lr, num_epochs, device = 5e-5, 30, d2l.try_gpu()\n",
    "ffn_num_input, ffn_num_hiddens, num_heads = 512, 2048, 8\n",
    "key_size, query_size, value_size = 512, 512, 512\n",
    "norm_shape = [512]"
   ]
  },
  {
   "cell_type": "code",
   "execution_count": 21,
   "id": "3c6088c7-3a36-4e75-b76e-b83c2dd11a88",
   "metadata": {},
   "outputs": [
    {
     "name": "stdout",
     "output_type": "stream",
     "text": [
      "6,463,490 total parameters.\n",
      "6,463,490 training parameters.\n"
     ]
    }
   ],
   "source": [
    "basenet = TransformerEncoder(\n",
    "    len(vocab), key_size, query_size, value_size, num_hiddens,\n",
    "    norm_shape, ffn_num_input, ffn_num_hiddens, num_heads,\n",
    "    num_layers, dropout)\n",
    "\n",
    "total_params = sum(p.numel() for p in basenet.parameters())\n",
    "print(f'{total_params:,} total parameters.')\n",
    "total_trainable_params = sum(p.numel() for p in basenet.parameters() if p.requires_grad)\n",
    "print(f'{total_trainable_params:,} training parameters.')"
   ]
  },
  {
   "cell_type": "markdown",
   "id": "e9ca51bb-a430-44cb-9a38-65e3d099db34",
   "metadata": {},
   "source": [
    "# 加载数据集"
   ]
  },
  {
   "cell_type": "code",
   "execution_count": 5,
   "id": "e5aba0b6-acdf-4fcf-acbd-22478e5df980",
   "metadata": {},
   "outputs": [
    {
     "name": "stderr",
     "output_type": "stream",
     "text": [
      "Reusing dataset glue (/root/.cache/huggingface/datasets/glue/cola/1.0.0/dacbe3125aa31d7f70367a07a8a9e72a5a0bfeb5fc42e75c9db75b96da6053ad)\n"
     ]
    },
    {
     "data": {
      "application/vnd.jupyter.widget-view+json": {
       "model_id": "08c1fc4b52cd4521993e0a82d4229072",
       "version_major": 2,
       "version_minor": 0
      },
      "text/plain": [
       "  0%|          | 0/3 [00:00<?, ?it/s]"
      ]
     },
     "metadata": {},
     "output_type": "display_data"
    }
   ],
   "source": [
    "from datasets import load_dataset\n",
    "from transformers import BertTokenizer\n",
    "\n",
    "dataset = load_dataset('glue', name='cola')\n",
    "tokenizer = BertTokenizer.from_pretrained('bert-base-cased')"
   ]
  },
  {
   "cell_type": "code",
   "execution_count": 6,
   "id": "fbc41a4b-99db-4639-a41b-56210fc3c64e",
   "metadata": {},
   "outputs": [],
   "source": [
    "class ColaDataset(torch.utils.data.Dataset):\n",
    "    \"\"\"用于加载cola数据集\"\"\"\n",
    "\n",
    "    def __init__(self, dataset, num_steps, tokenizer, vocab=None):\n",
    "        self.num_steps = num_steps\n",
    "        self.tokens = [tokenizer.tokenize(sen) for sen in dataset['sentence']]\n",
    "        maxlen = max([len(tokens) for tokens in self.tokens])\n",
    "        print(f'Max length of token sequence: {maxlen}')\n",
    "        self.labels = torch.tensor(dataset['label'])\n",
    "        if vocab is None:\n",
    "            self.vocab = d2l.Vocab(self.tokens,\n",
    "                                   reserved_tokens=['<pad>', '<cls>'])\n",
    "        else:\n",
    "            self.vocab = vocab\n",
    "        out = list(map(self._preprocess, self.tokens))\n",
    "        all_token_ids = [token_ids for token_ids, _ in out]\n",
    "        all_valid_lens = [valid_lens for _, valid_lens in out]\n",
    "        self.all_token_ids = torch.tensor(all_token_ids, dtype=torch.long)\n",
    "        self.all_valid_lens = torch.tensor(all_valid_lens)\n",
    "        print('read ' + str(len(self.all_token_ids)) + ' examples')\n",
    "\n",
    "    def _preprocess(self, tokens):\n",
    "        self._truncate_tokens(tokens)\n",
    "        tokens = ['<cls>'] + tokens\n",
    "        token_ids = self.vocab[tokens] + [self.vocab['<pad>']] \\\n",
    "                    * (self.num_steps - len(tokens))\n",
    "        valid_lens = len(tokens)\n",
    "        return token_ids, valid_lens\n",
    "\n",
    "    def _truncate_tokens(self, tokens):\n",
    "        # 为\"<cls>标签预留位置\"\n",
    "        while len(tokens) > self.num_steps - 1:\n",
    "            tokens.pop()\n",
    "\n",
    "    def __getitem__(self, idx):\n",
    "        return (self.all_token_ids[idx],\n",
    "                self.all_valid_lens[idx]), self.labels[idx]\n",
    "\n",
    "    def __len__(self):\n",
    "        return len(self.all_token_ids)"
   ]
  },
  {
   "cell_type": "code",
   "execution_count": 7,
   "id": "153d3d66-8272-443b-8bce-c517c1e3c6d7",
   "metadata": {},
   "outputs": [
    {
     "name": "stdout",
     "output_type": "stream",
     "text": [
      "Max length of token sequence: 45\n",
      "read 8551 examples\n",
      "词表大小: 5956\n",
      "Max length of token sequence: 34\n",
      "read 1043 examples\n"
     ]
    }
   ],
   "source": [
    "num_steps, batch_size = 50, 16\n",
    "train_set = ColaDataset(dataset['train'], num_steps, tokenizer)\n",
    "vocab = train_set.vocab\n",
    "print(f'词表大小: {len(vocab)}')  # 不区分大小写，词表大小为1881；区分大小写为2003\n",
    "# test_set = ColaDataset(dataset['test'], 50, tokenizer, vocab)\n",
    "valid_set = ColaDataset(dataset['validation'], 50, tokenizer, vocab)"
   ]
  },
  {
   "cell_type": "code",
   "execution_count": 35,
   "id": "642c6e16-3535-4479-a423-936e384f0fb9",
   "metadata": {},
   "outputs": [
    {
     "name": "stdout",
     "output_type": "stream",
     "text": [
      "['<cls>', 'One', 'more', 'pseudo', 'general', '##ization', 'and', 'I', \"'\", 'm', 'giving', 'up', '.']\n"
     ]
    }
   ],
   "source": [
    "words = []\n",
    "for id in train_set.all_token_ids[1].numpy().tolist():\n",
    "    if id != 1:\n",
    "        words.append(vocab.idx_to_token[id])\n",
    "    else:\n",
    "        break\n",
    "print(words)"
   ]
  },
  {
   "cell_type": "code",
   "execution_count": 33,
   "id": "cc35aa90-3f5d-47bb-bed9-c0e07d3e2167",
   "metadata": {},
   "outputs": [
    {
     "data": {
      "text/plain": [
       "{'sentence': \"One more pseudo generalization and I'm giving up.\",\n",
       " 'label': 1,\n",
       " 'idx': 1}"
      ]
     },
     "execution_count": 33,
     "metadata": {},
     "output_type": "execute_result"
    }
   ],
   "source": [
    "dataset['train'][1]"
   ]
  },
  {
   "cell_type": "code",
   "execution_count": 8,
   "id": "e3db13db-7dcf-40fd-b29d-1216abbdc444",
   "metadata": {},
   "outputs": [
    {
     "name": "stdout",
     "output_type": "stream",
     "text": [
      "训练集长度: 535, 验证集长度: 66\n",
      "X: torch.Size([16, 50]), 有效长度: torch.Size([16]), y: torch.Size([16])\n"
     ]
    }
   ],
   "source": [
    "train_iter = torch.utils.data.DataLoader(train_set, batch_size, shuffle=True)\n",
    "# test_iter = torch.utils.data.DataLoader(test_set, batch_size)\n",
    "valid_iter = torch.utils.data.DataLoader(valid_set, batch_size)\n",
    "print(f'训练集长度: {len(train_iter)}, '\n",
    "      f'验证集长度: {len(valid_iter)}')\n",
    "\n",
    "for (X, valid_len), y in train_iter:\n",
    "    print(f'X: {X.shape}, 有效长度: {valid_len.shape}, y: {y.shape}')\n",
    "    break"
   ]
  },
  {
   "cell_type": "code",
   "execution_count": 12,
   "id": "8100ac5b-0618-4e94-90bc-5735915433cb",
   "metadata": {},
   "outputs": [
    {
     "data": {
      "text/plain": [
       "(tensor([[   2, 1032, 1447,  ...,    1,    1,    1],\n",
       "         [   2,   25,   79,  ...,    1,    1,    1],\n",
       "         [   2,    7,   89,  ...,    1,    1,    1],\n",
       "         ...,\n",
       "         [   2, 1770,    8,  ...,    1,    1,    1],\n",
       "         [   2,    6, 1544,  ...,    1,    1,    1],\n",
       "         [   2,  265,   46,  ...,    1,    1,    1]]),\n",
       " tensor([ 6,  7,  7, 18,  7,  8,  9, 12, 11, 16, 10,  4, 10,  7,  7, 10, 11,  7,\n",
       "         14, 12, 13, 12, 12, 17, 13, 11, 13,  8,  8, 12, 10, 12]),\n",
       " tensor([1, 1, 0, 1, 0, 1, 1, 1, 1, 1, 1, 1, 1, 1, 1, 0, 1, 1, 0, 0, 0, 1, 0, 1,\n",
       "         0, 1, 1, 1, 0, 1, 1, 1]))"
      ]
     },
     "execution_count": 12,
     "metadata": {},
     "output_type": "execute_result"
    }
   ],
   "source": [
    "X, valid_len, y"
   ]
  },
  {
   "cell_type": "markdown",
   "id": "de5ad50c-ce94-4961-8ffc-4c5b1a4c5e43",
   "metadata": {},
   "source": [
    "# 训练准备"
   ]
  },
  {
   "cell_type": "code",
   "execution_count": 9,
   "id": "4b94cbfb-3567-4da5-a6fa-da1b6700485b",
   "metadata": {},
   "outputs": [],
   "source": [
    "# 参数和超参数\n",
    "num_hiddens, num_layers, dropout = 512, 1, 0.1\n",
    "ffn_num_input, ffn_num_hiddens, norm_shape = 512, 2048, [512]\n",
    "lr, num_epochs, device = 5e-3, 10, d2l.try_gpu()"
   ]
  },
  {
   "cell_type": "code",
   "execution_count": 10,
   "id": "76c36282-18e8-48b3-84da-7c79ba2a2411",
   "metadata": {},
   "outputs": [],
   "source": [
    "file_path = 'autodl-tmp/'\n",
    "excelfile = pd.read_excel(file_path + 'colaFA.xls', sheet_name='Sheet2', header=0, index_col=0)\n",
    "dim_dict = dict()\n",
    "for i in range(512):\n",
    "    dim_dict[excelfile['Dimension'].values[i]] = excelfile['Factor'].values[i]"
   ]
  },
  {
   "cell_type": "code",
   "execution_count": null,
   "id": "2372a6fa-acd0-4892-b12c-f7bf9adb0acf",
   "metadata": {},
   "outputs": [],
   "source": [
    "dim_dict"
   ]
  },
  {
   "cell_type": "code",
   "execution_count": 11,
   "id": "b0e341bb-1a07-4a71-a1f7-41f17aab6494",
   "metadata": {},
   "outputs": [
    {
     "name": "stdout",
     "output_type": "stream",
     "text": [
      "5,866,760 total parameters.\n",
      "5,866,760 trainable parameters.\n"
     ]
    }
   ],
   "source": [
    "# 实例化模型\n",
    "net = FamEncoder(\n",
    "    len(vocab), num_hiddens, norm_shape, ffn_num_input,\n",
    "    ffn_num_hiddens, dim_dict, num_layers, dropout)\n",
    "# Find total parameters and trainable parameters\n",
    "total_params = sum(p.numel() for p in net.parameters())\n",
    "print(f'{total_params:,} total parameters.')\n",
    "total_trainable_params = sum(p.numel() for p in net.parameters() if p.requires_grad)\n",
    "print(f'{total_trainable_params:,} trainable parameters.')"
   ]
  },
  {
   "cell_type": "code",
   "execution_count": 14,
   "id": "32c502b1-e26e-43ff-ba87-721477e2b241",
   "metadata": {},
   "outputs": [
    {
     "data": {
      "text/plain": [
       "======================================================================\n",
       "Layer (type:depth-idx)                        Param #\n",
       "======================================================================\n",
       "FamEncoder                                    --\n",
       "├─Embedding: 1-1                              (3,049,472)\n",
       "├─PositionalEncoding: 1-2                     --\n",
       "│    └─Dropout: 2-1                           --\n",
       "├─Sequential: 1-3                             --\n",
       "│    └─EncoderBlock: 2-2                      --\n",
       "│    │    └─FamAttention: 3-1                 451,846\n",
       "│    │    └─AddNorm: 3-2                      1,024\n",
       "│    │    └─PositionWiseFFN: 3-3              2,099,712\n",
       "│    │    └─AddNorm: 3-4                      1,024\n",
       "├─Sequential: 1-4                             --\n",
       "│    └─Linear: 2-3                            262,656\n",
       "│    └─ReLU: 2-4                              --\n",
       "├─Linear: 1-5                                 1,026\n",
       "======================================================================\n",
       "Total params: 5,866,760\n",
       "Trainable params: 2,817,288\n",
       "Non-trainable params: 3,049,472\n",
       "======================================================================"
      ]
     },
     "execution_count": 14,
     "metadata": {},
     "output_type": "execute_result"
    }
   ],
   "source": [
    "from torchinfo import summary\n",
    "\n",
    "summary(net)"
   ]
  },
  {
   "cell_type": "code",
   "execution_count": 12,
   "id": "36ca91b3-35ef-4626-8f39-732371ab0fd3",
   "metadata": {},
   "outputs": [],
   "source": [
    "# 初始化embedding层模型权重\n",
    "def get_embedding_weights(vocab, word2vecmodel, num_hiddens):\n",
    "    wordlist = word2vecmodel.wv.index_to_key\n",
    "    n = len(vocab)\n",
    "    data = np.random.randn(n, num_hiddens)\n",
    "    for i in range(n):\n",
    "        word = vocab.idx_to_token[i]\n",
    "        data[i] = np.array(word2vecmodel.wv[word]) if word in wordlist else data[i]\n",
    "    return torch.tensor(data, dtype=torch.float32)\n",
    "\n",
    "\n",
    "def init_embedding_weights(net, weights):\n",
    "    for m in net.modules():\n",
    "        if isinstance(m, nn.Embedding):\n",
    "            m.weight.data = weights\n",
    "\n",
    "\n",
    "# init_embedding_weights(net.embedding, weights)\n",
    "word2vecmodel = word2vec.Word2Vec.load(file_path + 'cola_word_vec_sg_min1.bin')\n",
    "# weights = get_embedding_weights(vocab, word2vecmodel, num_hiddens)\n",
    "# init_embedding_weights(net, get_embedding_weights(\n",
    "#                     vocab, word2vecmodel, num_hiddens))"
   ]
  },
  {
   "cell_type": "code",
   "execution_count": 13,
   "id": "4c9a15ce-4bf3-4ed8-869e-671dbad385a0",
   "metadata": {},
   "outputs": [],
   "source": [
    "net.embedding.weight.data.copy_(get_embedding_weights(vocab, word2vecmodel, num_hiddens))\n",
    "net.embedding.weight.requires_grad = False"
   ]
  },
  {
   "cell_type": "code",
   "execution_count": 15,
   "id": "d617ed50-2819-40d2-8262-f9b7fc8792cb",
   "metadata": {},
   "outputs": [
    {
     "data": {
      "text/plain": [
       "FamEncoder(\n",
       "  (embedding): Embedding(5956, 512)\n",
       "  (pos_encoding): PositionalEncoding(\n",
       "    (dropout): Dropout(p=0.1, inplace=False)\n",
       "  )\n",
       "  (blks): Sequential(\n",
       "    (0): EncoderBlock(\n",
       "      (attention): FamAttention(\n",
       "        (attention): DotProductAttention(\n",
       "          (dropout): Dropout(p=0.1, inplace=False)\n",
       "        )\n",
       "        (W_o): Linear(in_features=512, out_features=512, bias=False)\n",
       "        (Wq0): Linear(in_features=206, out_features=206, bias=False)\n",
       "        (Wq1): Linear(in_features=90, out_features=90, bias=False)\n",
       "        (Wq2): Linear(in_features=94, out_features=94, bias=False)\n",
       "        (Wq3): Linear(in_features=46, out_features=46, bias=False)\n",
       "        (Wq4): Linear(in_features=33, out_features=33, bias=False)\n",
       "        (Wq5): Linear(in_features=19, out_features=19, bias=False)\n",
       "        (Wq6): Linear(in_features=14, out_features=14, bias=False)\n",
       "        (Wq7): Linear(in_features=10, out_features=10, bias=False)\n",
       "        (Wk0): Linear(in_features=206, out_features=206, bias=False)\n",
       "        (Wk1): Linear(in_features=90, out_features=90, bias=False)\n",
       "        (Wk2): Linear(in_features=94, out_features=94, bias=False)\n",
       "        (Wk3): Linear(in_features=46, out_features=46, bias=False)\n",
       "        (Wk4): Linear(in_features=33, out_features=33, bias=False)\n",
       "        (Wk5): Linear(in_features=19, out_features=19, bias=False)\n",
       "        (Wk6): Linear(in_features=14, out_features=14, bias=False)\n",
       "        (Wk7): Linear(in_features=10, out_features=10, bias=False)\n",
       "        (Wv0): Linear(in_features=206, out_features=206, bias=False)\n",
       "        (Wv1): Linear(in_features=90, out_features=90, bias=False)\n",
       "        (Wv2): Linear(in_features=94, out_features=94, bias=False)\n",
       "        (Wv3): Linear(in_features=46, out_features=46, bias=False)\n",
       "        (Wv4): Linear(in_features=33, out_features=33, bias=False)\n",
       "        (Wv5): Linear(in_features=19, out_features=19, bias=False)\n",
       "        (Wv6): Linear(in_features=14, out_features=14, bias=False)\n",
       "        (Wv7): Linear(in_features=10, out_features=10, bias=False)\n",
       "      )\n",
       "      (addnorm1): AddNorm(\n",
       "        (dropout): Dropout(p=0.1, inplace=False)\n",
       "        (ln): LayerNorm((512,), eps=1e-05, elementwise_affine=True)\n",
       "      )\n",
       "      (ffn): PositionWiseFFN(\n",
       "        (dense1): Linear(in_features=512, out_features=2048, bias=True)\n",
       "        (relu): ReLU()\n",
       "        (dense2): Linear(in_features=2048, out_features=512, bias=True)\n",
       "      )\n",
       "      (addnorm2): AddNorm(\n",
       "        (dropout): Dropout(p=0.1, inplace=False)\n",
       "        (ln): LayerNorm((512,), eps=1e-05, elementwise_affine=True)\n",
       "      )\n",
       "    )\n",
       "  )\n",
       "  (agg_layer): Sequential(\n",
       "    (0): Linear(in_features=512, out_features=512, bias=True)\n",
       "    (1): ReLU()\n",
       "  )\n",
       "  (output): Linear(in_features=512, out_features=2, bias=True)\n",
       ")"
      ]
     },
     "execution_count": 15,
     "metadata": {},
     "output_type": "execute_result"
    }
   ],
   "source": [
    "# 初始化线性层权重\n",
    "def xavier_init_weights(m):\n",
    "    if type(m) in (nn.Linear, nn.Conv1d):\n",
    "        nn.init.xavier_uniform_(m.weight)\n",
    "\n",
    "\n",
    "net.apply(xavier_init_weights)"
   ]
  },
  {
   "cell_type": "code",
   "execution_count": 16,
   "id": "4ab2bc74-40dd-4e2c-8b18-57bd55117f71",
   "metadata": {},
   "outputs": [],
   "source": [
    "# 评估模型在验证集上准确率的函数\n",
    "def evaluate_accuracy_gpu(net, data_iter, device=None):\n",
    "    \"\"\"Compute the accuracy for a model on a dataset using a GPU.\"\"\"\n",
    "    net.eval()  # Set the model to evaluation mode\n",
    "    if not device:\n",
    "        device = next(iter(net.parameters())).device\n",
    "    # No. of correct predictions, no. of predictions\n",
    "    metric = d2l.Accumulator(2)\n",
    "\n",
    "    with torch.no_grad():\n",
    "        for (X, valid_len), y in data_iter:\n",
    "            X, valid_len, y = [x.to(device) for x in (X, valid_len, y)]\n",
    "            metric.add(d2l.accuracy(net(X, valid_len), y), d2l.size(y))\n",
    "    return metric[0] / metric[1]"
   ]
  },
  {
   "cell_type": "code",
   "execution_count": 30,
   "id": "479499f7-3629-4ba0-b4a9-bafe2b86e5e4",
   "metadata": {},
   "outputs": [
    {
     "name": "stdout",
     "output_type": "stream",
     "text": [
      "torch.Size([32, 2])\n"
     ]
    }
   ],
   "source": [
    "for (X, valid_len), y in train_iter:\n",
    "    print(net(X, valid_len).shape)\n",
    "    break"
   ]
  },
  {
   "cell_type": "markdown",
   "id": "83fdb938-c086-4408-bcdd-b11a2a38911a",
   "metadata": {},
   "source": [
    "# 正式训练1 (词表不包含频数5一下单词)"
   ]
  },
  {
   "cell_type": "code",
   "execution_count": null,
   "id": "6ec3ecc8-1824-45d5-b522-8738fd73293a",
   "metadata": {},
   "outputs": [],
   "source": [
    "# 2层注意力块"
   ]
  },
  {
   "cell_type": "markdown",
   "id": "6d04ef4c-9a35-4675-9f78-b84a79718dbb",
   "metadata": {},
   "source": [
    "  在模型的信息汇聚层，当把线性层的输出维度减半时，即输入维度为隐藏层维度，输出维度是隐藏层维度//2，模型的收敛效果不好，训练损失、训练集准确率、验证集准确率稳定不动。"
   ]
  },
  {
   "cell_type": "code",
   "execution_count": 18,
   "id": "f8792616-3671-4095-81c3-1fd71e236d99",
   "metadata": {},
   "outputs": [
    {
     "data": {
      "image/png": "[encoded data removed]",
      "text/plain": [
       "<Figure size 640x480 with 1 Axes>"
      ]
     },
     "metadata": {},
     "output_type": "display_data"
    }
   ],
   "source": [
    "fig = plt.figure()\n",
    "plt.title('train loss and accuracy')\n",
    "plt.axis([0, num_epochs, 0, 1])\n",
    "epochs = np.arange(1, num_epochs + 1)\n",
    "# losses, train_accuracy, test_accuracy, validation_accuracy\n",
    "plt.plot(epochs, losses, 'r.-', label='loss')\n",
    "plt.plot(epochs, train_accuracy, 'g-', label='train_acc')\n",
    "plt.plot(epochs, valid_accuracy, 'b-.', label='test_acc')\n",
    "# plt.plot(epochs, validation_accuracy, 'y-.', label='valid_acc')\n",
    "plt.grid()\n",
    "plt.legend(loc='best', frameon=False)\n",
    "plt.show()"
   ]
  },
  {
   "cell_type": "code",
   "execution_count": 46,
   "id": "96cf5963-5268-419f-921d-cf15be9d53b0",
   "metadata": {},
   "outputs": [
    {
     "name": "stderr",
     "output_type": "stream",
     "text": [
      "100%|██████████| 268/268 [00:14<00:00, 18.42it/s]\n"
     ]
    },
    {
     "name": "stdout",
     "output_type": "stream",
     "text": [
      "epoch 1, loss 0.721, train_acc 0.698, valid_acc 0.691, taking 15 seconds\n"
     ]
    },
    {
     "name": "stderr",
     "output_type": "stream",
     "text": [
      "100%|██████████| 268/268 [00:14<00:00, 18.18it/s]\n"
     ]
    },
    {
     "name": "stdout",
     "output_type": "stream",
     "text": [
      "epoch 2, loss 0.606, train_acc 0.702, valid_acc 0.691, taking 15 seconds\n"
     ]
    },
    {
     "name": "stderr",
     "output_type": "stream",
     "text": [
      "100%|██████████| 268/268 [00:14<00:00, 18.74it/s]\n"
     ]
    },
    {
     "name": "stdout",
     "output_type": "stream",
     "text": [
      "epoch 3, loss 0.606, train_acc 0.702, valid_acc 0.691, taking 15 seconds\n"
     ]
    },
    {
     "name": "stderr",
     "output_type": "stream",
     "text": [
      "100%|██████████| 268/268 [00:14<00:00, 19.06it/s]\n"
     ]
    },
    {
     "name": "stdout",
     "output_type": "stream",
     "text": [
      "epoch 4, loss 0.606, train_acc 0.702, valid_acc 0.691, taking 15 seconds\n"
     ]
    },
    {
     "name": "stderr",
     "output_type": "stream",
     "text": [
      "100%|██████████| 268/268 [00:14<00:00, 19.00it/s]\n"
     ]
    },
    {
     "name": "stdout",
     "output_type": "stream",
     "text": [
      "epoch 5, loss 0.606, train_acc 0.702, valid_acc 0.691, taking 15 seconds\n"
     ]
    },
    {
     "name": "stderr",
     "output_type": "stream",
     "text": [
      "100%|██████████| 268/268 [00:14<00:00, 17.90it/s]\n"
     ]
    },
    {
     "name": "stdout",
     "output_type": "stream",
     "text": [
      "epoch 6, loss 0.606, train_acc 0.702, valid_acc 0.691, taking 16 seconds\n"
     ]
    },
    {
     "name": "stderr",
     "output_type": "stream",
     "text": [
      "100%|██████████| 268/268 [00:15<00:00, 16.82it/s]\n"
     ]
    },
    {
     "name": "stdout",
     "output_type": "stream",
     "text": [
      "epoch 7, loss 0.606, train_acc 0.702, valid_acc 0.691, taking 17 seconds\n"
     ]
    },
    {
     "name": "stderr",
     "output_type": "stream",
     "text": [
      "100%|██████████| 268/268 [00:15<00:00, 16.99it/s]\n"
     ]
    },
    {
     "name": "stdout",
     "output_type": "stream",
     "text": [
      "epoch 8, loss 0.606, train_acc 0.702, valid_acc 0.691, taking 16 seconds\n"
     ]
    },
    {
     "name": "stderr",
     "output_type": "stream",
     "text": [
      "100%|██████████| 268/268 [00:15<00:00, 16.99it/s]\n"
     ]
    },
    {
     "name": "stdout",
     "output_type": "stream",
     "text": [
      "epoch 9, loss 0.606, train_acc 0.702, valid_acc 0.691, taking 16 seconds\n"
     ]
    },
    {
     "name": "stderr",
     "output_type": "stream",
     "text": [
      "100%|██████████| 268/268 [00:15<00:00, 17.21it/s]\n"
     ]
    },
    {
     "name": "stdout",
     "output_type": "stream",
     "text": [
      "epoch 10, loss 0.606, train_acc 0.702, valid_acc 0.691, taking 16 seconds\n"
     ]
    },
    {
     "name": "stderr",
     "output_type": "stream",
     "text": [
      "100%|██████████| 268/268 [00:15<00:00, 16.95it/s]\n"
     ]
    },
    {
     "name": "stdout",
     "output_type": "stream",
     "text": [
      "epoch 11, loss 0.606, train_acc 0.702, valid_acc 0.691, taking 17 seconds\n"
     ]
    },
    {
     "name": "stderr",
     "output_type": "stream",
     "text": [
      "100%|██████████| 268/268 [00:15<00:00, 17.23it/s]\n"
     ]
    },
    {
     "name": "stdout",
     "output_type": "stream",
     "text": [
      "epoch 12, loss 0.606, train_acc 0.702, valid_acc 0.691, taking 16 seconds\n"
     ]
    },
    {
     "name": "stderr",
     "output_type": "stream",
     "text": [
      "100%|██████████| 268/268 [00:15<00:00, 17.09it/s]\n"
     ]
    },
    {
     "name": "stdout",
     "output_type": "stream",
     "text": [
      "epoch 13, loss 0.606, train_acc 0.702, valid_acc 0.691, taking 16 seconds\n"
     ]
    },
    {
     "name": "stderr",
     "output_type": "stream",
     "text": [
      "100%|██████████| 268/268 [00:15<00:00, 17.17it/s]\n"
     ]
    },
    {
     "name": "stdout",
     "output_type": "stream",
     "text": [
      "epoch 14, loss 0.606, train_acc 0.702, valid_acc 0.691, taking 16 seconds\n"
     ]
    },
    {
     "name": "stderr",
     "output_type": "stream",
     "text": [
      "100%|██████████| 268/268 [00:15<00:00, 17.23it/s]\n"
     ]
    },
    {
     "name": "stdout",
     "output_type": "stream",
     "text": [
      "epoch 15, loss 0.606, train_acc 0.702, valid_acc 0.691, taking 16 seconds\n"
     ]
    },
    {
     "name": "stderr",
     "output_type": "stream",
     "text": [
      "100%|██████████| 268/268 [00:15<00:00, 16.98it/s]\n"
     ]
    },
    {
     "name": "stdout",
     "output_type": "stream",
     "text": [
      "epoch 16, loss 0.606, train_acc 0.702, valid_acc 0.691, taking 16 seconds\n"
     ]
    },
    {
     "name": "stderr",
     "output_type": "stream",
     "text": [
      "100%|██████████| 268/268 [00:15<00:00, 17.03it/s]\n"
     ]
    },
    {
     "name": "stdout",
     "output_type": "stream",
     "text": [
      "epoch 17, loss 0.606, train_acc 0.702, valid_acc 0.691, taking 16 seconds\n"
     ]
    },
    {
     "name": "stderr",
     "output_type": "stream",
     "text": [
      "100%|██████████| 268/268 [00:15<00:00, 17.05it/s]\n"
     ]
    },
    {
     "name": "stdout",
     "output_type": "stream",
     "text": [
      "epoch 18, loss 0.606, train_acc 0.702, valid_acc 0.691, taking 16 seconds\n"
     ]
    },
    {
     "name": "stderr",
     "output_type": "stream",
     "text": [
      "100%|██████████| 268/268 [00:15<00:00, 16.93it/s]\n"
     ]
    },
    {
     "name": "stdout",
     "output_type": "stream",
     "text": [
      "epoch 19, loss 0.606, train_acc 0.702, valid_acc 0.691, taking 17 seconds\n"
     ]
    },
    {
     "name": "stderr",
     "output_type": "stream",
     "text": [
      "100%|██████████| 268/268 [00:15<00:00, 17.47it/s]\n"
     ]
    },
    {
     "name": "stdout",
     "output_type": "stream",
     "text": [
      "epoch 20, loss 0.606, train_acc 0.702, valid_acc 0.691, taking 16 seconds\n"
     ]
    },
    {
     "name": "stderr",
     "output_type": "stream",
     "text": [
      "100%|██████████| 268/268 [00:15<00:00, 17.11it/s]\n"
     ]
    },
    {
     "name": "stdout",
     "output_type": "stream",
     "text": [
      "epoch 21, loss 0.606, train_acc 0.702, valid_acc 0.691, taking 16 seconds\n"
     ]
    },
    {
     "name": "stderr",
     "output_type": "stream",
     "text": [
      "100%|██████████| 268/268 [00:15<00:00, 17.43it/s]\n"
     ]
    },
    {
     "name": "stdout",
     "output_type": "stream",
     "text": [
      "epoch 22, loss 0.606, train_acc 0.702, valid_acc 0.691, taking 16 seconds\n"
     ]
    },
    {
     "name": "stderr",
     "output_type": "stream",
     "text": [
      "100%|██████████| 268/268 [00:15<00:00, 17.36it/s]\n"
     ]
    },
    {
     "name": "stdout",
     "output_type": "stream",
     "text": [
      "epoch 23, loss 0.606, train_acc 0.702, valid_acc 0.691, taking 16 seconds\n"
     ]
    },
    {
     "name": "stderr",
     "output_type": "stream",
     "text": [
      "100%|██████████| 268/268 [00:15<00:00, 17.12it/s]\n"
     ]
    },
    {
     "name": "stdout",
     "output_type": "stream",
     "text": [
      "epoch 24, loss 0.606, train_acc 0.702, valid_acc 0.691, taking 16 seconds\n"
     ]
    },
    {
     "name": "stderr",
     "output_type": "stream",
     "text": [
      "100%|██████████| 268/268 [00:15<00:00, 17.21it/s]\n"
     ]
    },
    {
     "name": "stdout",
     "output_type": "stream",
     "text": [
      "epoch 25, loss 0.606, train_acc 0.702, valid_acc 0.691, taking 16 seconds\n"
     ]
    },
    {
     "name": "stderr",
     "output_type": "stream",
     "text": [
      "100%|██████████| 268/268 [00:15<00:00, 17.37it/s]\n"
     ]
    },
    {
     "name": "stdout",
     "output_type": "stream",
     "text": [
      "epoch 26, loss 0.606, train_acc 0.702, valid_acc 0.691, taking 16 seconds\n"
     ]
    },
    {
     "name": "stderr",
     "output_type": "stream",
     "text": [
      "100%|██████████| 268/268 [00:15<00:00, 17.31it/s]\n"
     ]
    },
    {
     "name": "stdout",
     "output_type": "stream",
     "text": [
      "epoch 27, loss 0.606, train_acc 0.702, valid_acc 0.691, taking 16 seconds\n"
     ]
    },
    {
     "name": "stderr",
     "output_type": "stream",
     "text": [
      "100%|██████████| 268/268 [00:15<00:00, 17.21it/s]\n"
     ]
    },
    {
     "name": "stdout",
     "output_type": "stream",
     "text": [
      "epoch 28, loss 0.606, train_acc 0.702, valid_acc 0.691, taking 16 seconds\n"
     ]
    },
    {
     "name": "stderr",
     "output_type": "stream",
     "text": [
      "100%|██████████| 268/268 [00:15<00:00, 17.28it/s]\n"
     ]
    },
    {
     "name": "stdout",
     "output_type": "stream",
     "text": [
      "epoch 29, loss 0.606, train_acc 0.702, valid_acc 0.691, taking 16 seconds\n"
     ]
    },
    {
     "name": "stderr",
     "output_type": "stream",
     "text": [
      "100%|██████████| 268/268 [00:15<00:00, 17.32it/s]\n"
     ]
    },
    {
     "name": "stdout",
     "output_type": "stream",
     "text": [
      "epoch 30, loss 0.606, train_acc 0.702, valid_acc 0.691, taking 16 seconds\n",
      "Training is finished.\n",
      "训练损失:0.606, 训练集准确率:0.702 验证集准确率:0.691\n",
      "在设备cuda:0上训练30周期 耗时482 秒\n"
     ]
    }
   ],
   "source": [
    "# 以‘微调’的模式进行训练\n",
    "# activation function: nn.ReLU(), 30 epochs\n",
    "# 6,218,906 total parameters.\n",
    "# num_epochs = 10\n",
    "loss = nn.CrossEntropyLoss(reduction='none')\n",
    "forward_params = [\n",
    "    param for name, param in net.named_parameters()\n",
    "    if name != \"embedding.weight\"]\n",
    "# trainer = torch.optim.Adam(\n",
    "#     [{'params': net.embedding.parameters()},\n",
    "#     {'params': forward_params,\n",
    "#     'lr': lr * 10}], lr=lr)\n",
    "trainer = torch.optim.SGD(forward_params, lr)\n",
    "net.to(device)\n",
    "\n",
    "num_batches = len(train_iter)\n",
    "losses, train_accuracy, valid_accuracy = [], [], []\n",
    "total_start = time.time()\n",
    "for epoch in range(num_epochs):\n",
    "    train_loss, train_acc = 0, 0\n",
    "    start_time = time.perf_counter()\n",
    "    net.train()\n",
    "    for index, data in tqdm(enumerate(train_iter), total=num_batches, leave=True):\n",
    "        (tokens, valid_len), y = data\n",
    "        tokens, valid_len = [v.to(device) for v in (tokens, valid_len)]\n",
    "        y = y.to(device)\n",
    "        l = loss(net(tokens, valid_len), y)\n",
    "        trainer.zero_grad()\n",
    "        l.sum().backward()\n",
    "        trainer.step()\n",
    "        train_loss += l.sum().cpu().detach().numpy() / batch_size\n",
    "        train_acc += d2l.accuracy(net(tokens, valid_len), y) / batch_size\n",
    "    epochloss, epochtrain = train_loss / num_batches, train_acc / num_batches\n",
    "    epochvalid = evaluate_accuracy_gpu(net, valid_iter, device)\n",
    "    end_time = time.perf_counter()\n",
    "    print(f'epoch {epoch + 1}, loss {epochloss:.3f}, '\n",
    "          f'train_acc {epochtrain:.3f}, valid_acc {epochvalid:.3f}, '\n",
    "          f'taking {round(end_time - start_time)} seconds')\n",
    "    losses.append(epochloss)\n",
    "    train_accuracy.append(epochtrain)\n",
    "    valid_accuracy.append(epochvalid)\n",
    "total_timecost = round(time.time() - total_start)\n",
    "print('Training is finished.')\n",
    "print(f'训练损失:{losses[-1]:.3f}, 训练集准确率:{train_accuracy[-1]:.3f} '\n",
    "      f'验证集准确率:{valid_accuracy[-1]:.3f}\\n'\n",
    "      f'在设备{device}上训练{num_epochs}周期 耗时{total_timecost} 秒')"
   ]
  },
  {
   "cell_type": "code",
   "execution_count": 40,
   "id": "5968a543-8580-4984-bd6b-9279d625b221",
   "metadata": {},
   "outputs": [
    {
     "data": {
      "image/png": "[encoded data removed]",
      "text/plain": [
       "<Figure size 640x480 with 1 Axes>"
      ]
     },
     "metadata": {},
     "output_type": "display_data"
    }
   ],
   "source": [
    "fig = plt.figure()\n",
    "plt.title('train loss and accuracy')\n",
    "plt.axis([0, num_epochs, 0, 1])\n",
    "epochs = np.arange(1, num_epochs + 1)\n",
    "# losses, train_accuracy, test_accuracy, validation_accuracy\n",
    "plt.plot(epochs, losses, 'r.-', label='loss')\n",
    "plt.plot(epochs, train_accuracy, 'g-', label='train_acc')\n",
    "plt.plot(epochs, valid_accuracy, 'b-.', label='test_acc')\n",
    "# plt.plot(epochs, validation_accuracy, 'y-.', label='valid_acc')\n",
    "plt.grid()\n",
    "plt.legend(loc='best', frameon=False)\n",
    "plt.show()"
   ]
  },
  {
   "cell_type": "code",
   "execution_count": 18,
   "id": "640605b7-2aea-4377-95db-9af86532538f",
   "metadata": {},
   "outputs": [],
   "source": [
    "torch.cuda.empty_cache()\n",
    "# torch.cuda.memory_summary()\n",
    "# !nvidia-smi"
   ]
  },
  {
   "cell_type": "markdown",
   "id": "de328bf9-ab3c-472b-93eb-554affdcb587",
   "metadata": {},
   "source": [
    "# 正式训练2 (包含所有词元)"
   ]
  },
  {
   "cell_type": "code",
   "execution_count": null,
   "id": "25d37704-d74d-4955-b0de-4026a259bc35",
   "metadata": {},
   "outputs": [],
   "source": [
    "# 以‘微调’的模式进行训练\n",
    "# activation function: nn.ReLU(), 30 epochs\n",
    "# 8,241,818 total parameters.\n",
    "# num_epochs = 10\n",
    "loss = nn.CrossEntropyLoss(reduction='none')\n",
    "forward_params = [\n",
    "    param for name, param in net.named_parameters()\n",
    "    if name != \"embedding.weight\"]\n",
    "trainer = torch.optim.Adam(\n",
    "    [{'params': net.embedding.parameters()},\n",
    "    {'params': forward_params,\n",
    "    'lr': lr * 10}], lr=lr)\n",
    "net.to(device)\n",
    "\n",
    "num_batches = len(train_iter)\n",
    "losses, train_accuracy, valid_accuracy = [], [], []\n",
    "total_start = time.time()\n",
    "for epoch in range(num_epochs):\n",
    "    train_loss, train_acc = 0, 0\n",
    "    start_time = time.perf_counter()\n",
    "    net.train()\n",
    "    for index, data in tqdm(enumerate(train_iter), total=num_batches, leave=True):\n",
    "        (tokens, valid_len), y = data\n",
    "        tokens, valid_len = [v.to(device) for v in (tokens, valid_len)]\n",
    "        y = y.to(device)\n",
    "        l = loss(net(tokens, valid_len), y)\n",
    "        trainer.zero_grad()\n",
    "        l.sum().backward()\n",
    "        trainer.step()\n",
    "        train_loss += l.sum().cpu().detach().numpy() / batch_size\n",
    "        train_acc += d2l.accuracy(net(tokens, valid_len), y) / batch_size\n",
    "    epochloss, epochtrain = train_loss / num_batches, train_acc / num_batches\n",
    "    epochvalid = evaluate_accuracy_gpu(net, valid_iter, device)\n",
    "    end_time = time.perf_counter()\n",
    "    print(f'epoch {epoch + 1}, loss {epochloss:.3f}, '\n",
    "          f'train_acc {epochtrain:.3f}, valid_acc {epochvalid:.3f}, '\n",
    "          f'taking {round(end_time - start_time)} seconds')\n",
    "    losses.append(epochloss)\n",
    "    train_accuracy.append(epochtrain)\n",
    "    valid_accuracy.append(epochvalid)\n",
    "total_timecost = round(time.time() - total_start)\n",
    "print('Training is finished.')\n",
    "print(f'训练损失:{losses[-1]:.3f}, 训练集准确率:{train_accuracy[-1]:.3f} '\n",
    "      f'验证集准确率:{valid_accuracy[-1]:.3f}\\n'\n",
    "      f'在设备{device}上训练{num_epochs}周期 耗时{total_timecost} 秒')"
   ]
  },
  {
   "cell_type": "code",
   "execution_count": 45,
   "id": "20136ef4-e9bf-4f0f-a7e2-d6f39565d57f",
   "metadata": {},
   "outputs": [
    {
     "data": {
      "image/png": "[encoded data removed]",
      "text/plain": [
       "<Figure size 640x480 with 1 Axes>"
      ]
     },
     "metadata": {},
     "output_type": "display_data"
    }
   ],
   "source": [
    "fig = plt.figure()\n",
    "plt.title('train loss and accuracy')\n",
    "plt.axis([0, num_epochs, 0, 1])\n",
    "epochs = np.arange(1, num_epochs + 1)\n",
    "# losses, train_accuracy, test_accuracy, validation_accuracy\n",
    "plt.plot(epochs, losses, 'r.-', label='loss')\n",
    "plt.plot(epochs, train_accuracy, 'g-', label='train_acc')\n",
    "plt.plot(epochs, valid_accuracy, 'b-.', label='test_acc')\n",
    "# plt.plot(epochs, validation_accuracy, 'y-.', label='valid_acc')\n",
    "plt.grid()\n",
    "plt.legend(loc='best', frameon=False)\n",
    "plt.show()"
   ]
  },
  {
   "cell_type": "code",
   "execution_count": 17,
   "id": "a91f9ddb-78ac-4a7b-99f6-4427d7251bfd",
   "metadata": {},
   "outputs": [
    {
     "name": "stderr",
     "output_type": "stream",
     "text": [
      "  2%|▏         | 11/535 [00:02<03:27,  2.52it/s]"
     ]
    },
    {
     "name": "stdout",
     "output_type": "stream",
     "text": [
      "loss 0.791, train_acc 0.588, valid_acc 0.691\n"
     ]
    },
    {
     "name": "stderr",
     "output_type": "stream",
     "text": [
      "  4%|▍         | 22/535 [00:05<02:29,  3.43it/s]"
     ]
    },
    {
     "name": "stdout",
     "output_type": "stream",
     "text": [
      "loss 0.608, train_acc 0.725, valid_acc 0.691\n"
     ]
    },
    {
     "name": "stderr",
     "output_type": "stream",
     "text": [
      "  6%|▌         | 30/535 [00:07<02:51,  2.94it/s]"
     ]
    },
    {
     "name": "stdout",
     "output_type": "stream",
     "text": [
      "loss 0.623, train_acc 0.706, valid_acc 0.691\n"
     ]
    },
    {
     "name": "stderr",
     "output_type": "stream",
     "text": [
      "  8%|▊         | 42/535 [00:09<02:04,  3.95it/s]"
     ]
    },
    {
     "name": "stdout",
     "output_type": "stream",
     "text": [
      "loss 0.601, train_acc 0.719, valid_acc 0.691\n"
     ]
    },
    {
     "name": "stderr",
     "output_type": "stream",
     "text": [
      " 10%|▉         | 52/535 [00:11<02:14,  3.59it/s]"
     ]
    },
    {
     "name": "stdout",
     "output_type": "stream",
     "text": [
      "loss 0.617, train_acc 0.713, valid_acc 0.691\n"
     ]
    },
    {
     "name": "stderr",
     "output_type": "stream",
     "text": [
      " 12%|█▏        | 62/535 [00:14<02:05,  3.77it/s]"
     ]
    },
    {
     "name": "stdout",
     "output_type": "stream",
     "text": [
      "loss 0.621, train_acc 0.700, valid_acc 0.691\n"
     ]
    },
    {
     "name": "stderr",
     "output_type": "stream",
     "text": [
      " 13%|█▎        | 71/535 [00:16<02:30,  3.09it/s]"
     ]
    },
    {
     "name": "stdout",
     "output_type": "stream",
     "text": [
      "loss 0.695, train_acc 0.694, valid_acc 0.691\n"
     ]
    },
    {
     "name": "stderr",
     "output_type": "stream",
     "text": [
      " 15%|█▌        | 81/535 [00:18<02:54,  2.60it/s]"
     ]
    },
    {
     "name": "stdout",
     "output_type": "stream",
     "text": [
      "loss 0.575, train_acc 0.750, valid_acc 0.691\n"
     ]
    },
    {
     "name": "stderr",
     "output_type": "stream",
     "text": [
      " 17%|█▋        | 92/535 [00:21<02:17,  3.22it/s]"
     ]
    },
    {
     "name": "stdout",
     "output_type": "stream",
     "text": [
      "loss 0.598, train_acc 0.725, valid_acc 0.691\n"
     ]
    },
    {
     "name": "stderr",
     "output_type": "stream",
     "text": [
      " 19%|█▉        | 102/535 [00:24<02:10,  3.31it/s]"
     ]
    },
    {
     "name": "stdout",
     "output_type": "stream",
     "text": [
      "loss 0.665, train_acc 0.662, valid_acc 0.691\n"
     ]
    },
    {
     "name": "stderr",
     "output_type": "stream",
     "text": [
      " 21%|██        | 111/535 [00:26<02:32,  2.79it/s]"
     ]
    },
    {
     "name": "stdout",
     "output_type": "stream",
     "text": [
      "loss 0.625, train_acc 0.700, valid_acc 0.691\n"
     ]
    },
    {
     "name": "stderr",
     "output_type": "stream",
     "text": [
      " 23%|██▎       | 122/535 [00:28<01:59,  3.46it/s]"
     ]
    },
    {
     "name": "stdout",
     "output_type": "stream",
     "text": [
      "loss 0.588, train_acc 0.738, valid_acc 0.691\n"
     ]
    },
    {
     "name": "stderr",
     "output_type": "stream",
     "text": [
      " 25%|██▍       | 132/535 [00:31<01:59,  3.38it/s]"
     ]
    },
    {
     "name": "stdout",
     "output_type": "stream",
     "text": [
      "loss 0.680, train_acc 0.600, valid_acc 0.691\n"
     ]
    },
    {
     "name": "stderr",
     "output_type": "stream",
     "text": [
      " 27%|██▋       | 142/535 [00:34<01:54,  3.42it/s]"
     ]
    },
    {
     "name": "stdout",
     "output_type": "stream",
     "text": [
      "loss 0.572, train_acc 0.756, valid_acc 0.691\n"
     ]
    },
    {
     "name": "stderr",
     "output_type": "stream",
     "text": [
      " 29%|██▊       | 153/535 [00:36<01:35,  4.00it/s]"
     ]
    },
    {
     "name": "stdout",
     "output_type": "stream",
     "text": [
      "loss 0.585, train_acc 0.738, valid_acc 0.691\n"
     ]
    },
    {
     "name": "stderr",
     "output_type": "stream",
     "text": [
      " 30%|███       | 162/535 [00:38<01:41,  3.67it/s]"
     ]
    },
    {
     "name": "stdout",
     "output_type": "stream",
     "text": [
      "loss 0.609, train_acc 0.725, valid_acc 0.691\n"
     ]
    },
    {
     "name": "stderr",
     "output_type": "stream",
     "text": [
      " 32%|███▏      | 172/535 [00:41<01:45,  3.46it/s]"
     ]
    },
    {
     "name": "stdout",
     "output_type": "stream",
     "text": [
      "loss 0.593, train_acc 0.731, valid_acc 0.691\n"
     ]
    },
    {
     "name": "stderr",
     "output_type": "stream",
     "text": [
      " 34%|███▍      | 182/535 [00:43<01:41,  3.48it/s]"
     ]
    },
    {
     "name": "stdout",
     "output_type": "stream",
     "text": [
      "loss 0.633, train_acc 0.713, valid_acc 0.691\n"
     ]
    },
    {
     "name": "stderr",
     "output_type": "stream",
     "text": [
      " 36%|███▌      | 192/535 [00:45<01:30,  3.81it/s]"
     ]
    },
    {
     "name": "stdout",
     "output_type": "stream",
     "text": [
      "loss 0.620, train_acc 0.706, valid_acc 0.691\n"
     ]
    },
    {
     "name": "stderr",
     "output_type": "stream",
     "text": [
      " 38%|███▊      | 203/535 [00:48<01:24,  3.93it/s]"
     ]
    },
    {
     "name": "stdout",
     "output_type": "stream",
     "text": [
      "loss 0.643, train_acc 0.688, valid_acc 0.691\n"
     ]
    },
    {
     "name": "stderr",
     "output_type": "stream",
     "text": [
      " 39%|███▉      | 211/535 [00:50<01:58,  2.74it/s]"
     ]
    },
    {
     "name": "stdout",
     "output_type": "stream",
     "text": [
      "loss 0.625, train_acc 0.700, valid_acc 0.691\n"
     ]
    },
    {
     "name": "stderr",
     "output_type": "stream",
     "text": [
      " 41%|████▏     | 221/535 [00:52<02:00,  2.60it/s]"
     ]
    },
    {
     "name": "stdout",
     "output_type": "stream",
     "text": [
      "loss 0.586, train_acc 0.750, valid_acc 0.691\n"
     ]
    },
    {
     "name": "stderr",
     "output_type": "stream",
     "text": [
      " 43%|████▎     | 231/535 [00:55<02:01,  2.50it/s]"
     ]
    },
    {
     "name": "stdout",
     "output_type": "stream",
     "text": [
      "loss 0.666, train_acc 0.644, valid_acc 0.691\n"
     ]
    },
    {
     "name": "stderr",
     "output_type": "stream",
     "text": [
      " 45%|████▌     | 241/535 [00:57<01:39,  2.97it/s]"
     ]
    },
    {
     "name": "stdout",
     "output_type": "stream",
     "text": [
      "loss 0.618, train_acc 0.706, valid_acc 0.691\n"
     ]
    },
    {
     "name": "stderr",
     "output_type": "stream",
     "text": [
      " 47%|████▋     | 252/535 [01:00<01:18,  3.62it/s]"
     ]
    },
    {
     "name": "stdout",
     "output_type": "stream",
     "text": [
      "loss 0.596, train_acc 0.725, valid_acc 0.691\n"
     ]
    },
    {
     "name": "stderr",
     "output_type": "stream",
     "text": [
      " 49%|████▉     | 262/535 [01:02<01:18,  3.50it/s]"
     ]
    },
    {
     "name": "stdout",
     "output_type": "stream",
     "text": [
      "loss 0.535, train_acc 0.781, valid_acc 0.691\n"
     ]
    },
    {
     "name": "stderr",
     "output_type": "stream",
     "text": [
      " 51%|█████     | 272/535 [01:04<01:14,  3.51it/s]"
     ]
    },
    {
     "name": "stdout",
     "output_type": "stream",
     "text": [
      "loss 0.625, train_acc 0.700, valid_acc 0.691\n"
     ]
    },
    {
     "name": "stderr",
     "output_type": "stream",
     "text": [
      " 53%|█████▎    | 282/535 [01:07<01:17,  3.28it/s]"
     ]
    },
    {
     "name": "stdout",
     "output_type": "stream",
     "text": [
      "loss 0.654, train_acc 0.662, valid_acc 0.691\n"
     ]
    },
    {
     "name": "stderr",
     "output_type": "stream",
     "text": [
      " 55%|█████▍    | 292/535 [01:09<01:09,  3.49it/s]"
     ]
    },
    {
     "name": "stdout",
     "output_type": "stream",
     "text": [
      "loss 0.623, train_acc 0.694, valid_acc 0.691\n"
     ]
    },
    {
     "name": "stderr",
     "output_type": "stream",
     "text": [
      " 57%|█████▋    | 303/535 [01:12<01:00,  3.84it/s]"
     ]
    },
    {
     "name": "stdout",
     "output_type": "stream",
     "text": [
      "loss 0.642, train_acc 0.706, valid_acc 0.691\n"
     ]
    },
    {
     "name": "stderr",
     "output_type": "stream",
     "text": [
      " 59%|█████▊    | 314/535 [01:14<00:49,  4.44it/s]"
     ]
    },
    {
     "name": "stdout",
     "output_type": "stream",
     "text": [
      "loss 0.607, train_acc 0.719, valid_acc 0.691\n"
     ]
    },
    {
     "name": "stderr",
     "output_type": "stream",
     "text": [
      " 60%|██████    | 321/535 [01:16<01:04,  3.30it/s]"
     ]
    },
    {
     "name": "stdout",
     "output_type": "stream",
     "text": [
      "loss 0.596, train_acc 0.725, valid_acc 0.691\n"
     ]
    },
    {
     "name": "stderr",
     "output_type": "stream",
     "text": [
      " 62%|██████▏   | 331/535 [01:18<01:13,  2.78it/s]"
     ]
    },
    {
     "name": "stdout",
     "output_type": "stream",
     "text": [
      "loss 0.615, train_acc 0.700, valid_acc 0.691\n"
     ]
    },
    {
     "name": "stderr",
     "output_type": "stream",
     "text": [
      " 64%|██████▍   | 344/535 [01:21<00:42,  4.48it/s]"
     ]
    },
    {
     "name": "stdout",
     "output_type": "stream",
     "text": [
      "loss 0.571, train_acc 0.762, valid_acc 0.691\n"
     ]
    },
    {
     "name": "stderr",
     "output_type": "stream",
     "text": [
      " 66%|██████▌   | 352/535 [01:23<00:51,  3.53it/s]"
     ]
    },
    {
     "name": "stdout",
     "output_type": "stream",
     "text": [
      "loss 0.517, train_acc 0.794, valid_acc 0.691\n"
     ]
    },
    {
     "name": "stderr",
     "output_type": "stream",
     "text": [
      " 68%|██████▊   | 362/535 [01:25<00:48,  3.60it/s]"
     ]
    },
    {
     "name": "stdout",
     "output_type": "stream",
     "text": [
      "loss 0.646, train_acc 0.669, valid_acc 0.691\n"
     ]
    },
    {
     "name": "stderr",
     "output_type": "stream",
     "text": [
      " 70%|██████▉   | 373/535 [01:28<00:38,  4.19it/s]"
     ]
    },
    {
     "name": "stdout",
     "output_type": "stream",
     "text": [
      "loss 0.582, train_acc 0.738, valid_acc 0.691\n"
     ]
    },
    {
     "name": "stderr",
     "output_type": "stream",
     "text": [
      " 72%|███████▏  | 383/535 [01:30<00:38,  3.98it/s]"
     ]
    },
    {
     "name": "stdout",
     "output_type": "stream",
     "text": [
      "loss 0.599, train_acc 0.719, valid_acc 0.691\n"
     ]
    },
    {
     "name": "stderr",
     "output_type": "stream",
     "text": [
      " 73%|███████▎  | 391/535 [01:32<00:52,  2.75it/s]"
     ]
    },
    {
     "name": "stdout",
     "output_type": "stream",
     "text": [
      "loss 0.629, train_acc 0.688, valid_acc 0.691\n"
     ]
    },
    {
     "name": "stderr",
     "output_type": "stream",
     "text": [
      " 75%|███████▌  | 403/535 [01:34<00:36,  3.65it/s]"
     ]
    },
    {
     "name": "stdout",
     "output_type": "stream",
     "text": [
      "loss 0.627, train_acc 0.688, valid_acc 0.691\n"
     ]
    },
    {
     "name": "stderr",
     "output_type": "stream",
     "text": [
      " 77%|███████▋  | 413/535 [01:37<00:31,  3.92it/s]"
     ]
    },
    {
     "name": "stdout",
     "output_type": "stream",
     "text": [
      "loss 0.661, train_acc 0.644, valid_acc 0.691\n"
     ]
    },
    {
     "name": "stderr",
     "output_type": "stream",
     "text": [
      " 79%|███████▉  | 422/535 [01:39<00:30,  3.77it/s]"
     ]
    },
    {
     "name": "stdout",
     "output_type": "stream",
     "text": [
      "loss 0.623, train_acc 0.694, valid_acc 0.691\n"
     ]
    },
    {
     "name": "stderr",
     "output_type": "stream",
     "text": [
      " 81%|████████  | 432/535 [01:41<00:29,  3.49it/s]"
     ]
    },
    {
     "name": "stdout",
     "output_type": "stream",
     "text": [
      "loss 0.667, train_acc 0.656, valid_acc 0.691\n"
     ]
    },
    {
     "name": "stderr",
     "output_type": "stream",
     "text": [
      " 83%|████████▎ | 442/535 [01:43<00:24,  3.85it/s]"
     ]
    },
    {
     "name": "stdout",
     "output_type": "stream",
     "text": [
      "loss 0.575, train_acc 0.744, valid_acc 0.691\n"
     ]
    },
    {
     "name": "stderr",
     "output_type": "stream",
     "text": [
      " 85%|████████▍ | 453/535 [01:46<00:20,  3.97it/s]"
     ]
    },
    {
     "name": "stdout",
     "output_type": "stream",
     "text": [
      "loss 0.673, train_acc 0.669, valid_acc 0.691\n"
     ]
    },
    {
     "name": "stderr",
     "output_type": "stream",
     "text": [
      " 86%|████████▌ | 461/535 [01:48<00:29,  2.55it/s]"
     ]
    },
    {
     "name": "stdout",
     "output_type": "stream",
     "text": [
      "loss 0.569, train_acc 0.756, valid_acc 0.691\n"
     ]
    },
    {
     "name": "stderr",
     "output_type": "stream",
     "text": [
      " 88%|████████▊ | 472/535 [01:50<00:18,  3.43it/s]"
     ]
    },
    {
     "name": "stdout",
     "output_type": "stream",
     "text": [
      "loss 0.600, train_acc 0.719, valid_acc 0.691\n"
     ]
    },
    {
     "name": "stderr",
     "output_type": "stream",
     "text": [
      " 90%|█████████ | 482/535 [01:53<00:15,  3.46it/s]"
     ]
    },
    {
     "name": "stdout",
     "output_type": "stream",
     "text": [
      "loss 0.606, train_acc 0.713, valid_acc 0.691\n"
     ]
    },
    {
     "name": "stderr",
     "output_type": "stream",
     "text": [
      " 92%|█████████▏| 492/535 [01:55<00:13,  3.26it/s]"
     ]
    },
    {
     "name": "stdout",
     "output_type": "stream",
     "text": [
      "loss 0.661, train_acc 0.650, valid_acc 0.691\n"
     ]
    },
    {
     "name": "stderr",
     "output_type": "stream",
     "text": [
      " 94%|█████████▍| 502/535 [01:58<00:09,  3.52it/s]"
     ]
    },
    {
     "name": "stdout",
     "output_type": "stream",
     "text": [
      "loss 0.668, train_acc 0.662, valid_acc 0.591\n"
     ]
    },
    {
     "name": "stderr",
     "output_type": "stream",
     "text": [
      " 96%|█████████▌| 511/535 [02:00<00:07,  3.06it/s]"
     ]
    },
    {
     "name": "stdout",
     "output_type": "stream",
     "text": [
      "loss 0.630, train_acc 0.688, valid_acc 0.691\n"
     ]
    },
    {
     "name": "stderr",
     "output_type": "stream",
     "text": [
      " 98%|█████████▊| 522/535 [02:03<00:03,  3.35it/s]"
     ]
    },
    {
     "name": "stdout",
     "output_type": "stream",
     "text": [
      "loss 0.657, train_acc 0.644, valid_acc 0.691\n"
     ]
    },
    {
     "name": "stderr",
     "output_type": "stream",
     "text": [
      "100%|█████████▉| 533/535 [02:05<00:00,  3.72it/s]"
     ]
    },
    {
     "name": "stdout",
     "output_type": "stream",
     "text": [
      "loss 0.649, train_acc 0.650, valid_acc 0.691\n"
     ]
    },
    {
     "name": "stderr",
     "output_type": "stream",
     "text": [
      "100%|██████████| 535/535 [02:05<00:00,  4.25it/s]"
     ]
    },
    {
     "name": "stdout",
     "output_type": "stream",
     "text": [
      "Training is finished.\n",
      "训练损失:0.649, 训练集准确率:0.650 验证集准确率:0.691\n",
      "在设备cuda:0上训练10周期 耗时126 秒\n"
     ]
    },
    {
     "name": "stderr",
     "output_type": "stream",
     "text": [
      "\n"
     ]
    }
   ],
   "source": [
    "# 以‘微调’的模式进行训练\n",
    "# activation function: nn.ReLU(), 30 epochs\n",
    "# 8,241,818 total parameters.\n",
    "lr = 5e-5\n",
    "loss = nn.CrossEntropyLoss(reduction='none')\n",
    "forward_params = [\n",
    "    param for name, param in net.named_parameters()\n",
    "    if name != \"embedding.weight\"]\n",
    "trainer = torch.optim.SGD(forward_params, lr=lr)\n",
    "# trainer = torch.optim.Adam(\n",
    "#     [{'params': net.embedding.parameters()},\n",
    "#     {'params': forward_params,\n",
    "#     'lr': lr * 10}], lr=lr)\n",
    "\n",
    "net.to(device)\n",
    "\n",
    "num_batches = len(train_iter)\n",
    "losses, train_accuracy, valid_accuracy = [], [], []\n",
    "total_start = time.time()\n",
    "\n",
    "train_loss, train_acc = 0, 0\n",
    "start_time = time.perf_counter()\n",
    "for index, data in tqdm(enumerate(train_iter), total=num_batches, leave=True):\n",
    "    (tokens, valid_len), y = data\n",
    "    tokens, valid_len = [v.to(device) for v in (tokens, valid_len)]\n",
    "    y = y.to(device)\n",
    "    l = loss(net(tokens, valid_len), y)\n",
    "    trainer.zero_grad()\n",
    "    l.sum().backward()\n",
    "    trainer.step()\n",
    "    train_loss += l.sum().cpu().detach().numpy() / batch_size\n",
    "    train_acc += d2l.accuracy(net(tokens, valid_len), y) / batch_size\n",
    "    if (index + 1) % 10 == 0:\n",
    "        epochloss, epochtrain = train_loss / 10, train_acc / 10\n",
    "        epochvalid = evaluate_accuracy_gpu(net, valid_iter, device)\n",
    "        print(f'loss {epochloss:.3f}, train_acc {epochtrain:.3f}, valid_acc {epochvalid:.3f}')\n",
    "        losses.append(epochloss)\n",
    "        train_accuracy.append(epochtrain)\n",
    "        valid_accuracy.append(epochvalid)\n",
    "        train_loss, train_acc = 0, 0\n",
    "# epochloss, epochtrain = train_loss / num_batches, train_acc / num_batches\n",
    "# epochvalid = evaluate_accuracy_gpu(net, valid_iter, device)\n",
    "# end_time = time.perf_counter()\n",
    "# print(f'epoch {epoch + 1}, loss {epochloss:.3f}, '\n",
    "#       f'train_acc {epochtrain:.3f}, valid_acc {epochvalid:.3f}, '\n",
    "#       f'taking {round(end_time - start_time)} seconds')\n",
    "# losses.append(epochloss)\n",
    "# train_accuracy.append(epochtrain)\n",
    "# valid_accuracy.append(epochvalid)\n",
    "\n",
    "total_timecost = round(time.time() - total_start)\n",
    "print('Training is finished.')\n",
    "print(f'训练损失:{losses[-1]:.3f}, 训练集准确率:{train_accuracy[-1]:.3f} '\n",
    "      f'验证集准确率:{valid_accuracy[-1]:.3f}\\n'\n",
    "      f'在设备{device}上训练{num_epochs}周期 耗时{total_timecost} 秒')"
   ]
  },
  {
   "cell_type": "markdown",
   "id": "84af3b5a-2a60-4a5f-a461-2b9cd3593b1f",
   "metadata": {},
   "source": [
    "# 对比训练(2层注意力块)"
   ]
  },
  {
   "cell_type": "code",
   "execution_count": 22,
   "id": "b98038a0-c614-4e98-87b1-7290244ee25a",
   "metadata": {},
   "outputs": [],
   "source": [
    "basenet.embedding.weight.data.copy_(get_embedding_weights(vocab, word2vecmodel, num_hiddens))\n",
    "basenet.embedding.weight.requires_grad = False"
   ]
  },
  {
   "cell_type": "code",
   "execution_count": 24,
   "id": "4709c034-3148-491a-8987-b96637a37f26",
   "metadata": {},
   "outputs": [
    {
     "data": {
      "text/plain": [
       "======================================================================\n",
       "Layer (type:depth-idx)                        Param #\n",
       "======================================================================\n",
       "TransformerEncoder                            --\n",
       "├─Embedding: 1-1                              (3,049,472)\n",
       "├─PositionalEncoding: 1-2                     --\n",
       "│    └─Dropout: 2-1                           --\n",
       "├─Sequential: 1-3                             --\n",
       "│    └─EncoderBlock: 2-2                      --\n",
       "│    │    └─MultiHeadAttention: 3-1           1,048,576\n",
       "│    │    └─AddNorm: 3-2                      1,024\n",
       "│    │    └─PositionWiseFFN: 3-3              2,099,712\n",
       "│    │    └─AddNorm: 3-4                      1,024\n",
       "├─Sequential: 1-4                             --\n",
       "│    └─Linear: 2-3                            262,656\n",
       "│    └─ReLU: 2-4                              --\n",
       "├─Linear: 1-5                                 1,026\n",
       "======================================================================\n",
       "Total params: 6,463,490\n",
       "Trainable params: 3,414,018\n",
       "Non-trainable params: 3,049,472\n",
       "======================================================================"
      ]
     },
     "execution_count": 24,
     "metadata": {},
     "output_type": "execute_result"
    }
   ],
   "source": [
    "summary(basenet)"
   ]
  },
  {
   "cell_type": "code",
   "execution_count": 25,
   "id": "90dc4ae8-0892-4699-9fdb-2c61e42aa2f3",
   "metadata": {},
   "outputs": [
    {
     "data": {
      "text/plain": [
       "TransformerEncoder(\n",
       "  (embedding): Embedding(5956, 512)\n",
       "  (pos_encoding): PositionalEncoding(\n",
       "    (dropout): Dropout(p=0.1, inplace=False)\n",
       "  )\n",
       "  (blks): Sequential(\n",
       "    (block0): EncoderBlock(\n",
       "      (attention): MultiHeadAttention(\n",
       "        (attention): DotProductAttention(\n",
       "          (dropout): Dropout(p=0.1, inplace=False)\n",
       "        )\n",
       "        (W_q): Linear(in_features=512, out_features=512, bias=False)\n",
       "        (W_k): Linear(in_features=512, out_features=512, bias=False)\n",
       "        (W_v): Linear(in_features=512, out_features=512, bias=False)\n",
       "        (W_o): Linear(in_features=512, out_features=512, bias=False)\n",
       "      )\n",
       "      (addnorm1): AddNorm(\n",
       "        (dropout): Dropout(p=0.1, inplace=False)\n",
       "        (ln): LayerNorm((512,), eps=1e-05, elementwise_affine=True)\n",
       "      )\n",
       "      (ffn): PositionWiseFFN(\n",
       "        (dense1): Linear(in_features=512, out_features=2048, bias=True)\n",
       "        (relu): ReLU()\n",
       "        (dense2): Linear(in_features=2048, out_features=512, bias=True)\n",
       "      )\n",
       "      (addnorm2): AddNorm(\n",
       "        (dropout): Dropout(p=0.1, inplace=False)\n",
       "        (ln): LayerNorm((512,), eps=1e-05, elementwise_affine=True)\n",
       "      )\n",
       "    )\n",
       "  )\n",
       "  (outhidden): Sequential(\n",
       "    (0): Linear(in_features=512, out_features=512, bias=True)\n",
       "    (1): ReLU()\n",
       "  )\n",
       "  (Dense): Linear(in_features=512, out_features=2, bias=True)\n",
       ")"
      ]
     },
     "execution_count": 25,
     "metadata": {},
     "output_type": "execute_result"
    }
   ],
   "source": [
    "# init_embedding_weights(basenet.embedding,\n",
    "#                        get_embedding_weights(vocab, model, num_hiddens))\n",
    "\n",
    "basenet.apply(xavier_init_weights)"
   ]
  },
  {
   "cell_type": "code",
   "execution_count": 57,
   "id": "775d1a7b-a1d2-47bd-ac9e-5fa70c95add9",
   "metadata": {},
   "outputs": [
    {
     "name": "stderr",
     "output_type": "stream",
     "text": [
      "100%|██████████| 268/268 [00:03<00:00, 75.56it/s]\n"
     ]
    },
    {
     "name": "stdout",
     "output_type": "stream",
     "text": [
      "epoch 1, loss 0.686, train_acc 0.667, valid_acc 0.691, taking 4 seconds\n"
     ]
    },
    {
     "name": "stderr",
     "output_type": "stream",
     "text": [
      "100%|██████████| 268/268 [00:03<00:00, 79.05it/s]\n"
     ]
    },
    {
     "name": "stdout",
     "output_type": "stream",
     "text": [
      "epoch 2, loss 0.632, train_acc 0.689, valid_acc 0.691, taking 3 seconds\n"
     ]
    },
    {
     "name": "stderr",
     "output_type": "stream",
     "text": [
      "100%|██████████| 268/268 [00:03<00:00, 74.76it/s]\n"
     ]
    },
    {
     "name": "stdout",
     "output_type": "stream",
     "text": [
      "epoch 3, loss 0.619, train_acc 0.697, valid_acc 0.691, taking 4 seconds\n"
     ]
    },
    {
     "name": "stderr",
     "output_type": "stream",
     "text": [
      "100%|██████████| 268/268 [00:03<00:00, 78.92it/s]\n"
     ]
    },
    {
     "name": "stdout",
     "output_type": "stream",
     "text": [
      "epoch 4, loss 0.613, train_acc 0.699, valid_acc 0.691, taking 3 seconds\n"
     ]
    },
    {
     "name": "stderr",
     "output_type": "stream",
     "text": [
      "100%|██████████| 268/268 [00:03<00:00, 78.46it/s]\n"
     ]
    },
    {
     "name": "stdout",
     "output_type": "stream",
     "text": [
      "epoch 5, loss 0.612, train_acc 0.702, valid_acc 0.691, taking 4 seconds\n"
     ]
    },
    {
     "name": "stderr",
     "output_type": "stream",
     "text": [
      "100%|██████████| 268/268 [00:03<00:00, 75.36it/s]\n"
     ]
    },
    {
     "name": "stdout",
     "output_type": "stream",
     "text": [
      "epoch 6, loss 0.609, train_acc 0.702, valid_acc 0.691, taking 4 seconds\n"
     ]
    },
    {
     "name": "stderr",
     "output_type": "stream",
     "text": [
      "100%|██████████| 268/268 [00:03<00:00, 78.70it/s]\n"
     ]
    },
    {
     "name": "stdout",
     "output_type": "stream",
     "text": [
      "epoch 7, loss 0.609, train_acc 0.702, valid_acc 0.691, taking 4 seconds\n"
     ]
    },
    {
     "name": "stderr",
     "output_type": "stream",
     "text": [
      "100%|██████████| 268/268 [00:03<00:00, 77.56it/s]\n"
     ]
    },
    {
     "name": "stdout",
     "output_type": "stream",
     "text": [
      "epoch 8, loss 0.607, train_acc 0.702, valid_acc 0.691, taking 4 seconds\n"
     ]
    },
    {
     "name": "stderr",
     "output_type": "stream",
     "text": [
      "100%|██████████| 268/268 [00:03<00:00, 78.35it/s]\n"
     ]
    },
    {
     "name": "stdout",
     "output_type": "stream",
     "text": [
      "epoch 9, loss 0.606, train_acc 0.702, valid_acc 0.691, taking 4 seconds\n"
     ]
    },
    {
     "name": "stderr",
     "output_type": "stream",
     "text": [
      "100%|██████████| 268/268 [00:03<00:00, 79.89it/s]\n"
     ]
    },
    {
     "name": "stdout",
     "output_type": "stream",
     "text": [
      "epoch 10, loss 0.606, train_acc 0.702, valid_acc 0.691, taking 3 seconds\n"
     ]
    },
    {
     "name": "stderr",
     "output_type": "stream",
     "text": [
      "100%|██████████| 268/268 [00:03<00:00, 78.30it/s]\n"
     ]
    },
    {
     "name": "stdout",
     "output_type": "stream",
     "text": [
      "epoch 11, loss 0.605, train_acc 0.702, valid_acc 0.691, taking 4 seconds\n"
     ]
    },
    {
     "name": "stderr",
     "output_type": "stream",
     "text": [
      "100%|██████████| 268/268 [00:03<00:00, 77.63it/s]\n"
     ]
    },
    {
     "name": "stdout",
     "output_type": "stream",
     "text": [
      "epoch 12, loss 0.606, train_acc 0.702, valid_acc 0.691, taking 4 seconds\n"
     ]
    },
    {
     "name": "stderr",
     "output_type": "stream",
     "text": [
      "100%|██████████| 268/268 [00:03<00:00, 79.54it/s]\n"
     ]
    },
    {
     "name": "stdout",
     "output_type": "stream",
     "text": [
      "epoch 13, loss 0.606, train_acc 0.702, valid_acc 0.691, taking 3 seconds\n"
     ]
    },
    {
     "name": "stderr",
     "output_type": "stream",
     "text": [
      "100%|██████████| 268/268 [00:03<00:00, 81.39it/s]\n"
     ]
    },
    {
     "name": "stdout",
     "output_type": "stream",
     "text": [
      "epoch 14, loss 0.607, train_acc 0.702, valid_acc 0.691, taking 3 seconds\n"
     ]
    },
    {
     "name": "stderr",
     "output_type": "stream",
     "text": [
      "100%|██████████| 268/268 [00:03<00:00, 79.63it/s]\n"
     ]
    },
    {
     "name": "stdout",
     "output_type": "stream",
     "text": [
      "epoch 15, loss 0.605, train_acc 0.702, valid_acc 0.691, taking 3 seconds\n"
     ]
    },
    {
     "name": "stderr",
     "output_type": "stream",
     "text": [
      "100%|██████████| 268/268 [00:03<00:00, 78.98it/s]\n"
     ]
    },
    {
     "name": "stdout",
     "output_type": "stream",
     "text": [
      "epoch 16, loss 0.606, train_acc 0.702, valid_acc 0.691, taking 3 seconds\n"
     ]
    },
    {
     "name": "stderr",
     "output_type": "stream",
     "text": [
      "100%|██████████| 268/268 [00:03<00:00, 79.27it/s]\n"
     ]
    },
    {
     "name": "stdout",
     "output_type": "stream",
     "text": [
      "epoch 17, loss 0.606, train_acc 0.702, valid_acc 0.691, taking 3 seconds\n"
     ]
    },
    {
     "name": "stderr",
     "output_type": "stream",
     "text": [
      "100%|██████████| 268/268 [00:03<00:00, 78.87it/s]\n"
     ]
    },
    {
     "name": "stdout",
     "output_type": "stream",
     "text": [
      "epoch 18, loss 0.605, train_acc 0.702, valid_acc 0.691, taking 3 seconds\n"
     ]
    },
    {
     "name": "stderr",
     "output_type": "stream",
     "text": [
      "100%|██████████| 268/268 [00:03<00:00, 78.68it/s]\n"
     ]
    },
    {
     "name": "stdout",
     "output_type": "stream",
     "text": [
      "epoch 19, loss 0.608, train_acc 0.702, valid_acc 0.691, taking 4 seconds\n"
     ]
    },
    {
     "name": "stderr",
     "output_type": "stream",
     "text": [
      "100%|██████████| 268/268 [00:03<00:00, 78.88it/s]\n"
     ]
    },
    {
     "name": "stdout",
     "output_type": "stream",
     "text": [
      "epoch 20, loss 0.605, train_acc 0.702, valid_acc 0.691, taking 3 seconds\n"
     ]
    },
    {
     "name": "stderr",
     "output_type": "stream",
     "text": [
      "100%|██████████| 268/268 [00:03<00:00, 78.72it/s]\n"
     ]
    },
    {
     "name": "stdout",
     "output_type": "stream",
     "text": [
      "epoch 21, loss 0.605, train_acc 0.702, valid_acc 0.691, taking 4 seconds\n"
     ]
    },
    {
     "name": "stderr",
     "output_type": "stream",
     "text": [
      "100%|██████████| 268/268 [00:03<00:00, 79.37it/s]\n"
     ]
    },
    {
     "name": "stdout",
     "output_type": "stream",
     "text": [
      "epoch 22, loss 0.607, train_acc 0.702, valid_acc 0.691, taking 3 seconds\n"
     ]
    },
    {
     "name": "stderr",
     "output_type": "stream",
     "text": [
      "100%|██████████| 268/268 [00:03<00:00, 76.74it/s]\n"
     ]
    },
    {
     "name": "stdout",
     "output_type": "stream",
     "text": [
      "epoch 23, loss 0.605, train_acc 0.702, valid_acc 0.691, taking 4 seconds\n"
     ]
    },
    {
     "name": "stderr",
     "output_type": "stream",
     "text": [
      "100%|██████████| 268/268 [00:03<00:00, 76.49it/s]\n"
     ]
    },
    {
     "name": "stdout",
     "output_type": "stream",
     "text": [
      "epoch 24, loss 0.606, train_acc 0.702, valid_acc 0.691, taking 4 seconds\n"
     ]
    },
    {
     "name": "stderr",
     "output_type": "stream",
     "text": [
      "100%|██████████| 268/268 [00:03<00:00, 78.46it/s]\n"
     ]
    },
    {
     "name": "stdout",
     "output_type": "stream",
     "text": [
      "epoch 25, loss 0.605, train_acc 0.702, valid_acc 0.691, taking 4 seconds\n"
     ]
    },
    {
     "name": "stderr",
     "output_type": "stream",
     "text": [
      "100%|██████████| 268/268 [00:03<00:00, 77.01it/s]\n"
     ]
    },
    {
     "name": "stdout",
     "output_type": "stream",
     "text": [
      "epoch 26, loss 0.605, train_acc 0.702, valid_acc 0.691, taking 4 seconds\n"
     ]
    },
    {
     "name": "stderr",
     "output_type": "stream",
     "text": [
      "100%|██████████| 268/268 [00:03<00:00, 79.12it/s]\n"
     ]
    },
    {
     "name": "stdout",
     "output_type": "stream",
     "text": [
      "epoch 27, loss 0.606, train_acc 0.702, valid_acc 0.691, taking 3 seconds\n"
     ]
    },
    {
     "name": "stderr",
     "output_type": "stream",
     "text": [
      "100%|██████████| 268/268 [00:03<00:00, 75.20it/s]\n"
     ]
    },
    {
     "name": "stdout",
     "output_type": "stream",
     "text": [
      "epoch 28, loss 0.605, train_acc 0.702, valid_acc 0.691, taking 4 seconds\n"
     ]
    },
    {
     "name": "stderr",
     "output_type": "stream",
     "text": [
      "100%|██████████| 268/268 [00:03<00:00, 79.45it/s]\n"
     ]
    },
    {
     "name": "stdout",
     "output_type": "stream",
     "text": [
      "epoch 29, loss 0.606, train_acc 0.702, valid_acc 0.691, taking 3 seconds\n"
     ]
    },
    {
     "name": "stderr",
     "output_type": "stream",
     "text": [
      "100%|██████████| 268/268 [00:03<00:00, 79.91it/s]\n"
     ]
    },
    {
     "name": "stdout",
     "output_type": "stream",
     "text": [
      "epoch 30, loss 0.605, train_acc 0.702, valid_acc 0.691, taking 3 seconds\n",
      "Training is finished.\n",
      "训练损失:0.605, 训练集准确率:0.702 验证集准确率:0.691\n",
      "在设备cuda:0上训练30周期 耗时106 秒\n"
     ]
    }
   ],
   "source": [
    "# 以‘微调’的模式进行训练\n",
    "# activation function: nn.ReLU(), 30 epochs\n",
    "# 9,613,826 total parameters.\n",
    "# num_epochs = 10\n",
    "loss = nn.CrossEntropyLoss(reduction='none')\n",
    "forward_params = [\n",
    "    param for name, param in basenet.named_parameters()\n",
    "    if name != \"embedding.weight\"]\n",
    "trainer = torch.optim.Adam(\n",
    "    [{'params': basenet.embedding.parameters()},\n",
    "    {'params': forward_params,\n",
    "    'lr': lr * 10}], lr=lr)\n",
    "basenet.to(device)\n",
    "\n",
    "num_batches = len(train_iter)\n",
    "losses, train_accuracy, valid_accuracy = [], [], []\n",
    "total_start = time.time()\n",
    "for epoch in range(num_epochs):\n",
    "    train_loss, train_acc = 0, 0\n",
    "    start_time = time.perf_counter()\n",
    "    basenet.train()\n",
    "    for index, data in tqdm(enumerate(train_iter), total=num_batches, leave=True):\n",
    "        (tokens, valid_len), y = data\n",
    "        tokens, valid_len = [v.to(device) for v in (tokens, valid_len)]\n",
    "        y = y.to(device)\n",
    "        l = loss(basenet(tokens, valid_len), y)\n",
    "        trainer.zero_grad()\n",
    "        l.sum().backward()\n",
    "        trainer.step()\n",
    "        train_loss += l.sum().cpu().detach().numpy() / batch_size\n",
    "        train_acc += d2l.accuracy(basenet(tokens, valid_len), y) / batch_size\n",
    "    epochloss, epochtrain = train_loss / num_batches, train_acc / num_batches\n",
    "    epochvalid = evaluate_accuracy_gpu(basenet, valid_iter, device)\n",
    "    end_time = time.perf_counter()\n",
    "    print(f'epoch {epoch + 1}, loss {epochloss:.3f}, '\n",
    "          f'train_acc {epochtrain:.3f}, valid_acc {epochvalid:.3f}, '\n",
    "          f'taking {round(end_time - start_time)} seconds')\n",
    "    losses.append(epochloss)\n",
    "    train_accuracy.append(epochtrain)\n",
    "    valid_accuracy.append(epochvalid)\n",
    "total_timecost = round(time.time() - total_start)\n",
    "print('Training is finished.')\n",
    "print(f'训练损失:{losses[-1]:.3f}, 训练集准确率:{train_accuracy[-1]:.3f} '\n",
    "      f'验证集准确率:{valid_accuracy[-1]:.3f}\\n'\n",
    "      f'在设备{device}上训练{num_epochs}周期 耗时{total_timecost} 秒')"
   ]
  },
  {
   "cell_type": "code",
   "execution_count": 58,
   "id": "e3b79db5-4e7d-4003-a880-c5e81474f661",
   "metadata": {},
   "outputs": [
    {
     "data": {
      "image/png": "[encoded data removed]",
      "text/plain": [
       "<Figure size 640x480 with 1 Axes>"
      ]
     },
     "metadata": {},
     "output_type": "display_data"
    }
   ],
   "source": [
    "fig = plt.figure()\n",
    "plt.title('train loss and accuracy')\n",
    "plt.axis([0, num_epochs, 0, 1])\n",
    "epochs = np.arange(1, num_epochs + 1)\n",
    "# losses, train_accuracy, test_accuracy, validation_accuracy\n",
    "plt.plot(epochs, losses, 'r.-', label='loss')\n",
    "plt.plot(epochs, train_accuracy, 'g-', label='train_acc')\n",
    "plt.plot(epochs, valid_accuracy, 'b-.', label='test_acc')\n",
    "# plt.plot(epochs, validation_accuracy, 'y-.', label='valid_acc')\n",
    "plt.grid()\n",
    "plt.legend(loc='best', frameon=False)\n",
    "plt.show()"
   ]
  },
  {
   "cell_type": "code",
   "execution_count": 26,
   "id": "c0f431a6-196b-4c75-b208-fdae322438a1",
   "metadata": {},
   "outputs": [
    {
     "name": "stderr",
     "output_type": "stream",
     "text": [
      "  2%|▏         | 10/535 [00:00<00:12, 42.64it/s]"
     ]
    },
    {
     "name": "stdout",
     "output_type": "stream",
     "text": [
      "loss 0.609, train_acc 0.713, valid_acc 0.691\n"
     ]
    },
    {
     "name": "stderr",
     "output_type": "stream",
     "text": [
      "  4%|▎         | 20/535 [00:00<00:13, 38.67it/s]"
     ]
    },
    {
     "name": "stdout",
     "output_type": "stream",
     "text": [
      "loss 0.625, train_acc 0.700, valid_acc 0.691\n"
     ]
    },
    {
     "name": "stderr",
     "output_type": "stream",
     "text": [
      "  7%|▋         | 40/535 [00:00<00:10, 45.26it/s]"
     ]
    },
    {
     "name": "stdout",
     "output_type": "stream",
     "text": [
      "loss 0.540, train_acc 0.775, valid_acc 0.691\n",
      "loss 0.604, train_acc 0.713, valid_acc 0.691\n"
     ]
    },
    {
     "name": "stderr",
     "output_type": "stream",
     "text": [
      "  9%|▉         | 50/535 [00:01<00:10, 45.99it/s]"
     ]
    },
    {
     "name": "stdout",
     "output_type": "stream",
     "text": [
      "loss 0.626, train_acc 0.700, valid_acc 0.691\n"
     ]
    },
    {
     "name": "stderr",
     "output_type": "stream",
     "text": [
      " 11%|█         | 60/535 [00:01<00:10, 44.69it/s]"
     ]
    },
    {
     "name": "stdout",
     "output_type": "stream",
     "text": [
      "loss 0.619, train_acc 0.706, valid_acc 0.691\n"
     ]
    },
    {
     "name": "stderr",
     "output_type": "stream",
     "text": [
      " 13%|█▎        | 70/535 [00:01<00:10, 44.49it/s]"
     ]
    },
    {
     "name": "stdout",
     "output_type": "stream",
     "text": [
      "loss 0.607, train_acc 0.725, valid_acc 0.691\n"
     ]
    },
    {
     "name": "stderr",
     "output_type": "stream",
     "text": [
      " 17%|█▋        | 90/535 [00:02<00:09, 45.86it/s]"
     ]
    },
    {
     "name": "stdout",
     "output_type": "stream",
     "text": [
      "loss 0.631, train_acc 0.688, valid_acc 0.691\n",
      "loss 0.576, train_acc 0.750, valid_acc 0.691\n"
     ]
    },
    {
     "name": "stderr",
     "output_type": "stream",
     "text": [
      " 19%|█▊        | 100/535 [00:02<00:09, 45.77it/s]"
     ]
    },
    {
     "name": "stdout",
     "output_type": "stream",
     "text": [
      "loss 0.606, train_acc 0.713, valid_acc 0.691\n"
     ]
    },
    {
     "name": "stderr",
     "output_type": "stream",
     "text": [
      " 21%|██        | 110/535 [00:02<00:09, 45.57it/s]"
     ]
    },
    {
     "name": "stdout",
     "output_type": "stream",
     "text": [
      "loss 0.644, train_acc 0.662, valid_acc 0.691\n"
     ]
    },
    {
     "name": "stderr",
     "output_type": "stream",
     "text": [
      " 22%|██▏       | 120/535 [00:02<00:09, 45.05it/s]"
     ]
    },
    {
     "name": "stdout",
     "output_type": "stream",
     "text": [
      "loss 0.627, train_acc 0.700, valid_acc 0.691\n"
     ]
    },
    {
     "name": "stderr",
     "output_type": "stream",
     "text": [
      " 24%|██▍       | 130/535 [00:02<00:09, 43.30it/s]"
     ]
    },
    {
     "name": "stdout",
     "output_type": "stream",
     "text": [
      "loss 0.645, train_acc 0.681, valid_acc 0.691\n"
     ]
    },
    {
     "name": "stderr",
     "output_type": "stream",
     "text": [
      " 28%|██▊       | 149/535 [00:03<00:07, 49.89it/s]"
     ]
    },
    {
     "name": "stdout",
     "output_type": "stream",
     "text": [
      "loss 0.670, train_acc 0.662, valid_acc 0.691\n",
      "loss 0.652, train_acc 0.656, valid_acc 0.691\n"
     ]
    },
    {
     "name": "stderr",
     "output_type": "stream",
     "text": [
      " 32%|███▏      | 170/535 [00:03<00:08, 40.96it/s]"
     ]
    },
    {
     "name": "stdout",
     "output_type": "stream",
     "text": [
      "loss 0.654, train_acc 0.688, valid_acc 0.691\n",
      "loss 0.676, train_acc 0.613, valid_acc 0.691\n"
     ]
    },
    {
     "name": "stderr",
     "output_type": "stream",
     "text": [
      " 34%|███▎      | 180/535 [00:04<00:08, 44.23it/s]"
     ]
    },
    {
     "name": "stdout",
     "output_type": "stream",
     "text": [
      "loss 0.569, train_acc 0.756, valid_acc 0.691\n"
     ]
    },
    {
     "name": "stderr",
     "output_type": "stream",
     "text": [
      " 36%|███▌      | 190/535 [00:04<00:07, 45.81it/s]"
     ]
    },
    {
     "name": "stdout",
     "output_type": "stream",
     "text": [
      "loss 0.663, train_acc 0.644, valid_acc 0.691\n"
     ]
    },
    {
     "name": "stderr",
     "output_type": "stream",
     "text": [
      " 39%|███▉      | 209/535 [00:04<00:06, 47.41it/s]"
     ]
    },
    {
     "name": "stdout",
     "output_type": "stream",
     "text": [
      "loss 0.661, train_acc 0.644, valid_acc 0.691\n"
     ]
    },
    {
     "name": "stderr",
     "output_type": "stream",
     "text": [
      " 40%|████      | 215/535 [00:05<00:08, 37.74it/s]"
     ]
    },
    {
     "name": "stdout",
     "output_type": "stream",
     "text": [
      "loss 0.629, train_acc 0.688, valid_acc 0.691\n"
     ]
    },
    {
     "name": "stderr",
     "output_type": "stream",
     "text": [
      " 41%|████      | 220/535 [00:05<00:09, 32.72it/s]"
     ]
    },
    {
     "name": "stdout",
     "output_type": "stream",
     "text": [
      "loss 0.655, train_acc 0.662, valid_acc 0.691\n"
     ]
    },
    {
     "name": "stderr",
     "output_type": "stream",
     "text": [
      " 44%|████▍     | 238/535 [00:05<00:07, 41.16it/s]"
     ]
    },
    {
     "name": "stdout",
     "output_type": "stream",
     "text": [
      "loss 0.640, train_acc 0.662, valid_acc 0.691\n"
     ]
    },
    {
     "name": "stderr",
     "output_type": "stream",
     "text": [
      " 46%|████▌     | 244/535 [00:05<00:07, 37.40it/s]"
     ]
    },
    {
     "name": "stdout",
     "output_type": "stream",
     "text": [
      "loss 0.664, train_acc 0.662, valid_acc 0.691\n"
     ]
    },
    {
     "name": "stderr",
     "output_type": "stream",
     "text": [
      " 48%|████▊     | 259/535 [00:06<00:06, 43.02it/s]"
     ]
    },
    {
     "name": "stdout",
     "output_type": "stream",
     "text": [
      "loss 0.642, train_acc 0.675, valid_acc 0.691\n"
     ]
    },
    {
     "name": "stderr",
     "output_type": "stream",
     "text": [
      " 50%|████▉     | 265/535 [00:06<00:07, 34.83it/s]"
     ]
    },
    {
     "name": "stdout",
     "output_type": "stream",
     "text": [
      "loss 0.595, train_acc 0.719, valid_acc 0.691\n"
     ]
    },
    {
     "name": "stderr",
     "output_type": "stream",
     "text": [
      " 50%|█████     | 270/535 [00:06<00:08, 31.30it/s]"
     ]
    },
    {
     "name": "stdout",
     "output_type": "stream",
     "text": [
      "loss 0.633, train_acc 0.706, valid_acc 0.691\n"
     ]
    },
    {
     "name": "stderr",
     "output_type": "stream",
     "text": [
      " 52%|█████▏    | 280/535 [00:06<00:07, 32.94it/s]"
     ]
    },
    {
     "name": "stdout",
     "output_type": "stream",
     "text": [
      "loss 0.661, train_acc 0.675, valid_acc 0.691\n"
     ]
    },
    {
     "name": "stderr",
     "output_type": "stream",
     "text": [
      " 54%|█████▍    | 290/535 [00:07<00:06, 36.77it/s]"
     ]
    },
    {
     "name": "stdout",
     "output_type": "stream",
     "text": [
      "loss 0.541, train_acc 0.781, valid_acc 0.691\n"
     ]
    },
    {
     "name": "stderr",
     "output_type": "stream",
     "text": [
      " 58%|█████▊    | 310/535 [00:07<00:05, 41.66it/s]"
     ]
    },
    {
     "name": "stdout",
     "output_type": "stream",
     "text": [
      "loss 0.589, train_acc 0.731, valid_acc 0.691\n",
      "loss 0.586, train_acc 0.744, valid_acc 0.691\n"
     ]
    },
    {
     "name": "stderr",
     "output_type": "stream",
     "text": [
      " 62%|██████▏   | 330/535 [00:08<00:04, 43.53it/s]"
     ]
    },
    {
     "name": "stdout",
     "output_type": "stream",
     "text": [
      "loss 0.571, train_acc 0.756, valid_acc 0.691\n",
      "loss 0.618, train_acc 0.713, valid_acc 0.691\n"
     ]
    },
    {
     "name": "stderr",
     "output_type": "stream",
     "text": [
      " 64%|██████▎   | 340/535 [00:08<00:04, 44.24it/s]"
     ]
    },
    {
     "name": "stdout",
     "output_type": "stream",
     "text": [
      "loss 0.676, train_acc 0.669, valid_acc 0.691\n"
     ]
    },
    {
     "name": "stderr",
     "output_type": "stream",
     "text": [
      " 67%|██████▋   | 360/535 [00:08<00:03, 48.99it/s]"
     ]
    },
    {
     "name": "stdout",
     "output_type": "stream",
     "text": [
      "loss 0.599, train_acc 0.719, valid_acc 0.691\n",
      "loss 0.591, train_acc 0.731, valid_acc 0.691\n"
     ]
    },
    {
     "name": "stderr",
     "output_type": "stream",
     "text": [
      " 69%|██████▉   | 370/535 [00:08<00:03, 45.64it/s]"
     ]
    },
    {
     "name": "stdout",
     "output_type": "stream",
     "text": [
      "loss 0.649, train_acc 0.688, valid_acc 0.691\n"
     ]
    },
    {
     "name": "stderr",
     "output_type": "stream",
     "text": [
      " 73%|███████▎  | 390/535 [00:09<00:03, 47.78it/s]"
     ]
    },
    {
     "name": "stdout",
     "output_type": "stream",
     "text": [
      "loss 0.657, train_acc 0.681, valid_acc 0.691\n",
      "loss 0.623, train_acc 0.700, valid_acc 0.691\n"
     ]
    },
    {
     "name": "stderr",
     "output_type": "stream",
     "text": [
      " 76%|███████▌  | 406/535 [00:09<00:02, 52.53it/s]"
     ]
    },
    {
     "name": "stdout",
     "output_type": "stream",
     "text": [
      "loss 0.608, train_acc 0.706, valid_acc 0.691\n"
     ]
    },
    {
     "name": "stderr",
     "output_type": "stream",
     "text": [
      " 77%|███████▋  | 412/535 [00:09<00:02, 50.62it/s]"
     ]
    },
    {
     "name": "stdout",
     "output_type": "stream",
     "text": [
      "loss 0.632, train_acc 0.688, valid_acc 0.691\n"
     ]
    },
    {
     "name": "stderr",
     "output_type": "stream",
     "text": [
      " 79%|███████▊  | 420/535 [00:09<00:02, 45.22it/s]"
     ]
    },
    {
     "name": "stdout",
     "output_type": "stream",
     "text": [
      "loss 0.539, train_acc 0.775, valid_acc 0.691\n"
     ]
    },
    {
     "name": "stderr",
     "output_type": "stream",
     "text": [
      " 80%|████████  | 430/535 [00:10<00:02, 42.12it/s]"
     ]
    },
    {
     "name": "stdout",
     "output_type": "stream",
     "text": [
      "loss 0.603, train_acc 0.719, valid_acc 0.691\n"
     ]
    },
    {
     "name": "stderr",
     "output_type": "stream",
     "text": [
      " 82%|████████▏ | 440/535 [00:10<00:02, 42.91it/s]"
     ]
    },
    {
     "name": "stdout",
     "output_type": "stream",
     "text": [
      "loss 0.624, train_acc 0.700, valid_acc 0.691\n"
     ]
    },
    {
     "name": "stderr",
     "output_type": "stream",
     "text": [
      " 84%|████████▍ | 450/535 [00:10<00:01, 44.19it/s]"
     ]
    },
    {
     "name": "stdout",
     "output_type": "stream",
     "text": [
      "loss 0.651, train_acc 0.681, valid_acc 0.691\n"
     ]
    },
    {
     "name": "stderr",
     "output_type": "stream",
     "text": [
      " 86%|████████▌ | 460/535 [00:10<00:01, 40.49it/s]"
     ]
    },
    {
     "name": "stdout",
     "output_type": "stream",
     "text": [
      "loss 0.549, train_acc 0.762, valid_acc 0.691\n"
     ]
    },
    {
     "name": "stderr",
     "output_type": "stream",
     "text": [
      " 90%|████████▉ | 480/535 [00:11<00:01, 43.44it/s]"
     ]
    },
    {
     "name": "stdout",
     "output_type": "stream",
     "text": [
      "loss 0.591, train_acc 0.750, valid_acc 0.691\n",
      "loss 0.599, train_acc 0.731, valid_acc 0.691\n"
     ]
    },
    {
     "name": "stderr",
     "output_type": "stream",
     "text": [
      " 93%|█████████▎| 497/535 [00:11<00:00, 48.66it/s]"
     ]
    },
    {
     "name": "stdout",
     "output_type": "stream",
     "text": [
      "loss 0.603, train_acc 0.725, valid_acc 0.691\n"
     ]
    },
    {
     "name": "stderr",
     "output_type": "stream",
     "text": [
      " 94%|█████████▍| 503/535 [00:11<00:00, 40.98it/s]"
     ]
    },
    {
     "name": "stdout",
     "output_type": "stream",
     "text": [
      "loss 0.605, train_acc 0.719, valid_acc 0.691\n"
     ]
    },
    {
     "name": "stderr",
     "output_type": "stream",
     "text": [
      " 97%|█████████▋| 517/535 [00:12<00:00, 43.60it/s]"
     ]
    },
    {
     "name": "stdout",
     "output_type": "stream",
     "text": [
      "loss 0.590, train_acc 0.744, valid_acc 0.691\n"
     ]
    },
    {
     "name": "stderr",
     "output_type": "stream",
     "text": [
      " 98%|█████████▊| 522/535 [00:12<00:00, 39.08it/s]"
     ]
    },
    {
     "name": "stdout",
     "output_type": "stream",
     "text": [
      "loss 0.614, train_acc 0.713, valid_acc 0.691\n"
     ]
    },
    {
     "name": "stderr",
     "output_type": "stream",
     "text": [
      "100%|██████████| 535/535 [00:12<00:00, 42.03it/s]"
     ]
    },
    {
     "name": "stdout",
     "output_type": "stream",
     "text": [
      "loss 0.650, train_acc 0.669, valid_acc 0.691\n",
      "Training is finished.\n",
      "训练损失:0.650, 训练集准确率:0.669 验证集准确率:0.691\n",
      "在设备cuda:0上训练10周期 耗时13 秒\n"
     ]
    },
    {
     "name": "stderr",
     "output_type": "stream",
     "text": [
      "\n"
     ]
    }
   ],
   "source": [
    "# 以‘微调’的模式进行训练\n",
    "# activation function: nn.ReLU(), 30 epochs\n",
    "# 3,414,018 total parameters.\n",
    "loss = nn.CrossEntropyLoss(reduction='none')\n",
    "forward_params = [\n",
    "    param for name, param in basenet.named_parameters()\n",
    "    if name != \"embedding.weight\"]\n",
    "trainer = torch.optim.SGD(forward_params, lr=lr)\n",
    "# trainer = torch.optim.Adam(\n",
    "#     [{'params': basenet.embedding.parameters()},\n",
    "#     {'params': forward_params,\n",
    "#     'lr': lr * 10}], lr=lr)\n",
    "\n",
    "basenet.to(device)\n",
    "\n",
    "num_batches = len(train_iter)\n",
    "losses, train_accuracy, valid_accuracy = [], [], []\n",
    "total_start = time.time()\n",
    "\n",
    "train_loss, train_acc = 0, 0\n",
    "start_time = time.perf_counter()\n",
    "for index, data in tqdm(enumerate(train_iter), total=num_batches, leave=True):\n",
    "    (tokens, valid_len), y = data\n",
    "    tokens, valid_len = [v.to(device) for v in (tokens, valid_len)]\n",
    "    y = y.to(device)\n",
    "    l = loss(basenet(tokens, valid_len), y)\n",
    "    trainer.zero_grad()\n",
    "    l.sum().backward()\n",
    "    trainer.step()\n",
    "    train_loss += l.sum().cpu().detach().numpy() / batch_size\n",
    "    train_acc += d2l.accuracy(basenet(tokens, valid_len), y) / batch_size\n",
    "    if (index + 1) % 10 == 0:\n",
    "        epochloss, epochtrain = train_loss / 10, train_acc / 10\n",
    "        epochvalid = evaluate_accuracy_gpu(basenet, valid_iter, device)\n",
    "        print(f'loss {epochloss:.3f}, train_acc {epochtrain:.3f}, valid_acc {epochvalid:.3f}')\n",
    "        losses.append(epochloss)\n",
    "        train_accuracy.append(epochtrain)\n",
    "        valid_accuracy.append(epochvalid)\n",
    "        train_loss, train_acc = 0, 0\n",
    "# epochloss, epochtrain = train_loss / num_batches, train_acc / num_batches\n",
    "# epochvalid = evaluate_accuracy_gpu(basenet, valid_iter, device)\n",
    "# end_time = time.perf_counter()\n",
    "# print(f'epoch {epoch + 1}, loss {epochloss:.3f}, '\n",
    "#       f'train_acc {epochtrain:.3f}, valid_acc {epochvalid:.3f}, '\n",
    "#       f'taking {round(end_time - start_time)} seconds')\n",
    "# losses.append(epochloss)\n",
    "# train_accuracy.append(epochtrain)\n",
    "# valid_accuracy.append(epochvalid)\n",
    "\n",
    "total_timecost = round(time.time() - total_start)\n",
    "print('Training is finished.')\n",
    "print(f'训练损失:{losses[-1]:.3f}, 训练集准确率:{train_accuracy[-1]:.3f} '\n",
    "      f'验证集准确率:{valid_accuracy[-1]:.3f}\\n'\n",
    "      f'在设备{device}上训练{num_epochs}周期 耗时{total_timecost} 秒')"
   ]
  },
  {
   "cell_type": "code",
   "execution_count": null,
   "id": "21274c90-94bc-4fc8-a0a4-a2bddcfc08ed",
   "metadata": {},
   "outputs": [],
   "source": []
  }
 ],
 "metadata": {
  "kernelspec": {
   "display_name": "Python 3 (ipykernel)",
   "language": "python",
   "name": "python3"
  },
  "language_info": {
   "codemirror_mode": {
    "name": "ipython",
    "version": 3
   },
   "file_extension": ".py",
   "mimetype": "text/x-python",
   "name": "python",
   "nbconvert_exporter": "python",
   "pygments_lexer": "ipython3",
   "version": "3.8.10"
  }
 },
 "nbformat": 4,
 "nbformat_minor": 5
}
