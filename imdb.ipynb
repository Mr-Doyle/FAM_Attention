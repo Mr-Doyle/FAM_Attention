{
 "cells": [
  {
   "cell_type": "markdown",
   "id": "90c573ed-6212-43b0-abb3-7034176d1543",
   "metadata": {
    "tags": []
   },
   "source": [
    "# 准备数据"
   ]
  },
  {
   "cell_type": "code",
   "execution_count": null,
   "id": "f04764cd-d9a8-47dd-8cda-aad43d444abc",
   "metadata": {},
   "outputs": [],
   "source": [
    "!pip list"
   ]
  },
  {
   "cell_type": "code",
   "execution_count": 3,
   "id": "80861e3a-bca4-431f-9580-562927ee22f9",
   "metadata": {},
   "outputs": [
    {
     "name": "stderr",
     "output_type": "stream",
     "text": [
      "100%|██████████| 59/59 [00:03<00:00, 19.58it/s]\n"
     ]
    }
   ],
   "source": [
    "from tqdm import tqdm\n",
    "import time\n",
    "for i in tqdm(range(1, 60)):\n",
    "    \"\"\"\n",
    "    代码\n",
    "    \"\"\"\n",
    "    # 假设这代码部分需要0.05s，循环执行60次\n",
    "    time.sleep(0.05)"
   ]
  },
  {
   "cell_type": "code",
   "execution_count": 18,
   "id": "7fc57e66-2b50-4983-b198-21d95f3ad2ea",
   "metadata": {},
   "outputs": [
    {
     "name": "stdout",
     "output_type": "stream",
     "text": [
      "Looking in indexes: http://mirrors.aliyun.com/pypi/simple\n",
      "Collecting torchsummary\n",
      "  Downloading http://mirrors.aliyun.com/pypi/packages/7d/18/1474d06f721b86e6a9b9d7392ad68bed711a02f3b61ac43f13c719db50a6/torchsummary-1.5.1-py3-none-any.whl (2.8 kB)\n",
      "Installing collected packages: torchsummary\n",
      "Successfully installed torchsummary-1.5.1\n",
      "\u001b[33mWARNING: Running pip as the 'root' user can result in broken permissions and conflicting behaviour with the system package manager. It is recommended to use a virtual environment instead: https://pip.pypa.io/warnings/venv\u001b[0m\u001b[33m\n",
      "\u001b[0m"
     ]
    }
   ],
   "source": [
    "# !pip install factor_analyzer\n",
    "# !pip install xlwt\n",
    "# !pip install seaborn\n",
    "# !pip install collection\n",
    "!pip install torchsummary"
   ]
  },
  {
   "cell_type": "code",
   "execution_count": 8,
   "id": "e7337632-28a2-4fbc-a4e2-62ba3fe42573",
   "metadata": {},
   "outputs": [
    {
     "name": "stderr",
     "output_type": "stream",
     "text": [
      "Using the latest cached version of the module from /root/.cache/huggingface/modules/datasets_modules/datasets/imdb/2fdd8b9bcadd6e7055e742a706876ba43f19faee861df134affd7a3f60fc38a1 (last modified on Sat Sep 24 10:15:53 2022) since it couldn't be found locally at imdb., or remotely on the Hugging Face Hub.\n",
      "Reusing dataset imdb (/root/.cache/huggingface/datasets/imdb/plain_text/1.0.0/2fdd8b9bcadd6e7055e742a706876ba43f19faee861df134affd7a3f60fc38a1)\n"
     ]
    },
    {
     "data": {
      "application/vnd.jupyter.widget-view+json": {
       "model_id": "305239a9047d4de5943561715ccb6919",
       "version_major": 2,
       "version_minor": 0
      },
      "text/plain": [
       "  0%|          | 0/3 [00:00<?, ?it/s]"
      ]
     },
     "metadata": {},
     "output_type": "display_data"
    }
   ],
   "source": [
    "from datasets import load_dataset\n",
    "\n",
    "dataset = load_dataset('imdb')"
   ]
  },
  {
   "cell_type": "code",
   "execution_count": 2,
   "id": "c2e5cdc0-a2bc-484a-88fb-08c592bba5e7",
   "metadata": {},
   "outputs": [
    {
     "name": "stdout",
     "output_type": "stream",
     "text": [
      "25000 25000 50000\n"
     ]
    },
    {
     "data": {
      "text/plain": [
       "{'text': 'I rented I AM CURIOUS-YELLOW from my video store because of all the controversy that surrounded it when it was first released in 1967. I also heard that at first it was seized by U.S. customs if it ever tried to enter this country, therefore being a fan of films considered \"controversial\" I really had to see this for myself.<br /><br />The plot is centered around a young Swedish drama student named Lena who wants to learn everything she can about life. In particular she wants to focus her attentions to making some sort of documentary on what the average Swede thought about certain political issues such as the Vietnam War and race issues in the United States. In between asking politicians and ordinary denizens of Stockholm about their opinions on politics, she has sex with her drama teacher, classmates, and married men.<br /><br />What kills me about I AM CURIOUS-YELLOW is that 40 years ago, this was considered pornographic. Really, the sex and nudity scenes are few and far between, even then it\\'s not shot like some cheaply made porno. While my countrymen mind find it shocking, in reality sex and nudity are a major staple in Swedish cinema. Even Ingmar Bergman, arguably their answer to good old boy John Ford, had sex scenes in his films.<br /><br />I do commend the filmmakers for the fact that any sex shown in the film is shown for artistic purposes rather than just to shock people and make money to be shown in pornographic theaters in America. I AM CURIOUS-YELLOW is a good film for anyone wanting to study the meat and potatoes (no pun intended) of Swedish cinema. But really, this film doesn\\'t have much of a plot.',\n",
       " 'label': 0}"
      ]
     },
     "execution_count": 2,
     "metadata": {},
     "output_type": "execute_result"
    }
   ],
   "source": [
    "print(len(dataset['train']), len(dataset['test']), len(dataset['unsupervised']))\n",
    "dataset['train'][0]"
   ]
  },
  {
   "cell_type": "code",
   "execution_count": 3,
   "id": "9767875c-1755-43db-814f-ad407cb6b5a0",
   "metadata": {},
   "outputs": [],
   "source": [
    "import torch\n",
    "from torch import nn\n",
    "import numpy as np\n",
    "import pandas as pd\n",
    "from d2l import torch as d2l\n",
    "import matplotlib.pyplot as plt\n",
    "import seaborn as sns\n",
    "import math\n",
    "from gensim.models import word2vec\n",
    "from factor_analyzer import FactorAnalyzer\n",
    "from factor_analyzer.factor_analyzer import calculate_bartlett_sphericity,calculate_kmo"
   ]
  },
  {
   "cell_type": "code",
   "execution_count": 10,
   "id": "8d1a1960-6ece-4211-a9d5-a944cf6272bc",
   "metadata": {},
   "outputs": [],
   "source": [
    "file_path = 'autodl-tmp/'"
   ]
  },
  {
   "cell_type": "code",
   "execution_count": 4,
   "id": "7f12f4e8-25df-40d9-b5de-accc6f21a8ae",
   "metadata": {},
   "outputs": [
    {
     "name": "stdout",
     "output_type": "stream",
     "text": [
      "训练数据的数量: 25000条\n",
      "词表大小:  49347\n",
      "前50个token:  ['<unk>', '<pad>', 'the', 'a', 'and', 'of', 'to', 'is', 'in', 'I', 'that', 'this', 'it', '/><br', 'was', 'as', 'with', 'for', 'but', 'The', 'on', 'movie', 'are', 'his', 'film', 'have', 'not', 'be', 'you', 'he', 'by', 'at', 'one', 'an', 'from', 'who', 'like', 'all', 'they', 'has', 'so', 'just', 'about', 'or', 'her', 'out', 'some', 'very', 'more', 'This']\n"
     ]
    }
   ],
   "source": [
    "train_text, train_label = [], []\n",
    "for onedata in dataset['train']:\n",
    "    text, label = onedata['text'], onedata['label']\n",
    "    train_text.append(text)\n",
    "    train_label.append(label)\n",
    "print(f'训练数据的数量: {len(train_text)}条')\n",
    "\n",
    "train_tokens = d2l.tokenize(train_text, token='word')\n",
    "vocab = d2l.Vocab(train_tokens, min_freq=5, reserved_tokens=['<pad>'])\n",
    "print('词表大小: ', len(vocab))\n",
    "print('前50个token: ', vocab.idx_to_token[:50])"
   ]
  },
  {
   "cell_type": "code",
   "execution_count": 5,
   "id": "b463792b-9a46-407e-8435-642467099266",
   "metadata": {},
   "outputs": [
    {
     "data": {
      "image/svg+xml": [
       "<?xml version=\"1.0\" encoding=\"utf-8\" standalone=\"no\"?>\n",
       "<!DOCTYPE svg PUBLIC \"-//W3C//DTD SVG 1.1//EN\"\n",
       "  \"http://www.w3.org/Graphics/SVG/1.1/DTD/svg11.dtd\">\n",
       "<svg xmlns:xlink=\"http://www.w3.org/1999/xlink\" width=\"255.828125pt\" height=\"183.35625pt\" viewBox=\"0 0 255.828125 183.35625\" xmlns=\"http://www.w3.org/2000/svg\" version=\"1.1\">\n",
       " <metadata>\n",
       "  <rdf:RDF xmlns:dc=\"http://purl.org/dc/elements/1.1/\" xmlns:cc=\"http://creativecommons.org/ns#\" xmlns:rdf=\"http://www.w3.org/1999/02/22-rdf-syntax-ns#\">\n",
       "   <cc:Work>\n",
       "    <dc:type rdf:resource=\"http://purl.org/dc/dcmitype/StillImage\"/>\n",
       "    <dc:date>2022-09-23T09:33:43.348243</dc:date>\n",
       "    <dc:format>image/svg+xml</dc:format>\n",
       "    <dc:creator>\n",
       "     <cc:Agent>\n",
       "      <dc:title>Matplotlib v3.5.1, https://matplotlib.org/</dc:title>\n",
       "     </cc:Agent>\n",
       "    </dc:creator>\n",
       "   </cc:Work>\n",
       "  </rdf:RDF>\n",
       " </metadata>\n",
       " <defs>\n",
       "  <style type=\"text/css\">*{stroke-linejoin: round; stroke-linecap: butt}</style>\n",
       " </defs>\n",
       " <g id=\"figure_1\">\n",
       "  <g id=\"patch_1\">\n",
       "   <path d=\"M 0 183.35625 \n",
       "L 255.828125 183.35625 \n",
       "L 255.828125 0 \n",
       "L 0 0 \n",
       "z\n",
       "\" style=\"fill: #ffffff\"/>\n",
       "  </g>\n",
       "  <g id=\"axes_1\">\n",
       "   <g id=\"patch_2\">\n",
       "    <path d=\"M 53.328125 145.8 \n",
       "L 248.628125 145.8 \n",
       "L 248.628125 7.2 \n",
       "L 53.328125 7.2 \n",
       "z\n",
       "\" style=\"fill: #ffffff\"/>\n",
       "   </g>\n",
       "   <g id=\"patch_3\">\n",
       "    <path d=\"M 62.205398 145.8 \n",
       "L 71.549895 145.8 \n",
       "L 71.549895 135.096774 \n",
       "L 62.205398 135.096774 \n",
       "z\n",
       "\" clip-path=\"url(#pad7f67d772)\" style=\"fill: #1f77b4\"/>\n",
       "   </g>\n",
       "   <g id=\"patch_4\">\n",
       "    <path d=\"M 71.549895 145.8 \n",
       "L 80.894393 145.8 \n",
       "L 80.894393 99.870968 \n",
       "L 71.549895 99.870968 \n",
       "z\n",
       "\" clip-path=\"url(#pad7f67d772)\" style=\"fill: #1f77b4\"/>\n",
       "   </g>\n",
       "   <g id=\"patch_5\">\n",
       "    <path d=\"M 80.894393 145.8 \n",
       "L 90.238891 145.8 \n",
       "L 90.238891 13.8 \n",
       "L 80.894393 13.8 \n",
       "z\n",
       "\" clip-path=\"url(#pad7f67d772)\" style=\"fill: #1f77b4\"/>\n",
       "   </g>\n",
       "   <g id=\"patch_6\">\n",
       "    <path d=\"M 90.238891 145.8 \n",
       "L 99.583388 145.8 \n",
       "L 99.583388 52.23871 \n",
       "L 90.238891 52.23871 \n",
       "z\n",
       "\" clip-path=\"url(#pad7f67d772)\" style=\"fill: #1f77b4\"/>\n",
       "   </g>\n",
       "   <g id=\"patch_7\">\n",
       "    <path d=\"M 99.583388 145.8 \n",
       "L 108.927886 145.8 \n",
       "L 108.927886 91.277419 \n",
       "L 99.583388 91.277419 \n",
       "z\n",
       "\" clip-path=\"url(#pad7f67d772)\" style=\"fill: #1f77b4\"/>\n",
       "   </g>\n",
       "   <g id=\"patch_8\">\n",
       "    <path d=\"M 108.927886 145.8 \n",
       "L 118.272383 145.8 \n",
       "L 118.272383 110.032258 \n",
       "L 108.927886 110.032258 \n",
       "z\n",
       "\" clip-path=\"url(#pad7f67d772)\" style=\"fill: #1f77b4\"/>\n",
       "   </g>\n",
       "   <g id=\"patch_9\">\n",
       "    <path d=\"M 118.272383 145.8 \n",
       "L 127.616881 145.8 \n",
       "L 127.616881 119.090323 \n",
       "L 118.272383 119.090323 \n",
       "z\n",
       "\" clip-path=\"url(#pad7f67d772)\" style=\"fill: #1f77b4\"/>\n",
       "   </g>\n",
       "   <g id=\"patch_10\">\n",
       "    <path d=\"M 127.616881 145.8 \n",
       "L 136.961379 145.8 \n",
       "L 136.961379 126.348387 \n",
       "L 127.616881 126.348387 \n",
       "z\n",
       "\" clip-path=\"url(#pad7f67d772)\" style=\"fill: #1f77b4\"/>\n",
       "   </g>\n",
       "   <g id=\"patch_11\">\n",
       "    <path d=\"M 136.961379 145.8 \n",
       "L 146.305876 145.8 \n",
       "L 146.305876 131.109677 \n",
       "L 136.961379 131.109677 \n",
       "z\n",
       "\" clip-path=\"url(#pad7f67d772)\" style=\"fill: #1f77b4\"/>\n",
       "   </g>\n",
       "   <g id=\"patch_12\">\n",
       "    <path d=\"M 146.305876 145.8 \n",
       "L 155.650374 145.8 \n",
       "L 155.650374 134.554839 \n",
       "L 146.305876 134.554839 \n",
       "z\n",
       "\" clip-path=\"url(#pad7f67d772)\" style=\"fill: #1f77b4\"/>\n",
       "   </g>\n",
       "   <g id=\"patch_13\">\n",
       "    <path d=\"M 155.650374 145.8 \n",
       "L 164.994871 145.8 \n",
       "L 164.994871 137.341935 \n",
       "L 155.650374 137.341935 \n",
       "z\n",
       "\" clip-path=\"url(#pad7f67d772)\" style=\"fill: #1f77b4\"/>\n",
       "   </g>\n",
       "   <g id=\"patch_14\">\n",
       "    <path d=\"M 164.994871 145.8 \n",
       "L 174.339369 145.8 \n",
       "L 174.339369 139.045161 \n",
       "L 164.994871 139.045161 \n",
       "z\n",
       "\" clip-path=\"url(#pad7f67d772)\" style=\"fill: #1f77b4\"/>\n",
       "   </g>\n",
       "   <g id=\"patch_15\">\n",
       "    <path d=\"M 174.339369 145.8 \n",
       "L 183.683867 145.8 \n",
       "L 183.683867 140.825806 \n",
       "L 174.339369 140.825806 \n",
       "z\n",
       "\" clip-path=\"url(#pad7f67d772)\" style=\"fill: #1f77b4\"/>\n",
       "   </g>\n",
       "   <g id=\"patch_16\">\n",
       "    <path d=\"M 183.683867 145.8 \n",
       "L 193.028364 145.8 \n",
       "L 193.028364 141.793548 \n",
       "L 183.683867 141.793548 \n",
       "z\n",
       "\" clip-path=\"url(#pad7f67d772)\" style=\"fill: #1f77b4\"/>\n",
       "   </g>\n",
       "   <g id=\"patch_17\">\n",
       "    <path d=\"M 193.028364 145.8 \n",
       "L 202.372862 145.8 \n",
       "L 202.372862 142.432258 \n",
       "L 193.028364 142.432258 \n",
       "z\n",
       "\" clip-path=\"url(#pad7f67d772)\" style=\"fill: #1f77b4\"/>\n",
       "   </g>\n",
       "   <g id=\"patch_18\">\n",
       "    <path d=\"M 202.372862 145.8 \n",
       "L 211.717359 145.8 \n",
       "L 211.717359 143.225806 \n",
       "L 202.372862 143.225806 \n",
       "z\n",
       "\" clip-path=\"url(#pad7f67d772)\" style=\"fill: #1f77b4\"/>\n",
       "   </g>\n",
       "   <g id=\"patch_19\">\n",
       "    <path d=\"M 211.717359 145.8 \n",
       "L 221.061857 145.8 \n",
       "L 221.061857 143.554839 \n",
       "L 211.717359 143.554839 \n",
       "z\n",
       "\" clip-path=\"url(#pad7f67d772)\" style=\"fill: #1f77b4\"/>\n",
       "   </g>\n",
       "   <g id=\"patch_20\">\n",
       "    <path d=\"M 221.061857 145.8 \n",
       "L 230.406355 145.8 \n",
       "L 230.406355 144.154839 \n",
       "L 221.061857 144.154839 \n",
       "z\n",
       "\" clip-path=\"url(#pad7f67d772)\" style=\"fill: #1f77b4\"/>\n",
       "   </g>\n",
       "   <g id=\"patch_21\">\n",
       "    <path d=\"M 230.406355 145.8 \n",
       "L 239.750852 145.8 \n",
       "L 239.750852 144.348387 \n",
       "L 230.406355 144.348387 \n",
       "z\n",
       "\" clip-path=\"url(#pad7f67d772)\" style=\"fill: #1f77b4\"/>\n",
       "   </g>\n",
       "   <g id=\"matplotlib.axis_1\">\n",
       "    <g id=\"xtick_1\">\n",
       "     <g id=\"line2d_1\">\n",
       "      <defs>\n",
       "       <path id=\"m106431a832\" d=\"M 0 0 \n",
       "L 0 3.5 \n",
       "\" style=\"stroke: #000000; stroke-width: 0.8\"/>\n",
       "      </defs>\n",
       "      <g>\n",
       "       <use xlink:href=\"#m106431a832\" x=\"62.205398\" y=\"145.8\" style=\"stroke: #000000; stroke-width: 0.8\"/>\n",
       "      </g>\n",
       "     </g>\n",
       "     <g id=\"text_1\">\n",
       "      <!-- 0 -->\n",
       "      <g transform=\"translate(59.024148 160.398438)scale(0.1 -0.1)\">\n",
       "       <defs>\n",
       "        <path id=\"DejaVuSans-30\" d=\"M 2034 4250 \n",
       "Q 1547 4250 1301 3770 \n",
       "Q 1056 3291 1056 2328 \n",
       "Q 1056 1369 1301 889 \n",
       "Q 1547 409 2034 409 \n",
       "Q 2525 409 2770 889 \n",
       "Q 3016 1369 3016 2328 \n",
       "Q 3016 3291 2770 3770 \n",
       "Q 2525 4250 2034 4250 \n",
       "z\n",
       "M 2034 4750 \n",
       "Q 2819 4750 3233 4129 \n",
       "Q 3647 3509 3647 2328 \n",
       "Q 3647 1150 3233 529 \n",
       "Q 2819 -91 2034 -91 \n",
       "Q 1250 -91 836 529 \n",
       "Q 422 1150 422 2328 \n",
       "Q 422 3509 836 4129 \n",
       "Q 1250 4750 2034 4750 \n",
       "z\n",
       "\" transform=\"scale(0.015625)\"/>\n",
       "       </defs>\n",
       "       <use xlink:href=\"#DejaVuSans-30\"/>\n",
       "      </g>\n",
       "     </g>\n",
       "    </g>\n",
       "    <g id=\"xtick_2\">\n",
       "     <g id=\"line2d_2\">\n",
       "      <g>\n",
       "       <use xlink:href=\"#m106431a832\" x=\"99.583388\" y=\"145.8\" style=\"stroke: #000000; stroke-width: 0.8\"/>\n",
       "      </g>\n",
       "     </g>\n",
       "     <g id=\"text_2\">\n",
       "      <!-- 200 -->\n",
       "      <g transform=\"translate(90.039638 160.398438)scale(0.1 -0.1)\">\n",
       "       <defs>\n",
       "        <path id=\"DejaVuSans-32\" d=\"M 1228 531 \n",
       "L 3431 531 \n",
       "L 3431 0 \n",
       "L 469 0 \n",
       "L 469 531 \n",
       "Q 828 903 1448 1529 \n",
       "Q 2069 2156 2228 2338 \n",
       "Q 2531 2678 2651 2914 \n",
       "Q 2772 3150 2772 3378 \n",
       "Q 2772 3750 2511 3984 \n",
       "Q 2250 4219 1831 4219 \n",
       "Q 1534 4219 1204 4116 \n",
       "Q 875 4013 500 3803 \n",
       "L 500 4441 \n",
       "Q 881 4594 1212 4672 \n",
       "Q 1544 4750 1819 4750 \n",
       "Q 2544 4750 2975 4387 \n",
       "Q 3406 4025 3406 3419 \n",
       "Q 3406 3131 3298 2873 \n",
       "Q 3191 2616 2906 2266 \n",
       "Q 2828 2175 2409 1742 \n",
       "Q 1991 1309 1228 531 \n",
       "z\n",
       "\" transform=\"scale(0.015625)\"/>\n",
       "       </defs>\n",
       "       <use xlink:href=\"#DejaVuSans-32\"/>\n",
       "       <use xlink:href=\"#DejaVuSans-30\" x=\"63.623047\"/>\n",
       "       <use xlink:href=\"#DejaVuSans-30\" x=\"127.246094\"/>\n",
       "      </g>\n",
       "     </g>\n",
       "    </g>\n",
       "    <g id=\"xtick_3\">\n",
       "     <g id=\"line2d_3\">\n",
       "      <g>\n",
       "       <use xlink:href=\"#m106431a832\" x=\"136.961379\" y=\"145.8\" style=\"stroke: #000000; stroke-width: 0.8\"/>\n",
       "      </g>\n",
       "     </g>\n",
       "     <g id=\"text_3\">\n",
       "      <!-- 400 -->\n",
       "      <g transform=\"translate(127.417629 160.398438)scale(0.1 -0.1)\">\n",
       "       <defs>\n",
       "        <path id=\"DejaVuSans-34\" d=\"M 2419 4116 \n",
       "L 825 1625 \n",
       "L 2419 1625 \n",
       "L 2419 4116 \n",
       "z\n",
       "M 2253 4666 \n",
       "L 3047 4666 \n",
       "L 3047 1625 \n",
       "L 3713 1625 \n",
       "L 3713 1100 \n",
       "L 3047 1100 \n",
       "L 3047 0 \n",
       "L 2419 0 \n",
       "L 2419 1100 \n",
       "L 313 1100 \n",
       "L 313 1709 \n",
       "L 2253 4666 \n",
       "z\n",
       "\" transform=\"scale(0.015625)\"/>\n",
       "       </defs>\n",
       "       <use xlink:href=\"#DejaVuSans-34\"/>\n",
       "       <use xlink:href=\"#DejaVuSans-30\" x=\"63.623047\"/>\n",
       "       <use xlink:href=\"#DejaVuSans-30\" x=\"127.246094\"/>\n",
       "      </g>\n",
       "     </g>\n",
       "    </g>\n",
       "    <g id=\"xtick_4\">\n",
       "     <g id=\"line2d_4\">\n",
       "      <g>\n",
       "       <use xlink:href=\"#m106431a832\" x=\"174.339369\" y=\"145.8\" style=\"stroke: #000000; stroke-width: 0.8\"/>\n",
       "      </g>\n",
       "     </g>\n",
       "     <g id=\"text_4\">\n",
       "      <!-- 600 -->\n",
       "      <g transform=\"translate(164.795619 160.398438)scale(0.1 -0.1)\">\n",
       "       <defs>\n",
       "        <path id=\"DejaVuSans-36\" d=\"M 2113 2584 \n",
       "Q 1688 2584 1439 2293 \n",
       "Q 1191 2003 1191 1497 \n",
       "Q 1191 994 1439 701 \n",
       "Q 1688 409 2113 409 \n",
       "Q 2538 409 2786 701 \n",
       "Q 3034 994 3034 1497 \n",
       "Q 3034 2003 2786 2293 \n",
       "Q 2538 2584 2113 2584 \n",
       "z\n",
       "M 3366 4563 \n",
       "L 3366 3988 \n",
       "Q 3128 4100 2886 4159 \n",
       "Q 2644 4219 2406 4219 \n",
       "Q 1781 4219 1451 3797 \n",
       "Q 1122 3375 1075 2522 \n",
       "Q 1259 2794 1537 2939 \n",
       "Q 1816 3084 2150 3084 \n",
       "Q 2853 3084 3261 2657 \n",
       "Q 3669 2231 3669 1497 \n",
       "Q 3669 778 3244 343 \n",
       "Q 2819 -91 2113 -91 \n",
       "Q 1303 -91 875 529 \n",
       "Q 447 1150 447 2328 \n",
       "Q 447 3434 972 4092 \n",
       "Q 1497 4750 2381 4750 \n",
       "Q 2619 4750 2861 4703 \n",
       "Q 3103 4656 3366 4563 \n",
       "z\n",
       "\" transform=\"scale(0.015625)\"/>\n",
       "       </defs>\n",
       "       <use xlink:href=\"#DejaVuSans-36\"/>\n",
       "       <use xlink:href=\"#DejaVuSans-30\" x=\"63.623047\"/>\n",
       "       <use xlink:href=\"#DejaVuSans-30\" x=\"127.246094\"/>\n",
       "      </g>\n",
       "     </g>\n",
       "    </g>\n",
       "    <g id=\"xtick_5\">\n",
       "     <g id=\"line2d_5\">\n",
       "      <g>\n",
       "       <use xlink:href=\"#m106431a832\" x=\"211.717359\" y=\"145.8\" style=\"stroke: #000000; stroke-width: 0.8\"/>\n",
       "      </g>\n",
       "     </g>\n",
       "     <g id=\"text_5\">\n",
       "      <!-- 800 -->\n",
       "      <g transform=\"translate(202.173609 160.398438)scale(0.1 -0.1)\">\n",
       "       <defs>\n",
       "        <path id=\"DejaVuSans-38\" d=\"M 2034 2216 \n",
       "Q 1584 2216 1326 1975 \n",
       "Q 1069 1734 1069 1313 \n",
       "Q 1069 891 1326 650 \n",
       "Q 1584 409 2034 409 \n",
       "Q 2484 409 2743 651 \n",
       "Q 3003 894 3003 1313 \n",
       "Q 3003 1734 2745 1975 \n",
       "Q 2488 2216 2034 2216 \n",
       "z\n",
       "M 1403 2484 \n",
       "Q 997 2584 770 2862 \n",
       "Q 544 3141 544 3541 \n",
       "Q 544 4100 942 4425 \n",
       "Q 1341 4750 2034 4750 \n",
       "Q 2731 4750 3128 4425 \n",
       "Q 3525 4100 3525 3541 \n",
       "Q 3525 3141 3298 2862 \n",
       "Q 3072 2584 2669 2484 \n",
       "Q 3125 2378 3379 2068 \n",
       "Q 3634 1759 3634 1313 \n",
       "Q 3634 634 3220 271 \n",
       "Q 2806 -91 2034 -91 \n",
       "Q 1263 -91 848 271 \n",
       "Q 434 634 434 1313 \n",
       "Q 434 1759 690 2068 \n",
       "Q 947 2378 1403 2484 \n",
       "z\n",
       "M 1172 3481 \n",
       "Q 1172 3119 1398 2916 \n",
       "Q 1625 2713 2034 2713 \n",
       "Q 2441 2713 2670 2916 \n",
       "Q 2900 3119 2900 3481 \n",
       "Q 2900 3844 2670 4047 \n",
       "Q 2441 4250 2034 4250 \n",
       "Q 1625 4250 1398 4047 \n",
       "Q 1172 3844 1172 3481 \n",
       "z\n",
       "\" transform=\"scale(0.015625)\"/>\n",
       "       </defs>\n",
       "       <use xlink:href=\"#DejaVuSans-38\"/>\n",
       "       <use xlink:href=\"#DejaVuSans-30\" x=\"63.623047\"/>\n",
       "       <use xlink:href=\"#DejaVuSans-30\" x=\"127.246094\"/>\n",
       "      </g>\n",
       "     </g>\n",
       "    </g>\n",
       "    <g id=\"text_6\">\n",
       "     <!-- # tokens per review -->\n",
       "     <g transform=\"translate(100.597656 174.076563)scale(0.1 -0.1)\">\n",
       "      <defs>\n",
       "       <path id=\"DejaVuSans-23\" d=\"M 3272 2816 \n",
       "L 2363 2816 \n",
       "L 2100 1772 \n",
       "L 3016 1772 \n",
       "L 3272 2816 \n",
       "z\n",
       "M 2803 4594 \n",
       "L 2478 3297 \n",
       "L 3391 3297 \n",
       "L 3719 4594 \n",
       "L 4219 4594 \n",
       "L 3897 3297 \n",
       "L 4872 3297 \n",
       "L 4872 2816 \n",
       "L 3775 2816 \n",
       "L 3519 1772 \n",
       "L 4513 1772 \n",
       "L 4513 1294 \n",
       "L 3397 1294 \n",
       "L 3072 0 \n",
       "L 2572 0 \n",
       "L 2894 1294 \n",
       "L 1978 1294 \n",
       "L 1656 0 \n",
       "L 1153 0 \n",
       "L 1478 1294 \n",
       "L 494 1294 \n",
       "L 494 1772 \n",
       "L 1594 1772 \n",
       "L 1856 2816 \n",
       "L 850 2816 \n",
       "L 850 3297 \n",
       "L 1978 3297 \n",
       "L 2297 4594 \n",
       "L 2803 4594 \n",
       "z\n",
       "\" transform=\"scale(0.015625)\"/>\n",
       "       <path id=\"DejaVuSans-20\" transform=\"scale(0.015625)\"/>\n",
       "       <path id=\"DejaVuSans-74\" d=\"M 1172 4494 \n",
       "L 1172 3500 \n",
       "L 2356 3500 \n",
       "L 2356 3053 \n",
       "L 1172 3053 \n",
       "L 1172 1153 \n",
       "Q 1172 725 1289 603 \n",
       "Q 1406 481 1766 481 \n",
       "L 2356 481 \n",
       "L 2356 0 \n",
       "L 1766 0 \n",
       "Q 1100 0 847 248 \n",
       "Q 594 497 594 1153 \n",
       "L 594 3053 \n",
       "L 172 3053 \n",
       "L 172 3500 \n",
       "L 594 3500 \n",
       "L 594 4494 \n",
       "L 1172 4494 \n",
       "z\n",
       "\" transform=\"scale(0.015625)\"/>\n",
       "       <path id=\"DejaVuSans-6f\" d=\"M 1959 3097 \n",
       "Q 1497 3097 1228 2736 \n",
       "Q 959 2375 959 1747 \n",
       "Q 959 1119 1226 758 \n",
       "Q 1494 397 1959 397 \n",
       "Q 2419 397 2687 759 \n",
       "Q 2956 1122 2956 1747 \n",
       "Q 2956 2369 2687 2733 \n",
       "Q 2419 3097 1959 3097 \n",
       "z\n",
       "M 1959 3584 \n",
       "Q 2709 3584 3137 3096 \n",
       "Q 3566 2609 3566 1747 \n",
       "Q 3566 888 3137 398 \n",
       "Q 2709 -91 1959 -91 \n",
       "Q 1206 -91 779 398 \n",
       "Q 353 888 353 1747 \n",
       "Q 353 2609 779 3096 \n",
       "Q 1206 3584 1959 3584 \n",
       "z\n",
       "\" transform=\"scale(0.015625)\"/>\n",
       "       <path id=\"DejaVuSans-6b\" d=\"M 581 4863 \n",
       "L 1159 4863 \n",
       "L 1159 1991 \n",
       "L 2875 3500 \n",
       "L 3609 3500 \n",
       "L 1753 1863 \n",
       "L 3688 0 \n",
       "L 2938 0 \n",
       "L 1159 1709 \n",
       "L 1159 0 \n",
       "L 581 0 \n",
       "L 581 4863 \n",
       "z\n",
       "\" transform=\"scale(0.015625)\"/>\n",
       "       <path id=\"DejaVuSans-65\" d=\"M 3597 1894 \n",
       "L 3597 1613 \n",
       "L 953 1613 \n",
       "Q 991 1019 1311 708 \n",
       "Q 1631 397 2203 397 \n",
       "Q 2534 397 2845 478 \n",
       "Q 3156 559 3463 722 \n",
       "L 3463 178 \n",
       "Q 3153 47 2828 -22 \n",
       "Q 2503 -91 2169 -91 \n",
       "Q 1331 -91 842 396 \n",
       "Q 353 884 353 1716 \n",
       "Q 353 2575 817 3079 \n",
       "Q 1281 3584 2069 3584 \n",
       "Q 2775 3584 3186 3129 \n",
       "Q 3597 2675 3597 1894 \n",
       "z\n",
       "M 3022 2063 \n",
       "Q 3016 2534 2758 2815 \n",
       "Q 2500 3097 2075 3097 \n",
       "Q 1594 3097 1305 2825 \n",
       "Q 1016 2553 972 2059 \n",
       "L 3022 2063 \n",
       "z\n",
       "\" transform=\"scale(0.015625)\"/>\n",
       "       <path id=\"DejaVuSans-6e\" d=\"M 3513 2113 \n",
       "L 3513 0 \n",
       "L 2938 0 \n",
       "L 2938 2094 \n",
       "Q 2938 2591 2744 2837 \n",
       "Q 2550 3084 2163 3084 \n",
       "Q 1697 3084 1428 2787 \n",
       "Q 1159 2491 1159 1978 \n",
       "L 1159 0 \n",
       "L 581 0 \n",
       "L 581 3500 \n",
       "L 1159 3500 \n",
       "L 1159 2956 \n",
       "Q 1366 3272 1645 3428 \n",
       "Q 1925 3584 2291 3584 \n",
       "Q 2894 3584 3203 3211 \n",
       "Q 3513 2838 3513 2113 \n",
       "z\n",
       "\" transform=\"scale(0.015625)\"/>\n",
       "       <path id=\"DejaVuSans-73\" d=\"M 2834 3397 \n",
       "L 2834 2853 \n",
       "Q 2591 2978 2328 3040 \n",
       "Q 2066 3103 1784 3103 \n",
       "Q 1356 3103 1142 2972 \n",
       "Q 928 2841 928 2578 \n",
       "Q 928 2378 1081 2264 \n",
       "Q 1234 2150 1697 2047 \n",
       "L 1894 2003 \n",
       "Q 2506 1872 2764 1633 \n",
       "Q 3022 1394 3022 966 \n",
       "Q 3022 478 2636 193 \n",
       "Q 2250 -91 1575 -91 \n",
       "Q 1294 -91 989 -36 \n",
       "Q 684 19 347 128 \n",
       "L 347 722 \n",
       "Q 666 556 975 473 \n",
       "Q 1284 391 1588 391 \n",
       "Q 1994 391 2212 530 \n",
       "Q 2431 669 2431 922 \n",
       "Q 2431 1156 2273 1281 \n",
       "Q 2116 1406 1581 1522 \n",
       "L 1381 1569 \n",
       "Q 847 1681 609 1914 \n",
       "Q 372 2147 372 2553 \n",
       "Q 372 3047 722 3315 \n",
       "Q 1072 3584 1716 3584 \n",
       "Q 2034 3584 2315 3537 \n",
       "Q 2597 3491 2834 3397 \n",
       "z\n",
       "\" transform=\"scale(0.015625)\"/>\n",
       "       <path id=\"DejaVuSans-70\" d=\"M 1159 525 \n",
       "L 1159 -1331 \n",
       "L 581 -1331 \n",
       "L 581 3500 \n",
       "L 1159 3500 \n",
       "L 1159 2969 \n",
       "Q 1341 3281 1617 3432 \n",
       "Q 1894 3584 2278 3584 \n",
       "Q 2916 3584 3314 3078 \n",
       "Q 3713 2572 3713 1747 \n",
       "Q 3713 922 3314 415 \n",
       "Q 2916 -91 2278 -91 \n",
       "Q 1894 -91 1617 61 \n",
       "Q 1341 213 1159 525 \n",
       "z\n",
       "M 3116 1747 \n",
       "Q 3116 2381 2855 2742 \n",
       "Q 2594 3103 2138 3103 \n",
       "Q 1681 3103 1420 2742 \n",
       "Q 1159 2381 1159 1747 \n",
       "Q 1159 1113 1420 752 \n",
       "Q 1681 391 2138 391 \n",
       "Q 2594 391 2855 752 \n",
       "Q 3116 1113 3116 1747 \n",
       "z\n",
       "\" transform=\"scale(0.015625)\"/>\n",
       "       <path id=\"DejaVuSans-72\" d=\"M 2631 2963 \n",
       "Q 2534 3019 2420 3045 \n",
       "Q 2306 3072 2169 3072 \n",
       "Q 1681 3072 1420 2755 \n",
       "Q 1159 2438 1159 1844 \n",
       "L 1159 0 \n",
       "L 581 0 \n",
       "L 581 3500 \n",
       "L 1159 3500 \n",
       "L 1159 2956 \n",
       "Q 1341 3275 1631 3429 \n",
       "Q 1922 3584 2338 3584 \n",
       "Q 2397 3584 2469 3576 \n",
       "Q 2541 3569 2628 3553 \n",
       "L 2631 2963 \n",
       "z\n",
       "\" transform=\"scale(0.015625)\"/>\n",
       "       <path id=\"DejaVuSans-76\" d=\"M 191 3500 \n",
       "L 800 3500 \n",
       "L 1894 563 \n",
       "L 2988 3500 \n",
       "L 3597 3500 \n",
       "L 2284 0 \n",
       "L 1503 0 \n",
       "L 191 3500 \n",
       "z\n",
       "\" transform=\"scale(0.015625)\"/>\n",
       "       <path id=\"DejaVuSans-69\" d=\"M 603 3500 \n",
       "L 1178 3500 \n",
       "L 1178 0 \n",
       "L 603 0 \n",
       "L 603 3500 \n",
       "z\n",
       "M 603 4863 \n",
       "L 1178 4863 \n",
       "L 1178 4134 \n",
       "L 603 4134 \n",
       "L 603 4863 \n",
       "z\n",
       "\" transform=\"scale(0.015625)\"/>\n",
       "       <path id=\"DejaVuSans-77\" d=\"M 269 3500 \n",
       "L 844 3500 \n",
       "L 1563 769 \n",
       "L 2278 3500 \n",
       "L 2956 3500 \n",
       "L 3675 769 \n",
       "L 4391 3500 \n",
       "L 4966 3500 \n",
       "L 4050 0 \n",
       "L 3372 0 \n",
       "L 2619 2869 \n",
       "L 1863 0 \n",
       "L 1184 0 \n",
       "L 269 3500 \n",
       "z\n",
       "\" transform=\"scale(0.015625)\"/>\n",
       "      </defs>\n",
       "      <use xlink:href=\"#DejaVuSans-23\"/>\n",
       "      <use xlink:href=\"#DejaVuSans-20\" x=\"83.789062\"/>\n",
       "      <use xlink:href=\"#DejaVuSans-74\" x=\"115.576172\"/>\n",
       "      <use xlink:href=\"#DejaVuSans-6f\" x=\"154.785156\"/>\n",
       "      <use xlink:href=\"#DejaVuSans-6b\" x=\"215.966797\"/>\n",
       "      <use xlink:href=\"#DejaVuSans-65\" x=\"270.251953\"/>\n",
       "      <use xlink:href=\"#DejaVuSans-6e\" x=\"331.775391\"/>\n",
       "      <use xlink:href=\"#DejaVuSans-73\" x=\"395.154297\"/>\n",
       "      <use xlink:href=\"#DejaVuSans-20\" x=\"447.253906\"/>\n",
       "      <use xlink:href=\"#DejaVuSans-70\" x=\"479.041016\"/>\n",
       "      <use xlink:href=\"#DejaVuSans-65\" x=\"542.517578\"/>\n",
       "      <use xlink:href=\"#DejaVuSans-72\" x=\"604.041016\"/>\n",
       "      <use xlink:href=\"#DejaVuSans-20\" x=\"645.154297\"/>\n",
       "      <use xlink:href=\"#DejaVuSans-72\" x=\"676.941406\"/>\n",
       "      <use xlink:href=\"#DejaVuSans-65\" x=\"715.804688\"/>\n",
       "      <use xlink:href=\"#DejaVuSans-76\" x=\"777.328125\"/>\n",
       "      <use xlink:href=\"#DejaVuSans-69\" x=\"836.507812\"/>\n",
       "      <use xlink:href=\"#DejaVuSans-65\" x=\"864.291016\"/>\n",
       "      <use xlink:href=\"#DejaVuSans-77\" x=\"925.814453\"/>\n",
       "     </g>\n",
       "    </g>\n",
       "   </g>\n",
       "   <g id=\"matplotlib.axis_2\">\n",
       "    <g id=\"ytick_1\">\n",
       "     <g id=\"line2d_6\">\n",
       "      <defs>\n",
       "       <path id=\"ma733edd93f\" d=\"M 0 0 \n",
       "L -3.5 0 \n",
       "\" style=\"stroke: #000000; stroke-width: 0.8\"/>\n",
       "      </defs>\n",
       "      <g>\n",
       "       <use xlink:href=\"#ma733edd93f\" x=\"53.328125\" y=\"145.8\" style=\"stroke: #000000; stroke-width: 0.8\"/>\n",
       "      </g>\n",
       "     </g>\n",
       "     <g id=\"text_7\">\n",
       "      <!-- 0 -->\n",
       "      <g transform=\"translate(39.965625 149.599219)scale(0.1 -0.1)\">\n",
       "       <use xlink:href=\"#DejaVuSans-30\"/>\n",
       "      </g>\n",
       "     </g>\n",
       "    </g>\n",
       "    <g id=\"ytick_2\">\n",
       "     <g id=\"line2d_7\">\n",
       "      <g>\n",
       "       <use xlink:href=\"#ma733edd93f\" x=\"53.328125\" y=\"107.090323\" style=\"stroke: #000000; stroke-width: 0.8\"/>\n",
       "      </g>\n",
       "     </g>\n",
       "     <g id=\"text_8\">\n",
       "      <!-- 2000 -->\n",
       "      <g transform=\"translate(20.878125 110.889541)scale(0.1 -0.1)\">\n",
       "       <use xlink:href=\"#DejaVuSans-32\"/>\n",
       "       <use xlink:href=\"#DejaVuSans-30\" x=\"63.623047\"/>\n",
       "       <use xlink:href=\"#DejaVuSans-30\" x=\"127.246094\"/>\n",
       "       <use xlink:href=\"#DejaVuSans-30\" x=\"190.869141\"/>\n",
       "      </g>\n",
       "     </g>\n",
       "    </g>\n",
       "    <g id=\"ytick_3\">\n",
       "     <g id=\"line2d_8\">\n",
       "      <g>\n",
       "       <use xlink:href=\"#ma733edd93f\" x=\"53.328125\" y=\"68.380645\" style=\"stroke: #000000; stroke-width: 0.8\"/>\n",
       "      </g>\n",
       "     </g>\n",
       "     <g id=\"text_9\">\n",
       "      <!-- 4000 -->\n",
       "      <g transform=\"translate(20.878125 72.179864)scale(0.1 -0.1)\">\n",
       "       <use xlink:href=\"#DejaVuSans-34\"/>\n",
       "       <use xlink:href=\"#DejaVuSans-30\" x=\"63.623047\"/>\n",
       "       <use xlink:href=\"#DejaVuSans-30\" x=\"127.246094\"/>\n",
       "       <use xlink:href=\"#DejaVuSans-30\" x=\"190.869141\"/>\n",
       "      </g>\n",
       "     </g>\n",
       "    </g>\n",
       "    <g id=\"ytick_4\">\n",
       "     <g id=\"line2d_9\">\n",
       "      <g>\n",
       "       <use xlink:href=\"#ma733edd93f\" x=\"53.328125\" y=\"29.670968\" style=\"stroke: #000000; stroke-width: 0.8\"/>\n",
       "      </g>\n",
       "     </g>\n",
       "     <g id=\"text_10\">\n",
       "      <!-- 6000 -->\n",
       "      <g transform=\"translate(20.878125 33.470186)scale(0.1 -0.1)\">\n",
       "       <use xlink:href=\"#DejaVuSans-36\"/>\n",
       "       <use xlink:href=\"#DejaVuSans-30\" x=\"63.623047\"/>\n",
       "       <use xlink:href=\"#DejaVuSans-30\" x=\"127.246094\"/>\n",
       "       <use xlink:href=\"#DejaVuSans-30\" x=\"190.869141\"/>\n",
       "      </g>\n",
       "     </g>\n",
       "    </g>\n",
       "    <g id=\"text_11\">\n",
       "     <!-- count -->\n",
       "     <g transform=\"translate(14.798437 90.60625)rotate(-90)scale(0.1 -0.1)\">\n",
       "      <defs>\n",
       "       <path id=\"DejaVuSans-63\" d=\"M 3122 3366 \n",
       "L 3122 2828 \n",
       "Q 2878 2963 2633 3030 \n",
       "Q 2388 3097 2138 3097 \n",
       "Q 1578 3097 1268 2742 \n",
       "Q 959 2388 959 1747 \n",
       "Q 959 1106 1268 751 \n",
       "Q 1578 397 2138 397 \n",
       "Q 2388 397 2633 464 \n",
       "Q 2878 531 3122 666 \n",
       "L 3122 134 \n",
       "Q 2881 22 2623 -34 \n",
       "Q 2366 -91 2075 -91 \n",
       "Q 1284 -91 818 406 \n",
       "Q 353 903 353 1747 \n",
       "Q 353 2603 823 3093 \n",
       "Q 1294 3584 2113 3584 \n",
       "Q 2378 3584 2631 3529 \n",
       "Q 2884 3475 3122 3366 \n",
       "z\n",
       "\" transform=\"scale(0.015625)\"/>\n",
       "       <path id=\"DejaVuSans-75\" d=\"M 544 1381 \n",
       "L 544 3500 \n",
       "L 1119 3500 \n",
       "L 1119 1403 \n",
       "Q 1119 906 1312 657 \n",
       "Q 1506 409 1894 409 \n",
       "Q 2359 409 2629 706 \n",
       "Q 2900 1003 2900 1516 \n",
       "L 2900 3500 \n",
       "L 3475 3500 \n",
       "L 3475 0 \n",
       "L 2900 0 \n",
       "L 2900 538 \n",
       "Q 2691 219 2414 64 \n",
       "Q 2138 -91 1772 -91 \n",
       "Q 1169 -91 856 284 \n",
       "Q 544 659 544 1381 \n",
       "z\n",
       "M 1991 3584 \n",
       "L 1991 3584 \n",
       "z\n",
       "\" transform=\"scale(0.015625)\"/>\n",
       "      </defs>\n",
       "      <use xlink:href=\"#DejaVuSans-63\"/>\n",
       "      <use xlink:href=\"#DejaVuSans-6f\" x=\"54.980469\"/>\n",
       "      <use xlink:href=\"#DejaVuSans-75\" x=\"116.162109\"/>\n",
       "      <use xlink:href=\"#DejaVuSans-6e\" x=\"179.541016\"/>\n",
       "      <use xlink:href=\"#DejaVuSans-74\" x=\"242.919922\"/>\n",
       "     </g>\n",
       "    </g>\n",
       "   </g>\n",
       "   <g id=\"patch_22\">\n",
       "    <path d=\"M 53.328125 145.8 \n",
       "L 53.328125 7.2 \n",
       "\" style=\"fill: none; stroke: #000000; stroke-width: 0.8; stroke-linejoin: miter; stroke-linecap: square\"/>\n",
       "   </g>\n",
       "   <g id=\"patch_23\">\n",
       "    <path d=\"M 248.628125 145.8 \n",
       "L 248.628125 7.2 \n",
       "\" style=\"fill: none; stroke: #000000; stroke-width: 0.8; stroke-linejoin: miter; stroke-linecap: square\"/>\n",
       "   </g>\n",
       "   <g id=\"patch_24\">\n",
       "    <path d=\"M 53.328125 145.8 \n",
       "L 248.628125 145.8 \n",
       "\" style=\"fill: none; stroke: #000000; stroke-width: 0.8; stroke-linejoin: miter; stroke-linecap: square\"/>\n",
       "   </g>\n",
       "   <g id=\"patch_25\">\n",
       "    <path d=\"M 53.328125 7.2 \n",
       "L 248.628125 7.2 \n",
       "\" style=\"fill: none; stroke: #000000; stroke-width: 0.8; stroke-linejoin: miter; stroke-linecap: square\"/>\n",
       "   </g>\n",
       "  </g>\n",
       " </g>\n",
       " <defs>\n",
       "  <clipPath id=\"pad7f67d772\">\n",
       "   <rect x=\"53.328125\" y=\"7.2\" width=\"195.3\" height=\"138.6\"/>\n",
       "  </clipPath>\n",
       " </defs>\n",
       "</svg>\n"
      ],
      "text/plain": [
       "<Figure size 350x250 with 1 Axes>"
      ]
     },
     "metadata": {},
     "output_type": "display_data"
    }
   ],
   "source": [
    "d2l.set_figsize()\n",
    "d2l.plt.xlabel('# tokens per review')\n",
    "d2l.plt.ylabel('count')\n",
    "d2l.plt.hist([len(line) for line in train_tokens], bins=range(0, 1000, 50));"
   ]
  },
  {
   "cell_type": "code",
   "execution_count": 12,
   "id": "f858aab1-b9c9-476c-b2fb-3a250c10e68e",
   "metadata": {},
   "outputs": [
    {
     "name": "stdout",
     "output_type": "stream",
     "text": [
      "torch.Size([25000, 500])\n"
     ]
    }
   ],
   "source": [
    "num_steps = 500  # 序列长度\n",
    "train_features = torch.tensor([d2l.truncate_pad(\n",
    "    vocab[line], num_steps, vocab['<pad>']) for line in train_tokens])\n",
    "print(train_features.shape)"
   ]
  },
  {
   "cell_type": "code",
   "execution_count": 13,
   "id": "9b2d2fd4-bdf1-4fb2-8c22-530ba00280e9",
   "metadata": {},
   "outputs": [
    {
     "name": "stdout",
     "output_type": "stream",
     "text": [
      "X: torch.Size([64, 500]) , y: torch.Size([64])\n",
      "小批量数目： 391\n"
     ]
    }
   ],
   "source": [
    "train_iter = d2l.load_array((train_features,\n",
    "    torch.tensor(train_label)), 64)\n",
    "\n",
    "for X, y in train_iter:\n",
    "    print('X:', X.shape, ', y:', y.shape)\n",
    "    break\n",
    "print('小批量数目：', len(train_iter))"
   ]
  },
  {
   "cell_type": "markdown",
   "id": "327f9b63-d074-4c80-94ed-79608c9d92c6",
   "metadata": {},
   "source": [
    "# 训练词向量"
   ]
  },
  {
   "cell_type": "code",
   "execution_count": 11,
   "id": "4eac799d-a4a5-4d0f-b9f7-efadb2878ad2",
   "metadata": {},
   "outputs": [
    {
     "data": {
      "text/plain": [
       "'\"I Am Curious: Yellow\" is a risible and pretentious steaming pile . It doesn\\'t matter what one\\'s political views are because this film can hardly be taken seriously on any level . As for the claim that frontal male nudity is an automatic NC-17, that isn\\'t true . I\\'ve seen R-rated films with male nudity . Granted , they only offer some fleeting views , but where are the R-rated films with gaping vulvas and flapping labia ? Nowhere , because they don\\'t exist . The same goes for those crappy cable shows: schlongs swinging in the breeze but not a clitoris in sight . And those pretentious indie movies like The Brown Bunny , in which we\\'re treated to the site of Vincent Gallo\\'s throbbing johnson , but not a trace of pink visible on Chloe Sevigny . Before crying or implying \"double-standard\" in matters of nudity , the mentally obtuse should take into account one unavoidably obvious anatomical difference between men and women: there are no genitals on display when actresses appears nude , and the same cannot be said for a man . In fact , you generally won\\'t see female genitals in an American film in anything short of porn or explicit erotica . This alleged double-standard is less a double standard than an admittedly depressing ability to come to terms culturally with the insides of women\\'s bodies .'"
      ]
     },
     "execution_count": 11,
     "metadata": {},
     "output_type": "execute_result"
    }
   ],
   "source": [
    "ord('a')\n",
    "preprocess(dataset['train'][1]['text'])"
   ]
  },
  {
   "cell_type": "code",
   "execution_count": 10,
   "id": "7b80710f-1557-4bb5-b96a-0fe50d5e62fc",
   "metadata": {},
   "outputs": [
    {
     "name": "stdout",
     "output_type": "stream",
     "text": [
      "text\n",
      "label\n"
     ]
    }
   ],
   "source": [
    "for v in dataset['train'][:3]:\n",
    "    print(v)"
   ]
  },
  {
   "cell_type": "code",
   "execution_count": 4,
   "id": "518ec8fe-e06d-4d9e-bed7-f310ce3a955a",
   "metadata": {},
   "outputs": [
    {
     "name": "stdout",
     "output_type": "stream",
     "text": [
      "I rented I AM CURIOUS-YELLOW from my video store because of all the controversy that surrounded it when it was first released in 1967. I also heard that at first it was seized by U.S. customs if it ever tried to enter this country , therefore being a fan of films considered \"controversial\" I really had to see this for myself . The plot is centered around a young Swedish drama student named Lena who wants to learn everything she can about life . In particular she wants to focus her attentions to making some sort of documentary on what the average Swede thought about certain political issues such as the Vietnam War and race issues in the United States . In between asking politicians and ordinary denizens of Stockholm about their opinions on politics , she has sex with her drama teacher , classmates , and married men . What kills me about I AM CURIOUS-YELLOW is that 40 years ago , this was considered pornographic . Really , the sex and nudity scenes are few and far between , even then it's not shot like some cheaply made porno . While my countrymen mind find it shocking , in reality sex and nudity are a major staple in Swedish cinema . Even Ingmar Bergman , arguably their answer to good old boy John Ford , had sex scenes in his films . I do commend the filmmakers for the fact that any sex shown in the film is shown for artistic purposes rather than just to shock people and make money to be shown in pornographic theaters in America . I AM CURIOUS-YELLOW is a good film for anyone wanting to study the meat and potatoes no pun intended of Swedish cinema . But really , this film doesn't have much of a plot .\n"
     ]
    }
   ],
   "source": [
    "# 对于每一段评论文本，去除标点符号和换行符，单词间空格相连\n",
    "# 需注意，当前处理方法没有把单词中的标点符号去掉\n",
    "def no_space(char, prev_char):\n",
    "    return char in set(',.!?') and prev_char != ' ' and ord(prev_char) >= 97\n",
    "\n",
    "\n",
    "def preprocess(sentence):\n",
    "    sentence = sentence.strip('\\n').replace('<br /><br />', ' ').replace('(', '').replace(')', '')\n",
    "    out = [' ' + char if i > 0 and no_space(char, sentence[i - 1]) else char\n",
    "        for i, char in enumerate(sentence)]\n",
    "    return ''.join(out)\n",
    "\n",
    "\n",
    "processed = []\n",
    "for onedata in dataset['train']:\n",
    "    processed.append(preprocess(onedata['text']))\n",
    "\n",
    "print(processed[0])"
   ]
  },
  {
   "cell_type": "code",
   "execution_count": 11,
   "id": "707a21aa-bc19-4b9f-8cb1-26f2132af9dc",
   "metadata": {},
   "outputs": [
    {
     "data": {
      "text/plain": [
       "'It was great to see some of my favorite stars of 30 years ago including John Ritter , Ben Gazarra and Audrey Hepburn . They looked quite wonderful . But that was it . They were not given any characters or good lines to work with . I neither understood or cared what the characters were doing . Some of the smaller female roles were fine , Patty Henson and Colleen Camp were quite competent and confident in their small sidekick parts . They showed some talent and it is sad they didn\\'t go on to star in more and better films . Sadly , I didn\\'t think Dorothy Stratten got a chance to act in this her only important film role . The film appears to have some fans , and I was very open-minded when I started watching it . I am a big Peter Bogdanovich fan and I enjoyed his last movie , \"Cat\\'s Meow\" and all his early ones from \"Targets\" to \"Nickleodeon\". So , it really surprised me that I was barely able to keep awake watching this one . It is ironic that this movie is about a detective agency where the detectives and clients get romantically involved with each other . Five years later , Bogdanovich\\'s ex-girlfriend , Cybil Shepherd had a hit television series called \"Moonlighting\" stealing the story idea from Bogdanovich . Of course , there was a great difference in that the series relied on tons of witty dialogue , while this tries to make do with slapstick and a few screwball lines . Bottom line: It ain\\'t no \"Paper Moon\" and only a very pale version of \"What\\'s Up , Doc\".'"
      ]
     },
     "execution_count": 11,
     "metadata": {},
     "output_type": "execute_result"
    }
   ],
   "source": [
    "processed[10]"
   ]
  },
  {
   "cell_type": "code",
   "execution_count": null,
   "id": "fd20d77e-abd5-4dde-9dff-082c98e31b7e",
   "metadata": {},
   "outputs": [],
   "source": [
    "punc = set(',.?!')\n",
    "words = [[word for word in sen.split(' ') if word not in punc] for sen in processed]\n",
    "words[0]"
   ]
  },
  {
   "cell_type": "code",
   "execution_count": 9,
   "id": "8179b092-50c1-462a-9ac6-96cc3ac1ad94",
   "metadata": {},
   "outputs": [
    {
     "data": {
      "text/plain": [
       "(25000, 285)"
      ]
     },
     "execution_count": 9,
     "metadata": {},
     "output_type": "execute_result"
    }
   ],
   "source": [
    "len(words), len(words[0])"
   ]
  },
  {
   "cell_type": "code",
   "execution_count": 10,
   "id": "2fa620e1-1b6e-42b5-8e6a-06ff9ac94605",
   "metadata": {},
   "outputs": [
    {
     "name": "stdout",
     "output_type": "stream",
     "text": [
      "词表大小:  37651\n",
      "前50个token:  ['<unk>', '<pad>', 'the', 'a', 'and', 'of', 'to', 'is', 'in', 'I', 'that', 'it', 'this', 'was', 'as', 'with', 'movie', 'for', 'The', 'film', 'but', 'on', 'are', 'his', 'not', 'have', 'you', 'be', 'one', 'he', 'at', 'by', 'all', 'an', 'who', 'from', 'like', 'they', 'her', 'so', 'about', 'or', 'has', 'just', 'out', 'This', 'some', 'good', 'more', 'very']\n"
     ]
    }
   ],
   "source": [
    "vocab = d2l.Vocab(words, min_freq=5, reserved_tokens=['<pad>'])\n",
    "print('词表大小: ', len(vocab))\n",
    "print('前50个token: ', vocab.idx_to_token[:50])"
   ]
  },
  {
   "cell_type": "code",
   "execution_count": 14,
   "id": "a95bf247-d1df-443e-8216-7c81ccb63d93",
   "metadata": {},
   "outputs": [],
   "source": [
    "# 训练词向量\n",
    "file_path = 'autodl-tmp/'\n",
    "model = word2vec.Word2Vec(sentences=words, vector_size=512, sg=1, min_count=5)\n",
    "# model.save(file_path + \"imdb_word_vec_sg.bin\")"
   ]
  },
  {
   "cell_type": "code",
   "execution_count": 15,
   "id": "e9510558-3dc9-4818-a3f1-84c53f4a7654",
   "metadata": {},
   "outputs": [],
   "source": [
    "model.save(file_path + \"imdb_word_vec_sg.bin\")"
   ]
  },
  {
   "cell_type": "markdown",
   "id": "359f1163-6b38-44fc-84c8-389ed3a302fa",
   "metadata": {},
   "source": [
    "# 因子分析"
   ]
  },
  {
   "cell_type": "code",
   "execution_count": 4,
   "id": "91469216-ef13-4265-a669-1784d24e8dd3",
   "metadata": {},
   "outputs": [
    {
     "data": {
      "text/plain": [
       "(37649, 512)"
      ]
     },
     "execution_count": 4,
     "metadata": {},
     "output_type": "execute_result"
    }
   ],
   "source": [
    "model = word2vec.Word2Vec.load(file_path + 'imdb_word_vec_sg.bin')\n",
    "embedding = np.array([model.wv[word] for word in model.wv.index_to_key])\n",
    "embedding.shape"
   ]
  },
  {
   "cell_type": "code",
   "execution_count": null,
   "id": "89b6d4c9-7b11-43c5-83b3-c117ad5f1f44",
   "metadata": {},
   "outputs": [],
   "source": [
    "model.wv['fascinating']"
   ]
  },
  {
   "cell_type": "code",
   "execution_count": 5,
   "id": "c039bd28-7a97-4ff1-9cdd-fd9f2ff21272",
   "metadata": {},
   "outputs": [
    {
     "name": "stdout",
     "output_type": "stream",
     "text": [
      "Bartlett's球状检验: 检验总体变量的相关矩阵是否是单位阵\n"
     ]
    },
    {
     "name": "stderr",
     "output_type": "stream",
     "text": [
      "/root/miniconda3/lib/python3.8/site-packages/factor_analyzer/factor_analyzer.py:108: RuntimeWarning: divide by zero encountered in log\n",
      "  statistic = -np.log(corr_det) * (n - 1 - (2 * p + 5) / 6)\n"
     ]
    },
    {
     "name": "stdout",
     "output_type": "stream",
     "text": [
      "inf 0.0\n",
      "kmo检验:\n",
      "检查变量间的相关性和偏相关性，取值在0-1之间；KMO统计量越接近1，变量间的相关性越强，偏相关性越弱，因子分析的效果越好\n"
     ]
    },
    {
     "name": "stderr",
     "output_type": "stream",
     "text": [
      "/root/miniconda3/lib/python3.8/site-packages/factor_analyzer/utils.py:244: UserWarning: The inverse of the variance-covariance matrix was calculated using the Moore-Penrose generalized matrix inversion, due to its determinant being at or very close to zero.\n",
      "  warnings.warn(\n"
     ]
    },
    {
     "name": "stdout",
     "output_type": "stream",
     "text": [
      "KMO值为:  0.7556861312416779\n"
     ]
    }
   ],
   "source": [
    "# Bartlett's球状检验\n",
    "print('Bartlett\\'s球状检验: 检验总体变量的相关矩阵是否是单位阵')\n",
    "chi_square_value, p_value = calculate_bartlett_sphericity(embedding)\n",
    "print(chi_square_value, p_value)\n",
    "\n",
    "# 导入kmo检验\n",
    "print('kmo检验:')\n",
    "print('检查变量间的相关性和偏相关性，取值在0-1之间；KMO统计量越接近1，变量间的相关性越强，偏相关性越弱，因子分析的效果越好')\n",
    "kmo_all, kmo_model = calculate_kmo(embedding)\n",
    "print('KMO值为: ', kmo_model)"
   ]
  },
  {
   "cell_type": "code",
   "execution_count": 6,
   "id": "d141e6e0-a134-42df-827c-31cdc3df02d1",
   "metadata": {},
   "outputs": [
    {
     "name": "stdout",
     "output_type": "stream",
     "text": [
      "因子分析\n"
     ]
    }
   ],
   "source": [
    "# fa = FactorAnalyzer(25, rotation='varimax')\n",
    "print('因子分析')\n",
    "fa = FactorAnalyzer(25, rotation=None)\n",
    "fa.fit(embedding)\n",
    "\n",
    "# 特征值、特征向量\n",
    "ev, v = fa.get_eigenvalues()"
   ]
  },
  {
   "cell_type": "code",
   "execution_count": 7,
   "id": "1139df4b-dd86-4dec-b04e-065d8d50b4c2",
   "metadata": {},
   "outputs": [
    {
     "data": {
      "image/png": "[encoded data removed]",
      "text/plain": [
       "<Figure size 640x480 with 1 Axes>"
      ]
     },
     "metadata": {},
     "output_type": "display_data"
    }
   ],
   "source": [
    "# 可视化\n",
    "# plot横轴是指标个数，纵轴是ev值\n",
    "plt.scatter(range(1, embedding.shape[1]+1), ev)\n",
    "plt.plot(range(1, embedding.shape[1]+1), ev)\n",
    "plt.title('Scree Plot')\n",
    "plt.xlabel('Factors')\n",
    "plt.ylabel('Eigenvalue')\n",
    "plt.grid()\n",
    "plt.show()\n",
    "\n",
    "# plt.savefig('ev.png')"
   ]
  },
  {
   "cell_type": "code",
   "execution_count": 8,
   "id": "03b232c2-75ac-44b6-b353-784e27374f68",
   "metadata": {},
   "outputs": [
    {
     "data": {
      "image/png": "[encoded data removed]",
      "text/plain": [
       "<Figure size 640x480 with 1 Axes>"
      ]
     },
     "metadata": {},
     "output_type": "display_data"
    },
    {
     "data": {
      "text/plain": [
       "<Figure size 640x480 with 0 Axes>"
      ]
     },
     "metadata": {},
     "output_type": "display_data"
    }
   ],
   "source": [
    "# 前三十\n",
    "plt.scatter(range(1, 31), ev[:30])\n",
    "plt.plot(range(1, 31), ev[:30])\n",
    "plt.title('Scree Plot')\n",
    "plt.xlabel('Factors')\n",
    "plt.ylabel('Eigenvalue')\n",
    "plt.grid()\n",
    "plt.show()\n",
    "plt.savefig(file_path + 'ev30.png')"
   ]
  },
  {
   "cell_type": "code",
   "execution_count": 11,
   "id": "93a0c6fb-6b26-4309-9d2d-b423a3c74468",
   "metadata": {},
   "outputs": [],
   "source": [
    "# fa = FactorAnalyzer(8, rotation=\"promax\")\n",
    "# fa.fit(embedding)\n",
    "# print(fa.loadings_.shape)\n",
    "\n",
    "# 512*8(变量个数*因子个数)\n",
    "index = fa.loadings_.argmax(axis=1)\n",
    "res = np.array([[i, idx] for i, idx in enumerate(index)])\n",
    "\n",
    "data_1 = pd.DataFrame(fa.loadings_, columns=['fa1', 'fa2', 'fa3', 'fa4', 'fa5', 'fa6', 'fa7', 'fa8'])\n",
    "data_2 = pd.DataFrame(res, columns=['Dimension', 'Factor'])\n",
    "with pd.ExcelWriter(file_path + \"FA.xls\") as writer1:\n",
    "    data_1.to_excel(writer1, sheet_name=\"Sheet1\")\n",
    "    data_2.to_excel(writer1, sheet_name=\"Sheet2\")\n",
    "    writer1.save()"
   ]
  },
  {
   "cell_type": "code",
   "execution_count": 18,
   "id": "36d0e485-a8d2-4041-a99d-eadeb8d567a8",
   "metadata": {},
   "outputs": [
    {
     "data": {
      "image/png": "[encoded data removed]",
      "text/plain": [
       "<Figure size 1200x2500 with 2 Axes>"
      ]
     },
     "metadata": {},
     "output_type": "display_data"
    }
   ],
   "source": [
    "# 因子分析结果可视化\n",
    "import seaborn as sns\n",
    "df_cm = pd.DataFrame(np.abs(fa.loadings_))\n",
    "fig,ax = plt.subplots(figsize=(12,25))\n",
    "sns.heatmap(df_cm, annot = None, cmap='YlGnBu',ax=ax)  # cbar_kws\n",
    "\n",
    "\n",
    "# dict_={'orientation':'vertical',\"label\":\"color  \\\n",
    "# scale\",\"drawedges\":True,\"ticklocation\":\"top\",\"extend\":\"min\", \\\n",
    "# \"filled\":True,\"alpha\":0.8,\"cmap\":\"cmap\",\"ticks\":tick_}\n",
    "# cbar_kws = dict_\n",
    "\n",
    "# 设置y轴字体的大小\n",
    "ax.tick_params(axis='x',labelsize=15)\n",
    "ax.set_title(\"Factor Analysis\",fontsize=12)\n",
    "ax.set_ylabel(\"Dimension\")\n",
    "plt.savefig(file_path + 'dimension.png')"
   ]
  },
  {
   "cell_type": "markdown",
   "id": "b7ae6706-b423-4a23-8e9d-4ea8b96c3b99",
   "metadata": {},
   "source": [
    "# 模型架构"
   ]
  },
  {
   "cell_type": "code",
   "execution_count": 1,
   "id": "ffe0bf5f-fcef-4689-af9a-4dd7f06ad715",
   "metadata": {},
   "outputs": [],
   "source": [
    "import torch\n",
    "from torch import nn\n",
    "import numpy as np\n",
    "import pandas as pd\n",
    "from d2l import torch as d2l\n",
    "import matplotlib.pyplot as plt\n",
    "from datasets import load_dataset\n",
    "from tqdm import tqdm\n",
    "import time\n",
    "import math\n",
    "from gensim.models import word2vec"
   ]
  },
  {
   "cell_type": "code",
   "execution_count": 2,
   "id": "e48c6e10-a14c-4c62-9f30-55c64d88f164",
   "metadata": {},
   "outputs": [],
   "source": [
    "class FlexiHeadAttention(nn.Module):\n",
    "    \"\"\"修改多头注意力，针对嵌入512维，8个head的模型\"\"\"\n",
    "\n",
    "    def __init__(self, num_hiddens, dim_dict, dropout, bias=False, **kwargs):\n",
    "        super(FlexiHeadAttention, self).__init__(**kwargs)\n",
    "        self.attention = d2l.DotProductAttention(dropout)\n",
    "        self.W_o = nn.Linear(num_hiddens, num_hiddens, bias=bias)\n",
    "        self.dim_dict = dim_dict\n",
    "        self.dim_0 = [dim for dim, idx in self.dim_dict.items() if idx == 0]\n",
    "        self.dim_1 = [dim for dim, idx in self.dim_dict.items() if idx == 1]\n",
    "        self.dim_2 = [dim for dim, idx in self.dim_dict.items() if idx == 2]\n",
    "        self.dim_3 = [dim for dim, idx in self.dim_dict.items() if idx == 3]\n",
    "        self.dim_4 = [dim for dim, idx in self.dim_dict.items() if idx == 4]\n",
    "        self.dim_5 = [dim for dim, idx in self.dim_dict.items() if idx == 5]\n",
    "        self.dim_6 = [dim for dim, idx in self.dim_dict.items() if idx == 6]\n",
    "        self.dim_7 = [dim for dim, idx in self.dim_dict.items() if idx == 7]\n",
    "        # self.list_concat = torch.cat((self.dim_0, self.dim_1, self.dim_2, self.dim_3, self.dim_4, self.dim_5,\n",
    "        # self.dim_6, self.dim_7))\n",
    "        self.len_0, self.len_1, self.len_2, self.len_3, self.len_4, self.len_5, self.len_6, self.len_7 = len(\n",
    "            self.dim_0), len(self.dim_1), len(self.dim_2), len(self.dim_3), len(self.dim_4), len(self.dim_5),\\\n",
    "            len(self.dim_6), len(self.dim_7)\n",
    "\n",
    "        self.Wq0 = nn.Linear(self.len_0, self.len_0, bias=bias)\n",
    "        self.Wq1 = nn.Linear(self.len_1, self.len_1, bias=bias)\n",
    "        self.Wq2 = nn.Linear(self.len_2, self.len_2, bias=bias)\n",
    "        self.Wq3 = nn.Linear(self.len_3, self.len_3, bias=bias)\n",
    "        self.Wq4 = nn.Linear(self.len_4, self.len_4, bias=bias)\n",
    "        self.Wq5 = nn.Linear(self.len_5, self.len_5, bias=bias)\n",
    "        self.Wq6 = nn.Linear(self.len_6, self.len_6, bias=bias)\n",
    "        self.Wq7 = nn.Linear(self.len_7, self.len_7, bias=bias)\n",
    "\n",
    "        self.Wk0 = nn.Linear(self.len_0, self.len_0, bias=bias)\n",
    "        self.Wk1 = nn.Linear(self.len_1, self.len_1, bias=bias)\n",
    "        self.Wk2 = nn.Linear(self.len_2, self.len_2, bias=bias)\n",
    "        self.Wk3 = nn.Linear(self.len_3, self.len_3, bias=bias)\n",
    "        self.Wk4 = nn.Linear(self.len_4, self.len_4, bias=bias)\n",
    "        self.Wk5 = nn.Linear(self.len_5, self.len_5, bias=bias)\n",
    "        self.Wk6 = nn.Linear(self.len_6, self.len_6, bias=bias)\n",
    "        self.Wk7 = nn.Linear(self.len_7, self.len_7, bias=bias)\n",
    "\n",
    "        self.Wv0 = nn.Linear(self.len_0, self.len_0, bias=bias)\n",
    "        self.Wv1 = nn.Linear(self.len_1, self.len_1, bias=bias)\n",
    "        self.Wv2 = nn.Linear(self.len_2, self.len_2, bias=bias)\n",
    "        self.Wv3 = nn.Linear(self.len_3, self.len_3, bias=bias)\n",
    "        self.Wv4 = nn.Linear(self.len_4, self.len_4, bias=bias)\n",
    "        self.Wv5 = nn.Linear(self.len_5, self.len_5, bias=bias)\n",
    "        self.Wv6 = nn.Linear(self.len_6, self.len_6, bias=bias)\n",
    "        self.Wv7 = nn.Linear(self.len_7, self.len_7, bias=bias)\n",
    "\n",
    "    def forward(self, queries, keys, values, valid_lens):\n",
    "        def assemble(output_concat, list_concat):\n",
    "            reslist = []\n",
    "            for i in range(512):\n",
    "                reslist.append(list_concat.index(i))\n",
    "            return torch.index_select(output_concat, -1, torch.tensor(reslist, device=output_concat.device))\n",
    "\n",
    "        # queries, keys, values的形状: (batch_size，查询或者“键－值”对的个数，num_hiddens)\n",
    "        # qi, ki, vi的形状：(batch_size, 查询或者“键－值”对的个数， self.len_i)\n",
    "        q0, k0, v0 = torch.index_select(queries, -1, torch.tensor(self.dim_0, device=queries.device)), \\\n",
    "            torch.index_select(keys, -1, torch.tensor(self.dim_0, device=keys.device)), torch.index_select(\n",
    "            values, -1, torch.tensor(self.dim_0, device=values.device))\n",
    "        q1, k1, v1 = torch.index_select(queries, -1, torch.tensor(self.dim_1, device=queries.device)), \\\n",
    "            torch.index_select(keys, -1, torch.tensor(self.dim_1, device=keys.device)), torch.index_select(\n",
    "            values, -1, torch.tensor(self.dim_1, device=values.device))\n",
    "        q2, k2, v2 = torch.index_select(queries, -1, torch.tensor(self.dim_2, device=queries.device)), \\\n",
    "            torch.index_select(keys, -1, torch.tensor(self.dim_2, device=keys.device)), torch.index_select(\n",
    "            values, -1, torch.tensor(self.dim_2, device=values.device))\n",
    "        q3, k3, v3 = torch.index_select(queries, -1, torch.tensor(self.dim_3, device=queries.device)), \\\n",
    "            torch.index_select(keys, -1, torch.tensor(self.dim_3, device=keys.device)), torch.index_select(\n",
    "            values, -1, torch.tensor(self.dim_3, device=values.device))\n",
    "        q4, k4, v4 = torch.index_select(queries, -1, torch.tensor(self.dim_4, device=queries.device)), \\\n",
    "            torch.index_select(keys, -1, torch.tensor(self.dim_4, device=keys.device)), torch.index_select(\n",
    "            values, -1, torch.tensor(self.dim_4, device=values.device))\n",
    "        q5, k5, v5 = torch.index_select(queries, -1, torch.tensor(self.dim_5, device=queries.device)), \\\n",
    "            torch.index_select(keys, -1, torch.tensor(self.dim_5, device=keys.device)), torch.index_select(\n",
    "            values, -1, torch.tensor(self.dim_5, device=values.device))\n",
    "        q6, k6, v6 = torch.index_select(queries, -1, torch.tensor(self.dim_6, device=queries.device)), \\\n",
    "            torch.index_select(keys, -1, torch.tensor(self.dim_6, device=keys.device)), torch.index_select(\n",
    "            values, -1, torch.tensor(self.dim_6, device=values.device))\n",
    "        q7, k7, v7 = torch.index_select(queries, -1, torch.tensor(self.dim_7, device=queries.device)), \\\n",
    "            torch.index_select(keys, -1, torch.tensor(self.dim_7, device=keys.device)), torch.index_select(\n",
    "            values, -1, torch.tensor(self.dim_7, device=values.device))\n",
    "\n",
    "        head0 = self.attention(self.Wq0(q0), self.Wk0(k0), self.Wv0(v0), valid_lens)\n",
    "        head1 = self.attention(self.Wq1(q1), self.Wk1(k1), self.Wv1(v1), valid_lens)\n",
    "        head2 = self.attention(self.Wq2(q2), self.Wk2(k2), self.Wv2(v2), valid_lens)\n",
    "        head3 = self.attention(self.Wq3(q3), self.Wk3(k3), self.Wv3(v3), valid_lens)\n",
    "        head4 = self.attention(self.Wq4(q4), self.Wk4(k4), self.Wv4(v4), valid_lens)\n",
    "        head5 = self.attention(self.Wq5(q5), self.Wk5(k5), self.Wv5(v5), valid_lens)\n",
    "        head6 = self.attention(self.Wq6(q6), self.Wk6(k6), self.Wv6(v6), valid_lens)\n",
    "        head7 = self.attention(self.Wq7(q7), self.Wk7(k7), self.Wv7(v7), valid_lens)\n",
    "\n",
    "        output_concat = torch.cat((head0, head1, head2, head3, head4, head5, head6, head7), dim=-1)\n",
    "        list_concat = self.dim_0 + self.dim_1 + self.dim_2 + self.dim_3 + self.dim_4 + self.dim_5 + self.dim_6 + self.dim_7\n",
    "        return self.W_o(assemble(output_concat, list_concat))"
   ]
  },
  {
   "cell_type": "code",
   "execution_count": 3,
   "id": "3dfe90bd-2a20-4d71-9dc2-bf15254ed2fc",
   "metadata": {},
   "outputs": [],
   "source": [
    "# 编码器块\n",
    "class EncoderBlock(nn.Module):\n",
    "    \"\"\"transformer编码器块\"\"\"\n",
    "\n",
    "    def __init__(self, num_hiddens, norm_shape, ffn_num_input,\n",
    "                 ffn_num_hiddens, dim_dict, dropout, use_bias=False, **kwargs):\n",
    "        super(EncoderBlock, self).__init__(**kwargs)\n",
    "        self.attention = FlexiHeadAttention(num_hiddens, dim_dict, dropout, use_bias)\n",
    "        self.addnorm1 = d2l.AddNorm(norm_shape, dropout)\n",
    "        self.ffn = d2l.PositionWiseFFN(\n",
    "            ffn_num_input, ffn_num_hiddens, num_hiddens)\n",
    "        self.addnorm2 = d2l.AddNorm(norm_shape, dropout)\n",
    "\n",
    "    def forward(self, X, valid_lens):\n",
    "        Y = self.addnorm1(X, self.attention(X, X, X, valid_lens))\n",
    "        return self.addnorm2(Y, self.ffn(Y))"
   ]
  },
  {
   "cell_type": "code",
   "execution_count": 8,
   "id": "ce6a85ff-fd43-4869-9697-f717afe8ffa4",
   "metadata": {},
   "outputs": [],
   "source": [
    "# 编码器\n",
    "class TransformerEncoder(d2l.Encoder):\n",
    "    \"\"\"transformer编码器\"\"\"\n",
    "\n",
    "    def __init__(self, vocab_size, num_hiddens, norm_shape, ffn_num_input,\n",
    "                 ffn_num_hiddens, dim_dict, num_layers, dropout, num_output,\n",
    "                 use_bias=False, **kwargs):\n",
    "        super(TransformerEncoder, self).__init__(**kwargs)\n",
    "        self.num_hiddens = num_hiddens\n",
    "        self.embedding = nn.Embedding(vocab_size, num_hiddens)\n",
    "        self.pos_encoding = d2l.PositionalEncoding(num_hiddens, dropout)\n",
    "        self.blks = nn.Sequential()\n",
    "        self.outhidden = nn.Sequential(\n",
    "                                    nn.Linear(num_hiddens, num_hiddens),\n",
    "                                    nn.ReLU())\n",
    "        self.Dense = nn.Linear(num_hiddens, num_output)\n",
    "        for i in range(num_layers):\n",
    "            self.blks.add_module(\"block\" + str(i),\n",
    "                                 EncoderBlock(num_hiddens, norm_shape, ffn_num_input,\n",
    "                                              ffn_num_hiddens, dim_dict, dropout, use_bias))\n",
    "\n",
    "    def forward(self, X, valid_lens, *args):\n",
    "        # 因为位置编码值在-1和1之间，\n",
    "        # 因此嵌入值乘以嵌入维度的平方根进行缩放，然后再与位置编码相加。\n",
    "        X = self.pos_encoding(self.embedding(X) * math.sqrt(self.num_hiddens))\n",
    "        self.attention_weights = [None] * len(self.blks)\n",
    "        for i, blk in enumerate(self.blks):\n",
    "            X = blk(X, valid_lens)\n",
    "            self.attention_weights[i] = blk.attention.attention.attention_weights\n",
    "        # 取句首'cls'token的向量用于情感分类\n",
    "        return self.Dense(self.outhidden(X[:, 0, :]))"
   ]
  },
  {
   "cell_type": "code",
   "execution_count": 13,
   "id": "f3e0965b-079b-400d-b8ab-27a31c8ffab8",
   "metadata": {},
   "outputs": [],
   "source": [
    "# 卷积的编码器\n",
    "class TransformerEncoder(d2l.Encoder):\n",
    "    \"\"\"transformer编码器\"\"\"\n",
    "\n",
    "    def __init__(self, vocab_size, num_hiddens, norm_shape, ffn_num_input,\n",
    "                 ffn_num_hiddens, dim_dict, num_layers, dropout, num_output,\n",
    "                 kernel_size, stride, use_bias=False, **kwargs):\n",
    "        super(TransformerEncoder, self).__init__(**kwargs)\n",
    "        self.num_hiddens = num_hiddens\n",
    "        self.embedding = nn.Embedding(vocab_size, num_hiddens)\n",
    "        self.pos_encoding = d2l.PositionalEncoding(num_hiddens, dropout)\n",
    "        self.blks = nn.Sequential()\n",
    "        self.conv = nn.Conv1d(num_hiddens, 1, kernel_size, stride)\n",
    "        self.relu = nn.ReLU()\n",
    "        self.Dense = nn.Linear(100, num_output)\n",
    "        for i in range(num_layers):\n",
    "            self.blks.add_module(\"block\" + str(i),\n",
    "                                 EncoderBlock(num_hiddens, norm_shape, ffn_num_input,\n",
    "                                              ffn_num_hiddens, dim_dict, dropout, use_bias))\n",
    "\n",
    "    def forward(self, X, valid_lens, *args):\n",
    "        # 因为位置编码值在-1和1之间，\n",
    "        # 因此嵌入值乘以嵌入维度的平方根进行缩放，然后再与位置编码相加。\n",
    "        X = self.pos_encoding(self.embedding(X) * math.sqrt(self.num_hiddens))\n",
    "        self.attention_weights = [None] * len(self.blks)\n",
    "        for i, blk in enumerate(self.blks):\n",
    "            X = blk(X, valid_lens)\n",
    "            self.attention_weights[i] = blk.attention.attention.attention_weights\n",
    "        # 交换X的num_steps和num_hiddens两个维度\n",
    "        X = X.permute(0, 2, 1)\n",
    "        out = torch.squeeze(self.relu(self.conv(X)), dim=1)\n",
    "        return self.Dense(out)"
   ]
  },
  {
   "cell_type": "code",
   "execution_count": null,
   "id": "07f314de-15b6-41fb-a8b5-8b1b48575305",
   "metadata": {},
   "outputs": [],
   "source": [
    "# self.outhidden = nn.Sequential(nn.Linear(num_hiddens, num_hiddens),\n",
    "#                                     nn.Tanh())\n",
    "# self.Dense(self.outhidden(X[: 0, :]))"
   ]
  },
  {
   "cell_type": "code",
   "execution_count": null,
   "id": "f00e604e-7bc1-4de8-ad13-0845e0b75f8c",
   "metadata": {},
   "outputs": [],
   "source": [
    "Net = TransformerEncoder(200, 512, [512], 512, 512, dim_dict, 2, 0.1, 2)\n",
    "Net.eval()\n",
    "valid_lens = torch.tensor([3, 2])\n",
    "Net(torch.ones((2, 100), dtype=torch.long), valid_lens).shape"
   ]
  },
  {
   "cell_type": "code",
   "execution_count": null,
   "id": "dbb6008e-4200-4973-ba8b-7bdbf4b59224",
   "metadata": {},
   "outputs": [],
   "source": [
    "# device = d2l.try_gpu()\n",
    "net.to(device)\n",
    "print('net device:', next(net.parameters()).device)\n",
    "# cuda = next(net.parameters()).device\n",
    "for X, valid_len, _ in train_iter:\n",
    "    X, valid_len = [v.to(device) for v in (X, valid_len)]\n",
    "    # valid_len = valid_len.to(cuda)\n",
    "    print(X.device)\n",
    "    y = torch.ones(64, dtype=torch.long, device=cuda)\n",
    "    print(net(X, valid_len))\n",
    "    print(l(net(X, valid_len), y))\n",
    "    break"
   ]
  },
  {
   "cell_type": "code",
   "execution_count": 95,
   "id": "6e20bce0-821a-4a54-9c25-763308dbec96",
   "metadata": {},
   "outputs": [
    {
     "data": {
      "text/plain": [
       "tensor(1.5948)"
      ]
     },
     "execution_count": 95,
     "metadata": {},
     "output_type": "execute_result"
    }
   ],
   "source": [
    "a = torch.rand((2, 3))\n",
    "b = torch.ones((2), dtype=torch.long)\n",
    "l = nn.CrossEntropyLoss()\n",
    "l(a, b)"
   ]
  },
  {
   "cell_type": "code",
   "execution_count": 70,
   "id": "2c931bfb-1cb1-46ad-adcd-cd08b4d26655",
   "metadata": {},
   "outputs": [
    {
     "data": {
      "text/plain": [
       "device(type='cpu')"
      ]
     },
     "execution_count": 70,
     "metadata": {},
     "output_type": "execute_result"
    }
   ],
   "source": [
    "a[:,0].device"
   ]
  },
  {
   "cell_type": "code",
   "execution_count": 11,
   "id": "97403087-0b8e-4902-8671-a0881275d46e",
   "metadata": {},
   "outputs": [],
   "source": [
    "# 训练准备\n",
    "excelfile = pd.read_excel(file_path + 'FA.xls', sheet_name='Sheet2', header=0, index_col=0)\n",
    "dim_dict = dict()\n",
    "for i in range(512):\n",
    "    dim_dict[excelfile['Dimension'].values[i]] = excelfile['Factor'].values[i]"
   ]
  },
  {
   "cell_type": "code",
   "execution_count": 29,
   "id": "2f5462a8-e2af-40cc-9377-9add1a081198",
   "metadata": {},
   "outputs": [
    {
     "data": {
      "text/plain": [
       "torch.Size([2, 100, 2])"
      ]
     },
     "execution_count": 29,
     "metadata": {},
     "output_type": "execute_result"
    }
   ],
   "source": [
    "Net = TransformerEncoder(200, 512, [512], 512, 512, dim_dict, 2, 0.1, 2)\n",
    "Net.eval()\n",
    "valid_lens = torch.tensor([3, 2])\n",
    "Net(torch.ones((2, 100), dtype=torch.long), valid_lens).shape"
   ]
  },
  {
   "cell_type": "code",
   "execution_count": null,
   "id": "36342155-52cf-4c1f-99d4-e34f320b5703",
   "metadata": {},
   "outputs": [],
   "source": [
    "for name, parameters in Net.named_parameters():\n",
    "    print(name, ';', parameters.size())"
   ]
  },
  {
   "cell_type": "markdown",
   "id": "03291ce3-3c9d-4c36-9ee9-56240c5c3053",
   "metadata": {},
   "source": [
    "# 加载数据"
   ]
  },
  {
   "cell_type": "code",
   "execution_count": 5,
   "id": "6e9ddb40-c45b-4b53-83ce-a24f2d741b71",
   "metadata": {},
   "outputs": [
    {
     "name": "stderr",
     "output_type": "stream",
     "text": [
      "Reusing dataset imdb (/root/.cache/huggingface/datasets/imdb/plain_text/1.0.0/2fdd8b9bcadd6e7055e742a706876ba43f19faee861df134affd7a3f60fc38a1)\n"
     ]
    },
    {
     "data": {
      "application/vnd.jupyter.widget-view+json": {
       "model_id": "f110487ffdeb4fe8b5e75d1b235dbce3",
       "version_major": 2,
       "version_minor": 0
      },
      "text/plain": [
       "  0%|          | 0/3 [00:00<?, ?it/s]"
      ]
     },
     "metadata": {},
     "output_type": "display_data"
    },
    {
     "name": "stdout",
     "output_type": "stream",
     "text": [
      "训练集长度: 25000 测试集长度: 25000 无标签集长度: 50000\n",
      "词表大小:  37652\n",
      "前50个token:  ['<unk>', '<pad>', '<cls>', 'the', 'a', 'and', 'of', 'to', 'is', 'in', 'I', 'that', 'it', 'this', 'was', 'as', 'with', 'movie', 'for', 'The', 'film', 'but', 'on', 'are', 'his', 'not', 'have', 'you', 'be', 'one', 'he', 'at', 'by', 'all', 'an', 'who', 'from', 'like', 'they', 'her', 'so', 'about', 'or', 'has', 'just', 'out', 'This', 'some', 'good', 'more']\n"
     ]
    }
   ],
   "source": [
    "# 数据\n",
    "dataset = load_dataset('imdb')\n",
    "print('训练集长度:', len(dataset['train']), '测试集长度:', len(dataset['test']), '无标签集长度:', len(dataset['unsupervised']))\n",
    "\n",
    "# 对于每一段评论文本，去除标点符号和换行符，单词间空格相连\n",
    "# 需注意，当前处理方法没有把单词中的标点符号去掉\n",
    "def no_space(char, prev_char):\n",
    "    return char in set(',.!?') and prev_char != ' ' and ord(prev_char) >= 97\n",
    "\n",
    "\n",
    "def preprocess(sentence):\n",
    "    sentence = sentence.strip('\\n').replace('<br /><br />', ' ').replace('(', '').replace(')', '')\n",
    "    out = [' ' + char if i > 0 and no_space(char, sentence[i - 1]) else char\n",
    "        for i, char in enumerate(sentence)]\n",
    "    return ''.join(out)\n",
    "\n",
    "\n",
    "def load_datawords(dataset):\n",
    "    processed = []\n",
    "    for onedata in dataset:\n",
    "        processed.append(preprocess(onedata['text']))\n",
    "\n",
    "    punc = set(',.?!')\n",
    "    words = [[word for word in sen.split(' ') if word not in punc] for sen in processed]\n",
    "    return [['<cls>'] + line for line in words]\n",
    "\n",
    "\n",
    "train_words = load_datawords(dataset['train'])\n",
    "vocab = d2l.Vocab(train_words, min_freq=5, reserved_tokens=['<pad>', '<cls>'])\n",
    "print('词表大小: ', len(vocab))\n",
    "print('前50个token: ', vocab.idx_to_token[:50])"
   ]
  },
  {
   "cell_type": "code",
   "execution_count": 5,
   "id": "bf1462f5-21ba-48a5-8c12-327ccbfdf0eb",
   "metadata": {},
   "outputs": [
    {
     "data": {
      "image/svg+xml": [
       "<?xml version=\"1.0\" encoding=\"utf-8\" standalone=\"no\"?>\n",
       "<!DOCTYPE svg PUBLIC \"-//W3C//DTD SVG 1.1//EN\"\n",
       "  \"http://www.w3.org/Graphics/SVG/1.1/DTD/svg11.dtd\">\n",
       "<svg xmlns:xlink=\"http://www.w3.org/1999/xlink\" width=\"255.828125pt\" height=\"183.35625pt\" viewBox=\"0 0 255.828125 183.35625\" xmlns=\"http://www.w3.org/2000/svg\" version=\"1.1\">\n",
       " <metadata>\n",
       "  <rdf:RDF xmlns:dc=\"http://purl.org/dc/elements/1.1/\" xmlns:cc=\"http://creativecommons.org/ns#\" xmlns:rdf=\"http://www.w3.org/1999/02/22-rdf-syntax-ns#\">\n",
       "   <cc:Work>\n",
       "    <dc:type rdf:resource=\"http://purl.org/dc/dcmitype/StillImage\"/>\n",
       "    <dc:date>2022-09-30T08:49:39.591356</dc:date>\n",
       "    <dc:format>image/svg+xml</dc:format>\n",
       "    <dc:creator>\n",
       "     <cc:Agent>\n",
       "      <dc:title>Matplotlib v3.5.1, https://matplotlib.org/</dc:title>\n",
       "     </cc:Agent>\n",
       "    </dc:creator>\n",
       "   </cc:Work>\n",
       "  </rdf:RDF>\n",
       " </metadata>\n",
       " <defs>\n",
       "  <style type=\"text/css\">*{stroke-linejoin: round; stroke-linecap: butt}</style>\n",
       " </defs>\n",
       " <g id=\"figure_1\">\n",
       "  <g id=\"patch_1\">\n",
       "   <path d=\"M 0 183.35625 \n",
       "L 255.828125 183.35625 \n",
       "L 255.828125 0 \n",
       "L 0 0 \n",
       "z\n",
       "\" style=\"fill: #ffffff\"/>\n",
       "  </g>\n",
       "  <g id=\"axes_1\">\n",
       "   <g id=\"patch_2\">\n",
       "    <path d=\"M 53.328125 145.8 \n",
       "L 248.628125 145.8 \n",
       "L 248.628125 7.2 \n",
       "L 53.328125 7.2 \n",
       "z\n",
       "\" style=\"fill: #ffffff\"/>\n",
       "   </g>\n",
       "   <g id=\"patch_3\">\n",
       "    <path d=\"M 62.205398 145.8 \n",
       "L 71.549895 145.8 \n",
       "L 71.549895 136.109951 \n",
       "L 62.205398 136.109951 \n",
       "z\n",
       "\" clip-path=\"url(#p87ba3f76e6)\" style=\"fill: #1f77b4\"/>\n",
       "   </g>\n",
       "   <g id=\"patch_4\">\n",
       "    <path d=\"M 71.549895 145.8 \n",
       "L 80.894393 145.8 \n",
       "L 80.894393 98.504731 \n",
       "L 71.549895 98.504731 \n",
       "z\n",
       "\" clip-path=\"url(#p87ba3f76e6)\" style=\"fill: #1f77b4\"/>\n",
       "   </g>\n",
       "   <g id=\"patch_5\">\n",
       "    <path d=\"M 80.894393 145.8 \n",
       "L 90.238891 145.8 \n",
       "L 90.238891 13.8 \n",
       "L 80.894393 13.8 \n",
       "z\n",
       "\" clip-path=\"url(#p87ba3f76e6)\" style=\"fill: #1f77b4\"/>\n",
       "   </g>\n",
       "   <g id=\"patch_6\">\n",
       "    <path d=\"M 90.238891 145.8 \n",
       "L 99.583388 145.8 \n",
       "L 99.583388 50.328548 \n",
       "L 90.238891 50.328548 \n",
       "z\n",
       "\" clip-path=\"url(#p87ba3f76e6)\" style=\"fill: #1f77b4\"/>\n",
       "   </g>\n",
       "   <g id=\"patch_7\">\n",
       "    <path d=\"M 99.583388 145.8 \n",
       "L 108.927886 145.8 \n",
       "L 108.927886 89.499837 \n",
       "L 99.583388 89.499837 \n",
       "z\n",
       "\" clip-path=\"url(#p87ba3f76e6)\" style=\"fill: #1f77b4\"/>\n",
       "   </g>\n",
       "   <g id=\"patch_8\">\n",
       "    <path d=\"M 108.927886 145.8 \n",
       "L 118.272383 145.8 \n",
       "L 118.272383 109.428059 \n",
       "L 108.927886 109.428059 \n",
       "z\n",
       "\" clip-path=\"url(#p87ba3f76e6)\" style=\"fill: #1f77b4\"/>\n",
       "   </g>\n",
       "   <g id=\"patch_9\">\n",
       "    <path d=\"M 118.272383 145.8 \n",
       "L 127.616881 145.8 \n",
       "L 127.616881 118.726591 \n",
       "L 118.272383 118.726591 \n",
       "z\n",
       "\" clip-path=\"url(#p87ba3f76e6)\" style=\"fill: #1f77b4\"/>\n",
       "   </g>\n",
       "   <g id=\"patch_10\">\n",
       "    <path d=\"M 127.616881 145.8 \n",
       "L 136.961379 145.8 \n",
       "L 136.961379 126.106688 \n",
       "L 127.616881 126.106688 \n",
       "z\n",
       "\" clip-path=\"url(#p87ba3f76e6)\" style=\"fill: #1f77b4\"/>\n",
       "   </g>\n",
       "   <g id=\"patch_11\">\n",
       "    <path d=\"M 136.961379 145.8 \n",
       "L 146.305876 145.8 \n",
       "L 146.305876 131.157259 \n",
       "L 136.961379 131.157259 \n",
       "z\n",
       "\" clip-path=\"url(#p87ba3f76e6)\" style=\"fill: #1f77b4\"/>\n",
       "   </g>\n",
       "   <g id=\"patch_12\">\n",
       "    <path d=\"M 146.305876 145.8 \n",
       "L 155.650374 145.8 \n",
       "L 155.650374 134.015334 \n",
       "L 146.305876 134.015334 \n",
       "z\n",
       "\" clip-path=\"url(#p87ba3f76e6)\" style=\"fill: #1f77b4\"/>\n",
       "   </g>\n",
       "   <g id=\"patch_13\">\n",
       "    <path d=\"M 155.650374 145.8 \n",
       "L 164.994871 145.8 \n",
       "L 164.994871 137.57814 \n",
       "L 155.650374 137.57814 \n",
       "z\n",
       "\" clip-path=\"url(#p87ba3f76e6)\" style=\"fill: #1f77b4\"/>\n",
       "   </g>\n",
       "   <g id=\"patch_14\">\n",
       "    <path d=\"M 164.994871 145.8 \n",
       "L 174.339369 145.8 \n",
       "L 174.339369 139.026754 \n",
       "L 164.994871 139.026754 \n",
       "z\n",
       "\" clip-path=\"url(#p87ba3f76e6)\" style=\"fill: #1f77b4\"/>\n",
       "   </g>\n",
       "   <g id=\"patch_15\">\n",
       "    <path d=\"M 174.339369 145.8 \n",
       "L 183.683867 145.8 \n",
       "L 183.683867 140.788581 \n",
       "L 174.339369 140.788581 \n",
       "z\n",
       "\" clip-path=\"url(#p87ba3f76e6)\" style=\"fill: #1f77b4\"/>\n",
       "   </g>\n",
       "   <g id=\"patch_16\">\n",
       "    <path d=\"M 183.683867 145.8 \n",
       "L 193.028364 145.8 \n",
       "L 193.028364 141.884829 \n",
       "L 183.683867 141.884829 \n",
       "z\n",
       "\" clip-path=\"url(#p87ba3f76e6)\" style=\"fill: #1f77b4\"/>\n",
       "   </g>\n",
       "   <g id=\"patch_17\">\n",
       "    <path d=\"M 193.028364 145.8 \n",
       "L 202.372862 145.8 \n",
       "L 202.372862 142.335073 \n",
       "L 193.028364 142.335073 \n",
       "z\n",
       "\" clip-path=\"url(#p87ba3f76e6)\" style=\"fill: #1f77b4\"/>\n",
       "   </g>\n",
       "   <g id=\"patch_18\">\n",
       "    <path d=\"M 202.372862 145.8 \n",
       "L 211.717359 145.8 \n",
       "L 211.717359 143.235563 \n",
       "L 202.372862 143.235563 \n",
       "z\n",
       "\" clip-path=\"url(#p87ba3f76e6)\" style=\"fill: #1f77b4\"/>\n",
       "   </g>\n",
       "   <g id=\"patch_19\">\n",
       "    <path d=\"M 211.717359 145.8 \n",
       "L 221.061857 145.8 \n",
       "L 221.061857 143.548777 \n",
       "L 211.717359 143.548777 \n",
       "z\n",
       "\" clip-path=\"url(#p87ba3f76e6)\" style=\"fill: #1f77b4\"/>\n",
       "   </g>\n",
       "   <g id=\"patch_20\">\n",
       "    <path d=\"M 221.061857 145.8 \n",
       "L 230.406355 145.8 \n",
       "L 230.406355 144.0969 \n",
       "L 221.061857 144.0969 \n",
       "z\n",
       "\" clip-path=\"url(#p87ba3f76e6)\" style=\"fill: #1f77b4\"/>\n",
       "   </g>\n",
       "   <g id=\"patch_21\">\n",
       "    <path d=\"M 230.406355 145.8 \n",
       "L 239.750852 145.8 \n",
       "L 239.750852 144.331811 \n",
       "L 230.406355 144.331811 \n",
       "z\n",
       "\" clip-path=\"url(#p87ba3f76e6)\" style=\"fill: #1f77b4\"/>\n",
       "   </g>\n",
       "   <g id=\"matplotlib.axis_1\">\n",
       "    <g id=\"xtick_1\">\n",
       "     <g id=\"line2d_1\">\n",
       "      <defs>\n",
       "       <path id=\"m3238670261\" d=\"M 0 0 \n",
       "L 0 3.5 \n",
       "\" style=\"stroke: #000000; stroke-width: 0.8\"/>\n",
       "      </defs>\n",
       "      <g>\n",
       "       <use xlink:href=\"#m3238670261\" x=\"62.205398\" y=\"145.8\" style=\"stroke: #000000; stroke-width: 0.8\"/>\n",
       "      </g>\n",
       "     </g>\n",
       "     <g id=\"text_1\">\n",
       "      <!-- 0 -->\n",
       "      <g transform=\"translate(59.024148 160.398438)scale(0.1 -0.1)\">\n",
       "       <defs>\n",
       "        <path id=\"DejaVuSans-30\" d=\"M 2034 4250 \n",
       "Q 1547 4250 1301 3770 \n",
       "Q 1056 3291 1056 2328 \n",
       "Q 1056 1369 1301 889 \n",
       "Q 1547 409 2034 409 \n",
       "Q 2525 409 2770 889 \n",
       "Q 3016 1369 3016 2328 \n",
       "Q 3016 3291 2770 3770 \n",
       "Q 2525 4250 2034 4250 \n",
       "z\n",
       "M 2034 4750 \n",
       "Q 2819 4750 3233 4129 \n",
       "Q 3647 3509 3647 2328 \n",
       "Q 3647 1150 3233 529 \n",
       "Q 2819 -91 2034 -91 \n",
       "Q 1250 -91 836 529 \n",
       "Q 422 1150 422 2328 \n",
       "Q 422 3509 836 4129 \n",
       "Q 1250 4750 2034 4750 \n",
       "z\n",
       "\" transform=\"scale(0.015625)\"/>\n",
       "       </defs>\n",
       "       <use xlink:href=\"#DejaVuSans-30\"/>\n",
       "      </g>\n",
       "     </g>\n",
       "    </g>\n",
       "    <g id=\"xtick_2\">\n",
       "     <g id=\"line2d_2\">\n",
       "      <g>\n",
       "       <use xlink:href=\"#m3238670261\" x=\"99.583388\" y=\"145.8\" style=\"stroke: #000000; stroke-width: 0.8\"/>\n",
       "      </g>\n",
       "     </g>\n",
       "     <g id=\"text_2\">\n",
       "      <!-- 200 -->\n",
       "      <g transform=\"translate(90.039638 160.398438)scale(0.1 -0.1)\">\n",
       "       <defs>\n",
       "        <path id=\"DejaVuSans-32\" d=\"M 1228 531 \n",
       "L 3431 531 \n",
       "L 3431 0 \n",
       "L 469 0 \n",
       "L 469 531 \n",
       "Q 828 903 1448 1529 \n",
       "Q 2069 2156 2228 2338 \n",
       "Q 2531 2678 2651 2914 \n",
       "Q 2772 3150 2772 3378 \n",
       "Q 2772 3750 2511 3984 \n",
       "Q 2250 4219 1831 4219 \n",
       "Q 1534 4219 1204 4116 \n",
       "Q 875 4013 500 3803 \n",
       "L 500 4441 \n",
       "Q 881 4594 1212 4672 \n",
       "Q 1544 4750 1819 4750 \n",
       "Q 2544 4750 2975 4387 \n",
       "Q 3406 4025 3406 3419 \n",
       "Q 3406 3131 3298 2873 \n",
       "Q 3191 2616 2906 2266 \n",
       "Q 2828 2175 2409 1742 \n",
       "Q 1991 1309 1228 531 \n",
       "z\n",
       "\" transform=\"scale(0.015625)\"/>\n",
       "       </defs>\n",
       "       <use xlink:href=\"#DejaVuSans-32\"/>\n",
       "       <use xlink:href=\"#DejaVuSans-30\" x=\"63.623047\"/>\n",
       "       <use xlink:href=\"#DejaVuSans-30\" x=\"127.246094\"/>\n",
       "      </g>\n",
       "     </g>\n",
       "    </g>\n",
       "    <g id=\"xtick_3\">\n",
       "     <g id=\"line2d_3\">\n",
       "      <g>\n",
       "       <use xlink:href=\"#m3238670261\" x=\"136.961379\" y=\"145.8\" style=\"stroke: #000000; stroke-width: 0.8\"/>\n",
       "      </g>\n",
       "     </g>\n",
       "     <g id=\"text_3\">\n",
       "      <!-- 400 -->\n",
       "      <g transform=\"translate(127.417629 160.398438)scale(0.1 -0.1)\">\n",
       "       <defs>\n",
       "        <path id=\"DejaVuSans-34\" d=\"M 2419 4116 \n",
       "L 825 1625 \n",
       "L 2419 1625 \n",
       "L 2419 4116 \n",
       "z\n",
       "M 2253 4666 \n",
       "L 3047 4666 \n",
       "L 3047 1625 \n",
       "L 3713 1625 \n",
       "L 3713 1100 \n",
       "L 3047 1100 \n",
       "L 3047 0 \n",
       "L 2419 0 \n",
       "L 2419 1100 \n",
       "L 313 1100 \n",
       "L 313 1709 \n",
       "L 2253 4666 \n",
       "z\n",
       "\" transform=\"scale(0.015625)\"/>\n",
       "       </defs>\n",
       "       <use xlink:href=\"#DejaVuSans-34\"/>\n",
       "       <use xlink:href=\"#DejaVuSans-30\" x=\"63.623047\"/>\n",
       "       <use xlink:href=\"#DejaVuSans-30\" x=\"127.246094\"/>\n",
       "      </g>\n",
       "     </g>\n",
       "    </g>\n",
       "    <g id=\"xtick_4\">\n",
       "     <g id=\"line2d_4\">\n",
       "      <g>\n",
       "       <use xlink:href=\"#m3238670261\" x=\"174.339369\" y=\"145.8\" style=\"stroke: #000000; stroke-width: 0.8\"/>\n",
       "      </g>\n",
       "     </g>\n",
       "     <g id=\"text_4\">\n",
       "      <!-- 600 -->\n",
       "      <g transform=\"translate(164.795619 160.398438)scale(0.1 -0.1)\">\n",
       "       <defs>\n",
       "        <path id=\"DejaVuSans-36\" d=\"M 2113 2584 \n",
       "Q 1688 2584 1439 2293 \n",
       "Q 1191 2003 1191 1497 \n",
       "Q 1191 994 1439 701 \n",
       "Q 1688 409 2113 409 \n",
       "Q 2538 409 2786 701 \n",
       "Q 3034 994 3034 1497 \n",
       "Q 3034 2003 2786 2293 \n",
       "Q 2538 2584 2113 2584 \n",
       "z\n",
       "M 3366 4563 \n",
       "L 3366 3988 \n",
       "Q 3128 4100 2886 4159 \n",
       "Q 2644 4219 2406 4219 \n",
       "Q 1781 4219 1451 3797 \n",
       "Q 1122 3375 1075 2522 \n",
       "Q 1259 2794 1537 2939 \n",
       "Q 1816 3084 2150 3084 \n",
       "Q 2853 3084 3261 2657 \n",
       "Q 3669 2231 3669 1497 \n",
       "Q 3669 778 3244 343 \n",
       "Q 2819 -91 2113 -91 \n",
       "Q 1303 -91 875 529 \n",
       "Q 447 1150 447 2328 \n",
       "Q 447 3434 972 4092 \n",
       "Q 1497 4750 2381 4750 \n",
       "Q 2619 4750 2861 4703 \n",
       "Q 3103 4656 3366 4563 \n",
       "z\n",
       "\" transform=\"scale(0.015625)\"/>\n",
       "       </defs>\n",
       "       <use xlink:href=\"#DejaVuSans-36\"/>\n",
       "       <use xlink:href=\"#DejaVuSans-30\" x=\"63.623047\"/>\n",
       "       <use xlink:href=\"#DejaVuSans-30\" x=\"127.246094\"/>\n",
       "      </g>\n",
       "     </g>\n",
       "    </g>\n",
       "    <g id=\"xtick_5\">\n",
       "     <g id=\"line2d_5\">\n",
       "      <g>\n",
       "       <use xlink:href=\"#m3238670261\" x=\"211.717359\" y=\"145.8\" style=\"stroke: #000000; stroke-width: 0.8\"/>\n",
       "      </g>\n",
       "     </g>\n",
       "     <g id=\"text_5\">\n",
       "      <!-- 800 -->\n",
       "      <g transform=\"translate(202.173609 160.398438)scale(0.1 -0.1)\">\n",
       "       <defs>\n",
       "        <path id=\"DejaVuSans-38\" d=\"M 2034 2216 \n",
       "Q 1584 2216 1326 1975 \n",
       "Q 1069 1734 1069 1313 \n",
       "Q 1069 891 1326 650 \n",
       "Q 1584 409 2034 409 \n",
       "Q 2484 409 2743 651 \n",
       "Q 3003 894 3003 1313 \n",
       "Q 3003 1734 2745 1975 \n",
       "Q 2488 2216 2034 2216 \n",
       "z\n",
       "M 1403 2484 \n",
       "Q 997 2584 770 2862 \n",
       "Q 544 3141 544 3541 \n",
       "Q 544 4100 942 4425 \n",
       "Q 1341 4750 2034 4750 \n",
       "Q 2731 4750 3128 4425 \n",
       "Q 3525 4100 3525 3541 \n",
       "Q 3525 3141 3298 2862 \n",
       "Q 3072 2584 2669 2484 \n",
       "Q 3125 2378 3379 2068 \n",
       "Q 3634 1759 3634 1313 \n",
       "Q 3634 634 3220 271 \n",
       "Q 2806 -91 2034 -91 \n",
       "Q 1263 -91 848 271 \n",
       "Q 434 634 434 1313 \n",
       "Q 434 1759 690 2068 \n",
       "Q 947 2378 1403 2484 \n",
       "z\n",
       "M 1172 3481 \n",
       "Q 1172 3119 1398 2916 \n",
       "Q 1625 2713 2034 2713 \n",
       "Q 2441 2713 2670 2916 \n",
       "Q 2900 3119 2900 3481 \n",
       "Q 2900 3844 2670 4047 \n",
       "Q 2441 4250 2034 4250 \n",
       "Q 1625 4250 1398 4047 \n",
       "Q 1172 3844 1172 3481 \n",
       "z\n",
       "\" transform=\"scale(0.015625)\"/>\n",
       "       </defs>\n",
       "       <use xlink:href=\"#DejaVuSans-38\"/>\n",
       "       <use xlink:href=\"#DejaVuSans-30\" x=\"63.623047\"/>\n",
       "       <use xlink:href=\"#DejaVuSans-30\" x=\"127.246094\"/>\n",
       "      </g>\n",
       "     </g>\n",
       "    </g>\n",
       "    <g id=\"text_6\">\n",
       "     <!-- # tokens per review -->\n",
       "     <g transform=\"translate(100.597656 174.076563)scale(0.1 -0.1)\">\n",
       "      <defs>\n",
       "       <path id=\"DejaVuSans-23\" d=\"M 3272 2816 \n",
       "L 2363 2816 \n",
       "L 2100 1772 \n",
       "L 3016 1772 \n",
       "L 3272 2816 \n",
       "z\n",
       "M 2803 4594 \n",
       "L 2478 3297 \n",
       "L 3391 3297 \n",
       "L 3719 4594 \n",
       "L 4219 4594 \n",
       "L 3897 3297 \n",
       "L 4872 3297 \n",
       "L 4872 2816 \n",
       "L 3775 2816 \n",
       "L 3519 1772 \n",
       "L 4513 1772 \n",
       "L 4513 1294 \n",
       "L 3397 1294 \n",
       "L 3072 0 \n",
       "L 2572 0 \n",
       "L 2894 1294 \n",
       "L 1978 1294 \n",
       "L 1656 0 \n",
       "L 1153 0 \n",
       "L 1478 1294 \n",
       "L 494 1294 \n",
       "L 494 1772 \n",
       "L 1594 1772 \n",
       "L 1856 2816 \n",
       "L 850 2816 \n",
       "L 850 3297 \n",
       "L 1978 3297 \n",
       "L 2297 4594 \n",
       "L 2803 4594 \n",
       "z\n",
       "\" transform=\"scale(0.015625)\"/>\n",
       "       <path id=\"DejaVuSans-20\" transform=\"scale(0.015625)\"/>\n",
       "       <path id=\"DejaVuSans-74\" d=\"M 1172 4494 \n",
       "L 1172 3500 \n",
       "L 2356 3500 \n",
       "L 2356 3053 \n",
       "L 1172 3053 \n",
       "L 1172 1153 \n",
       "Q 1172 725 1289 603 \n",
       "Q 1406 481 1766 481 \n",
       "L 2356 481 \n",
       "L 2356 0 \n",
       "L 1766 0 \n",
       "Q 1100 0 847 248 \n",
       "Q 594 497 594 1153 \n",
       "L 594 3053 \n",
       "L 172 3053 \n",
       "L 172 3500 \n",
       "L 594 3500 \n",
       "L 594 4494 \n",
       "L 1172 4494 \n",
       "z\n",
       "\" transform=\"scale(0.015625)\"/>\n",
       "       <path id=\"DejaVuSans-6f\" d=\"M 1959 3097 \n",
       "Q 1497 3097 1228 2736 \n",
       "Q 959 2375 959 1747 \n",
       "Q 959 1119 1226 758 \n",
       "Q 1494 397 1959 397 \n",
       "Q 2419 397 2687 759 \n",
       "Q 2956 1122 2956 1747 \n",
       "Q 2956 2369 2687 2733 \n",
       "Q 2419 3097 1959 3097 \n",
       "z\n",
       "M 1959 3584 \n",
       "Q 2709 3584 3137 3096 \n",
       "Q 3566 2609 3566 1747 \n",
       "Q 3566 888 3137 398 \n",
       "Q 2709 -91 1959 -91 \n",
       "Q 1206 -91 779 398 \n",
       "Q 353 888 353 1747 \n",
       "Q 353 2609 779 3096 \n",
       "Q 1206 3584 1959 3584 \n",
       "z\n",
       "\" transform=\"scale(0.015625)\"/>\n",
       "       <path id=\"DejaVuSans-6b\" d=\"M 581 4863 \n",
       "L 1159 4863 \n",
       "L 1159 1991 \n",
       "L 2875 3500 \n",
       "L 3609 3500 \n",
       "L 1753 1863 \n",
       "L 3688 0 \n",
       "L 2938 0 \n",
       "L 1159 1709 \n",
       "L 1159 0 \n",
       "L 581 0 \n",
       "L 581 4863 \n",
       "z\n",
       "\" transform=\"scale(0.015625)\"/>\n",
       "       <path id=\"DejaVuSans-65\" d=\"M 3597 1894 \n",
       "L 3597 1613 \n",
       "L 953 1613 \n",
       "Q 991 1019 1311 708 \n",
       "Q 1631 397 2203 397 \n",
       "Q 2534 397 2845 478 \n",
       "Q 3156 559 3463 722 \n",
       "L 3463 178 \n",
       "Q 3153 47 2828 -22 \n",
       "Q 2503 -91 2169 -91 \n",
       "Q 1331 -91 842 396 \n",
       "Q 353 884 353 1716 \n",
       "Q 353 2575 817 3079 \n",
       "Q 1281 3584 2069 3584 \n",
       "Q 2775 3584 3186 3129 \n",
       "Q 3597 2675 3597 1894 \n",
       "z\n",
       "M 3022 2063 \n",
       "Q 3016 2534 2758 2815 \n",
       "Q 2500 3097 2075 3097 \n",
       "Q 1594 3097 1305 2825 \n",
       "Q 1016 2553 972 2059 \n",
       "L 3022 2063 \n",
       "z\n",
       "\" transform=\"scale(0.015625)\"/>\n",
       "       <path id=\"DejaVuSans-6e\" d=\"M 3513 2113 \n",
       "L 3513 0 \n",
       "L 2938 0 \n",
       "L 2938 2094 \n",
       "Q 2938 2591 2744 2837 \n",
       "Q 2550 3084 2163 3084 \n",
       "Q 1697 3084 1428 2787 \n",
       "Q 1159 2491 1159 1978 \n",
       "L 1159 0 \n",
       "L 581 0 \n",
       "L 581 3500 \n",
       "L 1159 3500 \n",
       "L 1159 2956 \n",
       "Q 1366 3272 1645 3428 \n",
       "Q 1925 3584 2291 3584 \n",
       "Q 2894 3584 3203 3211 \n",
       "Q 3513 2838 3513 2113 \n",
       "z\n",
       "\" transform=\"scale(0.015625)\"/>\n",
       "       <path id=\"DejaVuSans-73\" d=\"M 2834 3397 \n",
       "L 2834 2853 \n",
       "Q 2591 2978 2328 3040 \n",
       "Q 2066 3103 1784 3103 \n",
       "Q 1356 3103 1142 2972 \n",
       "Q 928 2841 928 2578 \n",
       "Q 928 2378 1081 2264 \n",
       "Q 1234 2150 1697 2047 \n",
       "L 1894 2003 \n",
       "Q 2506 1872 2764 1633 \n",
       "Q 3022 1394 3022 966 \n",
       "Q 3022 478 2636 193 \n",
       "Q 2250 -91 1575 -91 \n",
       "Q 1294 -91 989 -36 \n",
       "Q 684 19 347 128 \n",
       "L 347 722 \n",
       "Q 666 556 975 473 \n",
       "Q 1284 391 1588 391 \n",
       "Q 1994 391 2212 530 \n",
       "Q 2431 669 2431 922 \n",
       "Q 2431 1156 2273 1281 \n",
       "Q 2116 1406 1581 1522 \n",
       "L 1381 1569 \n",
       "Q 847 1681 609 1914 \n",
       "Q 372 2147 372 2553 \n",
       "Q 372 3047 722 3315 \n",
       "Q 1072 3584 1716 3584 \n",
       "Q 2034 3584 2315 3537 \n",
       "Q 2597 3491 2834 3397 \n",
       "z\n",
       "\" transform=\"scale(0.015625)\"/>\n",
       "       <path id=\"DejaVuSans-70\" d=\"M 1159 525 \n",
       "L 1159 -1331 \n",
       "L 581 -1331 \n",
       "L 581 3500 \n",
       "L 1159 3500 \n",
       "L 1159 2969 \n",
       "Q 1341 3281 1617 3432 \n",
       "Q 1894 3584 2278 3584 \n",
       "Q 2916 3584 3314 3078 \n",
       "Q 3713 2572 3713 1747 \n",
       "Q 3713 922 3314 415 \n",
       "Q 2916 -91 2278 -91 \n",
       "Q 1894 -91 1617 61 \n",
       "Q 1341 213 1159 525 \n",
       "z\n",
       "M 3116 1747 \n",
       "Q 3116 2381 2855 2742 \n",
       "Q 2594 3103 2138 3103 \n",
       "Q 1681 3103 1420 2742 \n",
       "Q 1159 2381 1159 1747 \n",
       "Q 1159 1113 1420 752 \n",
       "Q 1681 391 2138 391 \n",
       "Q 2594 391 2855 752 \n",
       "Q 3116 1113 3116 1747 \n",
       "z\n",
       "\" transform=\"scale(0.015625)\"/>\n",
       "       <path id=\"DejaVuSans-72\" d=\"M 2631 2963 \n",
       "Q 2534 3019 2420 3045 \n",
       "Q 2306 3072 2169 3072 \n",
       "Q 1681 3072 1420 2755 \n",
       "Q 1159 2438 1159 1844 \n",
       "L 1159 0 \n",
       "L 581 0 \n",
       "L 581 3500 \n",
       "L 1159 3500 \n",
       "L 1159 2956 \n",
       "Q 1341 3275 1631 3429 \n",
       "Q 1922 3584 2338 3584 \n",
       "Q 2397 3584 2469 3576 \n",
       "Q 2541 3569 2628 3553 \n",
       "L 2631 2963 \n",
       "z\n",
       "\" transform=\"scale(0.015625)\"/>\n",
       "       <path id=\"DejaVuSans-76\" d=\"M 191 3500 \n",
       "L 800 3500 \n",
       "L 1894 563 \n",
       "L 2988 3500 \n",
       "L 3597 3500 \n",
       "L 2284 0 \n",
       "L 1503 0 \n",
       "L 191 3500 \n",
       "z\n",
       "\" transform=\"scale(0.015625)\"/>\n",
       "       <path id=\"DejaVuSans-69\" d=\"M 603 3500 \n",
       "L 1178 3500 \n",
       "L 1178 0 \n",
       "L 603 0 \n",
       "L 603 3500 \n",
       "z\n",
       "M 603 4863 \n",
       "L 1178 4863 \n",
       "L 1178 4134 \n",
       "L 603 4134 \n",
       "L 603 4863 \n",
       "z\n",
       "\" transform=\"scale(0.015625)\"/>\n",
       "       <path id=\"DejaVuSans-77\" d=\"M 269 3500 \n",
       "L 844 3500 \n",
       "L 1563 769 \n",
       "L 2278 3500 \n",
       "L 2956 3500 \n",
       "L 3675 769 \n",
       "L 4391 3500 \n",
       "L 4966 3500 \n",
       "L 4050 0 \n",
       "L 3372 0 \n",
       "L 2619 2869 \n",
       "L 1863 0 \n",
       "L 1184 0 \n",
       "L 269 3500 \n",
       "z\n",
       "\" transform=\"scale(0.015625)\"/>\n",
       "      </defs>\n",
       "      <use xlink:href=\"#DejaVuSans-23\"/>\n",
       "      <use xlink:href=\"#DejaVuSans-20\" x=\"83.789062\"/>\n",
       "      <use xlink:href=\"#DejaVuSans-74\" x=\"115.576172\"/>\n",
       "      <use xlink:href=\"#DejaVuSans-6f\" x=\"154.785156\"/>\n",
       "      <use xlink:href=\"#DejaVuSans-6b\" x=\"215.966797\"/>\n",
       "      <use xlink:href=\"#DejaVuSans-65\" x=\"270.251953\"/>\n",
       "      <use xlink:href=\"#DejaVuSans-6e\" x=\"331.775391\"/>\n",
       "      <use xlink:href=\"#DejaVuSans-73\" x=\"395.154297\"/>\n",
       "      <use xlink:href=\"#DejaVuSans-20\" x=\"447.253906\"/>\n",
       "      <use xlink:href=\"#DejaVuSans-70\" x=\"479.041016\"/>\n",
       "      <use xlink:href=\"#DejaVuSans-65\" x=\"542.517578\"/>\n",
       "      <use xlink:href=\"#DejaVuSans-72\" x=\"604.041016\"/>\n",
       "      <use xlink:href=\"#DejaVuSans-20\" x=\"645.154297\"/>\n",
       "      <use xlink:href=\"#DejaVuSans-72\" x=\"676.941406\"/>\n",
       "      <use xlink:href=\"#DejaVuSans-65\" x=\"715.804688\"/>\n",
       "      <use xlink:href=\"#DejaVuSans-76\" x=\"777.328125\"/>\n",
       "      <use xlink:href=\"#DejaVuSans-69\" x=\"836.507812\"/>\n",
       "      <use xlink:href=\"#DejaVuSans-65\" x=\"864.291016\"/>\n",
       "      <use xlink:href=\"#DejaVuSans-77\" x=\"925.814453\"/>\n",
       "     </g>\n",
       "    </g>\n",
       "   </g>\n",
       "   <g id=\"matplotlib.axis_2\">\n",
       "    <g id=\"ytick_1\">\n",
       "     <g id=\"line2d_6\">\n",
       "      <defs>\n",
       "       <path id=\"m6e3df81978\" d=\"M 0 0 \n",
       "L -3.5 0 \n",
       "\" style=\"stroke: #000000; stroke-width: 0.8\"/>\n",
       "      </defs>\n",
       "      <g>\n",
       "       <use xlink:href=\"#m6e3df81978\" x=\"53.328125\" y=\"145.8\" style=\"stroke: #000000; stroke-width: 0.8\"/>\n",
       "      </g>\n",
       "     </g>\n",
       "     <g id=\"text_7\">\n",
       "      <!-- 0 -->\n",
       "      <g transform=\"translate(39.965625 149.599219)scale(0.1 -0.1)\">\n",
       "       <use xlink:href=\"#DejaVuSans-30\"/>\n",
       "      </g>\n",
       "     </g>\n",
       "    </g>\n",
       "    <g id=\"ytick_2\">\n",
       "     <g id=\"line2d_7\">\n",
       "      <g>\n",
       "       <use xlink:href=\"#m6e3df81978\" x=\"53.328125\" y=\"106.648287\" style=\"stroke: #000000; stroke-width: 0.8\"/>\n",
       "      </g>\n",
       "     </g>\n",
       "     <g id=\"text_8\">\n",
       "      <!-- 2000 -->\n",
       "      <g transform=\"translate(20.878125 110.447506)scale(0.1 -0.1)\">\n",
       "       <use xlink:href=\"#DejaVuSans-32\"/>\n",
       "       <use xlink:href=\"#DejaVuSans-30\" x=\"63.623047\"/>\n",
       "       <use xlink:href=\"#DejaVuSans-30\" x=\"127.246094\"/>\n",
       "       <use xlink:href=\"#DejaVuSans-30\" x=\"190.869141\"/>\n",
       "      </g>\n",
       "     </g>\n",
       "    </g>\n",
       "    <g id=\"ytick_3\">\n",
       "     <g id=\"line2d_8\">\n",
       "      <g>\n",
       "       <use xlink:href=\"#m6e3df81978\" x=\"53.328125\" y=\"67.496574\" style=\"stroke: #000000; stroke-width: 0.8\"/>\n",
       "      </g>\n",
       "     </g>\n",
       "     <g id=\"text_9\">\n",
       "      <!-- 4000 -->\n",
       "      <g transform=\"translate(20.878125 71.295793)scale(0.1 -0.1)\">\n",
       "       <use xlink:href=\"#DejaVuSans-34\"/>\n",
       "       <use xlink:href=\"#DejaVuSans-30\" x=\"63.623047\"/>\n",
       "       <use xlink:href=\"#DejaVuSans-30\" x=\"127.246094\"/>\n",
       "       <use xlink:href=\"#DejaVuSans-30\" x=\"190.869141\"/>\n",
       "      </g>\n",
       "     </g>\n",
       "    </g>\n",
       "    <g id=\"ytick_4\">\n",
       "     <g id=\"line2d_9\">\n",
       "      <g>\n",
       "       <use xlink:href=\"#m6e3df81978\" x=\"53.328125\" y=\"28.344861\" style=\"stroke: #000000; stroke-width: 0.8\"/>\n",
       "      </g>\n",
       "     </g>\n",
       "     <g id=\"text_10\">\n",
       "      <!-- 6000 -->\n",
       "      <g transform=\"translate(20.878125 32.14408)scale(0.1 -0.1)\">\n",
       "       <use xlink:href=\"#DejaVuSans-36\"/>\n",
       "       <use xlink:href=\"#DejaVuSans-30\" x=\"63.623047\"/>\n",
       "       <use xlink:href=\"#DejaVuSans-30\" x=\"127.246094\"/>\n",
       "       <use xlink:href=\"#DejaVuSans-30\" x=\"190.869141\"/>\n",
       "      </g>\n",
       "     </g>\n",
       "    </g>\n",
       "    <g id=\"text_11\">\n",
       "     <!-- count -->\n",
       "     <g transform=\"translate(14.798437 90.60625)rotate(-90)scale(0.1 -0.1)\">\n",
       "      <defs>\n",
       "       <path id=\"DejaVuSans-63\" d=\"M 3122 3366 \n",
       "L 3122 2828 \n",
       "Q 2878 2963 2633 3030 \n",
       "Q 2388 3097 2138 3097 \n",
       "Q 1578 3097 1268 2742 \n",
       "Q 959 2388 959 1747 \n",
       "Q 959 1106 1268 751 \n",
       "Q 1578 397 2138 397 \n",
       "Q 2388 397 2633 464 \n",
       "Q 2878 531 3122 666 \n",
       "L 3122 134 \n",
       "Q 2881 22 2623 -34 \n",
       "Q 2366 -91 2075 -91 \n",
       "Q 1284 -91 818 406 \n",
       "Q 353 903 353 1747 \n",
       "Q 353 2603 823 3093 \n",
       "Q 1294 3584 2113 3584 \n",
       "Q 2378 3584 2631 3529 \n",
       "Q 2884 3475 3122 3366 \n",
       "z\n",
       "\" transform=\"scale(0.015625)\"/>\n",
       "       <path id=\"DejaVuSans-75\" d=\"M 544 1381 \n",
       "L 544 3500 \n",
       "L 1119 3500 \n",
       "L 1119 1403 \n",
       "Q 1119 906 1312 657 \n",
       "Q 1506 409 1894 409 \n",
       "Q 2359 409 2629 706 \n",
       "Q 2900 1003 2900 1516 \n",
       "L 2900 3500 \n",
       "L 3475 3500 \n",
       "L 3475 0 \n",
       "L 2900 0 \n",
       "L 2900 538 \n",
       "Q 2691 219 2414 64 \n",
       "Q 2138 -91 1772 -91 \n",
       "Q 1169 -91 856 284 \n",
       "Q 544 659 544 1381 \n",
       "z\n",
       "M 1991 3584 \n",
       "L 1991 3584 \n",
       "z\n",
       "\" transform=\"scale(0.015625)\"/>\n",
       "      </defs>\n",
       "      <use xlink:href=\"#DejaVuSans-63\"/>\n",
       "      <use xlink:href=\"#DejaVuSans-6f\" x=\"54.980469\"/>\n",
       "      <use xlink:href=\"#DejaVuSans-75\" x=\"116.162109\"/>\n",
       "      <use xlink:href=\"#DejaVuSans-6e\" x=\"179.541016\"/>\n",
       "      <use xlink:href=\"#DejaVuSans-74\" x=\"242.919922\"/>\n",
       "     </g>\n",
       "    </g>\n",
       "   </g>\n",
       "   <g id=\"patch_22\">\n",
       "    <path d=\"M 53.328125 145.8 \n",
       "L 53.328125 7.2 \n",
       "\" style=\"fill: none; stroke: #000000; stroke-width: 0.8; stroke-linejoin: miter; stroke-linecap: square\"/>\n",
       "   </g>\n",
       "   <g id=\"patch_23\">\n",
       "    <path d=\"M 248.628125 145.8 \n",
       "L 248.628125 7.2 \n",
       "\" style=\"fill: none; stroke: #000000; stroke-width: 0.8; stroke-linejoin: miter; stroke-linecap: square\"/>\n",
       "   </g>\n",
       "   <g id=\"patch_24\">\n",
       "    <path d=\"M 53.328125 145.8 \n",
       "L 248.628125 145.8 \n",
       "\" style=\"fill: none; stroke: #000000; stroke-width: 0.8; stroke-linejoin: miter; stroke-linecap: square\"/>\n",
       "   </g>\n",
       "   <g id=\"patch_25\">\n",
       "    <path d=\"M 53.328125 7.2 \n",
       "L 248.628125 7.2 \n",
       "\" style=\"fill: none; stroke: #000000; stroke-width: 0.8; stroke-linejoin: miter; stroke-linecap: square\"/>\n",
       "   </g>\n",
       "  </g>\n",
       " </g>\n",
       " <defs>\n",
       "  <clipPath id=\"p87ba3f76e6\">\n",
       "   <rect x=\"53.328125\" y=\"7.2\" width=\"195.3\" height=\"138.6\"/>\n",
       "  </clipPath>\n",
       " </defs>\n",
       "</svg>\n"
      ],
      "text/plain": [
       "<Figure size 350x250 with 1 Axes>"
      ]
     },
     "metadata": {},
     "output_type": "display_data"
    }
   ],
   "source": [
    "d2l.set_figsize()\n",
    "d2l.plt.xlabel('# tokens per review')\n",
    "d2l.plt.ylabel('count')\n",
    "d2l.plt.hist([len(line) for line in train_words], bins=range(0, 1000, 50));"
   ]
  },
  {
   "cell_type": "code",
   "execution_count": 6,
   "id": "4923374d-a4b7-439e-8b39-038f9b1d64d9",
   "metadata": {},
   "outputs": [
    {
     "name": "stdout",
     "output_type": "stream",
     "text": [
      "X: torch.Size([64, 500]) , y: torch.Size([64]) , valid_len: torch.Size([64])\n",
      "小批量数目： 391\n"
     ]
    }
   ],
   "source": [
    "# 生成训练数据集、测试数据集\n",
    "# print(len(dataset['train'][:]['label']))\n",
    "def load_imdb_data(datawords, vocab, dataset, batch_size, num_steps):\n",
    "    data_tokens = torch.tensor([d2l.truncate_pad(\n",
    "        vocab[line], num_steps, vocab['<pad>']) for line in datawords])\n",
    "    valid_lens = (data_tokens != vocab['<pad>']).type(torch.int32).sum(1)\n",
    "    labels = torch.tensor(dataset[:]['label'])\n",
    "    return d2l.load_array((data_tokens, valid_lens, labels), batch_size)\n",
    "\n",
    "\n",
    "batch_size, num_steps = 64, 500\n",
    "train_iter = load_imdb_data(train_words, vocab, dataset['train'], batch_size, num_steps)\n",
    "for X, valid_len, y in train_iter:\n",
    "    print('X:', X.shape, ', y:', y.shape, ', valid_len:', valid_len.shape)\n",
    "    break\n",
    "print('小批量数目：', len(train_iter))"
   ]
  },
  {
   "cell_type": "code",
   "execution_count": 75,
   "id": "0a893eb8-11d3-4261-afe3-418e7c950a4c",
   "metadata": {},
   "outputs": [
    {
     "name": "stdout",
     "output_type": "stream",
     "text": [
      "tensor([1, 0, 0, 0, 1, 0, 0, 0, 0, 0, 0, 0, 1, 1, 0, 1, 0, 1, 0, 0, 1, 0, 1, 0,\n",
      "        1, 0, 0, 0, 0, 0, 0, 0, 1, 0, 1, 1, 1, 0, 1, 1, 1, 0, 0, 1, 0, 0, 0, 0,\n",
      "        1, 0, 1, 1, 0, 0, 0, 1, 1, 0, 1, 1, 0, 0, 1, 1])\n",
      "小批量数目： 391\n"
     ]
    }
   ],
   "source": [
    "for X, valid_len, y in train_iter:\n",
    "    print(y)\n",
    "    break\n",
    "print('小批量数目：', len(train_iter))"
   ]
  },
  {
   "cell_type": "code",
   "execution_count": 74,
   "id": "305c6c72-f7c1-4109-a4ff-18861ec408bc",
   "metadata": {},
   "outputs": [
    {
     "data": {
      "text/plain": [
       "[1, 1, 1, 1, 1, 1, 1, 1, 1, 1, 1, 1, 1, 1, 1, 1, 1, 1, 1, 1]"
      ]
     },
     "execution_count": 74,
     "metadata": {},
     "output_type": "execute_result"
    }
   ],
   "source": [
    "# sum(i for i in dataset['train'][:]['label'] if i == 0)\n",
    "dataset['train'][:]['label'][20000:20020]\n",
    "# from collections import Counter\n",
    "# Counter(dataset['train'][:]['label'])"
   ]
  },
  {
   "cell_type": "code",
   "execution_count": 7,
   "id": "460ef132-c4b5-4f2b-92a9-47faa722b331",
   "metadata": {},
   "outputs": [],
   "source": [
    "# def load_datawords(dataset):\n",
    "#     processed = []\n",
    "#     for onedata in dataset:\n",
    "#         processed.append(preprocess(onedata['text']))\n",
    "\n",
    "#     punc = set(',.?!')\n",
    "#     words = [[word for word in sen.split(' ') if word not in punc] for sen in processed]\n",
    "#     return [['cls'] + line for line in words]\n",
    "test_words = load_datawords(dataset['test'])\n",
    "\n",
    "test_iter = load_imdb_data(test_words, vocab, dataset['test'], 64, 500)"
   ]
  },
  {
   "cell_type": "code",
   "execution_count": 10,
   "id": "7fe94b98-ab26-4b71-bc14-8c8883260ebf",
   "metadata": {},
   "outputs": [
    {
     "data": {
      "text/plain": [
       "'I love sci-fi and am willing to put up with a lot. Sci-fi movies/TV are usually underfunded, under-appreciated and misunderstood. I tried to like this, I really did, but it is to good TV sci-fi as Babylon 5 is to Star Trek (the original). Silly prosthetics, cheap cardboard sets, stilted dialogues, CG that doesn\\'t match the background, and painfully one-dimensional characters cannot be overcome with a \\'sci-fi\\' setting. (I\\'m sure there are those of you out there who think Babylon 5 is good sci-fi TV. It\\'s not. It\\'s clichéd and uninspiring.) While US viewers might like emotion and character development, sci-fi is a genre that does not take itself seriously (cf. Star Trek). It may treat important issues, yet not as a serious philosophy. It\\'s really difficult to care about the characters here as they are not simply foolish, just missing a spark of life. Their actions and reactions are wooden and predictable, often painful to watch. The makers of Earth KNOW it\\'s rubbish as they have to always say \"Gene Roddenberry\\'s Earth...\" otherwise people would not continue watching. Roddenberry\\'s ashes must be turning in their orbit as this dull, cheap, poorly edited (watching it without advert breaks really brings this home) trudging Trabant of a show lumbers into space. Spoiler. So, kill off a main character. And then bring him back as another actor. Jeeez! Dallas all over again.'"
      ]
     },
     "execution_count": 10,
     "metadata": {},
     "output_type": "execute_result"
    }
   ],
   "source": [
    "dataset['test'][0]['text']"
   ]
  },
  {
   "cell_type": "code",
   "execution_count": 8,
   "id": "f3100b76-76de-48c0-a405-fb7359db3728",
   "metadata": {},
   "outputs": [
    {
     "name": "stdout",
     "output_type": "stream",
     "text": [
      "X: tensor([[    2,  4248,    11,  ...,     1,     1,     1],\n",
      "        [    2,   403,     3,  ...,     1,     1,     1],\n",
      "        [    2,   271,    10,  ...,     1,     1,     1],\n",
      "        ...,\n",
      "        [    2,  6432, 11889,  ...,     1,     1,     1],\n",
      "        [    2,   132,   418,  ...,     1,     1,     1],\n",
      "        [    2,   303,    53,  ...,  1737,   313,    16]]) , y: tensor([0, 1, 0, 1, 0, 1, 0, 1, 1, 0, 1, 0, 0, 1, 1, 0, 0, 1, 0, 0, 0, 1, 1, 1,\n",
      "        0, 0, 0, 1, 1, 0, 1, 0, 1, 0, 0, 0, 0, 1, 0, 1, 0, 0, 1, 0, 1, 0, 0, 1,\n",
      "        0, 1, 1, 0, 0, 0, 1, 1, 1, 1, 1, 0, 1, 1, 0, 1]) , valid_len: tensor([288, 155, 173, 331, 500, 101, 169, 267, 155, 130, 163, 221,  90, 201,\n",
      "        228, 142, 201, 293, 263, 150, 436, 267,  64, 410, 171, 141, 174, 500,\n",
      "        314, 260,  68, 500, 221, 187, 161,  63, 225, 268, 132,  73,  99, 187,\n",
      "        192, 128, 256, 143, 188, 217, 128, 500, 107, 130, 296, 104, 159, 112,\n",
      "        234,  80, 203, 107,  65, 151, 195, 500])\n"
     ]
    }
   ],
   "source": [
    "for X, valid_len, y in test_iter:\n",
    "    print('X:', X, ', y:', y, ', valid_len:', valid_len)\n",
    "    break"
   ]
  },
  {
   "cell_type": "code",
   "execution_count": 13,
   "id": "f486eb00-38a0-4a6e-a7ef-98d62187f016",
   "metadata": {},
   "outputs": [
    {
     "name": "stdout",
     "output_type": "stream",
     "text": [
      "train_tokens:  torch.Size([25000, 500])\n",
      "valid_lens:  torch.Size([25000])\n",
      "X: torch.Size([64, 500]) , y: torch.Size([64]) , valid_len: torch.Size([64])\n",
      "小批量数目： 391\n"
     ]
    }
   ],
   "source": [
    "num_steps = 500  # 序列长度（句首加了一个'cls'字符）\n",
    "\n",
    "train_tokens = torch.tensor([d2l.truncate_pad(\n",
    "    vocab[line], num_steps, vocab['<pad>']) for line in words])\n",
    "print('train_tokens: ', train_tokens.shape)\n",
    "\n",
    "valid_lens = (train_tokens != vocab['<pad>']).type(torch.int32).sum(1)\n",
    "print('valid_lens: ', valid_lens.shape)\n",
    "\n",
    "train_label = dataset['train'][:]['label']\n",
    "\n",
    "train_iter = d2l.load_array((train_tokens, valid_lens,\n",
    "    torch.tensor(train_label)), 64)\n",
    "\n",
    "for X, valid_len, y in train_iter:\n",
    "    print('X:', X.shape, ', y:', y.shape, ', valid_len:', valid_len.shape)\n",
    "    break\n",
    "print('小批量数目：', len(train_iter))"
   ]
  },
  {
   "cell_type": "markdown",
   "id": "ea412a42-6d2f-498f-b421-f489902d1218",
   "metadata": {},
   "source": [
    "# 模型训练"
   ]
  },
  {
   "cell_type": "code",
   "execution_count": 9,
   "id": "58d38642-ec59-42f9-a165-4c5ebcc6e635",
   "metadata": {},
   "outputs": [],
   "source": [
    "num_hiddens, num_layers, dropout, num_output = 512, 1, 0.1, 2\n",
    "ffn_num_input, ffn_num_hiddens, num_heads, norm_shape = 512, 2048, 8, [512]\n",
    "lr, num_epochs, device = 5e-5, 60, d2l.try_gpu()"
   ]
  },
  {
   "cell_type": "code",
   "execution_count": 8,
   "id": "738c2fe9-6b42-4dd5-ba24-e041f4668d7d",
   "metadata": {},
   "outputs": [],
   "source": [
    "# 一维卷积的模型参数设置\n",
    "num_hiddens, num_layers, dropout, num_output = 512, 1, 0.1, 2\n",
    "ffn_num_input, ffn_num_hiddens, num_heads, norm_shape = 512, 2048, 8, [512]\n",
    "kernel_size, stride = 5, 5\n",
    "lr, num_epochs, device = 5e-5, 60, d2l.try_gpu()"
   ]
  },
  {
   "cell_type": "code",
   "execution_count": 10,
   "id": "038a22f3-f8d0-4aae-b7ba-8fd30676c0bd",
   "metadata": {},
   "outputs": [],
   "source": [
    "file_path = 'autodl-tmp/'\n",
    "excelfile = pd.read_excel(file_path + 'FA.xls', sheet_name='Sheet2', header=0, index_col=0)\n",
    "dim_dict = dict()\n",
    "for i in range(512):\n",
    "    dim_dict[excelfile['Dimension'].values[i]] = excelfile['Factor'].values[i]"
   ]
  },
  {
   "cell_type": "code",
   "execution_count": 11,
   "id": "8b955831-789b-4d1f-8036-29500f662529",
   "metadata": {},
   "outputs": [
    {
     "name": "stdout",
     "output_type": "stream",
     "text": [
      "22,017,010 total parameters.\n",
      "22,017,010 training parameters.\n"
     ]
    }
   ],
   "source": [
    "# 模型和模型参数数量\n",
    "net = TransformerEncoder(\n",
    "    len(vocab), num_hiddens, norm_shape,\n",
    "    ffn_num_input, ffn_num_hiddens, dim_dict,\n",
    "    num_layers,dropout, num_output)\n",
    "\n",
    "# Find total parameters and trainable parameters\n",
    "total_params = sum(p.numel() for p in net.parameters())\n",
    "print(f'{total_params:,} total parameters.')\n",
    "total_trainable_params = sum(p.numel() for p in net.parameters() if p.requires_grad)\n",
    "print(f'{total_trainable_params:,} training parameters.')"
   ]
  },
  {
   "cell_type": "code",
   "execution_count": 12,
   "id": "74b197e1-c0b2-494f-8772-cc0c744fa230",
   "metadata": {},
   "outputs": [],
   "source": [
    "# 初始化embedding层模型权重\n",
    "def get_embedding_weights(vocab, word2vecmodel, num_hiddens):\n",
    "    wordlist = word2vecmodel.wv.index_to_key\n",
    "    n = len(vocab)\n",
    "    data = np.random.randn(n, num_hiddens)\n",
    "    for i in range(n):\n",
    "        word = vocab.idx_to_token[i]\n",
    "        data[i] = np.array(word2vecmodel.wv[word]) if word in wordlist else data[i]\n",
    "    return torch.tensor(data, dtype=torch.float32)\n",
    "\n",
    "\n",
    "def init_embedding_weights(net, weights):\n",
    "    for m in net.modules():\n",
    "        if isinstance(m, nn.Embedding):\n",
    "            m.weight.data = weights\n",
    "\n",
    "\n",
    "word2vecmodel = word2vec.Word2Vec.load(file_path + 'imdb_word_vec_sg.bin')\n",
    "weights = get_embedding_weights(vocab, word2vecmodel, num_hiddens)\n",
    "init_embedding_weights(net, weights)"
   ]
  },
  {
   "cell_type": "code",
   "execution_count": 17,
   "id": "8fb8b992-b992-4af2-a9c3-2a529281d768",
   "metadata": {},
   "outputs": [
    {
     "data": {
      "text/plain": [
       "tensor([[-6.3132e-02,  5.5219e-01, -1.1138e+00,  ...,  1.3116e+00,\n",
       "         -1.3355e+00,  8.6522e-01],\n",
       "        [ 9.9875e-02, -1.4728e+00,  3.3636e-01,  ..., -1.5823e+00,\n",
       "          3.5076e-01, -7.6323e-01],\n",
       "        [-3.1780e-01,  5.5890e-01, -1.1770e+00,  ..., -1.5757e+00,\n",
       "          1.0768e-01, -3.6887e-01],\n",
       "        ...,\n",
       "        [ 1.9786e-02, -5.3197e-02, -1.1976e-02,  ..., -7.5719e-02,\n",
       "         -1.0359e-03, -3.6082e-02],\n",
       "        [ 1.6387e-02, -7.1717e-02, -1.3045e-02,  ..., -9.8970e-02,\n",
       "          1.1142e-02, -3.3435e-02],\n",
       "        [ 1.8146e-02, -6.5491e-02, -6.6009e-03,  ..., -9.0076e-02,\n",
       "          2.5716e-02, -6.0791e-02]])"
      ]
     },
     "execution_count": 17,
     "metadata": {},
     "output_type": "execute_result"
    }
   ],
   "source": [
    "net.embedding.weight.data"
   ]
  },
  {
   "cell_type": "code",
   "execution_count": 17,
   "id": "efaf2dee-4bd9-4f5e-a20f-8940bc49f452",
   "metadata": {},
   "outputs": [
    {
     "data": {
      "text/plain": [
       "tensor([[ 0.0966,  0.0927, -0.0705,  ...,  0.0137,  0.0379, -0.0268],\n",
       "        [-0.0350, -0.0478,  0.0350,  ...,  0.0296,  0.0083,  0.0726],\n",
       "        [-0.0110,  0.0190, -0.0818,  ...,  0.0088, -0.0249, -0.0805],\n",
       "        ...,\n",
       "        [-0.0718, -0.0465,  0.0001,  ...,  0.0532,  0.0030, -0.0054],\n",
       "        [-0.0243,  0.0474,  0.0173,  ..., -0.0814,  0.0798, -0.0093],\n",
       "        [ 0.0029,  0.0011,  0.0477,  ..., -0.0102, -0.0831, -0.0323]])"
      ]
     },
     "execution_count": 17,
     "metadata": {},
     "output_type": "execute_result"
    }
   ],
   "source": [
    "net.blks.block0.attention.Wq0.weight.data"
   ]
  },
  {
   "cell_type": "code",
   "execution_count": 13,
   "id": "a0a787b6-56d3-4771-96b5-b1876f1ba9cd",
   "metadata": {},
   "outputs": [
    {
     "data": {
      "text/plain": [
       "TransformerEncoder(\n",
       "  (embedding): Embedding(37652, 512)\n",
       "  (pos_encoding): PositionalEncoding(\n",
       "    (dropout): Dropout(p=0.1, inplace=False)\n",
       "  )\n",
       "  (blks): Sequential(\n",
       "    (block0): EncoderBlock(\n",
       "      (attention): FlexiHeadAttention(\n",
       "        (attention): DotProductAttention(\n",
       "          (dropout): Dropout(p=0.1, inplace=False)\n",
       "        )\n",
       "        (W_o): Linear(in_features=512, out_features=512, bias=False)\n",
       "        (Wq0): Linear(in_features=105, out_features=105, bias=False)\n",
       "        (Wq1): Linear(in_features=98, out_features=98, bias=False)\n",
       "        (Wq2): Linear(in_features=63, out_features=63, bias=False)\n",
       "        (Wq3): Linear(in_features=66, out_features=66, bias=False)\n",
       "        (Wq4): Linear(in_features=55, out_features=55, bias=False)\n",
       "        (Wq5): Linear(in_features=42, out_features=42, bias=False)\n",
       "        (Wq6): Linear(in_features=44, out_features=44, bias=False)\n",
       "        (Wq7): Linear(in_features=39, out_features=39, bias=False)\n",
       "        (Wk0): Linear(in_features=105, out_features=105, bias=False)\n",
       "        (Wk1): Linear(in_features=98, out_features=98, bias=False)\n",
       "        (Wk2): Linear(in_features=63, out_features=63, bias=False)\n",
       "        (Wk3): Linear(in_features=66, out_features=66, bias=False)\n",
       "        (Wk4): Linear(in_features=55, out_features=55, bias=False)\n",
       "        (Wk5): Linear(in_features=42, out_features=42, bias=False)\n",
       "        (Wk6): Linear(in_features=44, out_features=44, bias=False)\n",
       "        (Wk7): Linear(in_features=39, out_features=39, bias=False)\n",
       "        (Wv0): Linear(in_features=105, out_features=105, bias=False)\n",
       "        (Wv1): Linear(in_features=98, out_features=98, bias=False)\n",
       "        (Wv2): Linear(in_features=63, out_features=63, bias=False)\n",
       "        (Wv3): Linear(in_features=66, out_features=66, bias=False)\n",
       "        (Wv4): Linear(in_features=55, out_features=55, bias=False)\n",
       "        (Wv5): Linear(in_features=42, out_features=42, bias=False)\n",
       "        (Wv6): Linear(in_features=44, out_features=44, bias=False)\n",
       "        (Wv7): Linear(in_features=39, out_features=39, bias=False)\n",
       "      )\n",
       "      (addnorm1): AddNorm(\n",
       "        (dropout): Dropout(p=0.1, inplace=False)\n",
       "        (ln): LayerNorm((512,), eps=1e-05, elementwise_affine=True)\n",
       "      )\n",
       "      (ffn): PositionWiseFFN(\n",
       "        (dense1): Linear(in_features=512, out_features=2048, bias=True)\n",
       "        (relu): ReLU()\n",
       "        (dense2): Linear(in_features=2048, out_features=512, bias=True)\n",
       "      )\n",
       "      (addnorm2): AddNorm(\n",
       "        (dropout): Dropout(p=0.1, inplace=False)\n",
       "        (ln): LayerNorm((512,), eps=1e-05, elementwise_affine=True)\n",
       "      )\n",
       "    )\n",
       "  )\n",
       "  (outhidden): Sequential(\n",
       "    (0): Linear(in_features=512, out_features=512, bias=True)\n",
       "    (1): ReLU()\n",
       "  )\n",
       "  (Dense): Linear(in_features=512, out_features=2, bias=True)\n",
       ")"
      ]
     },
     "execution_count": 13,
     "metadata": {},
     "output_type": "execute_result"
    }
   ],
   "source": [
    "# 初始化线性层权重\n",
    "def xavier_init_weights(m):\n",
    "    if type(m) in (nn.Linear, nn.Conv1d):\n",
    "        nn.init.xavier_uniform_(m.weight)\n",
    "\n",
    "\n",
    "net.apply(xavier_init_weights)"
   ]
  },
  {
   "cell_type": "code",
   "execution_count": 19,
   "id": "469f9473-3863-459c-9925-74c291f13848",
   "metadata": {},
   "outputs": [
    {
     "data": {
      "text/plain": [
       "tensor([[ 0.1561, -0.1295,  0.0207,  ..., -0.0241, -0.1452,  0.1116],\n",
       "        [ 0.0589, -0.0107, -0.1414,  ..., -0.0022,  0.1003,  0.0747],\n",
       "        [ 0.0382, -0.1482,  0.1522,  ...,  0.0693, -0.0310, -0.1197],\n",
       "        ...,\n",
       "        [-0.0697,  0.1438,  0.0896,  ...,  0.0909, -0.0760,  0.0310],\n",
       "        [ 0.0726, -0.0451, -0.0385,  ...,  0.0077, -0.1539, -0.1052],\n",
       "        [ 0.0794,  0.0535,  0.1506,  ...,  0.0334,  0.0894,  0.0897]])"
      ]
     },
     "execution_count": 19,
     "metadata": {},
     "output_type": "execute_result"
    }
   ],
   "source": [
    "net.blks.block0.attention.Wq0.weight.data"
   ]
  },
  {
   "cell_type": "code",
   "execution_count": 22,
   "id": "c3ef7b18-273c-4805-b203-730e2b033820",
   "metadata": {},
   "outputs": [
    {
     "name": "stdout",
     "output_type": "stream",
     "text": [
      "embedding.weight ; torch.Size([37652, 512])\n",
      "blks.block0.attention.W_o.weight ; torch.Size([512, 512])\n",
      "blks.block0.attention.Wq0.weight ; torch.Size([105, 105])\n",
      "blks.block0.attention.Wq1.weight ; torch.Size([98, 98])\n",
      "blks.block0.attention.Wq2.weight ; torch.Size([63, 63])\n",
      "blks.block0.attention.Wq3.weight ; torch.Size([66, 66])\n",
      "blks.block0.attention.Wq4.weight ; torch.Size([55, 55])\n",
      "blks.block0.attention.Wq5.weight ; torch.Size([42, 42])\n",
      "blks.block0.attention.Wq6.weight ; torch.Size([44, 44])\n",
      "blks.block0.attention.Wq7.weight ; torch.Size([39, 39])\n",
      "blks.block0.attention.Wk0.weight ; torch.Size([105, 105])\n",
      "blks.block0.attention.Wk1.weight ; torch.Size([98, 98])\n",
      "blks.block0.attention.Wk2.weight ; torch.Size([63, 63])\n",
      "blks.block0.attention.Wk3.weight ; torch.Size([66, 66])\n",
      "blks.block0.attention.Wk4.weight ; torch.Size([55, 55])\n",
      "blks.block0.attention.Wk5.weight ; torch.Size([42, 42])\n",
      "blks.block0.attention.Wk6.weight ; torch.Size([44, 44])\n",
      "blks.block0.attention.Wk7.weight ; torch.Size([39, 39])\n",
      "blks.block0.attention.Wv0.weight ; torch.Size([105, 105])\n",
      "blks.block0.attention.Wv1.weight ; torch.Size([98, 98])\n",
      "blks.block0.attention.Wv2.weight ; torch.Size([63, 63])\n",
      "blks.block0.attention.Wv3.weight ; torch.Size([66, 66])\n",
      "blks.block0.attention.Wv4.weight ; torch.Size([55, 55])\n",
      "blks.block0.attention.Wv5.weight ; torch.Size([42, 42])\n",
      "blks.block0.attention.Wv6.weight ; torch.Size([44, 44])\n",
      "blks.block0.attention.Wv7.weight ; torch.Size([39, 39])\n",
      "blks.block0.addnorm1.ln.weight ; torch.Size([512])\n",
      "blks.block0.addnorm1.ln.bias ; torch.Size([512])\n",
      "blks.block0.ffn.dense1.weight ; torch.Size([2048, 512])\n",
      "blks.block0.ffn.dense1.bias ; torch.Size([2048])\n",
      "blks.block0.ffn.dense2.weight ; torch.Size([512, 2048])\n",
      "blks.block0.ffn.dense2.bias ; torch.Size([512])\n",
      "blks.block0.addnorm2.ln.weight ; torch.Size([512])\n",
      "blks.block0.addnorm2.ln.bias ; torch.Size([512])\n",
      "conv.weight ; torch.Size([1, 512, 5])\n",
      "conv.bias ; torch.Size([1])\n",
      "Dense.weight ; torch.Size([2, 100])\n",
      "Dense.bias ; torch.Size([2])\n"
     ]
    }
   ],
   "source": [
    "for name, parameters in net.named_parameters():\n",
    "    print(name, ';', parameters.size())"
   ]
  },
  {
   "cell_type": "code",
   "execution_count": 34,
   "id": "8764f896-1e50-4767-8682-54e24755556a",
   "metadata": {},
   "outputs": [
    {
     "data": {
      "text/plain": [
       "device(type='cpu')"
      ]
     },
     "execution_count": 34,
     "metadata": {},
     "output_type": "execute_result"
    }
   ],
   "source": [
    "next(iter(net.parameters())).device"
   ]
  },
  {
   "cell_type": "code",
   "execution_count": 14,
   "id": "e18add95-18d2-425c-a575-b4ceccb1dce5",
   "metadata": {},
   "outputs": [],
   "source": [
    "def evaluate_accuracy_gpu(net, data_iter, device=None):\n",
    "    \"\"\"Compute the accuracy for a model on a dataset using a GPU.\"\"\"\n",
    "    net.eval()  # Set the model to evaluation mode\n",
    "    if not device:\n",
    "        device = next(iter(net.parameters())).device\n",
    "    # No. of correct predictions, no. of predictions\n",
    "    metric = d2l.Accumulator(2)\n",
    "\n",
    "    with torch.no_grad():\n",
    "        for data in data_iter:\n",
    "            if isinstance(data, list) or isinstance(data, tuple):\n",
    "                X, valid_len, y = [x.to(device) for x in data]\n",
    "            else:\n",
    "                X = X.to(device)\n",
    "            metric.add(d2l.accuracy(net(X, valid_len), y), d2l.size(y))\n",
    "    return metric[0] / metric[1]\n",
    "# evaluate_accuracy_gpu(net, test_iter)"
   ]
  },
  {
   "cell_type": "code",
   "execution_count": 27,
   "id": "289de20a-23ca-4a5e-9c82-269bdda8acb0",
   "metadata": {},
   "outputs": [],
   "source": [
    "num_epochs = 1"
   ]
  },
  {
   "cell_type": "code",
   "execution_count": 36,
   "id": "6f0a477d-eeb6-4774-9bc5-29083896bc36",
   "metadata": {},
   "outputs": [
    {
     "name": "stderr",
     "output_type": "stream",
     "text": [
      "100%|██████████| 391/391 [01:45<00:00,  3.71it/s]\n"
     ]
    },
    {
     "name": "stdout",
     "output_type": "stream",
     "text": [
      "epoch 1, loss 0.842, train_acc 0.517, test_acc 0.500, taking 132 seconds\n"
     ]
    },
    {
     "name": "stderr",
     "output_type": "stream",
     "text": [
      "100%|██████████| 391/391 [01:42<00:00,  3.83it/s]\n"
     ]
    },
    {
     "name": "stdout",
     "output_type": "stream",
     "text": [
      "epoch 2, loss 0.707, train_acc 0.505, test_acc 0.500, taking 128 seconds\n"
     ]
    },
    {
     "name": "stderr",
     "output_type": "stream",
     "text": [
      "100%|██████████| 391/391 [01:41<00:00,  3.86it/s]\n"
     ]
    },
    {
     "name": "stdout",
     "output_type": "stream",
     "text": [
      "epoch 3, loss 0.697, train_acc 0.506, test_acc 0.500, taking 127 seconds\n"
     ]
    },
    {
     "name": "stderr",
     "output_type": "stream",
     "text": [
      "100%|██████████| 391/391 [01:40<00:00,  3.90it/s]\n"
     ]
    },
    {
     "name": "stdout",
     "output_type": "stream",
     "text": [
      "epoch 4, loss 0.693, train_acc 0.505, test_acc 0.500, taking 126 seconds\n"
     ]
    },
    {
     "name": "stderr",
     "output_type": "stream",
     "text": [
      "100%|██████████| 391/391 [01:41<00:00,  3.86it/s]\n"
     ]
    },
    {
     "name": "stdout",
     "output_type": "stream",
     "text": [
      "epoch 5, loss 0.693, train_acc 0.506, test_acc 0.500, taking 127 seconds\n"
     ]
    },
    {
     "name": "stderr",
     "output_type": "stream",
     "text": [
      "100%|██████████| 391/391 [01:40<00:00,  3.87it/s]\n"
     ]
    },
    {
     "name": "stdout",
     "output_type": "stream",
     "text": [
      "epoch 6, loss 0.694, train_acc 0.505, test_acc 0.500, taking 127 seconds\n"
     ]
    },
    {
     "name": "stderr",
     "output_type": "stream",
     "text": [
      "100%|██████████| 391/391 [01:39<00:00,  3.92it/s]\n"
     ]
    },
    {
     "name": "stdout",
     "output_type": "stream",
     "text": [
      "epoch 7, loss 0.693, train_acc 0.504, test_acc 0.500, taking 126 seconds\n"
     ]
    },
    {
     "name": "stderr",
     "output_type": "stream",
     "text": [
      "100%|██████████| 391/391 [01:38<00:00,  3.95it/s]\n"
     ]
    },
    {
     "name": "stdout",
     "output_type": "stream",
     "text": [
      "epoch 8, loss 0.694, train_acc 0.503, test_acc 0.500, taking 125 seconds\n"
     ]
    },
    {
     "name": "stderr",
     "output_type": "stream",
     "text": [
      "100%|██████████| 391/391 [01:40<00:00,  3.90it/s]\n"
     ]
    },
    {
     "name": "stdout",
     "output_type": "stream",
     "text": [
      "epoch 9, loss 0.694, train_acc 0.501, test_acc 0.500, taking 126 seconds\n"
     ]
    },
    {
     "name": "stderr",
     "output_type": "stream",
     "text": [
      "100%|██████████| 391/391 [01:40<00:00,  3.88it/s]\n"
     ]
    },
    {
     "name": "stdout",
     "output_type": "stream",
     "text": [
      "epoch 10, loss 0.694, train_acc 0.506, test_acc 0.500, taking 127 seconds\n"
     ]
    },
    {
     "name": "stderr",
     "output_type": "stream",
     "text": [
      "100%|██████████| 391/391 [01:44<00:00,  3.76it/s]\n"
     ]
    },
    {
     "name": "stdout",
     "output_type": "stream",
     "text": [
      "epoch 11, loss 0.694, train_acc 0.508, test_acc 0.500, taking 131 seconds\n"
     ]
    },
    {
     "name": "stderr",
     "output_type": "stream",
     "text": [
      "100%|██████████| 391/391 [01:42<00:00,  3.80it/s]\n"
     ]
    },
    {
     "name": "stdout",
     "output_type": "stream",
     "text": [
      "epoch 12, loss 0.695, train_acc 0.503, test_acc 0.500, taking 129 seconds\n"
     ]
    },
    {
     "name": "stderr",
     "output_type": "stream",
     "text": [
      "100%|██████████| 391/391 [01:41<00:00,  3.87it/s]\n"
     ]
    },
    {
     "name": "stdout",
     "output_type": "stream",
     "text": [
      "epoch 13, loss 0.694, train_acc 0.509, test_acc 0.500, taking 127 seconds\n"
     ]
    },
    {
     "name": "stderr",
     "output_type": "stream",
     "text": [
      "100%|██████████| 391/391 [01:40<00:00,  3.91it/s]\n"
     ]
    },
    {
     "name": "stdout",
     "output_type": "stream",
     "text": [
      "epoch 14, loss 0.695, train_acc 0.509, test_acc 0.500, taking 126 seconds\n"
     ]
    },
    {
     "name": "stderr",
     "output_type": "stream",
     "text": [
      "100%|██████████| 391/391 [01:40<00:00,  3.88it/s]\n"
     ]
    },
    {
     "name": "stdout",
     "output_type": "stream",
     "text": [
      "epoch 15, loss 0.696, train_acc 0.511, test_acc 0.500, taking 127 seconds\n"
     ]
    },
    {
     "name": "stderr",
     "output_type": "stream",
     "text": [
      "100%|██████████| 391/391 [01:43<00:00,  3.79it/s]\n"
     ]
    },
    {
     "name": "stdout",
     "output_type": "stream",
     "text": [
      "epoch 16, loss 0.695, train_acc 0.504, test_acc 0.500, taking 129 seconds\n"
     ]
    },
    {
     "name": "stderr",
     "output_type": "stream",
     "text": [
      "100%|██████████| 391/391 [01:45<00:00,  3.70it/s]\n"
     ]
    },
    {
     "name": "stdout",
     "output_type": "stream",
     "text": [
      "epoch 17, loss 0.695, train_acc 0.504, test_acc 0.500, taking 133 seconds\n"
     ]
    },
    {
     "name": "stderr",
     "output_type": "stream",
     "text": [
      "100%|██████████| 391/391 [01:46<00:00,  3.66it/s]\n"
     ]
    },
    {
     "name": "stdout",
     "output_type": "stream",
     "text": [
      "epoch 18, loss 0.695, train_acc 0.507, test_acc 0.500, taking 133 seconds\n"
     ]
    },
    {
     "name": "stderr",
     "output_type": "stream",
     "text": [
      "100%|██████████| 391/391 [01:40<00:00,  3.87it/s]\n"
     ]
    },
    {
     "name": "stdout",
     "output_type": "stream",
     "text": [
      "epoch 19, loss 0.695, train_acc 0.505, test_acc 0.500, taking 127 seconds\n"
     ]
    },
    {
     "name": "stderr",
     "output_type": "stream",
     "text": [
      "100%|██████████| 391/391 [01:42<00:00,  3.83it/s]\n"
     ]
    },
    {
     "name": "stdout",
     "output_type": "stream",
     "text": [
      "epoch 20, loss 0.695, train_acc 0.503, test_acc 0.500, taking 128 seconds\n"
     ]
    },
    {
     "name": "stderr",
     "output_type": "stream",
     "text": [
      "100%|██████████| 391/391 [01:41<00:00,  3.83it/s]\n"
     ]
    },
    {
     "name": "stdout",
     "output_type": "stream",
     "text": [
      "epoch 21, loss 0.694, train_acc 0.504, test_acc 0.500, taking 128 seconds\n"
     ]
    },
    {
     "name": "stderr",
     "output_type": "stream",
     "text": [
      "100%|██████████| 391/391 [01:42<00:00,  3.83it/s]\n"
     ]
    },
    {
     "name": "stdout",
     "output_type": "stream",
     "text": [
      "epoch 22, loss 0.695, train_acc 0.503, test_acc 0.500, taking 128 seconds\n"
     ]
    },
    {
     "name": "stderr",
     "output_type": "stream",
     "text": [
      "100%|██████████| 391/391 [01:41<00:00,  3.84it/s]\n"
     ]
    },
    {
     "name": "stdout",
     "output_type": "stream",
     "text": [
      "epoch 23, loss 0.694, train_acc 0.511, test_acc 0.500, taking 128 seconds\n"
     ]
    },
    {
     "name": "stderr",
     "output_type": "stream",
     "text": [
      "100%|██████████| 391/391 [01:45<00:00,  3.71it/s]\n"
     ]
    },
    {
     "name": "stdout",
     "output_type": "stream",
     "text": [
      "epoch 24, loss 0.694, train_acc 0.510, test_acc 0.500, taking 132 seconds\n"
     ]
    },
    {
     "name": "stderr",
     "output_type": "stream",
     "text": [
      "100%|██████████| 391/391 [01:45<00:00,  3.69it/s]\n"
     ]
    },
    {
     "name": "stdout",
     "output_type": "stream",
     "text": [
      "epoch 25, loss 0.695, train_acc 0.503, test_acc 0.500, taking 132 seconds\n"
     ]
    },
    {
     "name": "stderr",
     "output_type": "stream",
     "text": [
      "100%|██████████| 391/391 [01:42<00:00,  3.83it/s]\n"
     ]
    },
    {
     "name": "stdout",
     "output_type": "stream",
     "text": [
      "epoch 26, loss 0.695, train_acc 0.504, test_acc 0.500, taking 128 seconds\n"
     ]
    },
    {
     "name": "stderr",
     "output_type": "stream",
     "text": [
      "100%|██████████| 391/391 [01:43<00:00,  3.77it/s]\n"
     ]
    },
    {
     "name": "stdout",
     "output_type": "stream",
     "text": [
      "epoch 27, loss 0.694, train_acc 0.504, test_acc 0.500, taking 131 seconds\n"
     ]
    },
    {
     "name": "stderr",
     "output_type": "stream",
     "text": [
      "100%|██████████| 391/391 [01:42<00:00,  3.83it/s]\n"
     ]
    },
    {
     "name": "stdout",
     "output_type": "stream",
     "text": [
      "epoch 28, loss 0.694, train_acc 0.501, test_acc 0.500, taking 128 seconds\n"
     ]
    },
    {
     "name": "stderr",
     "output_type": "stream",
     "text": [
      "100%|██████████| 391/391 [01:43<00:00,  3.76it/s]\n"
     ]
    },
    {
     "name": "stdout",
     "output_type": "stream",
     "text": [
      "epoch 29, loss 0.694, train_acc 0.505, test_acc 0.500, taking 130 seconds\n"
     ]
    },
    {
     "name": "stderr",
     "output_type": "stream",
     "text": [
      "100%|██████████| 391/391 [01:45<00:00,  3.72it/s]\n"
     ]
    },
    {
     "name": "stdout",
     "output_type": "stream",
     "text": [
      "epoch 30, loss 0.694, train_acc 0.504, test_acc 0.500, taking 132 seconds\n",
      "Training is finished.\n"
     ]
    },
    {
     "ename": "NameError",
     "evalue": "name 'accuracy' is not defined",
     "output_type": "error",
     "traceback": [
      "\u001b[0;31m---------------------------------------------------------------------------\u001b[0m",
      "\u001b[0;31mNameError\u001b[0m                                 Traceback (most recent call last)",
      "\u001b[0;32m/tmp/ipykernel_1199/884622069.py\u001b[0m in \u001b[0;36m<cell line: 40>\u001b[0;34m()\u001b[0m\n\u001b[1;32m     38\u001b[0m \u001b[0mtotal_timecost\u001b[0m \u001b[0;34m=\u001b[0m \u001b[0mround\u001b[0m\u001b[0;34m(\u001b[0m\u001b[0mtime\u001b[0m\u001b[0;34m.\u001b[0m\u001b[0mtime\u001b[0m\u001b[0;34m(\u001b[0m\u001b[0;34m)\u001b[0m \u001b[0;34m-\u001b[0m \u001b[0mtotal_start\u001b[0m\u001b[0;34m)\u001b[0m\u001b[0;34m\u001b[0m\u001b[0;34m\u001b[0m\u001b[0m\n\u001b[1;32m     39\u001b[0m \u001b[0mprint\u001b[0m\u001b[0;34m(\u001b[0m\u001b[0;34m'Training is finished.'\u001b[0m\u001b[0;34m)\u001b[0m\u001b[0;34m\u001b[0m\u001b[0;34m\u001b[0m\u001b[0m\n\u001b[0;32m---> 40\u001b[0;31m print(f'训练损失:{losses[-1]:.3f}, 训练集准确率:{accuracy[-1]:.3f}, 测试集准确率:{accuracy[-1]:.3f}'\n\u001b[0m\u001b[1;32m     41\u001b[0m      f'在设备{device}上训练{num_epochs}周期 耗时{total_timecost}s')\n",
      "\u001b[0;31mNameError\u001b[0m: name 'accuracy' is not defined"
     ]
    }
   ],
   "source": [
    "# 以‘微调’的模式进行训练\n",
    "# 22,130,658 total parameters.\n",
    "loss = nn.CrossEntropyLoss(reduction='none')\n",
    "forward_params = [\n",
    "    param for name, param in net.named_parameters()\n",
    "    if name != \"embedding.weight\"]\n",
    "trainer = torch.optim.Adam(\n",
    "    [{'params': forward_params},\n",
    "    {'params': net.embedding.parameters(),\n",
    "    'lr': lr * 0.01}], lr=lr)\n",
    "# animator = d2l.Animator(xlabel='epoch', xlim=[1, num_epochs], ylim=[0, 1],\n",
    "#         legend=['train loss', 'train acc'])\n",
    "net.to(device)\n",
    "\n",
    "num_batches = len(train_iter)\n",
    "losses, train_accuracy, test_accuracy = [], [], []\n",
    "total_start = time.time()\n",
    "for epoch in range(num_epochs):\n",
    "    # metric = d2l.Accumulator(4)\n",
    "    train_loss, train_acc = 0, 0\n",
    "    start_time = time.perf_counter()\n",
    "    net.train()\n",
    "    for index, data in tqdm(enumerate(train_iter), total=num_batches, leave = True):\n",
    "        X, valid_len, y = [v.to(device) for v in data]\n",
    "        l = loss(net(X, valid_len), y)\n",
    "        trainer.zero_grad()\n",
    "        l.sum().backward()\n",
    "        trainer.step()\n",
    "        # metric.add(l.sum(), d2l.accuracy(net(X, valid_len), y), labels.shape[0])\n",
    "        train_loss += l.sum().cpu().detach().numpy() / batch_size\n",
    "        train_acc += d2l.accuracy(net(X, valid_len), y) / batch_size\n",
    "    epochloss, epochtrain, epochtest = train_loss / num_batches, train_acc / num_batches, evaluate_accuracy_gpu(net, test_iter)\n",
    "    end_time = time.perf_counter()\n",
    "    print(f'epoch {epoch + 1}, loss {epochloss:.3f}, train_acc {epochtrain:.3f}, '\n",
    "         f'test_acc {epochtest:.3f}, taking {round(end_time - start_time)} seconds')\n",
    "    losses.append(epochloss)\n",
    "    train_accuracy.append(epochtrain)\n",
    "    test_accuracy.append(epochtest)\n",
    "total_timecost = round(time.time() - total_start)\n",
    "print('Training is finished.')\n",
    "print(f'训练损失:{losses[-1]:.3f}, 训练集准确率:{train_accuracy[-1]:.3f}, '\n",
    "      f'测试集准确率:{test_accuracy[-1]:.3f}'\n",
    "     f'在设备{device}上训练{num_epochs}周期 耗时{total_timecost}s')"
   ]
  },
  {
   "cell_type": "code",
   "execution_count": 38,
   "id": "9b4b1d84-6c9e-4b65-b68f-13d6c989ee72",
   "metadata": {},
   "outputs": [
    {
     "name": "stdout",
     "output_type": "stream",
     "text": [
      "训练损失:0.694, 训练集准确率:0.504, 测试集准确率:0.500 在设备cuda:0上训练30周期 耗时3860s\n"
     ]
    }
   ],
   "source": [
    "print(f'训练损失:{losses[-1]:.3f}, 训练集准确率:{train_accuracy[-1]:.3f}, '\n",
    "      f'测试集准确率:{test_accuracy[-1]:.3f} '\n",
    "     f'在设备{device}上训练{num_epochs}周期 耗时{total_timecost}s')"
   ]
  },
  {
   "cell_type": "code",
   "execution_count": null,
   "id": "15707d44-394d-4057-8d99-a7b46fd10609",
   "metadata": {},
   "outputs": [],
   "source": [
    "#未初始化embedding权重训练\n",
    "#训练损失:0.694, 训练准确率:0.506"
   ]
  },
  {
   "cell_type": "code",
   "execution_count": 34,
   "id": "e43a6832-a2c6-43cf-a869-4a5d214ae59d",
   "metadata": {},
   "outputs": [
    {
     "data": {
      "text/plain": [
       "20"
      ]
     },
     "execution_count": 34,
     "metadata": {},
     "output_type": "execute_result"
    }
   ],
   "source": [
    "losses[0].type\n",
    "len(losses)"
   ]
  },
  {
   "cell_type": "code",
   "execution_count": 37,
   "id": "0f651952-9e32-4f29-bde1-8e7ffe9deb25",
   "metadata": {},
   "outputs": [
    {
     "data": {
      "image/png": "[encoded data removed]",
      "text/plain": [
       "<Figure size 640x480 with 3 Axes>"
      ]
     },
     "metadata": {},
     "output_type": "display_data"
    }
   ],
   "source": [
    "l, acc = [a.cpu().detach().numpy() for a in losses], accuracy\n",
    "fig = plt.figure()\n",
    "plt.title('train loss and accuracy')\n",
    "x = np.arange(1, num_epochs + 1)\n",
    "ax = fig.add_subplot(111)\n",
    "ax.plot(x, l, label='loss')\n",
    "ax2 = ax.twinx()\n",
    "ax2.plot(x, acc, label='train_accuracy')\n",
    "ax.legend()\n",
    "ax.set_xlabel('epoch')\n",
    "plt.grid()\n",
    "plt.show()"
   ]
  },
  {
   "cell_type": "code",
   "execution_count": null,
   "id": "c1d98898-d292-47fb-8b30-c1896fc2ef84",
   "metadata": {},
   "outputs": [],
   "source": [
    "fig = plt.figure()\n",
    "plt.title('train loss and accuracy')\n",
    "epochs = np.arange(1, num_epochs + 1)\n",
    "losses = np.random.rand(num_epochs)\n",
    "train = np.ones(num_epochs) * 0.5\n",
    "plt.plot(epochs, losses, 'r-.', label='loss')\n",
    "plt.plot(epochs, train, 'c-', label='train_acc')"
   ]
  },
  {
   "cell_type": "code",
   "execution_count": 39,
   "id": "53299c09-9efc-47a8-8b49-a3d767da8a22",
   "metadata": {},
   "outputs": [
    {
     "data": {
      "image/png": "[encoded data removed]",
      "text/plain": [
       "<Figure size 640x480 with 1 Axes>"
      ]
     },
     "metadata": {},
     "output_type": "display_data"
    }
   ],
   "source": [
    "fig = plt.figure()\n",
    "plt.title('train loss and accuracy')\n",
    "epochs = np.arange(1, num_epochs + 1)\n",
    "# losses, train_accuracy, test_accuracy\n",
    "plt.plot(epochs, losses, 'r.-', label='loss')\n",
    "plt.plot(epochs, train_accuracy, 'g-.', label='train_acc')\n",
    "plt.plot(epochs, test_accuracy, 'b-.', label='test_acc')\n",
    "plt.legend(loc='best', frameon=False)\n",
    "plt.show()"
   ]
  },
  {
   "cell_type": "markdown",
   "id": "05c0f57e-d4d1-4ce4-8f8d-22ed79b2abe9",
   "metadata": {},
   "source": [
    "# 训练1(激活函数ReLU)"
   ]
  },
  {
   "cell_type": "code",
   "execution_count": 27,
   "id": "e33f9bee-f92d-4ddc-91b7-cc3f99278c78",
   "metadata": {},
   "outputs": [
    {
     "name": "stderr",
     "output_type": "stream",
     "text": [
      "100%|██████████| 391/391 [01:45<00:00,  3.72it/s]\n"
     ]
    },
    {
     "name": "stdout",
     "output_type": "stream",
     "text": [
      "epoch 1, loss 0.655, train_acc 0.622, test_acc 0.809, taking 133 seconds\n"
     ]
    },
    {
     "name": "stderr",
     "output_type": "stream",
     "text": [
      "100%|██████████| 391/391 [01:46<00:00,  3.69it/s]\n"
     ]
    },
    {
     "name": "stdout",
     "output_type": "stream",
     "text": [
      "epoch 2, loss 0.440, train_acc 0.804, test_acc 0.836, taking 134 seconds\n"
     ]
    },
    {
     "name": "stderr",
     "output_type": "stream",
     "text": [
      "100%|██████████| 391/391 [01:45<00:00,  3.71it/s]\n"
     ]
    },
    {
     "name": "stdout",
     "output_type": "stream",
     "text": [
      "epoch 3, loss 0.392, train_acc 0.830, test_acc 0.812, taking 133 seconds\n"
     ]
    },
    {
     "name": "stderr",
     "output_type": "stream",
     "text": [
      "100%|██████████| 391/391 [01:44<00:00,  3.75it/s]\n"
     ]
    },
    {
     "name": "stdout",
     "output_type": "stream",
     "text": [
      "epoch 4, loss 0.376, train_acc 0.841, test_acc 0.852, taking 132 seconds\n"
     ]
    },
    {
     "name": "stderr",
     "output_type": "stream",
     "text": [
      "100%|██████████| 391/391 [01:45<00:00,  3.72it/s]\n"
     ]
    },
    {
     "name": "stdout",
     "output_type": "stream",
     "text": [
      "epoch 5, loss 0.357, train_acc 0.849, test_acc 0.859, taking 133 seconds\n"
     ]
    },
    {
     "name": "stderr",
     "output_type": "stream",
     "text": [
      "100%|██████████| 391/391 [01:44<00:00,  3.74it/s]\n"
     ]
    },
    {
     "name": "stdout",
     "output_type": "stream",
     "text": [
      "epoch 6, loss 0.335, train_acc 0.860, test_acc 0.856, taking 132 seconds\n"
     ]
    },
    {
     "name": "stderr",
     "output_type": "stream",
     "text": [
      "100%|██████████| 391/391 [01:45<00:00,  3.71it/s]\n"
     ]
    },
    {
     "name": "stdout",
     "output_type": "stream",
     "text": [
      "epoch 7, loss 0.317, train_acc 0.870, test_acc 0.860, taking 133 seconds\n"
     ]
    },
    {
     "name": "stderr",
     "output_type": "stream",
     "text": [
      "100%|██████████| 391/391 [01:45<00:00,  3.72it/s]\n"
     ]
    },
    {
     "name": "stdout",
     "output_type": "stream",
     "text": [
      "epoch 8, loss 0.312, train_acc 0.870, test_acc 0.864, taking 133 seconds\n"
     ]
    },
    {
     "name": "stderr",
     "output_type": "stream",
     "text": [
      "100%|██████████| 391/391 [01:44<00:00,  3.73it/s]\n"
     ]
    },
    {
     "name": "stdout",
     "output_type": "stream",
     "text": [
      "epoch 9, loss 0.300, train_acc 0.877, test_acc 0.864, taking 132 seconds\n"
     ]
    },
    {
     "name": "stderr",
     "output_type": "stream",
     "text": [
      "100%|██████████| 391/391 [01:44<00:00,  3.73it/s]\n"
     ]
    },
    {
     "name": "stdout",
     "output_type": "stream",
     "text": [
      "epoch 10, loss 0.288, train_acc 0.884, test_acc 0.865, taking 132 seconds\n"
     ]
    },
    {
     "name": "stderr",
     "output_type": "stream",
     "text": [
      "100%|██████████| 391/391 [01:44<00:00,  3.74it/s]\n"
     ]
    },
    {
     "name": "stdout",
     "output_type": "stream",
     "text": [
      "epoch 11, loss 0.273, train_acc 0.886, test_acc 0.867, taking 132 seconds\n"
     ]
    },
    {
     "name": "stderr",
     "output_type": "stream",
     "text": [
      "100%|██████████| 391/391 [01:44<00:00,  3.74it/s]\n"
     ]
    },
    {
     "name": "stdout",
     "output_type": "stream",
     "text": [
      "epoch 12, loss 0.271, train_acc 0.892, test_acc 0.867, taking 132 seconds\n"
     ]
    },
    {
     "name": "stderr",
     "output_type": "stream",
     "text": [
      "100%|██████████| 391/391 [01:44<00:00,  3.75it/s]\n"
     ]
    },
    {
     "name": "stdout",
     "output_type": "stream",
     "text": [
      "epoch 13, loss 0.256, train_acc 0.900, test_acc 0.862, taking 132 seconds\n"
     ]
    },
    {
     "name": "stderr",
     "output_type": "stream",
     "text": [
      "100%|██████████| 391/391 [01:44<00:00,  3.73it/s]\n"
     ]
    },
    {
     "name": "stdout",
     "output_type": "stream",
     "text": [
      "epoch 14, loss 0.241, train_acc 0.905, test_acc 0.869, taking 132 seconds\n"
     ]
    },
    {
     "name": "stderr",
     "output_type": "stream",
     "text": [
      "100%|██████████| 391/391 [01:44<00:00,  3.75it/s]\n"
     ]
    },
    {
     "name": "stdout",
     "output_type": "stream",
     "text": [
      "epoch 15, loss 0.235, train_acc 0.909, test_acc 0.854, taking 132 seconds\n"
     ]
    },
    {
     "name": "stderr",
     "output_type": "stream",
     "text": [
      "100%|██████████| 391/391 [01:44<00:00,  3.75it/s]\n"
     ]
    },
    {
     "name": "stdout",
     "output_type": "stream",
     "text": [
      "epoch 16, loss 0.207, train_acc 0.920, test_acc 0.834, taking 132 seconds\n"
     ]
    },
    {
     "name": "stderr",
     "output_type": "stream",
     "text": [
      "100%|██████████| 391/391 [01:45<00:00,  3.70it/s]\n"
     ]
    },
    {
     "name": "stdout",
     "output_type": "stream",
     "text": [
      "epoch 17, loss 0.193, train_acc 0.925, test_acc 0.864, taking 133 seconds\n"
     ]
    },
    {
     "name": "stderr",
     "output_type": "stream",
     "text": [
      "100%|██████████| 391/391 [01:46<00:00,  3.69it/s]\n"
     ]
    },
    {
     "name": "stdout",
     "output_type": "stream",
     "text": [
      "epoch 18, loss 0.185, train_acc 0.931, test_acc 0.858, taking 134 seconds\n"
     ]
    },
    {
     "name": "stderr",
     "output_type": "stream",
     "text": [
      "100%|██████████| 391/391 [01:44<00:00,  3.74it/s]\n"
     ]
    },
    {
     "name": "stdout",
     "output_type": "stream",
     "text": [
      "epoch 19, loss 0.190, train_acc 0.928, test_acc 0.855, taking 132 seconds\n"
     ]
    },
    {
     "name": "stderr",
     "output_type": "stream",
     "text": [
      "100%|██████████| 391/391 [01:44<00:00,  3.73it/s]\n"
     ]
    },
    {
     "name": "stdout",
     "output_type": "stream",
     "text": [
      "epoch 20, loss 0.162, train_acc 0.940, test_acc 0.835, taking 132 seconds\n"
     ]
    },
    {
     "name": "stderr",
     "output_type": "stream",
     "text": [
      "100%|██████████| 391/391 [01:44<00:00,  3.75it/s]\n"
     ]
    },
    {
     "name": "stdout",
     "output_type": "stream",
     "text": [
      "epoch 21, loss 0.141, train_acc 0.949, test_acc 0.840, taking 132 seconds\n"
     ]
    },
    {
     "name": "stderr",
     "output_type": "stream",
     "text": [
      "100%|██████████| 391/391 [01:44<00:00,  3.74it/s]\n"
     ]
    },
    {
     "name": "stdout",
     "output_type": "stream",
     "text": [
      "epoch 22, loss 0.139, train_acc 0.949, test_acc 0.856, taking 132 seconds\n"
     ]
    },
    {
     "name": "stderr",
     "output_type": "stream",
     "text": [
      "100%|██████████| 391/391 [01:44<00:00,  3.76it/s]\n"
     ]
    },
    {
     "name": "stdout",
     "output_type": "stream",
     "text": [
      "epoch 23, loss 0.128, train_acc 0.953, test_acc 0.853, taking 132 seconds\n"
     ]
    },
    {
     "name": "stderr",
     "output_type": "stream",
     "text": [
      "100%|██████████| 391/391 [01:45<00:00,  3.72it/s]\n"
     ]
    },
    {
     "name": "stdout",
     "output_type": "stream",
     "text": [
      "epoch 24, loss 0.117, train_acc 0.957, test_acc 0.843, taking 133 seconds\n"
     ]
    },
    {
     "name": "stderr",
     "output_type": "stream",
     "text": [
      "100%|██████████| 391/391 [01:44<00:00,  3.73it/s]\n"
     ]
    },
    {
     "name": "stdout",
     "output_type": "stream",
     "text": [
      "epoch 25, loss 0.109, train_acc 0.961, test_acc 0.828, taking 132 seconds\n"
     ]
    },
    {
     "name": "stderr",
     "output_type": "stream",
     "text": [
      "100%|██████████| 391/391 [01:45<00:00,  3.70it/s]\n"
     ]
    },
    {
     "name": "stdout",
     "output_type": "stream",
     "text": [
      "epoch 26, loss 0.103, train_acc 0.965, test_acc 0.846, taking 133 seconds\n"
     ]
    },
    {
     "name": "stderr",
     "output_type": "stream",
     "text": [
      "100%|██████████| 391/391 [01:46<00:00,  3.67it/s]\n"
     ]
    },
    {
     "name": "stdout",
     "output_type": "stream",
     "text": [
      "epoch 27, loss 0.095, train_acc 0.966, test_acc 0.825, taking 134 seconds\n"
     ]
    },
    {
     "name": "stderr",
     "output_type": "stream",
     "text": [
      "100%|██████████| 391/391 [01:44<00:00,  3.75it/s]\n"
     ]
    },
    {
     "name": "stdout",
     "output_type": "stream",
     "text": [
      "epoch 28, loss 0.089, train_acc 0.971, test_acc 0.835, taking 132 seconds\n"
     ]
    },
    {
     "name": "stderr",
     "output_type": "stream",
     "text": [
      "100%|██████████| 391/391 [01:44<00:00,  3.73it/s]\n"
     ]
    },
    {
     "name": "stdout",
     "output_type": "stream",
     "text": [
      "epoch 29, loss 0.082, train_acc 0.970, test_acc 0.844, taking 132 seconds\n"
     ]
    },
    {
     "name": "stderr",
     "output_type": "stream",
     "text": [
      "100%|██████████| 391/391 [01:44<00:00,  3.73it/s]\n"
     ]
    },
    {
     "name": "stdout",
     "output_type": "stream",
     "text": [
      "epoch 30, loss 0.080, train_acc 0.972, test_acc 0.833, taking 132 seconds\n"
     ]
    },
    {
     "name": "stderr",
     "output_type": "stream",
     "text": [
      "100%|██████████| 391/391 [01:46<00:00,  3.68it/s]\n"
     ]
    },
    {
     "name": "stdout",
     "output_type": "stream",
     "text": [
      "epoch 31, loss 0.077, train_acc 0.974, test_acc 0.842, taking 134 seconds\n"
     ]
    },
    {
     "name": "stderr",
     "output_type": "stream",
     "text": [
      "100%|██████████| 391/391 [01:44<00:00,  3.74it/s]\n"
     ]
    },
    {
     "name": "stdout",
     "output_type": "stream",
     "text": [
      "epoch 32, loss 0.071, train_acc 0.973, test_acc 0.820, taking 132 seconds\n"
     ]
    },
    {
     "name": "stderr",
     "output_type": "stream",
     "text": [
      "100%|██████████| 391/391 [01:44<00:00,  3.75it/s]\n"
     ]
    },
    {
     "name": "stdout",
     "output_type": "stream",
     "text": [
      "epoch 33, loss 0.064, train_acc 0.977, test_acc 0.826, taking 132 seconds\n"
     ]
    },
    {
     "name": "stderr",
     "output_type": "stream",
     "text": [
      "100%|██████████| 391/391 [01:44<00:00,  3.75it/s]\n"
     ]
    },
    {
     "name": "stdout",
     "output_type": "stream",
     "text": [
      "epoch 34, loss 0.063, train_acc 0.978, test_acc 0.843, taking 132 seconds\n"
     ]
    },
    {
     "name": "stderr",
     "output_type": "stream",
     "text": [
      "100%|██████████| 391/391 [01:44<00:00,  3.73it/s]\n"
     ]
    },
    {
     "name": "stdout",
     "output_type": "stream",
     "text": [
      "epoch 35, loss 0.058, train_acc 0.980, test_acc 0.830, taking 132 seconds\n"
     ]
    },
    {
     "name": "stderr",
     "output_type": "stream",
     "text": [
      "100%|██████████| 391/391 [01:44<00:00,  3.73it/s]\n"
     ]
    },
    {
     "name": "stdout",
     "output_type": "stream",
     "text": [
      "epoch 36, loss 0.057, train_acc 0.979, test_acc 0.828, taking 132 seconds\n"
     ]
    },
    {
     "name": "stderr",
     "output_type": "stream",
     "text": [
      "100%|██████████| 391/391 [01:44<00:00,  3.73it/s]\n"
     ]
    },
    {
     "name": "stdout",
     "output_type": "stream",
     "text": [
      "epoch 37, loss 0.054, train_acc 0.981, test_acc 0.819, taking 133 seconds\n"
     ]
    },
    {
     "name": "stderr",
     "output_type": "stream",
     "text": [
      "100%|██████████| 391/391 [01:45<00:00,  3.72it/s]\n"
     ]
    },
    {
     "name": "stdout",
     "output_type": "stream",
     "text": [
      "epoch 38, loss 0.051, train_acc 0.981, test_acc 0.839, taking 133 seconds\n"
     ]
    },
    {
     "name": "stderr",
     "output_type": "stream",
     "text": [
      "100%|██████████| 391/391 [01:44<00:00,  3.75it/s]\n"
     ]
    },
    {
     "name": "stdout",
     "output_type": "stream",
     "text": [
      "epoch 39, loss 0.055, train_acc 0.979, test_acc 0.830, taking 132 seconds\n"
     ]
    },
    {
     "name": "stderr",
     "output_type": "stream",
     "text": [
      "100%|██████████| 391/391 [01:44<00:00,  3.75it/s]\n"
     ]
    },
    {
     "name": "stdout",
     "output_type": "stream",
     "text": [
      "epoch 40, loss 0.047, train_acc 0.982, test_acc 0.816, taking 132 seconds\n"
     ]
    },
    {
     "name": "stderr",
     "output_type": "stream",
     "text": [
      "100%|██████████| 391/391 [01:44<00:00,  3.74it/s]\n"
     ]
    },
    {
     "name": "stdout",
     "output_type": "stream",
     "text": [
      "epoch 41, loss 0.047, train_acc 0.985, test_acc 0.827, taking 132 seconds\n"
     ]
    },
    {
     "name": "stderr",
     "output_type": "stream",
     "text": [
      "100%|██████████| 391/391 [01:44<00:00,  3.73it/s]\n"
     ]
    },
    {
     "name": "stdout",
     "output_type": "stream",
     "text": [
      "epoch 42, loss 0.042, train_acc 0.985, test_acc 0.818, taking 132 seconds\n"
     ]
    },
    {
     "name": "stderr",
     "output_type": "stream",
     "text": [
      "100%|██████████| 391/391 [01:46<00:00,  3.68it/s]\n"
     ]
    },
    {
     "name": "stdout",
     "output_type": "stream",
     "text": [
      "epoch 43, loss 0.050, train_acc 0.980, test_acc 0.821, taking 134 seconds\n"
     ]
    },
    {
     "name": "stderr",
     "output_type": "stream",
     "text": [
      "100%|██████████| 391/391 [01:46<00:00,  3.68it/s]\n"
     ]
    },
    {
     "name": "stdout",
     "output_type": "stream",
     "text": [
      "epoch 44, loss 0.041, train_acc 0.984, test_acc 0.802, taking 134 seconds\n"
     ]
    },
    {
     "name": "stderr",
     "output_type": "stream",
     "text": [
      "100%|██████████| 391/391 [01:45<00:00,  3.72it/s]\n"
     ]
    },
    {
     "name": "stdout",
     "output_type": "stream",
     "text": [
      "epoch 45, loss 0.044, train_acc 0.984, test_acc 0.835, taking 133 seconds\n"
     ]
    },
    {
     "name": "stderr",
     "output_type": "stream",
     "text": [
      "100%|██████████| 391/391 [01:45<00:00,  3.70it/s]\n"
     ]
    },
    {
     "name": "stdout",
     "output_type": "stream",
     "text": [
      "epoch 46, loss 0.039, train_acc 0.986, test_acc 0.831, taking 133 seconds\n"
     ]
    },
    {
     "name": "stderr",
     "output_type": "stream",
     "text": [
      "100%|██████████| 391/391 [01:44<00:00,  3.76it/s]\n"
     ]
    },
    {
     "name": "stdout",
     "output_type": "stream",
     "text": [
      "epoch 47, loss 0.036, train_acc 0.987, test_acc 0.822, taking 132 seconds\n"
     ]
    },
    {
     "name": "stderr",
     "output_type": "stream",
     "text": [
      "100%|██████████| 391/391 [01:44<00:00,  3.73it/s]\n"
     ]
    },
    {
     "name": "stdout",
     "output_type": "stream",
     "text": [
      "epoch 48, loss 0.037, train_acc 0.987, test_acc 0.797, taking 132 seconds\n"
     ]
    },
    {
     "name": "stderr",
     "output_type": "stream",
     "text": [
      "100%|██████████| 391/391 [01:44<00:00,  3.74it/s]\n"
     ]
    },
    {
     "name": "stdout",
     "output_type": "stream",
     "text": [
      "epoch 49, loss 0.034, train_acc 0.987, test_acc 0.828, taking 132 seconds\n"
     ]
    },
    {
     "name": "stderr",
     "output_type": "stream",
     "text": [
      "100%|██████████| 391/391 [01:44<00:00,  3.73it/s]\n"
     ]
    },
    {
     "name": "stdout",
     "output_type": "stream",
     "text": [
      "epoch 50, loss 0.035, train_acc 0.987, test_acc 0.827, taking 132 seconds\n"
     ]
    },
    {
     "name": "stderr",
     "output_type": "stream",
     "text": [
      "100%|██████████| 391/391 [01:44<00:00,  3.74it/s]\n"
     ]
    },
    {
     "name": "stdout",
     "output_type": "stream",
     "text": [
      "epoch 51, loss 0.027, train_acc 0.989, test_acc 0.819, taking 132 seconds\n"
     ]
    },
    {
     "name": "stderr",
     "output_type": "stream",
     "text": [
      "100%|██████████| 391/391 [01:45<00:00,  3.72it/s]\n"
     ]
    },
    {
     "name": "stdout",
     "output_type": "stream",
     "text": [
      "epoch 52, loss 0.031, train_acc 0.990, test_acc 0.835, taking 133 seconds\n"
     ]
    },
    {
     "name": "stderr",
     "output_type": "stream",
     "text": [
      "100%|██████████| 391/391 [01:43<00:00,  3.76it/s]\n"
     ]
    },
    {
     "name": "stdout",
     "output_type": "stream",
     "text": [
      "epoch 53, loss 0.026, train_acc 0.990, test_acc 0.828, taking 132 seconds\n"
     ]
    },
    {
     "name": "stderr",
     "output_type": "stream",
     "text": [
      "100%|██████████| 391/391 [01:45<00:00,  3.72it/s]\n"
     ]
    },
    {
     "name": "stdout",
     "output_type": "stream",
     "text": [
      "epoch 54, loss 0.028, train_acc 0.990, test_acc 0.838, taking 133 seconds\n"
     ]
    },
    {
     "name": "stderr",
     "output_type": "stream",
     "text": [
      "100%|██████████| 391/391 [01:45<00:00,  3.72it/s]\n"
     ]
    },
    {
     "name": "stdout",
     "output_type": "stream",
     "text": [
      "epoch 55, loss 0.028, train_acc 0.990, test_acc 0.817, taking 133 seconds\n"
     ]
    },
    {
     "name": "stderr",
     "output_type": "stream",
     "text": [
      "100%|██████████| 391/391 [01:44<00:00,  3.75it/s]\n"
     ]
    },
    {
     "name": "stdout",
     "output_type": "stream",
     "text": [
      "epoch 56, loss 0.024, train_acc 0.991, test_acc 0.819, taking 132 seconds\n"
     ]
    },
    {
     "name": "stderr",
     "output_type": "stream",
     "text": [
      "100%|██████████| 391/391 [01:45<00:00,  3.72it/s]\n"
     ]
    },
    {
     "name": "stdout",
     "output_type": "stream",
     "text": [
      "epoch 57, loss 0.026, train_acc 0.990, test_acc 0.824, taking 133 seconds\n"
     ]
    },
    {
     "name": "stderr",
     "output_type": "stream",
     "text": [
      "100%|██████████| 391/391 [01:45<00:00,  3.70it/s]\n"
     ]
    },
    {
     "name": "stdout",
     "output_type": "stream",
     "text": [
      "epoch 58, loss 0.027, train_acc 0.990, test_acc 0.811, taking 134 seconds\n"
     ]
    },
    {
     "name": "stderr",
     "output_type": "stream",
     "text": [
      "100%|██████████| 391/391 [01:44<00:00,  3.73it/s]\n"
     ]
    },
    {
     "name": "stdout",
     "output_type": "stream",
     "text": [
      "epoch 59, loss 0.023, train_acc 0.991, test_acc 0.812, taking 132 seconds\n"
     ]
    },
    {
     "name": "stderr",
     "output_type": "stream",
     "text": [
      "100%|██████████| 391/391 [01:46<00:00,  3.68it/s]\n"
     ]
    },
    {
     "name": "stdout",
     "output_type": "stream",
     "text": [
      "epoch 60, loss 0.021, train_acc 0.991, test_acc 0.807, taking 134 seconds\n",
      "Training is finished.\n",
      "训练损失:0.021, 训练集准确率:0.991, 测试集准确率:0.807 在设备cuda:0上训练60周期 耗时7953 s\n"
     ]
    }
   ],
   "source": [
    "# 以‘微调’的模式进行训练\n",
    "# activation function: nn.ReLU()\n",
    "# 24,492,514 total parameters.\n",
    "loss = nn.CrossEntropyLoss(reduction='none')\n",
    "forward_params = [\n",
    "    param for name, param in net.named_parameters()\n",
    "    if name != \"embedding.weight\"]\n",
    "trainer = torch.optim.Adam(\n",
    "    [{'params': net.embedding.parameters()},\n",
    "    {'params': forward_params,\n",
    "    'lr': lr * 10}], lr=lr)\n",
    "# animator = d2l.Animator(xlabel='epoch', xlim=[1, num_epochs], ylim=[0, 1],\n",
    "#         legend=['train loss', 'train acc'])\n",
    "net.to(device)\n",
    "\n",
    "num_batches = len(train_iter)\n",
    "losses, train_accuracy, test_accuracy = [], [], []\n",
    "total_start = time.time()\n",
    "for epoch in range(num_epochs):\n",
    "    # metric = d2l.Accumulator(4)\n",
    "    train_loss, train_acc = 0, 0\n",
    "    start_time = time.perf_counter()\n",
    "    net.train()\n",
    "    for index, data in tqdm(enumerate(train_iter), total=num_batches, leave = True):\n",
    "        X, valid_len, y = [v.to(device) for v in data]\n",
    "        l = loss(net(X, valid_len), y)\n",
    "        trainer.zero_grad()\n",
    "        l.sum().backward()\n",
    "        trainer.step()\n",
    "        # metric.add(l.sum(), d2l.accuracy(net(X, valid_len), y), labels.shape[0])\n",
    "        train_loss += l.sum().cpu().detach().numpy() / batch_size\n",
    "        train_acc += d2l.accuracy(net(X, valid_len), y) / batch_size\n",
    "    epochloss, epochtrain, epochtest = train_loss / num_batches, train_acc / num_batches, evaluate_accuracy_gpu(net, test_iter)\n",
    "    end_time = time.perf_counter()\n",
    "    print(f'epoch {epoch + 1}, loss {epochloss:.3f}, train_acc {epochtrain:.3f}, '\n",
    "         f'test_acc {epochtest:.3f}, taking {round(end_time - start_time)} seconds')\n",
    "    losses.append(epochloss)\n",
    "    train_accuracy.append(epochtrain)\n",
    "    test_accuracy.append(epochtest)\n",
    "total_timecost = round(time.time() - total_start)\n",
    "print('Training is finished.')\n",
    "print(f'训练损失:{losses[-1]:.3f}, 训练集准确率:{train_accuracy[-1]:.3f}, '\n",
    "      f'测试集准确率:{test_accuracy[-1]:.3f} '\n",
    "     f'在设备{device}上训练{num_epochs}周期 耗时{total_timecost} s')"
   ]
  },
  {
   "cell_type": "code",
   "execution_count": 28,
   "id": "d26f4bb4-8e0f-4a16-ba04-b820826ac371",
   "metadata": {},
   "outputs": [
    {
     "data": {
      "image/png": "[encoded data removed]",
      "text/plain": [
       "<Figure size 640x480 with 1 Axes>"
      ]
     },
     "metadata": {},
     "output_type": "display_data"
    }
   ],
   "source": [
    "fig = plt.figure()\n",
    "plt.title('train loss and accuracy')\n",
    "epochs = np.arange(1, num_epochs + 1)\n",
    "# losses, train_accuracy, test_accuracy\n",
    "plt.plot(epochs, losses, 'r.-', label='loss')\n",
    "plt.plot(epochs, train_accuracy, 'g-.', label='train_acc')\n",
    "plt.plot(epochs, test_accuracy, 'b-.', label='test_acc')\n",
    "plt.legend(loc='best', frameon=False)\n",
    "plt.show()"
   ]
  },
  {
   "cell_type": "code",
   "execution_count": 58,
   "id": "b0033656-43a6-4f4e-a427-8bc1506460d0",
   "metadata": {},
   "outputs": [
    {
     "name": "stdout",
     "output_type": "stream",
     "text": [
      "5 torch.Size([1, 500]) torch.Size([1])\n",
      "标签为1的概率为0.019，为0的概率为0.981\n"
     ]
    },
    {
     "data": {
      "text/plain": [
       "(0.019334016367793083, 0.9806659817695618)"
      ]
     },
     "execution_count": 58,
     "metadata": {},
     "output_type": "execute_result"
    }
   ],
   "source": [
    "def predict(sentence, net, vocab,):\n",
    "    words = preprocess(sentence)\n",
    "    tokens = ['cls'] + [word for word in words.split(' ') if word not in set(',.?!')]\n",
    "    tensor = torch.tensor(d2l.truncate_pad(vocab[tokens], num_steps, vocab['<pad>'])).reshape(1, -1)\n",
    "    valid_len = (tensor != vocab['<pad>']).sum(1)\n",
    "    print(len(tokens), tensor.shape, valid_len.shape)\n",
    "    # print(tokens, tensor, valid_len)\n",
    "    device = next(iter(net.parameters())).device\n",
    "    tensor, valid_len = tensor.to(device), valid_len.to(device)\n",
    "    label_1, label_0 = nn.functional.softmax(net(tensor, valid_len), dim=-1).cpu().detach().reshape(-1).numpy().tolist()\n",
    "    print(\"标签为1的概率为{:.3f}，为0的概率为{:.3f}\".format(label_1, label_0))\n",
    "    return label_1, label_0\n",
    "\n",
    "sen = 'I like this movie.'\n",
    "predict(sen, net, vocab)"
   ]
  },
  {
   "cell_type": "code",
   "execution_count": 61,
   "id": "e44e9009-c907-4cf9-8f03-4fcc48d61f2a",
   "metadata": {},
   "outputs": [
    {
     "name": "stdout",
     "output_type": "stream",
     "text": [
      "5 torch.Size([1, 500]) torch.Size([1])\n",
      "标签为1的概率为0.011，为0的概率为0.989\n"
     ]
    },
    {
     "data": {
      "text/plain": [
       "(0.011050841771066189, 0.988949179649353)"
      ]
     },
     "execution_count": 61,
     "metadata": {},
     "output_type": "execute_result"
    }
   ],
   "source": [
    "sen = 'I love this movie.'\n",
    "predict(sen, net, vocab)"
   ]
  },
  {
   "cell_type": "markdown",
   "id": "5ecb2df6-53e9-4930-8d3f-2214aa89012e",
   "metadata": {},
   "source": [
    "# 训练2(激活函数Tanh)"
   ]
  },
  {
   "cell_type": "code",
   "execution_count": 18,
   "id": "b7a6f63a-6267-4d77-92f2-ab14a60ff12c",
   "metadata": {},
   "outputs": [
    {
     "name": "stderr",
     "output_type": "stream",
     "text": [
      "100%|██████████| 391/391 [01:54<00:00,  3.42it/s]\n"
     ]
    },
    {
     "name": "stdout",
     "output_type": "stream",
     "text": [
      "epoch 1, loss 0.733, train_acc 0.508, test_acc 0.500, taking 145 seconds\n"
     ]
    },
    {
     "name": "stderr",
     "output_type": "stream",
     "text": [
      "100%|██████████| 391/391 [01:55<00:00,  3.39it/s]\n"
     ]
    },
    {
     "name": "stdout",
     "output_type": "stream",
     "text": [
      "epoch 2, loss 0.630, train_acc 0.623, test_acc 0.763, taking 146 seconds\n"
     ]
    },
    {
     "name": "stderr",
     "output_type": "stream",
     "text": [
      "100%|██████████| 391/391 [01:54<00:00,  3.41it/s]\n"
     ]
    },
    {
     "name": "stdout",
     "output_type": "stream",
     "text": [
      "epoch 3, loss 0.471, train_acc 0.783, test_acc 0.764, taking 146 seconds\n"
     ]
    },
    {
     "name": "stderr",
     "output_type": "stream",
     "text": [
      "100%|██████████| 391/391 [01:53<00:00,  3.43it/s]\n"
     ]
    },
    {
     "name": "stdout",
     "output_type": "stream",
     "text": [
      "epoch 4, loss 0.437, train_acc 0.802, test_acc 0.817, taking 144 seconds\n"
     ]
    },
    {
     "name": "stderr",
     "output_type": "stream",
     "text": [
      "100%|██████████| 391/391 [01:53<00:00,  3.44it/s]\n"
     ]
    },
    {
     "name": "stdout",
     "output_type": "stream",
     "text": [
      "epoch 5, loss 0.399, train_acc 0.827, test_acc 0.845, taking 144 seconds\n"
     ]
    },
    {
     "name": "stderr",
     "output_type": "stream",
     "text": [
      "100%|██████████| 391/391 [01:53<00:00,  3.44it/s]\n"
     ]
    },
    {
     "name": "stdout",
     "output_type": "stream",
     "text": [
      "epoch 6, loss 0.391, train_acc 0.830, test_acc 0.845, taking 144 seconds\n"
     ]
    },
    {
     "name": "stderr",
     "output_type": "stream",
     "text": [
      "100%|██████████| 391/391 [01:54<00:00,  3.42it/s]\n"
     ]
    },
    {
     "name": "stdout",
     "output_type": "stream",
     "text": [
      "epoch 7, loss 0.372, train_acc 0.839, test_acc 0.842, taking 146 seconds\n"
     ]
    },
    {
     "name": "stderr",
     "output_type": "stream",
     "text": [
      "100%|██████████| 391/391 [01:54<00:00,  3.41it/s]\n"
     ]
    },
    {
     "name": "stdout",
     "output_type": "stream",
     "text": [
      "epoch 8, loss 0.359, train_acc 0.849, test_acc 0.851, taking 144 seconds\n"
     ]
    },
    {
     "name": "stderr",
     "output_type": "stream",
     "text": [
      "100%|██████████| 391/391 [01:54<00:00,  3.43it/s]\n"
     ]
    },
    {
     "name": "stdout",
     "output_type": "stream",
     "text": [
      "epoch 9, loss 0.354, train_acc 0.852, test_acc 0.837, taking 145 seconds\n"
     ]
    },
    {
     "name": "stderr",
     "output_type": "stream",
     "text": [
      "100%|██████████| 391/391 [01:53<00:00,  3.44it/s]\n"
     ]
    },
    {
     "name": "stdout",
     "output_type": "stream",
     "text": [
      "epoch 10, loss 0.339, train_acc 0.857, test_acc 0.840, taking 144 seconds\n"
     ]
    },
    {
     "name": "stderr",
     "output_type": "stream",
     "text": [
      "100%|██████████| 391/391 [01:53<00:00,  3.44it/s]\n"
     ]
    },
    {
     "name": "stdout",
     "output_type": "stream",
     "text": [
      "epoch 11, loss 0.337, train_acc 0.858, test_acc 0.853, taking 144 seconds\n"
     ]
    },
    {
     "name": "stderr",
     "output_type": "stream",
     "text": [
      "100%|██████████| 391/391 [01:54<00:00,  3.42it/s]\n"
     ]
    },
    {
     "name": "stdout",
     "output_type": "stream",
     "text": [
      "epoch 12, loss 0.325, train_acc 0.863, test_acc 0.854, taking 146 seconds\n"
     ]
    },
    {
     "name": "stderr",
     "output_type": "stream",
     "text": [
      "100%|██████████| 391/391 [01:55<00:00,  3.38it/s]\n"
     ]
    },
    {
     "name": "stdout",
     "output_type": "stream",
     "text": [
      "epoch 13, loss 0.319, train_acc 0.867, test_acc 0.847, taking 146 seconds\n"
     ]
    },
    {
     "name": "stderr",
     "output_type": "stream",
     "text": [
      "100%|██████████| 391/391 [01:55<00:00,  3.40it/s]\n"
     ]
    },
    {
     "name": "stdout",
     "output_type": "stream",
     "text": [
      "epoch 14, loss 0.308, train_acc 0.875, test_acc 0.861, taking 145 seconds\n"
     ]
    },
    {
     "name": "stderr",
     "output_type": "stream",
     "text": [
      "100%|██████████| 391/391 [01:54<00:00,  3.42it/s]\n"
     ]
    },
    {
     "name": "stdout",
     "output_type": "stream",
     "text": [
      "epoch 15, loss 0.286, train_acc 0.886, test_acc 0.866, taking 145 seconds\n"
     ]
    },
    {
     "name": "stderr",
     "output_type": "stream",
     "text": [
      "100%|██████████| 391/391 [01:54<00:00,  3.40it/s]\n"
     ]
    },
    {
     "name": "stdout",
     "output_type": "stream",
     "text": [
      "epoch 16, loss 0.276, train_acc 0.890, test_acc 0.864, taking 146 seconds\n"
     ]
    },
    {
     "name": "stderr",
     "output_type": "stream",
     "text": [
      "100%|██████████| 391/391 [01:55<00:00,  3.39it/s]\n"
     ]
    },
    {
     "name": "stdout",
     "output_type": "stream",
     "text": [
      "epoch 17, loss 0.262, train_acc 0.895, test_acc 0.856, taking 146 seconds\n"
     ]
    },
    {
     "name": "stderr",
     "output_type": "stream",
     "text": [
      "100%|██████████| 391/391 [01:55<00:00,  3.38it/s]\n"
     ]
    },
    {
     "name": "stdout",
     "output_type": "stream",
     "text": [
      "epoch 18, loss 0.256, train_acc 0.902, test_acc 0.859, taking 146 seconds\n"
     ]
    },
    {
     "name": "stderr",
     "output_type": "stream",
     "text": [
      "100%|██████████| 391/391 [01:54<00:00,  3.40it/s]\n"
     ]
    },
    {
     "name": "stdout",
     "output_type": "stream",
     "text": [
      "epoch 19, loss 0.237, train_acc 0.907, test_acc 0.860, taking 146 seconds\n"
     ]
    },
    {
     "name": "stderr",
     "output_type": "stream",
     "text": [
      "100%|██████████| 391/391 [01:54<00:00,  3.41it/s]\n"
     ]
    },
    {
     "name": "stdout",
     "output_type": "stream",
     "text": [
      "epoch 20, loss 0.232, train_acc 0.911, test_acc 0.850, taking 146 seconds\n"
     ]
    },
    {
     "name": "stderr",
     "output_type": "stream",
     "text": [
      "100%|██████████| 391/391 [01:54<00:00,  3.41it/s]\n"
     ]
    },
    {
     "name": "stdout",
     "output_type": "stream",
     "text": [
      "epoch 21, loss 0.214, train_acc 0.919, test_acc 0.839, taking 145 seconds\n"
     ]
    },
    {
     "name": "stderr",
     "output_type": "stream",
     "text": [
      "100%|██████████| 391/391 [01:54<00:00,  3.42it/s]\n"
     ]
    },
    {
     "name": "stdout",
     "output_type": "stream",
     "text": [
      "epoch 22, loss 0.205, train_acc 0.920, test_acc 0.850, taking 144 seconds\n"
     ]
    },
    {
     "name": "stderr",
     "output_type": "stream",
     "text": [
      "100%|██████████| 391/391 [01:54<00:00,  3.43it/s]\n"
     ]
    },
    {
     "name": "stdout",
     "output_type": "stream",
     "text": [
      "epoch 23, loss 0.189, train_acc 0.926, test_acc 0.834, taking 144 seconds\n"
     ]
    },
    {
     "name": "stderr",
     "output_type": "stream",
     "text": [
      "100%|██████████| 391/391 [01:52<00:00,  3.47it/s]\n"
     ]
    },
    {
     "name": "stdout",
     "output_type": "stream",
     "text": [
      "epoch 24, loss 0.190, train_acc 0.927, test_acc 0.852, taking 143 seconds\n"
     ]
    },
    {
     "name": "stderr",
     "output_type": "stream",
     "text": [
      "100%|██████████| 391/391 [01:53<00:00,  3.44it/s]\n"
     ]
    },
    {
     "name": "stdout",
     "output_type": "stream",
     "text": [
      "epoch 25, loss 0.183, train_acc 0.932, test_acc 0.836, taking 144 seconds\n"
     ]
    },
    {
     "name": "stderr",
     "output_type": "stream",
     "text": [
      "100%|██████████| 391/391 [01:53<00:00,  3.46it/s]\n"
     ]
    },
    {
     "name": "stdout",
     "output_type": "stream",
     "text": [
      "epoch 26, loss 0.175, train_acc 0.935, test_acc 0.844, taking 144 seconds\n"
     ]
    },
    {
     "name": "stderr",
     "output_type": "stream",
     "text": [
      "100%|██████████| 391/391 [01:53<00:00,  3.44it/s]\n"
     ]
    },
    {
     "name": "stdout",
     "output_type": "stream",
     "text": [
      "epoch 27, loss 0.167, train_acc 0.939, test_acc 0.825, taking 144 seconds\n"
     ]
    },
    {
     "name": "stderr",
     "output_type": "stream",
     "text": [
      "100%|██████████| 391/391 [01:53<00:00,  3.44it/s]\n"
     ]
    },
    {
     "name": "stdout",
     "output_type": "stream",
     "text": [
      "epoch 28, loss 0.158, train_acc 0.938, test_acc 0.827, taking 142 seconds\n"
     ]
    },
    {
     "name": "stderr",
     "output_type": "stream",
     "text": [
      "100%|██████████| 391/391 [01:52<00:00,  3.49it/s]\n"
     ]
    },
    {
     "name": "stdout",
     "output_type": "stream",
     "text": [
      "epoch 29, loss 0.150, train_acc 0.946, test_acc 0.823, taking 141 seconds\n"
     ]
    },
    {
     "name": "stderr",
     "output_type": "stream",
     "text": [
      "100%|██████████| 391/391 [01:53<00:00,  3.46it/s]\n"
     ]
    },
    {
     "name": "stdout",
     "output_type": "stream",
     "text": [
      "epoch 30, loss 0.143, train_acc 0.947, test_acc 0.825, taking 142 seconds\n"
     ]
    },
    {
     "name": "stderr",
     "output_type": "stream",
     "text": [
      "100%|██████████| 391/391 [01:52<00:00,  3.46it/s]\n"
     ]
    },
    {
     "name": "stdout",
     "output_type": "stream",
     "text": [
      "epoch 31, loss 0.131, train_acc 0.953, test_acc 0.825, taking 142 seconds\n"
     ]
    },
    {
     "name": "stderr",
     "output_type": "stream",
     "text": [
      "100%|██████████| 391/391 [01:52<00:00,  3.48it/s]\n"
     ]
    },
    {
     "name": "stdout",
     "output_type": "stream",
     "text": [
      "epoch 32, loss 0.131, train_acc 0.951, test_acc 0.845, taking 140 seconds\n"
     ]
    },
    {
     "name": "stderr",
     "output_type": "stream",
     "text": [
      "100%|██████████| 391/391 [01:52<00:00,  3.46it/s]\n"
     ]
    },
    {
     "name": "stdout",
     "output_type": "stream",
     "text": [
      "epoch 33, loss 0.126, train_acc 0.952, test_acc 0.836, taking 141 seconds\n"
     ]
    },
    {
     "name": "stderr",
     "output_type": "stream",
     "text": [
      "100%|██████████| 391/391 [01:52<00:00,  3.48it/s]\n"
     ]
    },
    {
     "name": "stdout",
     "output_type": "stream",
     "text": [
      "epoch 34, loss 0.130, train_acc 0.953, test_acc 0.831, taking 141 seconds\n"
     ]
    },
    {
     "name": "stderr",
     "output_type": "stream",
     "text": [
      "100%|██████████| 391/391 [01:52<00:00,  3.47it/s]\n"
     ]
    },
    {
     "name": "stdout",
     "output_type": "stream",
     "text": [
      "epoch 35, loss 0.127, train_acc 0.953, test_acc 0.835, taking 141 seconds\n"
     ]
    },
    {
     "name": "stderr",
     "output_type": "stream",
     "text": [
      "100%|██████████| 391/391 [01:53<00:00,  3.46it/s]\n"
     ]
    },
    {
     "name": "stdout",
     "output_type": "stream",
     "text": [
      "epoch 36, loss 0.118, train_acc 0.954, test_acc 0.813, taking 141 seconds\n"
     ]
    },
    {
     "name": "stderr",
     "output_type": "stream",
     "text": [
      "100%|██████████| 391/391 [01:52<00:00,  3.47it/s]\n"
     ]
    },
    {
     "name": "stdout",
     "output_type": "stream",
     "text": [
      "epoch 37, loss 0.113, train_acc 0.960, test_acc 0.834, taking 142 seconds\n"
     ]
    },
    {
     "name": "stderr",
     "output_type": "stream",
     "text": [
      "100%|██████████| 391/391 [01:52<00:00,  3.48it/s]\n"
     ]
    },
    {
     "name": "stdout",
     "output_type": "stream",
     "text": [
      "epoch 38, loss 0.112, train_acc 0.959, test_acc 0.825, taking 141 seconds\n"
     ]
    },
    {
     "name": "stderr",
     "output_type": "stream",
     "text": [
      "100%|██████████| 391/391 [01:53<00:00,  3.45it/s]\n"
     ]
    },
    {
     "name": "stdout",
     "output_type": "stream",
     "text": [
      "epoch 39, loss 0.103, train_acc 0.962, test_acc 0.815, taking 143 seconds\n"
     ]
    },
    {
     "name": "stderr",
     "output_type": "stream",
     "text": [
      "100%|██████████| 391/391 [01:52<00:00,  3.46it/s]\n"
     ]
    },
    {
     "name": "stdout",
     "output_type": "stream",
     "text": [
      "epoch 40, loss 0.104, train_acc 0.962, test_acc 0.820, taking 141 seconds\n"
     ]
    },
    {
     "name": "stderr",
     "output_type": "stream",
     "text": [
      "100%|██████████| 391/391 [01:52<00:00,  3.48it/s]\n"
     ]
    },
    {
     "name": "stdout",
     "output_type": "stream",
     "text": [
      "epoch 41, loss 0.097, train_acc 0.966, test_acc 0.818, taking 141 seconds\n"
     ]
    },
    {
     "name": "stderr",
     "output_type": "stream",
     "text": [
      "100%|██████████| 391/391 [01:51<00:00,  3.49it/s]\n"
     ]
    },
    {
     "name": "stdout",
     "output_type": "stream",
     "text": [
      "epoch 42, loss 0.100, train_acc 0.962, test_acc 0.791, taking 140 seconds\n"
     ]
    },
    {
     "name": "stderr",
     "output_type": "stream",
     "text": [
      "100%|██████████| 391/391 [01:51<00:00,  3.50it/s]\n"
     ]
    },
    {
     "name": "stdout",
     "output_type": "stream",
     "text": [
      "epoch 43, loss 0.095, train_acc 0.965, test_acc 0.810, taking 141 seconds\n"
     ]
    },
    {
     "name": "stderr",
     "output_type": "stream",
     "text": [
      "100%|██████████| 391/391 [01:52<00:00,  3.48it/s]\n"
     ]
    },
    {
     "name": "stdout",
     "output_type": "stream",
     "text": [
      "epoch 44, loss 0.091, train_acc 0.968, test_acc 0.823, taking 142 seconds\n"
     ]
    },
    {
     "name": "stderr",
     "output_type": "stream",
     "text": [
      "100%|██████████| 391/391 [01:52<00:00,  3.47it/s]\n"
     ]
    },
    {
     "name": "stdout",
     "output_type": "stream",
     "text": [
      "epoch 45, loss 0.091, train_acc 0.967, test_acc 0.826, taking 142 seconds\n"
     ]
    },
    {
     "name": "stderr",
     "output_type": "stream",
     "text": [
      "100%|██████████| 391/391 [01:51<00:00,  3.51it/s]\n"
     ]
    },
    {
     "name": "stdout",
     "output_type": "stream",
     "text": [
      "epoch 46, loss 0.085, train_acc 0.970, test_acc 0.820, taking 140 seconds\n"
     ]
    },
    {
     "name": "stderr",
     "output_type": "stream",
     "text": [
      "100%|██████████| 391/391 [01:51<00:00,  3.49it/s]\n"
     ]
    },
    {
     "name": "stdout",
     "output_type": "stream",
     "text": [
      "epoch 47, loss 0.079, train_acc 0.972, test_acc 0.819, taking 140 seconds\n"
     ]
    },
    {
     "name": "stderr",
     "output_type": "stream",
     "text": [
      "100%|██████████| 391/391 [01:52<00:00,  3.47it/s]\n"
     ]
    },
    {
     "name": "stdout",
     "output_type": "stream",
     "text": [
      "epoch 48, loss 0.081, train_acc 0.972, test_acc 0.821, taking 142 seconds\n"
     ]
    },
    {
     "name": "stderr",
     "output_type": "stream",
     "text": [
      "100%|██████████| 391/391 [01:52<00:00,  3.48it/s]\n"
     ]
    },
    {
     "name": "stdout",
     "output_type": "stream",
     "text": [
      "epoch 49, loss 0.083, train_acc 0.968, test_acc 0.818, taking 141 seconds\n"
     ]
    },
    {
     "name": "stderr",
     "output_type": "stream",
     "text": [
      "100%|██████████| 391/391 [01:51<00:00,  3.49it/s]\n"
     ]
    },
    {
     "name": "stdout",
     "output_type": "stream",
     "text": [
      "epoch 50, loss 0.078, train_acc 0.970, test_acc 0.807, taking 141 seconds\n"
     ]
    },
    {
     "name": "stderr",
     "output_type": "stream",
     "text": [
      "100%|██████████| 391/391 [01:52<00:00,  3.48it/s]\n"
     ]
    },
    {
     "name": "stdout",
     "output_type": "stream",
     "text": [
      "epoch 51, loss 0.073, train_acc 0.974, test_acc 0.831, taking 141 seconds\n"
     ]
    },
    {
     "name": "stderr",
     "output_type": "stream",
     "text": [
      "100%|██████████| 391/391 [01:52<00:00,  3.49it/s]\n"
     ]
    },
    {
     "name": "stdout",
     "output_type": "stream",
     "text": [
      "epoch 52, loss 0.068, train_acc 0.975, test_acc 0.830, taking 140 seconds\n"
     ]
    },
    {
     "name": "stderr",
     "output_type": "stream",
     "text": [
      "100%|██████████| 391/391 [01:54<00:00,  3.42it/s]\n"
     ]
    },
    {
     "name": "stdout",
     "output_type": "stream",
     "text": [
      "epoch 53, loss 0.071, train_acc 0.974, test_acc 0.818, taking 143 seconds\n"
     ]
    },
    {
     "name": "stderr",
     "output_type": "stream",
     "text": [
      "100%|██████████| 391/391 [01:50<00:00,  3.53it/s]\n"
     ]
    },
    {
     "name": "stdout",
     "output_type": "stream",
     "text": [
      "epoch 54, loss 0.063, train_acc 0.977, test_acc 0.837, taking 139 seconds\n"
     ]
    },
    {
     "name": "stderr",
     "output_type": "stream",
     "text": [
      "100%|██████████| 391/391 [01:50<00:00,  3.54it/s]\n"
     ]
    },
    {
     "name": "stdout",
     "output_type": "stream",
     "text": [
      "epoch 55, loss 0.064, train_acc 0.978, test_acc 0.821, taking 139 seconds\n"
     ]
    },
    {
     "name": "stderr",
     "output_type": "stream",
     "text": [
      "100%|██████████| 391/391 [01:49<00:00,  3.56it/s]\n"
     ]
    },
    {
     "name": "stdout",
     "output_type": "stream",
     "text": [
      "epoch 56, loss 0.065, train_acc 0.976, test_acc 0.810, taking 138 seconds\n"
     ]
    },
    {
     "name": "stderr",
     "output_type": "stream",
     "text": [
      "100%|██████████| 391/391 [01:50<00:00,  3.55it/s]\n"
     ]
    },
    {
     "name": "stdout",
     "output_type": "stream",
     "text": [
      "epoch 57, loss 0.066, train_acc 0.977, test_acc 0.820, taking 138 seconds\n"
     ]
    },
    {
     "name": "stderr",
     "output_type": "stream",
     "text": [
      "100%|██████████| 391/391 [01:49<00:00,  3.57it/s]\n"
     ]
    },
    {
     "name": "stdout",
     "output_type": "stream",
     "text": [
      "epoch 58, loss 0.058, train_acc 0.978, test_acc 0.806, taking 137 seconds\n"
     ]
    },
    {
     "name": "stderr",
     "output_type": "stream",
     "text": [
      "100%|██████████| 391/391 [01:49<00:00,  3.57it/s]\n"
     ]
    },
    {
     "name": "stdout",
     "output_type": "stream",
     "text": [
      "epoch 59, loss 0.058, train_acc 0.978, test_acc 0.824, taking 138 seconds\n"
     ]
    },
    {
     "name": "stderr",
     "output_type": "stream",
     "text": [
      "100%|██████████| 391/391 [01:50<00:00,  3.55it/s]\n"
     ]
    },
    {
     "name": "stdout",
     "output_type": "stream",
     "text": [
      "epoch 60, loss 0.058, train_acc 0.978, test_acc 0.814, taking 139 seconds\n",
      "Training is finished.\n",
      "训练损失:0.058, 训练集准确率:0.978, 测试集准确率:0.814 在设备cuda:0上训练60周期 耗时8556 s\n"
     ]
    }
   ],
   "source": [
    "# 以‘微调’的模式进行训练\n",
    "# activation function: nn.Tanh()\n",
    "# 24,492,514 total parameters.\n",
    "loss = nn.CrossEntropyLoss(reduction='none')\n",
    "forward_params = [\n",
    "    param for name, param in net.named_parameters()\n",
    "    if name != \"embedding.weight\"]\n",
    "trainer = torch.optim.Adam(\n",
    "    [{'params': net.embedding.parameters()},\n",
    "    {'params': forward_params,\n",
    "    'lr': lr * 10}], lr=lr)\n",
    "# animator = d2l.Animator(xlabel='epoch', xlim=[1, num_epochs], ylim=[0, 1],\n",
    "#         legend=['train loss', 'train acc'])\n",
    "net.to(device)\n",
    "\n",
    "num_batches = len(train_iter)\n",
    "losses, train_accuracy, test_accuracy = [], [], []\n",
    "total_start = time.time()\n",
    "for epoch in range(num_epochs):\n",
    "    # metric = d2l.Accumulator(4)\n",
    "    train_loss, train_acc = 0, 0\n",
    "    start_time = time.perf_counter()\n",
    "    net.train()\n",
    "    for index, data in tqdm(enumerate(train_iter), total=num_batches, leave = True):\n",
    "        X, valid_len, y = [v.to(device) for v in data]\n",
    "        l = loss(net(X, valid_len), y)\n",
    "        trainer.zero_grad()\n",
    "        l.sum().backward()\n",
    "        trainer.step()\n",
    "        # metric.add(l.sum(), d2l.accuracy(net(X, valid_len), y), labels.shape[0])\n",
    "        train_loss += l.sum().cpu().detach().numpy() / batch_size\n",
    "        train_acc += d2l.accuracy(net(X, valid_len), y) / batch_size\n",
    "    epochloss, epochtrain, epochtest = train_loss / num_batches, train_acc / num_batches, evaluate_accuracy_gpu(net, test_iter)\n",
    "    end_time = time.perf_counter()\n",
    "    print(f'epoch {epoch + 1}, loss {epochloss:.3f}, train_acc {epochtrain:.3f}, '\n",
    "         f'test_acc {epochtest:.3f}, taking {round(end_time - start_time)} seconds')\n",
    "    losses.append(epochloss)\n",
    "    train_accuracy.append(epochtrain)\n",
    "    test_accuracy.append(epochtest)\n",
    "total_timecost = round(time.time() - total_start)\n",
    "print('Training is finished.')\n",
    "print(f'训练损失:{losses[-1]:.3f}, 训练集准确率:{train_accuracy[-1]:.3f}, '\n",
    "      f'测试集准确率:{test_accuracy[-1]:.3f} '\n",
    "     f'在设备{device}上训练{num_epochs}周期 耗时{total_timecost} s')"
   ]
  },
  {
   "cell_type": "code",
   "execution_count": 19,
   "id": "025fde85-e942-4ac9-9a71-43a146d11aa2",
   "metadata": {},
   "outputs": [
    {
     "data": {
      "image/png": "[encoded data removed]",
      "text/plain": [
       "<Figure size 640x480 with 1 Axes>"
      ]
     },
     "metadata": {},
     "output_type": "display_data"
    }
   ],
   "source": [
    "fig = plt.figure()\n",
    "plt.title('train loss and accuracy')\n",
    "epochs = np.arange(1, num_epochs + 1)\n",
    "# losses, train_accuracy, test_accuracy\n",
    "plt.plot(epochs, losses, 'r.-', label='loss')\n",
    "plt.plot(epochs, train_accuracy, 'g-.', label='train_acc')\n",
    "plt.plot(epochs, test_accuracy, 'b-.', label='test_acc')\n",
    "plt.grid()\n",
    "plt.legend(loc='best', frameon=False)\n",
    "plt.show()"
   ]
  },
  {
   "cell_type": "code",
   "execution_count": 21,
   "id": "0f787763-3312-4075-8229-2d82b4eb165b",
   "metadata": {},
   "outputs": [],
   "source": [
    "torch.save(net.state_dict(), file_path + \"tanhmodel.pkl\")"
   ]
  },
  {
   "cell_type": "markdown",
   "id": "aeff9ce5-d7ba-4a5b-9f6b-ba8f2a9235ea",
   "metadata": {},
   "source": [
    "# 训练3(激活函数Sigmoid)"
   ]
  },
  {
   "cell_type": "code",
   "execution_count": 17,
   "id": "c264d01e-dc58-4113-90de-ae8b51e43cd3",
   "metadata": {},
   "outputs": [
    {
     "name": "stderr",
     "output_type": "stream",
     "text": [
      "100%|██████████| 391/391 [01:49<00:00,  3.58it/s]\n"
     ]
    },
    {
     "name": "stdout",
     "output_type": "stream",
     "text": [
      "epoch 1, loss 0.705, train_acc 0.535, test_acc 0.640, taking 137 seconds\n"
     ]
    },
    {
     "name": "stderr",
     "output_type": "stream",
     "text": [
      "100%|██████████| 391/391 [01:49<00:00,  3.56it/s]\n"
     ]
    },
    {
     "name": "stdout",
     "output_type": "stream",
     "text": [
      "epoch 2, loss 0.605, train_acc 0.688, test_acc 0.747, taking 138 seconds\n"
     ]
    },
    {
     "name": "stderr",
     "output_type": "stream",
     "text": [
      "100%|██████████| 391/391 [01:49<00:00,  3.58it/s]\n"
     ]
    },
    {
     "name": "stdout",
     "output_type": "stream",
     "text": [
      "epoch 3, loss 0.509, train_acc 0.761, test_acc 0.806, taking 138 seconds\n"
     ]
    },
    {
     "name": "stderr",
     "output_type": "stream",
     "text": [
      "100%|██████████| 391/391 [01:48<00:00,  3.60it/s]\n"
     ]
    },
    {
     "name": "stdout",
     "output_type": "stream",
     "text": [
      "epoch 4, loss 0.439, train_acc 0.803, test_acc 0.833, taking 136 seconds\n"
     ]
    },
    {
     "name": "stderr",
     "output_type": "stream",
     "text": [
      "100%|██████████| 391/391 [01:49<00:00,  3.57it/s]\n"
     ]
    },
    {
     "name": "stdout",
     "output_type": "stream",
     "text": [
      "epoch 5, loss 0.397, train_acc 0.829, test_acc 0.832, taking 138 seconds\n"
     ]
    },
    {
     "name": "stderr",
     "output_type": "stream",
     "text": [
      "100%|██████████| 391/391 [01:50<00:00,  3.55it/s]\n"
     ]
    },
    {
     "name": "stdout",
     "output_type": "stream",
     "text": [
      "epoch 6, loss 0.367, train_acc 0.841, test_acc 0.850, taking 138 seconds\n"
     ]
    },
    {
     "name": "stderr",
     "output_type": "stream",
     "text": [
      "100%|██████████| 391/391 [01:50<00:00,  3.53it/s]\n"
     ]
    },
    {
     "name": "stdout",
     "output_type": "stream",
     "text": [
      "epoch 7, loss 0.358, train_acc 0.848, test_acc 0.851, taking 139 seconds\n"
     ]
    },
    {
     "name": "stderr",
     "output_type": "stream",
     "text": [
      "100%|██████████| 391/391 [01:49<00:00,  3.57it/s]\n"
     ]
    },
    {
     "name": "stdout",
     "output_type": "stream",
     "text": [
      "epoch 8, loss 0.336, train_acc 0.860, test_acc 0.858, taking 138 seconds\n"
     ]
    },
    {
     "name": "stderr",
     "output_type": "stream",
     "text": [
      "100%|██████████| 391/391 [01:49<00:00,  3.58it/s]\n"
     ]
    },
    {
     "name": "stdout",
     "output_type": "stream",
     "text": [
      "epoch 9, loss 0.326, train_acc 0.864, test_acc 0.863, taking 137 seconds\n"
     ]
    },
    {
     "name": "stderr",
     "output_type": "stream",
     "text": [
      "100%|██████████| 391/391 [01:49<00:00,  3.56it/s]\n"
     ]
    },
    {
     "name": "stdout",
     "output_type": "stream",
     "text": [
      "epoch 10, loss 0.314, train_acc 0.870, test_acc 0.837, taking 139 seconds\n"
     ]
    },
    {
     "name": "stderr",
     "output_type": "stream",
     "text": [
      "100%|██████████| 391/391 [01:49<00:00,  3.57it/s]\n"
     ]
    },
    {
     "name": "stdout",
     "output_type": "stream",
     "text": [
      "epoch 11, loss 0.298, train_acc 0.877, test_acc 0.856, taking 137 seconds\n"
     ]
    },
    {
     "name": "stderr",
     "output_type": "stream",
     "text": [
      "100%|██████████| 391/391 [01:50<00:00,  3.55it/s]\n"
     ]
    },
    {
     "name": "stdout",
     "output_type": "stream",
     "text": [
      "epoch 12, loss 0.289, train_acc 0.882, test_acc 0.841, taking 138 seconds\n"
     ]
    },
    {
     "name": "stderr",
     "output_type": "stream",
     "text": [
      "100%|██████████| 391/391 [01:49<00:00,  3.56it/s]\n"
     ]
    },
    {
     "name": "stdout",
     "output_type": "stream",
     "text": [
      "epoch 13, loss 0.275, train_acc 0.889, test_acc 0.840, taking 138 seconds\n"
     ]
    },
    {
     "name": "stderr",
     "output_type": "stream",
     "text": [
      "100%|██████████| 391/391 [01:50<00:00,  3.54it/s]\n"
     ]
    },
    {
     "name": "stdout",
     "output_type": "stream",
     "text": [
      "epoch 14, loss 0.263, train_acc 0.893, test_acc 0.869, taking 139 seconds\n"
     ]
    },
    {
     "name": "stderr",
     "output_type": "stream",
     "text": [
      "100%|██████████| 391/391 [01:50<00:00,  3.54it/s]\n"
     ]
    },
    {
     "name": "stdout",
     "output_type": "stream",
     "text": [
      "epoch 15, loss 0.256, train_acc 0.899, test_acc 0.860, taking 139 seconds\n"
     ]
    },
    {
     "name": "stderr",
     "output_type": "stream",
     "text": [
      "100%|██████████| 391/391 [01:49<00:00,  3.57it/s]\n"
     ]
    },
    {
     "name": "stdout",
     "output_type": "stream",
     "text": [
      "epoch 16, loss 0.244, train_acc 0.905, test_acc 0.869, taking 138 seconds\n"
     ]
    },
    {
     "name": "stderr",
     "output_type": "stream",
     "text": [
      "100%|██████████| 391/391 [01:50<00:00,  3.55it/s]\n"
     ]
    },
    {
     "name": "stdout",
     "output_type": "stream",
     "text": [
      "epoch 17, loss 0.233, train_acc 0.910, test_acc 0.862, taking 138 seconds\n"
     ]
    },
    {
     "name": "stderr",
     "output_type": "stream",
     "text": [
      "100%|██████████| 391/391 [01:51<00:00,  3.52it/s]\n"
     ]
    },
    {
     "name": "stdout",
     "output_type": "stream",
     "text": [
      "epoch 18, loss 0.220, train_acc 0.913, test_acc 0.856, taking 140 seconds\n"
     ]
    },
    {
     "name": "stderr",
     "output_type": "stream",
     "text": [
      "100%|██████████| 391/391 [01:51<00:00,  3.50it/s]\n"
     ]
    },
    {
     "name": "stdout",
     "output_type": "stream",
     "text": [
      "epoch 19, loss 0.212, train_acc 0.919, test_acc 0.822, taking 140 seconds\n"
     ]
    },
    {
     "name": "stderr",
     "output_type": "stream",
     "text": [
      "100%|██████████| 391/391 [01:51<00:00,  3.52it/s]\n"
     ]
    },
    {
     "name": "stdout",
     "output_type": "stream",
     "text": [
      "epoch 20, loss 0.195, train_acc 0.925, test_acc 0.866, taking 140 seconds\n"
     ]
    },
    {
     "name": "stderr",
     "output_type": "stream",
     "text": [
      "100%|██████████| 391/391 [01:50<00:00,  3.55it/s]\n"
     ]
    },
    {
     "name": "stdout",
     "output_type": "stream",
     "text": [
      "epoch 21, loss 0.185, train_acc 0.932, test_acc 0.858, taking 138 seconds\n"
     ]
    },
    {
     "name": "stderr",
     "output_type": "stream",
     "text": [
      "100%|██████████| 391/391 [01:50<00:00,  3.53it/s]\n"
     ]
    },
    {
     "name": "stdout",
     "output_type": "stream",
     "text": [
      "epoch 22, loss 0.172, train_acc 0.934, test_acc 0.854, taking 139 seconds\n"
     ]
    },
    {
     "name": "stderr",
     "output_type": "stream",
     "text": [
      "100%|██████████| 391/391 [01:50<00:00,  3.55it/s]\n"
     ]
    },
    {
     "name": "stdout",
     "output_type": "stream",
     "text": [
      "epoch 23, loss 0.162, train_acc 0.942, test_acc 0.861, taking 139 seconds\n"
     ]
    },
    {
     "name": "stderr",
     "output_type": "stream",
     "text": [
      "100%|██████████| 391/391 [01:48<00:00,  3.59it/s]\n"
     ]
    },
    {
     "name": "stdout",
     "output_type": "stream",
     "text": [
      "epoch 24, loss 0.158, train_acc 0.943, test_acc 0.851, taking 138 seconds\n"
     ]
    },
    {
     "name": "stderr",
     "output_type": "stream",
     "text": [
      "100%|██████████| 391/391 [01:50<00:00,  3.55it/s]\n"
     ]
    },
    {
     "name": "stdout",
     "output_type": "stream",
     "text": [
      "epoch 25, loss 0.157, train_acc 0.942, test_acc 0.839, taking 138 seconds\n"
     ]
    },
    {
     "name": "stderr",
     "output_type": "stream",
     "text": [
      "100%|██████████| 391/391 [01:50<00:00,  3.52it/s]\n"
     ]
    },
    {
     "name": "stdout",
     "output_type": "stream",
     "text": [
      "epoch 26, loss 0.140, train_acc 0.950, test_acc 0.855, taking 139 seconds\n"
     ]
    },
    {
     "name": "stderr",
     "output_type": "stream",
     "text": [
      "100%|██████████| 391/391 [01:50<00:00,  3.54it/s]\n"
     ]
    },
    {
     "name": "stdout",
     "output_type": "stream",
     "text": [
      "epoch 27, loss 0.132, train_acc 0.951, test_acc 0.850, taking 139 seconds\n"
     ]
    },
    {
     "name": "stderr",
     "output_type": "stream",
     "text": [
      "100%|██████████| 391/391 [01:50<00:00,  3.54it/s]\n"
     ]
    },
    {
     "name": "stdout",
     "output_type": "stream",
     "text": [
      "epoch 28, loss 0.123, train_acc 0.955, test_acc 0.848, taking 138 seconds\n"
     ]
    },
    {
     "name": "stderr",
     "output_type": "stream",
     "text": [
      "100%|██████████| 391/391 [01:50<00:00,  3.54it/s]\n"
     ]
    },
    {
     "name": "stdout",
     "output_type": "stream",
     "text": [
      "epoch 29, loss 0.117, train_acc 0.955, test_acc 0.849, taking 139 seconds\n"
     ]
    },
    {
     "name": "stderr",
     "output_type": "stream",
     "text": [
      "100%|██████████| 391/391 [01:51<00:00,  3.51it/s]\n"
     ]
    },
    {
     "name": "stdout",
     "output_type": "stream",
     "text": [
      "epoch 30, loss 0.113, train_acc 0.959, test_acc 0.849, taking 140 seconds\n"
     ]
    },
    {
     "name": "stderr",
     "output_type": "stream",
     "text": [
      "100%|██████████| 391/391 [01:49<00:00,  3.58it/s]\n"
     ]
    },
    {
     "name": "stdout",
     "output_type": "stream",
     "text": [
      "epoch 31, loss 0.107, train_acc 0.961, test_acc 0.851, taking 137 seconds\n"
     ]
    },
    {
     "name": "stderr",
     "output_type": "stream",
     "text": [
      "100%|██████████| 391/391 [01:48<00:00,  3.60it/s]\n"
     ]
    },
    {
     "name": "stdout",
     "output_type": "stream",
     "text": [
      "epoch 32, loss 0.100, train_acc 0.963, test_acc 0.846, taking 137 seconds\n"
     ]
    },
    {
     "name": "stderr",
     "output_type": "stream",
     "text": [
      "100%|██████████| 391/391 [01:47<00:00,  3.64it/s]\n"
     ]
    },
    {
     "name": "stdout",
     "output_type": "stream",
     "text": [
      "epoch 33, loss 0.096, train_acc 0.965, test_acc 0.849, taking 135 seconds\n"
     ]
    },
    {
     "name": "stderr",
     "output_type": "stream",
     "text": [
      "100%|██████████| 391/391 [01:48<00:00,  3.62it/s]\n"
     ]
    },
    {
     "name": "stdout",
     "output_type": "stream",
     "text": [
      "epoch 34, loss 0.093, train_acc 0.966, test_acc 0.839, taking 136 seconds\n"
     ]
    },
    {
     "name": "stderr",
     "output_type": "stream",
     "text": [
      "100%|██████████| 391/391 [01:46<00:00,  3.67it/s]\n"
     ]
    },
    {
     "name": "stdout",
     "output_type": "stream",
     "text": [
      "epoch 35, loss 0.089, train_acc 0.967, test_acc 0.841, taking 134 seconds\n"
     ]
    },
    {
     "name": "stderr",
     "output_type": "stream",
     "text": [
      "100%|██████████| 391/391 [01:47<00:00,  3.62it/s]\n"
     ]
    },
    {
     "name": "stdout",
     "output_type": "stream",
     "text": [
      "epoch 36, loss 0.087, train_acc 0.968, test_acc 0.834, taking 136 seconds\n"
     ]
    },
    {
     "name": "stderr",
     "output_type": "stream",
     "text": [
      "100%|██████████| 391/391 [01:51<00:00,  3.52it/s]\n"
     ]
    },
    {
     "name": "stdout",
     "output_type": "stream",
     "text": [
      "epoch 37, loss 0.088, train_acc 0.968, test_acc 0.835, taking 139 seconds\n"
     ]
    },
    {
     "name": "stderr",
     "output_type": "stream",
     "text": [
      "100%|██████████| 391/391 [01:51<00:00,  3.51it/s]\n"
     ]
    },
    {
     "name": "stdout",
     "output_type": "stream",
     "text": [
      "epoch 38, loss 0.083, train_acc 0.968, test_acc 0.825, taking 140 seconds\n"
     ]
    },
    {
     "name": "stderr",
     "output_type": "stream",
     "text": [
      "100%|██████████| 391/391 [01:50<00:00,  3.53it/s]\n"
     ]
    },
    {
     "name": "stdout",
     "output_type": "stream",
     "text": [
      "epoch 39, loss 0.083, train_acc 0.970, test_acc 0.846, taking 139 seconds\n"
     ]
    },
    {
     "name": "stderr",
     "output_type": "stream",
     "text": [
      "100%|██████████| 391/391 [01:51<00:00,  3.51it/s]\n"
     ]
    },
    {
     "name": "stdout",
     "output_type": "stream",
     "text": [
      "epoch 40, loss 0.086, train_acc 0.969, test_acc 0.839, taking 140 seconds\n"
     ]
    },
    {
     "name": "stderr",
     "output_type": "stream",
     "text": [
      "100%|██████████| 391/391 [01:50<00:00,  3.54it/s]\n"
     ]
    },
    {
     "name": "stdout",
     "output_type": "stream",
     "text": [
      "epoch 41, loss 0.073, train_acc 0.975, test_acc 0.834, taking 139 seconds\n"
     ]
    },
    {
     "name": "stderr",
     "output_type": "stream",
     "text": [
      "100%|██████████| 391/391 [01:49<00:00,  3.57it/s]\n"
     ]
    },
    {
     "name": "stdout",
     "output_type": "stream",
     "text": [
      "epoch 42, loss 0.076, train_acc 0.974, test_acc 0.843, taking 138 seconds\n"
     ]
    },
    {
     "name": "stderr",
     "output_type": "stream",
     "text": [
      "100%|██████████| 391/391 [01:51<00:00,  3.51it/s]\n"
     ]
    },
    {
     "name": "stdout",
     "output_type": "stream",
     "text": [
      "epoch 43, loss 0.075, train_acc 0.973, test_acc 0.830, taking 140 seconds\n"
     ]
    },
    {
     "name": "stderr",
     "output_type": "stream",
     "text": [
      "100%|██████████| 391/391 [01:51<00:00,  3.49it/s]\n"
     ]
    },
    {
     "name": "stdout",
     "output_type": "stream",
     "text": [
      "epoch 44, loss 0.072, train_acc 0.973, test_acc 0.845, taking 141 seconds\n"
     ]
    },
    {
     "name": "stderr",
     "output_type": "stream",
     "text": [
      "100%|██████████| 391/391 [01:52<00:00,  3.48it/s]\n"
     ]
    },
    {
     "name": "stdout",
     "output_type": "stream",
     "text": [
      "epoch 45, loss 0.066, train_acc 0.975, test_acc 0.816, taking 141 seconds\n"
     ]
    },
    {
     "name": "stderr",
     "output_type": "stream",
     "text": [
      "100%|██████████| 391/391 [01:52<00:00,  3.49it/s]\n"
     ]
    },
    {
     "name": "stdout",
     "output_type": "stream",
     "text": [
      "epoch 46, loss 0.065, train_acc 0.977, test_acc 0.843, taking 141 seconds\n"
     ]
    },
    {
     "name": "stderr",
     "output_type": "stream",
     "text": [
      "100%|██████████| 391/391 [01:52<00:00,  3.47it/s]\n"
     ]
    },
    {
     "name": "stdout",
     "output_type": "stream",
     "text": [
      "epoch 47, loss 0.062, train_acc 0.978, test_acc 0.827, taking 142 seconds\n"
     ]
    },
    {
     "name": "stderr",
     "output_type": "stream",
     "text": [
      "100%|██████████| 391/391 [01:53<00:00,  3.46it/s]\n"
     ]
    },
    {
     "name": "stdout",
     "output_type": "stream",
     "text": [
      "epoch 48, loss 0.061, train_acc 0.979, test_acc 0.835, taking 142 seconds\n"
     ]
    },
    {
     "name": "stderr",
     "output_type": "stream",
     "text": [
      "100%|██████████| 391/391 [01:52<00:00,  3.46it/s]\n"
     ]
    },
    {
     "name": "stdout",
     "output_type": "stream",
     "text": [
      "epoch 49, loss 0.053, train_acc 0.980, test_acc 0.843, taking 141 seconds\n"
     ]
    },
    {
     "name": "stderr",
     "output_type": "stream",
     "text": [
      "100%|██████████| 391/391 [01:49<00:00,  3.57it/s]\n"
     ]
    },
    {
     "name": "stdout",
     "output_type": "stream",
     "text": [
      "epoch 50, loss 0.059, train_acc 0.979, test_acc 0.842, taking 138 seconds\n"
     ]
    },
    {
     "name": "stderr",
     "output_type": "stream",
     "text": [
      "100%|██████████| 391/391 [01:49<00:00,  3.56it/s]\n"
     ]
    },
    {
     "name": "stdout",
     "output_type": "stream",
     "text": [
      "epoch 51, loss 0.048, train_acc 0.982, test_acc 0.835, taking 138 seconds\n"
     ]
    },
    {
     "name": "stderr",
     "output_type": "stream",
     "text": [
      "100%|██████████| 391/391 [01:49<00:00,  3.58it/s]\n"
     ]
    },
    {
     "name": "stdout",
     "output_type": "stream",
     "text": [
      "epoch 52, loss 0.051, train_acc 0.980, test_acc 0.843, taking 137 seconds\n"
     ]
    },
    {
     "name": "stderr",
     "output_type": "stream",
     "text": [
      "100%|██████████| 391/391 [01:48<00:00,  3.59it/s]\n"
     ]
    },
    {
     "name": "stdout",
     "output_type": "stream",
     "text": [
      "epoch 53, loss 0.053, train_acc 0.980, test_acc 0.848, taking 137 seconds\n"
     ]
    },
    {
     "name": "stderr",
     "output_type": "stream",
     "text": [
      "100%|██████████| 391/391 [01:48<00:00,  3.61it/s]\n"
     ]
    },
    {
     "name": "stdout",
     "output_type": "stream",
     "text": [
      "epoch 54, loss 0.055, train_acc 0.981, test_acc 0.836, taking 136 seconds\n"
     ]
    },
    {
     "name": "stderr",
     "output_type": "stream",
     "text": [
      "100%|██████████| 391/391 [01:50<00:00,  3.54it/s]\n"
     ]
    },
    {
     "name": "stdout",
     "output_type": "stream",
     "text": [
      "epoch 55, loss 0.047, train_acc 0.984, test_acc 0.822, taking 139 seconds\n"
     ]
    },
    {
     "name": "stderr",
     "output_type": "stream",
     "text": [
      "100%|██████████| 391/391 [01:50<00:00,  3.55it/s]\n"
     ]
    },
    {
     "name": "stdout",
     "output_type": "stream",
     "text": [
      "epoch 56, loss 0.046, train_acc 0.984, test_acc 0.848, taking 138 seconds\n"
     ]
    },
    {
     "name": "stderr",
     "output_type": "stream",
     "text": [
      "100%|██████████| 391/391 [01:49<00:00,  3.57it/s]\n"
     ]
    },
    {
     "name": "stdout",
     "output_type": "stream",
     "text": [
      "epoch 57, loss 0.048, train_acc 0.982, test_acc 0.819, taking 138 seconds\n"
     ]
    },
    {
     "name": "stderr",
     "output_type": "stream",
     "text": [
      "100%|██████████| 391/391 [01:48<00:00,  3.60it/s]\n"
     ]
    },
    {
     "name": "stdout",
     "output_type": "stream",
     "text": [
      "epoch 58, loss 0.047, train_acc 0.982, test_acc 0.836, taking 137 seconds\n"
     ]
    },
    {
     "name": "stderr",
     "output_type": "stream",
     "text": [
      "100%|██████████| 391/391 [01:49<00:00,  3.58it/s]\n"
     ]
    },
    {
     "name": "stdout",
     "output_type": "stream",
     "text": [
      "epoch 59, loss 0.043, train_acc 0.985, test_acc 0.827, taking 137 seconds\n"
     ]
    },
    {
     "name": "stderr",
     "output_type": "stream",
     "text": [
      "100%|██████████| 391/391 [01:48<00:00,  3.60it/s]\n"
     ]
    },
    {
     "name": "stdout",
     "output_type": "stream",
     "text": [
      "epoch 60, loss 0.045, train_acc 0.985, test_acc 0.821, taking 137 seconds\n",
      "Training is finished.\n",
      "训练损失:0.045, 训练集准确率:0.985, 测试集准确率:0.821 在设备cuda:0上训练60周期 耗时8301 s\n"
     ]
    }
   ],
   "source": [
    "# 以‘微调’的模式进行训练\n",
    "# activation function: nn.Sigmoid()\n",
    "# 24,492,514 total parameters.\n",
    "loss = nn.CrossEntropyLoss(reduction='none')\n",
    "forward_params = [\n",
    "    param for name, param in net.named_parameters()\n",
    "    if name != \"embedding.weight\"]\n",
    "trainer = torch.optim.Adam(\n",
    "    [{'params': net.embedding.parameters()},\n",
    "    {'params': forward_params,\n",
    "    'lr': lr * 10}], lr=lr)\n",
    "# animator = d2l.Animator(xlabel='epoch', xlim=[1, num_epochs], ylim=[0, 1],\n",
    "#         legend=['train loss', 'train acc'])\n",
    "net.to(device)\n",
    "\n",
    "num_batches = len(train_iter)\n",
    "losses, train_accuracy, test_accuracy = [], [], []\n",
    "total_start = time.time()\n",
    "for epoch in range(num_epochs):\n",
    "    # metric = d2l.Accumulator(4)\n",
    "    train_loss, train_acc = 0, 0\n",
    "    start_time = time.perf_counter()\n",
    "    net.train()\n",
    "    for index, data in tqdm(enumerate(train_iter), total=num_batches, leave = True):\n",
    "        X, valid_len, y = [v.to(device) for v in data]\n",
    "        l = loss(net(X, valid_len), y)\n",
    "        trainer.zero_grad()\n",
    "        l.sum().backward()\n",
    "        trainer.step()\n",
    "        # metric.add(l.sum(), d2l.accuracy(net(X, valid_len), y), labels.shape[0])\n",
    "        train_loss += l.sum().cpu().detach().numpy() / batch_size\n",
    "        train_acc += d2l.accuracy(net(X, valid_len), y) / batch_size\n",
    "    epochloss, epochtrain, epochtest = train_loss / num_batches, train_acc / num_batches, evaluate_accuracy_gpu(net, test_iter)\n",
    "    end_time = time.perf_counter()\n",
    "    print(f'epoch {epoch + 1}, loss {epochloss:.3f}, train_acc {epochtrain:.3f}, '\n",
    "         f'test_acc {epochtest:.3f}, taking {round(end_time - start_time)} seconds')\n",
    "    losses.append(epochloss)\n",
    "    train_accuracy.append(epochtrain)\n",
    "    test_accuracy.append(epochtest)\n",
    "total_timecost = round(time.time() - total_start)\n",
    "print('Training is finished.')\n",
    "print(f'训练损失:{losses[-1]:.3f}, 训练集准确率:{train_accuracy[-1]:.3f}, '\n",
    "      f'测试集准确率:{test_accuracy[-1]:.3f} '\n",
    "     f'在设备{device}上训练{num_epochs}周期 耗时{total_timecost} s')"
   ]
  },
  {
   "cell_type": "code",
   "execution_count": 18,
   "id": "35fc288b-e6ff-4f28-9a74-f4f81344cb50",
   "metadata": {},
   "outputs": [
    {
     "data": {
      "image/png": "[encoded data removed]",
      "text/plain": [
       "<Figure size 640x480 with 1 Axes>"
      ]
     },
     "metadata": {},
     "output_type": "display_data"
    }
   ],
   "source": [
    "fig = plt.figure()\n",
    "plt.title('train loss and accuracy')\n",
    "epochs = np.arange(1, num_epochs + 1)\n",
    "# losses, train_accuracy, test_accuracy\n",
    "plt.plot(epochs, losses, 'r.-', label='loss')\n",
    "plt.plot(epochs, train_accuracy, 'g-.', label='train_acc')\n",
    "plt.plot(epochs, test_accuracy, 'b-.', label='test_acc')\n",
    "plt.grid()\n",
    "plt.legend(loc='best', frameon=False)\n",
    "plt.show()"
   ]
  },
  {
   "cell_type": "code",
   "execution_count": 19,
   "id": "1a4b4807-fec9-48aa-8432-60eb62c68d6e",
   "metadata": {},
   "outputs": [],
   "source": [
    "torch.save(net.state_dict(), file_path + \"sigmoidhmodel.pkl\")"
   ]
  },
  {
   "cell_type": "markdown",
   "id": "e87ef7ee-e93a-4627-8a94-7c7411a4ef66",
   "metadata": {},
   "source": [
    "# 训练4(单层编码器)"
   ]
  },
  {
   "cell_type": "code",
   "execution_count": null,
   "id": "fa9cd0d6-2355-48b0-a86e-91152e757db9",
   "metadata": {},
   "outputs": [],
   "source": [
    "from torchsummary import summary\n",
    "summary(net, input_size=[(1, 500), (1,)], batch_size=2, device='cpu')"
   ]
  },
  {
   "cell_type": "code",
   "execution_count": 34,
   "id": "30e302be-5818-49a0-b611-1c0954429a07",
   "metadata": {},
   "outputs": [
    {
     "name": "stderr",
     "output_type": "stream",
     "text": [
      "100%|██████████| 391/391 [01:02<00:00,  6.21it/s]\n"
     ]
    },
    {
     "name": "stdout",
     "output_type": "stream",
     "text": [
      "epoch 1, loss 0.698, train_acc 0.508, test_acc 0.556, taking 79 seconds\n"
     ]
    },
    {
     "name": "stderr",
     "output_type": "stream",
     "text": [
      "100%|██████████| 391/391 [01:01<00:00,  6.40it/s]\n"
     ]
    },
    {
     "name": "stdout",
     "output_type": "stream",
     "text": [
      "epoch 2, loss 0.691, train_acc 0.532, test_acc 0.575, taking 76 seconds\n"
     ]
    },
    {
     "name": "stderr",
     "output_type": "stream",
     "text": [
      "100%|██████████| 391/391 [01:03<00:00,  6.20it/s]\n"
     ]
    },
    {
     "name": "stdout",
     "output_type": "stream",
     "text": [
      "epoch 3, loss 0.669, train_acc 0.580, test_acc 0.623, taking 79 seconds\n"
     ]
    },
    {
     "name": "stderr",
     "output_type": "stream",
     "text": [
      "100%|██████████| 391/391 [01:02<00:00,  6.29it/s]\n"
     ]
    },
    {
     "name": "stdout",
     "output_type": "stream",
     "text": [
      "epoch 4, loss 0.659, train_acc 0.598, test_acc 0.573, taking 79 seconds\n"
     ]
    },
    {
     "name": "stderr",
     "output_type": "stream",
     "text": [
      "100%|██████████| 391/391 [01:02<00:00,  6.25it/s]\n"
     ]
    },
    {
     "name": "stdout",
     "output_type": "stream",
     "text": [
      "epoch 5, loss 0.648, train_acc 0.612, test_acc 0.644, taking 79 seconds\n"
     ]
    },
    {
     "name": "stderr",
     "output_type": "stream",
     "text": [
      "100%|██████████| 391/391 [01:03<00:00,  6.16it/s]\n"
     ]
    },
    {
     "name": "stdout",
     "output_type": "stream",
     "text": [
      "epoch 6, loss 0.636, train_acc 0.627, test_acc 0.653, taking 80 seconds\n"
     ]
    },
    {
     "name": "stderr",
     "output_type": "stream",
     "text": [
      "100%|██████████| 391/391 [01:00<00:00,  6.49it/s]\n"
     ]
    },
    {
     "name": "stdout",
     "output_type": "stream",
     "text": [
      "epoch 7, loss 0.631, train_acc 0.642, test_acc 0.651, taking 81 seconds\n"
     ]
    },
    {
     "name": "stderr",
     "output_type": "stream",
     "text": [
      "100%|██████████| 391/391 [01:00<00:00,  6.47it/s]\n"
     ]
    },
    {
     "name": "stdout",
     "output_type": "stream",
     "text": [
      "epoch 8, loss 0.626, train_acc 0.646, test_acc 0.669, taking 77 seconds\n"
     ]
    },
    {
     "name": "stderr",
     "output_type": "stream",
     "text": [
      "100%|██████████| 391/391 [01:00<00:00,  6.49it/s]\n"
     ]
    },
    {
     "name": "stdout",
     "output_type": "stream",
     "text": [
      "epoch 9, loss 0.622, train_acc 0.648, test_acc 0.677, taking 81 seconds\n"
     ]
    },
    {
     "name": "stderr",
     "output_type": "stream",
     "text": [
      "100%|██████████| 391/391 [01:00<00:00,  6.49it/s]\n"
     ]
    },
    {
     "name": "stdout",
     "output_type": "stream",
     "text": [
      "epoch 10, loss 0.619, train_acc 0.652, test_acc 0.673, taking 76 seconds\n"
     ]
    },
    {
     "name": "stderr",
     "output_type": "stream",
     "text": [
      "100%|██████████| 391/391 [01:02<00:00,  6.30it/s]\n"
     ]
    },
    {
     "name": "stdout",
     "output_type": "stream",
     "text": [
      "epoch 11, loss 0.612, train_acc 0.663, test_acc 0.673, taking 83 seconds\n"
     ]
    },
    {
     "name": "stderr",
     "output_type": "stream",
     "text": [
      "100%|██████████| 391/391 [01:00<00:00,  6.46it/s]\n"
     ]
    },
    {
     "name": "stdout",
     "output_type": "stream",
     "text": [
      "epoch 12, loss 0.608, train_acc 0.670, test_acc 0.695, taking 76 seconds\n"
     ]
    },
    {
     "name": "stderr",
     "output_type": "stream",
     "text": [
      "100%|██████████| 391/391 [01:00<00:00,  6.49it/s]\n"
     ]
    },
    {
     "name": "stdout",
     "output_type": "stream",
     "text": [
      "epoch 13, loss 0.602, train_acc 0.669, test_acc 0.696, taking 77 seconds\n"
     ]
    },
    {
     "name": "stderr",
     "output_type": "stream",
     "text": [
      "100%|██████████| 391/391 [01:00<00:00,  6.45it/s]\n"
     ]
    },
    {
     "name": "stdout",
     "output_type": "stream",
     "text": [
      "epoch 14, loss 0.597, train_acc 0.678, test_acc 0.690, taking 84 seconds\n"
     ]
    },
    {
     "name": "stderr",
     "output_type": "stream",
     "text": [
      "100%|██████████| 391/391 [01:00<00:00,  6.42it/s]\n"
     ]
    },
    {
     "name": "stdout",
     "output_type": "stream",
     "text": [
      "epoch 15, loss 0.592, train_acc 0.681, test_acc 0.707, taking 77 seconds\n"
     ]
    },
    {
     "name": "stderr",
     "output_type": "stream",
     "text": [
      "100%|██████████| 391/391 [00:58<00:00,  6.72it/s]\n"
     ]
    },
    {
     "name": "stdout",
     "output_type": "stream",
     "text": [
      "epoch 16, loss 0.584, train_acc 0.693, test_acc 0.722, taking 73 seconds\n"
     ]
    },
    {
     "name": "stderr",
     "output_type": "stream",
     "text": [
      "100%|██████████| 391/391 [00:58<00:00,  6.71it/s]\n"
     ]
    },
    {
     "name": "stdout",
     "output_type": "stream",
     "text": [
      "epoch 17, loss 0.562, train_acc 0.710, test_acc 0.737, taking 73 seconds\n"
     ]
    },
    {
     "name": "stderr",
     "output_type": "stream",
     "text": [
      "100%|██████████| 391/391 [01:03<00:00,  6.16it/s]\n"
     ]
    },
    {
     "name": "stdout",
     "output_type": "stream",
     "text": [
      "epoch 18, loss 0.537, train_acc 0.732, test_acc 0.746, taking 78 seconds\n"
     ]
    },
    {
     "name": "stderr",
     "output_type": "stream",
     "text": [
      "100%|██████████| 391/391 [00:58<00:00,  6.71it/s]\n"
     ]
    },
    {
     "name": "stdout",
     "output_type": "stream",
     "text": [
      "epoch 19, loss 0.524, train_acc 0.740, test_acc 0.774, taking 73 seconds\n"
     ]
    },
    {
     "name": "stderr",
     "output_type": "stream",
     "text": [
      "100%|██████████| 391/391 [00:58<00:00,  6.72it/s]\n"
     ]
    },
    {
     "name": "stdout",
     "output_type": "stream",
     "text": [
      "epoch 20, loss 0.517, train_acc 0.741, test_acc 0.781, taking 73 seconds\n"
     ]
    },
    {
     "name": "stderr",
     "output_type": "stream",
     "text": [
      "100%|██████████| 391/391 [01:00<00:00,  6.47it/s]\n"
     ]
    },
    {
     "name": "stdout",
     "output_type": "stream",
     "text": [
      "epoch 21, loss 0.514, train_acc 0.743, test_acc 0.783, taking 75 seconds\n"
     ]
    },
    {
     "name": "stderr",
     "output_type": "stream",
     "text": [
      "100%|██████████| 391/391 [01:05<00:00,  6.00it/s]\n"
     ]
    },
    {
     "name": "stdout",
     "output_type": "stream",
     "text": [
      "epoch 22, loss 0.509, train_acc 0.751, test_acc 0.784, taking 80 seconds\n"
     ]
    },
    {
     "name": "stderr",
     "output_type": "stream",
     "text": [
      "100%|██████████| 391/391 [00:57<00:00,  6.74it/s]\n"
     ]
    },
    {
     "name": "stdout",
     "output_type": "stream",
     "text": [
      "epoch 23, loss 0.506, train_acc 0.754, test_acc 0.787, taking 73 seconds\n"
     ]
    },
    {
     "name": "stderr",
     "output_type": "stream",
     "text": [
      "100%|██████████| 391/391 [00:57<00:00,  6.75it/s]\n"
     ]
    },
    {
     "name": "stdout",
     "output_type": "stream",
     "text": [
      "epoch 24, loss 0.501, train_acc 0.758, test_acc 0.787, taking 73 seconds\n"
     ]
    },
    {
     "name": "stderr",
     "output_type": "stream",
     "text": [
      "100%|██████████| 391/391 [00:57<00:00,  6.81it/s]\n"
     ]
    },
    {
     "name": "stdout",
     "output_type": "stream",
     "text": [
      "epoch 25, loss 0.498, train_acc 0.760, test_acc 0.789, taking 72 seconds\n"
     ]
    },
    {
     "name": "stderr",
     "output_type": "stream",
     "text": [
      "100%|██████████| 391/391 [00:57<00:00,  6.77it/s]\n"
     ]
    },
    {
     "name": "stdout",
     "output_type": "stream",
     "text": [
      "epoch 26, loss 0.499, train_acc 0.753, test_acc 0.788, taking 73 seconds\n"
     ]
    },
    {
     "name": "stderr",
     "output_type": "stream",
     "text": [
      "100%|██████████| 391/391 [00:58<00:00,  6.71it/s]\n"
     ]
    },
    {
     "name": "stdout",
     "output_type": "stream",
     "text": [
      "epoch 27, loss 0.494, train_acc 0.765, test_acc 0.791, taking 82 seconds\n"
     ]
    },
    {
     "name": "stderr",
     "output_type": "stream",
     "text": [
      "100%|██████████| 391/391 [00:57<00:00,  6.78it/s]\n"
     ]
    },
    {
     "name": "stdout",
     "output_type": "stream",
     "text": [
      "epoch 28, loss 0.491, train_acc 0.765, test_acc 0.795, taking 72 seconds\n"
     ]
    },
    {
     "name": "stderr",
     "output_type": "stream",
     "text": [
      "100%|██████████| 391/391 [00:57<00:00,  6.79it/s]\n"
     ]
    },
    {
     "name": "stdout",
     "output_type": "stream",
     "text": [
      "epoch 29, loss 0.485, train_acc 0.765, test_acc 0.793, taking 72 seconds\n"
     ]
    },
    {
     "name": "stderr",
     "output_type": "stream",
     "text": [
      "100%|██████████| 391/391 [00:58<00:00,  6.73it/s]\n"
     ]
    },
    {
     "name": "stdout",
     "output_type": "stream",
     "text": [
      "epoch 30, loss 0.487, train_acc 0.767, test_acc 0.789, taking 73 seconds\n"
     ]
    },
    {
     "name": "stderr",
     "output_type": "stream",
     "text": [
      "100%|██████████| 391/391 [00:57<00:00,  6.76it/s]\n"
     ]
    },
    {
     "name": "stdout",
     "output_type": "stream",
     "text": [
      "epoch 31, loss 0.480, train_acc 0.767, test_acc 0.788, taking 73 seconds\n"
     ]
    },
    {
     "name": "stderr",
     "output_type": "stream",
     "text": [
      "100%|██████████| 391/391 [00:58<00:00,  6.72it/s]\n"
     ]
    },
    {
     "name": "stdout",
     "output_type": "stream",
     "text": [
      "epoch 32, loss 0.481, train_acc 0.769, test_acc 0.796, taking 73 seconds\n"
     ]
    },
    {
     "name": "stderr",
     "output_type": "stream",
     "text": [
      "100%|██████████| 391/391 [00:57<00:00,  6.75it/s]\n"
     ]
    },
    {
     "name": "stdout",
     "output_type": "stream",
     "text": [
      "epoch 33, loss 0.485, train_acc 0.767, test_acc 0.798, taking 73 seconds\n"
     ]
    },
    {
     "name": "stderr",
     "output_type": "stream",
     "text": [
      "100%|██████████| 391/391 [00:58<00:00,  6.72it/s]\n"
     ]
    },
    {
     "name": "stdout",
     "output_type": "stream",
     "text": [
      "epoch 34, loss 0.479, train_acc 0.770, test_acc 0.798, taking 83 seconds\n"
     ]
    },
    {
     "name": "stderr",
     "output_type": "stream",
     "text": [
      "100%|██████████| 391/391 [00:58<00:00,  6.74it/s]\n"
     ]
    },
    {
     "name": "stdout",
     "output_type": "stream",
     "text": [
      "epoch 35, loss 0.475, train_acc 0.768, test_acc 0.797, taking 73 seconds\n"
     ]
    },
    {
     "name": "stderr",
     "output_type": "stream",
     "text": [
      "100%|██████████| 391/391 [00:58<00:00,  6.74it/s]\n"
     ]
    },
    {
     "name": "stdout",
     "output_type": "stream",
     "text": [
      "epoch 36, loss 0.476, train_acc 0.775, test_acc 0.795, taking 73 seconds\n"
     ]
    },
    {
     "name": "stderr",
     "output_type": "stream",
     "text": [
      "100%|██████████| 391/391 [00:58<00:00,  6.69it/s]\n"
     ]
    },
    {
     "name": "stdout",
     "output_type": "stream",
     "text": [
      "epoch 37, loss 0.475, train_acc 0.774, test_acc 0.797, taking 73 seconds\n"
     ]
    },
    {
     "name": "stderr",
     "output_type": "stream",
     "text": [
      "100%|██████████| 391/391 [00:57<00:00,  6.83it/s]\n"
     ]
    },
    {
     "name": "stdout",
     "output_type": "stream",
     "text": [
      "epoch 38, loss 0.475, train_acc 0.773, test_acc 0.799, taking 72 seconds\n"
     ]
    },
    {
     "name": "stderr",
     "output_type": "stream",
     "text": [
      "100%|██████████| 391/391 [00:58<00:00,  6.72it/s]\n"
     ]
    },
    {
     "name": "stdout",
     "output_type": "stream",
     "text": [
      "epoch 39, loss 0.475, train_acc 0.774, test_acc 0.795, taking 73 seconds\n"
     ]
    },
    {
     "name": "stderr",
     "output_type": "stream",
     "text": [
      "100%|██████████| 391/391 [00:57<00:00,  6.75it/s]\n"
     ]
    },
    {
     "name": "stdout",
     "output_type": "stream",
     "text": [
      "epoch 40, loss 0.474, train_acc 0.776, test_acc 0.800, taking 73 seconds\n"
     ]
    },
    {
     "name": "stderr",
     "output_type": "stream",
     "text": [
      "100%|██████████| 391/391 [01:04<00:00,  6.10it/s]\n"
     ]
    },
    {
     "name": "stdout",
     "output_type": "stream",
     "text": [
      "epoch 41, loss 0.469, train_acc 0.775, test_acc 0.792, taking 79 seconds\n"
     ]
    },
    {
     "name": "stderr",
     "output_type": "stream",
     "text": [
      "100%|██████████| 391/391 [00:57<00:00,  6.74it/s]\n"
     ]
    },
    {
     "name": "stdout",
     "output_type": "stream",
     "text": [
      "epoch 42, loss 0.470, train_acc 0.774, test_acc 0.801, taking 73 seconds\n"
     ]
    },
    {
     "name": "stderr",
     "output_type": "stream",
     "text": [
      "100%|██████████| 391/391 [01:10<00:00,  5.52it/s]\n"
     ]
    },
    {
     "name": "stdout",
     "output_type": "stream",
     "text": [
      "epoch 43, loss 0.470, train_acc 0.778, test_acc 0.798, taking 86 seconds\n"
     ]
    },
    {
     "name": "stderr",
     "output_type": "stream",
     "text": [
      "100%|██████████| 391/391 [00:58<00:00,  6.72it/s]\n"
     ]
    },
    {
     "name": "stdout",
     "output_type": "stream",
     "text": [
      "epoch 44, loss 0.472, train_acc 0.774, test_acc 0.801, taking 73 seconds\n"
     ]
    },
    {
     "name": "stderr",
     "output_type": "stream",
     "text": [
      "100%|██████████| 391/391 [00:57<00:00,  6.86it/s]\n"
     ]
    },
    {
     "name": "stdout",
     "output_type": "stream",
     "text": [
      "epoch 45, loss 0.466, train_acc 0.779, test_acc 0.800, taking 72 seconds\n"
     ]
    },
    {
     "name": "stderr",
     "output_type": "stream",
     "text": [
      "100%|██████████| 391/391 [00:57<00:00,  6.75it/s]\n"
     ]
    },
    {
     "name": "stdout",
     "output_type": "stream",
     "text": [
      "epoch 46, loss 0.470, train_acc 0.777, test_acc 0.802, taking 72 seconds\n"
     ]
    },
    {
     "name": "stderr",
     "output_type": "stream",
     "text": [
      "100%|██████████| 391/391 [00:58<00:00,  6.72it/s]\n"
     ]
    },
    {
     "name": "stdout",
     "output_type": "stream",
     "text": [
      "epoch 47, loss 0.469, train_acc 0.780, test_acc 0.804, taking 73 seconds\n"
     ]
    },
    {
     "name": "stderr",
     "output_type": "stream",
     "text": [
      "100%|██████████| 391/391 [00:58<00:00,  6.70it/s]\n"
     ]
    },
    {
     "name": "stdout",
     "output_type": "stream",
     "text": [
      "epoch 48, loss 0.464, train_acc 0.778, test_acc 0.803, taking 74 seconds\n"
     ]
    },
    {
     "name": "stderr",
     "output_type": "stream",
     "text": [
      "100%|██████████| 391/391 [00:58<00:00,  6.70it/s]\n"
     ]
    },
    {
     "name": "stdout",
     "output_type": "stream",
     "text": [
      "epoch 49, loss 0.468, train_acc 0.780, test_acc 0.802, taking 74 seconds\n"
     ]
    },
    {
     "name": "stderr",
     "output_type": "stream",
     "text": [
      "100%|██████████| 391/391 [00:58<00:00,  6.68it/s]\n"
     ]
    },
    {
     "name": "stdout",
     "output_type": "stream",
     "text": [
      "epoch 50, loss 0.468, train_acc 0.778, test_acc 0.804, taking 74 seconds\n"
     ]
    },
    {
     "name": "stderr",
     "output_type": "stream",
     "text": [
      "100%|██████████| 391/391 [00:58<00:00,  6.69it/s]\n"
     ]
    },
    {
     "name": "stdout",
     "output_type": "stream",
     "text": [
      "epoch 51, loss 0.464, train_acc 0.780, test_acc 0.804, taking 73 seconds\n"
     ]
    },
    {
     "name": "stderr",
     "output_type": "stream",
     "text": [
      "100%|██████████| 391/391 [00:58<00:00,  6.66it/s]\n"
     ]
    },
    {
     "name": "stdout",
     "output_type": "stream",
     "text": [
      "epoch 52, loss 0.466, train_acc 0.780, test_acc 0.802, taking 74 seconds\n"
     ]
    },
    {
     "name": "stderr",
     "output_type": "stream",
     "text": [
      "100%|██████████| 391/391 [00:59<00:00,  6.58it/s]\n"
     ]
    },
    {
     "name": "stdout",
     "output_type": "stream",
     "text": [
      "epoch 53, loss 0.468, train_acc 0.784, test_acc 0.806, taking 94 seconds\n"
     ]
    },
    {
     "name": "stderr",
     "output_type": "stream",
     "text": [
      "100%|██████████| 391/391 [00:59<00:00,  6.56it/s]\n"
     ]
    },
    {
     "name": "stdout",
     "output_type": "stream",
     "text": [
      "epoch 54, loss 0.467, train_acc 0.779, test_acc 0.804, taking 75 seconds\n"
     ]
    },
    {
     "name": "stderr",
     "output_type": "stream",
     "text": [
      "100%|██████████| 391/391 [00:58<00:00,  6.68it/s]\n"
     ]
    },
    {
     "name": "stdout",
     "output_type": "stream",
     "text": [
      "epoch 55, loss 0.460, train_acc 0.783, test_acc 0.805, taking 74 seconds\n"
     ]
    },
    {
     "name": "stderr",
     "output_type": "stream",
     "text": [
      "100%|██████████| 391/391 [00:58<00:00,  6.71it/s]\n"
     ]
    },
    {
     "name": "stdout",
     "output_type": "stream",
     "text": [
      "epoch 56, loss 0.460, train_acc 0.784, test_acc 0.807, taking 73 seconds\n"
     ]
    },
    {
     "name": "stderr",
     "output_type": "stream",
     "text": [
      "100%|██████████| 391/391 [00:58<00:00,  6.74it/s]\n"
     ]
    },
    {
     "name": "stdout",
     "output_type": "stream",
     "text": [
      "epoch 57, loss 0.460, train_acc 0.783, test_acc 0.807, taking 73 seconds\n"
     ]
    },
    {
     "name": "stderr",
     "output_type": "stream",
     "text": [
      "100%|██████████| 391/391 [00:58<00:00,  6.68it/s]\n"
     ]
    },
    {
     "name": "stdout",
     "output_type": "stream",
     "text": [
      "epoch 58, loss 0.457, train_acc 0.781, test_acc 0.806, taking 73 seconds\n"
     ]
    },
    {
     "name": "stderr",
     "output_type": "stream",
     "text": [
      "100%|██████████| 391/391 [00:58<00:00,  6.71it/s]\n"
     ]
    },
    {
     "name": "stdout",
     "output_type": "stream",
     "text": [
      "epoch 59, loss 0.460, train_acc 0.782, test_acc 0.807, taking 74 seconds\n"
     ]
    },
    {
     "name": "stderr",
     "output_type": "stream",
     "text": [
      "100%|██████████| 391/391 [00:58<00:00,  6.71it/s]\n"
     ]
    },
    {
     "name": "stdout",
     "output_type": "stream",
     "text": [
      "epoch 60, loss 0.461, train_acc 0.782, test_acc 0.808, taking 74 seconds\n",
      "Training is finished.\n",
      "训练损失:0.461, 训练集准确率:0.782, 测试集准确率:0.808在设备cuda:0上训练60周期 耗时4545s\n"
     ]
    }
   ],
   "source": [
    "# 以‘微调’的模式进行训练，单层编码器块\n",
    "# 22,017,010 total parameters.\n",
    "loss = nn.CrossEntropyLoss(reduction='none')\n",
    "forward_params = [\n",
    "    param for name, param in net.named_parameters()\n",
    "    if name != \"embedding.weight\"]\n",
    "trainer = torch.optim.Adam(\n",
    "    [{'params': forward_params},\n",
    "    {'params': net.embedding.parameters(),\n",
    "    'lr': lr * 0.01}], lr=lr)\n",
    "# animator = d2l.Animator(xlabel='epoch', xlim=[1, num_epochs], ylim=[0, 1],\n",
    "#         legend=['train loss', 'train acc'])\n",
    "net.to(device)\n",
    "\n",
    "num_batches = len(train_iter)\n",
    "losses, train_accuracy, test_accuracy = [], [], []\n",
    "total_start = time.time()\n",
    "for epoch in range(num_epochs):\n",
    "    # metric = d2l.Accumulator(4)\n",
    "    train_loss, train_acc = 0, 0\n",
    "    start_time = time.perf_counter()\n",
    "    net.train()\n",
    "    for index, data in tqdm(enumerate(train_iter), total=num_batches, leave = True):\n",
    "        X, valid_len, y = [v.to(device) for v in data]\n",
    "        l = loss(net(X, valid_len), y)\n",
    "        trainer.zero_grad()\n",
    "        l.sum().backward()\n",
    "        trainer.step()\n",
    "        # metric.add(l.sum(), d2l.accuracy(net(X, valid_len), y), labels.shape[0])\n",
    "        train_loss += l.sum().cpu().detach().numpy() / batch_size\n",
    "        train_acc += d2l.accuracy(net(X, valid_len), y) / batch_size\n",
    "    epochloss, epochtrain, epochtest = train_loss / num_batches, train_acc / num_batches, evaluate_accuracy_gpu(net, test_iter)\n",
    "    end_time = time.perf_counter()\n",
    "    print(f'epoch {epoch + 1}, loss {epochloss:.3f}, train_acc {epochtrain:.3f}, '\n",
    "         f'test_acc {epochtest:.3f}, taking {round(end_time - start_time)} seconds')\n",
    "    losses.append(epochloss)\n",
    "    train_accuracy.append(epochtrain)\n",
    "    test_accuracy.append(epochtest)\n",
    "total_timecost = round(time.time() - total_start)\n",
    "print('Training is finished.')\n",
    "print(f'训练损失:{losses[-1]:.3f}, 训练集准确率:{train_accuracy[-1]:.3f}, '\n",
    "      f'测试集准确率:{test_accuracy[-1]:.3f}'\n",
    "     f'在设备{device}上训练{num_epochs}周期 耗时{total_timecost}s')"
   ]
  },
  {
   "cell_type": "code",
   "execution_count": 35,
   "id": "1375c102-0fc9-4cdf-be27-c4f7384da1c4",
   "metadata": {},
   "outputs": [
    {
     "data": {
      "image/png": "[encoded data removed]",
      "text/plain": [
       "<Figure size 640x480 with 1 Axes>"
      ]
     },
     "metadata": {},
     "output_type": "display_data"
    }
   ],
   "source": [
    "fig = plt.figure()\n",
    "plt.title('train loss and accuracy')\n",
    "epochs = np.arange(1, num_epochs + 1)\n",
    "# losses, train_accuracy, test_accuracy\n",
    "plt.plot(epochs, losses, 'r.-', label='loss')\n",
    "plt.plot(epochs, train_accuracy, 'g-.', label='train_acc')\n",
    "plt.plot(epochs, test_accuracy, 'b-.', label='test_acc')\n",
    "plt.grid()\n",
    "plt.legend(loc='best', frameon=False)\n",
    "plt.show()"
   ]
  },
  {
   "cell_type": "markdown",
   "id": "771709ac-d838-4c14-995c-131ff93bc976",
   "metadata": {},
   "source": [
    "# 训练5(使用卷积)"
   ]
  },
  {
   "cell_type": "code",
   "execution_count": 27,
   "id": "cdf00480-6ce3-4237-bacf-6ff98563259c",
   "metadata": {},
   "outputs": [
    {
     "name": "stdout",
     "output_type": "stream",
     "text": [
      "21,756,091 total parameters.\n",
      "21,756,091 training parameters.\n"
     ]
    }
   ],
   "source": [
    "# 模型和模型参数数量\n",
    "net = TransformerEncoder(\n",
    "    len(vocab), num_hiddens, norm_shape,\n",
    "    ffn_num_input, ffn_num_hiddens, dim_dict,\n",
    "    num_layers,dropout, num_output, kernel_size, stride)\n",
    "\n",
    "# Find total parameters and trainable parameters\n",
    "total_params = sum(p.numel() for p in net.parameters())\n",
    "print(f'{total_params:,} total parameters.')\n",
    "total_trainable_params = sum(p.numel() for p in net.parameters() if p.requires_grad)\n",
    "print(f'{total_trainable_params:,} training parameters.')"
   ]
  },
  {
   "cell_type": "code",
   "execution_count": 19,
   "id": "872c1245-0dcb-4c23-a59a-69ca01d78d56",
   "metadata": {},
   "outputs": [
    {
     "data": {
      "text/plain": [
       "torch.Size([64, 2])"
      ]
     },
     "execution_count": 19,
     "metadata": {},
     "output_type": "execute_result"
    }
   ],
   "source": [
    "X = torch.ones((64, 500), dtype=torch.int32)\n",
    "valid_len = torch.ones(64, dtype=torch.int32)\n",
    "type(valid_len)\n",
    "net(X, valid_len).shape"
   ]
  },
  {
   "cell_type": "code",
   "execution_count": 24,
   "id": "06b1ec91-1fb7-4274-85a6-f827a78be006",
   "metadata": {},
   "outputs": [],
   "source": [
    "num_epochs = 30"
   ]
  },
  {
   "cell_type": "code",
   "execution_count": 30,
   "id": "6ff3eafe-5c86-448e-a0b8-264df76233f3",
   "metadata": {},
   "outputs": [
    {
     "name": "stderr",
     "output_type": "stream",
     "text": [
      "100%|██████████| 391/391 [00:58<00:00,  6.71it/s]\n"
     ]
    },
    {
     "name": "stdout",
     "output_type": "stream",
     "text": [
      "epoch 1, loss 0.694, train_acc 0.500, test_acc 0.500, taking 74 seconds\n"
     ]
    },
    {
     "name": "stderr",
     "output_type": "stream",
     "text": [
      "100%|██████████| 391/391 [00:58<00:00,  6.66it/s]\n"
     ]
    },
    {
     "name": "stdout",
     "output_type": "stream",
     "text": [
      "epoch 2, loss 0.693, train_acc 0.500, test_acc 0.500, taking 74 seconds\n"
     ]
    },
    {
     "name": "stderr",
     "output_type": "stream",
     "text": [
      "100%|██████████| 391/391 [00:58<00:00,  6.73it/s]\n"
     ]
    },
    {
     "name": "stdout",
     "output_type": "stream",
     "text": [
      "epoch 3, loss 0.693, train_acc 0.495, test_acc 0.500, taking 73 seconds\n"
     ]
    },
    {
     "name": "stderr",
     "output_type": "stream",
     "text": [
      "100%|██████████| 391/391 [00:57<00:00,  6.77it/s]\n"
     ]
    },
    {
     "name": "stdout",
     "output_type": "stream",
     "text": [
      "epoch 4, loss 0.693, train_acc 0.498, test_acc 0.500, taking 73 seconds\n"
     ]
    },
    {
     "name": "stderr",
     "output_type": "stream",
     "text": [
      "100%|██████████| 391/391 [00:58<00:00,  6.71it/s]\n"
     ]
    },
    {
     "name": "stdout",
     "output_type": "stream",
     "text": [
      "epoch 5, loss 0.693, train_acc 0.497, test_acc 0.500, taking 74 seconds\n"
     ]
    },
    {
     "name": "stderr",
     "output_type": "stream",
     "text": [
      "100%|██████████| 391/391 [00:58<00:00,  6.72it/s]\n"
     ]
    },
    {
     "name": "stdout",
     "output_type": "stream",
     "text": [
      "epoch 6, loss 0.692, train_acc 0.494, test_acc 0.500, taking 73 seconds\n"
     ]
    },
    {
     "name": "stderr",
     "output_type": "stream",
     "text": [
      "100%|██████████| 391/391 [00:58<00:00,  6.71it/s]\n"
     ]
    },
    {
     "name": "stdout",
     "output_type": "stream",
     "text": [
      "epoch 7, loss 0.693, train_acc 0.500, test_acc 0.500, taking 73 seconds\n"
     ]
    },
    {
     "name": "stderr",
     "output_type": "stream",
     "text": [
      "100%|██████████| 391/391 [00:57<00:00,  6.75it/s]\n"
     ]
    },
    {
     "name": "stdout",
     "output_type": "stream",
     "text": [
      "epoch 8, loss 0.693, train_acc 0.500, test_acc 0.500, taking 73 seconds\n"
     ]
    },
    {
     "name": "stderr",
     "output_type": "stream",
     "text": [
      "100%|██████████| 391/391 [00:57<00:00,  6.74it/s]\n"
     ]
    },
    {
     "name": "stdout",
     "output_type": "stream",
     "text": [
      "epoch 9, loss 0.693, train_acc 0.499, test_acc 0.500, taking 73 seconds\n"
     ]
    },
    {
     "name": "stderr",
     "output_type": "stream",
     "text": [
      "100%|██████████| 391/391 [00:58<00:00,  6.71it/s]\n"
     ]
    },
    {
     "name": "stdout",
     "output_type": "stream",
     "text": [
      "epoch 10, loss 0.693, train_acc 0.496, test_acc 0.500, taking 74 seconds\n"
     ]
    },
    {
     "name": "stderr",
     "output_type": "stream",
     "text": [
      "100%|██████████| 391/391 [00:58<00:00,  6.68it/s]\n"
     ]
    },
    {
     "name": "stdout",
     "output_type": "stream",
     "text": [
      "epoch 11, loss 0.693, train_acc 0.493, test_acc 0.500, taking 74 seconds\n"
     ]
    },
    {
     "name": "stderr",
     "output_type": "stream",
     "text": [
      "100%|██████████| 391/391 [00:57<00:00,  6.79it/s]\n"
     ]
    },
    {
     "name": "stdout",
     "output_type": "stream",
     "text": [
      "epoch 12, loss 0.693, train_acc 0.498, test_acc 0.500, taking 73 seconds\n"
     ]
    },
    {
     "name": "stderr",
     "output_type": "stream",
     "text": [
      "100%|██████████| 391/391 [00:58<00:00,  6.70it/s]\n"
     ]
    },
    {
     "name": "stdout",
     "output_type": "stream",
     "text": [
      "epoch 13, loss 0.693, train_acc 0.498, test_acc 0.500, taking 74 seconds\n"
     ]
    },
    {
     "name": "stderr",
     "output_type": "stream",
     "text": [
      "100%|██████████| 391/391 [00:57<00:00,  6.74it/s]\n"
     ]
    },
    {
     "name": "stdout",
     "output_type": "stream",
     "text": [
      "epoch 14, loss 0.693, train_acc 0.492, test_acc 0.500, taking 73 seconds\n"
     ]
    },
    {
     "name": "stderr",
     "output_type": "stream",
     "text": [
      "100%|██████████| 391/391 [00:57<00:00,  6.81it/s]\n"
     ]
    },
    {
     "name": "stdout",
     "output_type": "stream",
     "text": [
      "epoch 15, loss 0.693, train_acc 0.496, test_acc 0.500, taking 72 seconds\n"
     ]
    },
    {
     "name": "stderr",
     "output_type": "stream",
     "text": [
      "100%|██████████| 391/391 [00:57<00:00,  6.77it/s]\n"
     ]
    },
    {
     "name": "stdout",
     "output_type": "stream",
     "text": [
      "epoch 16, loss 0.693, train_acc 0.499, test_acc 0.500, taking 73 seconds\n"
     ]
    },
    {
     "name": "stderr",
     "output_type": "stream",
     "text": [
      "100%|██████████| 391/391 [00:58<00:00,  6.67it/s]\n"
     ]
    },
    {
     "name": "stdout",
     "output_type": "stream",
     "text": [
      "epoch 17, loss 0.693, train_acc 0.501, test_acc 0.500, taking 74 seconds\n"
     ]
    },
    {
     "name": "stderr",
     "output_type": "stream",
     "text": [
      "100%|██████████| 391/391 [00:58<00:00,  6.72it/s]\n"
     ]
    },
    {
     "name": "stdout",
     "output_type": "stream",
     "text": [
      "epoch 18, loss 0.693, train_acc 0.498, test_acc 0.500, taking 73 seconds\n"
     ]
    },
    {
     "name": "stderr",
     "output_type": "stream",
     "text": [
      " 12%|█▏        | 45/391 [00:06<00:51,  6.68it/s]\n"
     ]
    },
    {
     "ename": "KeyboardInterrupt",
     "evalue": "",
     "output_type": "error",
     "traceback": [
      "\u001b[0;31m---------------------------------------------------------------------------\u001b[0m",
      "\u001b[0;31mKeyboardInterrupt\u001b[0m                         Traceback (most recent call last)",
      "\u001b[0;32m/tmp/ipykernel_533/780893772.py\u001b[0m in \u001b[0;36m<cell line: 18>\u001b[0;34m()\u001b[0m\n\u001b[1;32m     23\u001b[0m     \u001b[0;32mfor\u001b[0m \u001b[0mindex\u001b[0m\u001b[0;34m,\u001b[0m \u001b[0mdata\u001b[0m \u001b[0;32min\u001b[0m \u001b[0mtqdm\u001b[0m\u001b[0;34m(\u001b[0m\u001b[0menumerate\u001b[0m\u001b[0;34m(\u001b[0m\u001b[0mtrain_iter\u001b[0m\u001b[0;34m)\u001b[0m\u001b[0;34m,\u001b[0m \u001b[0mtotal\u001b[0m\u001b[0;34m=\u001b[0m\u001b[0mnum_batches\u001b[0m\u001b[0;34m,\u001b[0m \u001b[0mleave\u001b[0m \u001b[0;34m=\u001b[0m \u001b[0;32mTrue\u001b[0m\u001b[0;34m)\u001b[0m\u001b[0;34m:\u001b[0m\u001b[0;34m\u001b[0m\u001b[0;34m\u001b[0m\u001b[0m\n\u001b[1;32m     24\u001b[0m         \u001b[0mX\u001b[0m\u001b[0;34m,\u001b[0m \u001b[0mvalid_len\u001b[0m\u001b[0;34m,\u001b[0m \u001b[0my\u001b[0m \u001b[0;34m=\u001b[0m \u001b[0;34m[\u001b[0m\u001b[0mv\u001b[0m\u001b[0;34m.\u001b[0m\u001b[0mto\u001b[0m\u001b[0;34m(\u001b[0m\u001b[0mdevice\u001b[0m\u001b[0;34m)\u001b[0m \u001b[0;32mfor\u001b[0m \u001b[0mv\u001b[0m \u001b[0;32min\u001b[0m \u001b[0mdata\u001b[0m\u001b[0;34m]\u001b[0m\u001b[0;34m\u001b[0m\u001b[0;34m\u001b[0m\u001b[0m\n\u001b[0;32m---> 25\u001b[0;31m         \u001b[0ml\u001b[0m \u001b[0;34m=\u001b[0m \u001b[0mloss\u001b[0m\u001b[0;34m(\u001b[0m\u001b[0mnet\u001b[0m\u001b[0;34m(\u001b[0m\u001b[0mX\u001b[0m\u001b[0;34m,\u001b[0m \u001b[0mvalid_len\u001b[0m\u001b[0;34m)\u001b[0m\u001b[0;34m,\u001b[0m \u001b[0my\u001b[0m\u001b[0;34m)\u001b[0m\u001b[0;34m\u001b[0m\u001b[0;34m\u001b[0m\u001b[0m\n\u001b[0m\u001b[1;32m     26\u001b[0m         \u001b[0mtrainer\u001b[0m\u001b[0;34m.\u001b[0m\u001b[0mzero_grad\u001b[0m\u001b[0;34m(\u001b[0m\u001b[0;34m)\u001b[0m\u001b[0;34m\u001b[0m\u001b[0;34m\u001b[0m\u001b[0m\n\u001b[1;32m     27\u001b[0m         \u001b[0ml\u001b[0m\u001b[0;34m.\u001b[0m\u001b[0msum\u001b[0m\u001b[0;34m(\u001b[0m\u001b[0;34m)\u001b[0m\u001b[0;34m.\u001b[0m\u001b[0mbackward\u001b[0m\u001b[0;34m(\u001b[0m\u001b[0;34m)\u001b[0m\u001b[0;34m\u001b[0m\u001b[0;34m\u001b[0m\u001b[0m\n",
      "\u001b[0;32m~/miniconda3/lib/python3.8/site-packages/torch/nn/modules/module.py\u001b[0m in \u001b[0;36m_call_impl\u001b[0;34m(self, *input, **kwargs)\u001b[0m\n\u001b[1;32m   1049\u001b[0m         if not (self._backward_hooks or self._forward_hooks or self._forward_pre_hooks or _global_backward_hooks\n\u001b[1;32m   1050\u001b[0m                 or _global_forward_hooks or _global_forward_pre_hooks):\n\u001b[0;32m-> 1051\u001b[0;31m             \u001b[0;32mreturn\u001b[0m \u001b[0mforward_call\u001b[0m\u001b[0;34m(\u001b[0m\u001b[0;34m*\u001b[0m\u001b[0minput\u001b[0m\u001b[0;34m,\u001b[0m \u001b[0;34m**\u001b[0m\u001b[0mkwargs\u001b[0m\u001b[0;34m)\u001b[0m\u001b[0;34m\u001b[0m\u001b[0;34m\u001b[0m\u001b[0m\n\u001b[0m\u001b[1;32m   1052\u001b[0m         \u001b[0;31m# Do not call functions when jit is used\u001b[0m\u001b[0;34m\u001b[0m\u001b[0;34m\u001b[0m\u001b[0;34m\u001b[0m\u001b[0m\n\u001b[1;32m   1053\u001b[0m         \u001b[0mfull_backward_hooks\u001b[0m\u001b[0;34m,\u001b[0m \u001b[0mnon_full_backward_hooks\u001b[0m \u001b[0;34m=\u001b[0m \u001b[0;34m[\u001b[0m\u001b[0;34m]\u001b[0m\u001b[0;34m,\u001b[0m \u001b[0;34m[\u001b[0m\u001b[0;34m]\u001b[0m\u001b[0;34m\u001b[0m\u001b[0;34m\u001b[0m\u001b[0m\n",
      "\u001b[0;32m/tmp/ipykernel_533/3109454097.py\u001b[0m in \u001b[0;36mforward\u001b[0;34m(self, X, valid_lens, *args)\u001b[0m\n\u001b[1;32m     25\u001b[0m         \u001b[0mself\u001b[0m\u001b[0;34m.\u001b[0m\u001b[0mattention_weights\u001b[0m \u001b[0;34m=\u001b[0m \u001b[0;34m[\u001b[0m\u001b[0;32mNone\u001b[0m\u001b[0;34m]\u001b[0m \u001b[0;34m*\u001b[0m \u001b[0mlen\u001b[0m\u001b[0;34m(\u001b[0m\u001b[0mself\u001b[0m\u001b[0;34m.\u001b[0m\u001b[0mblks\u001b[0m\u001b[0;34m)\u001b[0m\u001b[0;34m\u001b[0m\u001b[0;34m\u001b[0m\u001b[0m\n\u001b[1;32m     26\u001b[0m         \u001b[0;32mfor\u001b[0m \u001b[0mi\u001b[0m\u001b[0;34m,\u001b[0m \u001b[0mblk\u001b[0m \u001b[0;32min\u001b[0m \u001b[0menumerate\u001b[0m\u001b[0;34m(\u001b[0m\u001b[0mself\u001b[0m\u001b[0;34m.\u001b[0m\u001b[0mblks\u001b[0m\u001b[0;34m)\u001b[0m\u001b[0;34m:\u001b[0m\u001b[0;34m\u001b[0m\u001b[0;34m\u001b[0m\u001b[0m\n\u001b[0;32m---> 27\u001b[0;31m             \u001b[0mX\u001b[0m \u001b[0;34m=\u001b[0m \u001b[0mblk\u001b[0m\u001b[0;34m(\u001b[0m\u001b[0mX\u001b[0m\u001b[0;34m,\u001b[0m \u001b[0mvalid_lens\u001b[0m\u001b[0;34m)\u001b[0m\u001b[0;34m\u001b[0m\u001b[0;34m\u001b[0m\u001b[0m\n\u001b[0m\u001b[1;32m     28\u001b[0m             \u001b[0mself\u001b[0m\u001b[0;34m.\u001b[0m\u001b[0mattention_weights\u001b[0m\u001b[0;34m[\u001b[0m\u001b[0mi\u001b[0m\u001b[0;34m]\u001b[0m \u001b[0;34m=\u001b[0m \u001b[0mblk\u001b[0m\u001b[0;34m.\u001b[0m\u001b[0mattention\u001b[0m\u001b[0;34m.\u001b[0m\u001b[0mattention\u001b[0m\u001b[0;34m.\u001b[0m\u001b[0mattention_weights\u001b[0m\u001b[0;34m\u001b[0m\u001b[0;34m\u001b[0m\u001b[0m\n\u001b[1;32m     29\u001b[0m         \u001b[0;31m# 交换X的num_steps和num_hiddens两个维度\u001b[0m\u001b[0;34m\u001b[0m\u001b[0;34m\u001b[0m\u001b[0;34m\u001b[0m\u001b[0m\n",
      "\u001b[0;32m~/miniconda3/lib/python3.8/site-packages/torch/nn/modules/module.py\u001b[0m in \u001b[0;36m_call_impl\u001b[0;34m(self, *input, **kwargs)\u001b[0m\n\u001b[1;32m   1049\u001b[0m         if not (self._backward_hooks or self._forward_hooks or self._forward_pre_hooks or _global_backward_hooks\n\u001b[1;32m   1050\u001b[0m                 or _global_forward_hooks or _global_forward_pre_hooks):\n\u001b[0;32m-> 1051\u001b[0;31m             \u001b[0;32mreturn\u001b[0m \u001b[0mforward_call\u001b[0m\u001b[0;34m(\u001b[0m\u001b[0;34m*\u001b[0m\u001b[0minput\u001b[0m\u001b[0;34m,\u001b[0m \u001b[0;34m**\u001b[0m\u001b[0mkwargs\u001b[0m\u001b[0;34m)\u001b[0m\u001b[0;34m\u001b[0m\u001b[0;34m\u001b[0m\u001b[0m\n\u001b[0m\u001b[1;32m   1052\u001b[0m         \u001b[0;31m# Do not call functions when jit is used\u001b[0m\u001b[0;34m\u001b[0m\u001b[0;34m\u001b[0m\u001b[0;34m\u001b[0m\u001b[0m\n\u001b[1;32m   1053\u001b[0m         \u001b[0mfull_backward_hooks\u001b[0m\u001b[0;34m,\u001b[0m \u001b[0mnon_full_backward_hooks\u001b[0m \u001b[0;34m=\u001b[0m \u001b[0;34m[\u001b[0m\u001b[0;34m]\u001b[0m\u001b[0;34m,\u001b[0m \u001b[0;34m[\u001b[0m\u001b[0;34m]\u001b[0m\u001b[0;34m\u001b[0m\u001b[0;34m\u001b[0m\u001b[0m\n",
      "\u001b[0;32m/tmp/ipykernel_533/3582268677.py\u001b[0m in \u001b[0;36mforward\u001b[0;34m(self, X, valid_lens)\u001b[0m\n\u001b[1;32m     13\u001b[0m \u001b[0;34m\u001b[0m\u001b[0m\n\u001b[1;32m     14\u001b[0m     \u001b[0;32mdef\u001b[0m \u001b[0mforward\u001b[0m\u001b[0;34m(\u001b[0m\u001b[0mself\u001b[0m\u001b[0;34m,\u001b[0m \u001b[0mX\u001b[0m\u001b[0;34m,\u001b[0m \u001b[0mvalid_lens\u001b[0m\u001b[0;34m)\u001b[0m\u001b[0;34m:\u001b[0m\u001b[0;34m\u001b[0m\u001b[0;34m\u001b[0m\u001b[0m\n\u001b[0;32m---> 15\u001b[0;31m         \u001b[0mY\u001b[0m \u001b[0;34m=\u001b[0m \u001b[0mself\u001b[0m\u001b[0;34m.\u001b[0m\u001b[0maddnorm1\u001b[0m\u001b[0;34m(\u001b[0m\u001b[0mX\u001b[0m\u001b[0;34m,\u001b[0m \u001b[0mself\u001b[0m\u001b[0;34m.\u001b[0m\u001b[0mattention\u001b[0m\u001b[0;34m(\u001b[0m\u001b[0mX\u001b[0m\u001b[0;34m,\u001b[0m \u001b[0mX\u001b[0m\u001b[0;34m,\u001b[0m \u001b[0mX\u001b[0m\u001b[0;34m,\u001b[0m \u001b[0mvalid_lens\u001b[0m\u001b[0;34m)\u001b[0m\u001b[0;34m)\u001b[0m\u001b[0;34m\u001b[0m\u001b[0;34m\u001b[0m\u001b[0m\n\u001b[0m\u001b[1;32m     16\u001b[0m         \u001b[0;32mreturn\u001b[0m \u001b[0mself\u001b[0m\u001b[0;34m.\u001b[0m\u001b[0maddnorm2\u001b[0m\u001b[0;34m(\u001b[0m\u001b[0mY\u001b[0m\u001b[0;34m,\u001b[0m \u001b[0mself\u001b[0m\u001b[0;34m.\u001b[0m\u001b[0mffn\u001b[0m\u001b[0;34m(\u001b[0m\u001b[0mY\u001b[0m\u001b[0;34m)\u001b[0m\u001b[0;34m)\u001b[0m\u001b[0;34m\u001b[0m\u001b[0;34m\u001b[0m\u001b[0m\n",
      "\u001b[0;32m~/miniconda3/lib/python3.8/site-packages/torch/nn/modules/module.py\u001b[0m in \u001b[0;36m_call_impl\u001b[0;34m(self, *input, **kwargs)\u001b[0m\n\u001b[1;32m   1049\u001b[0m         if not (self._backward_hooks or self._forward_hooks or self._forward_pre_hooks or _global_backward_hooks\n\u001b[1;32m   1050\u001b[0m                 or _global_forward_hooks or _global_forward_pre_hooks):\n\u001b[0;32m-> 1051\u001b[0;31m             \u001b[0;32mreturn\u001b[0m \u001b[0mforward_call\u001b[0m\u001b[0;34m(\u001b[0m\u001b[0;34m*\u001b[0m\u001b[0minput\u001b[0m\u001b[0;34m,\u001b[0m \u001b[0;34m**\u001b[0m\u001b[0mkwargs\u001b[0m\u001b[0;34m)\u001b[0m\u001b[0;34m\u001b[0m\u001b[0;34m\u001b[0m\u001b[0m\n\u001b[0m\u001b[1;32m   1052\u001b[0m         \u001b[0;31m# Do not call functions when jit is used\u001b[0m\u001b[0;34m\u001b[0m\u001b[0;34m\u001b[0m\u001b[0;34m\u001b[0m\u001b[0m\n\u001b[1;32m   1053\u001b[0m         \u001b[0mfull_backward_hooks\u001b[0m\u001b[0;34m,\u001b[0m \u001b[0mnon_full_backward_hooks\u001b[0m \u001b[0;34m=\u001b[0m \u001b[0;34m[\u001b[0m\u001b[0;34m]\u001b[0m\u001b[0;34m,\u001b[0m \u001b[0;34m[\u001b[0m\u001b[0;34m]\u001b[0m\u001b[0;34m\u001b[0m\u001b[0;34m\u001b[0m\u001b[0m\n",
      "\u001b[0;32m/tmp/ipykernel_533/1611395956.py\u001b[0m in \u001b[0;36mforward\u001b[0;34m(self, queries, keys, values, valid_lens)\u001b[0m\n\u001b[1;32m     93\u001b[0m         \u001b[0moutput_concat\u001b[0m \u001b[0;34m=\u001b[0m \u001b[0mtorch\u001b[0m\u001b[0;34m.\u001b[0m\u001b[0mcat\u001b[0m\u001b[0;34m(\u001b[0m\u001b[0;34m(\u001b[0m\u001b[0mhead0\u001b[0m\u001b[0;34m,\u001b[0m \u001b[0mhead1\u001b[0m\u001b[0;34m,\u001b[0m \u001b[0mhead2\u001b[0m\u001b[0;34m,\u001b[0m \u001b[0mhead3\u001b[0m\u001b[0;34m,\u001b[0m \u001b[0mhead4\u001b[0m\u001b[0;34m,\u001b[0m \u001b[0mhead5\u001b[0m\u001b[0;34m,\u001b[0m \u001b[0mhead6\u001b[0m\u001b[0;34m,\u001b[0m \u001b[0mhead7\u001b[0m\u001b[0;34m)\u001b[0m\u001b[0;34m,\u001b[0m \u001b[0mdim\u001b[0m\u001b[0;34m=\u001b[0m\u001b[0;34m-\u001b[0m\u001b[0;36m1\u001b[0m\u001b[0;34m)\u001b[0m\u001b[0;34m\u001b[0m\u001b[0;34m\u001b[0m\u001b[0m\n\u001b[1;32m     94\u001b[0m         \u001b[0mlist_concat\u001b[0m \u001b[0;34m=\u001b[0m \u001b[0mself\u001b[0m\u001b[0;34m.\u001b[0m\u001b[0mdim_0\u001b[0m \u001b[0;34m+\u001b[0m \u001b[0mself\u001b[0m\u001b[0;34m.\u001b[0m\u001b[0mdim_1\u001b[0m \u001b[0;34m+\u001b[0m \u001b[0mself\u001b[0m\u001b[0;34m.\u001b[0m\u001b[0mdim_2\u001b[0m \u001b[0;34m+\u001b[0m \u001b[0mself\u001b[0m\u001b[0;34m.\u001b[0m\u001b[0mdim_3\u001b[0m \u001b[0;34m+\u001b[0m \u001b[0mself\u001b[0m\u001b[0;34m.\u001b[0m\u001b[0mdim_4\u001b[0m \u001b[0;34m+\u001b[0m \u001b[0mself\u001b[0m\u001b[0;34m.\u001b[0m\u001b[0mdim_5\u001b[0m \u001b[0;34m+\u001b[0m \u001b[0mself\u001b[0m\u001b[0;34m.\u001b[0m\u001b[0mdim_6\u001b[0m \u001b[0;34m+\u001b[0m \u001b[0mself\u001b[0m\u001b[0;34m.\u001b[0m\u001b[0mdim_7\u001b[0m\u001b[0;34m\u001b[0m\u001b[0;34m\u001b[0m\u001b[0m\n\u001b[0;32m---> 95\u001b[0;31m         \u001b[0;32mreturn\u001b[0m \u001b[0mself\u001b[0m\u001b[0;34m.\u001b[0m\u001b[0mW_o\u001b[0m\u001b[0;34m(\u001b[0m\u001b[0massemble\u001b[0m\u001b[0;34m(\u001b[0m\u001b[0moutput_concat\u001b[0m\u001b[0;34m,\u001b[0m \u001b[0mlist_concat\u001b[0m\u001b[0;34m)\u001b[0m\u001b[0;34m)\u001b[0m\u001b[0;34m\u001b[0m\u001b[0;34m\u001b[0m\u001b[0m\n\u001b[0m",
      "\u001b[0;32m/tmp/ipykernel_533/1611395956.py\u001b[0m in \u001b[0;36massemble\u001b[0;34m(output_concat, list_concat)\u001b[0m\n\u001b[1;32m     52\u001b[0m             \u001b[0mreslist\u001b[0m \u001b[0;34m=\u001b[0m \u001b[0;34m[\u001b[0m\u001b[0;34m]\u001b[0m\u001b[0;34m\u001b[0m\u001b[0;34m\u001b[0m\u001b[0m\n\u001b[1;32m     53\u001b[0m             \u001b[0;32mfor\u001b[0m \u001b[0mi\u001b[0m \u001b[0;32min\u001b[0m \u001b[0mrange\u001b[0m\u001b[0;34m(\u001b[0m\u001b[0;36m512\u001b[0m\u001b[0;34m)\u001b[0m\u001b[0;34m:\u001b[0m\u001b[0;34m\u001b[0m\u001b[0;34m\u001b[0m\u001b[0m\n\u001b[0;32m---> 54\u001b[0;31m                 \u001b[0mreslist\u001b[0m\u001b[0;34m.\u001b[0m\u001b[0mappend\u001b[0m\u001b[0;34m(\u001b[0m\u001b[0mlist_concat\u001b[0m\u001b[0;34m.\u001b[0m\u001b[0mindex\u001b[0m\u001b[0;34m(\u001b[0m\u001b[0mi\u001b[0m\u001b[0;34m)\u001b[0m\u001b[0;34m)\u001b[0m\u001b[0;34m\u001b[0m\u001b[0;34m\u001b[0m\u001b[0m\n\u001b[0m\u001b[1;32m     55\u001b[0m             \u001b[0;32mreturn\u001b[0m \u001b[0mtorch\u001b[0m\u001b[0;34m.\u001b[0m\u001b[0mindex_select\u001b[0m\u001b[0;34m(\u001b[0m\u001b[0moutput_concat\u001b[0m\u001b[0;34m,\u001b[0m \u001b[0;34m-\u001b[0m\u001b[0;36m1\u001b[0m\u001b[0;34m,\u001b[0m \u001b[0mtorch\u001b[0m\u001b[0;34m.\u001b[0m\u001b[0mtensor\u001b[0m\u001b[0;34m(\u001b[0m\u001b[0mreslist\u001b[0m\u001b[0;34m,\u001b[0m \u001b[0mdevice\u001b[0m\u001b[0;34m=\u001b[0m\u001b[0moutput_concat\u001b[0m\u001b[0;34m.\u001b[0m\u001b[0mdevice\u001b[0m\u001b[0;34m)\u001b[0m\u001b[0;34m)\u001b[0m\u001b[0;34m\u001b[0m\u001b[0;34m\u001b[0m\u001b[0m\n\u001b[1;32m     56\u001b[0m \u001b[0;34m\u001b[0m\u001b[0m\n",
      "\u001b[0;31mKeyboardInterrupt\u001b[0m: "
     ]
    }
   ],
   "source": [
    "# 以‘微调’的模式进行训练\n",
    "# 21,756,091 total parameters.\n",
    "loss = nn.CrossEntropyLoss(reduction='none')\n",
    "forward_params = [\n",
    "    param for name, param in net.named_parameters()\n",
    "    if name != \"embedding.weight\"]\n",
    "trainer = torch.optim.Adam(\n",
    "    [{'params': net.embedding.parameters()},\n",
    "    {'params': forward_params,\n",
    "    'lr': lr * 10}], lr=lr)\n",
    "# animator = d2l.Animator(xlabel='epoch', xlim=[1, num_epochs], ylim=[0, 1],\n",
    "#         legend=['train loss', 'train acc'])\n",
    "net.to(device)\n",
    "\n",
    "num_batches = len(train_iter)\n",
    "losses, train_accuracy, test_accuracy = [], [], []\n",
    "total_start = time.time()\n",
    "for epoch in range(num_epochs):\n",
    "    # metric = d2l.Accumulator(4)\n",
    "    train_loss, train_acc = 0, 0\n",
    "    start_time = time.perf_counter()\n",
    "    net.train()\n",
    "    for index, data in tqdm(enumerate(train_iter), total=num_batches, leave = True):\n",
    "        X, valid_len, y = [v.to(device) for v in data]\n",
    "        l = loss(net(X, valid_len), y)\n",
    "        trainer.zero_grad()\n",
    "        l.sum().backward()\n",
    "        trainer.step()\n",
    "        # metric.add(l.sum(), d2l.accuracy(net(X, valid_len), y), labels.shape[0])\n",
    "        train_loss += l.sum().cpu().detach().numpy() / batch_size\n",
    "        train_acc += d2l.accuracy(net(X, valid_len), y) / batch_size\n",
    "    epochloss, epochtrain, epochtest = train_loss / num_batches, train_acc / num_batches, evaluate_accuracy_gpu(net, test_iter)\n",
    "    end_time = time.perf_counter()\n",
    "    print(f'epoch {epoch + 1}, loss {epochloss:.3f}, train_acc {epochtrain:.3f}, '\n",
    "         f'test_acc {epochtest:.3f}, taking {round(end_time - start_time)} seconds')\n",
    "    losses.append(epochloss)\n",
    "    train_accuracy.append(epochtrain)\n",
    "    test_accuracy.append(epochtest)\n",
    "total_timecost = round(time.time() - total_start)\n",
    "print('Training is finished.')\n",
    "print(f'训练损失:{losses[-1]:.3f}, 训练集准确率:{train_accuracy[-1]:.3f}, '\n",
    "      f'测试集准确率:{test_accuracy[-1]:.3f}'\n",
    "     f'在设备{device}上训练{num_epochs}周期 耗时{total_timecost}s')"
   ]
  },
  {
   "cell_type": "markdown",
   "id": "0826c891-a8bb-4a20-806d-bb89e36d56da",
   "metadata": {},
   "source": [
    "# 训练6(单层编码器, ReLU激活)"
   ]
  },
  {
   "cell_type": "code",
   "execution_count": 15,
   "id": "e8b2980d-f553-4ff1-8c71-bc44f33135c7",
   "metadata": {},
   "outputs": [
    {
     "name": "stderr",
     "output_type": "stream",
     "text": [
      "100%|██████████| 391/391 [00:58<00:00,  6.67it/s]\n"
     ]
    },
    {
     "name": "stdout",
     "output_type": "stream",
     "text": [
      "epoch 1, loss 0.721, train_acc 0.542, test_acc 0.553, taking 74 seconds\n"
     ]
    },
    {
     "name": "stderr",
     "output_type": "stream",
     "text": [
      "100%|██████████| 391/391 [00:58<00:00,  6.67it/s]\n"
     ]
    },
    {
     "name": "stdout",
     "output_type": "stream",
     "text": [
      "epoch 2, loss 0.617, train_acc 0.655, test_acc 0.734, taking 74 seconds\n"
     ]
    },
    {
     "name": "stderr",
     "output_type": "stream",
     "text": [
      "100%|██████████| 391/391 [00:58<00:00,  6.69it/s]\n"
     ]
    },
    {
     "name": "stdout",
     "output_type": "stream",
     "text": [
      "epoch 3, loss 0.563, train_acc 0.721, test_acc 0.753, taking 74 seconds\n"
     ]
    },
    {
     "name": "stderr",
     "output_type": "stream",
     "text": [
      "100%|██████████| 391/391 [00:58<00:00,  6.70it/s]\n"
     ]
    },
    {
     "name": "stdout",
     "output_type": "stream",
     "text": [
      "epoch 4, loss 0.550, train_acc 0.733, test_acc 0.746, taking 74 seconds\n"
     ]
    },
    {
     "name": "stderr",
     "output_type": "stream",
     "text": [
      "100%|██████████| 391/391 [00:58<00:00,  6.68it/s]\n"
     ]
    },
    {
     "name": "stdout",
     "output_type": "stream",
     "text": [
      "epoch 5, loss 0.549, train_acc 0.733, test_acc 0.751, taking 74 seconds\n"
     ]
    },
    {
     "name": "stderr",
     "output_type": "stream",
     "text": [
      "100%|██████████| 391/391 [00:58<00:00,  6.67it/s]\n"
     ]
    },
    {
     "name": "stdout",
     "output_type": "stream",
     "text": [
      "epoch 6, loss 0.542, train_acc 0.734, test_acc 0.744, taking 74 seconds\n"
     ]
    },
    {
     "name": "stderr",
     "output_type": "stream",
     "text": [
      "100%|██████████| 391/391 [00:58<00:00,  6.69it/s]\n"
     ]
    },
    {
     "name": "stdout",
     "output_type": "stream",
     "text": [
      "epoch 7, loss 0.543, train_acc 0.730, test_acc 0.753, taking 74 seconds\n"
     ]
    },
    {
     "name": "stderr",
     "output_type": "stream",
     "text": [
      "100%|██████████| 391/391 [00:58<00:00,  6.65it/s]\n"
     ]
    },
    {
     "name": "stdout",
     "output_type": "stream",
     "text": [
      "epoch 8, loss 0.531, train_acc 0.742, test_acc 0.749, taking 74 seconds\n"
     ]
    },
    {
     "name": "stderr",
     "output_type": "stream",
     "text": [
      "100%|██████████| 391/391 [00:58<00:00,  6.68it/s]\n"
     ]
    },
    {
     "name": "stdout",
     "output_type": "stream",
     "text": [
      "epoch 9, loss 0.522, train_acc 0.747, test_acc 0.770, taking 74 seconds\n"
     ]
    },
    {
     "name": "stderr",
     "output_type": "stream",
     "text": [
      "100%|██████████| 391/391 [00:58<00:00,  6.66it/s]\n"
     ]
    },
    {
     "name": "stdout",
     "output_type": "stream",
     "text": [
      "epoch 10, loss 0.519, train_acc 0.745, test_acc 0.743, taking 73 seconds\n"
     ]
    },
    {
     "name": "stderr",
     "output_type": "stream",
     "text": [
      "100%|██████████| 391/391 [00:58<00:00,  6.65it/s]\n"
     ]
    },
    {
     "name": "stdout",
     "output_type": "stream",
     "text": [
      "epoch 11, loss 0.510, train_acc 0.757, test_acc 0.786, taking 74 seconds\n"
     ]
    },
    {
     "name": "stderr",
     "output_type": "stream",
     "text": [
      "100%|██████████| 391/391 [00:58<00:00,  6.67it/s]\n"
     ]
    },
    {
     "name": "stdout",
     "output_type": "stream",
     "text": [
      "epoch 12, loss 0.503, train_acc 0.763, test_acc 0.779, taking 74 seconds\n"
     ]
    },
    {
     "name": "stderr",
     "output_type": "stream",
     "text": [
      "100%|██████████| 391/391 [00:58<00:00,  6.69it/s]\n"
     ]
    },
    {
     "name": "stdout",
     "output_type": "stream",
     "text": [
      "epoch 13, loss 0.505, train_acc 0.759, test_acc 0.780, taking 74 seconds\n"
     ]
    },
    {
     "name": "stderr",
     "output_type": "stream",
     "text": [
      "100%|██████████| 391/391 [00:58<00:00,  6.66it/s]\n"
     ]
    },
    {
     "name": "stdout",
     "output_type": "stream",
     "text": [
      "epoch 14, loss 0.497, train_acc 0.764, test_acc 0.783, taking 75 seconds\n"
     ]
    },
    {
     "name": "stderr",
     "output_type": "stream",
     "text": [
      "100%|██████████| 391/391 [00:58<00:00,  6.69it/s]\n"
     ]
    },
    {
     "name": "stdout",
     "output_type": "stream",
     "text": [
      "epoch 15, loss 0.497, train_acc 0.767, test_acc 0.774, taking 74 seconds\n"
     ]
    },
    {
     "name": "stderr",
     "output_type": "stream",
     "text": [
      "100%|██████████| 391/391 [00:59<00:00,  6.63it/s]\n"
     ]
    },
    {
     "name": "stdout",
     "output_type": "stream",
     "text": [
      "epoch 16, loss 0.513, train_acc 0.751, test_acc 0.772, taking 74 seconds\n"
     ]
    },
    {
     "name": "stderr",
     "output_type": "stream",
     "text": [
      "100%|██████████| 391/391 [00:58<00:00,  6.64it/s]\n"
     ]
    },
    {
     "name": "stdout",
     "output_type": "stream",
     "text": [
      "epoch 17, loss 0.506, train_acc 0.754, test_acc 0.784, taking 74 seconds\n"
     ]
    },
    {
     "name": "stderr",
     "output_type": "stream",
     "text": [
      "100%|██████████| 391/391 [00:57<00:00,  6.78it/s]\n"
     ]
    },
    {
     "name": "stdout",
     "output_type": "stream",
     "text": [
      "epoch 18, loss 0.497, train_acc 0.765, test_acc 0.784, taking 73 seconds\n"
     ]
    },
    {
     "name": "stderr",
     "output_type": "stream",
     "text": [
      "100%|██████████| 391/391 [00:58<00:00,  6.74it/s]\n"
     ]
    },
    {
     "name": "stdout",
     "output_type": "stream",
     "text": [
      "epoch 19, loss 0.495, train_acc 0.766, test_acc 0.780, taking 73 seconds\n"
     ]
    },
    {
     "name": "stderr",
     "output_type": "stream",
     "text": [
      "100%|██████████| 391/391 [00:57<00:00,  6.76it/s]\n"
     ]
    },
    {
     "name": "stdout",
     "output_type": "stream",
     "text": [
      "epoch 20, loss 0.491, train_acc 0.769, test_acc 0.786, taking 73 seconds\n"
     ]
    },
    {
     "name": "stderr",
     "output_type": "stream",
     "text": [
      "100%|██████████| 391/391 [00:58<00:00,  6.74it/s]\n"
     ]
    },
    {
     "name": "stdout",
     "output_type": "stream",
     "text": [
      "epoch 21, loss 0.487, train_acc 0.771, test_acc 0.791, taking 73 seconds\n"
     ]
    },
    {
     "name": "stderr",
     "output_type": "stream",
     "text": [
      "100%|██████████| 391/391 [00:57<00:00,  6.77it/s]\n"
     ]
    },
    {
     "name": "stdout",
     "output_type": "stream",
     "text": [
      "epoch 22, loss 0.488, train_acc 0.771, test_acc 0.789, taking 73 seconds\n"
     ]
    },
    {
     "name": "stderr",
     "output_type": "stream",
     "text": [
      "100%|██████████| 391/391 [00:57<00:00,  6.77it/s]\n"
     ]
    },
    {
     "name": "stdout",
     "output_type": "stream",
     "text": [
      "epoch 23, loss 0.483, train_acc 0.774, test_acc 0.786, taking 73 seconds\n"
     ]
    },
    {
     "name": "stderr",
     "output_type": "stream",
     "text": [
      "100%|██████████| 391/391 [00:57<00:00,  6.78it/s]\n"
     ]
    },
    {
     "name": "stdout",
     "output_type": "stream",
     "text": [
      "epoch 24, loss 0.484, train_acc 0.769, test_acc 0.786, taking 73 seconds\n"
     ]
    },
    {
     "name": "stderr",
     "output_type": "stream",
     "text": [
      "100%|██████████| 391/391 [00:58<00:00,  6.73it/s]\n"
     ]
    },
    {
     "name": "stdout",
     "output_type": "stream",
     "text": [
      "epoch 25, loss 0.481, train_acc 0.778, test_acc 0.788, taking 73 seconds\n"
     ]
    },
    {
     "name": "stderr",
     "output_type": "stream",
     "text": [
      "100%|██████████| 391/391 [00:58<00:00,  6.72it/s]\n"
     ]
    },
    {
     "name": "stdout",
     "output_type": "stream",
     "text": [
      "epoch 26, loss 0.482, train_acc 0.774, test_acc 0.736, taking 73 seconds\n"
     ]
    },
    {
     "name": "stderr",
     "output_type": "stream",
     "text": [
      "100%|██████████| 391/391 [00:58<00:00,  6.69it/s]\n"
     ]
    },
    {
     "name": "stdout",
     "output_type": "stream",
     "text": [
      "epoch 27, loss 0.558, train_acc 0.720, test_acc 0.740, taking 74 seconds\n"
     ]
    },
    {
     "name": "stderr",
     "output_type": "stream",
     "text": [
      "100%|██████████| 391/391 [00:57<00:00,  6.75it/s]\n"
     ]
    },
    {
     "name": "stdout",
     "output_type": "stream",
     "text": [
      "epoch 28, loss 0.505, train_acc 0.759, test_acc 0.794, taking 73 seconds\n"
     ]
    },
    {
     "name": "stderr",
     "output_type": "stream",
     "text": [
      "100%|██████████| 391/391 [00:58<00:00,  6.72it/s]\n"
     ]
    },
    {
     "name": "stdout",
     "output_type": "stream",
     "text": [
      "epoch 29, loss 0.474, train_acc 0.781, test_acc 0.795, taking 73 seconds\n"
     ]
    },
    {
     "name": "stderr",
     "output_type": "stream",
     "text": [
      "100%|██████████| 391/391 [00:58<00:00,  6.72it/s]\n"
     ]
    },
    {
     "name": "stdout",
     "output_type": "stream",
     "text": [
      "epoch 30, loss 0.476, train_acc 0.776, test_acc 0.790, taking 73 seconds\n"
     ]
    },
    {
     "name": "stderr",
     "output_type": "stream",
     "text": [
      "100%|██████████| 391/391 [00:58<00:00,  6.72it/s]\n"
     ]
    },
    {
     "name": "stdout",
     "output_type": "stream",
     "text": [
      "epoch 31, loss 0.487, train_acc 0.773, test_acc 0.784, taking 73 seconds\n"
     ]
    },
    {
     "name": "stderr",
     "output_type": "stream",
     "text": [
      "100%|██████████| 391/391 [00:58<00:00,  6.72it/s]\n"
     ]
    },
    {
     "name": "stdout",
     "output_type": "stream",
     "text": [
      "epoch 32, loss 0.496, train_acc 0.768, test_acc 0.785, taking 73 seconds\n"
     ]
    },
    {
     "name": "stderr",
     "output_type": "stream",
     "text": [
      "100%|██████████| 391/391 [00:56<00:00,  6.88it/s]\n"
     ]
    },
    {
     "name": "stdout",
     "output_type": "stream",
     "text": [
      "epoch 33, loss 0.494, train_acc 0.774, test_acc 0.784, taking 72 seconds\n"
     ]
    },
    {
     "name": "stderr",
     "output_type": "stream",
     "text": [
      "100%|██████████| 391/391 [00:58<00:00,  6.71it/s]\n"
     ]
    },
    {
     "name": "stdout",
     "output_type": "stream",
     "text": [
      "epoch 34, loss 0.490, train_acc 0.770, test_acc 0.787, taking 73 seconds\n"
     ]
    },
    {
     "name": "stderr",
     "output_type": "stream",
     "text": [
      "100%|██████████| 391/391 [00:57<00:00,  6.75it/s]\n"
     ]
    },
    {
     "name": "stdout",
     "output_type": "stream",
     "text": [
      "epoch 35, loss 0.490, train_acc 0.773, test_acc 0.784, taking 73 seconds\n"
     ]
    },
    {
     "name": "stderr",
     "output_type": "stream",
     "text": [
      "100%|██████████| 391/391 [00:58<00:00,  6.69it/s]\n"
     ]
    },
    {
     "name": "stdout",
     "output_type": "stream",
     "text": [
      "epoch 36, loss 0.487, train_acc 0.766, test_acc 0.783, taking 73 seconds\n"
     ]
    },
    {
     "name": "stderr",
     "output_type": "stream",
     "text": [
      "100%|██████████| 391/391 [00:57<00:00,  6.80it/s]\n"
     ]
    },
    {
     "name": "stdout",
     "output_type": "stream",
     "text": [
      "epoch 37, loss 0.489, train_acc 0.768, test_acc 0.783, taking 72 seconds\n"
     ]
    },
    {
     "name": "stderr",
     "output_type": "stream",
     "text": [
      "100%|██████████| 391/391 [00:57<00:00,  6.85it/s]\n"
     ]
    },
    {
     "name": "stdout",
     "output_type": "stream",
     "text": [
      "epoch 38, loss 0.486, train_acc 0.774, test_acc 0.788, taking 72 seconds\n"
     ]
    },
    {
     "name": "stderr",
     "output_type": "stream",
     "text": [
      "100%|██████████| 391/391 [00:58<00:00,  6.73it/s]\n"
     ]
    },
    {
     "name": "stdout",
     "output_type": "stream",
     "text": [
      "epoch 39, loss 0.496, train_acc 0.771, test_acc 0.786, taking 73 seconds\n"
     ]
    },
    {
     "name": "stderr",
     "output_type": "stream",
     "text": [
      "100%|██████████| 391/391 [00:57<00:00,  6.77it/s]\n"
     ]
    },
    {
     "name": "stdout",
     "output_type": "stream",
     "text": [
      "epoch 40, loss 0.490, train_acc 0.769, test_acc 0.787, taking 73 seconds\n"
     ]
    },
    {
     "name": "stderr",
     "output_type": "stream",
     "text": [
      "100%|██████████| 391/391 [00:57<00:00,  6.86it/s]\n"
     ]
    },
    {
     "name": "stdout",
     "output_type": "stream",
     "text": [
      "epoch 41, loss 0.485, train_acc 0.776, test_acc 0.790, taking 72 seconds\n"
     ]
    },
    {
     "name": "stderr",
     "output_type": "stream",
     "text": [
      "100%|██████████| 391/391 [00:57<00:00,  6.77it/s]\n"
     ]
    },
    {
     "name": "stdout",
     "output_type": "stream",
     "text": [
      "epoch 42, loss 0.485, train_acc 0.780, test_acc 0.790, taking 72 seconds\n"
     ]
    },
    {
     "name": "stderr",
     "output_type": "stream",
     "text": [
      "100%|██████████| 391/391 [00:57<00:00,  6.77it/s]\n"
     ]
    },
    {
     "name": "stdout",
     "output_type": "stream",
     "text": [
      "epoch 43, loss 0.477, train_acc 0.776, test_acc 0.794, taking 73 seconds\n"
     ]
    },
    {
     "name": "stderr",
     "output_type": "stream",
     "text": [
      "100%|██████████| 391/391 [00:58<00:00,  6.74it/s]\n"
     ]
    },
    {
     "name": "stdout",
     "output_type": "stream",
     "text": [
      "epoch 44, loss 0.467, train_acc 0.784, test_acc 0.797, taking 73 seconds\n"
     ]
    },
    {
     "name": "stderr",
     "output_type": "stream",
     "text": [
      "100%|██████████| 391/391 [00:58<00:00,  6.70it/s]\n"
     ]
    },
    {
     "name": "stdout",
     "output_type": "stream",
     "text": [
      "epoch 45, loss 0.466, train_acc 0.784, test_acc 0.793, taking 74 seconds\n"
     ]
    },
    {
     "name": "stderr",
     "output_type": "stream",
     "text": [
      "100%|██████████| 391/391 [00:57<00:00,  6.74it/s]\n"
     ]
    },
    {
     "name": "stdout",
     "output_type": "stream",
     "text": [
      "epoch 46, loss 0.468, train_acc 0.788, test_acc 0.796, taking 73 seconds\n"
     ]
    },
    {
     "name": "stderr",
     "output_type": "stream",
     "text": [
      "100%|██████████| 391/391 [00:58<00:00,  6.70it/s]\n"
     ]
    },
    {
     "name": "stdout",
     "output_type": "stream",
     "text": [
      "epoch 47, loss 0.469, train_acc 0.785, test_acc 0.791, taking 74 seconds\n"
     ]
    },
    {
     "name": "stderr",
     "output_type": "stream",
     "text": [
      "100%|██████████| 391/391 [00:58<00:00,  6.68it/s]\n"
     ]
    },
    {
     "name": "stdout",
     "output_type": "stream",
     "text": [
      "epoch 48, loss 0.485, train_acc 0.774, test_acc 0.777, taking 74 seconds\n"
     ]
    },
    {
     "name": "stderr",
     "output_type": "stream",
     "text": [
      "100%|██████████| 391/391 [00:58<00:00,  6.69it/s]\n"
     ]
    },
    {
     "name": "stdout",
     "output_type": "stream",
     "text": [
      "epoch 49, loss 0.502, train_acc 0.765, test_acc 0.776, taking 74 seconds\n"
     ]
    },
    {
     "name": "stderr",
     "output_type": "stream",
     "text": [
      "100%|██████████| 391/391 [00:58<00:00,  6.70it/s]\n"
     ]
    },
    {
     "name": "stdout",
     "output_type": "stream",
     "text": [
      "epoch 50, loss 0.495, train_acc 0.770, test_acc 0.779, taking 73 seconds\n"
     ]
    },
    {
     "name": "stderr",
     "output_type": "stream",
     "text": [
      "100%|██████████| 391/391 [00:56<00:00,  6.93it/s]\n"
     ]
    },
    {
     "name": "stdout",
     "output_type": "stream",
     "text": [
      "epoch 51, loss 0.501, train_acc 0.764, test_acc 0.779, taking 72 seconds\n"
     ]
    },
    {
     "name": "stderr",
     "output_type": "stream",
     "text": [
      "100%|██████████| 391/391 [00:57<00:00,  6.74it/s]\n"
     ]
    },
    {
     "name": "stdout",
     "output_type": "stream",
     "text": [
      "epoch 52, loss 0.500, train_acc 0.762, test_acc 0.775, taking 73 seconds\n"
     ]
    },
    {
     "name": "stderr",
     "output_type": "stream",
     "text": [
      "100%|██████████| 391/391 [00:57<00:00,  6.77it/s]\n"
     ]
    },
    {
     "name": "stdout",
     "output_type": "stream",
     "text": [
      "epoch 53, loss 0.506, train_acc 0.758, test_acc 0.777, taking 73 seconds\n"
     ]
    },
    {
     "name": "stderr",
     "output_type": "stream",
     "text": [
      "100%|██████████| 391/391 [00:58<00:00,  6.73it/s]\n"
     ]
    },
    {
     "name": "stdout",
     "output_type": "stream",
     "text": [
      "epoch 54, loss 0.502, train_acc 0.765, test_acc 0.780, taking 73 seconds\n"
     ]
    },
    {
     "name": "stderr",
     "output_type": "stream",
     "text": [
      "100%|██████████| 391/391 [00:58<00:00,  6.73it/s]\n"
     ]
    },
    {
     "name": "stdout",
     "output_type": "stream",
     "text": [
      "epoch 55, loss 0.502, train_acc 0.763, test_acc 0.778, taking 73 seconds\n"
     ]
    },
    {
     "name": "stderr",
     "output_type": "stream",
     "text": [
      "100%|██████████| 391/391 [00:58<00:00,  6.69it/s]\n"
     ]
    },
    {
     "name": "stdout",
     "output_type": "stream",
     "text": [
      "epoch 56, loss 0.509, train_acc 0.760, test_acc 0.778, taking 73 seconds\n"
     ]
    },
    {
     "name": "stderr",
     "output_type": "stream",
     "text": [
      "100%|██████████| 391/391 [00:58<00:00,  6.71it/s]\n"
     ]
    },
    {
     "name": "stdout",
     "output_type": "stream",
     "text": [
      "epoch 57, loss 0.499, train_acc 0.767, test_acc 0.782, taking 73 seconds\n"
     ]
    },
    {
     "name": "stderr",
     "output_type": "stream",
     "text": [
      "100%|██████████| 391/391 [00:57<00:00,  6.80it/s]\n"
     ]
    },
    {
     "name": "stdout",
     "output_type": "stream",
     "text": [
      "epoch 58, loss 0.498, train_acc 0.765, test_acc 0.781, taking 72 seconds\n"
     ]
    },
    {
     "name": "stderr",
     "output_type": "stream",
     "text": [
      "100%|██████████| 391/391 [00:58<00:00,  6.72it/s]\n"
     ]
    },
    {
     "name": "stdout",
     "output_type": "stream",
     "text": [
      "epoch 59, loss 0.505, train_acc 0.764, test_acc 0.780, taking 73 seconds\n"
     ]
    },
    {
     "name": "stderr",
     "output_type": "stream",
     "text": [
      "100%|██████████| 391/391 [00:57<00:00,  6.75it/s]\n"
     ]
    },
    {
     "name": "stdout",
     "output_type": "stream",
     "text": [
      "epoch 60, loss 0.500, train_acc 0.764, test_acc 0.785, taking 73 seconds\n",
      "Training is finished.\n",
      "训练损失:0.500, 训练集准确率:0.764, 测试集准确率:0.785 在设备cuda:0上训练60周期 耗时4391 s\n"
     ]
    }
   ],
   "source": [
    "# 以‘微调’的模式进行训练\n",
    "# activation function: nn.ReLU()\n",
    "# 24,492,514 total parameters.\n",
    "loss = nn.CrossEntropyLoss(reduction='none')\n",
    "forward_params = [\n",
    "    param for name, param in net.named_parameters()\n",
    "    if name != \"embedding.weight\"]\n",
    "trainer = torch.optim.Adam(\n",
    "    [{'params': net.embedding.parameters()},\n",
    "    {'params': forward_params,\n",
    "    'lr': lr * 10}], lr=lr)\n",
    "# animator = d2l.Animator(xlabel='epoch', xlim=[1, num_epochs], ylim=[0, 1],\n",
    "#         legend=['train loss', 'train acc'])\n",
    "net.to(device)\n",
    "\n",
    "num_batches = len(train_iter)\n",
    "losses, train_accuracy, test_accuracy = [], [], []\n",
    "total_start = time.time()\n",
    "for epoch in range(num_epochs):\n",
    "    # metric = d2l.Accumulator(4)\n",
    "    train_loss, train_acc = 0, 0\n",
    "    start_time = time.perf_counter()\n",
    "    net.train()\n",
    "    for index, data in tqdm(enumerate(train_iter), total=num_batches, leave = True):\n",
    "        X, valid_len, y = [v.to(device) for v in data]\n",
    "        l = loss(net(X, valid_len), y)\n",
    "        trainer.zero_grad()\n",
    "        l.sum().backward()\n",
    "        trainer.step()\n",
    "        # metric.add(l.sum(), d2l.accuracy(net(X, valid_len), y), labels.shape[0])\n",
    "        train_loss += l.sum().cpu().detach().numpy() / batch_size\n",
    "        train_acc += d2l.accuracy(net(X, valid_len), y) / batch_size\n",
    "    epochloss, epochtrain, epochtest = train_loss / num_batches, train_acc / num_batches, evaluate_accuracy_gpu(net, test_iter)\n",
    "    end_time = time.perf_counter()\n",
    "    print(f'epoch {epoch + 1}, loss {epochloss:.3f}, train_acc {epochtrain:.3f}, '\n",
    "         f'test_acc {epochtest:.3f}, taking {round(end_time - start_time)} seconds')\n",
    "    losses.append(epochloss)\n",
    "    train_accuracy.append(epochtrain)\n",
    "    test_accuracy.append(epochtest)\n",
    "total_timecost = round(time.time() - total_start)\n",
    "print('Training is finished.')\n",
    "print(f'训练损失:{losses[-1]:.3f}, 训练集准确率:{train_accuracy[-1]:.3f}, '\n",
    "      f'测试集准确率:{test_accuracy[-1]:.3f}, '\n",
    "     f'在设备{device}上训练{num_epochs}周期, 耗时{total_timecost} s')"
   ]
  },
  {
   "cell_type": "code",
   "execution_count": 24,
   "id": "428ff624-ba49-4d35-a657-8956f57e8ede",
   "metadata": {},
   "outputs": [
    {
     "data": {
      "image/png": "[encoded data removed]",
      "text/plain": [
       "<Figure size 640x480 with 1 Axes>"
      ]
     },
     "metadata": {},
     "output_type": "display_data"
    }
   ],
   "source": [
    "fig = plt.figure()\n",
    "plt.title('train loss and accuracy')\n",
    "plt.axis([0, 60, 0, 1])\n",
    "epochs = np.arange(1, num_epochs + 1)\n",
    "# losses, train_accuracy, test_accuracy\n",
    "plt.plot(epochs, losses, 'r.-', label='loss')\n",
    "plt.plot(epochs, train_accuracy, 'g-.', label='train_acc')\n",
    "plt.plot(epochs, test_accuracy, 'b-.', label='test_acc')\n",
    "plt.grid()\n",
    "plt.legend(loc='best', frameon=False)\n",
    "plt.show()"
   ]
  },
  {
   "cell_type": "code",
   "execution_count": 22,
   "id": "c58ba2d8-24c6-413f-93a8-e879067826fd",
   "metadata": {},
   "outputs": [
    {
     "data": {
      "text/plain": [
       "(0.7880434782608695, 0.79748)"
      ]
     },
     "execution_count": 22,
     "metadata": {},
     "output_type": "execute_result"
    }
   ],
   "source": [
    "max(train_accuracy), max(test_accuracy)"
   ]
  },
  {
   "cell_type": "markdown",
   "id": "b37575fe-0d30-4ec6-9b05-5fc340b82e14",
   "metadata": {},
   "source": [
    "# 对比训练1(常规多头两层)"
   ]
  },
  {
   "cell_type": "code",
   "execution_count": 8,
   "id": "34972864-fda8-4115-b122-b02262dee34f",
   "metadata": {},
   "outputs": [],
   "source": [
    "class TransformerEncoder(d2l.Encoder):\n",
    "    \"\"\"transformer编码器\"\"\"\n",
    "    def __init__(self, vocab_size, key_size, query_size, value_size,\n",
    "                 num_hiddens, norm_shape, ffn_num_input, ffn_num_hiddens,\n",
    "                 num_heads, num_layers, dropout, num_output, use_bias=False, **kwargs):\n",
    "        super(TransformerEncoder, self).__init__(**kwargs)\n",
    "        self.num_hiddens = num_hiddens\n",
    "        self.embedding = nn.Embedding(vocab_size, num_hiddens)\n",
    "        self.pos_encoding = d2l.PositionalEncoding(num_hiddens, dropout)\n",
    "        self.blks = nn.Sequential()\n",
    "        self.outhidden = nn.Sequential(\n",
    "                                    nn.Linear(num_hiddens, num_hiddens),\n",
    "                                    nn.ReLU())\n",
    "        self.Dense = nn.Linear(num_hiddens, num_output)\n",
    "        for i in range(num_layers):\n",
    "            self.blks.add_module(\"block\"+str(i),\n",
    "                d2l.EncoderBlock(key_size, query_size, value_size, num_hiddens,\n",
    "                             norm_shape, ffn_num_input, ffn_num_hiddens,\n",
    "                             num_heads, dropout, use_bias))\n",
    "\n",
    "    def forward(self, X, valid_lens, *args):\n",
    "        # 因为位置编码值在-1和1之间，\n",
    "        # 因此嵌入值乘以嵌入维度的平方根进行缩放，\n",
    "        # 然后再与位置编码相加。\n",
    "        X = self.pos_encoding(self.embedding(X) * math.sqrt(self.num_hiddens))\n",
    "        self.attention_weights = [None] * len(self.blks)\n",
    "        for i, blk in enumerate(self.blks):\n",
    "            X = blk(X, valid_lens)\n",
    "            self.attention_weights[\n",
    "                i] = blk.attention.attention.attention_weights\n",
    "        # 取句首'cls'token的向量用于情感分类\n",
    "        return self.Dense(self.outhidden(X[:, 0, :]))"
   ]
  },
  {
   "cell_type": "code",
   "execution_count": 13,
   "id": "26952ed1-f802-4abb-a8f1-7fe2403a7aa2",
   "metadata": {},
   "outputs": [],
   "source": [
    "num_hiddens, num_layers, dropout, batch_size, num_output = 512, 2, 0.1, 64, 2\n",
    "lr, num_epochs, device = 5e-5, 60, d2l.try_gpu()\n",
    "ffn_num_input, ffn_num_hiddens, num_heads = 512, 2048, 8\n",
    "key_size, query_size, value_size = 512, 512, 512\n",
    "norm_shape = [512]"
   ]
  },
  {
   "cell_type": "code",
   "execution_count": 14,
   "id": "ea3af5e5-710f-4fc4-bb50-36807e888d83",
   "metadata": {},
   "outputs": [
    {
     "name": "stdout",
     "output_type": "stream",
     "text": [
      "25,842,178 total parameters.\n",
      "25,842,178 training parameters.\n"
     ]
    }
   ],
   "source": [
    "net = TransformerEncoder(\n",
    "    len(vocab), key_size, query_size, value_size, num_hiddens,\n",
    "    norm_shape, ffn_num_input, ffn_num_hiddens, num_heads,\n",
    "    num_layers, dropout, num_output)\n",
    "\n",
    "total_params = sum(p.numel() for p in net.parameters())\n",
    "print(f'{total_params:,} total parameters.')\n",
    "total_trainable_params = sum(p.numel() for p in net.parameters() if p.requires_grad)\n",
    "print(f'{total_trainable_params:,} training parameters.')"
   ]
  },
  {
   "cell_type": "code",
   "execution_count": 18,
   "id": "84cf381c-1447-457a-b154-a822b8df618b",
   "metadata": {},
   "outputs": [],
   "source": [
    "file_path = 'autodl-tmp/'"
   ]
  },
  {
   "cell_type": "code",
   "execution_count": 23,
   "id": "c5367432-82f0-4ef4-b392-f91f789105ca",
   "metadata": {},
   "outputs": [
    {
     "data": {
      "text/plain": [
       "TransformerEncoder(\n",
       "  (embedding): Embedding(37652, 512)\n",
       "  (pos_encoding): PositionalEncoding(\n",
       "    (dropout): Dropout(p=0.1, inplace=False)\n",
       "  )\n",
       "  (blks): Sequential(\n",
       "    (block0): EncoderBlock(\n",
       "      (attention): MultiHeadAttention(\n",
       "        (attention): DotProductAttention(\n",
       "          (dropout): Dropout(p=0.1, inplace=False)\n",
       "        )\n",
       "        (W_q): Linear(in_features=512, out_features=512, bias=False)\n",
       "        (W_k): Linear(in_features=512, out_features=512, bias=False)\n",
       "        (W_v): Linear(in_features=512, out_features=512, bias=False)\n",
       "        (W_o): Linear(in_features=512, out_features=512, bias=False)\n",
       "      )\n",
       "      (addnorm1): AddNorm(\n",
       "        (dropout): Dropout(p=0.1, inplace=False)\n",
       "        (ln): LayerNorm((512,), eps=1e-05, elementwise_affine=True)\n",
       "      )\n",
       "      (ffn): PositionWiseFFN(\n",
       "        (dense1): Linear(in_features=512, out_features=2048, bias=True)\n",
       "        (relu): ReLU()\n",
       "        (dense2): Linear(in_features=2048, out_features=512, bias=True)\n",
       "      )\n",
       "      (addnorm2): AddNorm(\n",
       "        (dropout): Dropout(p=0.1, inplace=False)\n",
       "        (ln): LayerNorm((512,), eps=1e-05, elementwise_affine=True)\n",
       "      )\n",
       "    )\n",
       "    (block1): EncoderBlock(\n",
       "      (attention): MultiHeadAttention(\n",
       "        (attention): DotProductAttention(\n",
       "          (dropout): Dropout(p=0.1, inplace=False)\n",
       "        )\n",
       "        (W_q): Linear(in_features=512, out_features=512, bias=False)\n",
       "        (W_k): Linear(in_features=512, out_features=512, bias=False)\n",
       "        (W_v): Linear(in_features=512, out_features=512, bias=False)\n",
       "        (W_o): Linear(in_features=512, out_features=512, bias=False)\n",
       "      )\n",
       "      (addnorm1): AddNorm(\n",
       "        (dropout): Dropout(p=0.1, inplace=False)\n",
       "        (ln): LayerNorm((512,), eps=1e-05, elementwise_affine=True)\n",
       "      )\n",
       "      (ffn): PositionWiseFFN(\n",
       "        (dense1): Linear(in_features=512, out_features=2048, bias=True)\n",
       "        (relu): ReLU()\n",
       "        (dense2): Linear(in_features=2048, out_features=512, bias=True)\n",
       "      )\n",
       "      (addnorm2): AddNorm(\n",
       "        (dropout): Dropout(p=0.1, inplace=False)\n",
       "        (ln): LayerNorm((512,), eps=1e-05, elementwise_affine=True)\n",
       "      )\n",
       "    )\n",
       "  )\n",
       "  (outhidden): Sequential(\n",
       "    (0): Linear(in_features=512, out_features=512, bias=True)\n",
       "    (1): ReLU()\n",
       "  )\n",
       "  (Dense): Linear(in_features=512, out_features=2, bias=True)\n",
       ")"
      ]
     },
     "execution_count": 23,
     "metadata": {},
     "output_type": "execute_result"
    }
   ],
   "source": [
    "# 初始化线性层权重\n",
    "def xavier_init_weights(m):\n",
    "    if type(m) in (nn.Linear, nn.Conv1d):\n",
    "        nn.init.xavier_uniform_(m.weight)\n",
    "\n",
    "\n",
    "net.apply(xavier_init_weights)"
   ]
  },
  {
   "cell_type": "code",
   "execution_count": 24,
   "id": "38161e81-c3e6-4b86-b7f0-f63a945da696",
   "metadata": {},
   "outputs": [],
   "source": [
    "num_epochs = 40"
   ]
  },
  {
   "cell_type": "code",
   "execution_count": 25,
   "id": "a5fdcffe-37a9-4e50-8781-366fdce15194",
   "metadata": {},
   "outputs": [
    {
     "name": "stderr",
     "output_type": "stream",
     "text": [
      "100%|██████████| 391/391 [01:16<00:00,  5.12it/s]\n"
     ]
    },
    {
     "name": "stdout",
     "output_type": "stream",
     "text": [
      "epoch 1, loss 0.731, train_acc 0.525, test_acc 0.498, taking 95 seconds\n"
     ]
    },
    {
     "name": "stderr",
     "output_type": "stream",
     "text": [
      "100%|██████████| 391/391 [01:16<00:00,  5.13it/s]\n"
     ]
    },
    {
     "name": "stdout",
     "output_type": "stream",
     "text": [
      "epoch 2, loss 0.614, train_acc 0.663, test_acc 0.740, taking 95 seconds\n"
     ]
    },
    {
     "name": "stderr",
     "output_type": "stream",
     "text": [
      "100%|██████████| 391/391 [01:15<00:00,  5.15it/s]\n"
     ]
    },
    {
     "name": "stdout",
     "output_type": "stream",
     "text": [
      "epoch 3, loss 0.538, train_acc 0.749, test_acc 0.581, taking 95 seconds\n"
     ]
    },
    {
     "name": "stderr",
     "output_type": "stream",
     "text": [
      "100%|██████████| 391/391 [01:15<00:00,  5.16it/s]\n"
     ]
    },
    {
     "name": "stdout",
     "output_type": "stream",
     "text": [
      "epoch 4, loss 0.518, train_acc 0.761, test_acc 0.768, taking 95 seconds\n"
     ]
    },
    {
     "name": "stderr",
     "output_type": "stream",
     "text": [
      "100%|██████████| 391/391 [01:15<00:00,  5.15it/s]\n"
     ]
    },
    {
     "name": "stdout",
     "output_type": "stream",
     "text": [
      "epoch 5, loss 0.507, train_acc 0.767, test_acc 0.785, taking 95 seconds\n"
     ]
    },
    {
     "name": "stderr",
     "output_type": "stream",
     "text": [
      "100%|██████████| 391/391 [01:15<00:00,  5.16it/s]\n"
     ]
    },
    {
     "name": "stdout",
     "output_type": "stream",
     "text": [
      "epoch 6, loss 0.501, train_acc 0.768, test_acc 0.742, taking 94 seconds\n"
     ]
    },
    {
     "name": "stderr",
     "output_type": "stream",
     "text": [
      "100%|██████████| 391/391 [01:16<00:00,  5.13it/s]\n"
     ]
    },
    {
     "name": "stdout",
     "output_type": "stream",
     "text": [
      "epoch 7, loss 0.508, train_acc 0.765, test_acc 0.738, taking 95 seconds\n"
     ]
    },
    {
     "name": "stderr",
     "output_type": "stream",
     "text": [
      "100%|██████████| 391/391 [01:16<00:00,  5.10it/s]\n"
     ]
    },
    {
     "name": "stdout",
     "output_type": "stream",
     "text": [
      "epoch 8, loss 0.492, train_acc 0.774, test_acc 0.773, taking 96 seconds\n"
     ]
    },
    {
     "name": "stderr",
     "output_type": "stream",
     "text": [
      "100%|██████████| 391/391 [01:16<00:00,  5.11it/s]\n"
     ]
    },
    {
     "name": "stdout",
     "output_type": "stream",
     "text": [
      "epoch 9, loss 0.484, train_acc 0.776, test_acc 0.785, taking 95 seconds\n"
     ]
    },
    {
     "name": "stderr",
     "output_type": "stream",
     "text": [
      "100%|██████████| 391/391 [01:16<00:00,  5.11it/s]\n"
     ]
    },
    {
     "name": "stdout",
     "output_type": "stream",
     "text": [
      "epoch 10, loss 0.480, train_acc 0.780, test_acc 0.768, taking 95 seconds\n"
     ]
    },
    {
     "name": "stderr",
     "output_type": "stream",
     "text": [
      "100%|██████████| 391/391 [01:16<00:00,  5.12it/s]\n"
     ]
    },
    {
     "name": "stdout",
     "output_type": "stream",
     "text": [
      "epoch 11, loss 0.475, train_acc 0.780, test_acc 0.782, taking 95 seconds\n"
     ]
    },
    {
     "name": "stderr",
     "output_type": "stream",
     "text": [
      "100%|██████████| 391/391 [01:16<00:00,  5.11it/s]\n"
     ]
    },
    {
     "name": "stdout",
     "output_type": "stream",
     "text": [
      "epoch 12, loss 0.464, train_acc 0.787, test_acc 0.783, taking 95 seconds\n"
     ]
    },
    {
     "name": "stderr",
     "output_type": "stream",
     "text": [
      "100%|██████████| 391/391 [01:16<00:00,  5.13it/s]\n"
     ]
    },
    {
     "name": "stdout",
     "output_type": "stream",
     "text": [
      "epoch 13, loss 0.460, train_acc 0.789, test_acc 0.791, taking 95 seconds\n"
     ]
    },
    {
     "name": "stderr",
     "output_type": "stream",
     "text": [
      "100%|██████████| 391/391 [01:16<00:00,  5.12it/s]\n"
     ]
    },
    {
     "name": "stdout",
     "output_type": "stream",
     "text": [
      "epoch 14, loss 0.463, train_acc 0.788, test_acc 0.753, taking 95 seconds\n"
     ]
    },
    {
     "name": "stderr",
     "output_type": "stream",
     "text": [
      "100%|██████████| 391/391 [01:15<00:00,  5.16it/s]\n"
     ]
    },
    {
     "name": "stdout",
     "output_type": "stream",
     "text": [
      "epoch 15, loss 0.459, train_acc 0.790, test_acc 0.790, taking 94 seconds\n"
     ]
    },
    {
     "name": "stderr",
     "output_type": "stream",
     "text": [
      "100%|██████████| 391/391 [01:15<00:00,  5.16it/s]\n"
     ]
    },
    {
     "name": "stdout",
     "output_type": "stream",
     "text": [
      "epoch 16, loss 0.453, train_acc 0.793, test_acc 0.793, taking 95 seconds\n"
     ]
    },
    {
     "name": "stderr",
     "output_type": "stream",
     "text": [
      "100%|██████████| 391/391 [01:16<00:00,  5.14it/s]\n"
     ]
    },
    {
     "name": "stdout",
     "output_type": "stream",
     "text": [
      "epoch 17, loss 0.452, train_acc 0.795, test_acc 0.775, taking 95 seconds\n"
     ]
    },
    {
     "name": "stderr",
     "output_type": "stream",
     "text": [
      "100%|██████████| 391/391 [01:15<00:00,  5.16it/s]\n"
     ]
    },
    {
     "name": "stdout",
     "output_type": "stream",
     "text": [
      "epoch 18, loss 0.461, train_acc 0.786, test_acc 0.767, taking 94 seconds\n"
     ]
    },
    {
     "name": "stderr",
     "output_type": "stream",
     "text": [
      "100%|██████████| 391/391 [01:16<00:00,  5.12it/s]\n"
     ]
    },
    {
     "name": "stdout",
     "output_type": "stream",
     "text": [
      "epoch 19, loss 0.452, train_acc 0.792, test_acc 0.791, taking 95 seconds\n"
     ]
    },
    {
     "name": "stderr",
     "output_type": "stream",
     "text": [
      "100%|██████████| 391/391 [01:15<00:00,  5.16it/s]\n"
     ]
    },
    {
     "name": "stdout",
     "output_type": "stream",
     "text": [
      "epoch 20, loss 0.460, train_acc 0.791, test_acc 0.770, taking 95 seconds\n"
     ]
    },
    {
     "name": "stderr",
     "output_type": "stream",
     "text": [
      "100%|██████████| 391/391 [01:15<00:00,  5.15it/s]\n"
     ]
    },
    {
     "name": "stdout",
     "output_type": "stream",
     "text": [
      "epoch 21, loss 0.458, train_acc 0.790, test_acc 0.794, taking 95 seconds\n"
     ]
    },
    {
     "name": "stderr",
     "output_type": "stream",
     "text": [
      "100%|██████████| 391/391 [01:15<00:00,  5.16it/s]\n"
     ]
    },
    {
     "name": "stdout",
     "output_type": "stream",
     "text": [
      "epoch 22, loss 0.450, train_acc 0.800, test_acc 0.786, taking 95 seconds\n"
     ]
    },
    {
     "name": "stderr",
     "output_type": "stream",
     "text": [
      "100%|██████████| 391/391 [01:15<00:00,  5.15it/s]\n"
     ]
    },
    {
     "name": "stdout",
     "output_type": "stream",
     "text": [
      "epoch 23, loss 0.458, train_acc 0.791, test_acc 0.780, taking 95 seconds\n"
     ]
    },
    {
     "name": "stderr",
     "output_type": "stream",
     "text": [
      "100%|██████████| 391/391 [01:15<00:00,  5.16it/s]\n"
     ]
    },
    {
     "name": "stdout",
     "output_type": "stream",
     "text": [
      "epoch 24, loss 0.461, train_acc 0.787, test_acc 0.783, taking 94 seconds\n"
     ]
    },
    {
     "name": "stderr",
     "output_type": "stream",
     "text": [
      "100%|██████████| 391/391 [01:15<00:00,  5.16it/s]\n"
     ]
    },
    {
     "name": "stdout",
     "output_type": "stream",
     "text": [
      "epoch 25, loss 0.458, train_acc 0.792, test_acc 0.789, taking 94 seconds\n"
     ]
    },
    {
     "name": "stderr",
     "output_type": "stream",
     "text": [
      "100%|██████████| 391/391 [01:15<00:00,  5.16it/s]\n"
     ]
    },
    {
     "name": "stdout",
     "output_type": "stream",
     "text": [
      "epoch 26, loss 0.456, train_acc 0.794, test_acc 0.787, taking 94 seconds\n"
     ]
    },
    {
     "name": "stderr",
     "output_type": "stream",
     "text": [
      "100%|██████████| 391/391 [01:15<00:00,  5.17it/s]\n"
     ]
    },
    {
     "name": "stdout",
     "output_type": "stream",
     "text": [
      "epoch 27, loss 0.468, train_acc 0.792, test_acc 0.787, taking 94 seconds\n"
     ]
    },
    {
     "name": "stderr",
     "output_type": "stream",
     "text": [
      "100%|██████████| 391/391 [01:15<00:00,  5.16it/s]\n"
     ]
    },
    {
     "name": "stdout",
     "output_type": "stream",
     "text": [
      "epoch 28, loss 0.467, train_acc 0.786, test_acc 0.788, taking 94 seconds\n"
     ]
    },
    {
     "name": "stderr",
     "output_type": "stream",
     "text": [
      "100%|██████████| 391/391 [01:16<00:00,  5.13it/s]\n"
     ]
    },
    {
     "name": "stdout",
     "output_type": "stream",
     "text": [
      "epoch 29, loss 0.456, train_acc 0.794, test_acc 0.786, taking 95 seconds\n"
     ]
    },
    {
     "name": "stderr",
     "output_type": "stream",
     "text": [
      "100%|██████████| 391/391 [01:16<00:00,  5.10it/s]\n"
     ]
    },
    {
     "name": "stdout",
     "output_type": "stream",
     "text": [
      "epoch 30, loss 0.457, train_acc 0.791, test_acc 0.785, taking 95 seconds\n"
     ]
    },
    {
     "name": "stderr",
     "output_type": "stream",
     "text": [
      "100%|██████████| 391/391 [01:16<00:00,  5.12it/s]\n"
     ]
    },
    {
     "name": "stdout",
     "output_type": "stream",
     "text": [
      "epoch 31, loss 0.457, train_acc 0.795, test_acc 0.791, taking 95 seconds\n"
     ]
    },
    {
     "name": "stderr",
     "output_type": "stream",
     "text": [
      "100%|██████████| 391/391 [01:16<00:00,  5.11it/s]\n"
     ]
    },
    {
     "name": "stdout",
     "output_type": "stream",
     "text": [
      "epoch 32, loss 0.448, train_acc 0.799, test_acc 0.789, taking 95 seconds\n"
     ]
    },
    {
     "name": "stderr",
     "output_type": "stream",
     "text": [
      "100%|██████████| 391/391 [01:16<00:00,  5.10it/s]\n"
     ]
    },
    {
     "name": "stdout",
     "output_type": "stream",
     "text": [
      "epoch 33, loss 0.450, train_acc 0.796, test_acc 0.784, taking 95 seconds\n"
     ]
    },
    {
     "name": "stderr",
     "output_type": "stream",
     "text": [
      "100%|██████████| 391/391 [01:16<00:00,  5.10it/s]\n"
     ]
    },
    {
     "name": "stdout",
     "output_type": "stream",
     "text": [
      "epoch 34, loss 0.459, train_acc 0.792, test_acc 0.788, taking 95 seconds\n"
     ]
    },
    {
     "name": "stderr",
     "output_type": "stream",
     "text": [
      "100%|██████████| 391/391 [01:16<00:00,  5.10it/s]\n"
     ]
    },
    {
     "name": "stdout",
     "output_type": "stream",
     "text": [
      "epoch 35, loss 0.447, train_acc 0.801, test_acc 0.794, taking 95 seconds\n"
     ]
    },
    {
     "name": "stderr",
     "output_type": "stream",
     "text": [
      "100%|██████████| 391/391 [01:16<00:00,  5.13it/s]\n"
     ]
    },
    {
     "name": "stdout",
     "output_type": "stream",
     "text": [
      "epoch 36, loss 0.432, train_acc 0.805, test_acc 0.796, taking 95 seconds\n"
     ]
    },
    {
     "name": "stderr",
     "output_type": "stream",
     "text": [
      "100%|██████████| 391/391 [01:16<00:00,  5.10it/s]\n"
     ]
    },
    {
     "name": "stdout",
     "output_type": "stream",
     "text": [
      "epoch 37, loss 0.426, train_acc 0.806, test_acc 0.804, taking 95 seconds\n"
     ]
    },
    {
     "name": "stderr",
     "output_type": "stream",
     "text": [
      "100%|██████████| 391/391 [01:16<00:00,  5.09it/s]\n"
     ]
    },
    {
     "name": "stdout",
     "output_type": "stream",
     "text": [
      "epoch 38, loss 0.435, train_acc 0.807, test_acc 0.798, taking 96 seconds\n"
     ]
    },
    {
     "name": "stderr",
     "output_type": "stream",
     "text": [
      "100%|██████████| 391/391 [01:16<00:00,  5.09it/s]\n"
     ]
    },
    {
     "name": "stdout",
     "output_type": "stream",
     "text": [
      "epoch 39, loss 0.435, train_acc 0.805, test_acc 0.784, taking 96 seconds\n"
     ]
    },
    {
     "name": "stderr",
     "output_type": "stream",
     "text": [
      "100%|██████████| 391/391 [01:16<00:00,  5.13it/s]\n"
     ]
    },
    {
     "name": "stdout",
     "output_type": "stream",
     "text": [
      "epoch 40, loss 0.454, train_acc 0.794, test_acc 0.779, taking 95 seconds\n",
      "Training is finished.\n",
      "训练损失:0.454, 训练集准确率:0.794, 测试集准确率:0.779 在设备cuda:0上训练40周期 耗时3797 s\n"
     ]
    }
   ],
   "source": [
    "# 以‘微调’的模式进行训练\n",
    "# activation function: nn.ReLU()\n",
    "# 25,842,178 total parameters.\n",
    "loss = nn.CrossEntropyLoss(reduction='none')\n",
    "forward_params = [\n",
    "    param for name, param in net.named_parameters()\n",
    "    if name != \"embedding.weight\"]\n",
    "trainer = torch.optim.Adam(\n",
    "    [{'params': net.embedding.parameters()},\n",
    "    {'params': forward_params,\n",
    "    'lr': lr * 10}], lr=lr)\n",
    "# animator = d2l.Animator(xlabel='epoch', xlim=[1, num_epochs], ylim=[0, 1],\n",
    "#         legend=['train loss', 'train acc'])\n",
    "net.to(device)\n",
    "\n",
    "num_batches = len(train_iter)\n",
    "losses, train_accuracy, test_accuracy = [], [], []\n",
    "total_start = time.time()\n",
    "for epoch in range(num_epochs):\n",
    "    # metric = d2l.Accumulator(4)\n",
    "    train_loss, train_acc = 0, 0\n",
    "    start_time = time.perf_counter()\n",
    "    net.train()\n",
    "    for index, data in tqdm(enumerate(train_iter), total=num_batches, leave = True):\n",
    "        X, valid_len, y = [v.to(device) for v in data]\n",
    "        l = loss(net(X, valid_len), y)\n",
    "        trainer.zero_grad()\n",
    "        l.sum().backward()\n",
    "        trainer.step()\n",
    "        # metric.add(l.sum(), d2l.accuracy(net(X, valid_len), y), labels.shape[0])\n",
    "        train_loss += l.sum().cpu().detach().numpy() / batch_size\n",
    "        train_acc += d2l.accuracy(net(X, valid_len), y) / batch_size\n",
    "    epochloss, epochtrain, epochtest = train_loss / num_batches, train_acc / num_batches, evaluate_accuracy_gpu(net, test_iter)\n",
    "    end_time = time.perf_counter()\n",
    "    print(f'epoch {epoch + 1}, loss {epochloss:.3f}, train_acc {epochtrain:.3f}, '\n",
    "         f'test_acc {epochtest:.3f}, taking {round(end_time - start_time)} seconds')\n",
    "    losses.append(epochloss)\n",
    "    train_accuracy.append(epochtrain)\n",
    "    test_accuracy.append(epochtest)\n",
    "total_timecost = round(time.time() - total_start)\n",
    "print('Training is finished.')\n",
    "print(f'训练损失:{losses[-1]:.3f}, 训练集准确率:{train_accuracy[-1]:.3f}, '\n",
    "      f'测试集准确率:{test_accuracy[-1]:.3f} '\n",
    "     f'在设备{device}上训练{num_epochs}周期 耗时{total_timecost} s')"
   ]
  },
  {
   "cell_type": "code",
   "execution_count": 26,
   "id": "57710d85-5117-4c5f-97b7-5dd1482b9078",
   "metadata": {},
   "outputs": [
    {
     "data": {
      "image/png": "[encoded data removed]",
      "text/plain": [
       "<Figure size 640x480 with 1 Axes>"
      ]
     },
     "metadata": {},
     "output_type": "display_data"
    }
   ],
   "source": [
    "fig = plt.figure()\n",
    "plt.title('train loss and accuracy')\n",
    "epochs = np.arange(1, num_epochs + 1)\n",
    "# losses, train_accuracy, test_accuracy\n",
    "plt.plot(epochs, losses, 'r.-', label='loss')\n",
    "plt.plot(epochs, train_accuracy, 'g-.', label='train_acc')\n",
    "plt.plot(epochs, test_accuracy, 'b-.', label='test_acc')\n",
    "plt.grid()\n",
    "plt.legend(loc='best', frameon=False)\n",
    "plt.show()"
   ]
  },
  {
   "cell_type": "markdown",
   "id": "6c2798b6-9c62-4598-bbf8-c49dceedc108",
   "metadata": {},
   "source": [
    "# 对比训练2(常规多头一层)"
   ]
  },
  {
   "cell_type": "code",
   "execution_count": 15,
   "id": "f572c21c-e194-4a66-9c04-519ececdb53e",
   "metadata": {},
   "outputs": [],
   "source": [
    "num_hiddens, num_layers, dropout, batch_size, num_output = 512, 1, 0.1, 64, 2\n",
    "lr, num_epochs, device = 5e-5, 60, d2l.try_gpu()\n",
    "ffn_num_input, ffn_num_hiddens, num_heads = 512, 2048, 8\n",
    "key_size, query_size, value_size = 512, 512, 512\n",
    "norm_shape = [512]"
   ]
  },
  {
   "cell_type": "code",
   "execution_count": 16,
   "id": "185af660-44f2-4485-b1cb-a4ee077cfbd4",
   "metadata": {},
   "outputs": [
    {
     "name": "stdout",
     "output_type": "stream",
     "text": [
      "22,691,842 total parameters.\n",
      "22,691,842 training parameters.\n"
     ]
    }
   ],
   "source": [
    "net = TransformerEncoder(\n",
    "    len(vocab), key_size, query_size, value_size, num_hiddens,\n",
    "    norm_shape, ffn_num_input, ffn_num_hiddens, num_heads,\n",
    "    num_layers, dropout, num_output)\n",
    "\n",
    "total_params = sum(p.numel() for p in net.parameters())\n",
    "print(f'{total_params:,} total parameters.')\n",
    "total_trainable_params = sum(p.numel() for p in net.parameters() if p.requires_grad)\n",
    "print(f'{total_trainable_params:,} training parameters.')"
   ]
  },
  {
   "cell_type": "code",
   "execution_count": 19,
   "id": "7ef1875e-6032-4dcf-a7b2-c211d490ad2d",
   "metadata": {},
   "outputs": [],
   "source": [
    "# 初始化embedding层模型权重\n",
    "def get_embedding_weights(vocab, word2vecmodel, num_hiddens):\n",
    "    wordlist = word2vecmodel.wv.index_to_key\n",
    "    n = len(vocab)\n",
    "    data = np.random.randn(n, num_hiddens)\n",
    "    for i in range(n):\n",
    "        word = vocab.idx_to_token[i]\n",
    "        data[i] = np.array(word2vecmodel.wv[word]) if word in wordlist else data[i]\n",
    "    return torch.tensor(data, dtype=torch.float32)\n",
    "\n",
    "\n",
    "def init_embedding_weights(net, weights):\n",
    "    for m in net.modules():\n",
    "        if isinstance(m, nn.Embedding):\n",
    "            m.weight.data = weights\n",
    "\n",
    "\n",
    "word2vecmodel = word2vec.Word2Vec.load(file_path + 'imdb_word_vec_sg.bin')\n",
    "weights = get_embedding_weights(vocab, word2vecmodel, num_hiddens)\n",
    "init_embedding_weights(net, weights)"
   ]
  },
  {
   "cell_type": "code",
   "execution_count": 20,
   "id": "e4a520b1-d52a-486c-b244-6f41d4a8f44e",
   "metadata": {},
   "outputs": [
    {
     "data": {
      "text/plain": [
       "TransformerEncoder(\n",
       "  (embedding): Embedding(37652, 512)\n",
       "  (pos_encoding): PositionalEncoding(\n",
       "    (dropout): Dropout(p=0.1, inplace=False)\n",
       "  )\n",
       "  (blks): Sequential(\n",
       "    (block0): EncoderBlock(\n",
       "      (attention): MultiHeadAttention(\n",
       "        (attention): DotProductAttention(\n",
       "          (dropout): Dropout(p=0.1, inplace=False)\n",
       "        )\n",
       "        (W_q): Linear(in_features=512, out_features=512, bias=False)\n",
       "        (W_k): Linear(in_features=512, out_features=512, bias=False)\n",
       "        (W_v): Linear(in_features=512, out_features=512, bias=False)\n",
       "        (W_o): Linear(in_features=512, out_features=512, bias=False)\n",
       "      )\n",
       "      (addnorm1): AddNorm(\n",
       "        (dropout): Dropout(p=0.1, inplace=False)\n",
       "        (ln): LayerNorm((512,), eps=1e-05, elementwise_affine=True)\n",
       "      )\n",
       "      (ffn): PositionWiseFFN(\n",
       "        (dense1): Linear(in_features=512, out_features=2048, bias=True)\n",
       "        (relu): ReLU()\n",
       "        (dense2): Linear(in_features=2048, out_features=512, bias=True)\n",
       "      )\n",
       "      (addnorm2): AddNorm(\n",
       "        (dropout): Dropout(p=0.1, inplace=False)\n",
       "        (ln): LayerNorm((512,), eps=1e-05, elementwise_affine=True)\n",
       "      )\n",
       "    )\n",
       "  )\n",
       "  (outhidden): Sequential(\n",
       "    (0): Linear(in_features=512, out_features=512, bias=True)\n",
       "    (1): ReLU()\n",
       "  )\n",
       "  (Dense): Linear(in_features=512, out_features=2, bias=True)\n",
       ")"
      ]
     },
     "execution_count": 20,
     "metadata": {},
     "output_type": "execute_result"
    }
   ],
   "source": [
    "# 初始化线性层权重\n",
    "def xavier_init_weights(m):\n",
    "    if type(m) in (nn.Linear, nn.Conv1d):\n",
    "        nn.init.xavier_uniform_(m.weight)\n",
    "\n",
    "\n",
    "net.apply(xavier_init_weights)"
   ]
  },
  {
   "cell_type": "code",
   "execution_count": 22,
   "id": "3ac26624-f09b-41c1-b3d7-769c7a25949a",
   "metadata": {},
   "outputs": [
    {
     "name": "stderr",
     "output_type": "stream",
     "text": [
      "100%|██████████| 391/391 [00:38<00:00, 10.07it/s]\n"
     ]
    },
    {
     "name": "stdout",
     "output_type": "stream",
     "text": [
      "epoch 1, loss 0.733, train_acc 0.532, test_acc 0.660, taking 48 seconds\n"
     ]
    },
    {
     "name": "stderr",
     "output_type": "stream",
     "text": [
      "100%|██████████| 391/391 [00:38<00:00, 10.08it/s]\n"
     ]
    },
    {
     "name": "stdout",
     "output_type": "stream",
     "text": [
      "epoch 2, loss 0.650, train_acc 0.622, test_acc 0.506, taking 48 seconds\n"
     ]
    },
    {
     "name": "stderr",
     "output_type": "stream",
     "text": [
      "100%|██████████| 391/391 [00:38<00:00, 10.07it/s]\n"
     ]
    },
    {
     "name": "stdout",
     "output_type": "stream",
     "text": [
      "epoch 3, loss 0.685, train_acc 0.552, test_acc 0.500, taking 48 seconds\n"
     ]
    },
    {
     "name": "stderr",
     "output_type": "stream",
     "text": [
      "100%|██████████| 391/391 [00:38<00:00, 10.07it/s]\n"
     ]
    },
    {
     "name": "stdout",
     "output_type": "stream",
     "text": [
      "epoch 4, loss 0.683, train_acc 0.559, test_acc 0.586, taking 48 seconds\n"
     ]
    },
    {
     "name": "stderr",
     "output_type": "stream",
     "text": [
      "100%|██████████| 391/391 [00:38<00:00, 10.03it/s]\n"
     ]
    },
    {
     "name": "stdout",
     "output_type": "stream",
     "text": [
      "epoch 5, loss 0.665, train_acc 0.592, test_acc 0.613, taking 48 seconds\n"
     ]
    },
    {
     "name": "stderr",
     "output_type": "stream",
     "text": [
      "100%|██████████| 391/391 [00:38<00:00, 10.06it/s]\n"
     ]
    },
    {
     "name": "stdout",
     "output_type": "stream",
     "text": [
      "epoch 6, loss 0.633, train_acc 0.634, test_acc 0.661, taking 48 seconds\n"
     ]
    },
    {
     "name": "stderr",
     "output_type": "stream",
     "text": [
      "100%|██████████| 391/391 [00:39<00:00, 10.02it/s]\n"
     ]
    },
    {
     "name": "stdout",
     "output_type": "stream",
     "text": [
      "epoch 7, loss 0.626, train_acc 0.649, test_acc 0.679, taking 49 seconds\n"
     ]
    },
    {
     "name": "stderr",
     "output_type": "stream",
     "text": [
      "100%|██████████| 391/391 [00:38<00:00, 10.05it/s]\n"
     ]
    },
    {
     "name": "stdout",
     "output_type": "stream",
     "text": [
      "epoch 8, loss 0.577, train_acc 0.705, test_acc 0.746, taking 48 seconds\n"
     ]
    },
    {
     "name": "stderr",
     "output_type": "stream",
     "text": [
      "100%|██████████| 391/391 [00:38<00:00, 10.05it/s]\n"
     ]
    },
    {
     "name": "stdout",
     "output_type": "stream",
     "text": [
      "epoch 9, loss 0.566, train_acc 0.704, test_acc 0.767, taking 48 seconds\n"
     ]
    },
    {
     "name": "stderr",
     "output_type": "stream",
     "text": [
      "100%|██████████| 391/391 [00:39<00:00, 10.01it/s]\n"
     ]
    },
    {
     "name": "stdout",
     "output_type": "stream",
     "text": [
      "epoch 10, loss 0.510, train_acc 0.753, test_acc 0.772, taking 49 seconds\n"
     ]
    },
    {
     "name": "stderr",
     "output_type": "stream",
     "text": [
      "100%|██████████| 391/391 [00:39<00:00, 10.03it/s]\n"
     ]
    },
    {
     "name": "stdout",
     "output_type": "stream",
     "text": [
      "epoch 11, loss 0.508, train_acc 0.756, test_acc 0.773, taking 48 seconds\n"
     ]
    },
    {
     "name": "stderr",
     "output_type": "stream",
     "text": [
      "100%|██████████| 391/391 [00:38<00:00, 10.03it/s]\n"
     ]
    },
    {
     "name": "stdout",
     "output_type": "stream",
     "text": [
      "epoch 12, loss 0.513, train_acc 0.754, test_acc 0.766, taking 48 seconds\n"
     ]
    },
    {
     "name": "stderr",
     "output_type": "stream",
     "text": [
      "100%|██████████| 391/391 [00:39<00:00, 10.01it/s]\n"
     ]
    },
    {
     "name": "stdout",
     "output_type": "stream",
     "text": [
      "epoch 13, loss 0.508, train_acc 0.751, test_acc 0.760, taking 49 seconds\n"
     ]
    },
    {
     "name": "stderr",
     "output_type": "stream",
     "text": [
      "100%|██████████| 391/391 [00:38<00:00, 10.05it/s]\n"
     ]
    },
    {
     "name": "stdout",
     "output_type": "stream",
     "text": [
      "epoch 14, loss 0.505, train_acc 0.759, test_acc 0.774, taking 48 seconds\n"
     ]
    },
    {
     "name": "stderr",
     "output_type": "stream",
     "text": [
      "100%|██████████| 391/391 [00:38<00:00, 10.07it/s]\n"
     ]
    },
    {
     "name": "stdout",
     "output_type": "stream",
     "text": [
      "epoch 15, loss 0.496, train_acc 0.765, test_acc 0.773, taking 48 seconds\n"
     ]
    },
    {
     "name": "stderr",
     "output_type": "stream",
     "text": [
      "100%|██████████| 391/391 [00:38<00:00, 10.03it/s]\n"
     ]
    },
    {
     "name": "stdout",
     "output_type": "stream",
     "text": [
      "epoch 16, loss 0.491, train_acc 0.765, test_acc 0.778, taking 48 seconds\n"
     ]
    },
    {
     "name": "stderr",
     "output_type": "stream",
     "text": [
      "100%|██████████| 391/391 [00:38<00:00, 10.05it/s]\n"
     ]
    },
    {
     "name": "stdout",
     "output_type": "stream",
     "text": [
      "epoch 17, loss 0.484, train_acc 0.770, test_acc 0.780, taking 48 seconds\n"
     ]
    },
    {
     "name": "stderr",
     "output_type": "stream",
     "text": [
      "100%|██████████| 391/391 [00:38<00:00, 10.06it/s]\n"
     ]
    },
    {
     "name": "stdout",
     "output_type": "stream",
     "text": [
      "epoch 18, loss 0.531, train_acc 0.739, test_acc 0.765, taking 48 seconds\n"
     ]
    },
    {
     "name": "stderr",
     "output_type": "stream",
     "text": [
      "100%|██████████| 391/391 [00:38<00:00, 10.06it/s]\n"
     ]
    },
    {
     "name": "stdout",
     "output_type": "stream",
     "text": [
      "epoch 19, loss 0.524, train_acc 0.748, test_acc 0.763, taking 48 seconds\n"
     ]
    },
    {
     "name": "stderr",
     "output_type": "stream",
     "text": [
      "100%|██████████| 391/391 [00:38<00:00, 10.06it/s]\n"
     ]
    },
    {
     "name": "stdout",
     "output_type": "stream",
     "text": [
      "epoch 20, loss 0.511, train_acc 0.752, test_acc 0.765, taking 48 seconds\n"
     ]
    },
    {
     "name": "stderr",
     "output_type": "stream",
     "text": [
      "100%|██████████| 391/391 [00:39<00:00, 10.01it/s]\n"
     ]
    },
    {
     "name": "stdout",
     "output_type": "stream",
     "text": [
      "epoch 21, loss 0.504, train_acc 0.752, test_acc 0.765, taking 49 seconds\n"
     ]
    },
    {
     "name": "stderr",
     "output_type": "stream",
     "text": [
      "100%|██████████| 391/391 [00:38<00:00, 10.06it/s]\n"
     ]
    },
    {
     "name": "stdout",
     "output_type": "stream",
     "text": [
      "epoch 22, loss 0.504, train_acc 0.755, test_acc 0.769, taking 48 seconds\n"
     ]
    },
    {
     "name": "stderr",
     "output_type": "stream",
     "text": [
      "100%|██████████| 391/391 [00:39<00:00, 10.01it/s]\n"
     ]
    },
    {
     "name": "stdout",
     "output_type": "stream",
     "text": [
      "epoch 23, loss 0.502, train_acc 0.758, test_acc 0.773, taking 49 seconds\n"
     ]
    },
    {
     "name": "stderr",
     "output_type": "stream",
     "text": [
      "100%|██████████| 391/391 [00:38<00:00, 10.07it/s]\n"
     ]
    },
    {
     "name": "stdout",
     "output_type": "stream",
     "text": [
      "epoch 24, loss 0.501, train_acc 0.760, test_acc 0.774, taking 48 seconds\n"
     ]
    },
    {
     "name": "stderr",
     "output_type": "stream",
     "text": [
      "100%|██████████| 391/391 [00:38<00:00, 10.06it/s]\n"
     ]
    },
    {
     "name": "stdout",
     "output_type": "stream",
     "text": [
      "epoch 25, loss 0.507, train_acc 0.752, test_acc 0.764, taking 48 seconds\n"
     ]
    },
    {
     "name": "stderr",
     "output_type": "stream",
     "text": [
      "100%|██████████| 391/391 [00:38<00:00, 10.04it/s]\n"
     ]
    },
    {
     "name": "stdout",
     "output_type": "stream",
     "text": [
      "epoch 26, loss 0.507, train_acc 0.750, test_acc 0.757, taking 48 seconds\n"
     ]
    },
    {
     "name": "stderr",
     "output_type": "stream",
     "text": [
      "100%|██████████| 391/391 [00:38<00:00, 10.06it/s]\n"
     ]
    },
    {
     "name": "stdout",
     "output_type": "stream",
     "text": [
      "epoch 27, loss 0.508, train_acc 0.750, test_acc 0.766, taking 48 seconds\n"
     ]
    },
    {
     "name": "stderr",
     "output_type": "stream",
     "text": [
      "100%|██████████| 391/391 [00:38<00:00, 10.06it/s]\n"
     ]
    },
    {
     "name": "stdout",
     "output_type": "stream",
     "text": [
      "epoch 28, loss 0.505, train_acc 0.750, test_acc 0.771, taking 48 seconds\n"
     ]
    },
    {
     "name": "stderr",
     "output_type": "stream",
     "text": [
      "100%|██████████| 391/391 [00:38<00:00, 10.03it/s]\n"
     ]
    },
    {
     "name": "stdout",
     "output_type": "stream",
     "text": [
      "epoch 29, loss 0.501, train_acc 0.753, test_acc 0.764, taking 48 seconds\n"
     ]
    },
    {
     "name": "stderr",
     "output_type": "stream",
     "text": [
      "100%|██████████| 391/391 [00:38<00:00, 10.03it/s]\n"
     ]
    },
    {
     "name": "stdout",
     "output_type": "stream",
     "text": [
      "epoch 30, loss 0.509, train_acc 0.759, test_acc 0.778, taking 48 seconds\n"
     ]
    },
    {
     "name": "stderr",
     "output_type": "stream",
     "text": [
      "100%|██████████| 391/391 [00:38<00:00, 10.03it/s]\n"
     ]
    },
    {
     "name": "stdout",
     "output_type": "stream",
     "text": [
      "epoch 31, loss 0.505, train_acc 0.762, test_acc 0.773, taking 48 seconds\n"
     ]
    },
    {
     "name": "stderr",
     "output_type": "stream",
     "text": [
      "100%|██████████| 391/391 [00:39<00:00, 10.01it/s]\n"
     ]
    },
    {
     "name": "stdout",
     "output_type": "stream",
     "text": [
      "epoch 32, loss 0.502, train_acc 0.762, test_acc 0.775, taking 49 seconds\n"
     ]
    },
    {
     "name": "stderr",
     "output_type": "stream",
     "text": [
      "100%|██████████| 391/391 [00:39<00:00, 10.02it/s]\n"
     ]
    },
    {
     "name": "stdout",
     "output_type": "stream",
     "text": [
      "epoch 33, loss 0.506, train_acc 0.754, test_acc 0.783, taking 48 seconds\n"
     ]
    },
    {
     "name": "stderr",
     "output_type": "stream",
     "text": [
      "100%|██████████| 391/391 [00:38<00:00, 10.04it/s]\n"
     ]
    },
    {
     "name": "stdout",
     "output_type": "stream",
     "text": [
      "epoch 34, loss 0.486, train_acc 0.770, test_acc 0.780, taking 48 seconds\n"
     ]
    },
    {
     "name": "stderr",
     "output_type": "stream",
     "text": [
      "100%|██████████| 391/391 [00:38<00:00, 10.06it/s]\n"
     ]
    },
    {
     "name": "stdout",
     "output_type": "stream",
     "text": [
      "epoch 35, loss 0.502, train_acc 0.761, test_acc 0.765, taking 48 seconds\n"
     ]
    },
    {
     "name": "stderr",
     "output_type": "stream",
     "text": [
      "100%|██████████| 391/391 [00:38<00:00, 10.07it/s]\n"
     ]
    },
    {
     "name": "stdout",
     "output_type": "stream",
     "text": [
      "epoch 36, loss 0.511, train_acc 0.755, test_acc 0.772, taking 48 seconds\n"
     ]
    },
    {
     "name": "stderr",
     "output_type": "stream",
     "text": [
      "100%|██████████| 391/391 [00:38<00:00, 10.05it/s]\n"
     ]
    },
    {
     "name": "stdout",
     "output_type": "stream",
     "text": [
      "epoch 37, loss 0.513, train_acc 0.754, test_acc 0.763, taking 48 seconds\n"
     ]
    },
    {
     "name": "stderr",
     "output_type": "stream",
     "text": [
      "100%|██████████| 391/391 [00:39<00:00,  9.96it/s]\n"
     ]
    },
    {
     "name": "stdout",
     "output_type": "stream",
     "text": [
      "epoch 38, loss 0.515, train_acc 0.754, test_acc 0.750, taking 49 seconds\n"
     ]
    },
    {
     "name": "stderr",
     "output_type": "stream",
     "text": [
      "100%|██████████| 391/391 [00:39<00:00, 10.02it/s]\n"
     ]
    },
    {
     "name": "stdout",
     "output_type": "stream",
     "text": [
      "epoch 39, loss 0.522, train_acc 0.742, test_acc 0.740, taking 49 seconds\n"
     ]
    },
    {
     "name": "stderr",
     "output_type": "stream",
     "text": [
      "100%|██████████| 391/391 [00:38<00:00, 10.04it/s]\n"
     ]
    },
    {
     "name": "stdout",
     "output_type": "stream",
     "text": [
      "epoch 40, loss 0.528, train_acc 0.736, test_acc 0.756, taking 48 seconds\n"
     ]
    },
    {
     "name": "stderr",
     "output_type": "stream",
     "text": [
      "100%|██████████| 391/391 [00:38<00:00, 10.06it/s]\n"
     ]
    },
    {
     "name": "stdout",
     "output_type": "stream",
     "text": [
      "epoch 41, loss 0.518, train_acc 0.747, test_acc 0.752, taking 48 seconds\n"
     ]
    },
    {
     "name": "stderr",
     "output_type": "stream",
     "text": [
      "100%|██████████| 391/391 [00:38<00:00, 10.09it/s]\n"
     ]
    },
    {
     "name": "stdout",
     "output_type": "stream",
     "text": [
      "epoch 42, loss 0.513, train_acc 0.748, test_acc 0.755, taking 48 seconds\n"
     ]
    },
    {
     "name": "stderr",
     "output_type": "stream",
     "text": [
      "100%|██████████| 391/391 [00:38<00:00, 10.05it/s]\n"
     ]
    },
    {
     "name": "stdout",
     "output_type": "stream",
     "text": [
      "epoch 43, loss 0.509, train_acc 0.754, test_acc 0.758, taking 48 seconds\n"
     ]
    },
    {
     "name": "stderr",
     "output_type": "stream",
     "text": [
      "100%|██████████| 391/391 [00:38<00:00, 10.07it/s]\n"
     ]
    },
    {
     "name": "stdout",
     "output_type": "stream",
     "text": [
      "epoch 44, loss 0.507, train_acc 0.754, test_acc 0.757, taking 48 seconds\n"
     ]
    },
    {
     "name": "stderr",
     "output_type": "stream",
     "text": [
      "100%|██████████| 391/391 [00:38<00:00, 10.07it/s]\n"
     ]
    },
    {
     "name": "stdout",
     "output_type": "stream",
     "text": [
      "epoch 45, loss 0.503, train_acc 0.758, test_acc 0.760, taking 48 seconds\n"
     ]
    },
    {
     "name": "stderr",
     "output_type": "stream",
     "text": [
      "100%|██████████| 391/391 [00:38<00:00, 10.06it/s]\n"
     ]
    },
    {
     "name": "stdout",
     "output_type": "stream",
     "text": [
      "epoch 46, loss 0.500, train_acc 0.760, test_acc 0.766, taking 48 seconds\n"
     ]
    },
    {
     "name": "stderr",
     "output_type": "stream",
     "text": [
      "100%|██████████| 391/391 [00:38<00:00, 10.03it/s]\n"
     ]
    },
    {
     "name": "stdout",
     "output_type": "stream",
     "text": [
      "epoch 47, loss 0.485, train_acc 0.768, test_acc 0.774, taking 48 seconds\n"
     ]
    },
    {
     "name": "stderr",
     "output_type": "stream",
     "text": [
      "100%|██████████| 391/391 [00:38<00:00, 10.08it/s]\n"
     ]
    },
    {
     "name": "stdout",
     "output_type": "stream",
     "text": [
      "epoch 48, loss 0.488, train_acc 0.768, test_acc 0.759, taking 48 seconds\n"
     ]
    },
    {
     "name": "stderr",
     "output_type": "stream",
     "text": [
      "100%|██████████| 391/391 [00:38<00:00, 10.07it/s]\n"
     ]
    },
    {
     "name": "stdout",
     "output_type": "stream",
     "text": [
      "epoch 49, loss 0.503, train_acc 0.755, test_acc 0.757, taking 48 seconds\n"
     ]
    },
    {
     "name": "stderr",
     "output_type": "stream",
     "text": [
      "100%|██████████| 391/391 [00:38<00:00, 10.04it/s]\n"
     ]
    },
    {
     "name": "stdout",
     "output_type": "stream",
     "text": [
      "epoch 50, loss 0.502, train_acc 0.754, test_acc 0.759, taking 48 seconds\n"
     ]
    },
    {
     "name": "stderr",
     "output_type": "stream",
     "text": [
      "100%|██████████| 391/391 [00:39<00:00,  9.99it/s]\n"
     ]
    },
    {
     "name": "stdout",
     "output_type": "stream",
     "text": [
      "epoch 51, loss 0.495, train_acc 0.755, test_acc 0.756, taking 49 seconds\n"
     ]
    },
    {
     "name": "stderr",
     "output_type": "stream",
     "text": [
      "100%|██████████| 391/391 [00:39<00:00, 10.02it/s]\n"
     ]
    },
    {
     "name": "stdout",
     "output_type": "stream",
     "text": [
      "epoch 52, loss 0.499, train_acc 0.754, test_acc 0.760, taking 49 seconds\n"
     ]
    },
    {
     "name": "stderr",
     "output_type": "stream",
     "text": [
      "100%|██████████| 391/391 [00:38<00:00, 10.04it/s]\n"
     ]
    },
    {
     "name": "stdout",
     "output_type": "stream",
     "text": [
      "epoch 53, loss 0.494, train_acc 0.762, test_acc 0.765, taking 48 seconds\n"
     ]
    },
    {
     "name": "stderr",
     "output_type": "stream",
     "text": [
      "100%|██████████| 391/391 [00:39<00:00,  9.98it/s]\n"
     ]
    },
    {
     "name": "stdout",
     "output_type": "stream",
     "text": [
      "epoch 54, loss 0.479, train_acc 0.769, test_acc 0.775, taking 49 seconds\n"
     ]
    },
    {
     "name": "stderr",
     "output_type": "stream",
     "text": [
      "100%|██████████| 391/391 [00:38<00:00, 10.05it/s]\n"
     ]
    },
    {
     "name": "stdout",
     "output_type": "stream",
     "text": [
      "epoch 55, loss 0.481, train_acc 0.771, test_acc 0.772, taking 48 seconds\n"
     ]
    },
    {
     "name": "stderr",
     "output_type": "stream",
     "text": [
      "100%|██████████| 391/391 [00:38<00:00, 10.04it/s]\n"
     ]
    },
    {
     "name": "stdout",
     "output_type": "stream",
     "text": [
      "epoch 56, loss 0.482, train_acc 0.767, test_acc 0.768, taking 48 seconds\n"
     ]
    },
    {
     "name": "stderr",
     "output_type": "stream",
     "text": [
      "100%|██████████| 391/391 [00:38<00:00, 10.03it/s]\n"
     ]
    },
    {
     "name": "stdout",
     "output_type": "stream",
     "text": [
      "epoch 57, loss 0.487, train_acc 0.762, test_acc 0.749, taking 49 seconds\n"
     ]
    },
    {
     "name": "stderr",
     "output_type": "stream",
     "text": [
      "100%|██████████| 391/391 [00:38<00:00, 10.06it/s]\n"
     ]
    },
    {
     "name": "stdout",
     "output_type": "stream",
     "text": [
      "epoch 58, loss 0.538, train_acc 0.732, test_acc 0.745, taking 48 seconds\n"
     ]
    },
    {
     "name": "stderr",
     "output_type": "stream",
     "text": [
      "100%|██████████| 391/391 [00:38<00:00, 10.05it/s]\n"
     ]
    },
    {
     "name": "stdout",
     "output_type": "stream",
     "text": [
      "epoch 59, loss 0.551, train_acc 0.713, test_acc 0.722, taking 48 seconds\n"
     ]
    },
    {
     "name": "stderr",
     "output_type": "stream",
     "text": [
      "100%|██████████| 391/391 [00:38<00:00, 10.03it/s]\n"
     ]
    },
    {
     "name": "stdout",
     "output_type": "stream",
     "text": [
      "epoch 60, loss 0.562, train_acc 0.699, test_acc 0.710, taking 48 seconds\n",
      "Training is finished.\n",
      "训练损失:0.562, 训练集准确率:0.699, 测试集准确率:0.710 在设备cuda:0上训练60周期 耗时2906 s\n"
     ]
    }
   ],
   "source": [
    "# 以‘微调’的模式进行训练\n",
    "# activation function: nn.ReLU()\n",
    "# 22,691,842 total parameters.\n",
    "loss = nn.CrossEntropyLoss(reduction='none')\n",
    "forward_params = [\n",
    "    param for name, param in net.named_parameters()\n",
    "    if name != \"embedding.weight\"]\n",
    "trainer = torch.optim.Adam(\n",
    "    [{'params': net.embedding.parameters()},\n",
    "    {'params': forward_params,\n",
    "    'lr': lr * 10}], lr=lr)\n",
    "# animator = d2l.Animator(xlabel='epoch', xlim=[1, num_epochs], ylim=[0, 1],\n",
    "#         legend=['train loss', 'train acc'])\n",
    "net.to(device)\n",
    "\n",
    "num_batches = len(train_iter)\n",
    "losses, train_accuracy, test_accuracy = [], [], []\n",
    "total_start = time.time()\n",
    "for epoch in range(num_epochs):\n",
    "    # metric = d2l.Accumulator(4)\n",
    "    train_loss, train_acc = 0, 0\n",
    "    start_time = time.perf_counter()\n",
    "    net.train()\n",
    "    for index, data in tqdm(enumerate(train_iter), total=num_batches, leave = True):\n",
    "        X, valid_len, y = [v.to(device) for v in data]\n",
    "        l = loss(net(X, valid_len), y)\n",
    "        trainer.zero_grad()\n",
    "        l.sum().backward()\n",
    "        trainer.step()\n",
    "        # metric.add(l.sum(), d2l.accuracy(net(X, valid_len), y), labels.shape[0])\n",
    "        train_loss += l.sum().cpu().detach().numpy() / batch_size\n",
    "        train_acc += d2l.accuracy(net(X, valid_len), y) / batch_size\n",
    "    epochloss, epochtrain, epochtest = train_loss / num_batches, train_acc / num_batches, evaluate_accuracy_gpu(net, test_iter)\n",
    "    end_time = time.perf_counter()\n",
    "    print(f'epoch {epoch + 1}, loss {epochloss:.3f}, train_acc {epochtrain:.3f}, '\n",
    "         f'test_acc {epochtest:.3f}, taking {round(end_time - start_time)} seconds')\n",
    "    losses.append(epochloss)\n",
    "    train_accuracy.append(epochtrain)\n",
    "    test_accuracy.append(epochtest)\n",
    "total_timecost = round(time.time() - total_start)\n",
    "print('Training is finished.')\n",
    "print(f'训练损失:{losses[-1]:.3f}, 训练集准确率:{train_accuracy[-1]:.3f}, '\n",
    "      f'测试集准确率:{test_accuracy[-1]:.3f} '\n",
    "     f'在设备{device}上训练{num_epochs}周期 耗时{total_timecost} s')"
   ]
  },
  {
   "cell_type": "code",
   "execution_count": 23,
   "id": "ff828655-6f2f-4f4e-bbaf-3dbe9650e1de",
   "metadata": {},
   "outputs": [
    {
     "data": {
      "image/svg+xml": [
       "<?xml version=\"1.0\" encoding=\"utf-8\" standalone=\"no\"?>\n",
       "<!DOCTYPE svg PUBLIC \"-//W3C//DTD SVG 1.1//EN\"\n",
       "  \"http://www.w3.org/Graphics/SVG/1.1/DTD/svg11.dtd\">\n",
       "<svg xmlns:xlink=\"http://www.w3.org/1999/xlink\" width=\"232.603125pt\" height=\"184.79625pt\" viewBox=\"0 0 232.603125 184.79625\" xmlns=\"http://www.w3.org/2000/svg\" version=\"1.1\">\n",
       " <metadata>\n",
       "  <rdf:RDF xmlns:dc=\"http://purl.org/dc/elements/1.1/\" xmlns:cc=\"http://creativecommons.org/ns#\" xmlns:rdf=\"http://www.w3.org/1999/02/22-rdf-syntax-ns#\">\n",
       "   <cc:Work>\n",
       "    <dc:type rdf:resource=\"http://purl.org/dc/dcmitype/StillImage\"/>\n",
       "    <dc:date>2022-09-30T09:52:12.038021</dc:date>\n",
       "    <dc:format>image/svg+xml</dc:format>\n",
       "    <dc:creator>\n",
       "     <cc:Agent>\n",
       "      <dc:title>Matplotlib v3.5.1, https://matplotlib.org/</dc:title>\n",
       "     </cc:Agent>\n",
       "    </dc:creator>\n",
       "   </cc:Work>\n",
       "  </rdf:RDF>\n",
       " </metadata>\n",
       " <defs>\n",
       "  <style type=\"text/css\">*{stroke-linejoin: round; stroke-linecap: butt}</style>\n",
       " </defs>\n",
       " <g id=\"figure_1\">\n",
       "  <g id=\"patch_1\">\n",
       "   <path d=\"M 0 184.79625 \n",
       "L 232.603125 184.79625 \n",
       "L 232.603125 0 \n",
       "L 0 0 \n",
       "z\n",
       "\" style=\"fill: #ffffff\"/>\n",
       "  </g>\n",
       "  <g id=\"axes_1\">\n",
       "   <g id=\"patch_2\">\n",
       "    <path d=\"M 30.103125 160.918125 \n",
       "L 225.403125 160.918125 \n",
       "L 225.403125 22.318125 \n",
       "L 30.103125 22.318125 \n",
       "z\n",
       "\" style=\"fill: #ffffff\"/>\n",
       "   </g>\n",
       "   <g id=\"matplotlib.axis_1\">\n",
       "    <g id=\"xtick_1\">\n",
       "     <g id=\"line2d_1\">\n",
       "      <path d=\"M 35.971153 160.918125 \n",
       "L 35.971153 22.318125 \n",
       "\" clip-path=\"url(#p127e8877ff)\" style=\"fill: none; stroke: #b0b0b0; stroke-width: 0.8; stroke-linecap: square\"/>\n",
       "     </g>\n",
       "     <g id=\"line2d_2\">\n",
       "      <defs>\n",
       "       <path id=\"m0865eca494\" d=\"M 0 0 \n",
       "L 0 3.5 \n",
       "\" style=\"stroke: #000000; stroke-width: 0.8\"/>\n",
       "      </defs>\n",
       "      <g>\n",
       "       <use xlink:href=\"#m0865eca494\" x=\"35.971153\" y=\"160.918125\" style=\"stroke: #000000; stroke-width: 0.8\"/>\n",
       "      </g>\n",
       "     </g>\n",
       "     <g id=\"text_1\">\n",
       "      <!-- 0 -->\n",
       "      <g transform=\"translate(32.789903 175.516563)scale(0.1 -0.1)\">\n",
       "       <defs>\n",
       "        <path id=\"DejaVuSans-30\" d=\"M 2034 4250 \n",
       "Q 1547 4250 1301 3770 \n",
       "Q 1056 3291 1056 2328 \n",
       "Q 1056 1369 1301 889 \n",
       "Q 1547 409 2034 409 \n",
       "Q 2525 409 2770 889 \n",
       "Q 3016 1369 3016 2328 \n",
       "Q 3016 3291 2770 3770 \n",
       "Q 2525 4250 2034 4250 \n",
       "z\n",
       "M 2034 4750 \n",
       "Q 2819 4750 3233 4129 \n",
       "Q 3647 3509 3647 2328 \n",
       "Q 3647 1150 3233 529 \n",
       "Q 2819 -91 2034 -91 \n",
       "Q 1250 -91 836 529 \n",
       "Q 422 1150 422 2328 \n",
       "Q 422 3509 836 4129 \n",
       "Q 1250 4750 2034 4750 \n",
       "z\n",
       "\" transform=\"scale(0.015625)\"/>\n",
       "       </defs>\n",
       "       <use xlink:href=\"#DejaVuSans-30\"/>\n",
       "      </g>\n",
       "     </g>\n",
       "    </g>\n",
       "    <g id=\"xtick_2\">\n",
       "     <g id=\"line2d_3\">\n",
       "      <path d=\"M 96.156053 160.918125 \n",
       "L 96.156053 22.318125 \n",
       "\" clip-path=\"url(#p127e8877ff)\" style=\"fill: none; stroke: #b0b0b0; stroke-width: 0.8; stroke-linecap: square\"/>\n",
       "     </g>\n",
       "     <g id=\"line2d_4\">\n",
       "      <g>\n",
       "       <use xlink:href=\"#m0865eca494\" x=\"96.156053\" y=\"160.918125\" style=\"stroke: #000000; stroke-width: 0.8\"/>\n",
       "      </g>\n",
       "     </g>\n",
       "     <g id=\"text_2\">\n",
       "      <!-- 20 -->\n",
       "      <g transform=\"translate(89.793553 175.516563)scale(0.1 -0.1)\">\n",
       "       <defs>\n",
       "        <path id=\"DejaVuSans-32\" d=\"M 1228 531 \n",
       "L 3431 531 \n",
       "L 3431 0 \n",
       "L 469 0 \n",
       "L 469 531 \n",
       "Q 828 903 1448 1529 \n",
       "Q 2069 2156 2228 2338 \n",
       "Q 2531 2678 2651 2914 \n",
       "Q 2772 3150 2772 3378 \n",
       "Q 2772 3750 2511 3984 \n",
       "Q 2250 4219 1831 4219 \n",
       "Q 1534 4219 1204 4116 \n",
       "Q 875 4013 500 3803 \n",
       "L 500 4441 \n",
       "Q 881 4594 1212 4672 \n",
       "Q 1544 4750 1819 4750 \n",
       "Q 2544 4750 2975 4387 \n",
       "Q 3406 4025 3406 3419 \n",
       "Q 3406 3131 3298 2873 \n",
       "Q 3191 2616 2906 2266 \n",
       "Q 2828 2175 2409 1742 \n",
       "Q 1991 1309 1228 531 \n",
       "z\n",
       "\" transform=\"scale(0.015625)\"/>\n",
       "       </defs>\n",
       "       <use xlink:href=\"#DejaVuSans-32\"/>\n",
       "       <use xlink:href=\"#DejaVuSans-30\" x=\"63.623047\"/>\n",
       "      </g>\n",
       "     </g>\n",
       "    </g>\n",
       "    <g id=\"xtick_3\">\n",
       "     <g id=\"line2d_5\">\n",
       "      <path d=\"M 156.340952 160.918125 \n",
       "L 156.340952 22.318125 \n",
       "\" clip-path=\"url(#p127e8877ff)\" style=\"fill: none; stroke: #b0b0b0; stroke-width: 0.8; stroke-linecap: square\"/>\n",
       "     </g>\n",
       "     <g id=\"line2d_6\">\n",
       "      <g>\n",
       "       <use xlink:href=\"#m0865eca494\" x=\"156.340952\" y=\"160.918125\" style=\"stroke: #000000; stroke-width: 0.8\"/>\n",
       "      </g>\n",
       "     </g>\n",
       "     <g id=\"text_3\">\n",
       "      <!-- 40 -->\n",
       "      <g transform=\"translate(149.978452 175.516563)scale(0.1 -0.1)\">\n",
       "       <defs>\n",
       "        <path id=\"DejaVuSans-34\" d=\"M 2419 4116 \n",
       "L 825 1625 \n",
       "L 2419 1625 \n",
       "L 2419 4116 \n",
       "z\n",
       "M 2253 4666 \n",
       "L 3047 4666 \n",
       "L 3047 1625 \n",
       "L 3713 1625 \n",
       "L 3713 1100 \n",
       "L 3047 1100 \n",
       "L 3047 0 \n",
       "L 2419 0 \n",
       "L 2419 1100 \n",
       "L 313 1100 \n",
       "L 313 1709 \n",
       "L 2253 4666 \n",
       "z\n",
       "\" transform=\"scale(0.015625)\"/>\n",
       "       </defs>\n",
       "       <use xlink:href=\"#DejaVuSans-34\"/>\n",
       "       <use xlink:href=\"#DejaVuSans-30\" x=\"63.623047\"/>\n",
       "      </g>\n",
       "     </g>\n",
       "    </g>\n",
       "    <g id=\"xtick_4\">\n",
       "     <g id=\"line2d_7\">\n",
       "      <path d=\"M 216.525852 160.918125 \n",
       "L 216.525852 22.318125 \n",
       "\" clip-path=\"url(#p127e8877ff)\" style=\"fill: none; stroke: #b0b0b0; stroke-width: 0.8; stroke-linecap: square\"/>\n",
       "     </g>\n",
       "     <g id=\"line2d_8\">\n",
       "      <g>\n",
       "       <use xlink:href=\"#m0865eca494\" x=\"216.525852\" y=\"160.918125\" style=\"stroke: #000000; stroke-width: 0.8\"/>\n",
       "      </g>\n",
       "     </g>\n",
       "     <g id=\"text_4\">\n",
       "      <!-- 60 -->\n",
       "      <g transform=\"translate(210.163352 175.516563)scale(0.1 -0.1)\">\n",
       "       <defs>\n",
       "        <path id=\"DejaVuSans-36\" d=\"M 2113 2584 \n",
       "Q 1688 2584 1439 2293 \n",
       "Q 1191 2003 1191 1497 \n",
       "Q 1191 994 1439 701 \n",
       "Q 1688 409 2113 409 \n",
       "Q 2538 409 2786 701 \n",
       "Q 3034 994 3034 1497 \n",
       "Q 3034 2003 2786 2293 \n",
       "Q 2538 2584 2113 2584 \n",
       "z\n",
       "M 3366 4563 \n",
       "L 3366 3988 \n",
       "Q 3128 4100 2886 4159 \n",
       "Q 2644 4219 2406 4219 \n",
       "Q 1781 4219 1451 3797 \n",
       "Q 1122 3375 1075 2522 \n",
       "Q 1259 2794 1537 2939 \n",
       "Q 1816 3084 2150 3084 \n",
       "Q 2853 3084 3261 2657 \n",
       "Q 3669 2231 3669 1497 \n",
       "Q 3669 778 3244 343 \n",
       "Q 2819 -91 2113 -91 \n",
       "Q 1303 -91 875 529 \n",
       "Q 447 1150 447 2328 \n",
       "Q 447 3434 972 4092 \n",
       "Q 1497 4750 2381 4750 \n",
       "Q 2619 4750 2861 4703 \n",
       "Q 3103 4656 3366 4563 \n",
       "z\n",
       "\" transform=\"scale(0.015625)\"/>\n",
       "       </defs>\n",
       "       <use xlink:href=\"#DejaVuSans-36\"/>\n",
       "       <use xlink:href=\"#DejaVuSans-30\" x=\"63.623047\"/>\n",
       "      </g>\n",
       "     </g>\n",
       "    </g>\n",
       "   </g>\n",
       "   <g id=\"matplotlib.axis_2\">\n",
       "    <g id=\"ytick_1\">\n",
       "     <g id=\"line2d_9\">\n",
       "      <path d=\"M 30.103125 146.085703 \n",
       "L 225.403125 146.085703 \n",
       "\" clip-path=\"url(#p127e8877ff)\" style=\"fill: none; stroke: #b0b0b0; stroke-width: 0.8; stroke-linecap: square\"/>\n",
       "     </g>\n",
       "     <g id=\"line2d_10\">\n",
       "      <defs>\n",
       "       <path id=\"md2e046f72c\" d=\"M 0 0 \n",
       "L -3.5 0 \n",
       "\" style=\"stroke: #000000; stroke-width: 0.8\"/>\n",
       "      </defs>\n",
       "      <g>\n",
       "       <use xlink:href=\"#md2e046f72c\" x=\"30.103125\" y=\"146.085703\" style=\"stroke: #000000; stroke-width: 0.8\"/>\n",
       "      </g>\n",
       "     </g>\n",
       "     <g id=\"text_5\">\n",
       "      <!-- 0.5 -->\n",
       "      <g transform=\"translate(7.2 149.884922)scale(0.1 -0.1)\">\n",
       "       <defs>\n",
       "        <path id=\"DejaVuSans-2e\" d=\"M 684 794 \n",
       "L 1344 794 \n",
       "L 1344 0 \n",
       "L 684 0 \n",
       "L 684 794 \n",
       "z\n",
       "\" transform=\"scale(0.015625)\"/>\n",
       "        <path id=\"DejaVuSans-35\" d=\"M 691 4666 \n",
       "L 3169 4666 \n",
       "L 3169 4134 \n",
       "L 1269 4134 \n",
       "L 1269 2991 \n",
       "Q 1406 3038 1543 3061 \n",
       "Q 1681 3084 1819 3084 \n",
       "Q 2600 3084 3056 2656 \n",
       "Q 3513 2228 3513 1497 \n",
       "Q 3513 744 3044 326 \n",
       "Q 2575 -91 1722 -91 \n",
       "Q 1428 -91 1123 -41 \n",
       "Q 819 9 494 109 \n",
       "L 494 744 \n",
       "Q 775 591 1075 516 \n",
       "Q 1375 441 1709 441 \n",
       "Q 2250 441 2565 725 \n",
       "Q 2881 1009 2881 1497 \n",
       "Q 2881 1984 2565 2268 \n",
       "Q 2250 2553 1709 2553 \n",
       "Q 1456 2553 1204 2497 \n",
       "Q 953 2441 691 2322 \n",
       "L 691 4666 \n",
       "z\n",
       "\" transform=\"scale(0.015625)\"/>\n",
       "       </defs>\n",
       "       <use xlink:href=\"#DejaVuSans-30\"/>\n",
       "       <use xlink:href=\"#DejaVuSans-2e\" x=\"63.623047\"/>\n",
       "       <use xlink:href=\"#DejaVuSans-35\" x=\"95.410156\"/>\n",
       "      </g>\n",
       "     </g>\n",
       "    </g>\n",
       "    <g id=\"ytick_2\">\n",
       "     <g id=\"line2d_11\">\n",
       "      <path d=\"M 30.103125 104.507203 \n",
       "L 225.403125 104.507203 \n",
       "\" clip-path=\"url(#p127e8877ff)\" style=\"fill: none; stroke: #b0b0b0; stroke-width: 0.8; stroke-linecap: square\"/>\n",
       "     </g>\n",
       "     <g id=\"line2d_12\">\n",
       "      <g>\n",
       "       <use xlink:href=\"#md2e046f72c\" x=\"30.103125\" y=\"104.507203\" style=\"stroke: #000000; stroke-width: 0.8\"/>\n",
       "      </g>\n",
       "     </g>\n",
       "     <g id=\"text_6\">\n",
       "      <!-- 0.6 -->\n",
       "      <g transform=\"translate(7.2 108.306422)scale(0.1 -0.1)\">\n",
       "       <use xlink:href=\"#DejaVuSans-30\"/>\n",
       "       <use xlink:href=\"#DejaVuSans-2e\" x=\"63.623047\"/>\n",
       "       <use xlink:href=\"#DejaVuSans-36\" x=\"95.410156\"/>\n",
       "      </g>\n",
       "     </g>\n",
       "    </g>\n",
       "    <g id=\"ytick_3\">\n",
       "     <g id=\"line2d_13\">\n",
       "      <path d=\"M 30.103125 62.928703 \n",
       "L 225.403125 62.928703 \n",
       "\" clip-path=\"url(#p127e8877ff)\" style=\"fill: none; stroke: #b0b0b0; stroke-width: 0.8; stroke-linecap: square\"/>\n",
       "     </g>\n",
       "     <g id=\"line2d_14\">\n",
       "      <g>\n",
       "       <use xlink:href=\"#md2e046f72c\" x=\"30.103125\" y=\"62.928703\" style=\"stroke: #000000; stroke-width: 0.8\"/>\n",
       "      </g>\n",
       "     </g>\n",
       "     <g id=\"text_7\">\n",
       "      <!-- 0.7 -->\n",
       "      <g transform=\"translate(7.2 66.727922)scale(0.1 -0.1)\">\n",
       "       <defs>\n",
       "        <path id=\"DejaVuSans-37\" d=\"M 525 4666 \n",
       "L 3525 4666 \n",
       "L 3525 4397 \n",
       "L 1831 0 \n",
       "L 1172 0 \n",
       "L 2766 4134 \n",
       "L 525 4134 \n",
       "L 525 4666 \n",
       "z\n",
       "\" transform=\"scale(0.015625)\"/>\n",
       "       </defs>\n",
       "       <use xlink:href=\"#DejaVuSans-30\"/>\n",
       "       <use xlink:href=\"#DejaVuSans-2e\" x=\"63.623047\"/>\n",
       "       <use xlink:href=\"#DejaVuSans-37\" x=\"95.410156\"/>\n",
       "      </g>\n",
       "     </g>\n",
       "    </g>\n",
       "   </g>\n",
       "   <g id=\"line2d_15\">\n",
       "    <path d=\"M 38.980398 49.246466 \n",
       "L 41.989643 83.591018 \n",
       "L 44.998888 69.280034 \n",
       "L 48.008133 70.180595 \n",
       "L 51.017378 77.338859 \n",
       "L 54.026623 90.793148 \n",
       "L 57.035868 93.549609 \n",
       "L 60.045113 114.076659 \n",
       "L 63.054358 118.473772 \n",
       "L 66.063603 141.795851 \n",
       "L 69.072848 142.585905 \n",
       "L 72.082093 140.677766 \n",
       "L 75.091338 142.832991 \n",
       "L 78.100583 144.029504 \n",
       "L 81.109828 147.72193 \n",
       "L 84.119073 149.72634 \n",
       "L 87.128318 152.534316 \n",
       "L 90.137563 133.213512 \n",
       "L 93.146808 136.12213 \n",
       "L 96.156053 141.333467 \n",
       "L 99.165298 144.315955 \n",
       "L 102.174543 144.565175 \n",
       "L 105.183788 145.29214 \n",
       "L 108.193033 145.504794 \n",
       "L 111.202278 143.179222 \n",
       "L 114.211523 142.995946 \n",
       "L 117.220768 142.650294 \n",
       "L 120.230013 143.830036 \n",
       "L 123.239258 145.529008 \n",
       "L 126.248503 142.292806 \n",
       "L 129.257747 144.058213 \n",
       "L 132.266992 145.108096 \n",
       "L 135.276237 143.632118 \n",
       "L 138.285482 151.987959 \n",
       "L 141.294727 145.368407 \n",
       "L 144.303972 141.657414 \n",
       "L 147.313217 140.764317 \n",
       "L 150.322462 140.006496 \n",
       "L 153.331707 137.121861 \n",
       "L 156.340952 134.626123 \n",
       "L 159.350197 138.669445 \n",
       "L 162.359442 140.861557 \n",
       "L 165.368687 142.41833 \n",
       "L 168.377932 143.318688 \n",
       "L 171.387177 144.814115 \n",
       "L 174.396422 146.247484 \n",
       "L 177.405667 152.204009 \n",
       "L 180.414912 151.157611 \n",
       "L 183.424157 144.642004 \n",
       "L 186.433402 145.15739 \n",
       "L 189.442647 147.968713 \n",
       "L 192.451892 146.687857 \n",
       "L 195.461137 148.613678 \n",
       "L 198.470382 154.618125 \n",
       "L 201.479627 153.989095 \n",
       "L 204.488872 153.76095 \n",
       "L 207.498117 151.440346 \n",
       "L 210.507362 130.335533 \n",
       "L 213.516607 125.030449 \n",
       "L 216.525852 120.154933 \n",
       "\" clip-path=\"url(#p127e8877ff)\" style=\"fill: none; stroke: #ff0000; stroke-width: 1.5; stroke-linecap: square\"/>\n",
       "    <defs>\n",
       "     <path id=\"me83bb59dfe\" d=\"M 0 1.5 \n",
       "C 0.397805 1.5 0.77937 1.341951 1.06066 1.06066 \n",
       "C 1.341951 0.77937 1.5 0.397805 1.5 0 \n",
       "C 1.5 -0.397805 1.341951 -0.77937 1.06066 -1.06066 \n",
       "C 0.77937 -1.341951 0.397805 -1.5 0 -1.5 \n",
       "C -0.397805 -1.5 -0.77937 -1.341951 -1.06066 -1.06066 \n",
       "C -1.341951 -0.77937 -1.5 -0.397805 -1.5 0 \n",
       "C -1.5 0.397805 -1.341951 0.77937 -1.06066 1.06066 \n",
       "C -0.77937 1.341951 -0.397805 1.5 0 1.5 \n",
       "z\n",
       "\" style=\"stroke: #ff0000\"/>\n",
       "    </defs>\n",
       "    <g clip-path=\"url(#p127e8877ff)\">\n",
       "     <use xlink:href=\"#me83bb59dfe\" x=\"38.980398\" y=\"49.246466\" style=\"fill: #ff0000; stroke: #ff0000\"/>\n",
       "     <use xlink:href=\"#me83bb59dfe\" x=\"41.989643\" y=\"83.591018\" style=\"fill: #ff0000; stroke: #ff0000\"/>\n",
       "     <use xlink:href=\"#me83bb59dfe\" x=\"44.998888\" y=\"69.280034\" style=\"fill: #ff0000; stroke: #ff0000\"/>\n",
       "     <use xlink:href=\"#me83bb59dfe\" x=\"48.008133\" y=\"70.180595\" style=\"fill: #ff0000; stroke: #ff0000\"/>\n",
       "     <use xlink:href=\"#me83bb59dfe\" x=\"51.017378\" y=\"77.338859\" style=\"fill: #ff0000; stroke: #ff0000\"/>\n",
       "     <use xlink:href=\"#me83bb59dfe\" x=\"54.026623\" y=\"90.793148\" style=\"fill: #ff0000; stroke: #ff0000\"/>\n",
       "     <use xlink:href=\"#me83bb59dfe\" x=\"57.035868\" y=\"93.549609\" style=\"fill: #ff0000; stroke: #ff0000\"/>\n",
       "     <use xlink:href=\"#me83bb59dfe\" x=\"60.045113\" y=\"114.076659\" style=\"fill: #ff0000; stroke: #ff0000\"/>\n",
       "     <use xlink:href=\"#me83bb59dfe\" x=\"63.054358\" y=\"118.473772\" style=\"fill: #ff0000; stroke: #ff0000\"/>\n",
       "     <use xlink:href=\"#me83bb59dfe\" x=\"66.063603\" y=\"141.795851\" style=\"fill: #ff0000; stroke: #ff0000\"/>\n",
       "     <use xlink:href=\"#me83bb59dfe\" x=\"69.072848\" y=\"142.585905\" style=\"fill: #ff0000; stroke: #ff0000\"/>\n",
       "     <use xlink:href=\"#me83bb59dfe\" x=\"72.082093\" y=\"140.677766\" style=\"fill: #ff0000; stroke: #ff0000\"/>\n",
       "     <use xlink:href=\"#me83bb59dfe\" x=\"75.091338\" y=\"142.832991\" style=\"fill: #ff0000; stroke: #ff0000\"/>\n",
       "     <use xlink:href=\"#me83bb59dfe\" x=\"78.100583\" y=\"144.029504\" style=\"fill: #ff0000; stroke: #ff0000\"/>\n",
       "     <use xlink:href=\"#me83bb59dfe\" x=\"81.109828\" y=\"147.72193\" style=\"fill: #ff0000; stroke: #ff0000\"/>\n",
       "     <use xlink:href=\"#me83bb59dfe\" x=\"84.119073\" y=\"149.72634\" style=\"fill: #ff0000; stroke: #ff0000\"/>\n",
       "     <use xlink:href=\"#me83bb59dfe\" x=\"87.128318\" y=\"152.534316\" style=\"fill: #ff0000; stroke: #ff0000\"/>\n",
       "     <use xlink:href=\"#me83bb59dfe\" x=\"90.137563\" y=\"133.213512\" style=\"fill: #ff0000; stroke: #ff0000\"/>\n",
       "     <use xlink:href=\"#me83bb59dfe\" x=\"93.146808\" y=\"136.12213\" style=\"fill: #ff0000; stroke: #ff0000\"/>\n",
       "     <use xlink:href=\"#me83bb59dfe\" x=\"96.156053\" y=\"141.333467\" style=\"fill: #ff0000; stroke: #ff0000\"/>\n",
       "     <use xlink:href=\"#me83bb59dfe\" x=\"99.165298\" y=\"144.315955\" style=\"fill: #ff0000; stroke: #ff0000\"/>\n",
       "     <use xlink:href=\"#me83bb59dfe\" x=\"102.174543\" y=\"144.565175\" style=\"fill: #ff0000; stroke: #ff0000\"/>\n",
       "     <use xlink:href=\"#me83bb59dfe\" x=\"105.183788\" y=\"145.29214\" style=\"fill: #ff0000; stroke: #ff0000\"/>\n",
       "     <use xlink:href=\"#me83bb59dfe\" x=\"108.193033\" y=\"145.504794\" style=\"fill: #ff0000; stroke: #ff0000\"/>\n",
       "     <use xlink:href=\"#me83bb59dfe\" x=\"111.202278\" y=\"143.179222\" style=\"fill: #ff0000; stroke: #ff0000\"/>\n",
       "     <use xlink:href=\"#me83bb59dfe\" x=\"114.211523\" y=\"142.995946\" style=\"fill: #ff0000; stroke: #ff0000\"/>\n",
       "     <use xlink:href=\"#me83bb59dfe\" x=\"117.220768\" y=\"142.650294\" style=\"fill: #ff0000; stroke: #ff0000\"/>\n",
       "     <use xlink:href=\"#me83bb59dfe\" x=\"120.230013\" y=\"143.830036\" style=\"fill: #ff0000; stroke: #ff0000\"/>\n",
       "     <use xlink:href=\"#me83bb59dfe\" x=\"123.239258\" y=\"145.529008\" style=\"fill: #ff0000; stroke: #ff0000\"/>\n",
       "     <use xlink:href=\"#me83bb59dfe\" x=\"126.248503\" y=\"142.292806\" style=\"fill: #ff0000; stroke: #ff0000\"/>\n",
       "     <use xlink:href=\"#me83bb59dfe\" x=\"129.257747\" y=\"144.058213\" style=\"fill: #ff0000; stroke: #ff0000\"/>\n",
       "     <use xlink:href=\"#me83bb59dfe\" x=\"132.266992\" y=\"145.108096\" style=\"fill: #ff0000; stroke: #ff0000\"/>\n",
       "     <use xlink:href=\"#me83bb59dfe\" x=\"135.276237\" y=\"143.632118\" style=\"fill: #ff0000; stroke: #ff0000\"/>\n",
       "     <use xlink:href=\"#me83bb59dfe\" x=\"138.285482\" y=\"151.987959\" style=\"fill: #ff0000; stroke: #ff0000\"/>\n",
       "     <use xlink:href=\"#me83bb59dfe\" x=\"141.294727\" y=\"145.368407\" style=\"fill: #ff0000; stroke: #ff0000\"/>\n",
       "     <use xlink:href=\"#me83bb59dfe\" x=\"144.303972\" y=\"141.657414\" style=\"fill: #ff0000; stroke: #ff0000\"/>\n",
       "     <use xlink:href=\"#me83bb59dfe\" x=\"147.313217\" y=\"140.764317\" style=\"fill: #ff0000; stroke: #ff0000\"/>\n",
       "     <use xlink:href=\"#me83bb59dfe\" x=\"150.322462\" y=\"140.006496\" style=\"fill: #ff0000; stroke: #ff0000\"/>\n",
       "     <use xlink:href=\"#me83bb59dfe\" x=\"153.331707\" y=\"137.121861\" style=\"fill: #ff0000; stroke: #ff0000\"/>\n",
       "     <use xlink:href=\"#me83bb59dfe\" x=\"156.340952\" y=\"134.626123\" style=\"fill: #ff0000; stroke: #ff0000\"/>\n",
       "     <use xlink:href=\"#me83bb59dfe\" x=\"159.350197\" y=\"138.669445\" style=\"fill: #ff0000; stroke: #ff0000\"/>\n",
       "     <use xlink:href=\"#me83bb59dfe\" x=\"162.359442\" y=\"140.861557\" style=\"fill: #ff0000; stroke: #ff0000\"/>\n",
       "     <use xlink:href=\"#me83bb59dfe\" x=\"165.368687\" y=\"142.41833\" style=\"fill: #ff0000; stroke: #ff0000\"/>\n",
       "     <use xlink:href=\"#me83bb59dfe\" x=\"168.377932\" y=\"143.318688\" style=\"fill: #ff0000; stroke: #ff0000\"/>\n",
       "     <use xlink:href=\"#me83bb59dfe\" x=\"171.387177\" y=\"144.814115\" style=\"fill: #ff0000; stroke: #ff0000\"/>\n",
       "     <use xlink:href=\"#me83bb59dfe\" x=\"174.396422\" y=\"146.247484\" style=\"fill: #ff0000; stroke: #ff0000\"/>\n",
       "     <use xlink:href=\"#me83bb59dfe\" x=\"177.405667\" y=\"152.204009\" style=\"fill: #ff0000; stroke: #ff0000\"/>\n",
       "     <use xlink:href=\"#me83bb59dfe\" x=\"180.414912\" y=\"151.157611\" style=\"fill: #ff0000; stroke: #ff0000\"/>\n",
       "     <use xlink:href=\"#me83bb59dfe\" x=\"183.424157\" y=\"144.642004\" style=\"fill: #ff0000; stroke: #ff0000\"/>\n",
       "     <use xlink:href=\"#me83bb59dfe\" x=\"186.433402\" y=\"145.15739\" style=\"fill: #ff0000; stroke: #ff0000\"/>\n",
       "     <use xlink:href=\"#me83bb59dfe\" x=\"189.442647\" y=\"147.968713\" style=\"fill: #ff0000; stroke: #ff0000\"/>\n",
       "     <use xlink:href=\"#me83bb59dfe\" x=\"192.451892\" y=\"146.687857\" style=\"fill: #ff0000; stroke: #ff0000\"/>\n",
       "     <use xlink:href=\"#me83bb59dfe\" x=\"195.461137\" y=\"148.613678\" style=\"fill: #ff0000; stroke: #ff0000\"/>\n",
       "     <use xlink:href=\"#me83bb59dfe\" x=\"198.470382\" y=\"154.618125\" style=\"fill: #ff0000; stroke: #ff0000\"/>\n",
       "     <use xlink:href=\"#me83bb59dfe\" x=\"201.479627\" y=\"153.989095\" style=\"fill: #ff0000; stroke: #ff0000\"/>\n",
       "     <use xlink:href=\"#me83bb59dfe\" x=\"204.488872\" y=\"153.76095\" style=\"fill: #ff0000; stroke: #ff0000\"/>\n",
       "     <use xlink:href=\"#me83bb59dfe\" x=\"207.498117\" y=\"151.440346\" style=\"fill: #ff0000; stroke: #ff0000\"/>\n",
       "     <use xlink:href=\"#me83bb59dfe\" x=\"210.507362\" y=\"130.335533\" style=\"fill: #ff0000; stroke: #ff0000\"/>\n",
       "     <use xlink:href=\"#me83bb59dfe\" x=\"213.516607\" y=\"125.030449\" style=\"fill: #ff0000; stroke: #ff0000\"/>\n",
       "     <use xlink:href=\"#me83bb59dfe\" x=\"216.525852\" y=\"120.154933\" style=\"fill: #ff0000; stroke: #ff0000\"/>\n",
       "    </g>\n",
       "   </g>\n",
       "   <g id=\"line2d_16\">\n",
       "    <path d=\"M 38.980398 132.710266 \n",
       "L 41.989643 95.292275 \n",
       "L 44.998888 124.618543 \n",
       "L 48.008133 121.494838 \n",
       "L 51.017378 107.820324 \n",
       "L 54.026623 90.257794 \n",
       "L 57.035868 84.276232 \n",
       "L 60.045113 60.88168 \n",
       "L 63.054358 61.230604 \n",
       "L 66.063603 41.09268 \n",
       "L 69.072848 39.597289 \n",
       "L 72.082093 40.644063 \n",
       "L 75.091338 41.524682 \n",
       "L 78.100583 38.334515 \n",
       "L 81.109828 35.991737 \n",
       "L 84.119073 36.074814 \n",
       "L 87.128318 33.848344 \n",
       "L 90.137563 46.625624 \n",
       "L 93.146808 43.036687 \n",
       "L 96.156053 41.27545 \n",
       "L 99.165298 41.109295 \n",
       "L 102.174543 40.079137 \n",
       "L 105.183788 38.700055 \n",
       "L 108.193033 38.085284 \n",
       "L 111.202278 41.341912 \n",
       "L 114.211523 42.255761 \n",
       "L 117.220768 41.940068 \n",
       "L 120.230013 42.255761 \n",
       "L 123.239258 41.042834 \n",
       "L 126.248503 38.284669 \n",
       "L 129.257747 36.988664 \n",
       "L 132.266992 37.154818 \n",
       "L 135.276237 40.328369 \n",
       "L 138.285482 33.997883 \n",
       "L 141.294727 37.437281 \n",
       "L 144.303972 39.929598 \n",
       "L 147.313217 40.378216 \n",
       "L 150.322462 40.660678 \n",
       "L 153.331707 45.462543 \n",
       "L 156.340952 48.037938 \n",
       "L 159.350197 43.285919 \n",
       "L 162.359442 43.086534 \n",
       "L 165.368687 40.394831 \n",
       "L 168.377932 40.560986 \n",
       "L 171.387177 38.949287 \n",
       "L 174.396422 38.052053 \n",
       "L 177.405667 34.861886 \n",
       "L 180.414912 34.712347 \n",
       "L 183.424157 40.128984 \n",
       "L 186.433402 40.461293 \n",
       "L 189.442647 40.212061 \n",
       "L 192.451892 40.328369 \n",
       "L 195.461137 36.972048 \n",
       "L 198.470382 34.08096 \n",
       "L 201.479627 33.366496 \n",
       "L 204.488872 35.260657 \n",
       "L 207.498117 37.204665 \n",
       "L 210.507362 49.433635 \n",
       "L 213.516607 57.392435 \n",
       "L 216.525852 63.506921 \n",
       "\" clip-path=\"url(#p127e8877ff)\" style=\"fill: none; stroke-dasharray: 9.6,2.4,1.5,2.4; stroke-dashoffset: 0; stroke: #008000; stroke-width: 1.5\"/>\n",
       "   </g>\n",
       "   <g id=\"line2d_17\">\n",
       "    <path d=\"M 38.980398 79.560103 \n",
       "L 41.989643 143.424679 \n",
       "L 44.998888 146.035809 \n",
       "L 48.008133 110.394719 \n",
       "L 51.017378 99.118629 \n",
       "L 54.026623 79.04453 \n",
       "L 57.035868 71.477243 \n",
       "L 60.045113 43.736068 \n",
       "L 63.054358 35.237422 \n",
       "L 66.063603 33.008815 \n",
       "L 69.072848 32.47661 \n",
       "L 72.082093 35.603313 \n",
       "L 75.091338 38.031497 \n",
       "L 78.100583 32.24377 \n",
       "L 81.109828 32.376821 \n",
       "L 84.119073 30.58063 \n",
       "L 87.128318 29.532852 \n",
       "L 90.137563 35.786258 \n",
       "L 93.146808 36.617828 \n",
       "L 96.156053 36.002467 \n",
       "L 99.165298 35.719733 \n",
       "L 102.174543 34.239538 \n",
       "L 105.183788 32.493241 \n",
       "L 108.193033 32.24377 \n",
       "L 111.202278 36.501409 \n",
       "L 114.211523 39.029381 \n",
       "L 117.220768 35.403736 \n",
       "L 120.230013 33.574282 \n",
       "L 123.239258 36.218675 \n",
       "L 126.248503 30.69705 \n",
       "L 129.257747 32.659555 \n",
       "L 132.266992 31.894511 \n",
       "L 135.276237 28.618125 \n",
       "L 138.285482 29.582746 \n",
       "L 141.294727 36.068992 \n",
       "L 144.303972 32.809238 \n",
       "L 147.313217 36.917194 \n",
       "L 150.322462 42.072928 \n",
       "L 153.331707 46.147621 \n",
       "L 156.340952 39.711269 \n",
       "L 159.350197 41.108306 \n",
       "L 162.359442 40.160317 \n",
       "L 165.368687 38.77991 \n",
       "L 168.377932 39.145801 \n",
       "L 171.387177 37.998235 \n",
       "L 174.396422 35.320579 \n",
       "L 177.405667 32.326927 \n",
       "L 180.414912 38.547071 \n",
       "L 183.424157 39.112538 \n",
       "L 186.433402 38.330863 \n",
       "L 189.442647 39.594849 \n",
       "L 192.451892 38.098023 \n",
       "L 195.461137 35.869415 \n",
       "L 198.470382 31.595146 \n",
       "L 201.479627 32.95892 \n",
       "L 204.488872 34.489009 \n",
       "L 207.498117 42.621764 \n",
       "L 210.507362 44.11859 \n",
       "L 213.516607 53.764802 \n",
       "L 216.525852 58.820747 \n",
       "\" clip-path=\"url(#p127e8877ff)\" style=\"fill: none; stroke-dasharray: 9.6,2.4,1.5,2.4; stroke-dashoffset: 0; stroke: #0000ff; stroke-width: 1.5\"/>\n",
       "   </g>\n",
       "   <g id=\"patch_3\">\n",
       "    <path d=\"M 30.103125 160.918125 \n",
       "L 30.103125 22.318125 \n",
       "\" style=\"fill: none; stroke: #000000; stroke-width: 0.8; stroke-linejoin: miter; stroke-linecap: square\"/>\n",
       "   </g>\n",
       "   <g id=\"patch_4\">\n",
       "    <path d=\"M 225.403125 160.918125 \n",
       "L 225.403125 22.318125 \n",
       "\" style=\"fill: none; stroke: #000000; stroke-width: 0.8; stroke-linejoin: miter; stroke-linecap: square\"/>\n",
       "   </g>\n",
       "   <g id=\"patch_5\">\n",
       "    <path d=\"M 30.103125 160.918125 \n",
       "L 225.403125 160.918125 \n",
       "\" style=\"fill: none; stroke: #000000; stroke-width: 0.8; stroke-linejoin: miter; stroke-linecap: square\"/>\n",
       "   </g>\n",
       "   <g id=\"patch_6\">\n",
       "    <path d=\"M 30.103125 22.318125 \n",
       "L 225.403125 22.318125 \n",
       "\" style=\"fill: none; stroke: #000000; stroke-width: 0.8; stroke-linejoin: miter; stroke-linecap: square\"/>\n",
       "   </g>\n",
       "   <g id=\"text_8\">\n",
       "    <!-- train loss and accuracy -->\n",
       "    <g transform=\"translate(58.118438 16.318125)scale(0.12 -0.12)\">\n",
       "     <defs>\n",
       "      <path id=\"DejaVuSans-74\" d=\"M 1172 4494 \n",
       "L 1172 3500 \n",
       "L 2356 3500 \n",
       "L 2356 3053 \n",
       "L 1172 3053 \n",
       "L 1172 1153 \n",
       "Q 1172 725 1289 603 \n",
       "Q 1406 481 1766 481 \n",
       "L 2356 481 \n",
       "L 2356 0 \n",
       "L 1766 0 \n",
       "Q 1100 0 847 248 \n",
       "Q 594 497 594 1153 \n",
       "L 594 3053 \n",
       "L 172 3053 \n",
       "L 172 3500 \n",
       "L 594 3500 \n",
       "L 594 4494 \n",
       "L 1172 4494 \n",
       "z\n",
       "\" transform=\"scale(0.015625)\"/>\n",
       "      <path id=\"DejaVuSans-72\" d=\"M 2631 2963 \n",
       "Q 2534 3019 2420 3045 \n",
       "Q 2306 3072 2169 3072 \n",
       "Q 1681 3072 1420 2755 \n",
       "Q 1159 2438 1159 1844 \n",
       "L 1159 0 \n",
       "L 581 0 \n",
       "L 581 3500 \n",
       "L 1159 3500 \n",
       "L 1159 2956 \n",
       "Q 1341 3275 1631 3429 \n",
       "Q 1922 3584 2338 3584 \n",
       "Q 2397 3584 2469 3576 \n",
       "Q 2541 3569 2628 3553 \n",
       "L 2631 2963 \n",
       "z\n",
       "\" transform=\"scale(0.015625)\"/>\n",
       "      <path id=\"DejaVuSans-61\" d=\"M 2194 1759 \n",
       "Q 1497 1759 1228 1600 \n",
       "Q 959 1441 959 1056 \n",
       "Q 959 750 1161 570 \n",
       "Q 1363 391 1709 391 \n",
       "Q 2188 391 2477 730 \n",
       "Q 2766 1069 2766 1631 \n",
       "L 2766 1759 \n",
       "L 2194 1759 \n",
       "z\n",
       "M 3341 1997 \n",
       "L 3341 0 \n",
       "L 2766 0 \n",
       "L 2766 531 \n",
       "Q 2569 213 2275 61 \n",
       "Q 1981 -91 1556 -91 \n",
       "Q 1019 -91 701 211 \n",
       "Q 384 513 384 1019 \n",
       "Q 384 1609 779 1909 \n",
       "Q 1175 2209 1959 2209 \n",
       "L 2766 2209 \n",
       "L 2766 2266 \n",
       "Q 2766 2663 2505 2880 \n",
       "Q 2244 3097 1772 3097 \n",
       "Q 1472 3097 1187 3025 \n",
       "Q 903 2953 641 2809 \n",
       "L 641 3341 \n",
       "Q 956 3463 1253 3523 \n",
       "Q 1550 3584 1831 3584 \n",
       "Q 2591 3584 2966 3190 \n",
       "Q 3341 2797 3341 1997 \n",
       "z\n",
       "\" transform=\"scale(0.015625)\"/>\n",
       "      <path id=\"DejaVuSans-69\" d=\"M 603 3500 \n",
       "L 1178 3500 \n",
       "L 1178 0 \n",
       "L 603 0 \n",
       "L 603 3500 \n",
       "z\n",
       "M 603 4863 \n",
       "L 1178 4863 \n",
       "L 1178 4134 \n",
       "L 603 4134 \n",
       "L 603 4863 \n",
       "z\n",
       "\" transform=\"scale(0.015625)\"/>\n",
       "      <path id=\"DejaVuSans-6e\" d=\"M 3513 2113 \n",
       "L 3513 0 \n",
       "L 2938 0 \n",
       "L 2938 2094 \n",
       "Q 2938 2591 2744 2837 \n",
       "Q 2550 3084 2163 3084 \n",
       "Q 1697 3084 1428 2787 \n",
       "Q 1159 2491 1159 1978 \n",
       "L 1159 0 \n",
       "L 581 0 \n",
       "L 581 3500 \n",
       "L 1159 3500 \n",
       "L 1159 2956 \n",
       "Q 1366 3272 1645 3428 \n",
       "Q 1925 3584 2291 3584 \n",
       "Q 2894 3584 3203 3211 \n",
       "Q 3513 2838 3513 2113 \n",
       "z\n",
       "\" transform=\"scale(0.015625)\"/>\n",
       "      <path id=\"DejaVuSans-20\" transform=\"scale(0.015625)\"/>\n",
       "      <path id=\"DejaVuSans-6c\" d=\"M 603 4863 \n",
       "L 1178 4863 \n",
       "L 1178 0 \n",
       "L 603 0 \n",
       "L 603 4863 \n",
       "z\n",
       "\" transform=\"scale(0.015625)\"/>\n",
       "      <path id=\"DejaVuSans-6f\" d=\"M 1959 3097 \n",
       "Q 1497 3097 1228 2736 \n",
       "Q 959 2375 959 1747 \n",
       "Q 959 1119 1226 758 \n",
       "Q 1494 397 1959 397 \n",
       "Q 2419 397 2687 759 \n",
       "Q 2956 1122 2956 1747 \n",
       "Q 2956 2369 2687 2733 \n",
       "Q 2419 3097 1959 3097 \n",
       "z\n",
       "M 1959 3584 \n",
       "Q 2709 3584 3137 3096 \n",
       "Q 3566 2609 3566 1747 \n",
       "Q 3566 888 3137 398 \n",
       "Q 2709 -91 1959 -91 \n",
       "Q 1206 -91 779 398 \n",
       "Q 353 888 353 1747 \n",
       "Q 353 2609 779 3096 \n",
       "Q 1206 3584 1959 3584 \n",
       "z\n",
       "\" transform=\"scale(0.015625)\"/>\n",
       "      <path id=\"DejaVuSans-73\" d=\"M 2834 3397 \n",
       "L 2834 2853 \n",
       "Q 2591 2978 2328 3040 \n",
       "Q 2066 3103 1784 3103 \n",
       "Q 1356 3103 1142 2972 \n",
       "Q 928 2841 928 2578 \n",
       "Q 928 2378 1081 2264 \n",
       "Q 1234 2150 1697 2047 \n",
       "L 1894 2003 \n",
       "Q 2506 1872 2764 1633 \n",
       "Q 3022 1394 3022 966 \n",
       "Q 3022 478 2636 193 \n",
       "Q 2250 -91 1575 -91 \n",
       "Q 1294 -91 989 -36 \n",
       "Q 684 19 347 128 \n",
       "L 347 722 \n",
       "Q 666 556 975 473 \n",
       "Q 1284 391 1588 391 \n",
       "Q 1994 391 2212 530 \n",
       "Q 2431 669 2431 922 \n",
       "Q 2431 1156 2273 1281 \n",
       "Q 2116 1406 1581 1522 \n",
       "L 1381 1569 \n",
       "Q 847 1681 609 1914 \n",
       "Q 372 2147 372 2553 \n",
       "Q 372 3047 722 3315 \n",
       "Q 1072 3584 1716 3584 \n",
       "Q 2034 3584 2315 3537 \n",
       "Q 2597 3491 2834 3397 \n",
       "z\n",
       "\" transform=\"scale(0.015625)\"/>\n",
       "      <path id=\"DejaVuSans-64\" d=\"M 2906 2969 \n",
       "L 2906 4863 \n",
       "L 3481 4863 \n",
       "L 3481 0 \n",
       "L 2906 0 \n",
       "L 2906 525 \n",
       "Q 2725 213 2448 61 \n",
       "Q 2172 -91 1784 -91 \n",
       "Q 1150 -91 751 415 \n",
       "Q 353 922 353 1747 \n",
       "Q 353 2572 751 3078 \n",
       "Q 1150 3584 1784 3584 \n",
       "Q 2172 3584 2448 3432 \n",
       "Q 2725 3281 2906 2969 \n",
       "z\n",
       "M 947 1747 \n",
       "Q 947 1113 1208 752 \n",
       "Q 1469 391 1925 391 \n",
       "Q 2381 391 2643 752 \n",
       "Q 2906 1113 2906 1747 \n",
       "Q 2906 2381 2643 2742 \n",
       "Q 2381 3103 1925 3103 \n",
       "Q 1469 3103 1208 2742 \n",
       "Q 947 2381 947 1747 \n",
       "z\n",
       "\" transform=\"scale(0.015625)\"/>\n",
       "      <path id=\"DejaVuSans-63\" d=\"M 3122 3366 \n",
       "L 3122 2828 \n",
       "Q 2878 2963 2633 3030 \n",
       "Q 2388 3097 2138 3097 \n",
       "Q 1578 3097 1268 2742 \n",
       "Q 959 2388 959 1747 \n",
       "Q 959 1106 1268 751 \n",
       "Q 1578 397 2138 397 \n",
       "Q 2388 397 2633 464 \n",
       "Q 2878 531 3122 666 \n",
       "L 3122 134 \n",
       "Q 2881 22 2623 -34 \n",
       "Q 2366 -91 2075 -91 \n",
       "Q 1284 -91 818 406 \n",
       "Q 353 903 353 1747 \n",
       "Q 353 2603 823 3093 \n",
       "Q 1294 3584 2113 3584 \n",
       "Q 2378 3584 2631 3529 \n",
       "Q 2884 3475 3122 3366 \n",
       "z\n",
       "\" transform=\"scale(0.015625)\"/>\n",
       "      <path id=\"DejaVuSans-75\" d=\"M 544 1381 \n",
       "L 544 3500 \n",
       "L 1119 3500 \n",
       "L 1119 1403 \n",
       "Q 1119 906 1312 657 \n",
       "Q 1506 409 1894 409 \n",
       "Q 2359 409 2629 706 \n",
       "Q 2900 1003 2900 1516 \n",
       "L 2900 3500 \n",
       "L 3475 3500 \n",
       "L 3475 0 \n",
       "L 2900 0 \n",
       "L 2900 538 \n",
       "Q 2691 219 2414 64 \n",
       "Q 2138 -91 1772 -91 \n",
       "Q 1169 -91 856 284 \n",
       "Q 544 659 544 1381 \n",
       "z\n",
       "M 1991 3584 \n",
       "L 1991 3584 \n",
       "z\n",
       "\" transform=\"scale(0.015625)\"/>\n",
       "      <path id=\"DejaVuSans-79\" d=\"M 2059 -325 \n",
       "Q 1816 -950 1584 -1140 \n",
       "Q 1353 -1331 966 -1331 \n",
       "L 506 -1331 \n",
       "L 506 -850 \n",
       "L 844 -850 \n",
       "Q 1081 -850 1212 -737 \n",
       "Q 1344 -625 1503 -206 \n",
       "L 1606 56 \n",
       "L 191 3500 \n",
       "L 800 3500 \n",
       "L 1894 763 \n",
       "L 2988 3500 \n",
       "L 3597 3500 \n",
       "L 2059 -325 \n",
       "z\n",
       "\" transform=\"scale(0.015625)\"/>\n",
       "     </defs>\n",
       "     <use xlink:href=\"#DejaVuSans-74\"/>\n",
       "     <use xlink:href=\"#DejaVuSans-72\" x=\"39.208984\"/>\n",
       "     <use xlink:href=\"#DejaVuSans-61\" x=\"80.322266\"/>\n",
       "     <use xlink:href=\"#DejaVuSans-69\" x=\"141.601562\"/>\n",
       "     <use xlink:href=\"#DejaVuSans-6e\" x=\"169.384766\"/>\n",
       "     <use xlink:href=\"#DejaVuSans-20\" x=\"232.763672\"/>\n",
       "     <use xlink:href=\"#DejaVuSans-6c\" x=\"264.550781\"/>\n",
       "     <use xlink:href=\"#DejaVuSans-6f\" x=\"292.333984\"/>\n",
       "     <use xlink:href=\"#DejaVuSans-73\" x=\"353.515625\"/>\n",
       "     <use xlink:href=\"#DejaVuSans-73\" x=\"405.615234\"/>\n",
       "     <use xlink:href=\"#DejaVuSans-20\" x=\"457.714844\"/>\n",
       "     <use xlink:href=\"#DejaVuSans-61\" x=\"489.501953\"/>\n",
       "     <use xlink:href=\"#DejaVuSans-6e\" x=\"550.78125\"/>\n",
       "     <use xlink:href=\"#DejaVuSans-64\" x=\"614.160156\"/>\n",
       "     <use xlink:href=\"#DejaVuSans-20\" x=\"677.636719\"/>\n",
       "     <use xlink:href=\"#DejaVuSans-61\" x=\"709.423828\"/>\n",
       "     <use xlink:href=\"#DejaVuSans-63\" x=\"770.703125\"/>\n",
       "     <use xlink:href=\"#DejaVuSans-63\" x=\"825.683594\"/>\n",
       "     <use xlink:href=\"#DejaVuSans-75\" x=\"880.664062\"/>\n",
       "     <use xlink:href=\"#DejaVuSans-72\" x=\"944.042969\"/>\n",
       "     <use xlink:href=\"#DejaVuSans-61\" x=\"985.15625\"/>\n",
       "     <use xlink:href=\"#DejaVuSans-63\" x=\"1046.435547\"/>\n",
       "     <use xlink:href=\"#DejaVuSans-79\" x=\"1101.416016\"/>\n",
       "    </g>\n",
       "   </g>\n",
       "   <g id=\"legend_1\">\n",
       "    <g id=\"line2d_18\">\n",
       "     <path d=\"M 143.003125 75.92125 \n",
       "L 153.003125 75.92125 \n",
       "L 163.003125 75.92125 \n",
       "\" style=\"fill: none; stroke: #ff0000; stroke-width: 1.5; stroke-linecap: square\"/>\n",
       "     <g>\n",
       "      <use xlink:href=\"#me83bb59dfe\" x=\"153.003125\" y=\"75.92125\" style=\"fill: #ff0000; stroke: #ff0000\"/>\n",
       "     </g>\n",
       "    </g>\n",
       "    <g id=\"text_9\">\n",
       "     <!-- loss -->\n",
       "     <g transform=\"translate(171.003125 79.42125)scale(0.1 -0.1)\">\n",
       "      <use xlink:href=\"#DejaVuSans-6c\"/>\n",
       "      <use xlink:href=\"#DejaVuSans-6f\" x=\"27.783203\"/>\n",
       "      <use xlink:href=\"#DejaVuSans-73\" x=\"88.964844\"/>\n",
       "      <use xlink:href=\"#DejaVuSans-73\" x=\"141.064453\"/>\n",
       "     </g>\n",
       "    </g>\n",
       "    <g id=\"line2d_19\">\n",
       "     <path d=\"M 143.003125 90.599375 \n",
       "L 153.003125 90.599375 \n",
       "L 163.003125 90.599375 \n",
       "\" style=\"fill: none; stroke-dasharray: 9.6,2.4,1.5,2.4; stroke-dashoffset: 0; stroke: #008000; stroke-width: 1.5\"/>\n",
       "    </g>\n",
       "    <g id=\"text_10\">\n",
       "     <!-- train_acc -->\n",
       "     <g transform=\"translate(171.003125 94.099375)scale(0.1 -0.1)\">\n",
       "      <defs>\n",
       "       <path id=\"DejaVuSans-5f\" d=\"M 3263 -1063 \n",
       "L 3263 -1509 \n",
       "L -63 -1509 \n",
       "L -63 -1063 \n",
       "L 3263 -1063 \n",
       "z\n",
       "\" transform=\"scale(0.015625)\"/>\n",
       "      </defs>\n",
       "      <use xlink:href=\"#DejaVuSans-74\"/>\n",
       "      <use xlink:href=\"#DejaVuSans-72\" x=\"39.208984\"/>\n",
       "      <use xlink:href=\"#DejaVuSans-61\" x=\"80.322266\"/>\n",
       "      <use xlink:href=\"#DejaVuSans-69\" x=\"141.601562\"/>\n",
       "      <use xlink:href=\"#DejaVuSans-6e\" x=\"169.384766\"/>\n",
       "      <use xlink:href=\"#DejaVuSans-5f\" x=\"232.763672\"/>\n",
       "      <use xlink:href=\"#DejaVuSans-61\" x=\"282.763672\"/>\n",
       "      <use xlink:href=\"#DejaVuSans-63\" x=\"344.042969\"/>\n",
       "      <use xlink:href=\"#DejaVuSans-63\" x=\"399.023438\"/>\n",
       "     </g>\n",
       "    </g>\n",
       "    <g id=\"line2d_20\">\n",
       "     <path d=\"M 143.003125 105.555625 \n",
       "L 153.003125 105.555625 \n",
       "L 163.003125 105.555625 \n",
       "\" style=\"fill: none; stroke-dasharray: 9.6,2.4,1.5,2.4; stroke-dashoffset: 0; stroke: #0000ff; stroke-width: 1.5\"/>\n",
       "    </g>\n",
       "    <g id=\"text_11\">\n",
       "     <!-- test_acc -->\n",
       "     <g transform=\"translate(171.003125 109.055625)scale(0.1 -0.1)\">\n",
       "      <defs>\n",
       "       <path id=\"DejaVuSans-65\" d=\"M 3597 1894 \n",
       "L 3597 1613 \n",
       "L 953 1613 \n",
       "Q 991 1019 1311 708 \n",
       "Q 1631 397 2203 397 \n",
       "Q 2534 397 2845 478 \n",
       "Q 3156 559 3463 722 \n",
       "L 3463 178 \n",
       "Q 3153 47 2828 -22 \n",
       "Q 2503 -91 2169 -91 \n",
       "Q 1331 -91 842 396 \n",
       "Q 353 884 353 1716 \n",
       "Q 353 2575 817 3079 \n",
       "Q 1281 3584 2069 3584 \n",
       "Q 2775 3584 3186 3129 \n",
       "Q 3597 2675 3597 1894 \n",
       "z\n",
       "M 3022 2063 \n",
       "Q 3016 2534 2758 2815 \n",
       "Q 2500 3097 2075 3097 \n",
       "Q 1594 3097 1305 2825 \n",
       "Q 1016 2553 972 2059 \n",
       "L 3022 2063 \n",
       "z\n",
       "\" transform=\"scale(0.015625)\"/>\n",
       "      </defs>\n",
       "      <use xlink:href=\"#DejaVuSans-74\"/>\n",
       "      <use xlink:href=\"#DejaVuSans-65\" x=\"39.208984\"/>\n",
       "      <use xlink:href=\"#DejaVuSans-73\" x=\"100.732422\"/>\n",
       "      <use xlink:href=\"#DejaVuSans-74\" x=\"152.832031\"/>\n",
       "      <use xlink:href=\"#DejaVuSans-5f\" x=\"192.041016\"/>\n",
       "      <use xlink:href=\"#DejaVuSans-61\" x=\"242.041016\"/>\n",
       "      <use xlink:href=\"#DejaVuSans-63\" x=\"303.320312\"/>\n",
       "      <use xlink:href=\"#DejaVuSans-63\" x=\"358.300781\"/>\n",
       "     </g>\n",
       "    </g>\n",
       "   </g>\n",
       "  </g>\n",
       " </g>\n",
       " <defs>\n",
       "  <clipPath id=\"p127e8877ff\">\n",
       "   <rect x=\"30.103125\" y=\"22.318125\" width=\"195.3\" height=\"138.6\"/>\n",
       "  </clipPath>\n",
       " </defs>\n",
       "</svg>\n"
      ],
      "text/plain": [
       "<Figure size 350x250 with 1 Axes>"
      ]
     },
     "metadata": {},
     "output_type": "display_data"
    }
   ],
   "source": [
    "fig = plt.figure()\n",
    "plt.title('train loss and accuracy')\n",
    "epochs = np.arange(1, num_epochs + 1)\n",
    "# losses, train_accuracy, test_accuracy\n",
    "plt.plot(epochs, losses, 'r.-', label='loss')\n",
    "plt.plot(epochs, train_accuracy, 'g-.', label='train_acc')\n",
    "plt.plot(epochs, test_accuracy, 'b-.', label='test_acc')\n",
    "plt.grid()\n",
    "plt.legend(loc='best', frameon=False)\n",
    "plt.show()"
   ]
  },
  {
   "cell_type": "code",
   "execution_count": null,
   "id": "ce8cfb94-27aa-4027-bd9e-429d3799a7fa",
   "metadata": {},
   "outputs": [],
   "source": []
  }
 ],
 "metadata": {
  "kernelspec": {
   "display_name": "Python 3 (ipykernel)",
   "language": "python",
   "name": "python3"
  },
  "language_info": {
   "codemirror_mode": {
    "name": "ipython",
    "version": 3
   },
   "file_extension": ".py",
   "mimetype": "text/x-python",
   "name": "python",
   "nbconvert_exporter": "python",
   "pygments_lexer": "ipython3",
   "version": "3.8.10"
  }
 },
 "nbformat": 4,
 "nbformat_minor": 5
}
