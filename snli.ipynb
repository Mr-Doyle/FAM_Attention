{
 "cells": [
  {
   "cell_type": "markdown",
   "id": "9dc67958-78f6-433c-9e91-3983901ff72c",
   "metadata": {},
   "source": [
    "# 测试"
   ]
  },
  {
   "cell_type": "code",
   "execution_count": 1,
   "id": "9531987d-4d39-4d31-b859-29a457792fcc",
   "metadata": {},
   "outputs": [
    {
     "name": "stderr",
     "output_type": "stream",
     "text": [
      "Using the latest cached version of the module from /root/.cache/huggingface/modules/datasets_modules/datasets/snli/1f60b67533b65ae0275561ff7828aad5ee4282d0e6f844fd148d05d3c6ea251b (last modified on Tue Oct  4 10:42:09 2022) since it couldn't be found locally at snli., or remotely on the Hugging Face Hub.\n",
      "Reusing dataset snli (/root/.cache/huggingface/datasets/snli/plain_text/1.0.0/1f60b67533b65ae0275561ff7828aad5ee4282d0e6f844fd148d05d3c6ea251b)\n"
     ]
    },
    {
     "data": {
      "application/vnd.jupyter.widget-view+json": {
       "model_id": "38151fc006214eddb54a7e06887d0b91",
       "version_major": 2,
       "version_minor": 0
      },
      "text/plain": [
       "  0%|          | 0/3 [00:00<?, ?it/s]"
      ]
     },
     "metadata": {},
     "output_type": "display_data"
    }
   ],
   "source": [
    "from datasets import load_dataset\n",
    "\n",
    "dataset = load_dataset('snli')"
   ]
  },
  {
   "cell_type": "code",
   "execution_count": 4,
   "id": "bf0ac5d7-3db1-4191-93c2-d874c49b0522",
   "metadata": {},
   "outputs": [
    {
     "data": {
      "text/plain": [
       "(550152, 10000, 10000)"
      ]
     },
     "execution_count": 4,
     "metadata": {},
     "output_type": "execute_result"
    }
   ],
   "source": [
    "len(dataset['train']), len(dataset['test']), len(dataset['validation'])"
   ]
  },
  {
   "cell_type": "code",
   "execution_count": 10,
   "id": "4dec8042-177f-40a7-a616-16ec3ceb5c41",
   "metadata": {},
   "outputs": [
    {
     "data": {
      "text/plain": [
       "{'premise': 'A person on a horse jumps over a broken down airplane.',\n",
       " 'hypothesis': 'A person is training his horse for a competition.',\n",
       " 'label': 1}"
      ]
     },
     "execution_count": 10,
     "metadata": {},
     "output_type": "execute_result"
    }
   ],
   "source": [
    "dataset['train'][0]"
   ]
  },
  {
   "cell_type": "code",
   "execution_count": 13,
   "id": "4d6a3e82-1656-4d8d-aaf2-d494490c64c9",
   "metadata": {},
   "outputs": [
    {
     "name": "stdout",
     "output_type": "stream",
     "text": [
      "282 A couple, who appear to be Indian or Pakistani, walk on a path beside a body of water, the mother carrying a child in a diaper, the father wrapped in a blanket with the logo of the humanitarian organization \"Save the Children.\"\n"
     ]
    }
   ],
   "source": [
    "for i, sen in enumerate(dataset['train']['premise']):\n",
    "    if sen[-1] != '.' and not (97 <= ord(sen[-1]) <= 122):\n",
    "        print(i, sen)\n",
    "        break"
   ]
  },
  {
   "cell_type": "code",
   "execution_count": 8,
   "id": "b37746ae-9bd0-4f19-88e6-5df159d60ccb",
   "metadata": {},
   "outputs": [],
   "source": [
    "import re\n",
    "\n",
    "\n",
    "def process(sentence):\n",
    "    sentence = re.sub(r'[^0-9a-zA-Z]', ' ', sentence)\n",
    "    sentence = re.sub('\\\\s{2,}', ' ', sentence)\n",
    "    return sentence\n",
    "\n",
    "\n",
    "premise = [process(sen) for sen in dataset['train']['premise']]\n",
    "hypothesis = [process(sen) for sen in dataset['train']['hypothesis']]"
   ]
  },
  {
   "cell_type": "code",
   "execution_count": 9,
   "id": "84fadf5b-38fd-4047-884c-d30c5f5e12d2",
   "metadata": {},
   "outputs": [],
   "source": [
    "from d2l import torch as d2l\n",
    "all_premise_tokens = d2l.tokenize(premise)\n",
    "all_hypothesis_tokens = d2l.tokenize(hypothesis)"
   ]
  },
  {
   "cell_type": "code",
   "execution_count": 11,
   "id": "a26f936e-a7d9-4b40-a876-bad0c9a7832a",
   "metadata": {},
   "outputs": [
    {
     "name": "stdout",
     "output_type": "stream",
     "text": [
      "最大语句长度: 114\n"
     ]
    }
   ],
   "source": [
    "print(f'最大语句长度: {max([len(a) + len(b) for a, b in zip(all_premise_tokens, all_hypothesis_tokens)])}')\n",
    "# print(f'hypothesis的最大语句长度: {max([len(i) for i in all_hypothesis_tokens])}')"
   ]
  },
  {
   "cell_type": "code",
   "execution_count": 13,
   "id": "ae008474-669d-4f2b-9099-157a66dc69d7",
   "metadata": {},
   "outputs": [
    {
     "data": {
      "text/plain": [
       "'A couple who appear to be Indian or Pakistani walk on a path beside a body of water the mother carrying a child in a diaper the father wrapped in a blanket with the logo of the humanitarian organization Save the Children'"
      ]
     },
     "execution_count": 13,
     "metadata": {},
     "output_type": "execute_result"
    }
   ],
   "source": [
    "' '.join(all_premise_tokens[282])"
   ]
  },
  {
   "cell_type": "code",
   "execution_count": 10,
   "id": "548c314b-0930-4a04-8832-7472e3218b89",
   "metadata": {},
   "outputs": [
    {
     "data": {
      "image/svg+xml": [
       "<?xml version=\"1.0\" encoding=\"utf-8\" standalone=\"no\"?>\n",
       "<!DOCTYPE svg PUBLIC \"-//W3C//DTD SVG 1.1//EN\"\n",
       "  \"http://www.w3.org/Graphics/SVG/1.1/DTD/svg11.dtd\">\n",
       "<svg xmlns:xlink=\"http://www.w3.org/1999/xlink\" width=\"272.555725pt\" height=\"183.35625pt\" viewBox=\"0 0 272.555725 183.35625\" xmlns=\"http://www.w3.org/2000/svg\" version=\"1.1\">\n",
       " <metadata>\n",
       "  <rdf:RDF xmlns:dc=\"http://purl.org/dc/elements/1.1/\" xmlns:cc=\"http://creativecommons.org/ns#\" xmlns:rdf=\"http://www.w3.org/1999/02/22-rdf-syntax-ns#\">\n",
       "   <cc:Work>\n",
       "    <dc:type rdf:resource=\"http://purl.org/dc/dcmitype/StillImage\"/>\n",
       "    <dc:date>2022-10-05T10:27:59.696633</dc:date>\n",
       "    <dc:format>image/svg+xml</dc:format>\n",
       "    <dc:creator>\n",
       "     <cc:Agent>\n",
       "      <dc:title>Matplotlib v3.5.1, https://matplotlib.org/</dc:title>\n",
       "     </cc:Agent>\n",
       "    </dc:creator>\n",
       "   </cc:Work>\n",
       "  </rdf:RDF>\n",
       " </metadata>\n",
       " <defs>\n",
       "  <style type=\"text/css\">*{stroke-linejoin: round; stroke-linecap: butt}</style>\n",
       " </defs>\n",
       " <g id=\"figure_1\">\n",
       "  <g id=\"patch_1\">\n",
       "   <path d=\"M 0 183.35625 \n",
       "L 272.555725 183.35625 \n",
       "L 272.555725 0 \n",
       "L 0 0 \n",
       "z\n",
       "\" style=\"fill: #ffffff\"/>\n",
       "  </g>\n",
       "  <g id=\"axes_1\">\n",
       "   <g id=\"patch_2\">\n",
       "    <path d=\"M 66.053125 145.8 \n",
       "L 261.353125 145.8 \n",
       "L 261.353125 7.2 \n",
       "L 66.053125 7.2 \n",
       "z\n",
       "\" style=\"fill: #ffffff\"/>\n",
       "   </g>\n",
       "   <g id=\"patch_3\">\n",
       "    <path d=\"M 74.930398 145.8 \n",
       "L 82.177151 145.8 \n",
       "L 82.177151 106.021172 \n",
       "L 74.930398 106.021172 \n",
       "z\n",
       "\" clip-path=\"url(#pe4e78d0890)\" style=\"fill: #1f77b4\"/>\n",
       "   </g>\n",
       "   <g id=\"patch_4\">\n",
       "    <path d=\"M 93.047281 145.8 \n",
       "L 100.294034 145.8 \n",
       "L 100.294034 41.449009 \n",
       "L 93.047281 41.449009 \n",
       "z\n",
       "\" clip-path=\"url(#pe4e78d0890)\" style=\"fill: #1f77b4\"/>\n",
       "   </g>\n",
       "   <g id=\"patch_5\">\n",
       "    <path d=\"M 111.164164 145.8 \n",
       "L 118.410917 145.8 \n",
       "L 118.410917 112.945836 \n",
       "L 111.164164 112.945836 \n",
       "z\n",
       "\" clip-path=\"url(#pe4e78d0890)\" style=\"fill: #1f77b4\"/>\n",
       "   </g>\n",
       "   <g id=\"patch_6\">\n",
       "    <path d=\"M 129.281047 145.8 \n",
       "L 136.5278 145.8 \n",
       "L 136.5278 140.049741 \n",
       "L 129.281047 140.049741 \n",
       "z\n",
       "\" clip-path=\"url(#pe4e78d0890)\" style=\"fill: #1f77b4\"/>\n",
       "   </g>\n",
       "   <g id=\"patch_7\">\n",
       "    <path d=\"M 147.39793 145.8 \n",
       "L 154.644683 145.8 \n",
       "L 154.644683 144.383065 \n",
       "L 147.39793 144.383065 \n",
       "z\n",
       "\" clip-path=\"url(#pe4e78d0890)\" style=\"fill: #1f77b4\"/>\n",
       "   </g>\n",
       "   <g id=\"patch_8\">\n",
       "    <path d=\"M 165.514813 145.8 \n",
       "L 172.761567 145.8 \n",
       "L 172.761567 145.525268 \n",
       "L 165.514813 145.525268 \n",
       "z\n",
       "\" clip-path=\"url(#pe4e78d0890)\" style=\"fill: #1f77b4\"/>\n",
       "   </g>\n",
       "   <g id=\"patch_9\">\n",
       "    <path d=\"M 183.631696 145.8 \n",
       "L 190.87845 145.8 \n",
       "L 190.87845 145.72553 \n",
       "L 183.631696 145.72553 \n",
       "z\n",
       "\" clip-path=\"url(#pe4e78d0890)\" style=\"fill: #1f77b4\"/>\n",
       "   </g>\n",
       "   <g id=\"patch_10\">\n",
       "    <path d=\"M 201.74858 145.8 \n",
       "L 208.995333 145.8 \n",
       "L 208.995333 145.785911 \n",
       "L 201.74858 145.785911 \n",
       "z\n",
       "\" clip-path=\"url(#pe4e78d0890)\" style=\"fill: #1f77b4\"/>\n",
       "   </g>\n",
       "   <g id=\"patch_11\">\n",
       "    <path d=\"M 219.865463 145.8 \n",
       "L 227.112216 145.8 \n",
       "L 227.112216 145.773835 \n",
       "L 219.865463 145.773835 \n",
       "z\n",
       "\" clip-path=\"url(#pe4e78d0890)\" style=\"fill: #1f77b4\"/>\n",
       "   </g>\n",
       "   <g id=\"patch_12\">\n",
       "    <path d=\"M 237.982346 145.8 \n",
       "L 245.229099 145.8 \n",
       "L 245.229099 145.792956 \n",
       "L 237.982346 145.792956 \n",
       "z\n",
       "\" clip-path=\"url(#pe4e78d0890)\" style=\"fill: #1f77b4\"/>\n",
       "   </g>\n",
       "   <g id=\"patch_13\">\n",
       "    <path d=\"M 82.177151 145.8 \n",
       "L 89.423904 145.8 \n",
       "L 89.423904 13.8 \n",
       "L 82.177151 13.8 \n",
       "z\n",
       "\" clip-path=\"url(#pe4e78d0890)\" style=\"fill: url(#hb2a091deae)\"/>\n",
       "   </g>\n",
       "   <g id=\"patch_14\">\n",
       "    <path d=\"M 100.294034 145.8 \n",
       "L 107.540787 145.8 \n",
       "L 107.540787 96.113365 \n",
       "L 100.294034 96.113365 \n",
       "z\n",
       "\" clip-path=\"url(#pe4e78d0890)\" style=\"fill: url(#hb2a091deae)\"/>\n",
       "   </g>\n",
       "   <g id=\"patch_15\">\n",
       "    <path d=\"M 118.410917 145.8 \n",
       "L 125.65767 145.8 \n",
       "L 125.65767 143.124463 \n",
       "L 118.410917 143.124463 \n",
       "z\n",
       "\" clip-path=\"url(#pe4e78d0890)\" style=\"fill: url(#hb2a091deae)\"/>\n",
       "   </g>\n",
       "   <g id=\"patch_16\">\n",
       "    <path d=\"M 136.5278 145.8 \n",
       "L 143.774554 145.8 \n",
       "L 143.774554 145.638649 \n",
       "L 136.5278 145.638649 \n",
       "z\n",
       "\" clip-path=\"url(#pe4e78d0890)\" style=\"fill: url(#hb2a091deae)\"/>\n",
       "   </g>\n",
       "   <g id=\"patch_17\">\n",
       "    <path d=\"M 154.644683 145.8 \n",
       "L 161.891437 145.8 \n",
       "L 161.891437 145.779538 \n",
       "L 154.644683 145.779538 \n",
       "z\n",
       "\" clip-path=\"url(#pe4e78d0890)\" style=\"fill: url(#hb2a091deae)\"/>\n",
       "   </g>\n",
       "   <g id=\"patch_18\">\n",
       "    <path d=\"M 172.761567 145.8 \n",
       "L 180.00832 145.8 \n",
       "L 180.00832 145.797652 \n",
       "L 172.761567 145.797652 \n",
       "z\n",
       "\" clip-path=\"url(#pe4e78d0890)\" style=\"fill: url(#hb2a091deae)\"/>\n",
       "   </g>\n",
       "   <g id=\"patch_19\">\n",
       "    <path d=\"M 190.87845 145.8 \n",
       "L 198.125203 145.8 \n",
       "L 198.125203 145.799329 \n",
       "L 190.87845 145.799329 \n",
       "z\n",
       "\" clip-path=\"url(#pe4e78d0890)\" style=\"fill: url(#hb2a091deae)\"/>\n",
       "   </g>\n",
       "   <g id=\"patch_20\">\n",
       "    <path d=\"M 208.995333 145.8 \n",
       "L 216.242086 145.8 \n",
       "L 216.242086 145.799329 \n",
       "L 208.995333 145.799329 \n",
       "z\n",
       "\" clip-path=\"url(#pe4e78d0890)\" style=\"fill: url(#hb2a091deae)\"/>\n",
       "   </g>\n",
       "   <g id=\"patch_21\">\n",
       "    <path d=\"M 227.112216 145.8 \n",
       "L 234.358969 145.8 \n",
       "L 234.358969 145.8 \n",
       "L 227.112216 145.8 \n",
       "z\n",
       "\" clip-path=\"url(#pe4e78d0890)\" style=\"fill: url(#hb2a091deae)\"/>\n",
       "   </g>\n",
       "   <g id=\"patch_22\">\n",
       "    <path d=\"M 245.229099 145.8 \n",
       "L 252.475852 145.8 \n",
       "L 252.475852 145.8 \n",
       "L 245.229099 145.8 \n",
       "z\n",
       "\" clip-path=\"url(#pe4e78d0890)\" style=\"fill: url(#hb2a091deae)\"/>\n",
       "   </g>\n",
       "   <g id=\"matplotlib.axis_1\">\n",
       "    <g id=\"xtick_1\">\n",
       "     <g id=\"line2d_1\">\n",
       "      <defs>\n",
       "       <path id=\"m44665624c9\" d=\"M 0 0 \n",
       "L 0 3.5 \n",
       "\" style=\"stroke: #000000; stroke-width: 0.8\"/>\n",
       "      </defs>\n",
       "      <g>\n",
       "       <use xlink:href=\"#m44665624c9\" x=\"70.765867\" y=\"145.8\" style=\"stroke: #000000; stroke-width: 0.8\"/>\n",
       "      </g>\n",
       "     </g>\n",
       "     <g id=\"text_1\">\n",
       "      <!-- 0 -->\n",
       "      <g transform=\"translate(67.584617 160.398438)scale(0.1 -0.1)\">\n",
       "       <defs>\n",
       "        <path id=\"DejaVuSans-30\" d=\"M 2034 4250 \n",
       "Q 1547 4250 1301 3770 \n",
       "Q 1056 3291 1056 2328 \n",
       "Q 1056 1369 1301 889 \n",
       "Q 1547 409 2034 409 \n",
       "Q 2525 409 2770 889 \n",
       "Q 3016 1369 3016 2328 \n",
       "Q 3016 3291 2770 3770 \n",
       "Q 2525 4250 2034 4250 \n",
       "z\n",
       "M 2034 4750 \n",
       "Q 2819 4750 3233 4129 \n",
       "Q 3647 3509 3647 2328 \n",
       "Q 3647 1150 3233 529 \n",
       "Q 2819 -91 2034 -91 \n",
       "Q 1250 -91 836 529 \n",
       "Q 422 1150 422 2328 \n",
       "Q 422 3509 836 4129 \n",
       "Q 1250 4750 2034 4750 \n",
       "z\n",
       "\" transform=\"scale(0.015625)\"/>\n",
       "       </defs>\n",
       "       <use xlink:href=\"#DejaVuSans-30\"/>\n",
       "      </g>\n",
       "     </g>\n",
       "    </g>\n",
       "    <g id=\"xtick_2\">\n",
       "     <g id=\"line2d_2\">\n",
       "      <g>\n",
       "       <use xlink:href=\"#m44665624c9\" x=\"117.822707\" y=\"145.8\" style=\"stroke: #000000; stroke-width: 0.8\"/>\n",
       "      </g>\n",
       "     </g>\n",
       "     <g id=\"text_2\">\n",
       "      <!-- 20 -->\n",
       "      <g transform=\"translate(111.460207 160.398438)scale(0.1 -0.1)\">\n",
       "       <defs>\n",
       "        <path id=\"DejaVuSans-32\" d=\"M 1228 531 \n",
       "L 3431 531 \n",
       "L 3431 0 \n",
       "L 469 0 \n",
       "L 469 531 \n",
       "Q 828 903 1448 1529 \n",
       "Q 2069 2156 2228 2338 \n",
       "Q 2531 2678 2651 2914 \n",
       "Q 2772 3150 2772 3378 \n",
       "Q 2772 3750 2511 3984 \n",
       "Q 2250 4219 1831 4219 \n",
       "Q 1534 4219 1204 4116 \n",
       "Q 875 4013 500 3803 \n",
       "L 500 4441 \n",
       "Q 881 4594 1212 4672 \n",
       "Q 1544 4750 1819 4750 \n",
       "Q 2544 4750 2975 4387 \n",
       "Q 3406 4025 3406 3419 \n",
       "Q 3406 3131 3298 2873 \n",
       "Q 3191 2616 2906 2266 \n",
       "Q 2828 2175 2409 1742 \n",
       "Q 1991 1309 1228 531 \n",
       "z\n",
       "\" transform=\"scale(0.015625)\"/>\n",
       "       </defs>\n",
       "       <use xlink:href=\"#DejaVuSans-32\"/>\n",
       "       <use xlink:href=\"#DejaVuSans-30\" x=\"63.623047\"/>\n",
       "      </g>\n",
       "     </g>\n",
       "    </g>\n",
       "    <g id=\"xtick_3\">\n",
       "     <g id=\"line2d_3\">\n",
       "      <g>\n",
       "       <use xlink:href=\"#m44665624c9\" x=\"164.879546\" y=\"145.8\" style=\"stroke: #000000; stroke-width: 0.8\"/>\n",
       "      </g>\n",
       "     </g>\n",
       "     <g id=\"text_3\">\n",
       "      <!-- 40 -->\n",
       "      <g transform=\"translate(158.517046 160.398438)scale(0.1 -0.1)\">\n",
       "       <defs>\n",
       "        <path id=\"DejaVuSans-34\" d=\"M 2419 4116 \n",
       "L 825 1625 \n",
       "L 2419 1625 \n",
       "L 2419 4116 \n",
       "z\n",
       "M 2253 4666 \n",
       "L 3047 4666 \n",
       "L 3047 1625 \n",
       "L 3713 1625 \n",
       "L 3713 1100 \n",
       "L 3047 1100 \n",
       "L 3047 0 \n",
       "L 2419 0 \n",
       "L 2419 1100 \n",
       "L 313 1100 \n",
       "L 313 1709 \n",
       "L 2253 4666 \n",
       "z\n",
       "\" transform=\"scale(0.015625)\"/>\n",
       "       </defs>\n",
       "       <use xlink:href=\"#DejaVuSans-34\"/>\n",
       "       <use xlink:href=\"#DejaVuSans-30\" x=\"63.623047\"/>\n",
       "      </g>\n",
       "     </g>\n",
       "    </g>\n",
       "    <g id=\"xtick_4\">\n",
       "     <g id=\"line2d_4\">\n",
       "      <g>\n",
       "       <use xlink:href=\"#m44665624c9\" x=\"211.936385\" y=\"145.8\" style=\"stroke: #000000; stroke-width: 0.8\"/>\n",
       "      </g>\n",
       "     </g>\n",
       "     <g id=\"text_4\">\n",
       "      <!-- 60 -->\n",
       "      <g transform=\"translate(205.573885 160.398438)scale(0.1 -0.1)\">\n",
       "       <defs>\n",
       "        <path id=\"DejaVuSans-36\" d=\"M 2113 2584 \n",
       "Q 1688 2584 1439 2293 \n",
       "Q 1191 2003 1191 1497 \n",
       "Q 1191 994 1439 701 \n",
       "Q 1688 409 2113 409 \n",
       "Q 2538 409 2786 701 \n",
       "Q 3034 994 3034 1497 \n",
       "Q 3034 2003 2786 2293 \n",
       "Q 2538 2584 2113 2584 \n",
       "z\n",
       "M 3366 4563 \n",
       "L 3366 3988 \n",
       "Q 3128 4100 2886 4159 \n",
       "Q 2644 4219 2406 4219 \n",
       "Q 1781 4219 1451 3797 \n",
       "Q 1122 3375 1075 2522 \n",
       "Q 1259 2794 1537 2939 \n",
       "Q 1816 3084 2150 3084 \n",
       "Q 2853 3084 3261 2657 \n",
       "Q 3669 2231 3669 1497 \n",
       "Q 3669 778 3244 343 \n",
       "Q 2819 -91 2113 -91 \n",
       "Q 1303 -91 875 529 \n",
       "Q 447 1150 447 2328 \n",
       "Q 447 3434 972 4092 \n",
       "Q 1497 4750 2381 4750 \n",
       "Q 2619 4750 2861 4703 \n",
       "Q 3103 4656 3366 4563 \n",
       "z\n",
       "\" transform=\"scale(0.015625)\"/>\n",
       "       </defs>\n",
       "       <use xlink:href=\"#DejaVuSans-36\"/>\n",
       "       <use xlink:href=\"#DejaVuSans-30\" x=\"63.623047\"/>\n",
       "      </g>\n",
       "     </g>\n",
       "    </g>\n",
       "    <g id=\"xtick_5\">\n",
       "     <g id=\"line2d_5\">\n",
       "      <g>\n",
       "       <use xlink:href=\"#m44665624c9\" x=\"258.993225\" y=\"145.8\" style=\"stroke: #000000; stroke-width: 0.8\"/>\n",
       "      </g>\n",
       "     </g>\n",
       "     <g id=\"text_5\">\n",
       "      <!-- 80 -->\n",
       "      <g transform=\"translate(252.630725 160.398438)scale(0.1 -0.1)\">\n",
       "       <defs>\n",
       "        <path id=\"DejaVuSans-38\" d=\"M 2034 2216 \n",
       "Q 1584 2216 1326 1975 \n",
       "Q 1069 1734 1069 1313 \n",
       "Q 1069 891 1326 650 \n",
       "Q 1584 409 2034 409 \n",
       "Q 2484 409 2743 651 \n",
       "Q 3003 894 3003 1313 \n",
       "Q 3003 1734 2745 1975 \n",
       "Q 2488 2216 2034 2216 \n",
       "z\n",
       "M 1403 2484 \n",
       "Q 997 2584 770 2862 \n",
       "Q 544 3141 544 3541 \n",
       "Q 544 4100 942 4425 \n",
       "Q 1341 4750 2034 4750 \n",
       "Q 2731 4750 3128 4425 \n",
       "Q 3525 4100 3525 3541 \n",
       "Q 3525 3141 3298 2862 \n",
       "Q 3072 2584 2669 2484 \n",
       "Q 3125 2378 3379 2068 \n",
       "Q 3634 1759 3634 1313 \n",
       "Q 3634 634 3220 271 \n",
       "Q 2806 -91 2034 -91 \n",
       "Q 1263 -91 848 271 \n",
       "Q 434 634 434 1313 \n",
       "Q 434 1759 690 2068 \n",
       "Q 947 2378 1403 2484 \n",
       "z\n",
       "M 1172 3481 \n",
       "Q 1172 3119 1398 2916 \n",
       "Q 1625 2713 2034 2713 \n",
       "Q 2441 2713 2670 2916 \n",
       "Q 2900 3119 2900 3481 \n",
       "Q 2900 3844 2670 4047 \n",
       "Q 2441 4250 2034 4250 \n",
       "Q 1625 4250 1398 4047 \n",
       "Q 1172 3844 1172 3481 \n",
       "z\n",
       "\" transform=\"scale(0.015625)\"/>\n",
       "       </defs>\n",
       "       <use xlink:href=\"#DejaVuSans-38\"/>\n",
       "       <use xlink:href=\"#DejaVuSans-30\" x=\"63.623047\"/>\n",
       "      </g>\n",
       "     </g>\n",
       "    </g>\n",
       "    <g id=\"text_6\">\n",
       "     <!-- # tokens per sequence -->\n",
       "     <g transform=\"translate(105.760937 174.076563)scale(0.1 -0.1)\">\n",
       "      <defs>\n",
       "       <path id=\"DejaVuSans-23\" d=\"M 3272 2816 \n",
       "L 2363 2816 \n",
       "L 2100 1772 \n",
       "L 3016 1772 \n",
       "L 3272 2816 \n",
       "z\n",
       "M 2803 4594 \n",
       "L 2478 3297 \n",
       "L 3391 3297 \n",
       "L 3719 4594 \n",
       "L 4219 4594 \n",
       "L 3897 3297 \n",
       "L 4872 3297 \n",
       "L 4872 2816 \n",
       "L 3775 2816 \n",
       "L 3519 1772 \n",
       "L 4513 1772 \n",
       "L 4513 1294 \n",
       "L 3397 1294 \n",
       "L 3072 0 \n",
       "L 2572 0 \n",
       "L 2894 1294 \n",
       "L 1978 1294 \n",
       "L 1656 0 \n",
       "L 1153 0 \n",
       "L 1478 1294 \n",
       "L 494 1294 \n",
       "L 494 1772 \n",
       "L 1594 1772 \n",
       "L 1856 2816 \n",
       "L 850 2816 \n",
       "L 850 3297 \n",
       "L 1978 3297 \n",
       "L 2297 4594 \n",
       "L 2803 4594 \n",
       "z\n",
       "\" transform=\"scale(0.015625)\"/>\n",
       "       <path id=\"DejaVuSans-20\" transform=\"scale(0.015625)\"/>\n",
       "       <path id=\"DejaVuSans-74\" d=\"M 1172 4494 \n",
       "L 1172 3500 \n",
       "L 2356 3500 \n",
       "L 2356 3053 \n",
       "L 1172 3053 \n",
       "L 1172 1153 \n",
       "Q 1172 725 1289 603 \n",
       "Q 1406 481 1766 481 \n",
       "L 2356 481 \n",
       "L 2356 0 \n",
       "L 1766 0 \n",
       "Q 1100 0 847 248 \n",
       "Q 594 497 594 1153 \n",
       "L 594 3053 \n",
       "L 172 3053 \n",
       "L 172 3500 \n",
       "L 594 3500 \n",
       "L 594 4494 \n",
       "L 1172 4494 \n",
       "z\n",
       "\" transform=\"scale(0.015625)\"/>\n",
       "       <path id=\"DejaVuSans-6f\" d=\"M 1959 3097 \n",
       "Q 1497 3097 1228 2736 \n",
       "Q 959 2375 959 1747 \n",
       "Q 959 1119 1226 758 \n",
       "Q 1494 397 1959 397 \n",
       "Q 2419 397 2687 759 \n",
       "Q 2956 1122 2956 1747 \n",
       "Q 2956 2369 2687 2733 \n",
       "Q 2419 3097 1959 3097 \n",
       "z\n",
       "M 1959 3584 \n",
       "Q 2709 3584 3137 3096 \n",
       "Q 3566 2609 3566 1747 \n",
       "Q 3566 888 3137 398 \n",
       "Q 2709 -91 1959 -91 \n",
       "Q 1206 -91 779 398 \n",
       "Q 353 888 353 1747 \n",
       "Q 353 2609 779 3096 \n",
       "Q 1206 3584 1959 3584 \n",
       "z\n",
       "\" transform=\"scale(0.015625)\"/>\n",
       "       <path id=\"DejaVuSans-6b\" d=\"M 581 4863 \n",
       "L 1159 4863 \n",
       "L 1159 1991 \n",
       "L 2875 3500 \n",
       "L 3609 3500 \n",
       "L 1753 1863 \n",
       "L 3688 0 \n",
       "L 2938 0 \n",
       "L 1159 1709 \n",
       "L 1159 0 \n",
       "L 581 0 \n",
       "L 581 4863 \n",
       "z\n",
       "\" transform=\"scale(0.015625)\"/>\n",
       "       <path id=\"DejaVuSans-65\" d=\"M 3597 1894 \n",
       "L 3597 1613 \n",
       "L 953 1613 \n",
       "Q 991 1019 1311 708 \n",
       "Q 1631 397 2203 397 \n",
       "Q 2534 397 2845 478 \n",
       "Q 3156 559 3463 722 \n",
       "L 3463 178 \n",
       "Q 3153 47 2828 -22 \n",
       "Q 2503 -91 2169 -91 \n",
       "Q 1331 -91 842 396 \n",
       "Q 353 884 353 1716 \n",
       "Q 353 2575 817 3079 \n",
       "Q 1281 3584 2069 3584 \n",
       "Q 2775 3584 3186 3129 \n",
       "Q 3597 2675 3597 1894 \n",
       "z\n",
       "M 3022 2063 \n",
       "Q 3016 2534 2758 2815 \n",
       "Q 2500 3097 2075 3097 \n",
       "Q 1594 3097 1305 2825 \n",
       "Q 1016 2553 972 2059 \n",
       "L 3022 2063 \n",
       "z\n",
       "\" transform=\"scale(0.015625)\"/>\n",
       "       <path id=\"DejaVuSans-6e\" d=\"M 3513 2113 \n",
       "L 3513 0 \n",
       "L 2938 0 \n",
       "L 2938 2094 \n",
       "Q 2938 2591 2744 2837 \n",
       "Q 2550 3084 2163 3084 \n",
       "Q 1697 3084 1428 2787 \n",
       "Q 1159 2491 1159 1978 \n",
       "L 1159 0 \n",
       "L 581 0 \n",
       "L 581 3500 \n",
       "L 1159 3500 \n",
       "L 1159 2956 \n",
       "Q 1366 3272 1645 3428 \n",
       "Q 1925 3584 2291 3584 \n",
       "Q 2894 3584 3203 3211 \n",
       "Q 3513 2838 3513 2113 \n",
       "z\n",
       "\" transform=\"scale(0.015625)\"/>\n",
       "       <path id=\"DejaVuSans-73\" d=\"M 2834 3397 \n",
       "L 2834 2853 \n",
       "Q 2591 2978 2328 3040 \n",
       "Q 2066 3103 1784 3103 \n",
       "Q 1356 3103 1142 2972 \n",
       "Q 928 2841 928 2578 \n",
       "Q 928 2378 1081 2264 \n",
       "Q 1234 2150 1697 2047 \n",
       "L 1894 2003 \n",
       "Q 2506 1872 2764 1633 \n",
       "Q 3022 1394 3022 966 \n",
       "Q 3022 478 2636 193 \n",
       "Q 2250 -91 1575 -91 \n",
       "Q 1294 -91 989 -36 \n",
       "Q 684 19 347 128 \n",
       "L 347 722 \n",
       "Q 666 556 975 473 \n",
       "Q 1284 391 1588 391 \n",
       "Q 1994 391 2212 530 \n",
       "Q 2431 669 2431 922 \n",
       "Q 2431 1156 2273 1281 \n",
       "Q 2116 1406 1581 1522 \n",
       "L 1381 1569 \n",
       "Q 847 1681 609 1914 \n",
       "Q 372 2147 372 2553 \n",
       "Q 372 3047 722 3315 \n",
       "Q 1072 3584 1716 3584 \n",
       "Q 2034 3584 2315 3537 \n",
       "Q 2597 3491 2834 3397 \n",
       "z\n",
       "\" transform=\"scale(0.015625)\"/>\n",
       "       <path id=\"DejaVuSans-70\" d=\"M 1159 525 \n",
       "L 1159 -1331 \n",
       "L 581 -1331 \n",
       "L 581 3500 \n",
       "L 1159 3500 \n",
       "L 1159 2969 \n",
       "Q 1341 3281 1617 3432 \n",
       "Q 1894 3584 2278 3584 \n",
       "Q 2916 3584 3314 3078 \n",
       "Q 3713 2572 3713 1747 \n",
       "Q 3713 922 3314 415 \n",
       "Q 2916 -91 2278 -91 \n",
       "Q 1894 -91 1617 61 \n",
       "Q 1341 213 1159 525 \n",
       "z\n",
       "M 3116 1747 \n",
       "Q 3116 2381 2855 2742 \n",
       "Q 2594 3103 2138 3103 \n",
       "Q 1681 3103 1420 2742 \n",
       "Q 1159 2381 1159 1747 \n",
       "Q 1159 1113 1420 752 \n",
       "Q 1681 391 2138 391 \n",
       "Q 2594 391 2855 752 \n",
       "Q 3116 1113 3116 1747 \n",
       "z\n",
       "\" transform=\"scale(0.015625)\"/>\n",
       "       <path id=\"DejaVuSans-72\" d=\"M 2631 2963 \n",
       "Q 2534 3019 2420 3045 \n",
       "Q 2306 3072 2169 3072 \n",
       "Q 1681 3072 1420 2755 \n",
       "Q 1159 2438 1159 1844 \n",
       "L 1159 0 \n",
       "L 581 0 \n",
       "L 581 3500 \n",
       "L 1159 3500 \n",
       "L 1159 2956 \n",
       "Q 1341 3275 1631 3429 \n",
       "Q 1922 3584 2338 3584 \n",
       "Q 2397 3584 2469 3576 \n",
       "Q 2541 3569 2628 3553 \n",
       "L 2631 2963 \n",
       "z\n",
       "\" transform=\"scale(0.015625)\"/>\n",
       "       <path id=\"DejaVuSans-71\" d=\"M 947 1747 \n",
       "Q 947 1113 1208 752 \n",
       "Q 1469 391 1925 391 \n",
       "Q 2381 391 2643 752 \n",
       "Q 2906 1113 2906 1747 \n",
       "Q 2906 2381 2643 2742 \n",
       "Q 2381 3103 1925 3103 \n",
       "Q 1469 3103 1208 2742 \n",
       "Q 947 2381 947 1747 \n",
       "z\n",
       "M 2906 525 \n",
       "Q 2725 213 2448 61 \n",
       "Q 2172 -91 1784 -91 \n",
       "Q 1150 -91 751 415 \n",
       "Q 353 922 353 1747 \n",
       "Q 353 2572 751 3078 \n",
       "Q 1150 3584 1784 3584 \n",
       "Q 2172 3584 2448 3432 \n",
       "Q 2725 3281 2906 2969 \n",
       "L 2906 3500 \n",
       "L 3481 3500 \n",
       "L 3481 -1331 \n",
       "L 2906 -1331 \n",
       "L 2906 525 \n",
       "z\n",
       "\" transform=\"scale(0.015625)\"/>\n",
       "       <path id=\"DejaVuSans-75\" d=\"M 544 1381 \n",
       "L 544 3500 \n",
       "L 1119 3500 \n",
       "L 1119 1403 \n",
       "Q 1119 906 1312 657 \n",
       "Q 1506 409 1894 409 \n",
       "Q 2359 409 2629 706 \n",
       "Q 2900 1003 2900 1516 \n",
       "L 2900 3500 \n",
       "L 3475 3500 \n",
       "L 3475 0 \n",
       "L 2900 0 \n",
       "L 2900 538 \n",
       "Q 2691 219 2414 64 \n",
       "Q 2138 -91 1772 -91 \n",
       "Q 1169 -91 856 284 \n",
       "Q 544 659 544 1381 \n",
       "z\n",
       "M 1991 3584 \n",
       "L 1991 3584 \n",
       "z\n",
       "\" transform=\"scale(0.015625)\"/>\n",
       "       <path id=\"DejaVuSans-63\" d=\"M 3122 3366 \n",
       "L 3122 2828 \n",
       "Q 2878 2963 2633 3030 \n",
       "Q 2388 3097 2138 3097 \n",
       "Q 1578 3097 1268 2742 \n",
       "Q 959 2388 959 1747 \n",
       "Q 959 1106 1268 751 \n",
       "Q 1578 397 2138 397 \n",
       "Q 2388 397 2633 464 \n",
       "Q 2878 531 3122 666 \n",
       "L 3122 134 \n",
       "Q 2881 22 2623 -34 \n",
       "Q 2366 -91 2075 -91 \n",
       "Q 1284 -91 818 406 \n",
       "Q 353 903 353 1747 \n",
       "Q 353 2603 823 3093 \n",
       "Q 1294 3584 2113 3584 \n",
       "Q 2378 3584 2631 3529 \n",
       "Q 2884 3475 3122 3366 \n",
       "z\n",
       "\" transform=\"scale(0.015625)\"/>\n",
       "      </defs>\n",
       "      <use xlink:href=\"#DejaVuSans-23\"/>\n",
       "      <use xlink:href=\"#DejaVuSans-20\" x=\"83.789062\"/>\n",
       "      <use xlink:href=\"#DejaVuSans-74\" x=\"115.576172\"/>\n",
       "      <use xlink:href=\"#DejaVuSans-6f\" x=\"154.785156\"/>\n",
       "      <use xlink:href=\"#DejaVuSans-6b\" x=\"215.966797\"/>\n",
       "      <use xlink:href=\"#DejaVuSans-65\" x=\"270.251953\"/>\n",
       "      <use xlink:href=\"#DejaVuSans-6e\" x=\"331.775391\"/>\n",
       "      <use xlink:href=\"#DejaVuSans-73\" x=\"395.154297\"/>\n",
       "      <use xlink:href=\"#DejaVuSans-20\" x=\"447.253906\"/>\n",
       "      <use xlink:href=\"#DejaVuSans-70\" x=\"479.041016\"/>\n",
       "      <use xlink:href=\"#DejaVuSans-65\" x=\"542.517578\"/>\n",
       "      <use xlink:href=\"#DejaVuSans-72\" x=\"604.041016\"/>\n",
       "      <use xlink:href=\"#DejaVuSans-20\" x=\"645.154297\"/>\n",
       "      <use xlink:href=\"#DejaVuSans-73\" x=\"676.941406\"/>\n",
       "      <use xlink:href=\"#DejaVuSans-65\" x=\"729.041016\"/>\n",
       "      <use xlink:href=\"#DejaVuSans-71\" x=\"790.564453\"/>\n",
       "      <use xlink:href=\"#DejaVuSans-75\" x=\"854.041016\"/>\n",
       "      <use xlink:href=\"#DejaVuSans-65\" x=\"917.419922\"/>\n",
       "      <use xlink:href=\"#DejaVuSans-6e\" x=\"978.943359\"/>\n",
       "      <use xlink:href=\"#DejaVuSans-63\" x=\"1042.322266\"/>\n",
       "      <use xlink:href=\"#DejaVuSans-65\" x=\"1097.302734\"/>\n",
       "     </g>\n",
       "    </g>\n",
       "   </g>\n",
       "   <g id=\"matplotlib.axis_2\">\n",
       "    <g id=\"ytick_1\">\n",
       "     <g id=\"line2d_6\">\n",
       "      <defs>\n",
       "       <path id=\"m3c58bfb48f\" d=\"M 0 0 \n",
       "L -3.5 0 \n",
       "\" style=\"stroke: #000000; stroke-width: 0.8\"/>\n",
       "      </defs>\n",
       "      <g>\n",
       "       <use xlink:href=\"#m3c58bfb48f\" x=\"66.053125\" y=\"145.8\" style=\"stroke: #000000; stroke-width: 0.8\"/>\n",
       "      </g>\n",
       "     </g>\n",
       "     <g id=\"text_7\">\n",
       "      <!-- 0 -->\n",
       "      <g transform=\"translate(52.690625 149.599219)scale(0.1 -0.1)\">\n",
       "       <use xlink:href=\"#DejaVuSans-30\"/>\n",
       "      </g>\n",
       "     </g>\n",
       "    </g>\n",
       "    <g id=\"ytick_2\">\n",
       "     <g id=\"line2d_7\">\n",
       "      <g>\n",
       "       <use xlink:href=\"#m3c58bfb48f\" x=\"66.053125\" y=\"112.255148\" style=\"stroke: #000000; stroke-width: 0.8\"/>\n",
       "      </g>\n",
       "     </g>\n",
       "     <g id=\"text_8\">\n",
       "      <!-- 100000 -->\n",
       "      <g transform=\"translate(20.878125 116.054366)scale(0.1 -0.1)\">\n",
       "       <defs>\n",
       "        <path id=\"DejaVuSans-31\" d=\"M 794 531 \n",
       "L 1825 531 \n",
       "L 1825 4091 \n",
       "L 703 3866 \n",
       "L 703 4441 \n",
       "L 1819 4666 \n",
       "L 2450 4666 \n",
       "L 2450 531 \n",
       "L 3481 531 \n",
       "L 3481 0 \n",
       "L 794 0 \n",
       "L 794 531 \n",
       "z\n",
       "\" transform=\"scale(0.015625)\"/>\n",
       "       </defs>\n",
       "       <use xlink:href=\"#DejaVuSans-31\"/>\n",
       "       <use xlink:href=\"#DejaVuSans-30\" x=\"63.623047\"/>\n",
       "       <use xlink:href=\"#DejaVuSans-30\" x=\"127.246094\"/>\n",
       "       <use xlink:href=\"#DejaVuSans-30\" x=\"190.869141\"/>\n",
       "       <use xlink:href=\"#DejaVuSans-30\" x=\"254.492188\"/>\n",
       "       <use xlink:href=\"#DejaVuSans-30\" x=\"318.115234\"/>\n",
       "      </g>\n",
       "     </g>\n",
       "    </g>\n",
       "    <g id=\"ytick_3\">\n",
       "     <g id=\"line2d_8\">\n",
       "      <g>\n",
       "       <use xlink:href=\"#m3c58bfb48f\" x=\"66.053125\" y=\"78.710295\" style=\"stroke: #000000; stroke-width: 0.8\"/>\n",
       "      </g>\n",
       "     </g>\n",
       "     <g id=\"text_9\">\n",
       "      <!-- 200000 -->\n",
       "      <g transform=\"translate(20.878125 82.509514)scale(0.1 -0.1)\">\n",
       "       <use xlink:href=\"#DejaVuSans-32\"/>\n",
       "       <use xlink:href=\"#DejaVuSans-30\" x=\"63.623047\"/>\n",
       "       <use xlink:href=\"#DejaVuSans-30\" x=\"127.246094\"/>\n",
       "       <use xlink:href=\"#DejaVuSans-30\" x=\"190.869141\"/>\n",
       "       <use xlink:href=\"#DejaVuSans-30\" x=\"254.492188\"/>\n",
       "       <use xlink:href=\"#DejaVuSans-30\" x=\"318.115234\"/>\n",
       "      </g>\n",
       "     </g>\n",
       "    </g>\n",
       "    <g id=\"ytick_4\">\n",
       "     <g id=\"line2d_9\">\n",
       "      <g>\n",
       "       <use xlink:href=\"#m3c58bfb48f\" x=\"66.053125\" y=\"45.165443\" style=\"stroke: #000000; stroke-width: 0.8\"/>\n",
       "      </g>\n",
       "     </g>\n",
       "     <g id=\"text_10\">\n",
       "      <!-- 300000 -->\n",
       "      <g transform=\"translate(20.878125 48.964662)scale(0.1 -0.1)\">\n",
       "       <defs>\n",
       "        <path id=\"DejaVuSans-33\" d=\"M 2597 2516 \n",
       "Q 3050 2419 3304 2112 \n",
       "Q 3559 1806 3559 1356 \n",
       "Q 3559 666 3084 287 \n",
       "Q 2609 -91 1734 -91 \n",
       "Q 1441 -91 1130 -33 \n",
       "Q 819 25 488 141 \n",
       "L 488 750 \n",
       "Q 750 597 1062 519 \n",
       "Q 1375 441 1716 441 \n",
       "Q 2309 441 2620 675 \n",
       "Q 2931 909 2931 1356 \n",
       "Q 2931 1769 2642 2001 \n",
       "Q 2353 2234 1838 2234 \n",
       "L 1294 2234 \n",
       "L 1294 2753 \n",
       "L 1863 2753 \n",
       "Q 2328 2753 2575 2939 \n",
       "Q 2822 3125 2822 3475 \n",
       "Q 2822 3834 2567 4026 \n",
       "Q 2313 4219 1838 4219 \n",
       "Q 1578 4219 1281 4162 \n",
       "Q 984 4106 628 3988 \n",
       "L 628 4550 \n",
       "Q 988 4650 1302 4700 \n",
       "Q 1616 4750 1894 4750 \n",
       "Q 2613 4750 3031 4423 \n",
       "Q 3450 4097 3450 3541 \n",
       "Q 3450 3153 3228 2886 \n",
       "Q 3006 2619 2597 2516 \n",
       "z\n",
       "\" transform=\"scale(0.015625)\"/>\n",
       "       </defs>\n",
       "       <use xlink:href=\"#DejaVuSans-33\"/>\n",
       "       <use xlink:href=\"#DejaVuSans-30\" x=\"63.623047\"/>\n",
       "       <use xlink:href=\"#DejaVuSans-30\" x=\"127.246094\"/>\n",
       "       <use xlink:href=\"#DejaVuSans-30\" x=\"190.869141\"/>\n",
       "       <use xlink:href=\"#DejaVuSans-30\" x=\"254.492188\"/>\n",
       "       <use xlink:href=\"#DejaVuSans-30\" x=\"318.115234\"/>\n",
       "      </g>\n",
       "     </g>\n",
       "    </g>\n",
       "    <g id=\"ytick_5\">\n",
       "     <g id=\"line2d_10\">\n",
       "      <g>\n",
       "       <use xlink:href=\"#m3c58bfb48f\" x=\"66.053125\" y=\"11.620591\" style=\"stroke: #000000; stroke-width: 0.8\"/>\n",
       "      </g>\n",
       "     </g>\n",
       "     <g id=\"text_11\">\n",
       "      <!-- 400000 -->\n",
       "      <g transform=\"translate(20.878125 15.41981)scale(0.1 -0.1)\">\n",
       "       <use xlink:href=\"#DejaVuSans-34\"/>\n",
       "       <use xlink:href=\"#DejaVuSans-30\" x=\"63.623047\"/>\n",
       "       <use xlink:href=\"#DejaVuSans-30\" x=\"127.246094\"/>\n",
       "       <use xlink:href=\"#DejaVuSans-30\" x=\"190.869141\"/>\n",
       "       <use xlink:href=\"#DejaVuSans-30\" x=\"254.492188\"/>\n",
       "       <use xlink:href=\"#DejaVuSans-30\" x=\"318.115234\"/>\n",
       "      </g>\n",
       "     </g>\n",
       "    </g>\n",
       "    <g id=\"text_12\">\n",
       "     <!-- count -->\n",
       "     <g transform=\"translate(14.798438 90.60625)rotate(-90)scale(0.1 -0.1)\">\n",
       "      <use xlink:href=\"#DejaVuSans-63\"/>\n",
       "      <use xlink:href=\"#DejaVuSans-6f\" x=\"54.980469\"/>\n",
       "      <use xlink:href=\"#DejaVuSans-75\" x=\"116.162109\"/>\n",
       "      <use xlink:href=\"#DejaVuSans-6e\" x=\"179.541016\"/>\n",
       "      <use xlink:href=\"#DejaVuSans-74\" x=\"242.919922\"/>\n",
       "     </g>\n",
       "    </g>\n",
       "   </g>\n",
       "   <g id=\"patch_23\">\n",
       "    <path d=\"M 66.053125 145.8 \n",
       "L 66.053125 7.2 \n",
       "\" style=\"fill: none; stroke: #000000; stroke-width: 0.8; stroke-linejoin: miter; stroke-linecap: square\"/>\n",
       "   </g>\n",
       "   <g id=\"patch_24\">\n",
       "    <path d=\"M 261.353125 145.8 \n",
       "L 261.353125 7.2 \n",
       "\" style=\"fill: none; stroke: #000000; stroke-width: 0.8; stroke-linejoin: miter; stroke-linecap: square\"/>\n",
       "   </g>\n",
       "   <g id=\"patch_25\">\n",
       "    <path d=\"M 66.053125 145.8 \n",
       "L 261.353125 145.8 \n",
       "\" style=\"fill: none; stroke: #000000; stroke-width: 0.8; stroke-linejoin: miter; stroke-linecap: square\"/>\n",
       "   </g>\n",
       "   <g id=\"patch_26\">\n",
       "    <path d=\"M 66.053125 7.2 \n",
       "L 261.353125 7.2 \n",
       "\" style=\"fill: none; stroke: #000000; stroke-width: 0.8; stroke-linejoin: miter; stroke-linecap: square\"/>\n",
       "   </g>\n",
       "   <g id=\"legend_1\">\n",
       "    <g id=\"patch_27\">\n",
       "     <path d=\"M 168.021875 44.55625 \n",
       "L 254.353125 44.55625 \n",
       "Q 256.353125 44.55625 256.353125 42.55625 \n",
       "L 256.353125 14.2 \n",
       "Q 256.353125 12.2 254.353125 12.2 \n",
       "L 168.021875 12.2 \n",
       "Q 166.021875 12.2 166.021875 14.2 \n",
       "L 166.021875 42.55625 \n",
       "Q 166.021875 44.55625 168.021875 44.55625 \n",
       "z\n",
       "\" style=\"fill: #ffffff; opacity: 0.8; stroke: #cccccc; stroke-linejoin: miter\"/>\n",
       "    </g>\n",
       "    <g id=\"patch_28\">\n",
       "     <path d=\"M 170.021875 23.798438 \n",
       "L 190.021875 23.798438 \n",
       "L 190.021875 16.798438 \n",
       "L 170.021875 16.798438 \n",
       "z\n",
       "\" style=\"fill: #1f77b4\"/>\n",
       "    </g>\n",
       "    <g id=\"text_13\">\n",
       "     <!-- premise -->\n",
       "     <g transform=\"translate(198.021875 23.798438)scale(0.1 -0.1)\">\n",
       "      <defs>\n",
       "       <path id=\"DejaVuSans-6d\" d=\"M 3328 2828 \n",
       "Q 3544 3216 3844 3400 \n",
       "Q 4144 3584 4550 3584 \n",
       "Q 5097 3584 5394 3201 \n",
       "Q 5691 2819 5691 2113 \n",
       "L 5691 0 \n",
       "L 5113 0 \n",
       "L 5113 2094 \n",
       "Q 5113 2597 4934 2840 \n",
       "Q 4756 3084 4391 3084 \n",
       "Q 3944 3084 3684 2787 \n",
       "Q 3425 2491 3425 1978 \n",
       "L 3425 0 \n",
       "L 2847 0 \n",
       "L 2847 2094 \n",
       "Q 2847 2600 2669 2842 \n",
       "Q 2491 3084 2119 3084 \n",
       "Q 1678 3084 1418 2786 \n",
       "Q 1159 2488 1159 1978 \n",
       "L 1159 0 \n",
       "L 581 0 \n",
       "L 581 3500 \n",
       "L 1159 3500 \n",
       "L 1159 2956 \n",
       "Q 1356 3278 1631 3431 \n",
       "Q 1906 3584 2284 3584 \n",
       "Q 2666 3584 2933 3390 \n",
       "Q 3200 3197 3328 2828 \n",
       "z\n",
       "\" transform=\"scale(0.015625)\"/>\n",
       "       <path id=\"DejaVuSans-69\" d=\"M 603 3500 \n",
       "L 1178 3500 \n",
       "L 1178 0 \n",
       "L 603 0 \n",
       "L 603 3500 \n",
       "z\n",
       "M 603 4863 \n",
       "L 1178 4863 \n",
       "L 1178 4134 \n",
       "L 603 4134 \n",
       "L 603 4863 \n",
       "z\n",
       "\" transform=\"scale(0.015625)\"/>\n",
       "      </defs>\n",
       "      <use xlink:href=\"#DejaVuSans-70\"/>\n",
       "      <use xlink:href=\"#DejaVuSans-72\" x=\"63.476562\"/>\n",
       "      <use xlink:href=\"#DejaVuSans-65\" x=\"102.339844\"/>\n",
       "      <use xlink:href=\"#DejaVuSans-6d\" x=\"163.863281\"/>\n",
       "      <use xlink:href=\"#DejaVuSans-69\" x=\"261.275391\"/>\n",
       "      <use xlink:href=\"#DejaVuSans-73\" x=\"289.058594\"/>\n",
       "      <use xlink:href=\"#DejaVuSans-65\" x=\"341.158203\"/>\n",
       "     </g>\n",
       "    </g>\n",
       "    <g id=\"patch_29\">\n",
       "     <path d=\"M 170.021875 38.476562 \n",
       "L 190.021875 38.476562 \n",
       "L 190.021875 31.476562 \n",
       "L 170.021875 31.476562 \n",
       "z\n",
       "\" style=\"fill: url(#hb2a091deae)\"/>\n",
       "    </g>\n",
       "    <g id=\"text_14\">\n",
       "     <!-- hypothesis -->\n",
       "     <g transform=\"translate(198.021875 38.476562)scale(0.1 -0.1)\">\n",
       "      <defs>\n",
       "       <path id=\"DejaVuSans-68\" d=\"M 3513 2113 \n",
       "L 3513 0 \n",
       "L 2938 0 \n",
       "L 2938 2094 \n",
       "Q 2938 2591 2744 2837 \n",
       "Q 2550 3084 2163 3084 \n",
       "Q 1697 3084 1428 2787 \n",
       "Q 1159 2491 1159 1978 \n",
       "L 1159 0 \n",
       "L 581 0 \n",
       "L 581 4863 \n",
       "L 1159 4863 \n",
       "L 1159 2956 \n",
       "Q 1366 3272 1645 3428 \n",
       "Q 1925 3584 2291 3584 \n",
       "Q 2894 3584 3203 3211 \n",
       "Q 3513 2838 3513 2113 \n",
       "z\n",
       "\" transform=\"scale(0.015625)\"/>\n",
       "       <path id=\"DejaVuSans-79\" d=\"M 2059 -325 \n",
       "Q 1816 -950 1584 -1140 \n",
       "Q 1353 -1331 966 -1331 \n",
       "L 506 -1331 \n",
       "L 506 -850 \n",
       "L 844 -850 \n",
       "Q 1081 -850 1212 -737 \n",
       "Q 1344 -625 1503 -206 \n",
       "L 1606 56 \n",
       "L 191 3500 \n",
       "L 800 3500 \n",
       "L 1894 763 \n",
       "L 2988 3500 \n",
       "L 3597 3500 \n",
       "L 2059 -325 \n",
       "z\n",
       "\" transform=\"scale(0.015625)\"/>\n",
       "      </defs>\n",
       "      <use xlink:href=\"#DejaVuSans-68\"/>\n",
       "      <use xlink:href=\"#DejaVuSans-79\" x=\"63.378906\"/>\n",
       "      <use xlink:href=\"#DejaVuSans-70\" x=\"122.558594\"/>\n",
       "      <use xlink:href=\"#DejaVuSans-6f\" x=\"186.035156\"/>\n",
       "      <use xlink:href=\"#DejaVuSans-74\" x=\"247.216797\"/>\n",
       "      <use xlink:href=\"#DejaVuSans-68\" x=\"286.425781\"/>\n",
       "      <use xlink:href=\"#DejaVuSans-65\" x=\"349.804688\"/>\n",
       "      <use xlink:href=\"#DejaVuSans-73\" x=\"411.328125\"/>\n",
       "      <use xlink:href=\"#DejaVuSans-69\" x=\"463.427734\"/>\n",
       "      <use xlink:href=\"#DejaVuSans-73\" x=\"491.210938\"/>\n",
       "     </g>\n",
       "    </g>\n",
       "   </g>\n",
       "  </g>\n",
       " </g>\n",
       " <defs>\n",
       "  <clipPath id=\"pe4e78d0890\">\n",
       "   <rect x=\"66.053125\" y=\"7.2\" width=\"195.3\" height=\"138.6\"/>\n",
       "  </clipPath>\n",
       " </defs>\n",
       " <defs>\n",
       "  <pattern id=\"hb2a091deae\" patternUnits=\"userSpaceOnUse\" x=\"0\" y=\"0\" width=\"72\" height=\"72\">\n",
       "   <rect x=\"0\" y=\"0\" width=\"73\" height=\"73\" fill=\"#ff7f0e\"/>\n",
       "   <path d=\"M -36 36 \n",
       "L 36 -36 \n",
       "M -24 48 \n",
       "L 48 -24 \n",
       "M -12 60 \n",
       "L 60 -12 \n",
       "M 0 72 \n",
       "L 72 0 \n",
       "M 12 84 \n",
       "L 84 12 \n",
       "M 24 96 \n",
       "L 96 24 \n",
       "M 36 108 \n",
       "L 108 36 \n",
       "\" style=\"fill: #000000; stroke: #000000; stroke-width: 1.0; stroke-linecap: butt; stroke-linejoin: miter\"/>\n",
       "  </pattern>\n",
       " </defs>\n",
       "</svg>\n"
      ],
      "text/plain": [
       "<Figure size 350x250 with 1 Axes>"
      ]
     },
     "metadata": {},
     "output_type": "display_data"
    }
   ],
   "source": [
    "def show_list_len_pair_hist(legend, xlabel, ylabel, xlist, ylist):\n",
    "    \"\"\"绘制列表长度对的直方图\"\"\"\n",
    "    d2l.set_figsize()\n",
    "    _, _, patches = d2l.plt.hist(\n",
    "        [[len(l) for l in xlist], [len(l) for l in ylist]])\n",
    "    d2l.plt.xlabel(xlabel)\n",
    "    d2l.plt.ylabel(ylabel)\n",
    "    for patch in patches[1].patches:\n",
    "        patch.set_hatch('/')\n",
    "    d2l.plt.legend(legend)\n",
    "\n",
    "show_list_len_pair_hist(['premise', 'hypothesis'], '# tokens per sequence',\n",
    "                        'count', all_premise_tokens, all_hypothesis_tokens);"
   ]
  },
  {
   "cell_type": "code",
   "execution_count": null,
   "id": "88b1073c-e719-4f38-90d1-a040cb9e6f8f",
   "metadata": {},
   "outputs": [],
   "source": [
    "d2l.set_figsize()\n",
    "d2l.plt.xlabel('# tokens per review')\n",
    "d2l.plt.ylabel('count')\n",
    "d2l.plt.hist([len(line) for line in all_hypothesis_tokens], bins=range(0, 100, 5));"
   ]
  },
  {
   "cell_type": "code",
   "execution_count": 14,
   "id": "7be73734-5454-40f3-9074-861e11316a55",
   "metadata": {},
   "outputs": [
    {
     "data": {
      "text/plain": [
       "18029"
      ]
     },
     "execution_count": 14,
     "metadata": {},
     "output_type": "execute_result"
    }
   ],
   "source": [
    "vocab = d2l.Vocab(all_premise_tokens + all_hypothesis_tokens, min_freq=5, reserved_tokens=['<pad>'])\n",
    "len(vocab)"
   ]
  },
  {
   "cell_type": "code",
   "execution_count": 5,
   "id": "b8d84b4d-d5b9-437c-ae55-55447b4cb310",
   "metadata": {},
   "outputs": [],
   "source": [
    "import multiprocessing\n",
    "import os\n",
    "import torch"
   ]
  },
  {
   "cell_type": "code",
   "execution_count": 6,
   "id": "16e9372f-38d6-44bb-a298-3fb31dc83195",
   "metadata": {},
   "outputs": [],
   "source": [
    "class SNLIBERTDataset(torch.utils.data.Dataset):\n",
    "    def __init__(self, dataset, max_len, vocab=None):\n",
    "        premise = [process(sen) for sen in dataset['premise']]\n",
    "        hypothesis = [process(sen) for sen in dataset['hypothesis']]\n",
    "        # all_premise_hypothesis_tokens = [d2l.tokenize(sentences)\n",
    "        #     for sentences in [premise, hypothesis]]\n",
    "        all_premise_hypothesis_tokens = [[\n",
    "            p_tokens, h_tokens] for p_tokens, h_tokens in zip(\n",
    "            *[d2l.tokenize(sentences)\n",
    "              for sentences in [premise, hypothesis]])]\n",
    "        print(len(all_premise_hypothesis_tokens))\n",
    "\n",
    "        self.labels = torch.tensor(dataset['label'])\n",
    "        if vocab is None:\n",
    "            self.vocab = d2l.Vocab(d2l.tokenize(premise + hypothesis), min_freq=5,\n",
    "                                   reserved_tokens=['<pad>', '<cls>', '<pad>', '<sep>'])\n",
    "        else:\n",
    "            self.vocab = vocab\n",
    "        self.max_len = max_len\n",
    "        (self.all_token_ids, self.all_segments,\n",
    "         self.valid_lens) = self._preprocess(all_premise_hypothesis_tokens)\n",
    "        print('read ' + str(len(self.all_token_ids)) + ' examples')\n",
    "\n",
    "    def _preprocess(self, all_premise_hypothesis_tokens):\n",
    "        # pool = multiprocessing.Pool(4)  # 使用4个进程\n",
    "        # out = pool.map(self._mp_worker, all_premise_hypothesis_tokens)\n",
    "        out = list(map(self._mp_worker, all_premise_hypothesis_tokens))\n",
    "        all_token_ids = [\n",
    "            token_ids for token_ids, segments, valid_len in out]\n",
    "        all_segments = [segments for token_ids, segments, valid_len in out]\n",
    "        valid_lens = [valid_len for token_ids, segments, valid_len in out]\n",
    "        return (torch.tensor(all_token_ids, dtype=torch.long),\n",
    "                torch.tensor(all_segments, dtype=torch.long),\n",
    "                torch.tensor(valid_lens))\n",
    "\n",
    "    def _mp_worker(self, premise_hypothesis_tokens):\n",
    "        p_tokens, h_tokens = premise_hypothesis_tokens\n",
    "        self._truncate_pair_of_tokens(p_tokens, h_tokens)\n",
    "        tokens, segments = d2l.get_tokens_and_segments(p_tokens, h_tokens)\n",
    "        token_ids = self.vocab[tokens] + [self.vocab['<pad>']] \\\n",
    "                             * (self.max_len - len(tokens))\n",
    "        segments = segments + [0] * (self.max_len - len(segments))\n",
    "        valid_len = len(tokens)\n",
    "        return token_ids, segments, valid_len\n",
    "\n",
    "    def _truncate_pair_of_tokens(self, p_tokens, h_tokens):\n",
    "        # 为BERT输入中的'<CLS>'、'<SEP>'和'<SEP>'词元保留位置\n",
    "        while len(p_tokens) + len(h_tokens) > self.max_len - 3:\n",
    "            if len(p_tokens) > len(h_tokens):\n",
    "                p_tokens.pop()\n",
    "            else:\n",
    "                h_tokens.pop()\n",
    "\n",
    "    def __getitem__(self, idx):\n",
    "        return (self.all_token_ids[idx], self.all_segments[idx],\n",
    "                self.valid_lens[idx]), self.labels[idx]\n",
    "\n",
    "    def __len__(self):\n",
    "        return len(self.all_token_ids)"
   ]
  },
  {
   "cell_type": "code",
   "execution_count": 7,
   "id": "bd009317-f185-4e3e-8f33-c1cfef44a71e",
   "metadata": {},
   "outputs": [],
   "source": [
    "batch_size, max_len, num_workers = 512, 128, 4"
   ]
  },
  {
   "cell_type": "code",
   "execution_count": 8,
   "id": "74b46f70-9879-4780-8386-877311510be0",
   "metadata": {},
   "outputs": [
    {
     "name": "stdout",
     "output_type": "stream",
     "text": [
      "550152\n",
      "read 550152 examples\n"
     ]
    }
   ],
   "source": [
    "# 3.32 1min\n",
    "train_set = SNLIBERTDataset(dataset['train'], max_len)"
   ]
  },
  {
   "cell_type": "code",
   "execution_count": 16,
   "id": "9aed6d2c-8457-49d5-95cc-e29d04f34360",
   "metadata": {},
   "outputs": [
    {
     "name": "stdout",
     "output_type": "stream",
     "text": [
      "<cls> A person on a horse jumps over a broken down airplane <sep> A person is training his horse for a competition <sep> <pad> <pad> <pad> <pad> <pad> <pad> <pad> <pad> <pad> <pad> <pad> <pad> <pad> <pad> <pad> <pad> <pad> <pad> <pad> <pad> <pad> <pad> <pad> <pad> <pad> <pad> <pad> <pad> <pad> <pad> <pad> <pad> <pad> <pad> <pad> <pad> <pad> <pad> <pad> <pad> <pad> <pad> <pad> <pad> <pad> <pad> <pad> <pad> <pad> <pad> <pad> <pad> <pad> <pad> <pad> <pad> <pad> <pad> <pad> <pad> <pad> <pad> <pad> <pad> <pad> <pad> <pad> <pad> <pad> <pad> <pad> <pad> <pad> <pad> <pad> <pad> <pad> <pad> <pad> <pad> <pad> <pad> <pad> <pad> <pad> <pad> <pad> <pad> <pad> <pad> <pad> <pad> <pad> <pad> <pad> <pad> <pad> <pad> <pad> <pad> <pad> <pad> <pad> <pad> <pad>\n",
      "词元: tensor([   2,    6,   47,   11,    5,  199,  211,   84,    5, 1169,   42,  828,\n",
      "           4,    6,   47,    8, 1178,   23,  199,   40,    5,  462,    4,    3,\n",
      "           3,    3,    3,    3,    3,    3,    3,    3,    3,    3,    3,    3,\n",
      "           3,    3,    3,    3,    3,    3,    3,    3,    3,    3,    3,    3,\n",
      "           3,    3,    3,    3,    3,    3,    3,    3,    3,    3,    3,    3,\n",
      "           3,    3,    3,    3,    3,    3,    3,    3,    3,    3,    3,    3,\n",
      "           3,    3,    3,    3,    3,    3,    3,    3,    3,    3,    3,    3,\n",
      "           3,    3,    3,    3,    3,    3,    3,    3,    3,    3,    3,    3,\n",
      "           3,    3,    3,    3,    3,    3,    3,    3,    3,    3,    3,    3,\n",
      "           3,    3,    3,    3,    3,    3,    3,    3,    3,    3,    3,    3,\n",
      "           3,    3,    3,    3,    3,    3,    3,    3])\n",
      "分割: tensor([0, 0, 0, 0, 0, 0, 0, 0, 0, 0, 0, 0, 0, 1, 1, 1, 1, 1, 1, 1, 1, 1, 1, 0,\n",
      "        0, 0, 0, 0, 0, 0, 0, 0, 0, 0, 0, 0, 0, 0, 0, 0, 0, 0, 0, 0, 0, 0, 0, 0,\n",
      "        0, 0, 0, 0, 0, 0, 0, 0, 0, 0, 0, 0, 0, 0, 0, 0, 0, 0, 0, 0, 0, 0, 0, 0,\n",
      "        0, 0, 0, 0, 0, 0, 0, 0, 0, 0, 0, 0, 0, 0, 0, 0, 0, 0, 0, 0, 0, 0, 0, 0,\n",
      "        0, 0, 0, 0, 0, 0, 0, 0, 0, 0, 0, 0, 0, 0, 0, 0, 0, 0, 0, 0, 0, 0, 0, 0,\n",
      "        0, 0, 0, 0, 0, 0, 0, 0])\n",
      "有效长度: 23\n",
      " 标签: 1\n"
     ]
    }
   ],
   "source": [
    "for (token, segments, valid_len), label in train_set:\n",
    "    print(' '.join([train_set.vocab.idx_to_token[x] for x in token]))\n",
    "    print(f'词元: {token}\\n分割: {segments}\\n有效长度: {valid_len}\\n 标签: {label}')\n",
    "    break"
   ]
  },
  {
   "cell_type": "code",
   "execution_count": 9,
   "id": "47b72141-754b-4501-8a84-cbd753445a85",
   "metadata": {},
   "outputs": [],
   "source": [
    "train_iter = torch.utils.data.DataLoader(train_set, batch_size, shuffle=True,\n",
    "                                   num_workers=num_workers)"
   ]
  },
  {
   "cell_type": "code",
   "execution_count": 10,
   "id": "f647aad2-604a-4e93-981b-19506c5eee9d",
   "metadata": {},
   "outputs": [
    {
     "data": {
      "text/plain": [
       "1075"
      ]
     },
     "execution_count": 10,
     "metadata": {},
     "output_type": "execute_result"
    }
   ],
   "source": [
    "len(train_iter)"
   ]
  },
  {
   "cell_type": "code",
   "execution_count": 12,
   "id": "e943d0dd-6265-4113-b169-9268c9b31fe4",
   "metadata": {},
   "outputs": [
    {
     "name": "stdout",
     "output_type": "stream",
     "text": [
      "训练集词表大小: 18032\n"
     ]
    }
   ],
   "source": [
    "vocab = train_set.vocab\n",
    "print(f\"训练集词表大小: {len(vocab)}\")"
   ]
  },
  {
   "cell_type": "code",
   "execution_count": 17,
   "id": "7ce10dc4-bd5c-472a-bf99-3f5141c9c520",
   "metadata": {},
   "outputs": [],
   "source": [
    "from torch import nn"
   ]
  },
  {
   "cell_type": "code",
   "execution_count": 20,
   "id": "936cf671-d031-4724-a3a1-9cf05b902ddf",
   "metadata": {},
   "outputs": [],
   "source": [
    "# 常规编码器\n",
    "class BaseEncoder(nn.Module):\n",
    "    \"\"\"采用BERT编码器结构\"\"\"\n",
    "    def __init__(self, vocab_size, num_hiddens, norm_shape, ffn_num_input,\n",
    "                 ffn_num_hiddens, num_heads, num_layers, dropout,\n",
    "                 max_len=128, key_size=512, query_size=512, value_size=512,\n",
    "                 **kwargs):\n",
    "        super(BaseEncoder, self).__init__(**kwargs)\n",
    "        self.token_embedding = nn.Embedding(vocab_size, num_hiddens)\n",
    "        self.segment_embedding = nn.Embedding(2, num_hiddens)\n",
    "        self.blks = nn.Sequential()\n",
    "        self.agg_layer = nn.Sequential(nn.Linear(num_hiddens, num_hiddens),\n",
    "                                      nn.ReLU())\n",
    "        self.output = nn.Linear(num_hiddens, 3)\n",
    "        for i in range(num_layers):\n",
    "            self.blks.add_module(f\"{i}\", d2l.EncoderBlock(\n",
    "                key_size, query_size, value_size, num_hiddens, norm_shape,\n",
    "                ffn_num_input, ffn_num_hiddens, num_heads, dropout, True))\n",
    "        # 在BERT中，位置嵌入是可学习的，因此我们创建一个足够长的位置嵌入参数\n",
    "        self.pos_embedding = nn.Parameter(torch.randn(1, max_len,\n",
    "                                                      num_hiddens))\n",
    "\n",
    "    def forward(self, tokens, segments, valid_lens):\n",
    "        # 在以下代码段中，X的形状保持不变：（批量大小，最大序列长度，num_hiddens）\n",
    "        X = self.token_embedding(tokens) + self.segment_embedding(segments)\n",
    "        X = X + self.pos_embedding.data[:, :X.shape[1], :]\n",
    "        for blk in self.blks:\n",
    "            X = blk(X, valid_lens)\n",
    "        # 取句首'<cls>'标签对应的输出向量用于分类\n",
    "        return self.output(self.agg_layer(X[:, 0, :]))"
   ]
  },
  {
   "cell_type": "code",
   "execution_count": 21,
   "id": "97419de9-9260-4e5b-8e7c-dc57fd791221",
   "metadata": {},
   "outputs": [],
   "source": [
    "net = BaseEncoder(len(vocab), 512, [512], 512, 2048, 8, 2, 0.1)"
   ]
  },
  {
   "cell_type": "code",
   "execution_count": 26,
   "id": "a4dfe7b5-fd6f-4a2d-a0fb-aa3ab29a64d4",
   "metadata": {},
   "outputs": [
    {
     "name": "stdout",
     "output_type": "stream",
     "text": [
      "torch.Size([512, 128]) torch.Size([512, 128]) torch.Size([512]) torch.Size([512])\n"
     ]
    }
   ],
   "source": [
    "for (token, segments, valid_len), label in train_iter:\n",
    "    print(token.shape, segments.shape, valid_len.shape, label.shape)\n",
    "    break"
   ]
  },
  {
   "cell_type": "code",
   "execution_count": 28,
   "id": "fe3071f7-e8f1-47bc-82cb-caa6c49fef01",
   "metadata": {},
   "outputs": [
    {
     "data": {
      "text/plain": [
       "torch.Size([512, 3])"
      ]
     },
     "execution_count": 28,
     "metadata": {},
     "output_type": "execute_result"
    }
   ],
   "source": [
    "net(token, segments, valid_len).shape"
   ]
  },
  {
   "cell_type": "code",
   "execution_count": 29,
   "id": "77696e1e-1fd9-4b2e-a1d8-6280aaca777b",
   "metadata": {},
   "outputs": [],
   "source": [
    "class FamAttention(nn.Module):\n",
    "    \"\"\"修改多头注意力，针对嵌入512维，8个head的模型\"\"\"\n",
    "\n",
    "    def __init__(self, num_hiddens, dim_dict, dropout, bias=False, **kwargs):\n",
    "        super(FamAttention, self).__init__(**kwargs)\n",
    "        self.attention = d2l.DotProductAttention(dropout)\n",
    "        self.W_o = nn.Linear(num_hiddens, num_hiddens, bias=bias)\n",
    "        self.dim_dict = dim_dict\n",
    "        self.dim_0 = [dim for dim, idx in self.dim_dict.items() if idx == 0]\n",
    "        self.dim_1 = [dim for dim, idx in self.dim_dict.items() if idx == 1]\n",
    "        self.dim_2 = [dim for dim, idx in self.dim_dict.items() if idx == 2]\n",
    "        self.dim_3 = [dim for dim, idx in self.dim_dict.items() if idx == 3]\n",
    "        self.dim_4 = [dim for dim, idx in self.dim_dict.items() if idx == 4]\n",
    "        self.dim_5 = [dim for dim, idx in self.dim_dict.items() if idx == 5]\n",
    "        self.dim_6 = [dim for dim, idx in self.dim_dict.items() if idx == 6]\n",
    "        self.dim_7 = [dim for dim, idx in self.dim_dict.items() if idx == 7]\n",
    "        # self.list_concat = torch.cat((self.dim_0, self.dim_1, self.dim_2, self.dim_3, self.dim_4, self.dim_5,\n",
    "        # self.dim_6, self.dim_7))\n",
    "        self.len_0, self.len_1, self.len_2, self.len_3, self.len_4, self.len_5, self.len_6, self.len_7 = len(\n",
    "            self.dim_0), len(self.dim_1), len(self.dim_2), len(self.dim_3), len(self.dim_4), len(self.dim_5),\\\n",
    "            len(self.dim_6), len(self.dim_7)\n",
    "\n",
    "        self.Wq0 = nn.Linear(self.len_0, self.len_0, bias=bias)\n",
    "        self.Wq1 = nn.Linear(self.len_1, self.len_1, bias=bias)\n",
    "        self.Wq2 = nn.Linear(self.len_2, self.len_2, bias=bias)\n",
    "        self.Wq3 = nn.Linear(self.len_3, self.len_3, bias=bias)\n",
    "        self.Wq4 = nn.Linear(self.len_4, self.len_4, bias=bias)\n",
    "        self.Wq5 = nn.Linear(self.len_5, self.len_5, bias=bias)\n",
    "        self.Wq6 = nn.Linear(self.len_6, self.len_6, bias=bias)\n",
    "        self.Wq7 = nn.Linear(self.len_7, self.len_7, bias=bias)\n",
    "\n",
    "        self.Wk0 = nn.Linear(self.len_0, self.len_0, bias=bias)\n",
    "        self.Wk1 = nn.Linear(self.len_1, self.len_1, bias=bias)\n",
    "        self.Wk2 = nn.Linear(self.len_2, self.len_2, bias=bias)\n",
    "        self.Wk3 = nn.Linear(self.len_3, self.len_3, bias=bias)\n",
    "        self.Wk4 = nn.Linear(self.len_4, self.len_4, bias=bias)\n",
    "        self.Wk5 = nn.Linear(self.len_5, self.len_5, bias=bias)\n",
    "        self.Wk6 = nn.Linear(self.len_6, self.len_6, bias=bias)\n",
    "        self.Wk7 = nn.Linear(self.len_7, self.len_7, bias=bias)\n",
    "\n",
    "        self.Wv0 = nn.Linear(self.len_0, self.len_0, bias=bias)\n",
    "        self.Wv1 = nn.Linear(self.len_1, self.len_1, bias=bias)\n",
    "        self.Wv2 = nn.Linear(self.len_2, self.len_2, bias=bias)\n",
    "        self.Wv3 = nn.Linear(self.len_3, self.len_3, bias=bias)\n",
    "        self.Wv4 = nn.Linear(self.len_4, self.len_4, bias=bias)\n",
    "        self.Wv5 = nn.Linear(self.len_5, self.len_5, bias=bias)\n",
    "        self.Wv6 = nn.Linear(self.len_6, self.len_6, bias=bias)\n",
    "        self.Wv7 = nn.Linear(self.len_7, self.len_7, bias=bias)\n",
    "\n",
    "    def forward(self, queries, keys, values, valid_lens):\n",
    "        def assemble(output_concat, list_concat):\n",
    "            reslist = []\n",
    "            for i in range(512):\n",
    "                reslist.append(list_concat.index(i))\n",
    "            return torch.index_select(output_concat, -1, torch.tensor(reslist, device=output_concat.device))\n",
    "\n",
    "        # queries, keys, values的形状: (batch_size，查询或者“键－值”对的个数，num_hiddens)\n",
    "        # qi, ki, vi的形状：(batch_size, 查询或者“键－值”对的个数， self.len_i)\n",
    "        q0, k0, v0 = torch.index_select(queries, -1, torch.tensor(self.dim_0, device=queries.device)), \\\n",
    "            torch.index_select(keys, -1, torch.tensor(self.dim_0, device=keys.device)), torch.index_select(\n",
    "            values, -1, torch.tensor(self.dim_0, device=values.device))\n",
    "        q1, k1, v1 = torch.index_select(queries, -1, torch.tensor(self.dim_1, device=queries.device)), \\\n",
    "            torch.index_select(keys, -1, torch.tensor(self.dim_1, device=keys.device)), torch.index_select(\n",
    "            values, -1, torch.tensor(self.dim_1, device=values.device))\n",
    "        q2, k2, v2 = torch.index_select(queries, -1, torch.tensor(self.dim_2, device=queries.device)), \\\n",
    "            torch.index_select(keys, -1, torch.tensor(self.dim_2, device=keys.device)), torch.index_select(\n",
    "            values, -1, torch.tensor(self.dim_2, device=values.device))\n",
    "        q3, k3, v3 = torch.index_select(queries, -1, torch.tensor(self.dim_3, device=queries.device)), \\\n",
    "            torch.index_select(keys, -1, torch.tensor(self.dim_3, device=keys.device)), torch.index_select(\n",
    "            values, -1, torch.tensor(self.dim_3, device=values.device))\n",
    "        q4, k4, v4 = torch.index_select(queries, -1, torch.tensor(self.dim_4, device=queries.device)), \\\n",
    "            torch.index_select(keys, -1, torch.tensor(self.dim_4, device=keys.device)), torch.index_select(\n",
    "            values, -1, torch.tensor(self.dim_4, device=values.device))\n",
    "        q5, k5, v5 = torch.index_select(queries, -1, torch.tensor(self.dim_5, device=queries.device)), \\\n",
    "            torch.index_select(keys, -1, torch.tensor(self.dim_5, device=keys.device)), torch.index_select(\n",
    "            values, -1, torch.tensor(self.dim_5, device=values.device))\n",
    "        q6, k6, v6 = torch.index_select(queries, -1, torch.tensor(self.dim_6, device=queries.device)), \\\n",
    "            torch.index_select(keys, -1, torch.tensor(self.dim_6, device=keys.device)), torch.index_select(\n",
    "            values, -1, torch.tensor(self.dim_6, device=values.device))\n",
    "        q7, k7, v7 = torch.index_select(queries, -1, torch.tensor(self.dim_7, device=queries.device)), \\\n",
    "            torch.index_select(keys, -1, torch.tensor(self.dim_7, device=keys.device)), torch.index_select(\n",
    "            values, -1, torch.tensor(self.dim_7, device=values.device))\n",
    "\n",
    "        head0 = self.attention(self.Wq0(q0), self.Wk0(k0), self.Wv0(v0), valid_lens)\n",
    "        head1 = self.attention(self.Wq1(q1), self.Wk1(k1), self.Wv1(v1), valid_lens)\n",
    "        head2 = self.attention(self.Wq2(q2), self.Wk2(k2), self.Wv2(v2), valid_lens)\n",
    "        head3 = self.attention(self.Wq3(q3), self.Wk3(k3), self.Wv3(v3), valid_lens)\n",
    "        head4 = self.attention(self.Wq4(q4), self.Wk4(k4), self.Wv4(v4), valid_lens)\n",
    "        head5 = self.attention(self.Wq5(q5), self.Wk5(k5), self.Wv5(v5), valid_lens)\n",
    "        head6 = self.attention(self.Wq6(q6), self.Wk6(k6), self.Wv6(v6), valid_lens)\n",
    "        head7 = self.attention(self.Wq7(q7), self.Wk7(k7), self.Wv7(v7), valid_lens)\n",
    "\n",
    "        output_concat = torch.cat((head0, head1, head2, head3, head4, head5, head6, head7), dim=-1)\n",
    "        list_concat = self.dim_0 + self.dim_1 + self.dim_2 + self.dim_3 + self.dim_4 + self.dim_5 + self.dim_6 + self.dim_7\n",
    "        return self.W_o(assemble(output_concat, list_concat))"
   ]
  },
  {
   "cell_type": "code",
   "execution_count": 30,
   "id": "a1ce33d1-7d0b-42e6-8c5e-c86c4a2d0865",
   "metadata": {},
   "outputs": [],
   "source": [
    "# 编码器块\n",
    "class EncoderBlock(nn.Module):\n",
    "    \"\"\"transformer编码器块\"\"\"\n",
    "\n",
    "    def __init__(self, num_hiddens, norm_shape, ffn_num_input,\n",
    "                 ffn_num_hiddens, dim_dict, dropout, use_bias=False, **kwargs):\n",
    "        super(EncoderBlock, self).__init__(**kwargs)\n",
    "        self.attention = FamAttention(num_hiddens, dim_dict, dropout, use_bias)\n",
    "        self.addnorm1 = d2l.AddNorm(norm_shape, dropout)\n",
    "        self.ffn = d2l.PositionWiseFFN(\n",
    "            ffn_num_input, ffn_num_hiddens, num_hiddens)\n",
    "        self.addnorm2 = d2l.AddNorm(norm_shape, dropout)\n",
    "\n",
    "    def forward(self, X, valid_lens):\n",
    "        Y = self.addnorm1(X, self.attention(X, X, X, valid_lens))\n",
    "        return self.addnorm2(Y, self.ffn(Y))"
   ]
  },
  {
   "cell_type": "code",
   "execution_count": 33,
   "id": "5e595753-f2fa-4dc4-8b86-aafffde5b7a8",
   "metadata": {},
   "outputs": [],
   "source": [
    "class FamEncoder(nn.Module):\n",
    "    \"\"\"采用BERT编码器结构\"\"\"\n",
    "    def __init__(self, vocab_size, num_hiddens, norm_shape, ffn_num_input,\n",
    "                 ffn_num_hiddens, dim_dict, num_layers, dropout, max_len=128,\n",
    "                 **kwargs):\n",
    "        super(FamEncoder, self).__init__(**kwargs)\n",
    "        self.token_embedding = nn.Embedding(vocab_size, num_hiddens)\n",
    "        self.segment_embedding = nn.Embedding(2, num_hiddens)\n",
    "        self.blks = nn.Sequential()\n",
    "        self.agg_layer = nn.Sequential(nn.Linear(num_hiddens, num_hiddens),\n",
    "                                      nn.ReLU())\n",
    "        self.output = nn.Linear(num_hiddens, 3)\n",
    "        for i in range(num_layers):\n",
    "            self.blks.add_module(f\"{i}\", EncoderBlock(\n",
    "                num_hiddens, norm_shape, ffn_num_input,\n",
    "                ffn_num_hiddens, dim_dict, dropout, True))\n",
    "        # 在BERT中，位置嵌入是可学习的，因此创建一个足够长的位置嵌入参数\n",
    "        self.pos_embedding = nn.Parameter(torch.randn(1, max_len,\n",
    "                                                      num_hiddens))\n",
    "\n",
    "    def forward(self, tokens, segments, valid_lens):\n",
    "        # 在以下代码段中，X的形状保持不变：（批量大小，最大序列长度，num_hiddens）\n",
    "        X = self.token_embedding(tokens) + self.segment_embedding(segments)\n",
    "        X = X + self.pos_embedding.data[:, :X.shape[1], :]\n",
    "        for blk in self.blks:\n",
    "            X = blk(X, valid_lens)\n",
    "        # 取句首'<cls>'标签对应的输出向量用于分类\n",
    "        return self.output(self.agg_layer(X[:, 0, :]))"
   ]
  },
  {
   "cell_type": "code",
   "execution_count": 34,
   "id": "c0fce24b-9652-424c-83b8-8cd61a25764f",
   "metadata": {},
   "outputs": [],
   "source": [
    "dim_dict = dict()\n",
    "for i in range(512):\n",
    "    dim_dict[i] = i // 64\n",
    "\n",
    "fnet = FamEncoder(len(vocab), 512, [512], 512, 2048, dim_dict, 2, 0.1)"
   ]
  },
  {
   "cell_type": "code",
   "execution_count": 35,
   "id": "54a391e5-ae2b-46d9-a22e-86ce0bfc8d77",
   "metadata": {},
   "outputs": [
    {
     "data": {
      "text/plain": [
       "torch.Size([512, 3])"
      ]
     },
     "execution_count": 35,
     "metadata": {},
     "output_type": "execute_result"
    }
   ],
   "source": [
    "fnet(token, segments, valid_len).shape"
   ]
  },
  {
   "cell_type": "code",
   "execution_count": 36,
   "id": "7e54c57e-9b1d-4922-8dc4-44179517e061",
   "metadata": {},
   "outputs": [
    {
     "data": {
      "text/plain": [
       "torch.Size([512, 3])"
      ]
     },
     "execution_count": 36,
     "metadata": {},
     "output_type": "execute_result"
    }
   ],
   "source": [
    "device = d2l.try_gpu()\n",
    "fnet.to(device)\n",
    "token, segments, valid_len = [v.to(device) for v in (token, segments, valid_len)]\n",
    "fnet.eval()\n",
    "fnet(token, segments, valid_len).shape"
   ]
  },
  {
   "cell_type": "markdown",
   "id": "c5db78ec-5003-471d-859b-424ee602cebf",
   "metadata": {},
   "source": [
    "# 数据准备"
   ]
  },
  {
   "cell_type": "code",
   "execution_count": 1,
   "id": "8e6205a9-5372-4712-8aea-41344d09deff",
   "metadata": {},
   "outputs": [
    {
     "name": "stderr",
     "output_type": "stream",
     "text": [
      "Reusing dataset snli (/root/.cache/huggingface/datasets/snli/plain_text/1.0.0/1f60b67533b65ae0275561ff7828aad5ee4282d0e6f844fd148d05d3c6ea251b)\n"
     ]
    },
    {
     "data": {
      "application/vnd.jupyter.widget-view+json": {
       "model_id": "6886a360db4d4e359f07b0a13e064fa5",
       "version_major": 2,
       "version_minor": 0
      },
      "text/plain": [
       "  0%|          | 0/3 [00:00<?, ?it/s]"
      ]
     },
     "metadata": {},
     "output_type": "display_data"
    },
    {
     "data": {
      "text/plain": [
       "(550152, 10000, 10000)"
      ]
     },
     "execution_count": 1,
     "metadata": {},
     "output_type": "execute_result"
    }
   ],
   "source": [
    "import datasets\n",
    "from datasets import load_dataset\n",
    "\n",
    "\n",
    "dataset = load_dataset('snli')\n",
    "# filter_dataset = dataset.filter(lambda x: x['train']['label'] != -1)\n",
    "len(dataset['train']), len(dataset['test']), len(dataset['validation'])"
   ]
  },
  {
   "cell_type": "code",
   "execution_count": 2,
   "id": "985bdd99-35b3-49dd-99d7-0cdda682b4a4",
   "metadata": {},
   "outputs": [
    {
     "name": "stderr",
     "output_type": "stream",
     "text": [
      "Loading cached processed dataset at /root/.cache/huggingface/datasets/snli/plain_text/1.0.0/1f60b67533b65ae0275561ff7828aad5ee4282d0e6f844fd148d05d3c6ea251b/cache-a456b5c8e4a9be8b.arrow\n",
      "Loading cached processed dataset at /root/.cache/huggingface/datasets/snli/plain_text/1.0.0/1f60b67533b65ae0275561ff7828aad5ee4282d0e6f844fd148d05d3c6ea251b/cache-23b15657e1b03e29.arrow\n",
      "Loading cached processed dataset at /root/.cache/huggingface/datasets/snli/plain_text/1.0.0/1f60b67533b65ae0275561ff7828aad5ee4282d0e6f844fd148d05d3c6ea251b/cache-107582d3946c7465.arrow\n"
     ]
    }
   ],
   "source": [
    "dataset = dataset.filter(lambda x: x['label'] != -1)"
   ]
  },
  {
   "cell_type": "code",
   "execution_count": 3,
   "id": "0cefdc67-196d-4010-93cf-5a4fe5a385b2",
   "metadata": {},
   "outputs": [
    {
     "name": "stdout",
     "output_type": "stream",
     "text": [
      "549367 9824 9842\n"
     ]
    },
    {
     "data": {
      "text/plain": [
       "{'premise': 'A person on a horse jumps over a broken down airplane.',\n",
       " 'hypothesis': 'A person is training his horse for a competition.',\n",
       " 'label': 1}"
      ]
     },
     "execution_count": 3,
     "metadata": {},
     "output_type": "execute_result"
    }
   ],
   "source": [
    "print(len(dataset['train']), len(dataset['test']), len(dataset['validation']))\n",
    "dataset['train'][0]"
   ]
  },
  {
   "cell_type": "markdown",
   "id": "f2dc0463-2d03-4cf0-a1dc-9bcbdc7647fe",
   "metadata": {},
   "source": [
    "# 训练词向量"
   ]
  },
  {
   "cell_type": "code",
   "execution_count": 38,
   "id": "f0828f78-11e5-4b81-80e9-6e9505a97972",
   "metadata": {},
   "outputs": [
    {
     "data": {
      "text/plain": [
       "['def', 'frgg', 'grgw2', 'fqag', 'uiqg', 'odqg', 'oppf']"
      ]
     },
     "execution_count": 38,
     "metadata": {},
     "output_type": "execute_result"
    }
   ],
   "source": [
    "a = ['def', 'frgg', 'grgw2']\n",
    "b = ['fqag', 'uiqg', 'odqg', 'oppf']\n",
    "a + b"
   ]
  },
  {
   "cell_type": "code",
   "execution_count": 39,
   "id": "b8de5c9a-68c5-417d-9073-dda545a0e09d",
   "metadata": {},
   "outputs": [
    {
     "name": "stdout",
     "output_type": "stream",
     "text": [
      "1100304\n"
     ]
    },
    {
     "data": {
      "text/plain": [
       "['A', 'little', 'boy', 'swims', 'underwater']"
      ]
     },
     "execution_count": 39,
     "metadata": {},
     "output_type": "execute_result"
    }
   ],
   "source": [
    "# 预处理训练数据集中的所有前提和假设文本，用于训练词向量\n",
    "import re\n",
    "\n",
    "\n",
    "def process(sentence):\n",
    "    sentence = re.sub(r'[^0-9a-zA-Z]', ' ', sentence)\n",
    "    sentence = re.sub('\\\\s{2,}', ' ', sentence)\n",
    "    return sentence\n",
    "\n",
    "premise = [process(sen) for sen in dataset['train']['premise']]\n",
    "hypothesis = [process(sen) for sen in dataset['train']['hypothesis']]\n",
    "\n",
    "all_word_tokens = d2l.tokenize(premise + hypothesis)\n",
    "print(len(all_word_tokens))\n",
    "all_word_tokens[600]"
   ]
  },
  {
   "cell_type": "code",
   "execution_count": null,
   "id": "d3a142af-1bae-47b8-8e71-7b8d91d9253b",
   "metadata": {},
   "outputs": [],
   "source": [
    "U.S.  U S"
   ]
  },
  {
   "cell_type": "code",
   "execution_count": 40,
   "id": "ee5d0aac-3707-4ee5-ad06-0ff7de8ff554",
   "metadata": {},
   "outputs": [],
   "source": [
    "from gensim.models import word2vec\n",
    "\n",
    "file_path = 'autodl-tmp/'\n",
    "model = word2vec.Word2Vec(sentences=all_word_tokens, vector_size=512, sg=1, min_count=5)"
   ]
  },
  {
   "cell_type": "code",
   "execution_count": 43,
   "id": "10397222-42c4-489a-b3c7-fef3d2d8bc67",
   "metadata": {},
   "outputs": [
    {
     "name": "stdout",
     "output_type": "stream",
     "text": [
      "词向量模型中保存的单词数量为 18027\n"
     ]
    }
   ],
   "source": [
    "print(f'词向量模型中保存的单词数量为 {len(model.wv.index_to_key)}')\n",
    "model.save(file_path + \"snli_word_vec_sg.bin\")"
   ]
  },
  {
   "cell_type": "markdown",
   "id": "19f95033-654b-4607-8c88-42b460f912db",
   "metadata": {},
   "source": [
    "# 因子分析"
   ]
  },
  {
   "cell_type": "code",
   "execution_count": 2,
   "id": "9c00ff09-8977-421d-b42a-ab6deb9ef198",
   "metadata": {},
   "outputs": [],
   "source": [
    "import numpy as np\n",
    "import pandas as pd\n",
    "import matplotlib.pyplot as plt\n",
    "import seaborn as sns\n",
    "import math\n",
    "from gensim.models import word2vec\n",
    "from factor_analyzer import FactorAnalyzer\n",
    "from factor_analyzer.factor_analyzer import calculate_bartlett_sphericity,calculate_kmo"
   ]
  },
  {
   "cell_type": "code",
   "execution_count": 3,
   "id": "e5900bbc-5a4e-4969-9530-8d72546cb3ff",
   "metadata": {},
   "outputs": [],
   "source": [
    "file_path = 'autodl-tmp/'"
   ]
  },
  {
   "cell_type": "code",
   "execution_count": 4,
   "id": "5623992a-f43c-404b-82bc-06fe4a97779a",
   "metadata": {},
   "outputs": [],
   "source": [
    "model = word2vec.Word2Vec.load(file_path + 'snli_word_vec_sg.bin')"
   ]
  },
  {
   "cell_type": "code",
   "execution_count": 5,
   "id": "1813c809-cf8b-4b7a-a3d0-0fb005d632dc",
   "metadata": {},
   "outputs": [
    {
     "data": {
      "text/plain": [
       "(18027, 512)"
      ]
     },
     "execution_count": 5,
     "metadata": {},
     "output_type": "execute_result"
    }
   ],
   "source": [
    "embedding = np.array([model.wv[word] for word in model.wv.index_to_key])\n",
    "embedding.shape"
   ]
  },
  {
   "cell_type": "code",
   "execution_count": 47,
   "id": "d7f872bb-23d7-4f59-b816-b0e69d31045e",
   "metadata": {},
   "outputs": [
    {
     "data": {
      "text/plain": [
       "2803"
      ]
     },
     "execution_count": 47,
     "metadata": {},
     "output_type": "execute_result"
    }
   ],
   "source": [
    "# 查看某个单词的词向量\n",
    "model.wv.key_to_index['film']\n",
    "model.wv['film']"
   ]
  },
  {
   "cell_type": "code",
   "execution_count": 6,
   "id": "90332e87-8866-44fa-9f3b-f2472471a6af",
   "metadata": {},
   "outputs": [
    {
     "name": "stdout",
     "output_type": "stream",
     "text": [
      "Bartlett's球状检验: 检验总体变量的相关矩阵是否是单位阵\n",
      "7768554.243774692 0.0\n",
      "kmo检验:\n",
      "检查变量间的相关性和偏相关性，取值在0-1之间；KMO统计量越接近1，变量间的相关性越强，偏相关性越弱，因子分析的效果越好\n"
     ]
    },
    {
     "name": "stderr",
     "output_type": "stream",
     "text": [
      "/root/miniconda3/lib/python3.8/site-packages/factor_analyzer/utils.py:244: UserWarning: The inverse of the variance-covariance matrix was calculated using the Moore-Penrose generalized matrix inversion, due to its determinant being at or very close to zero.\n",
      "  warnings.warn(\n"
     ]
    },
    {
     "name": "stdout",
     "output_type": "stream",
     "text": [
      "KMO值为:  0.44138183310886825\n"
     ]
    }
   ],
   "source": [
    "# Bartlett's球状检验\n",
    "print('Bartlett\\'s球状检验: 检验总体变量的相关矩阵是否是单位阵')\n",
    "chi_square_value, p_value = calculate_bartlett_sphericity(embedding)\n",
    "print(chi_square_value, p_value)\n",
    "\n",
    "# 导入kmo检验\n",
    "print('kmo检验:')\n",
    "print('检查变量间的相关性和偏相关性，取值在0-1之间；KMO统计量越接近1，变量间的相关性越强，偏相关性越弱，因子分析的效果越好')\n",
    "kmo_all, kmo_model = calculate_kmo(embedding)\n",
    "print('KMO值为: ', kmo_model)"
   ]
  },
  {
   "cell_type": "code",
   "execution_count": 49,
   "id": "1e24072c-6d8f-4606-bb9a-caf21b2ba6ab",
   "metadata": {},
   "outputs": [
    {
     "name": "stdout",
     "output_type": "stream",
     "text": [
      "******因子分析******\n"
     ]
    }
   ],
   "source": [
    "# fa = FactorAnalyzer(25, rotation='varimax')\n",
    "print('******因子分析******')\n",
    "fa = FactorAnalyzer(25, rotation='varimax')\n",
    "fa.fit(embedding)\n",
    "\n",
    "# 特征值、特征向量\n",
    "ev, v = fa.get_eigenvalues()"
   ]
  },
  {
   "cell_type": "code",
   "execution_count": 50,
   "id": "4de4935a-3b90-4b44-94fc-45ef23043f9c",
   "metadata": {},
   "outputs": [
    {
     "data": {
      "image/png": "[encoded data removed]",
      "text/plain": [
       "<Figure size 640x480 with 1 Axes>"
      ]
     },
     "metadata": {},
     "output_type": "display_data"
    }
   ],
   "source": [
    "# 可视化, plot横轴是指标个数，纵轴是ev值\n",
    "plt.scatter(range(1, embedding.shape[1]+1), ev)\n",
    "plt.plot(range(1, embedding.shape[1]+1), ev)\n",
    "plt.title('Scree Plot')\n",
    "plt.xlabel('Factors')\n",
    "plt.ylabel('Eigenvalue')\n",
    "plt.grid()\n",
    "plt.show()\n",
    "\n",
    "# plt.savefig('ev.png')"
   ]
  },
  {
   "cell_type": "code",
   "execution_count": 51,
   "id": "a8b31a34-905a-454c-9670-412c154dc7de",
   "metadata": {},
   "outputs": [
    {
     "data": {
      "image/png": "[encoded data removed]",
      "text/plain": [
       "<Figure size 640x480 with 1 Axes>"
      ]
     },
     "metadata": {},
     "output_type": "display_data"
    }
   ],
   "source": [
    "# 前三十\n",
    "plt.scatter(range(1, 31), ev[:30])\n",
    "plt.plot(range(1, 31), ev[:30])\n",
    "plt.title('Scree Plot')\n",
    "plt.xlabel('Factors')\n",
    "plt.ylabel('Eigenvalue')\n",
    "plt.grid()\n",
    "plt.show()\n",
    "# plt.savefig(file_path + 'ev30.png')"
   ]
  },
  {
   "cell_type": "code",
   "execution_count": 9,
   "id": "da0e816f-7c12-4938-89af-ba3dafe82b22",
   "metadata": {},
   "outputs": [],
   "source": [
    "# fa = FactorAnalyzer(8, rotation=\"promax\")\n",
    "# fa.fit(embedding)\n",
    "# print(fa.loadings_.shape)\n",
    "\n",
    "# 512*8(变量个数*因子个数)\n",
    "index = fa.loadings_.argmax(axis=1)\n",
    "res = np.array([[i, idx] for i, idx in enumerate(index)])\n",
    "\n",
    "data_1 = pd.DataFrame(fa.loadings_, columns=['fa1', 'fa2', 'fa3', 'fa4', 'fa5', 'fa6', 'fa7', 'fa8'])\n",
    "data_2 = pd.DataFrame(res, columns=['Dimension', 'Factor'])\n",
    "with pd.ExcelWriter(file_path + \"snliFA.xls\") as writer1:\n",
    "    data_1.to_excel(writer1, sheet_name=\"Sheet1\")\n",
    "    data_2.to_excel(writer1, sheet_name=\"Sheet2\")\n",
    "    writer1.save()"
   ]
  },
  {
   "cell_type": "code",
   "execution_count": 10,
   "id": "f690b929-7076-445c-a86c-4a7951abe43f",
   "metadata": {},
   "outputs": [
    {
     "data": {
      "text/plain": [
       "Text(120.72222222222221, 0.5, 'Dimension')"
      ]
     },
     "execution_count": 10,
     "metadata": {},
     "output_type": "execute_result"
    },
    {
     "data": {
      "image/png": "[encoded data removed]",
      "text/plain": [
       "<Figure size 1200x2500 with 2 Axes>"
      ]
     },
     "metadata": {},
     "output_type": "display_data"
    }
   ],
   "source": [
    "# 因子分析结果可视化\n",
    "df_cm = pd.DataFrame(np.abs(fa.loadings_))\n",
    "fig, ax = plt.subplots(figsize=(12,25))\n",
    "sns.heatmap(df_cm, annot=None, cmap='YlGnBu', ax=ax)  # cbar_kws\n",
    "\n",
    "\n",
    "# dict_={'orientation':'vertical',\"label\":\"color  \\\n",
    "# scale\",\"drawedges\":True,\"ticklocation\":\"top\",\"extend\":\"min\", \\\n",
    "# \"filled\":True,\"alpha\":0.8,\"cmap\":\"cmap\",\"ticks\":tick_}\n",
    "# cbar_kws = dict_\n",
    "\n",
    "# 设置y轴字体的大小\n",
    "ax.tick_params(axis='x',labelsize=15)\n",
    "ax.set_title(\"Factor Analysis\",fontsize=12)\n",
    "ax.set_ylabel(\"Dimension\")\n",
    "# plt.savefig(file_path + 'snli_dimension.png')"
   ]
  },
  {
   "cell_type": "code",
   "execution_count": 11,
   "id": "21c27dcf-07c1-413f-9e85-0a486b94407f",
   "metadata": {},
   "outputs": [
    {
     "data": {
      "text/plain": [
       "<Figure size 640x480 with 0 Axes>"
      ]
     },
     "metadata": {},
     "output_type": "display_data"
    }
   ],
   "source": [
    "plt.savefig(file_path + 'snli_dimension.png')"
   ]
  },
  {
   "cell_type": "markdown",
   "id": "7e3325b8-f070-4087-9b4b-c9247df3e489",
   "metadata": {},
   "source": [
    "# 模型架构"
   ]
  },
  {
   "cell_type": "code",
   "execution_count": 3,
   "id": "dff9ec3f-9bef-48c9-8617-23845897427d",
   "metadata": {},
   "outputs": [],
   "source": [
    "import torch\n",
    "from torch import nn\n",
    "import numpy as np\n",
    "import pandas as pd\n",
    "from d2l import torch as d2l\n",
    "import matplotlib.pyplot as plt\n",
    "from datasets import load_dataset\n",
    "from tqdm import tqdm\n",
    "import time\n",
    "import math\n",
    "import re\n",
    "from gensim.models import word2vec"
   ]
  },
  {
   "cell_type": "code",
   "execution_count": 4,
   "id": "386e4056-14bb-4da4-9d5c-03bceb7623ed",
   "metadata": {},
   "outputs": [],
   "source": [
    "class FamAttention(nn.Module):\n",
    "    \"\"\"修改多头注意力，针对嵌入512维，8个head的模型\"\"\"\n",
    "    def __init__(self, num_hiddens, dim_dict, dropout, bias=False, **kwargs):\n",
    "        super(FamAttention, self).__init__(**kwargs)\n",
    "        self.attention = d2l.DotProductAttention(dropout)\n",
    "        self.W_o = nn.Linear(num_hiddens, num_hiddens, bias=bias)\n",
    "        self.dim_dict = dim_dict\n",
    "        self.dim_0 = [dim for dim, idx in self.dim_dict.items() if idx == 0]\n",
    "        self.dim_1 = [dim for dim, idx in self.dim_dict.items() if idx == 1]\n",
    "        self.dim_2 = [dim for dim, idx in self.dim_dict.items() if idx == 2]\n",
    "        self.dim_3 = [dim for dim, idx in self.dim_dict.items() if idx == 3]\n",
    "        self.dim_4 = [dim for dim, idx in self.dim_dict.items() if idx == 4]\n",
    "        self.dim_5 = [dim for dim, idx in self.dim_dict.items() if idx == 5]\n",
    "        self.dim_6 = [dim for dim, idx in self.dim_dict.items() if idx == 6]\n",
    "        self.dim_7 = [dim for dim, idx in self.dim_dict.items() if idx == 7]\n",
    "        # self.list_concat = torch.cat((self.dim_0, self.dim_1, self.dim_2, self.dim_3, self.dim_4, self.dim_5,\n",
    "        # self.dim_6, self.dim_7))\n",
    "        self.len_0, self.len_1, self.len_2, self.len_3, self.len_4, self.len_5, self.len_6, self.len_7 = len(\n",
    "            self.dim_0), len(self.dim_1), len(self.dim_2), len(self.dim_3), len(self.dim_4), len(self.dim_5),\\\n",
    "            len(self.dim_6), len(self.dim_7)\n",
    "\n",
    "        self.Wq0 = nn.Linear(self.len_0, self.len_0, bias=bias)\n",
    "        self.Wq1 = nn.Linear(self.len_1, self.len_1, bias=bias)\n",
    "        self.Wq2 = nn.Linear(self.len_2, self.len_2, bias=bias)\n",
    "        self.Wq3 = nn.Linear(self.len_3, self.len_3, bias=bias)\n",
    "        self.Wq4 = nn.Linear(self.len_4, self.len_4, bias=bias)\n",
    "        self.Wq5 = nn.Linear(self.len_5, self.len_5, bias=bias)\n",
    "        self.Wq6 = nn.Linear(self.len_6, self.len_6, bias=bias)\n",
    "        self.Wq7 = nn.Linear(self.len_7, self.len_7, bias=bias)\n",
    "\n",
    "        self.Wk0 = nn.Linear(self.len_0, self.len_0, bias=bias)\n",
    "        self.Wk1 = nn.Linear(self.len_1, self.len_1, bias=bias)\n",
    "        self.Wk2 = nn.Linear(self.len_2, self.len_2, bias=bias)\n",
    "        self.Wk3 = nn.Linear(self.len_3, self.len_3, bias=bias)\n",
    "        self.Wk4 = nn.Linear(self.len_4, self.len_4, bias=bias)\n",
    "        self.Wk5 = nn.Linear(self.len_5, self.len_5, bias=bias)\n",
    "        self.Wk6 = nn.Linear(self.len_6, self.len_6, bias=bias)\n",
    "        self.Wk7 = nn.Linear(self.len_7, self.len_7, bias=bias)\n",
    "\n",
    "        self.Wv0 = nn.Linear(self.len_0, self.len_0, bias=bias)\n",
    "        self.Wv1 = nn.Linear(self.len_1, self.len_1, bias=bias)\n",
    "        self.Wv2 = nn.Linear(self.len_2, self.len_2, bias=bias)\n",
    "        self.Wv3 = nn.Linear(self.len_3, self.len_3, bias=bias)\n",
    "        self.Wv4 = nn.Linear(self.len_4, self.len_4, bias=bias)\n",
    "        self.Wv5 = nn.Linear(self.len_5, self.len_5, bias=bias)\n",
    "        self.Wv6 = nn.Linear(self.len_6, self.len_6, bias=bias)\n",
    "        self.Wv7 = nn.Linear(self.len_7, self.len_7, bias=bias)\n",
    "\n",
    "    def forward(self, queries, keys, values, valid_lens):\n",
    "        def assemble(output_concat, list_concat):\n",
    "            reslist = []\n",
    "            for i in range(512):\n",
    "                reslist.append(list_concat.index(i))\n",
    "            return torch.index_select(output_concat, -1, torch.tensor(reslist, device=output_concat.device))\n",
    "\n",
    "        # queries, keys, values的形状: (batch_size，查询或者“键－值”对的个数，num_hiddens)\n",
    "        # qi, ki, vi的形状：(batch_size, 查询或者“键－值”对的个数， self.len_i)\n",
    "        q0, k0, v0 = torch.index_select(queries, -1, torch.tensor(self.dim_0, device=queries.device)), \\\n",
    "            torch.index_select(keys, -1, torch.tensor(self.dim_0, device=keys.device)), torch.index_select(\n",
    "            values, -1, torch.tensor(self.dim_0, device=values.device))\n",
    "        q1, k1, v1 = torch.index_select(queries, -1, torch.tensor(self.dim_1, device=queries.device)), \\\n",
    "            torch.index_select(keys, -1, torch.tensor(self.dim_1, device=keys.device)), torch.index_select(\n",
    "            values, -1, torch.tensor(self.dim_1, device=values.device))\n",
    "        q2, k2, v2 = torch.index_select(queries, -1, torch.tensor(self.dim_2, device=queries.device)), \\\n",
    "            torch.index_select(keys, -1, torch.tensor(self.dim_2, device=keys.device)), torch.index_select(\n",
    "            values, -1, torch.tensor(self.dim_2, device=values.device))\n",
    "        q3, k3, v3 = torch.index_select(queries, -1, torch.tensor(self.dim_3, device=queries.device)), \\\n",
    "            torch.index_select(keys, -1, torch.tensor(self.dim_3, device=keys.device)), torch.index_select(\n",
    "            values, -1, torch.tensor(self.dim_3, device=values.device))\n",
    "        q4, k4, v4 = torch.index_select(queries, -1, torch.tensor(self.dim_4, device=queries.device)), \\\n",
    "            torch.index_select(keys, -1, torch.tensor(self.dim_4, device=keys.device)), torch.index_select(\n",
    "            values, -1, torch.tensor(self.dim_4, device=values.device))\n",
    "        q5, k5, v5 = torch.index_select(queries, -1, torch.tensor(self.dim_5, device=queries.device)), \\\n",
    "            torch.index_select(keys, -1, torch.tensor(self.dim_5, device=keys.device)), torch.index_select(\n",
    "            values, -1, torch.tensor(self.dim_5, device=values.device))\n",
    "        q6, k6, v6 = torch.index_select(queries, -1, torch.tensor(self.dim_6, device=queries.device)), \\\n",
    "            torch.index_select(keys, -1, torch.tensor(self.dim_6, device=keys.device)), torch.index_select(\n",
    "            values, -1, torch.tensor(self.dim_6, device=values.device))\n",
    "        q7, k7, v7 = torch.index_select(queries, -1, torch.tensor(self.dim_7, device=queries.device)), \\\n",
    "            torch.index_select(keys, -1, torch.tensor(self.dim_7, device=keys.device)), torch.index_select(\n",
    "            values, -1, torch.tensor(self.dim_7, device=values.device))\n",
    "\n",
    "        head0 = self.attention(self.Wq0(q0), self.Wk0(k0), self.Wv0(v0), valid_lens)\n",
    "        head1 = self.attention(self.Wq1(q1), self.Wk1(k1), self.Wv1(v1), valid_lens)\n",
    "        head2 = self.attention(self.Wq2(q2), self.Wk2(k2), self.Wv2(v2), valid_lens)\n",
    "        head3 = self.attention(self.Wq3(q3), self.Wk3(k3), self.Wv3(v3), valid_lens)\n",
    "        head4 = self.attention(self.Wq4(q4), self.Wk4(k4), self.Wv4(v4), valid_lens)\n",
    "        head5 = self.attention(self.Wq5(q5), self.Wk5(k5), self.Wv5(v5), valid_lens)\n",
    "        head6 = self.attention(self.Wq6(q6), self.Wk6(k6), self.Wv6(v6), valid_lens)\n",
    "        head7 = self.attention(self.Wq7(q7), self.Wk7(k7), self.Wv7(v7), valid_lens)\n",
    "\n",
    "        output_concat = torch.cat((head0, head1, head2, head3, head4, head5, head6, head7), dim=-1)\n",
    "        list_concat = self.dim_0 + self.dim_1 + self.dim_2 + self.dim_3 + self.dim_4 + self.dim_5 + self.dim_6 + self.dim_7\n",
    "        return self.W_o(assemble(output_concat, list_concat))"
   ]
  },
  {
   "cell_type": "code",
   "execution_count": 5,
   "id": "5f15d1bf-33e8-4507-8f83-04a0a66fd25a",
   "metadata": {},
   "outputs": [],
   "source": [
    "# 编码器块\n",
    "class EncoderBlock(nn.Module):\n",
    "    \"\"\"transformer编码器块\"\"\"\n",
    "\n",
    "    def __init__(self, num_hiddens, norm_shape, ffn_num_input,\n",
    "                 ffn_num_hiddens, dim_dict, dropout, use_bias=False, **kwargs):\n",
    "        super(EncoderBlock, self).__init__(**kwargs)\n",
    "        self.attention = FamAttention(num_hiddens, dim_dict, dropout, use_bias)\n",
    "        self.addnorm1 = d2l.AddNorm(norm_shape, dropout)\n",
    "        self.ffn = d2l.PositionWiseFFN(\n",
    "            ffn_num_input, ffn_num_hiddens, num_hiddens)\n",
    "        self.addnorm2 = d2l.AddNorm(norm_shape, dropout)\n",
    "\n",
    "    def forward(self, X, valid_lens):\n",
    "        Y = self.addnorm1(X, self.attention(X, X, X, valid_lens))\n",
    "        return self.addnorm2(Y, self.ffn(Y))"
   ]
  },
  {
   "cell_type": "code",
   "execution_count": 6,
   "id": "1ce3648e-3402-4c25-bacb-ef4f8651dae8",
   "metadata": {},
   "outputs": [],
   "source": [
    "class FamEncoder(nn.Module):\n",
    "    \"\"\"采用BERT编码器结构\"\"\"\n",
    "    def __init__(self, vocab_size, num_hiddens, norm_shape, ffn_num_input,\n",
    "                 ffn_num_hiddens, dim_dict, num_layers, dropout, max_len=128,\n",
    "                 **kwargs):\n",
    "        super(FamEncoder, self).__init__(**kwargs)\n",
    "        self.token_embedding = nn.Embedding(vocab_size, num_hiddens)\n",
    "        self.segment_embedding = nn.Embedding(2, num_hiddens)\n",
    "        self.blks = nn.Sequential()\n",
    "        self.agg_layer = nn.Sequential(nn.Linear(num_hiddens, num_hiddens),\n",
    "                                      nn.ReLU())\n",
    "        self.output = nn.Linear(num_hiddens, 3)\n",
    "        for i in range(num_layers):\n",
    "            self.blks.add_module(f\"{i}\", EncoderBlock(\n",
    "                num_hiddens, norm_shape, ffn_num_input,\n",
    "                ffn_num_hiddens, dim_dict, dropout, True))\n",
    "        # 在BERT中，位置嵌入是可学习的，因此我们创建一个足够长的位置嵌入参数\n",
    "        self.pos_embedding = nn.Parameter(torch.randn(1, max_len,\n",
    "                                                      num_hiddens))\n",
    "\n",
    "    def forward(self, tokens, segments, valid_lens):\n",
    "        # 在以下代码段中，X的形状保持不变：（批量大小，最大序列长度，num_hiddens）\n",
    "        X = self.token_embedding(tokens) + self.segment_embedding(segments)\n",
    "        X = X + self.pos_embedding.data[:, :X.shape[1], :]\n",
    "        for blk in self.blks:\n",
    "            X = blk(X, valid_lens)\n",
    "        # 取句首'<cls>'标签对应的输出向量用于分类\n",
    "        return self.output(self.agg_layer(X[:, 0, :]))"
   ]
  },
  {
   "cell_type": "markdown",
   "id": "7186b883-f459-416c-9ce2-dd3d3b1bef37",
   "metadata": {},
   "source": [
    "# 训练和测试数据集"
   ]
  },
  {
   "cell_type": "code",
   "execution_count": 7,
   "id": "d0ec0ff9-3e06-4582-b6b1-047d24a9715c",
   "metadata": {},
   "outputs": [],
   "source": [
    "class SNLIBERTDataset(torch.utils.data.Dataset):\n",
    "    def __init__(self, dataset, max_len, vocab=None):\n",
    "        premise = [self._process(sen) for sen in dataset['premise']]\n",
    "        hypothesis = [self._process(sen) for sen in dataset['hypothesis']]\n",
    "        # all_premise_hypothesis_tokens = [d2l.tokenize(sentences)\n",
    "        #     for sentences in [premise, hypothesis]]\n",
    "        all_premise_hypothesis_tokens = [[\n",
    "            p_tokens, h_tokens] for p_tokens, h_tokens in zip(\n",
    "            *[d2l.tokenize(sentences)\n",
    "              for sentences in [premise, hypothesis]])]\n",
    "        self.labels = torch.tensor(dataset['label'])\n",
    "        if vocab is None:\n",
    "            self.vocab = d2l.Vocab(d2l.tokenize(premise + hypothesis), min_freq=5,\n",
    "                                   reserved_tokens=['<pad>', '<cls>', '<pad>', '<sep>'])\n",
    "        else:\n",
    "            self.vocab = vocab\n",
    "        self.max_len = max_len\n",
    "        (self.all_token_ids, self.all_segments,\n",
    "         self.valid_lens) = self._preprocess(all_premise_hypothesis_tokens)\n",
    "        print('read ' + str(len(self.all_token_ids)) + ' examples')\n",
    "\n",
    "    def _process(self, raw_sentences):\n",
    "        raw_sentences = re.sub(r'[^0-9a-zA-Z]', ' ', raw_sentences)\n",
    "        raw_sentences = re.sub('\\\\s{2,}', ' ', raw_sentences)\n",
    "        return raw_sentences\n",
    "\n",
    "    def _preprocess(self, all_premise_hypothesis_tokens):\n",
    "        # pool = multiprocessing.Pool(4)  # 使用4个进程\n",
    "        # out = pool.map(self._mp_worker, all_premise_hypothesis_tokens)\n",
    "        out = list(map(self._mp_worker, all_premise_hypothesis_tokens))\n",
    "        all_token_ids = [\n",
    "            token_ids for token_ids, segments, valid_len in out]\n",
    "        all_segments = [segments for token_ids, segments, valid_len in out]\n",
    "        valid_lens = [valid_len for token_ids, segments, valid_len in out]\n",
    "        return (torch.tensor(all_token_ids, dtype=torch.long),\n",
    "                torch.tensor(all_segments, dtype=torch.long),\n",
    "                torch.tensor(valid_lens))\n",
    "\n",
    "    def _mp_worker(self, premise_hypothesis_tokens):\n",
    "        p_tokens, h_tokens = premise_hypothesis_tokens\n",
    "        self._truncate_pair_of_tokens(p_tokens, h_tokens)\n",
    "        tokens, segments = d2l.get_tokens_and_segments(p_tokens, h_tokens)\n",
    "        token_ids = self.vocab[tokens] + [self.vocab['<pad>']] \\\n",
    "                             * (self.max_len - len(tokens))\n",
    "        segments = segments + [0] * (self.max_len - len(segments))\n",
    "        valid_len = len(tokens)\n",
    "        return token_ids, segments, valid_len\n",
    "\n",
    "    def _truncate_pair_of_tokens(self, p_tokens, h_tokens):\n",
    "        # 为BERT输入中的'<CLS>'、'<SEP>'和'<SEP>'词元保留位置\n",
    "        while len(p_tokens) + len(h_tokens) > self.max_len - 3:\n",
    "            if len(p_tokens) > len(h_tokens):\n",
    "                p_tokens.pop()\n",
    "            else:\n",
    "                h_tokens.pop()\n",
    "\n",
    "    def __getitem__(self, idx):\n",
    "        return (self.all_token_ids[idx], self.all_segments[idx],\n",
    "                self.valid_lens[idx]), self.labels[idx]\n",
    "\n",
    "    def __len__(self):\n",
    "        return len(self.all_token_ids)"
   ]
  },
  {
   "cell_type": "code",
   "execution_count": 8,
   "id": "f5847f00-7a98-4d15-985a-317fcbe07b76",
   "metadata": {},
   "outputs": [
    {
     "name": "stdout",
     "output_type": "stream",
     "text": [
      "read 549367 examples\n",
      "训练集词表大小: 18018\n",
      "read 9824 examples\n",
      "read 9842 examples\n"
     ]
    }
   ],
   "source": [
    "batch_size, max_len = 512, 128\n",
    "train_set = SNLIBERTDataset(dataset['train'], max_len)\n",
    "vocab = train_set.vocab\n",
    "print(f\"训练集词表大小: {len(vocab)}\")\n",
    "test_set = SNLIBERTDataset(dataset['test'], max_len, vocab)\n",
    "validation_set = SNLIBERTDataset(dataset['validation'], max_len, vocab)"
   ]
  },
  {
   "cell_type": "code",
   "execution_count": 18,
   "id": "3a19053d-f855-4f7f-b31b-3d483f4b7f45",
   "metadata": {},
   "outputs": [
    {
     "data": {
      "text/plain": [
       "128"
      ]
     },
     "execution_count": 18,
     "metadata": {},
     "output_type": "execute_result"
    }
   ],
   "source": [
    "import os\n",
    "os.cpu_count()"
   ]
  },
  {
   "cell_type": "code",
   "execution_count": 11,
   "id": "8067c547-d7b8-4dcf-8aa9-9dde3eb57179",
   "metadata": {},
   "outputs": [
    {
     "data": {
      "text/plain": [
       "Counter({1: 182764, 2: 183187, 0: 183416})"
      ]
     },
     "execution_count": 11,
     "metadata": {},
     "output_type": "execute_result"
    }
   ],
   "source": [
    "from collections import Counter\n",
    "cnt = Counter(train_set.labels.numpy())\n",
    "cnt"
   ]
  },
  {
   "cell_type": "code",
   "execution_count": 73,
   "id": "70895bb6-6bb3-430f-88ae-8b47fcc269a3",
   "metadata": {},
   "outputs": [
    {
     "name": "stdout",
     "output_type": "stream",
     "text": [
      "{'premise': 'A small group of church-goers watch a choir practice.', 'hypothesis': 'A choir performs in front of packed crowd.', 'label': -1}\n"
     ]
    }
   ],
   "source": [
    "for data in dataset['train']:\n",
    "    if data['label'] == -1:\n",
    "        print(data)\n",
    "        break"
   ]
  },
  {
   "cell_type": "code",
   "execution_count": 9,
   "id": "ba00673f-e0bf-4997-b4e5-35e61a13d964",
   "metadata": {},
   "outputs": [
    {
     "name": "stdout",
     "output_type": "stream",
     "text": [
      "训练集大小: 1073, 测试集大小: 20, 验证集大小: 20\n"
     ]
    }
   ],
   "source": [
    "train_iter = torch.utils.data.DataLoader(train_set, batch_size, shuffle=True)\n",
    "test_iter = torch.utils.data.DataLoader(test_set, batch_size, shuffle=False)\n",
    "validation_iter = torch.utils.data.DataLoader(validation_set, batch_size, shuffle=False)\n",
    "print(f'训练集大小: {len(train_iter)}, 测试集大小: {len(test_iter)}, 验证集大小: {len(validation_iter)}')"
   ]
  },
  {
   "cell_type": "markdown",
   "id": "7c6640a5-fef1-47db-8640-6b66e110d189",
   "metadata": {},
   "source": [
    "# 训练准备"
   ]
  },
  {
   "cell_type": "code",
   "execution_count": 10,
   "id": "860a07d8-ee87-4f54-8d7b-06d33982509c",
   "metadata": {},
   "outputs": [],
   "source": [
    "# 参数和超参数\n",
    "num_hiddens, num_layers, dropout = 512, 2, 0.1\n",
    "ffn_num_input, ffn_num_hiddens, num_heads, norm_shape = 512, 2048, 8, [512]\n",
    "lr, num_epochs, device = 5e-5, 30, d2l.try_gpu()"
   ]
  },
  {
   "cell_type": "code",
   "execution_count": 11,
   "id": "f6b306d1-3863-44fa-94a0-c127f5aeb229",
   "metadata": {},
   "outputs": [],
   "source": [
    "file_path = 'autodl-tmp/'\n",
    "excelfile = pd.read_excel(file_path + 'snliFA.xls', sheet_name='Sheet2', header=0, index_col=0)\n",
    "dim_dict = dict()\n",
    "for i in range(512):\n",
    "    dim_dict[excelfile['Dimension'].values[i]] = excelfile['Factor'].values[i]"
   ]
  },
  {
   "cell_type": "code",
   "execution_count": 12,
   "id": "51c08963-3b68-4b0b-811b-244bae227554",
   "metadata": {},
   "outputs": [
    {
     "name": "stdout",
     "output_type": "stream",
     "text": [
      "14,488,731 total parameters.\n",
      "14,488,731 training parameters.\n"
     ]
    }
   ],
   "source": [
    "# 实例化模型\n",
    "net = FamEncoder(\n",
    "    len(vocab), num_hiddens, norm_shape, ffn_num_input,\n",
    "    ffn_num_hiddens, dim_dict, num_layers, dropout)\n",
    "# Find total parameters and trainable parameters\n",
    "total_params = sum(p.numel() for p in net.parameters())\n",
    "print(f'{total_params:,} total parameters.')\n",
    "total_trainable_params = sum(p.numel() for p in net.parameters() if p.requires_grad)\n",
    "print(f'{total_trainable_params:,} training parameters.')"
   ]
  },
  {
   "cell_type": "code",
   "execution_count": 13,
   "id": "1b7eb42d-651a-4a20-9a30-19e32160f4e5",
   "metadata": {},
   "outputs": [],
   "source": [
    "# 初始化embedding层模型权重\n",
    "def get_embedding_weights(vocab, word2vecmodel, num_hiddens):\n",
    "    wordlist = word2vecmodel.wv.index_to_key\n",
    "    n = len(vocab)\n",
    "    data = np.random.randn(n, num_hiddens)\n",
    "    for i in range(n):\n",
    "        word = vocab.idx_to_token[i]\n",
    "        data[i] = np.array(word2vecmodel.wv[word]) if word in wordlist else data[i]\n",
    "    return torch.tensor(data, dtype=torch.float32)\n",
    "\n",
    "\n",
    "def init_embedding_weights(module, weights):\n",
    "    module.weight.data = weights\n",
    "\n",
    "\n",
    "word2vecmodel = word2vec.Word2Vec.load(file_path + 'snli_word_vec_sg.bin')\n",
    "weights = get_embedding_weights(vocab, word2vecmodel, num_hiddens)\n",
    "init_embedding_weights(net.token_embedding, weights)"
   ]
  },
  {
   "cell_type": "code",
   "execution_count": null,
   "id": "d3670a12-e760-4816-b2f9-c7492a41f3d7",
   "metadata": {},
   "outputs": [],
   "source": [
    "embedding[0]"
   ]
  },
  {
   "cell_type": "code",
   "execution_count": 57,
   "id": "9aab1688-520f-44db-a1c8-78306ce68bf5",
   "metadata": {},
   "outputs": [
    {
     "data": {
      "text/plain": [
       "'a'"
      ]
     },
     "execution_count": 57,
     "metadata": {},
     "output_type": "execute_result"
    }
   ],
   "source": [
    "vocab.idx_to_token[5]"
   ]
  },
  {
   "cell_type": "code",
   "execution_count": null,
   "id": "68c9c4b0-f441-4052-9224-0eda9990e973",
   "metadata": {},
   "outputs": [],
   "source": [
    "net.token_embedding.weight.data[5]"
   ]
  },
  {
   "cell_type": "code",
   "execution_count": 47,
   "id": "c6f1fcf2-21a8-4585-a133-2b40aec6b34b",
   "metadata": {},
   "outputs": [
    {
     "data": {
      "text/plain": [
       "tensor([[-0.5880,  0.6655, -0.1657,  ..., -1.5089, -0.6681,  1.5746],\n",
       "        [-1.4953,  0.3176,  0.9931,  ..., -1.2442,  1.5790, -0.6454]])"
      ]
     },
     "execution_count": 47,
     "metadata": {},
     "output_type": "execute_result"
    }
   ],
   "source": [
    "net.segment_embedding.weight.data"
   ]
  },
  {
   "cell_type": "code",
   "execution_count": 14,
   "id": "4fdf2faf-b17d-4adf-a296-27c637a1cca4",
   "metadata": {},
   "outputs": [
    {
     "data": {
      "text/plain": [
       "FamEncoder(\n",
       "  (token_embedding): Embedding(18018, 512)\n",
       "  (segment_embedding): Embedding(2, 512)\n",
       "  (blks): Sequential(\n",
       "    (0): EncoderBlock(\n",
       "      (attention): FamAttention(\n",
       "        (attention): DotProductAttention(\n",
       "          (dropout): Dropout(p=0.1, inplace=False)\n",
       "        )\n",
       "        (W_o): Linear(in_features=512, out_features=512, bias=True)\n",
       "        (Wq0): Linear(in_features=78, out_features=78, bias=True)\n",
       "        (Wq1): Linear(in_features=77, out_features=77, bias=True)\n",
       "        (Wq2): Linear(in_features=69, out_features=69, bias=True)\n",
       "        (Wq3): Linear(in_features=62, out_features=62, bias=True)\n",
       "        (Wq4): Linear(in_features=64, out_features=64, bias=True)\n",
       "        (Wq5): Linear(in_features=52, out_features=52, bias=True)\n",
       "        (Wq6): Linear(in_features=53, out_features=53, bias=True)\n",
       "        (Wq7): Linear(in_features=57, out_features=57, bias=True)\n",
       "        (Wk0): Linear(in_features=78, out_features=78, bias=True)\n",
       "        (Wk1): Linear(in_features=77, out_features=77, bias=True)\n",
       "        (Wk2): Linear(in_features=69, out_features=69, bias=True)\n",
       "        (Wk3): Linear(in_features=62, out_features=62, bias=True)\n",
       "        (Wk4): Linear(in_features=64, out_features=64, bias=True)\n",
       "        (Wk5): Linear(in_features=52, out_features=52, bias=True)\n",
       "        (Wk6): Linear(in_features=53, out_features=53, bias=True)\n",
       "        (Wk7): Linear(in_features=57, out_features=57, bias=True)\n",
       "        (Wv0): Linear(in_features=78, out_features=78, bias=True)\n",
       "        (Wv1): Linear(in_features=77, out_features=77, bias=True)\n",
       "        (Wv2): Linear(in_features=69, out_features=69, bias=True)\n",
       "        (Wv3): Linear(in_features=62, out_features=62, bias=True)\n",
       "        (Wv4): Linear(in_features=64, out_features=64, bias=True)\n",
       "        (Wv5): Linear(in_features=52, out_features=52, bias=True)\n",
       "        (Wv6): Linear(in_features=53, out_features=53, bias=True)\n",
       "        (Wv7): Linear(in_features=57, out_features=57, bias=True)\n",
       "      )\n",
       "      (addnorm1): AddNorm(\n",
       "        (dropout): Dropout(p=0.1, inplace=False)\n",
       "        (ln): LayerNorm((512,), eps=1e-05, elementwise_affine=True)\n",
       "      )\n",
       "      (ffn): PositionWiseFFN(\n",
       "        (dense1): Linear(in_features=512, out_features=2048, bias=True)\n",
       "        (relu): ReLU()\n",
       "        (dense2): Linear(in_features=2048, out_features=512, bias=True)\n",
       "      )\n",
       "      (addnorm2): AddNorm(\n",
       "        (dropout): Dropout(p=0.1, inplace=False)\n",
       "        (ln): LayerNorm((512,), eps=1e-05, elementwise_affine=True)\n",
       "      )\n",
       "    )\n",
       "    (1): EncoderBlock(\n",
       "      (attention): FamAttention(\n",
       "        (attention): DotProductAttention(\n",
       "          (dropout): Dropout(p=0.1, inplace=False)\n",
       "        )\n",
       "        (W_o): Linear(in_features=512, out_features=512, bias=True)\n",
       "        (Wq0): Linear(in_features=78, out_features=78, bias=True)\n",
       "        (Wq1): Linear(in_features=77, out_features=77, bias=True)\n",
       "        (Wq2): Linear(in_features=69, out_features=69, bias=True)\n",
       "        (Wq3): Linear(in_features=62, out_features=62, bias=True)\n",
       "        (Wq4): Linear(in_features=64, out_features=64, bias=True)\n",
       "        (Wq5): Linear(in_features=52, out_features=52, bias=True)\n",
       "        (Wq6): Linear(in_features=53, out_features=53, bias=True)\n",
       "        (Wq7): Linear(in_features=57, out_features=57, bias=True)\n",
       "        (Wk0): Linear(in_features=78, out_features=78, bias=True)\n",
       "        (Wk1): Linear(in_features=77, out_features=77, bias=True)\n",
       "        (Wk2): Linear(in_features=69, out_features=69, bias=True)\n",
       "        (Wk3): Linear(in_features=62, out_features=62, bias=True)\n",
       "        (Wk4): Linear(in_features=64, out_features=64, bias=True)\n",
       "        (Wk5): Linear(in_features=52, out_features=52, bias=True)\n",
       "        (Wk6): Linear(in_features=53, out_features=53, bias=True)\n",
       "        (Wk7): Linear(in_features=57, out_features=57, bias=True)\n",
       "        (Wv0): Linear(in_features=78, out_features=78, bias=True)\n",
       "        (Wv1): Linear(in_features=77, out_features=77, bias=True)\n",
       "        (Wv2): Linear(in_features=69, out_features=69, bias=True)\n",
       "        (Wv3): Linear(in_features=62, out_features=62, bias=True)\n",
       "        (Wv4): Linear(in_features=64, out_features=64, bias=True)\n",
       "        (Wv5): Linear(in_features=52, out_features=52, bias=True)\n",
       "        (Wv6): Linear(in_features=53, out_features=53, bias=True)\n",
       "        (Wv7): Linear(in_features=57, out_features=57, bias=True)\n",
       "      )\n",
       "      (addnorm1): AddNorm(\n",
       "        (dropout): Dropout(p=0.1, inplace=False)\n",
       "        (ln): LayerNorm((512,), eps=1e-05, elementwise_affine=True)\n",
       "      )\n",
       "      (ffn): PositionWiseFFN(\n",
       "        (dense1): Linear(in_features=512, out_features=2048, bias=True)\n",
       "        (relu): ReLU()\n",
       "        (dense2): Linear(in_features=2048, out_features=512, bias=True)\n",
       "      )\n",
       "      (addnorm2): AddNorm(\n",
       "        (dropout): Dropout(p=0.1, inplace=False)\n",
       "        (ln): LayerNorm((512,), eps=1e-05, elementwise_affine=True)\n",
       "      )\n",
       "    )\n",
       "  )\n",
       "  (agg_layer): Sequential(\n",
       "    (0): Linear(in_features=512, out_features=512, bias=True)\n",
       "    (1): ReLU()\n",
       "  )\n",
       "  (output): Linear(in_features=512, out_features=3, bias=True)\n",
       ")"
      ]
     },
     "execution_count": 14,
     "metadata": {},
     "output_type": "execute_result"
    }
   ],
   "source": [
    "# 初始化线性层权重\n",
    "def xavier_init_weights(m):\n",
    "    if type(m) in (nn.Linear, nn.Conv1d):\n",
    "        nn.init.xavier_uniform_(m.weight)\n",
    "\n",
    "\n",
    "net.apply(xavier_init_weights)"
   ]
  },
  {
   "cell_type": "code",
   "execution_count": null,
   "id": "d2fbc6ad-a670-472b-8537-32ccd8b18cea",
   "metadata": {},
   "outputs": [],
   "source": [
    "for name, parameters in net.named_parameters():\n",
    "    print(name, ';', parameters.size())"
   ]
  },
  {
   "cell_type": "code",
   "execution_count": 15,
   "id": "71fdf186-25ae-4e77-aacf-97c312c46d30",
   "metadata": {},
   "outputs": [],
   "source": [
    "def evaluate_accuracy_gpu(net, data_iter, device=None):\n",
    "    \"\"\"Compute the accuracy for a model on a dataset using a GPU.\"\"\"\n",
    "    net.eval()  # Set the model to evaluation mode\n",
    "    if not device:\n",
    "        device = next(iter(net.parameters())).device\n",
    "    # No. of correct predictions, no. of predictions\n",
    "    metric = d2l.Accumulator(2)\n",
    "\n",
    "    with torch.no_grad():\n",
    "        for data in data_iter:\n",
    "            X, y = data\n",
    "            tokens, segments, valid_len = [x.to(device) for x in X]\n",
    "            y = y.to(device)\n",
    "            metric.add(d2l.accuracy(net(tokens, segments, valid_len), y), d2l.size(y))\n",
    "    return metric[0] / metric[1]"
   ]
  },
  {
   "cell_type": "markdown",
   "id": "852f214e-7271-4ab5-abf8-26a9d9dd76ca",
   "metadata": {},
   "source": [
    "# 正式训练(2层编码器块, 20 epochs)"
   ]
  },
  {
   "cell_type": "code",
   "execution_count": 27,
   "id": "39c04386-02d4-4969-b577-61d8ddff9b4e",
   "metadata": {},
   "outputs": [
    {
     "name": "stderr",
     "output_type": "stream",
     "text": [
      "100%|██████████| 1073/1073 [06:13<00:00,  2.87it/s]\n"
     ]
    },
    {
     "name": "stdout",
     "output_type": "stream",
     "text": [
      "epoch 1, loss 1.039, train_acc 0.467, test_acc 0.524, taking 378 seconds\n"
     ]
    },
    {
     "name": "stderr",
     "output_type": "stream",
     "text": [
      "100%|██████████| 1073/1073 [06:11<00:00,  2.89it/s]\n"
     ]
    },
    {
     "name": "stdout",
     "output_type": "stream",
     "text": [
      "epoch 2, loss 0.884, train_acc 0.596, test_acc 0.617, taking 375 seconds\n"
     ]
    },
    {
     "name": "stderr",
     "output_type": "stream",
     "text": [
      "100%|██████████| 1073/1073 [06:17<00:00,  2.84it/s]\n"
     ]
    },
    {
     "name": "stdout",
     "output_type": "stream",
     "text": [
      "epoch 3, loss 0.823, train_acc 0.633, test_acc 0.652, taking 381 seconds\n"
     ]
    },
    {
     "name": "stderr",
     "output_type": "stream",
     "text": [
      "100%|██████████| 1073/1073 [06:24<00:00,  2.79it/s]\n"
     ]
    },
    {
     "name": "stdout",
     "output_type": "stream",
     "text": [
      "epoch 4, loss 0.790, train_acc 0.654, test_acc 0.667, taking 388 seconds\n"
     ]
    },
    {
     "name": "stderr",
     "output_type": "stream",
     "text": [
      "100%|██████████| 1073/1073 [06:23<00:00,  2.80it/s]\n"
     ]
    },
    {
     "name": "stdout",
     "output_type": "stream",
     "text": [
      "epoch 5, loss 0.769, train_acc 0.666, test_acc 0.677, taking 387 seconds\n"
     ]
    },
    {
     "name": "stderr",
     "output_type": "stream",
     "text": [
      "100%|██████████| 1073/1073 [06:16<00:00,  2.85it/s]\n"
     ]
    },
    {
     "name": "stdout",
     "output_type": "stream",
     "text": [
      "epoch 6, loss 0.751, train_acc 0.676, test_acc 0.671, taking 380 seconds\n"
     ]
    },
    {
     "name": "stderr",
     "output_type": "stream",
     "text": [
      "100%|██████████| 1073/1073 [06:11<00:00,  2.89it/s]\n"
     ]
    },
    {
     "name": "stdout",
     "output_type": "stream",
     "text": [
      "epoch 7, loss 0.734, train_acc 0.686, test_acc 0.697, taking 375 seconds\n"
     ]
    },
    {
     "name": "stderr",
     "output_type": "stream",
     "text": [
      "100%|██████████| 1073/1073 [06:17<00:00,  2.85it/s]\n"
     ]
    },
    {
     "name": "stdout",
     "output_type": "stream",
     "text": [
      "epoch 8, loss 0.720, train_acc 0.694, test_acc 0.699, taking 381 seconds\n"
     ]
    },
    {
     "name": "stderr",
     "output_type": "stream",
     "text": [
      "100%|██████████| 1073/1073 [06:13<00:00,  2.87it/s]\n"
     ]
    },
    {
     "name": "stdout",
     "output_type": "stream",
     "text": [
      "epoch 9, loss 0.708, train_acc 0.701, test_acc 0.702, taking 377 seconds\n"
     ]
    },
    {
     "name": "stderr",
     "output_type": "stream",
     "text": [
      "100%|██████████| 1073/1073 [06:14<00:00,  2.87it/s]\n"
     ]
    },
    {
     "name": "stdout",
     "output_type": "stream",
     "text": [
      "epoch 10, loss 0.697, train_acc 0.707, test_acc 0.699, taking 378 seconds\n"
     ]
    },
    {
     "name": "stderr",
     "output_type": "stream",
     "text": [
      "100%|██████████| 1073/1073 [06:13<00:00,  2.87it/s]\n"
     ]
    },
    {
     "name": "stdout",
     "output_type": "stream",
     "text": [
      "epoch 11, loss 0.687, train_acc 0.711, test_acc 0.714, taking 377 seconds\n"
     ]
    },
    {
     "name": "stderr",
     "output_type": "stream",
     "text": [
      "100%|██████████| 1073/1073 [06:19<00:00,  2.83it/s]\n"
     ]
    },
    {
     "name": "stdout",
     "output_type": "stream",
     "text": [
      "epoch 12, loss 0.677, train_acc 0.717, test_acc 0.713, taking 383 seconds\n"
     ]
    },
    {
     "name": "stderr",
     "output_type": "stream",
     "text": [
      "100%|██████████| 1073/1073 [06:15<00:00,  2.86it/s]\n"
     ]
    },
    {
     "name": "stdout",
     "output_type": "stream",
     "text": [
      "epoch 13, loss 0.668, train_acc 0.722, test_acc 0.714, taking 379 seconds\n"
     ]
    },
    {
     "name": "stderr",
     "output_type": "stream",
     "text": [
      "100%|██████████| 1073/1073 [06:17<00:00,  2.84it/s]\n"
     ]
    },
    {
     "name": "stdout",
     "output_type": "stream",
     "text": [
      "epoch 14, loss 0.659, train_acc 0.726, test_acc 0.721, taking 381 seconds\n"
     ]
    },
    {
     "name": "stderr",
     "output_type": "stream",
     "text": [
      "100%|██████████| 1073/1073 [06:13<00:00,  2.87it/s]\n"
     ]
    },
    {
     "name": "stdout",
     "output_type": "stream",
     "text": [
      "epoch 15, loss 0.652, train_acc 0.731, test_acc 0.728, taking 377 seconds\n"
     ]
    },
    {
     "name": "stderr",
     "output_type": "stream",
     "text": [
      "100%|██████████| 1073/1073 [06:20<00:00,  2.82it/s]\n"
     ]
    },
    {
     "name": "stdout",
     "output_type": "stream",
     "text": [
      "epoch 16, loss 0.643, train_acc 0.735, test_acc 0.725, taking 384 seconds\n"
     ]
    },
    {
     "name": "stderr",
     "output_type": "stream",
     "text": [
      "100%|██████████| 1073/1073 [06:13<00:00,  2.87it/s]\n"
     ]
    },
    {
     "name": "stdout",
     "output_type": "stream",
     "text": [
      "epoch 17, loss 0.635, train_acc 0.739, test_acc 0.731, taking 377 seconds\n"
     ]
    },
    {
     "name": "stderr",
     "output_type": "stream",
     "text": [
      "100%|██████████| 1073/1073 [06:13<00:00,  2.88it/s]\n"
     ]
    },
    {
     "name": "stdout",
     "output_type": "stream",
     "text": [
      "epoch 18, loss 0.627, train_acc 0.743, test_acc 0.735, taking 377 seconds\n"
     ]
    },
    {
     "name": "stderr",
     "output_type": "stream",
     "text": [
      "100%|██████████| 1073/1073 [06:18<00:00,  2.84it/s]\n"
     ]
    },
    {
     "name": "stdout",
     "output_type": "stream",
     "text": [
      "epoch 19, loss 0.617, train_acc 0.749, test_acc 0.741, taking 382 seconds\n"
     ]
    },
    {
     "name": "stderr",
     "output_type": "stream",
     "text": [
      "100%|██████████| 1073/1073 [06:12<00:00,  2.88it/s]\n"
     ]
    },
    {
     "name": "stdout",
     "output_type": "stream",
     "text": [
      "epoch 20, loss 0.607, train_acc 0.753, test_acc 0.744, taking 376 seconds\n",
      "Training is finished.\n",
      "训练损失:0.607, 训练集准确率:0.753\n",
      "测试集准确率:0.744, 验证集准确率:0.742\n",
      "在设备cuda:0上训练20周期 耗时7595 秒\n"
     ]
    }
   ],
   "source": [
    "# 以‘微调’的模式进行训练\n",
    "# activation function: nn.ReLU()\n",
    "# 14,488,731 total parameters.\n",
    "# 20 epochs\n",
    "loss = nn.CrossEntropyLoss(reduction='none')\n",
    "forward_params = [\n",
    "    param for name, param in net.named_parameters()\n",
    "    if name != \"token_embedding.weight\"]\n",
    "trainer = torch.optim.Adam(\n",
    "    [{'params': net.token_embedding.parameters()},\n",
    "    {'params': forward_params,\n",
    "    'lr': lr * 10}], lr=lr)\n",
    "net.to(device)\n",
    "\n",
    "num_batches = len(train_iter)\n",
    "losses, train_accuracy, test_accuracy, validation_accuracy = [], [], [], []\n",
    "total_start = time.time()\n",
    "for epoch in range(num_epochs):\n",
    "    train_loss, train_acc = 0, 0\n",
    "    start_time = time.perf_counter()\n",
    "    net.train()\n",
    "    for index, data in tqdm(enumerate(train_iter), total=num_batches, leave=True):\n",
    "        (tokens, segments, valid_len), y = data\n",
    "        tokens, segments, valid_len = [v.to(device) for v in (tokens, segments, valid_len)]\n",
    "        y = y.to(device)\n",
    "        l = loss(net(tokens, segments, valid_len), y)\n",
    "        trainer.zero_grad()\n",
    "        l.sum().backward()\n",
    "        trainer.step()\n",
    "        train_loss += l.sum().cpu().detach().numpy() / batch_size\n",
    "        train_acc += d2l.accuracy(net(tokens, segments, valid_len), y) / batch_size\n",
    "    epochloss, epochtrain = train_loss / num_batches, train_acc / num_batches\n",
    "    epochtest, epochvalidation = evaluate_accuracy_gpu(net, test_iter, device), evaluate_accuracy_gpu(net, validation_iter, device)\n",
    "    end_time = time.perf_counter()\n",
    "    print(f'epoch {epoch + 1}, loss {epochloss:.3f}, train_acc {epochtrain:.3f}, '\n",
    "         f'test_acc {epochtest:.3f}, taking {round(end_time - start_time)} seconds')\n",
    "    losses.append(epochloss)\n",
    "    train_accuracy.append(epochtrain)\n",
    "    test_accuracy.append(epochtest)\n",
    "    validation_accuracy.append(epochvalidation)\n",
    "total_timecost = round(time.time() - total_start)\n",
    "print('Training is finished.')\n",
    "print(f'训练损失:{losses[-1]:.3f}, 训练集准确率:{train_accuracy[-1]:.3f}\\n'\n",
    "      f'测试集准确率:{test_accuracy[-1]:.3f}, 验证集准确率:{validation_accuracy[-1]:.3f}\\n'\n",
    "      f'在设备{device}上训练{num_epochs}周期 耗时{total_timecost} 秒')"
   ]
  },
  {
   "cell_type": "code",
   "execution_count": 28,
   "id": "0e84e759-5532-4eff-98af-c0f27db4c6c9",
   "metadata": {},
   "outputs": [
    {
     "data": {
      "image/png": "[encoded data removed]",
      "text/plain": [
       "<Figure size 640x480 with 1 Axes>"
      ]
     },
     "metadata": {},
     "output_type": "display_data"
    }
   ],
   "source": [
    "fig = plt.figure()\n",
    "plt.title('train loss and accuracy')\n",
    "plt.axis([0, num_epochs, 0, 1])\n",
    "epochs = np.arange(1, num_epochs + 1)\n",
    "# losses, train_accuracy, test_accuracy, validation_accuracy\n",
    "plt.plot(epochs, losses, 'r.-', label='loss')\n",
    "plt.plot(epochs, train_accuracy, 'g-', label='train_acc')\n",
    "plt.plot(epochs, test_accuracy, 'b-.', label='test_acc')\n",
    "plt.plot(epochs, validation_accuracy, 'y-.', label='valid_acc')\n",
    "plt.grid()\n",
    "plt.legend(loc='best', frameon=False)\n",
    "plt.show()"
   ]
  },
  {
   "cell_type": "markdown",
   "id": "ebd7d483-7e98-4662-8731-8358ed24f47b",
   "metadata": {},
   "source": [
    "# 正式训练(2层, 30epochs)"
   ]
  },
  {
   "cell_type": "code",
   "execution_count": 16,
   "id": "add973ae-4629-4432-9e7b-4c25d8d6bcff",
   "metadata": {},
   "outputs": [
    {
     "name": "stderr",
     "output_type": "stream",
     "text": [
      "100%|██████████| 1073/1073 [06:35<00:00,  2.71it/s]\n"
     ]
    },
    {
     "name": "stdout",
     "output_type": "stream",
     "text": [
      "epoch 1, loss 1.046, train_acc 0.458, test_acc 0.552, taking 400 seconds\n"
     ]
    },
    {
     "name": "stderr",
     "output_type": "stream",
     "text": [
      "100%|██████████| 1073/1073 [06:28<00:00,  2.76it/s]\n"
     ]
    },
    {
     "name": "stdout",
     "output_type": "stream",
     "text": [
      "epoch 2, loss 0.892, train_acc 0.591, test_acc 0.626, taking 392 seconds\n"
     ]
    },
    {
     "name": "stderr",
     "output_type": "stream",
     "text": [
      "100%|██████████| 1073/1073 [06:27<00:00,  2.77it/s]\n"
     ]
    },
    {
     "name": "stdout",
     "output_type": "stream",
     "text": [
      "epoch 3, loss 0.829, train_acc 0.629, test_acc 0.657, taking 391 seconds\n"
     ]
    },
    {
     "name": "stderr",
     "output_type": "stream",
     "text": [
      "100%|██████████| 1073/1073 [06:28<00:00,  2.76it/s]\n"
     ]
    },
    {
     "name": "stdout",
     "output_type": "stream",
     "text": [
      "epoch 4, loss 0.795, train_acc 0.650, test_acc 0.669, taking 392 seconds\n"
     ]
    },
    {
     "name": "stderr",
     "output_type": "stream",
     "text": [
      "100%|██████████| 1073/1073 [06:31<00:00,  2.74it/s]\n"
     ]
    },
    {
     "name": "stdout",
     "output_type": "stream",
     "text": [
      "epoch 5, loss 0.773, train_acc 0.664, test_acc 0.680, taking 395 seconds\n"
     ]
    },
    {
     "name": "stderr",
     "output_type": "stream",
     "text": [
      "100%|██████████| 1073/1073 [06:29<00:00,  2.75it/s]\n"
     ]
    },
    {
     "name": "stdout",
     "output_type": "stream",
     "text": [
      "epoch 6, loss 0.753, train_acc 0.675, test_acc 0.687, taking 394 seconds\n"
     ]
    },
    {
     "name": "stderr",
     "output_type": "stream",
     "text": [
      "100%|██████████| 1073/1073 [06:28<00:00,  2.76it/s]\n"
     ]
    },
    {
     "name": "stdout",
     "output_type": "stream",
     "text": [
      "epoch 7, loss 0.737, train_acc 0.684, test_acc 0.691, taking 392 seconds\n"
     ]
    },
    {
     "name": "stderr",
     "output_type": "stream",
     "text": [
      "100%|██████████| 1073/1073 [06:31<00:00,  2.74it/s]\n"
     ]
    },
    {
     "name": "stdout",
     "output_type": "stream",
     "text": [
      "epoch 8, loss 0.723, train_acc 0.693, test_acc 0.699, taking 395 seconds\n"
     ]
    },
    {
     "name": "stderr",
     "output_type": "stream",
     "text": [
      "100%|██████████| 1073/1073 [06:30<00:00,  2.75it/s]\n"
     ]
    },
    {
     "name": "stdout",
     "output_type": "stream",
     "text": [
      "epoch 9, loss 0.710, train_acc 0.700, test_acc 0.703, taking 394 seconds\n"
     ]
    },
    {
     "name": "stderr",
     "output_type": "stream",
     "text": [
      "100%|██████████| 1073/1073 [06:28<00:00,  2.76it/s]\n"
     ]
    },
    {
     "name": "stdout",
     "output_type": "stream",
     "text": [
      "epoch 10, loss 0.697, train_acc 0.706, test_acc 0.710, taking 392 seconds\n"
     ]
    },
    {
     "name": "stderr",
     "output_type": "stream",
     "text": [
      "100%|██████████| 1073/1073 [06:29<00:00,  2.76it/s]\n"
     ]
    },
    {
     "name": "stdout",
     "output_type": "stream",
     "text": [
      "epoch 11, loss 0.687, train_acc 0.711, test_acc 0.712, taking 393 seconds\n"
     ]
    },
    {
     "name": "stderr",
     "output_type": "stream",
     "text": [
      "100%|██████████| 1073/1073 [06:25<00:00,  2.78it/s]\n"
     ]
    },
    {
     "name": "stdout",
     "output_type": "stream",
     "text": [
      "epoch 12, loss 0.677, train_acc 0.718, test_acc 0.719, taking 389 seconds\n"
     ]
    },
    {
     "name": "stderr",
     "output_type": "stream",
     "text": [
      "100%|██████████| 1073/1073 [06:30<00:00,  2.75it/s]\n"
     ]
    },
    {
     "name": "stdout",
     "output_type": "stream",
     "text": [
      "epoch 13, loss 0.667, train_acc 0.722, test_acc 0.717, taking 394 seconds\n"
     ]
    },
    {
     "name": "stderr",
     "output_type": "stream",
     "text": [
      "100%|██████████| 1073/1073 [06:29<00:00,  2.76it/s]\n"
     ]
    },
    {
     "name": "stdout",
     "output_type": "stream",
     "text": [
      "epoch 14, loss 0.657, train_acc 0.727, test_acc 0.723, taking 393 seconds\n"
     ]
    },
    {
     "name": "stderr",
     "output_type": "stream",
     "text": [
      "100%|██████████| 1073/1073 [06:31<00:00,  2.74it/s]\n"
     ]
    },
    {
     "name": "stdout",
     "output_type": "stream",
     "text": [
      "epoch 15, loss 0.649, train_acc 0.731, test_acc 0.722, taking 395 seconds\n"
     ]
    },
    {
     "name": "stderr",
     "output_type": "stream",
     "text": [
      "100%|██████████| 1073/1073 [06:28<00:00,  2.76it/s]\n"
     ]
    },
    {
     "name": "stdout",
     "output_type": "stream",
     "text": [
      "epoch 16, loss 0.641, train_acc 0.736, test_acc 0.732, taking 393 seconds\n"
     ]
    },
    {
     "name": "stderr",
     "output_type": "stream",
     "text": [
      "100%|██████████| 1073/1073 [06:27<00:00,  2.77it/s]\n"
     ]
    },
    {
     "name": "stdout",
     "output_type": "stream",
     "text": [
      "epoch 17, loss 0.632, train_acc 0.740, test_acc 0.732, taking 391 seconds\n"
     ]
    },
    {
     "name": "stderr",
     "output_type": "stream",
     "text": [
      "100%|██████████| 1073/1073 [06:28<00:00,  2.76it/s]\n"
     ]
    },
    {
     "name": "stdout",
     "output_type": "stream",
     "text": [
      "epoch 18, loss 0.624, train_acc 0.745, test_acc 0.736, taking 393 seconds\n"
     ]
    },
    {
     "name": "stderr",
     "output_type": "stream",
     "text": [
      "100%|██████████| 1073/1073 [06:29<00:00,  2.76it/s]\n"
     ]
    },
    {
     "name": "stdout",
     "output_type": "stream",
     "text": [
      "epoch 19, loss 0.615, train_acc 0.749, test_acc 0.730, taking 393 seconds\n"
     ]
    },
    {
     "name": "stderr",
     "output_type": "stream",
     "text": [
      "100%|██████████| 1073/1073 [06:29<00:00,  2.76it/s]\n"
     ]
    },
    {
     "name": "stdout",
     "output_type": "stream",
     "text": [
      "epoch 20, loss 0.606, train_acc 0.753, test_acc 0.740, taking 393 seconds\n"
     ]
    },
    {
     "name": "stderr",
     "output_type": "stream",
     "text": [
      "100%|██████████| 1073/1073 [06:24<00:00,  2.79it/s]\n"
     ]
    },
    {
     "name": "stdout",
     "output_type": "stream",
     "text": [
      "epoch 21, loss 0.598, train_acc 0.757, test_acc 0.730, taking 388 seconds\n"
     ]
    },
    {
     "name": "stderr",
     "output_type": "stream",
     "text": [
      "100%|██████████| 1073/1073 [06:24<00:00,  2.79it/s]\n"
     ]
    },
    {
     "name": "stdout",
     "output_type": "stream",
     "text": [
      "epoch 22, loss 0.589, train_acc 0.762, test_acc 0.737, taking 388 seconds\n"
     ]
    },
    {
     "name": "stderr",
     "output_type": "stream",
     "text": [
      "100%|██████████| 1073/1073 [06:24<00:00,  2.79it/s]\n"
     ]
    },
    {
     "name": "stdout",
     "output_type": "stream",
     "text": [
      "epoch 23, loss 0.582, train_acc 0.766, test_acc 0.749, taking 388 seconds\n"
     ]
    },
    {
     "name": "stderr",
     "output_type": "stream",
     "text": [
      "100%|██████████| 1073/1073 [06:25<00:00,  2.79it/s]\n"
     ]
    },
    {
     "name": "stdout",
     "output_type": "stream",
     "text": [
      "epoch 24, loss 0.574, train_acc 0.769, test_acc 0.746, taking 389 seconds\n"
     ]
    },
    {
     "name": "stderr",
     "output_type": "stream",
     "text": [
      "100%|██████████| 1073/1073 [06:25<00:00,  2.78it/s]\n"
     ]
    },
    {
     "name": "stdout",
     "output_type": "stream",
     "text": [
      "epoch 25, loss 0.566, train_acc 0.773, test_acc 0.748, taking 389 seconds\n"
     ]
    },
    {
     "name": "stderr",
     "output_type": "stream",
     "text": [
      "100%|██████████| 1073/1073 [06:24<00:00,  2.79it/s]\n"
     ]
    },
    {
     "name": "stdout",
     "output_type": "stream",
     "text": [
      "epoch 26, loss 0.559, train_acc 0.777, test_acc 0.755, taking 388 seconds\n"
     ]
    },
    {
     "name": "stderr",
     "output_type": "stream",
     "text": [
      "100%|██████████| 1073/1073 [06:24<00:00,  2.79it/s]\n"
     ]
    },
    {
     "name": "stdout",
     "output_type": "stream",
     "text": [
      "epoch 27, loss 0.552, train_acc 0.781, test_acc 0.753, taking 388 seconds\n"
     ]
    },
    {
     "name": "stderr",
     "output_type": "stream",
     "text": [
      "100%|██████████| 1073/1073 [06:23<00:00,  2.80it/s]\n"
     ]
    },
    {
     "name": "stdout",
     "output_type": "stream",
     "text": [
      "epoch 28, loss 0.544, train_acc 0.784, test_acc 0.760, taking 387 seconds\n"
     ]
    },
    {
     "name": "stderr",
     "output_type": "stream",
     "text": [
      "100%|██████████| 1073/1073 [06:27<00:00,  2.77it/s]\n"
     ]
    },
    {
     "name": "stdout",
     "output_type": "stream",
     "text": [
      "epoch 29, loss 0.537, train_acc 0.788, test_acc 0.756, taking 391 seconds\n"
     ]
    },
    {
     "name": "stderr",
     "output_type": "stream",
     "text": [
      "100%|██████████| 1073/1073 [06:28<00:00,  2.76it/s]\n"
     ]
    },
    {
     "name": "stdout",
     "output_type": "stream",
     "text": [
      "epoch 30, loss 0.530, train_acc 0.790, test_acc 0.763, taking 393 seconds\n",
      "Training is finished.\n",
      "训练损失:0.530, 训练集准确率:0.790\n",
      "测试集准确率:0.763, 验证集准确率:0.756\n",
      "在设备cuda:0上训练30周期 耗时11755 秒\n"
     ]
    }
   ],
   "source": [
    "# 以‘微调’的模式进行训练\n",
    "# activation function: nn.ReLU()\n",
    "# 14,488,731 total parameters.\n",
    "# 30 epochs\n",
    "loss = nn.CrossEntropyLoss(reduction='none')\n",
    "forward_params = [\n",
    "    param for name, param in net.named_parameters()\n",
    "    if name != \"token_embedding.weight\"]\n",
    "trainer = torch.optim.Adam(\n",
    "    [{'params': net.token_embedding.parameters()},\n",
    "    {'params': forward_params,\n",
    "    'lr': lr * 10}], lr=lr)\n",
    "net.to(device)\n",
    "\n",
    "num_batches = len(train_iter)\n",
    "losses, train_accuracy, test_accuracy, validation_accuracy = [], [], [], []\n",
    "total_start = time.time()\n",
    "for epoch in range(num_epochs):\n",
    "    train_loss, train_acc = 0, 0\n",
    "    start_time = time.perf_counter()\n",
    "    net.train()\n",
    "    for index, data in tqdm(enumerate(train_iter), total=num_batches, leave=True):\n",
    "        (tokens, segments, valid_len), y = data\n",
    "        tokens, segments, valid_len = [v.to(device) for v in (tokens, segments, valid_len)]\n",
    "        y = y.to(device)\n",
    "        l = loss(net(tokens, segments, valid_len), y)\n",
    "        trainer.zero_grad()\n",
    "        l.sum().backward()\n",
    "        trainer.step()\n",
    "        train_loss += l.sum().cpu().detach().numpy() / batch_size\n",
    "        train_acc += d2l.accuracy(net(tokens, segments, valid_len), y) / batch_size\n",
    "    epochloss, epochtrain = train_loss / num_batches, train_acc / num_batches\n",
    "    epochtest, epochvalidation = evaluate_accuracy_gpu(net, test_iter, device), evaluate_accuracy_gpu(net, validation_iter, device)\n",
    "    end_time = time.perf_counter()\n",
    "    print(f'epoch {epoch + 1}, loss {epochloss:.3f}, train_acc {epochtrain:.3f}, '\n",
    "         f'test_acc {epochtest:.3f}, taking {round(end_time - start_time)} seconds')\n",
    "    losses.append(epochloss)\n",
    "    train_accuracy.append(epochtrain)\n",
    "    test_accuracy.append(epochtest)\n",
    "    validation_accuracy.append(epochvalidation)\n",
    "total_timecost = round(time.time() - total_start)\n",
    "print('Training is finished.')\n",
    "print(f'训练损失:{losses[-1]:.3f}, 训练集准确率:{train_accuracy[-1]:.3f}\\n'\n",
    "      f'测试集准确率:{test_accuracy[-1]:.3f}, 验证集准确率:{validation_accuracy[-1]:.3f}\\n'\n",
    "      f'在设备{device}上训练{num_epochs}周期 耗时{total_timecost} 秒')"
   ]
  },
  {
   "cell_type": "code",
   "execution_count": 17,
   "id": "969b1942-5844-448d-bd46-cf37bd776cd9",
   "metadata": {},
   "outputs": [
    {
     "data": {
      "image/png": "[encoded data removed]",
      "text/plain": [
       "<Figure size 640x480 with 1 Axes>"
      ]
     },
     "metadata": {},
     "output_type": "display_data"
    }
   ],
   "source": [
    "fig = plt.figure()\n",
    "plt.title('train loss and accuracy')\n",
    "plt.axis([0, num_epochs, 0, 1])\n",
    "epochs = np.arange(1, num_epochs + 1)\n",
    "# losses, train_accuracy, test_accuracy, validation_accuracy\n",
    "plt.plot(epochs, losses, 'r.-', label='loss')\n",
    "plt.plot(epochs, train_accuracy, 'g-', label='train_acc')\n",
    "plt.plot(epochs, test_accuracy, 'b-.', label='test_acc')\n",
    "plt.plot(epochs, validation_accuracy, 'y-.', label='valid_acc')\n",
    "plt.grid()\n",
    "plt.legend(loc='best', frameon=False)\n",
    "plt.show()"
   ]
  },
  {
   "cell_type": "markdown",
   "id": "65a12404-09cb-40eb-a7d0-218b85e8cdc4",
   "metadata": {},
   "source": [
    "# 正式训练(3层编码器块)"
   ]
  },
  {
   "cell_type": "code",
   "execution_count": 20,
   "id": "c1ed0c6c-3a80-4a2c-b971-a521fac082ce",
   "metadata": {},
   "outputs": [
    {
     "name": "stderr",
     "output_type": "stream",
     "text": [
      "100%|██████████| 1073/1073 [09:13<00:00,  1.94it/s]\n"
     ]
    },
    {
     "name": "stdout",
     "output_type": "stream",
     "text": [
      "epoch 1, loss 1.050, train_acc 0.448, test_acc 0.540, valid_acc 0.531, taking 560 seconds\n"
     ]
    },
    {
     "name": "stderr",
     "output_type": "stream",
     "text": [
      "100%|██████████| 1073/1073 [09:14<00:00,  1.94it/s]\n"
     ]
    },
    {
     "name": "stdout",
     "output_type": "stream",
     "text": [
      "epoch 2, loss 0.906, train_acc 0.582, test_acc 0.624, valid_acc 0.614, taking 560 seconds\n"
     ]
    },
    {
     "name": "stderr",
     "output_type": "stream",
     "text": [
      "100%|██████████| 1073/1073 [09:17<00:00,  1.92it/s]\n"
     ]
    },
    {
     "name": "stdout",
     "output_type": "stream",
     "text": [
      "epoch 3, loss 0.831, train_acc 0.630, test_acc 0.648, valid_acc 0.645, taking 563 seconds\n"
     ]
    },
    {
     "name": "stderr",
     "output_type": "stream",
     "text": [
      "100%|██████████| 1073/1073 [09:14<00:00,  1.94it/s]\n"
     ]
    },
    {
     "name": "stdout",
     "output_type": "stream",
     "text": [
      "epoch 4, loss 0.793, train_acc 0.653, test_acc 0.669, valid_acc 0.664, taking 559 seconds\n"
     ]
    },
    {
     "name": "stderr",
     "output_type": "stream",
     "text": [
      "100%|██████████| 1073/1073 [09:15<00:00,  1.93it/s]\n"
     ]
    },
    {
     "name": "stdout",
     "output_type": "stream",
     "text": [
      "epoch 5, loss 0.767, train_acc 0.669, test_acc 0.680, valid_acc 0.678, taking 561 seconds\n"
     ]
    },
    {
     "name": "stderr",
     "output_type": "stream",
     "text": [
      "100%|██████████| 1073/1073 [09:10<00:00,  1.95it/s]\n"
     ]
    },
    {
     "name": "stdout",
     "output_type": "stream",
     "text": [
      "epoch 6, loss 0.742, train_acc 0.682, test_acc 0.698, valid_acc 0.695, taking 556 seconds\n"
     ]
    },
    {
     "name": "stderr",
     "output_type": "stream",
     "text": [
      "100%|██████████| 1073/1073 [09:09<00:00,  1.95it/s]\n"
     ]
    },
    {
     "name": "stdout",
     "output_type": "stream",
     "text": [
      "epoch 7, loss 0.722, train_acc 0.694, test_acc 0.703, valid_acc 0.699, taking 554 seconds\n"
     ]
    },
    {
     "name": "stderr",
     "output_type": "stream",
     "text": [
      "100%|██████████| 1073/1073 [09:10<00:00,  1.95it/s]\n"
     ]
    },
    {
     "name": "stdout",
     "output_type": "stream",
     "text": [
      "epoch 8, loss 0.701, train_acc 0.706, test_acc 0.716, valid_acc 0.712, taking 556 seconds\n"
     ]
    },
    {
     "name": "stderr",
     "output_type": "stream",
     "text": [
      "100%|██████████| 1073/1073 [09:10<00:00,  1.95it/s]\n"
     ]
    },
    {
     "name": "stdout",
     "output_type": "stream",
     "text": [
      "epoch 9, loss 0.679, train_acc 0.718, test_acc 0.723, valid_acc 0.723, taking 556 seconds\n"
     ]
    },
    {
     "name": "stderr",
     "output_type": "stream",
     "text": [
      "100%|██████████| 1073/1073 [09:10<00:00,  1.95it/s]\n"
     ]
    },
    {
     "name": "stdout",
     "output_type": "stream",
     "text": [
      "epoch 10, loss 0.658, train_acc 0.730, test_acc 0.736, valid_acc 0.736, taking 556 seconds\n"
     ]
    },
    {
     "name": "stderr",
     "output_type": "stream",
     "text": [
      "100%|██████████| 1073/1073 [09:19<00:00,  1.92it/s]\n"
     ]
    },
    {
     "name": "stdout",
     "output_type": "stream",
     "text": [
      "epoch 11, loss 0.628, train_acc 0.745, test_acc 0.759, valid_acc 0.755, taking 564 seconds\n"
     ]
    },
    {
     "name": "stderr",
     "output_type": "stream",
     "text": [
      "100%|██████████| 1073/1073 [09:16<00:00,  1.93it/s]\n"
     ]
    },
    {
     "name": "stdout",
     "output_type": "stream",
     "text": [
      "epoch 12, loss 0.599, train_acc 0.759, test_acc 0.764, valid_acc 0.760, taking 562 seconds\n"
     ]
    },
    {
     "name": "stderr",
     "output_type": "stream",
     "text": [
      "100%|██████████| 1073/1073 [09:20<00:00,  1.92it/s]\n"
     ]
    },
    {
     "name": "stdout",
     "output_type": "stream",
     "text": [
      "epoch 13, loss 0.577, train_acc 0.770, test_acc 0.775, valid_acc 0.772, taking 565 seconds\n"
     ]
    },
    {
     "name": "stderr",
     "output_type": "stream",
     "text": [
      "100%|██████████| 1073/1073 [09:15<00:00,  1.93it/s]\n"
     ]
    },
    {
     "name": "stdout",
     "output_type": "stream",
     "text": [
      "epoch 14, loss 0.560, train_acc 0.778, test_acc 0.781, valid_acc 0.779, taking 561 seconds\n"
     ]
    },
    {
     "name": "stderr",
     "output_type": "stream",
     "text": [
      "100%|██████████| 1073/1073 [09:18<00:00,  1.92it/s]\n"
     ]
    },
    {
     "name": "stdout",
     "output_type": "stream",
     "text": [
      "epoch 15, loss 0.544, train_acc 0.786, test_acc 0.789, valid_acc 0.790, taking 564 seconds\n"
     ]
    },
    {
     "name": "stderr",
     "output_type": "stream",
     "text": [
      "100%|██████████| 1073/1073 [09:19<00:00,  1.92it/s]\n"
     ]
    },
    {
     "name": "stdout",
     "output_type": "stream",
     "text": [
      "epoch 16, loss 0.530, train_acc 0.791, test_acc 0.791, valid_acc 0.791, taking 564 seconds\n"
     ]
    },
    {
     "name": "stderr",
     "output_type": "stream",
     "text": [
      "100%|██████████| 1073/1073 [09:26<00:00,  1.89it/s]\n"
     ]
    },
    {
     "name": "stdout",
     "output_type": "stream",
     "text": [
      "epoch 17, loss 0.518, train_acc 0.797, test_acc 0.798, valid_acc 0.792, taking 572 seconds\n"
     ]
    },
    {
     "name": "stderr",
     "output_type": "stream",
     "text": [
      "100%|██████████| 1073/1073 [09:22<00:00,  1.91it/s]\n"
     ]
    },
    {
     "name": "stdout",
     "output_type": "stream",
     "text": [
      "epoch 18, loss 0.507, train_acc 0.802, test_acc 0.793, valid_acc 0.793, taking 568 seconds\n"
     ]
    },
    {
     "name": "stderr",
     "output_type": "stream",
     "text": [
      "100%|██████████| 1073/1073 [09:28<00:00,  1.89it/s]\n"
     ]
    },
    {
     "name": "stdout",
     "output_type": "stream",
     "text": [
      "epoch 19, loss 0.496, train_acc 0.807, test_acc 0.798, valid_acc 0.798, taking 575 seconds\n"
     ]
    },
    {
     "name": "stderr",
     "output_type": "stream",
     "text": [
      "100%|██████████| 1073/1073 [09:34<00:00,  1.87it/s]\n"
     ]
    },
    {
     "name": "stdout",
     "output_type": "stream",
     "text": [
      "epoch 20, loss 0.487, train_acc 0.811, test_acc 0.802, valid_acc 0.801, taking 580 seconds\n"
     ]
    },
    {
     "name": "stderr",
     "output_type": "stream",
     "text": [
      "100%|██████████| 1073/1073 [09:32<00:00,  1.88it/s]\n"
     ]
    },
    {
     "name": "stdout",
     "output_type": "stream",
     "text": [
      "epoch 21, loss 0.477, train_acc 0.816, test_acc 0.804, valid_acc 0.802, taking 578 seconds\n"
     ]
    },
    {
     "name": "stderr",
     "output_type": "stream",
     "text": [
      "100%|██████████| 1073/1073 [09:32<00:00,  1.87it/s]\n"
     ]
    },
    {
     "name": "stdout",
     "output_type": "stream",
     "text": [
      "epoch 22, loss 0.468, train_acc 0.820, test_acc 0.811, valid_acc 0.808, taking 579 seconds\n"
     ]
    },
    {
     "name": "stderr",
     "output_type": "stream",
     "text": [
      "100%|██████████| 1073/1073 [09:30<00:00,  1.88it/s]\n"
     ]
    },
    {
     "name": "stdout",
     "output_type": "stream",
     "text": [
      "epoch 23, loss 0.460, train_acc 0.824, test_acc 0.809, valid_acc 0.811, taking 576 seconds\n"
     ]
    },
    {
     "name": "stderr",
     "output_type": "stream",
     "text": [
      "100%|██████████| 1073/1073 [09:24<00:00,  1.90it/s]\n"
     ]
    },
    {
     "name": "stdout",
     "output_type": "stream",
     "text": [
      "epoch 24, loss 0.453, train_acc 0.827, test_acc 0.814, valid_acc 0.808, taking 570 seconds\n"
     ]
    },
    {
     "name": "stderr",
     "output_type": "stream",
     "text": [
      "100%|██████████| 1073/1073 [09:25<00:00,  1.90it/s]\n"
     ]
    },
    {
     "name": "stdout",
     "output_type": "stream",
     "text": [
      "epoch 25, loss 0.445, train_acc 0.829, test_acc 0.813, valid_acc 0.809, taking 571 seconds\n"
     ]
    },
    {
     "name": "stderr",
     "output_type": "stream",
     "text": [
      "100%|██████████| 1073/1073 [09:25<00:00,  1.90it/s]\n"
     ]
    },
    {
     "name": "stdout",
     "output_type": "stream",
     "text": [
      "epoch 26, loss 0.439, train_acc 0.833, test_acc 0.811, valid_acc 0.815, taking 571 seconds\n"
     ]
    },
    {
     "name": "stderr",
     "output_type": "stream",
     "text": [
      "100%|██████████| 1073/1073 [09:35<00:00,  1.87it/s]\n"
     ]
    },
    {
     "name": "stdout",
     "output_type": "stream",
     "text": [
      "epoch 27, loss 0.431, train_acc 0.836, test_acc 0.812, valid_acc 0.811, taking 581 seconds\n"
     ]
    },
    {
     "name": "stderr",
     "output_type": "stream",
     "text": [
      "100%|██████████| 1073/1073 [09:32<00:00,  1.87it/s]\n"
     ]
    },
    {
     "name": "stdout",
     "output_type": "stream",
     "text": [
      "epoch 28, loss 0.425, train_acc 0.839, test_acc 0.814, valid_acc 0.817, taking 579 seconds\n"
     ]
    },
    {
     "name": "stderr",
     "output_type": "stream",
     "text": [
      "100%|██████████| 1073/1073 [09:41<00:00,  1.85it/s]\n"
     ]
    },
    {
     "name": "stdout",
     "output_type": "stream",
     "text": [
      "epoch 29, loss 0.419, train_acc 0.842, test_acc 0.817, valid_acc 0.819, taking 587 seconds\n"
     ]
    },
    {
     "name": "stderr",
     "output_type": "stream",
     "text": [
      "100%|██████████| 1073/1073 [09:41<00:00,  1.85it/s]\n"
     ]
    },
    {
     "name": "stdout",
     "output_type": "stream",
     "text": [
      "epoch 30, loss 0.413, train_acc 0.845, test_acc 0.814, valid_acc 0.812, taking 587 seconds\n",
      "Training is finished.\n",
      "训练损失:0.413, 训练集准确率:0.845\n",
      "测试集准确率:0.814, 验证集准确率:0.812\n",
      "在设备cuda:0上训练30周期 耗时17032 秒\n"
     ]
    }
   ],
   "source": [
    "# 以‘微调’的模式进行训练\n",
    "# activation function: nn.ReLU()\n",
    "# 16,955,111 total parameters.\n",
    "num_epochs = 30\n",
    "loss = nn.CrossEntropyLoss(reduction='none')\n",
    "forward_params = [\n",
    "    param for name, param in net.named_parameters()\n",
    "    if name != \"token_embedding.weight\"]\n",
    "trainer = torch.optim.Adam(\n",
    "    [{'params': net.token_embedding.parameters()},\n",
    "    {'params': forward_params,\n",
    "    'lr': lr * 10}], lr=lr)\n",
    "net.to(device)\n",
    "\n",
    "num_batches = len(train_iter)\n",
    "losses, train_accuracy, test_accuracy, validation_accuracy = [], [], [], []\n",
    "total_start = time.time()\n",
    "for epoch in range(num_epochs):\n",
    "    train_loss, train_acc = 0, 0\n",
    "    start_time = time.perf_counter()\n",
    "    net.train()\n",
    "    for index, data in tqdm(enumerate(train_iter), total=num_batches, leave=True):\n",
    "        (tokens, segments, valid_len), y = data\n",
    "        tokens, segments, valid_len = [v.to(device) for v in (tokens, segments, valid_len)]\n",
    "        y = y.to(device)\n",
    "        l = loss(net(tokens, segments, valid_len), y)\n",
    "        trainer.zero_grad()\n",
    "        l.sum().backward()\n",
    "        trainer.step()\n",
    "        train_loss += l.sum().cpu().detach().numpy() / batch_size\n",
    "        train_acc += d2l.accuracy(net(tokens, segments, valid_len), y) / batch_size\n",
    "    epochloss, epochtrain = train_loss / num_batches, train_acc / num_batches\n",
    "    epochtest, epochvalidation = evaluate_accuracy_gpu(net, test_iter, device), evaluate_accuracy_gpu(net, validation_iter, device)\n",
    "    end_time = time.perf_counter()\n",
    "    print(f'epoch {epoch + 1}, loss {epochloss:.3f}, train_acc {epochtrain:.3f}, '\n",
    "         f'test_acc {epochtest:.3f}, valid_acc {epochvalidation:.3f}, '\n",
    "          f'taking {round(end_time - start_time)} seconds')\n",
    "    losses.append(epochloss)\n",
    "    train_accuracy.append(epochtrain)\n",
    "    test_accuracy.append(epochtest)\n",
    "    validation_accuracy.append(epochvalidation)\n",
    "total_timecost = round(time.time() - total_start)\n",
    "print('Training is finished.')\n",
    "print(f'训练损失:{losses[-1]:.3f}, 训练集准确率:{train_accuracy[-1]:.3f}\\n'\n",
    "      f'测试集准确率:{test_accuracy[-1]:.3f}, 验证集准确率:{validation_accuracy[-1]:.3f}\\n'\n",
    "      f'在设备{device}上训练{num_epochs}周期 耗时{total_timecost} 秒')"
   ]
  },
  {
   "cell_type": "code",
   "execution_count": 22,
   "id": "889aa939-eb29-4050-ae83-13d26bd5b2df",
   "metadata": {},
   "outputs": [
    {
     "data": {
      "image/png": "[encoded data removed]",
      "text/plain": [
       "<Figure size 640x480 with 1 Axes>"
      ]
     },
     "metadata": {},
     "output_type": "display_data"
    }
   ],
   "source": [
    "fig = plt.figure()\n",
    "plt.title('train loss and accuracy')\n",
    "plt.axis([0, num_epochs, 0, 1])\n",
    "epochs = np.arange(1, num_epochs + 1)\n",
    "# losses, train_accuracy, test_accuracy, validation_accuracy\n",
    "plt.plot(epochs, losses, 'r.-', label='loss')\n",
    "plt.plot(epochs, train_accuracy, 'g-', label='train_acc')\n",
    "plt.plot(epochs, test_accuracy, 'b-.', label='test_acc')\n",
    "# plt.plot(epochs, validation_accuracy, 'y-.', label='valid_acc')\n",
    "plt.grid()\n",
    "plt.legend(loc='best', frameon=False)\n",
    "plt.show()"
   ]
  },
  {
   "cell_type": "markdown",
   "id": "902d72a2-a75f-481b-8eba-4772fafe538a",
   "metadata": {},
   "source": [
    "# 对比训练(2层编码器块)"
   ]
  },
  {
   "cell_type": "code",
   "execution_count": 13,
   "id": "b70d49a7-8460-4518-b9cb-116027e0bb43",
   "metadata": {},
   "outputs": [],
   "source": [
    "# 常规编码器\n",
    "class BaseEncoder(nn.Module):\n",
    "    \"\"\"采用BERT编码器结构\"\"\"\n",
    "    def __init__(self, vocab_size, num_hiddens, norm_shape, ffn_num_input,\n",
    "                 ffn_num_hiddens, num_heads, num_layers, dropout,\n",
    "                 max_len=128, key_size=512, query_size=512, value_size=512,\n",
    "                 **kwargs):\n",
    "        super(BaseEncoder, self).__init__(**kwargs)\n",
    "        self.token_embedding = nn.Embedding(vocab_size, num_hiddens)\n",
    "        self.segment_embedding = nn.Embedding(2, num_hiddens)\n",
    "        self.blks = nn.Sequential()\n",
    "        self.agg_layer = nn.Sequential(nn.Linear(num_hiddens, num_hiddens),\n",
    "                                      nn.ReLU())\n",
    "        self.output = nn.Linear(num_hiddens, 3)\n",
    "        for i in range(num_layers):\n",
    "            self.blks.add_module(f\"{i}\", d2l.EncoderBlock(\n",
    "                key_size, query_size, value_size, num_hiddens, norm_shape,\n",
    "                ffn_num_input, ffn_num_hiddens, num_heads, dropout, True))\n",
    "        # 在BERT中，位置嵌入是可学习的，因此我们创建一个足够长的位置嵌入参数\n",
    "        self.pos_embedding = nn.Parameter(torch.randn(1, max_len,\n",
    "                                                      num_hiddens))\n",
    "\n",
    "    def forward(self, tokens, segments, valid_lens):\n",
    "        # 在以下代码段中，X的形状保持不变：（批量大小，最大序列长度，num_hiddens）\n",
    "        X = self.token_embedding(tokens) + self.segment_embedding(segments)\n",
    "        X = X + self.pos_embedding.data[:, :X.shape[1], :]\n",
    "        for blk in self.blks:\n",
    "            X = blk(X, valid_lens)\n",
    "        # 取句首'<cls>'标签对应的输出向量用于分类\n",
    "        return self.output(self.agg_layer(X[:, 0, :]))"
   ]
  },
  {
   "cell_type": "code",
   "execution_count": 14,
   "id": "86366c7b-9c2b-402d-a09f-2c3fa269e06a",
   "metadata": {},
   "outputs": [
    {
     "name": "stdout",
     "output_type": "stream",
     "text": [
      "15,860,739 total parameters.\n",
      "15,860,739 training parameters.\n"
     ]
    }
   ],
   "source": [
    "num_heads = 8\n",
    "basenet = BaseEncoder(\n",
    "    len(vocab), num_hiddens, norm_shape, ffn_num_input,\n",
    "    ffn_num_hiddens, num_heads, num_layers, dropout)\n",
    "\n",
    "# Find total parameters and trainable parameters\n",
    "total_params = sum(p.numel() for p in basenet.parameters())\n",
    "print(f'{total_params:,} total parameters.')\n",
    "total_trainable_params = sum(p.numel() for p in basenet.parameters() if p.requires_grad)\n",
    "print(f'{total_trainable_params:,} training parameters.')"
   ]
  },
  {
   "cell_type": "code",
   "execution_count": 15,
   "id": "521c4654-eaae-4b79-98b7-868a4abfe171",
   "metadata": {},
   "outputs": [
    {
     "data": {
      "text/plain": [
       "BaseEncoder(\n",
       "  (token_embedding): Embedding(18018, 512)\n",
       "  (segment_embedding): Embedding(2, 512)\n",
       "  (blks): Sequential(\n",
       "    (0): EncoderBlock(\n",
       "      (attention): MultiHeadAttention(\n",
       "        (attention): DotProductAttention(\n",
       "          (dropout): Dropout(p=0.1, inplace=False)\n",
       "        )\n",
       "        (W_q): Linear(in_features=512, out_features=512, bias=True)\n",
       "        (W_k): Linear(in_features=512, out_features=512, bias=True)\n",
       "        (W_v): Linear(in_features=512, out_features=512, bias=True)\n",
       "        (W_o): Linear(in_features=512, out_features=512, bias=True)\n",
       "      )\n",
       "      (addnorm1): AddNorm(\n",
       "        (dropout): Dropout(p=0.1, inplace=False)\n",
       "        (ln): LayerNorm((512,), eps=1e-05, elementwise_affine=True)\n",
       "      )\n",
       "      (ffn): PositionWiseFFN(\n",
       "        (dense1): Linear(in_features=512, out_features=2048, bias=True)\n",
       "        (relu): ReLU()\n",
       "        (dense2): Linear(in_features=2048, out_features=512, bias=True)\n",
       "      )\n",
       "      (addnorm2): AddNorm(\n",
       "        (dropout): Dropout(p=0.1, inplace=False)\n",
       "        (ln): LayerNorm((512,), eps=1e-05, elementwise_affine=True)\n",
       "      )\n",
       "    )\n",
       "    (1): EncoderBlock(\n",
       "      (attention): MultiHeadAttention(\n",
       "        (attention): DotProductAttention(\n",
       "          (dropout): Dropout(p=0.1, inplace=False)\n",
       "        )\n",
       "        (W_q): Linear(in_features=512, out_features=512, bias=True)\n",
       "        (W_k): Linear(in_features=512, out_features=512, bias=True)\n",
       "        (W_v): Linear(in_features=512, out_features=512, bias=True)\n",
       "        (W_o): Linear(in_features=512, out_features=512, bias=True)\n",
       "      )\n",
       "      (addnorm1): AddNorm(\n",
       "        (dropout): Dropout(p=0.1, inplace=False)\n",
       "        (ln): LayerNorm((512,), eps=1e-05, elementwise_affine=True)\n",
       "      )\n",
       "      (ffn): PositionWiseFFN(\n",
       "        (dense1): Linear(in_features=512, out_features=2048, bias=True)\n",
       "        (relu): ReLU()\n",
       "        (dense2): Linear(in_features=2048, out_features=512, bias=True)\n",
       "      )\n",
       "      (addnorm2): AddNorm(\n",
       "        (dropout): Dropout(p=0.1, inplace=False)\n",
       "        (ln): LayerNorm((512,), eps=1e-05, elementwise_affine=True)\n",
       "      )\n",
       "    )\n",
       "  )\n",
       "  (agg_layer): Sequential(\n",
       "    (0): Linear(in_features=512, out_features=512, bias=True)\n",
       "    (1): ReLU()\n",
       "  )\n",
       "  (output): Linear(in_features=512, out_features=3, bias=True)\n",
       ")"
      ]
     },
     "execution_count": 15,
     "metadata": {},
     "output_type": "execute_result"
    }
   ],
   "source": [
    "init_embedding_weights(basenet.token_embedding, weights)\n",
    "basenet.apply(xavier_init_weights)"
   ]
  },
  {
   "cell_type": "code",
   "execution_count": 16,
   "id": "0f4729da-dd5e-404c-96b6-f0fb0473a2fc",
   "metadata": {},
   "outputs": [
    {
     "name": "stderr",
     "output_type": "stream",
     "text": [
      "100%|██████████| 1073/1073 [04:13<00:00,  4.23it/s]\n"
     ]
    },
    {
     "name": "stdout",
     "output_type": "stream",
     "text": [
      "epoch 1, loss 1.053, train_acc 0.447, test_acc 0.529, valid_acc 0.518, taking 256 seconds\n"
     ]
    },
    {
     "name": "stderr",
     "output_type": "stream",
     "text": [
      "100%|██████████| 1073/1073 [04:15<00:00,  4.19it/s]\n"
     ]
    },
    {
     "name": "stdout",
     "output_type": "stream",
     "text": [
      "epoch 2, loss 0.905, train_acc 0.582, test_acc 0.613, valid_acc 0.605, taking 258 seconds\n"
     ]
    },
    {
     "name": "stderr",
     "output_type": "stream",
     "text": [
      "100%|██████████| 1073/1073 [04:17<00:00,  4.17it/s]\n"
     ]
    },
    {
     "name": "stdout",
     "output_type": "stream",
     "text": [
      "epoch 3, loss 0.831, train_acc 0.628, test_acc 0.642, valid_acc 0.640, taking 260 seconds\n"
     ]
    },
    {
     "name": "stderr",
     "output_type": "stream",
     "text": [
      "100%|██████████| 1073/1073 [04:15<00:00,  4.20it/s]\n"
     ]
    },
    {
     "name": "stdout",
     "output_type": "stream",
     "text": [
      "epoch 4, loss 0.800, train_acc 0.647, test_acc 0.665, valid_acc 0.655, taking 258 seconds\n"
     ]
    },
    {
     "name": "stderr",
     "output_type": "stream",
     "text": [
      "100%|██████████| 1073/1073 [04:15<00:00,  4.20it/s]\n"
     ]
    },
    {
     "name": "stdout",
     "output_type": "stream",
     "text": [
      "epoch 5, loss 0.780, train_acc 0.661, test_acc 0.666, valid_acc 0.666, taking 258 seconds\n"
     ]
    },
    {
     "name": "stderr",
     "output_type": "stream",
     "text": [
      "100%|██████████| 1073/1073 [04:15<00:00,  4.20it/s]\n"
     ]
    },
    {
     "name": "stdout",
     "output_type": "stream",
     "text": [
      "epoch 6, loss 0.764, train_acc 0.670, test_acc 0.674, valid_acc 0.667, taking 258 seconds\n"
     ]
    },
    {
     "name": "stderr",
     "output_type": "stream",
     "text": [
      "100%|██████████| 1073/1073 [04:15<00:00,  4.20it/s]\n"
     ]
    },
    {
     "name": "stdout",
     "output_type": "stream",
     "text": [
      "epoch 7, loss 0.751, train_acc 0.679, test_acc 0.673, valid_acc 0.668, taking 258 seconds\n"
     ]
    },
    {
     "name": "stderr",
     "output_type": "stream",
     "text": [
      "100%|██████████| 1073/1073 [04:15<00:00,  4.21it/s]\n"
     ]
    },
    {
     "name": "stdout",
     "output_type": "stream",
     "text": [
      "epoch 8, loss 0.740, train_acc 0.685, test_acc 0.694, valid_acc 0.685, taking 258 seconds\n"
     ]
    },
    {
     "name": "stderr",
     "output_type": "stream",
     "text": [
      "100%|██████████| 1073/1073 [04:15<00:00,  4.21it/s]\n"
     ]
    },
    {
     "name": "stdout",
     "output_type": "stream",
     "text": [
      "epoch 9, loss 0.732, train_acc 0.689, test_acc 0.695, valid_acc 0.691, taking 258 seconds\n"
     ]
    },
    {
     "name": "stderr",
     "output_type": "stream",
     "text": [
      "100%|██████████| 1073/1073 [04:15<00:00,  4.20it/s]\n"
     ]
    },
    {
     "name": "stdout",
     "output_type": "stream",
     "text": [
      "epoch 10, loss 0.725, train_acc 0.693, test_acc 0.694, valid_acc 0.692, taking 258 seconds\n"
     ]
    },
    {
     "name": "stderr",
     "output_type": "stream",
     "text": [
      "100%|██████████| 1073/1073 [04:14<00:00,  4.22it/s]\n"
     ]
    },
    {
     "name": "stdout",
     "output_type": "stream",
     "text": [
      "epoch 11, loss 0.716, train_acc 0.697, test_acc 0.694, valid_acc 0.688, taking 257 seconds\n"
     ]
    },
    {
     "name": "stderr",
     "output_type": "stream",
     "text": [
      "100%|██████████| 1073/1073 [04:15<00:00,  4.20it/s]\n"
     ]
    },
    {
     "name": "stdout",
     "output_type": "stream",
     "text": [
      "epoch 12, loss 0.707, train_acc 0.702, test_acc 0.691, valid_acc 0.694, taking 258 seconds\n"
     ]
    },
    {
     "name": "stderr",
     "output_type": "stream",
     "text": [
      "100%|██████████| 1073/1073 [04:15<00:00,  4.20it/s]\n"
     ]
    },
    {
     "name": "stdout",
     "output_type": "stream",
     "text": [
      "epoch 13, loss 0.699, train_acc 0.706, test_acc 0.707, valid_acc 0.703, taking 258 seconds\n"
     ]
    },
    {
     "name": "stderr",
     "output_type": "stream",
     "text": [
      "100%|██████████| 1073/1073 [04:15<00:00,  4.20it/s]\n"
     ]
    },
    {
     "name": "stdout",
     "output_type": "stream",
     "text": [
      "epoch 14, loss 0.693, train_acc 0.710, test_acc 0.713, valid_acc 0.707, taking 258 seconds\n"
     ]
    },
    {
     "name": "stderr",
     "output_type": "stream",
     "text": [
      "100%|██████████| 1073/1073 [04:15<00:00,  4.20it/s]\n"
     ]
    },
    {
     "name": "stdout",
     "output_type": "stream",
     "text": [
      "epoch 15, loss 0.687, train_acc 0.713, test_acc 0.711, valid_acc 0.712, taking 258 seconds\n"
     ]
    },
    {
     "name": "stderr",
     "output_type": "stream",
     "text": [
      "100%|██████████| 1073/1073 [04:16<00:00,  4.19it/s]\n"
     ]
    },
    {
     "name": "stdout",
     "output_type": "stream",
     "text": [
      "epoch 16, loss 0.681, train_acc 0.716, test_acc 0.715, valid_acc 0.712, taking 259 seconds\n"
     ]
    },
    {
     "name": "stderr",
     "output_type": "stream",
     "text": [
      "100%|██████████| 1073/1073 [04:16<00:00,  4.19it/s]\n"
     ]
    },
    {
     "name": "stdout",
     "output_type": "stream",
     "text": [
      "epoch 17, loss 0.674, train_acc 0.720, test_acc 0.716, valid_acc 0.711, taking 258 seconds\n"
     ]
    },
    {
     "name": "stderr",
     "output_type": "stream",
     "text": [
      "100%|██████████| 1073/1073 [04:15<00:00,  4.20it/s]\n"
     ]
    },
    {
     "name": "stdout",
     "output_type": "stream",
     "text": [
      "epoch 18, loss 0.672, train_acc 0.721, test_acc 0.702, valid_acc 0.703, taking 258 seconds\n"
     ]
    },
    {
     "name": "stderr",
     "output_type": "stream",
     "text": [
      "100%|██████████| 1073/1073 [04:15<00:00,  4.20it/s]\n"
     ]
    },
    {
     "name": "stdout",
     "output_type": "stream",
     "text": [
      "epoch 19, loss 0.665, train_acc 0.725, test_acc 0.722, valid_acc 0.719, taking 258 seconds\n"
     ]
    },
    {
     "name": "stderr",
     "output_type": "stream",
     "text": [
      "100%|██████████| 1073/1073 [04:15<00:00,  4.19it/s]\n"
     ]
    },
    {
     "name": "stdout",
     "output_type": "stream",
     "text": [
      "epoch 20, loss 0.660, train_acc 0.727, test_acc 0.717, valid_acc 0.713, taking 258 seconds\n"
     ]
    },
    {
     "name": "stderr",
     "output_type": "stream",
     "text": [
      "100%|██████████| 1073/1073 [04:15<00:00,  4.21it/s]\n"
     ]
    },
    {
     "name": "stdout",
     "output_type": "stream",
     "text": [
      "epoch 21, loss 0.655, train_acc 0.730, test_acc 0.730, valid_acc 0.725, taking 258 seconds\n"
     ]
    },
    {
     "name": "stderr",
     "output_type": "stream",
     "text": [
      "100%|██████████| 1073/1073 [04:14<00:00,  4.21it/s]\n"
     ]
    },
    {
     "name": "stdout",
     "output_type": "stream",
     "text": [
      "epoch 22, loss 0.652, train_acc 0.731, test_acc 0.728, valid_acc 0.732, taking 257 seconds\n"
     ]
    },
    {
     "name": "stderr",
     "output_type": "stream",
     "text": [
      "100%|██████████| 1073/1073 [04:14<00:00,  4.21it/s]\n"
     ]
    },
    {
     "name": "stdout",
     "output_type": "stream",
     "text": [
      "epoch 23, loss 0.645, train_acc 0.733, test_acc 0.731, valid_acc 0.730, taking 257 seconds\n"
     ]
    },
    {
     "name": "stderr",
     "output_type": "stream",
     "text": [
      "100%|██████████| 1073/1073 [04:14<00:00,  4.21it/s]\n"
     ]
    },
    {
     "name": "stdout",
     "output_type": "stream",
     "text": [
      "epoch 24, loss 0.643, train_acc 0.735, test_acc 0.730, valid_acc 0.733, taking 257 seconds\n"
     ]
    },
    {
     "name": "stderr",
     "output_type": "stream",
     "text": [
      "100%|██████████| 1073/1073 [04:14<00:00,  4.22it/s]\n"
     ]
    },
    {
     "name": "stdout",
     "output_type": "stream",
     "text": [
      "epoch 25, loss 0.640, train_acc 0.736, test_acc 0.731, valid_acc 0.736, taking 257 seconds\n"
     ]
    },
    {
     "name": "stderr",
     "output_type": "stream",
     "text": [
      "100%|██████████| 1073/1073 [04:14<00:00,  4.22it/s]\n"
     ]
    },
    {
     "name": "stdout",
     "output_type": "stream",
     "text": [
      "epoch 26, loss 0.639, train_acc 0.737, test_acc 0.731, valid_acc 0.732, taking 257 seconds\n"
     ]
    },
    {
     "name": "stderr",
     "output_type": "stream",
     "text": [
      "100%|██████████| 1073/1073 [04:14<00:00,  4.22it/s]\n"
     ]
    },
    {
     "name": "stdout",
     "output_type": "stream",
     "text": [
      "epoch 27, loss 0.634, train_acc 0.739, test_acc 0.725, valid_acc 0.726, taking 257 seconds\n"
     ]
    },
    {
     "name": "stderr",
     "output_type": "stream",
     "text": [
      "100%|██████████| 1073/1073 [04:14<00:00,  4.21it/s]\n"
     ]
    },
    {
     "name": "stdout",
     "output_type": "stream",
     "text": [
      "epoch 28, loss 0.631, train_acc 0.741, test_acc 0.733, valid_acc 0.737, taking 257 seconds\n"
     ]
    },
    {
     "name": "stderr",
     "output_type": "stream",
     "text": [
      "100%|██████████| 1073/1073 [04:13<00:00,  4.23it/s]\n"
     ]
    },
    {
     "name": "stdout",
     "output_type": "stream",
     "text": [
      "epoch 29, loss 0.626, train_acc 0.743, test_acc 0.735, valid_acc 0.741, taking 256 seconds\n"
     ]
    },
    {
     "name": "stderr",
     "output_type": "stream",
     "text": [
      "100%|██████████| 1073/1073 [04:13<00:00,  4.23it/s]\n"
     ]
    },
    {
     "name": "stdout",
     "output_type": "stream",
     "text": [
      "epoch 30, loss 0.622, train_acc 0.745, test_acc 0.735, valid_acc 0.731, taking 256 seconds\n",
      "Training is finished.\n",
      "训练损失:0.622, 训练集准确率:0.745\n",
      "测试集准确率:0.735, 验证集准确率:0.731\n",
      "在设备cuda:0上训练30周期 耗时7730 秒\n"
     ]
    }
   ],
   "source": [
    "# 以‘微调’的模式进行训练\n",
    "# activation function: nn.ReLU()\n",
    "# 15,860,739 total parameters.\n",
    "# num_epochs = 30\n",
    "loss = nn.CrossEntropyLoss(reduction='none')\n",
    "forward_params = [\n",
    "    param for name, param in basenet.named_parameters()\n",
    "    if name != \"token_embedding.weight\"]\n",
    "trainer = torch.optim.Adam(\n",
    "    [{'params': basenet.token_embedding.parameters()},\n",
    "    {'params': forward_params,\n",
    "    'lr': lr * 10}], lr=lr)\n",
    "basenet.to(device)\n",
    "\n",
    "num_batches = len(train_iter)\n",
    "losses, train_accuracy, test_accuracy, validation_accuracy = [], [], [], []\n",
    "total_start = time.time()\n",
    "for epoch in range(num_epochs):\n",
    "    train_loss, train_acc = 0, 0\n",
    "    start_time = time.perf_counter()\n",
    "    basenet.train()\n",
    "    for index, data in tqdm(enumerate(train_iter), total=num_batches, leave=True):\n",
    "        (tokens, segments, valid_len), y = data\n",
    "        tokens, segments, valid_len = [v.to(device) for v in (tokens, segments, valid_len)]\n",
    "        y = y.to(device)\n",
    "        l = loss(basenet(tokens, segments, valid_len), y)\n",
    "        trainer.zero_grad()\n",
    "        l.sum().backward()\n",
    "        trainer.step()\n",
    "        train_loss += l.sum().cpu().detach().numpy() / batch_size\n",
    "        train_acc += d2l.accuracy(basenet(tokens, segments, valid_len), y) / batch_size\n",
    "    epochloss, epochtrain = train_loss / num_batches, train_acc / num_batches\n",
    "    epochtest, epochvalidation = evaluate_accuracy_gpu(basenet, test_iter, device), evaluate_accuracy_gpu(basenet, validation_iter, device)\n",
    "    end_time = time.perf_counter()\n",
    "    print(f'epoch {epoch + 1}, loss {epochloss:.3f}, train_acc {epochtrain:.3f}, '\n",
    "         f'test_acc {epochtest:.3f}, valid_acc {epochvalidation:.3f}, '\n",
    "          f'taking {round(end_time - start_time)} seconds')\n",
    "    losses.append(epochloss)\n",
    "    train_accuracy.append(epochtrain)\n",
    "    test_accuracy.append(epochtest)\n",
    "    validation_accuracy.append(epochvalidation)\n",
    "total_timecost = round(time.time() - total_start)\n",
    "print('Training is finished.')\n",
    "print(f'训练损失:{losses[-1]:.3f}, 训练集准确率:{train_accuracy[-1]:.3f}\\n'\n",
    "      f'测试集准确率:{test_accuracy[-1]:.3f}, 验证集准确率:{validation_accuracy[-1]:.3f}\\n'\n",
    "      f'在设备{device}上训练{num_epochs}周期 耗时{total_timecost} 秒')"
   ]
  },
  {
   "cell_type": "code",
   "execution_count": 17,
   "id": "85ede4c2-376a-49d7-adcc-91bcf2099c57",
   "metadata": {},
   "outputs": [
    {
     "data": {
      "image/png": "[encoded data removed]",
      "text/plain": [
       "<Figure size 640x480 with 1 Axes>"
      ]
     },
     "metadata": {},
     "output_type": "display_data"
    }
   ],
   "source": [
    "fig = plt.figure()\n",
    "plt.title('train loss and accuracy')\n",
    "plt.axis([0, num_epochs, 0, 1])\n",
    "epochs = np.arange(1, num_epochs + 1)\n",
    "# losses, train_accuracy, test_accuracy, validation_accuracy\n",
    "plt.plot(epochs, losses, 'r.-', label='loss')\n",
    "plt.plot(epochs, train_accuracy, 'g-', label='train_acc')\n",
    "plt.plot(epochs, test_accuracy, 'b-.', label='test_acc')\n",
    "plt.plot(epochs, validation_accuracy, 'y-.', label='valid_acc')\n",
    "plt.grid()\n",
    "plt.legend(loc='best', frameon=False)\n",
    "plt.show()"
   ]
  },
  {
   "cell_type": "markdown",
   "id": "9dd5a701-298c-4ea3-8f35-fd0957db2a21",
   "metadata": {},
   "source": [
    "# 对比训练(3层编码器块)"
   ]
  },
  {
   "cell_type": "code",
   "execution_count": 15,
   "id": "4838df1f-8dcc-45b5-b9e7-74d8859e4598",
   "metadata": {},
   "outputs": [
    {
     "name": "stderr",
     "output_type": "stream",
     "text": [
      "100%|██████████| 1073/1073 [06:11<00:00,  2.89it/s]\n"
     ]
    },
    {
     "name": "stdout",
     "output_type": "stream",
     "text": [
      "epoch 1, loss 1.079, train_acc 0.413, test_acc 0.501, valid_acc 0.489, taking 375 seconds\n"
     ]
    },
    {
     "name": "stderr",
     "output_type": "stream",
     "text": [
      "100%|██████████| 1073/1073 [06:15<00:00,  2.86it/s]\n"
     ]
    },
    {
     "name": "stdout",
     "output_type": "stream",
     "text": [
      "epoch 2, loss 0.947, train_acc 0.554, test_acc 0.603, valid_acc 0.606, taking 379 seconds\n"
     ]
    },
    {
     "name": "stderr",
     "output_type": "stream",
     "text": [
      "100%|██████████| 1073/1073 [06:14<00:00,  2.87it/s]\n"
     ]
    },
    {
     "name": "stdout",
     "output_type": "stream",
     "text": [
      "epoch 3, loss 0.873, train_acc 0.610, test_acc 0.597, valid_acc 0.599, taking 378 seconds\n"
     ]
    },
    {
     "name": "stderr",
     "output_type": "stream",
     "text": [
      "100%|██████████| 1073/1073 [06:14<00:00,  2.87it/s]\n"
     ]
    },
    {
     "name": "stdout",
     "output_type": "stream",
     "text": [
      "epoch 4, loss 0.855, train_acc 0.619, test_acc 0.625, valid_acc 0.626, taking 378 seconds\n"
     ]
    },
    {
     "name": "stderr",
     "output_type": "stream",
     "text": [
      "100%|██████████| 1073/1073 [06:15<00:00,  2.86it/s]\n"
     ]
    },
    {
     "name": "stdout",
     "output_type": "stream",
     "text": [
      "epoch 5, loss 0.844, train_acc 0.625, test_acc 0.625, valid_acc 0.622, taking 379 seconds\n"
     ]
    },
    {
     "name": "stderr",
     "output_type": "stream",
     "text": [
      "100%|██████████| 1073/1073 [06:16<00:00,  2.85it/s]\n"
     ]
    },
    {
     "name": "stdout",
     "output_type": "stream",
     "text": [
      "epoch 6, loss 0.835, train_acc 0.631, test_acc 0.626, valid_acc 0.624, taking 381 seconds\n"
     ]
    },
    {
     "name": "stderr",
     "output_type": "stream",
     "text": [
      "100%|██████████| 1073/1073 [06:17<00:00,  2.84it/s]\n"
     ]
    },
    {
     "name": "stdout",
     "output_type": "stream",
     "text": [
      "epoch 7, loss 0.828, train_acc 0.634, test_acc 0.631, valid_acc 0.637, taking 381 seconds\n"
     ]
    },
    {
     "name": "stderr",
     "output_type": "stream",
     "text": [
      "100%|██████████| 1073/1073 [06:20<00:00,  2.82it/s]\n"
     ]
    },
    {
     "name": "stdout",
     "output_type": "stream",
     "text": [
      "epoch 8, loss 0.825, train_acc 0.635, test_acc 0.631, valid_acc 0.633, taking 384 seconds\n"
     ]
    },
    {
     "name": "stderr",
     "output_type": "stream",
     "text": [
      "100%|██████████| 1073/1073 [06:16<00:00,  2.85it/s]\n"
     ]
    },
    {
     "name": "stdout",
     "output_type": "stream",
     "text": [
      "epoch 9, loss 0.819, train_acc 0.638, test_acc 0.642, valid_acc 0.641, taking 381 seconds\n"
     ]
    },
    {
     "name": "stderr",
     "output_type": "stream",
     "text": [
      "100%|██████████| 1073/1073 [06:14<00:00,  2.87it/s]\n"
     ]
    },
    {
     "name": "stdout",
     "output_type": "stream",
     "text": [
      "epoch 10, loss 0.820, train_acc 0.637, test_acc 0.639, valid_acc 0.640, taking 378 seconds\n"
     ]
    },
    {
     "name": "stderr",
     "output_type": "stream",
     "text": [
      "100%|██████████| 1073/1073 [06:16<00:00,  2.85it/s]\n"
     ]
    },
    {
     "name": "stdout",
     "output_type": "stream",
     "text": [
      "epoch 11, loss 0.812, train_acc 0.642, test_acc 0.643, valid_acc 0.637, taking 380 seconds\n"
     ]
    },
    {
     "name": "stderr",
     "output_type": "stream",
     "text": [
      "100%|██████████| 1073/1073 [06:18<00:00,  2.84it/s]\n"
     ]
    },
    {
     "name": "stdout",
     "output_type": "stream",
     "text": [
      "epoch 12, loss 0.810, train_acc 0.642, test_acc 0.640, valid_acc 0.638, taking 382 seconds\n"
     ]
    },
    {
     "name": "stderr",
     "output_type": "stream",
     "text": [
      "100%|██████████| 1073/1073 [06:16<00:00,  2.85it/s]\n"
     ]
    },
    {
     "name": "stdout",
     "output_type": "stream",
     "text": [
      "epoch 13, loss 0.806, train_acc 0.644, test_acc 0.625, valid_acc 0.630, taking 381 seconds\n"
     ]
    },
    {
     "name": "stderr",
     "output_type": "stream",
     "text": [
      "100%|██████████| 1073/1073 [06:17<00:00,  2.84it/s]\n"
     ]
    },
    {
     "name": "stdout",
     "output_type": "stream",
     "text": [
      "epoch 14, loss 0.804, train_acc 0.645, test_acc 0.647, valid_acc 0.637, taking 382 seconds\n"
     ]
    },
    {
     "name": "stderr",
     "output_type": "stream",
     "text": [
      "100%|██████████| 1073/1073 [06:14<00:00,  2.87it/s]\n"
     ]
    },
    {
     "name": "stdout",
     "output_type": "stream",
     "text": [
      "epoch 15, loss 0.806, train_acc 0.643, test_acc 0.641, valid_acc 0.645, taking 378 seconds\n"
     ]
    },
    {
     "name": "stderr",
     "output_type": "stream",
     "text": [
      "100%|██████████| 1073/1073 [06:15<00:00,  2.85it/s]\n"
     ]
    },
    {
     "name": "stdout",
     "output_type": "stream",
     "text": [
      "epoch 16, loss 0.802, train_acc 0.645, test_acc 0.646, valid_acc 0.642, taking 379 seconds\n"
     ]
    },
    {
     "name": "stderr",
     "output_type": "stream",
     "text": [
      "100%|██████████| 1073/1073 [06:15<00:00,  2.85it/s]\n"
     ]
    },
    {
     "name": "stdout",
     "output_type": "stream",
     "text": [
      "epoch 17, loss 0.800, train_acc 0.646, test_acc 0.645, valid_acc 0.645, taking 380 seconds\n"
     ]
    },
    {
     "name": "stderr",
     "output_type": "stream",
     "text": [
      "100%|██████████| 1073/1073 [06:16<00:00,  2.85it/s]\n"
     ]
    },
    {
     "name": "stdout",
     "output_type": "stream",
     "text": [
      "epoch 18, loss 0.794, train_acc 0.651, test_acc 0.645, valid_acc 0.645, taking 380 seconds\n"
     ]
    },
    {
     "name": "stderr",
     "output_type": "stream",
     "text": [
      "100%|██████████| 1073/1073 [06:15<00:00,  2.85it/s]\n"
     ]
    },
    {
     "name": "stdout",
     "output_type": "stream",
     "text": [
      "epoch 19, loss 0.793, train_acc 0.650, test_acc 0.649, valid_acc 0.651, taking 379 seconds\n"
     ]
    },
    {
     "name": "stderr",
     "output_type": "stream",
     "text": [
      "100%|██████████| 1073/1073 [06:12<00:00,  2.88it/s]\n"
     ]
    },
    {
     "name": "stdout",
     "output_type": "stream",
     "text": [
      "epoch 20, loss 0.793, train_acc 0.650, test_acc 0.650, valid_acc 0.651, taking 376 seconds\n"
     ]
    },
    {
     "name": "stderr",
     "output_type": "stream",
     "text": [
      "100%|██████████| 1073/1073 [06:12<00:00,  2.88it/s]\n"
     ]
    },
    {
     "name": "stdout",
     "output_type": "stream",
     "text": [
      "epoch 21, loss 0.791, train_acc 0.651, test_acc 0.643, valid_acc 0.642, taking 376 seconds\n"
     ]
    },
    {
     "name": "stderr",
     "output_type": "stream",
     "text": [
      "100%|██████████| 1073/1073 [06:14<00:00,  2.87it/s]\n"
     ]
    },
    {
     "name": "stdout",
     "output_type": "stream",
     "text": [
      "epoch 22, loss 0.791, train_acc 0.651, test_acc 0.650, valid_acc 0.650, taking 378 seconds\n"
     ]
    },
    {
     "name": "stderr",
     "output_type": "stream",
     "text": [
      "100%|██████████| 1073/1073 [06:13<00:00,  2.88it/s]\n"
     ]
    },
    {
     "name": "stdout",
     "output_type": "stream",
     "text": [
      "epoch 23, loss 0.788, train_acc 0.652, test_acc 0.649, valid_acc 0.648, taking 377 seconds\n"
     ]
    },
    {
     "name": "stderr",
     "output_type": "stream",
     "text": [
      "100%|██████████| 1073/1073 [06:12<00:00,  2.88it/s]\n"
     ]
    },
    {
     "name": "stdout",
     "output_type": "stream",
     "text": [
      "epoch 24, loss 0.785, train_acc 0.653, test_acc 0.647, valid_acc 0.645, taking 376 seconds\n"
     ]
    },
    {
     "name": "stderr",
     "output_type": "stream",
     "text": [
      "100%|██████████| 1073/1073 [06:13<00:00,  2.87it/s]\n"
     ]
    },
    {
     "name": "stdout",
     "output_type": "stream",
     "text": [
      "epoch 25, loss 0.781, train_acc 0.656, test_acc 0.654, valid_acc 0.652, taking 377 seconds\n"
     ]
    },
    {
     "name": "stderr",
     "output_type": "stream",
     "text": [
      "100%|██████████| 1073/1073 [06:14<00:00,  2.86it/s]\n"
     ]
    },
    {
     "name": "stdout",
     "output_type": "stream",
     "text": [
      "epoch 26, loss 0.778, train_acc 0.657, test_acc 0.637, valid_acc 0.636, taking 378 seconds\n"
     ]
    },
    {
     "name": "stderr",
     "output_type": "stream",
     "text": [
      "100%|██████████| 1073/1073 [06:14<00:00,  2.87it/s]\n"
     ]
    },
    {
     "name": "stdout",
     "output_type": "stream",
     "text": [
      "epoch 27, loss 0.788, train_acc 0.651, test_acc 0.640, valid_acc 0.641, taking 378 seconds\n"
     ]
    },
    {
     "name": "stderr",
     "output_type": "stream",
     "text": [
      "100%|██████████| 1073/1073 [06:13<00:00,  2.87it/s]\n"
     ]
    },
    {
     "name": "stdout",
     "output_type": "stream",
     "text": [
      "epoch 28, loss 0.805, train_acc 0.641, test_acc 0.632, valid_acc 0.632, taking 377 seconds\n"
     ]
    },
    {
     "name": "stderr",
     "output_type": "stream",
     "text": [
      "100%|██████████| 1073/1073 [06:15<00:00,  2.86it/s]\n"
     ]
    },
    {
     "name": "stdout",
     "output_type": "stream",
     "text": [
      "epoch 29, loss 0.793, train_acc 0.648, test_acc 0.626, valid_acc 0.635, taking 379 seconds\n"
     ]
    },
    {
     "name": "stderr",
     "output_type": "stream",
     "text": [
      "100%|██████████| 1073/1073 [06:14<00:00,  2.87it/s]\n"
     ]
    },
    {
     "name": "stdout",
     "output_type": "stream",
     "text": [
      "epoch 30, loss 0.794, train_acc 0.647, test_acc 0.646, valid_acc 0.642, taking 378 seconds\n",
      "Training is finished.\n",
      "训练损失:0.794, 训练集准确率:0.647\n",
      "测试集准确率:0.646, 验证集准确率:0.642\n",
      "在设备cuda:0上训练30周期 耗时11363 秒\n"
     ]
    }
   ],
   "source": [
    "# 以‘微调’的模式进行训练\n",
    "# activation function: nn.ReLU()\n",
    "# 19,013,123 total parameters.\n",
    "# num_epochs = 30\n",
    "loss = nn.CrossEntropyLoss(reduction='none')\n",
    "forward_params = [\n",
    "    param for name, param in basenet.named_parameters()\n",
    "    if name != \"token_embedding.weight\"]\n",
    "trainer = torch.optim.Adam(\n",
    "    [{'params': basenet.token_embedding.parameters()},\n",
    "    {'params': forward_params,\n",
    "    'lr': lr * 10}], lr=lr)\n",
    "basenet.to(device)\n",
    "\n",
    "num_batches = len(train_iter)\n",
    "losses, train_accuracy, test_accuracy, validation_accuracy = [], [], [], []\n",
    "total_start = time.time()\n",
    "for epoch in range(num_epochs):\n",
    "    train_loss, train_acc = 0, 0\n",
    "    start_time = time.perf_counter()\n",
    "    basenet.train()\n",
    "    for index, data in tqdm(enumerate(train_iter), total=num_batches, leave=True):\n",
    "        (tokens, segments, valid_len), y = data\n",
    "        tokens, segments, valid_len = [v.to(device) for v in (tokens, segments, valid_len)]\n",
    "        y = y.to(device)\n",
    "        l = loss(basenet(tokens, segments, valid_len), y)\n",
    "        trainer.zero_grad()\n",
    "        l.sum().backward()\n",
    "        trainer.step()\n",
    "        train_loss += l.sum().cpu().detach().numpy() / batch_size\n",
    "        train_acc += d2l.accuracy(basenet(tokens, segments, valid_len), y) / batch_size\n",
    "    epochloss, epochtrain = train_loss / num_batches, train_acc / num_batches\n",
    "    epochtest, epochvalidation = evaluate_accuracy_gpu(basenet, test_iter, device), evaluate_accuracy_gpu(basenet, validation_iter, device)\n",
    "    end_time = time.perf_counter()\n",
    "    print(f'epoch {epoch + 1}, loss {epochloss:.3f}, train_acc {epochtrain:.3f}, '\n",
    "         f'test_acc {epochtest:.3f}, valid_acc {epochvalidation:.3f}, '\n",
    "          f'taking {round(end_time - start_time)} seconds')\n",
    "    losses.append(epochloss)\n",
    "    train_accuracy.append(epochtrain)\n",
    "    test_accuracy.append(epochtest)\n",
    "    validation_accuracy.append(epochvalidation)\n",
    "total_timecost = round(time.time() - total_start)\n",
    "print('Training is finished.')\n",
    "print(f'训练损失:{losses[-1]:.3f}, 训练集准确率:{train_accuracy[-1]:.3f}\\n'\n",
    "      f'测试集准确率:{test_accuracy[-1]:.3f}, 验证集准确率:{validation_accuracy[-1]:.3f}\\n'\n",
    "      f'在设备{device}上训练{num_epochs}周期 耗时{total_timecost} 秒')"
   ]
  },
  {
   "cell_type": "code",
   "execution_count": 16,
   "id": "e3ecc8a7-4780-4d59-96f0-6da34c0b8ee0",
   "metadata": {},
   "outputs": [
    {
     "data": {
      "image/png": "[encoded data removed]",
      "text/plain": [
       "<Figure size 640x480 with 1 Axes>"
      ]
     },
     "metadata": {},
     "output_type": "display_data"
    }
   ],
   "source": [
    "fig = plt.figure()\n",
    "plt.title('train loss and accuracy')\n",
    "plt.axis([0, num_epochs, 0, 1])\n",
    "epochs = np.arange(1, num_epochs + 1)\n",
    "# losses, train_accuracy, test_accuracy, validation_accuracy\n",
    "plt.plot(epochs, losses, 'r.-', label='loss')\n",
    "plt.plot(epochs, train_accuracy, 'g-', label='train_acc')\n",
    "plt.plot(epochs, test_accuracy, 'b-.', label='test_acc')\n",
    "# plt.plot(epochs, validation_accuracy, 'y-.', label='valid_acc')\n",
    "plt.grid()\n",
    "plt.legend(loc='best', frameon=False)\n",
    "plt.show()"
   ]
  },
  {
   "cell_type": "code",
   "execution_count": 22,
   "id": "236a83fa-e020-4414-971d-337d45983740",
   "metadata": {},
   "outputs": [
    {
     "name": "stdout",
     "output_type": "stream",
     "text": [
      "Sat Oct  8 15:25:05 2022       \n",
      "+-----------------------------------------------------------------------------+\n",
      "| NVIDIA-SMI 515.57       Driver Version: 515.57       CUDA Version: 11.7     |\n",
      "|-------------------------------+----------------------+----------------------+\n",
      "| GPU  Name        Persistence-M| Bus-Id        Disp.A | Volatile Uncorr. ECC |\n",
      "| Fan  Temp  Perf  Pwr:Usage/Cap|         Memory-Usage | GPU-Util  Compute M. |\n",
      "|                               |                      |               MIG M. |\n",
      "|===============================+======================+======================|\n",
      "|   0  NVIDIA RTX A5000    On   | 00000000:CE:00.0 Off |                  Off |\n",
      "| 30%   27C    P8    15W / 230W |  24247MiB / 24564MiB |      0%      Default |\n",
      "|                               |                      |                  N/A |\n",
      "+-------------------------------+----------------------+----------------------+\n",
      "                                                                               \n",
      "+-----------------------------------------------------------------------------+\n",
      "| Processes:                                                                  |\n",
      "|  GPU   GI   CI        PID   Type   Process name                  GPU Memory |\n",
      "|        ID   ID                                                   Usage      |\n",
      "|=============================================================================|\n",
      "+-----------------------------------------------------------------------------+\n"
     ]
    }
   ],
   "source": [
    "!nvidia-smi"
   ]
  },
  {
   "cell_type": "code",
   "execution_count": 23,
   "id": "9bb5287f-3a07-4340-896c-d8ac1dc62837",
   "metadata": {},
   "outputs": [
    {
     "name": "stdout",
     "output_type": "stream",
     "text": [
      "/bin/bash: line 0: kill: pid: arguments must be process or job IDs\n"
     ]
    }
   ],
   "source": [
    "!kill -9 pid"
   ]
  },
  {
   "cell_type": "code",
   "execution_count": null,
   "id": "a5691a9f-cb0b-4fa4-826c-c3a7cd0b2890",
   "metadata": {},
   "outputs": [],
   "source": []
  }
 ],
 "metadata": {
  "kernelspec": {
   "display_name": "Python 3 (ipykernel)",
   "language": "python",
   "name": "python3"
  },
  "language_info": {
   "codemirror_mode": {
    "name": "ipython",
    "version": 3
   },
   "file_extension": ".py",
   "mimetype": "text/x-python",
   "name": "python",
   "nbconvert_exporter": "python",
   "pygments_lexer": "ipython3",
   "version": "3.8.10"
  }
 },
 "nbformat": 4,
 "nbformat_minor": 5
}
