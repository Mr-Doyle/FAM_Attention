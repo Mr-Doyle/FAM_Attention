{
 "cells": [
  {
   "cell_type": "markdown",
   "id": "08e7b826-cc4c-451a-b739-e5e898b36c79",
   "metadata": {},
   "source": [
    "# 数据准备"
   ]
  },
  {
   "cell_type": "code",
   "execution_count": 1,
   "id": "c506d794-1934-423c-85f8-09891607360e",
   "metadata": {
    "execution": {
     "iopub.execute_input": "2024-07-25T11:01:39.262733Z",
     "iopub.status.busy": "2024-07-25T11:01:39.262032Z",
     "iopub.status.idle": "2024-07-25T11:01:42.160310Z",
     "shell.execute_reply": "2024-07-25T11:01:42.159524Z",
     "shell.execute_reply.started": "2024-07-25T11:01:39.262679Z"
    }
   },
   "outputs": [
    {
     "name": "stderr",
     "output_type": "stream",
     "text": [
      "Reusing dataset snli (/root/.cache/huggingface/datasets/snli/plain_text/1.0.0/1f60b67533b65ae0275561ff7828aad5ee4282d0e6f844fd148d05d3c6ea251b)\n"
     ]
    },
    {
     "data": {
      "application/vnd.jupyter.widget-view+json": {
       "model_id": "a759e1f6c12a4a1e855d8ee54d60564e",
       "version_major": 2,
       "version_minor": 0
      },
      "text/plain": [
       "  0%|          | 0/3 [00:00<?, ?it/s]"
      ]
     },
     "metadata": {},
     "output_type": "display_data"
    },
    {
     "data": {
      "text/plain": [
       "(550152, 10000, 10000)"
      ]
     },
     "execution_count": 1,
     "metadata": {},
     "output_type": "execute_result"
    }
   ],
   "source": [
    "import datasets\n",
    "from datasets import load_dataset\n",
    "\n",
    "dataset = load_dataset('snli')\n",
    "# filter_dataset = dataset.filter(lambda x: x['train']['label'] != -1)\n",
    "len(dataset['train']), len(dataset['test']), len(dataset['validation'])"
   ]
  },
  {
   "cell_type": "code",
   "execution_count": 2,
   "id": "f8e7d811-2d74-46ad-bb22-ae5bf78d14cf",
   "metadata": {
    "execution": {
     "iopub.execute_input": "2024-07-25T11:01:44.468426Z",
     "iopub.status.busy": "2024-07-25T11:01:44.468000Z",
     "iopub.status.idle": "2024-07-25T11:01:44.493698Z",
     "shell.execute_reply": "2024-07-25T11:01:44.492562Z",
     "shell.execute_reply.started": "2024-07-25T11:01:44.468400Z"
    }
   },
   "outputs": [
    {
     "name": "stderr",
     "output_type": "stream",
     "text": [
      "Loading cached processed dataset at /root/.cache/huggingface/datasets/snli/plain_text/1.0.0/1f60b67533b65ae0275561ff7828aad5ee4282d0e6f844fd148d05d3c6ea251b/cache-a456b5c8e4a9be8b.arrow\n",
      "Loading cached processed dataset at /root/.cache/huggingface/datasets/snli/plain_text/1.0.0/1f60b67533b65ae0275561ff7828aad5ee4282d0e6f844fd148d05d3c6ea251b/cache-23b15657e1b03e29.arrow\n",
      "Loading cached processed dataset at /root/.cache/huggingface/datasets/snli/plain_text/1.0.0/1f60b67533b65ae0275561ff7828aad5ee4282d0e6f844fd148d05d3c6ea251b/cache-107582d3946c7465.arrow\n"
     ]
    },
    {
     "name": "stdout",
     "output_type": "stream",
     "text": [
      "549367 9824 9842\n"
     ]
    }
   ],
   "source": [
    "# snli 数据集中含有标签为 -1 的数据, 需去除\n",
    "dataset = dataset.filter(lambda x: x['label'] != -1)\n",
    "print(len(dataset['train']), len(dataset['test']), len(dataset['validation']))"
   ]
  },
  {
   "cell_type": "code",
   "execution_count": 3,
   "id": "a5bac1cc-afb8-497d-97a2-b31c3cf96678",
   "metadata": {
    "execution": {
     "iopub.execute_input": "2024-07-24T07:18:27.751609Z",
     "iopub.status.busy": "2024-07-24T07:18:27.750881Z",
     "iopub.status.idle": "2024-07-24T07:18:27.760099Z",
     "shell.execute_reply": "2024-07-24T07:18:27.759396Z",
     "shell.execute_reply.started": "2024-07-24T07:18:27.751557Z"
    }
   },
   "outputs": [
    {
     "data": {
      "text/plain": [
       "{'premise': 'A person on a horse jumps over a broken down airplane.',\n",
       " 'hypothesis': 'A person is training his horse for a competition.',\n",
       " 'label': 1}"
      ]
     },
     "execution_count": 3,
     "metadata": {},
     "output_type": "execute_result"
    }
   ],
   "source": [
    "# 查看数据\n",
    "dataset['train'][0]"
   ]
  },
  {
   "cell_type": "markdown",
   "id": "ebb2f04f-d7bb-4b66-b8ec-7b5c00197e3f",
   "metadata": {},
   "source": [
    "# 训练词向量"
   ]
  },
  {
   "cell_type": "code",
   "execution_count": 3,
   "id": "5a9177c2-f471-4ecc-8ea3-84b623b1401e",
   "metadata": {
    "execution": {
     "iopub.execute_input": "2024-07-25T11:01:51.446257Z",
     "iopub.status.busy": "2024-07-25T11:01:51.445738Z",
     "iopub.status.idle": "2024-07-25T11:01:53.139780Z",
     "shell.execute_reply": "2024-07-25T11:01:53.138699Z",
     "shell.execute_reply.started": "2024-07-25T11:01:51.446206Z"
    }
   },
   "outputs": [],
   "source": [
    "import re\n",
    "from d2l import torch as d2l\n",
    "from gensim.models import word2vec"
   ]
  },
  {
   "cell_type": "code",
   "execution_count": 8,
   "id": "263e89cf-0c6a-4cb6-9541-a65b815297df",
   "metadata": {
    "execution": {
     "iopub.execute_input": "2024-07-24T07:19:27.616860Z",
     "iopub.status.busy": "2024-07-24T07:19:27.616429Z",
     "iopub.status.idle": "2024-07-24T07:19:41.334745Z",
     "shell.execute_reply": "2024-07-24T07:19:41.333655Z",
     "shell.execute_reply.started": "2024-07-24T07:19:27.616834Z"
    }
   },
   "outputs": [
    {
     "name": "stdout",
     "output_type": "stream",
     "text": [
      "前提和假设, 一共有 1098734 条文本\n"
     ]
    }
   ],
   "source": [
    "# 预处理训练数据集中的所有前提和假设文本，用于训练词向量\n",
    "def process(sentence):\n",
    "    sentence = re.sub(r'[^0-9a-zA-Z]', ' ', sentence)\n",
    "    sentence = re.sub('\\\\s{2,}', ' ', sentence)\n",
    "    return sentence\n",
    "\n",
    "premise = [process(sen) for sen in dataset['train']['premise']]\n",
    "hypothesis = [process(sen) for sen in dataset['train']['hypothesis']]\n",
    "\n",
    "# d2l.tokenize 函数将文本行拆分为单词列表\n",
    "all_word_tokens = d2l.tokenize(premise + hypothesis)\n",
    "print(\"前提和假设, 一共有 %d 条文本\" %len(all_word_tokens))"
   ]
  },
  {
   "cell_type": "code",
   "execution_count": 10,
   "id": "501bf0a8-e588-4acf-a6e9-1010ffb37d05",
   "metadata": {
    "execution": {
     "iopub.execute_input": "2024-07-24T07:23:45.629853Z",
     "iopub.status.busy": "2024-07-24T07:23:45.629419Z",
     "iopub.status.idle": "2024-07-24T07:23:45.690307Z",
     "shell.execute_reply": "2024-07-24T07:23:45.689400Z",
     "shell.execute_reply.started": "2024-07-24T07:23:45.629813Z"
    }
   },
   "outputs": [],
   "source": [
    "# 训练词向量, 保存模型\n",
    "file_path = '/root/autodl-tmp/fam_classifier/snli/'\n",
    "model = word2vec.Word2Vec(sentences=all_word_tokens, vector_size=512, sg=1, min_count=5)\n",
    "print(f'词向量模型中保存的单词数量为 {len(model.wv.index_to_key)}')\n",
    "model.save(file_path + \"snli_word_vec_sg.bin\")"
   ]
  },
  {
   "cell_type": "markdown",
   "id": "1ecde7c7-5e12-43a6-bf95-059be1324060",
   "metadata": {},
   "source": [
    "# 因子分析"
   ]
  },
  {
   "cell_type": "code",
   "execution_count": 11,
   "id": "b38d72e2-494c-4dc3-be39-5d00b860190f",
   "metadata": {
    "execution": {
     "iopub.execute_input": "2024-07-24T07:24:29.614722Z",
     "iopub.status.busy": "2024-07-24T07:24:29.614247Z",
     "iopub.status.idle": "2024-07-24T07:24:29.678201Z",
     "shell.execute_reply": "2024-07-24T07:24:29.677131Z",
     "shell.execute_reply.started": "2024-07-24T07:24:29.614679Z"
    }
   },
   "outputs": [],
   "source": [
    "import numpy as np\n",
    "import pandas as pd\n",
    "import matplotlib.pyplot as plt\n",
    "import seaborn as sns\n",
    "import math\n",
    "# from gensim.models import word2vec\n",
    "from factor_analyzer import FactorAnalyzer\n",
    "from factor_analyzer.factor_analyzer import calculate_bartlett_sphericity,calculate_kmo"
   ]
  },
  {
   "cell_type": "code",
   "execution_count": 12,
   "id": "bfea2e36-7de2-4fd3-b70c-cd8cdb36d1d2",
   "metadata": {
    "execution": {
     "iopub.execute_input": "2024-07-24T07:24:35.788467Z",
     "iopub.status.busy": "2024-07-24T07:24:35.788003Z",
     "iopub.status.idle": "2024-07-24T07:24:35.963666Z",
     "shell.execute_reply": "2024-07-24T07:24:35.962546Z",
     "shell.execute_reply.started": "2024-07-24T07:24:35.788441Z"
    }
   },
   "outputs": [],
   "source": [
    "# 加载 word2vector 模型\n",
    "model = word2vec.Word2Vec.load(file_path + 'snli_word_vec_sg.bin')"
   ]
  },
  {
   "cell_type": "code",
   "execution_count": 13,
   "id": "5b1e29de-cee3-4f57-aa6d-774952f6c8e5",
   "metadata": {
    "execution": {
     "iopub.execute_input": "2024-07-24T07:24:39.164137Z",
     "iopub.status.busy": "2024-07-24T07:24:39.163657Z",
     "iopub.status.idle": "2024-07-24T07:24:39.234968Z",
     "shell.execute_reply": "2024-07-24T07:24:39.233834Z",
     "shell.execute_reply.started": "2024-07-24T07:24:39.164110Z"
    }
   },
   "outputs": [
    {
     "name": "stdout",
     "output_type": "stream",
     "text": [
      "词向量矩阵尺寸: (18013, 512)\n",
      "单词film:  2799 [-0.00724013 -0.10913222  0.04341228  0.11346389  0.16254008  0.0366252\n",
      " -0.44656247 -0.39848262  0.21697992  0.18219218  0.11924364 -0.32960695\n",
      "  0.04791654 -0.18406308  0.1931095   0.3777498  -0.3930081  -0.3743648\n",
      "  0.19197209  0.03161134  0.1955071   0.02634477 -0.1414992  -0.06041318\n",
      "  0.08276789 -0.01444112 -0.07045831 -0.04761468 -0.08272061  0.17852792\n",
      "  0.14226787 -0.07250947  0.07479661 -0.03815974 -0.08395808  0.16449836\n",
      " -0.01970773  0.2817188   0.03026474 -0.04028096  0.12275925 -0.05409699\n",
      "  0.12422354  0.02302836  0.07309227 -0.08715077  0.1813989  -0.0318147\n",
      "  0.03556602  0.00153483 -0.1545816   0.07308168 -0.16077708  0.10873608\n",
      " -0.0785303  -0.13141859 -0.12233703 -0.15875275 -0.14376798 -0.05250243\n",
      "  0.03379635 -0.06930894 -0.12644704 -0.05671006  0.04789349 -0.05730378\n",
      "  0.14501455  0.08123948 -0.1319076  -0.05425244  0.15634419  0.00714099\n",
      "  0.19172099  0.05201561 -0.30197665  0.05441812 -0.07388601 -0.14998175\n",
      " -0.21916898 -0.12646532 -0.0050908  -0.36063597 -0.04205389 -0.08187011\n",
      " -0.12498243  0.36061952  0.43192765 -0.18089095  0.15006524  0.00230044\n",
      " -0.0288619  -0.25942516  0.04505177  0.02785424  0.32419255 -0.1605745\n",
      " -0.30842876  0.23455583  0.18425357  0.04238112 -0.3790455   0.42308462\n",
      "  0.26000836  0.32459986  0.03830529 -0.12061467 -0.01780754  0.46967041\n",
      " -0.3817448   0.18041441  0.22527647 -0.25936383 -0.07226773  0.08407415\n",
      " -0.04020753  0.17076387 -0.18683225  0.07128904  0.18999949  0.09654664\n",
      " -0.11287662 -0.02778332  0.26885387  0.10167358  0.22636154  0.08757518\n",
      "  0.02515    -0.10883196  0.05697408 -0.06545642 -0.39856464  0.34588864\n",
      "  0.04383192  0.01875679  0.13830286  0.13143834  0.22334833  0.212665\n",
      "  0.05986759 -0.12602991  0.10819764 -0.00819734 -0.06416443 -0.11653417\n",
      "  0.25154784 -0.19276866  0.25475356 -0.18198612 -0.10747135  0.22860105\n",
      "  0.12758623  0.24750926  0.06935766 -0.05295664 -0.34985116  0.33730638\n",
      " -0.12436326 -0.00206784 -0.01291893 -0.27878433  0.21177828 -0.07643565\n",
      "  0.0155774  -0.14858338  0.02685327  0.05835678 -0.09483315  0.0454239\n",
      " -0.03931408 -0.14640543  0.03242754 -0.18542549 -0.34523287  0.07390448\n",
      "  0.13629246 -0.02503368 -0.12548283 -0.10826403 -0.0497453   0.17452125\n",
      " -0.19078603 -0.15732923 -0.0405139  -0.18581577 -0.04682194  0.01919356\n",
      " -0.13363467 -0.13703956  0.06665279 -0.37986457 -0.19924149 -0.03282305\n",
      "  0.11555008  0.03054341  0.02304407  0.05500232  0.00426367 -0.2290007\n",
      "  0.07161702  0.36094102 -0.04091717 -0.18398875  0.23354168  0.06118817\n",
      " -0.3013928   0.21517219 -0.05727913 -0.14867854  0.13981387  0.14681607\n",
      "  0.07945487  0.01567235  0.20811106 -0.00300701  0.0826904  -0.08530796\n",
      " -0.03305814  0.03976002 -0.07138764 -0.00186167  0.02053483 -0.12061897\n",
      " -0.08548953 -0.01947524 -0.03821314  0.10282766 -0.21039556  0.27326965\n",
      " -0.00910157 -0.04648344 -0.26255587  0.09274399  0.10413831  0.16850728\n",
      " -0.00870333 -0.10048285  0.01559814  0.05520703 -0.01057776  0.13906613\n",
      "  0.06477882 -0.23797505 -0.0399175   0.07255229  0.26724187  0.05187508\n",
      " -0.16840383 -0.04982454  0.03393652 -0.2652795  -0.04336929 -0.02417649\n",
      " -0.00954004 -0.00680063 -0.31240293  0.16828589  0.16875273  0.03195652\n",
      "  0.09628756  0.04486657  0.04324846 -0.06398717  0.2009588  -0.12083258\n",
      "  0.18199427  0.08736074 -0.13424067  0.12084425 -0.13991001 -0.13129486\n",
      "  0.2696796  -0.29492423  0.44252607 -0.14891356 -0.02518122  0.2215416\n",
      "  0.09485829  0.13469431 -0.3453663  -0.45818216 -0.03329896  0.1713052\n",
      "  0.05129045 -0.41157106 -0.23413764  0.0542752  -0.01933779 -0.10704787\n",
      " -0.22122577 -0.2505974   0.22649439  0.04403911  0.29183906 -0.14938793\n",
      "  0.08789188 -0.356651    0.11296092  0.08634463 -0.35211    -0.01782246\n",
      "  0.17332876 -0.08658657 -0.01395866 -0.16155745 -0.29373038 -0.02193171\n",
      " -0.02980238 -0.06797609  0.5039455  -0.06690145 -0.09529506 -0.1925704\n",
      " -0.03976709 -0.22144572  0.00483366 -0.19265129 -0.10456041  0.04545118\n",
      " -0.10634086  0.02683384 -0.1794312   0.24527343  0.00372775 -0.08113372\n",
      " -0.1359761   0.00558376 -0.02869986 -0.0976849   0.04152109 -0.19758333\n",
      "  0.0080957  -0.07662253 -0.01837039  0.3292974   0.1523867   0.07546803\n",
      " -0.08564474  0.37398136  0.09797744  0.17047352 -0.20902455  0.13319361\n",
      " -0.03494114 -0.16743577  0.2154981  -0.21362832 -0.02833221 -0.1289173\n",
      "  0.34395     0.07669928 -0.2850331  -0.22033478 -0.11988442 -0.0507255\n",
      "  0.06491288 -0.38726652  0.09409319 -0.24942096 -0.28801918  0.20420167\n",
      " -0.00248123 -0.17287794 -0.03316295 -0.13328119 -0.15986411 -0.00069359\n",
      "  0.00676862  0.05607408  0.1844595  -0.15123172 -0.22213191 -0.10799511\n",
      "  0.15409605  0.23172742 -0.01429321  0.07243502 -0.02718577  0.19392408\n",
      " -0.03021429 -0.27399075 -0.01136903 -0.04359321  0.5406594   0.16562063\n",
      "  0.04436414 -0.30906498  0.21604432  0.30635786  0.19412407  0.00607496\n",
      " -0.0097793  -0.05637009  0.22045428 -0.02520612  0.07668597 -0.12506343\n",
      " -0.15664864  0.2049601  -0.11635546 -0.10759883  0.3484615  -0.19761541\n",
      "  0.05701193  0.0350861   0.24116933  0.15570833  0.03315337 -0.03404531\n",
      " -0.15017876 -0.08354609  0.21995357 -0.06122264 -0.20712411 -0.08919608\n",
      "  0.1622525  -0.07300252 -0.02346354 -0.2019905   0.13055308  0.1760922\n",
      " -0.27749148 -0.13190944  0.2691276   0.27188003  0.22298256 -0.13703294\n",
      "  0.18684822 -0.08424792  0.37913835  0.09516671  0.21981314 -0.2224936\n",
      " -0.17484958 -0.4898418   0.01419901 -0.07753266  0.06196646  0.09042101\n",
      "  0.01782101 -0.0741519   0.30253965  0.25051087 -0.18380204  0.19510914\n",
      " -0.06725948  0.02593284 -0.3173731  -0.38709497  0.23043033 -0.07406528\n",
      "  0.16626202  0.01025175 -0.13068044 -0.49984953 -0.029578   -0.2436015\n",
      "  0.08282205 -0.28169587 -0.02969645 -0.4461889   0.05127548  0.03557499\n",
      " -0.1933047   0.39805043  0.49793562 -0.0955086  -0.37469867 -0.18236093\n",
      " -0.01862858  0.23048921  0.15235986  0.00644545  0.00246889 -0.09818686\n",
      "  0.00226712 -0.0355535  -0.06510578  0.2426733  -0.03139491 -0.15933868\n",
      " -0.09656426 -0.14236161 -0.04627136  0.08469629 -0.06002303 -0.01866174\n",
      "  0.27107614 -0.06174008  0.0159062  -0.08368618 -0.01954901 -0.01997526\n",
      " -0.06202228  0.15526271  0.02916037  0.08285064  0.01129447 -0.33548072\n",
      "  0.24161795  0.17869695  0.11362182 -0.02556075  0.26213267 -0.26955763\n",
      " -0.17857064  0.08418646 -0.1761871  -0.10284448  0.03707768 -0.10859295\n",
      "  0.00537287  0.21533334]\n"
     ]
    }
   ],
   "source": [
    "embedding = np.array([model.wv[word] for word in model.wv.index_to_key])\n",
    "print(f\"词向量矩阵尺寸: {embedding.shape}\")\n",
    "# 查看某个单词的词向量\n",
    "print(\"单词film: \", model.wv.key_to_index['film'], model.wv['film'])"
   ]
  },
  {
   "cell_type": "code",
   "execution_count": 14,
   "id": "86f7bdb4-1248-4b67-9856-818295adb3fd",
   "metadata": {
    "execution": {
     "iopub.execute_input": "2024-07-24T07:24:45.312180Z",
     "iopub.status.busy": "2024-07-24T07:24:45.311894Z",
     "iopub.status.idle": "2024-07-24T07:24:45.779850Z",
     "shell.execute_reply": "2024-07-24T07:24:45.778693Z",
     "shell.execute_reply.started": "2024-07-24T07:24:45.312155Z"
    }
   },
   "outputs": [
    {
     "name": "stdout",
     "output_type": "stream",
     "text": [
      "Bartlett's球状检验: 检验总体变量的相关矩阵是否是单位阵\n",
      "8436164.25914173 0.0\n",
      "kmo检验:\n",
      "检查变量间的相关性和偏相关性，取值在0-1之间；KMO统计量越接近1，变量间的相关性越强，偏相关性越弱，因子分析的效果越好\n",
      "KMO值为:  0.3837290706272836\n"
     ]
    },
    {
     "name": "stderr",
     "output_type": "stream",
     "text": [
      "/root/miniconda3/lib/python3.8/site-packages/factor_analyzer/utils.py:244: UserWarning: The inverse of the variance-covariance matrix was calculated using the Moore-Penrose generalized matrix inversion, due to its determinant being at or very close to zero.\n",
      "  warnings.warn(\n"
     ]
    }
   ],
   "source": [
    "# Bartlett's球状检验\n",
    "print('Bartlett\\'s球状检验: 检验总体变量的相关矩阵是否是单位阵')\n",
    "chi_square_value, p_value = calculate_bartlett_sphericity(embedding)\n",
    "print(chi_square_value, p_value)\n",
    "\n",
    "# 导入kmo检验\n",
    "print('kmo检验:')\n",
    "print('检查变量间的相关性和偏相关性，取值在0-1之间；KMO统计量越接近1，变量间的相关性越强，偏相关性越弱，因子分析的效果越好')\n",
    "kmo_all, kmo_model = calculate_kmo(embedding)\n",
    "print('KMO值为: ', kmo_model)"
   ]
  },
  {
   "cell_type": "code",
   "execution_count": 15,
   "id": "0bd177e8-0f2e-47d0-b35a-e6597f2ba0c0",
   "metadata": {
    "execution": {
     "iopub.execute_input": "2024-07-24T07:24:51.091537Z",
     "iopub.status.busy": "2024-07-24T07:24:51.091244Z",
     "iopub.status.idle": "2024-07-24T07:29:00.179598Z",
     "shell.execute_reply": "2024-07-24T07:29:00.178513Z",
     "shell.execute_reply.started": "2024-07-24T07:24:51.091513Z"
    }
   },
   "outputs": [
    {
     "name": "stdout",
     "output_type": "stream",
     "text": [
      "******开始因子分析******\n"
     ]
    }
   ],
   "source": [
    "print('******开始因子分析******')\n",
    "fa = FactorAnalyzer(25, rotation='varimax')\n",
    "fa.fit(embedding)\n",
    "\n",
    "# 特征值、特征向量\n",
    "ev, v = fa.get_eigenvalues()"
   ]
  },
  {
   "cell_type": "code",
   "execution_count": 16,
   "id": "c7ac4922-999e-43ae-9c46-f9f7bf4bbac4",
   "metadata": {
    "execution": {
     "iopub.execute_input": "2024-07-24T07:36:01.189664Z",
     "iopub.status.busy": "2024-07-24T07:36:01.189381Z",
     "iopub.status.idle": "2024-07-24T07:36:01.361263Z",
     "shell.execute_reply": "2024-07-24T07:36:01.360452Z",
     "shell.execute_reply.started": "2024-07-24T07:36:01.189640Z"
    }
   },
   "outputs": [
    {
     "data": {
      "image/png": "[encoded data removed]",
      "text/plain": [
       "<Figure size 640x480 with 1 Axes>"
      ]
     },
     "metadata": {},
     "output_type": "display_data"
    }
   ],
   "source": [
    "# 可视化, plot横轴是指标个数，纵轴是ev值\n",
    "plt.scatter(range(1, embedding.shape[1]+1), ev)\n",
    "plt.plot(range(1, embedding.shape[1]+1), ev)\n",
    "plt.title('Scree Plot')\n",
    "plt.xlabel('Factors')\n",
    "plt.ylabel('Eigenvalue')\n",
    "plt.grid()\n",
    "plt.show()\n",
    "# plt.savefig('ev.png')"
   ]
  },
  {
   "cell_type": "code",
   "execution_count": 17,
   "id": "ecb3dd4d-3b76-47d0-97d6-a71092b142c2",
   "metadata": {
    "execution": {
     "iopub.execute_input": "2024-07-24T07:36:03.724026Z",
     "iopub.status.busy": "2024-07-24T07:36:03.723553Z",
     "iopub.status.idle": "2024-07-24T07:36:03.890304Z",
     "shell.execute_reply": "2024-07-24T07:36:03.889481Z",
     "shell.execute_reply.started": "2024-07-24T07:36:03.724000Z"
    }
   },
   "outputs": [
    {
     "data": {
      "image/png": "[encoded data removed]",
      "text/plain": [
       "<Figure size 640x480 with 1 Axes>"
      ]
     },
     "metadata": {},
     "output_type": "display_data"
    }
   ],
   "source": [
    "# 前三十\n",
    "plt.scatter(range(1, 31), ev[:30])\n",
    "plt.plot(range(1, 31), ev[:30])\n",
    "plt.title('Scree Plot')\n",
    "plt.xlabel('Factors')\n",
    "plt.ylabel('Eigenvalue')\n",
    "plt.grid()\n",
    "plt.show()\n",
    "# plt.savefig(file_path + 'ev30.png')"
   ]
  },
  {
   "cell_type": "code",
   "execution_count": 18,
   "id": "7ec225c7-6ac5-4962-8195-02fb333f2399",
   "metadata": {
    "execution": {
     "iopub.execute_input": "2024-07-24T07:37:05.991389Z",
     "iopub.status.busy": "2024-07-24T07:37:05.990899Z",
     "iopub.status.idle": "2024-07-24T07:41:47.567361Z",
     "shell.execute_reply": "2024-07-24T07:41:47.566282Z",
     "shell.execute_reply.started": "2024-07-24T07:37:05.991363Z"
    }
   },
   "outputs": [
    {
     "name": "stdout",
     "output_type": "stream",
     "text": [
      "(512, 8)\n"
     ]
    }
   ],
   "source": [
    "# 8 个因子头的因子分析\n",
    "fa = FactorAnalyzer(8, rotation=\"promax\")\n",
    "fa.fit(embedding)\n",
    "print(fa.loadings_.shape)\n",
    "# 512*8 (变量个数*因子个数)\n",
    "index = fa.loadings_.argmax(axis=1)\n",
    "res = np.array([[i, idx] for i, idx in enumerate(index)])\n",
    "\n",
    "data_1 = pd.DataFrame(fa.loadings_, columns=['fa1', 'fa2', 'fa3', 'fa4', 'fa5', 'fa6', 'fa7', 'fa8'])\n",
    "data_2 = pd.DataFrame(res, columns=['Dimension', 'Factor'])\n",
    "with pd.ExcelWriter(file_path + \"snliFA.xlsx\") as writer1:\n",
    "    data_1.to_excel(writer1, sheet_name=\"Sheet1\")\n",
    "    data_2.to_excel(writer1, sheet_name=\"Sheet2\")\n",
    "    writer1.save()"
   ]
  },
  {
   "cell_type": "code",
   "execution_count": 19,
   "id": "c8c54e37-20d3-4b50-9de1-404e734c130c",
   "metadata": {
    "execution": {
     "iopub.execute_input": "2024-07-24T07:41:57.364313Z",
     "iopub.status.busy": "2024-07-24T07:41:57.363533Z",
     "iopub.status.idle": "2024-07-24T07:41:58.624465Z",
     "shell.execute_reply": "2024-07-24T07:41:58.623446Z",
     "shell.execute_reply.started": "2024-07-24T07:41:57.364282Z"
    }
   },
   "outputs": [
    {
     "data": {
      "text/plain": [
       "Text(120.72222222222221, 0.5, 'Dimension')"
      ]
     },
     "execution_count": 19,
     "metadata": {},
     "output_type": "execute_result"
    },
    {
     "data": {
      "image/png": "[encoded data removed]",
      "text/plain": [
       "<Figure size 1200x2500 with 2 Axes>"
      ]
     },
     "metadata": {},
     "output_type": "display_data"
    }
   ],
   "source": [
    "# 因子分析结果可视化\n",
    "df_cm = pd.DataFrame(np.abs(fa.loadings_))\n",
    "fig, ax = plt.subplots(figsize=(12, 25))\n",
    "sns.heatmap(df_cm, annot=None, cmap='YlGnBu', ax=ax)  # cbar_kws\n",
    "\n",
    "ax.tick_params(axis='x', labelsize=15)\n",
    "ax.set_title(\"Factor Analysis\", fontsize=12)\n",
    "ax.set_ylabel(\"Dimension\")"
   ]
  },
  {
   "cell_type": "code",
   "execution_count": 20,
   "id": "20783809-13c1-4c96-afcb-fe885bd64d00",
   "metadata": {
    "execution": {
     "iopub.execute_input": "2024-07-24T07:42:15.926791Z",
     "iopub.status.busy": "2024-07-24T07:42:15.926313Z",
     "iopub.status.idle": "2024-07-24T07:42:16.014300Z",
     "shell.execute_reply": "2024-07-24T07:42:16.013504Z",
     "shell.execute_reply.started": "2024-07-24T07:42:15.926764Z"
    }
   },
   "outputs": [
    {
     "data": {
      "text/plain": [
       "<Figure size 640x480 with 0 Axes>"
      ]
     },
     "metadata": {},
     "output_type": "display_data"
    }
   ],
   "source": [
    "# 保存可视化结果图\n",
    "plt.savefig(file_path + 'snli_dimension.png')"
   ]
  },
  {
   "cell_type": "markdown",
   "id": "14475064-3f51-452b-9db7-581a88711f82",
   "metadata": {},
   "source": [
    "# 模型架构"
   ]
  },
  {
   "cell_type": "code",
   "execution_count": 4,
   "id": "5512a4d7-b891-499e-aa9b-8a8e048b6978",
   "metadata": {
    "execution": {
     "iopub.execute_input": "2024-07-25T11:01:58.065677Z",
     "iopub.status.busy": "2024-07-25T11:01:58.065242Z",
     "iopub.status.idle": "2024-07-25T11:01:58.070824Z",
     "shell.execute_reply": "2024-07-25T11:01:58.070040Z",
     "shell.execute_reply.started": "2024-07-25T11:01:58.065651Z"
    }
   },
   "outputs": [],
   "source": [
    "import torch\n",
    "from torch import nn\n",
    "import numpy as np\n",
    "import pandas as pd\n",
    "from d2l import torch as d2l\n",
    "import matplotlib.pyplot as plt\n",
    "from datasets import load_dataset\n",
    "from tqdm import tqdm\n",
    "import time\n",
    "import math\n",
    "from collections import Counter\n",
    "# import re\n",
    "# from gensim.models import word2vec"
   ]
  },
  {
   "cell_type": "markdown",
   "id": "52fa90ed-cee4-4e37-9d2f-f8ce59cf0941",
   "metadata": {},
   "source": [
    "## FAM"
   ]
  },
  {
   "cell_type": "code",
   "execution_count": 5,
   "id": "10c27d02-2e2d-4f55-b73c-e208b37c63ca",
   "metadata": {
    "execution": {
     "iopub.execute_input": "2024-07-25T05:34:41.456977Z",
     "iopub.status.busy": "2024-07-25T05:34:41.456462Z",
     "iopub.status.idle": "2024-07-25T05:34:41.525619Z",
     "shell.execute_reply": "2024-07-25T05:34:41.524435Z",
     "shell.execute_reply.started": "2024-07-25T05:34:41.456928Z"
    }
   },
   "outputs": [],
   "source": [
    "class FamAttention(nn.Module):\n",
    "    \"\"\"修改多头注意力，针对嵌入512维，8个head的模型\"\"\"\n",
    "    def __init__(self, num_hiddens, dim_dict, dropout, bias=False, **kwargs):\n",
    "        super(FamAttention, self).__init__(**kwargs)\n",
    "        self.attention = d2l.DotProductAttention(dropout)\n",
    "        self.W_o = nn.Linear(num_hiddens, num_hiddens, bias=bias)\n",
    "        self.dim_dict = dim_dict\n",
    "        self.dim_0 = [dim for dim, idx in self.dim_dict.items() if idx == 0]\n",
    "        self.dim_1 = [dim for dim, idx in self.dim_dict.items() if idx == 1]\n",
    "        self.dim_2 = [dim for dim, idx in self.dim_dict.items() if idx == 2]\n",
    "        self.dim_3 = [dim for dim, idx in self.dim_dict.items() if idx == 3]\n",
    "        self.dim_4 = [dim for dim, idx in self.dim_dict.items() if idx == 4]\n",
    "        self.dim_5 = [dim for dim, idx in self.dim_dict.items() if idx == 5]\n",
    "        self.dim_6 = [dim for dim, idx in self.dim_dict.items() if idx == 6]\n",
    "        self.dim_7 = [dim for dim, idx in self.dim_dict.items() if idx == 7]\n",
    "        # self.list_concat = torch.cat((self.dim_0, self.dim_1, self.dim_2, self.dim_3, self.dim_4, self.dim_5,\n",
    "        # self.dim_6, self.dim_7))\n",
    "        self.len_0, self.len_1, self.len_2, self.len_3, self.len_4, self.len_5, self.len_6, self.len_7 = len(\n",
    "            self.dim_0), len(self.dim_1), len(self.dim_2), len(self.dim_3), len(self.dim_4), len(self.dim_5),\\\n",
    "            len(self.dim_6), len(self.dim_7)\n",
    "\n",
    "        self.Wq0 = nn.Linear(self.len_0, self.len_0, bias=bias)\n",
    "        self.Wq1 = nn.Linear(self.len_1, self.len_1, bias=bias)\n",
    "        self.Wq2 = nn.Linear(self.len_2, self.len_2, bias=bias)\n",
    "        self.Wq3 = nn.Linear(self.len_3, self.len_3, bias=bias)\n",
    "        self.Wq4 = nn.Linear(self.len_4, self.len_4, bias=bias)\n",
    "        self.Wq5 = nn.Linear(self.len_5, self.len_5, bias=bias)\n",
    "        self.Wq6 = nn.Linear(self.len_6, self.len_6, bias=bias)\n",
    "        self.Wq7 = nn.Linear(self.len_7, self.len_7, bias=bias)\n",
    "\n",
    "        self.Wk0 = nn.Linear(self.len_0, self.len_0, bias=bias)\n",
    "        self.Wk1 = nn.Linear(self.len_1, self.len_1, bias=bias)\n",
    "        self.Wk2 = nn.Linear(self.len_2, self.len_2, bias=bias)\n",
    "        self.Wk3 = nn.Linear(self.len_3, self.len_3, bias=bias)\n",
    "        self.Wk4 = nn.Linear(self.len_4, self.len_4, bias=bias)\n",
    "        self.Wk5 = nn.Linear(self.len_5, self.len_5, bias=bias)\n",
    "        self.Wk6 = nn.Linear(self.len_6, self.len_6, bias=bias)\n",
    "        self.Wk7 = nn.Linear(self.len_7, self.len_7, bias=bias)\n",
    "\n",
    "        self.Wv0 = nn.Linear(self.len_0, self.len_0, bias=bias)\n",
    "        self.Wv1 = nn.Linear(self.len_1, self.len_1, bias=bias)\n",
    "        self.Wv2 = nn.Linear(self.len_2, self.len_2, bias=bias)\n",
    "        self.Wv3 = nn.Linear(self.len_3, self.len_3, bias=bias)\n",
    "        self.Wv4 = nn.Linear(self.len_4, self.len_4, bias=bias)\n",
    "        self.Wv5 = nn.Linear(self.len_5, self.len_5, bias=bias)\n",
    "        self.Wv6 = nn.Linear(self.len_6, self.len_6, bias=bias)\n",
    "        self.Wv7 = nn.Linear(self.len_7, self.len_7, bias=bias)\n",
    "\n",
    "    def forward(self, queries, keys, values, valid_lens):\n",
    "        def assemble(output_concat, list_concat):\n",
    "            reslist = []\n",
    "            for i in range(512):\n",
    "                reslist.append(list_concat.index(i))\n",
    "            return torch.index_select(output_concat, -1, torch.tensor(reslist, device=output_concat.device))\n",
    "\n",
    "        # queries, keys, values的形状: (batch_size，查询或者“键－值”对的个数，num_hiddens)\n",
    "        # qi, ki, vi的形状：(batch_size, 查询或者“键－值”对的个数， self.len_i)\n",
    "        q0, k0, v0 = torch.index_select(queries, -1, torch.tensor(self.dim_0, device=queries.device)), \\\n",
    "            torch.index_select(keys, -1, torch.tensor(self.dim_0, device=keys.device)), torch.index_select(\n",
    "            values, -1, torch.tensor(self.dim_0, device=values.device))\n",
    "        q1, k1, v1 = torch.index_select(queries, -1, torch.tensor(self.dim_1, device=queries.device)), \\\n",
    "            torch.index_select(keys, -1, torch.tensor(self.dim_1, device=keys.device)), torch.index_select(\n",
    "            values, -1, torch.tensor(self.dim_1, device=values.device))\n",
    "        q2, k2, v2 = torch.index_select(queries, -1, torch.tensor(self.dim_2, device=queries.device)), \\\n",
    "            torch.index_select(keys, -1, torch.tensor(self.dim_2, device=keys.device)), torch.index_select(\n",
    "            values, -1, torch.tensor(self.dim_2, device=values.device))\n",
    "        q3, k3, v3 = torch.index_select(queries, -1, torch.tensor(self.dim_3, device=queries.device)), \\\n",
    "            torch.index_select(keys, -1, torch.tensor(self.dim_3, device=keys.device)), torch.index_select(\n",
    "            values, -1, torch.tensor(self.dim_3, device=values.device))\n",
    "        q4, k4, v4 = torch.index_select(queries, -1, torch.tensor(self.dim_4, device=queries.device)), \\\n",
    "            torch.index_select(keys, -1, torch.tensor(self.dim_4, device=keys.device)), torch.index_select(\n",
    "            values, -1, torch.tensor(self.dim_4, device=values.device))\n",
    "        q5, k5, v5 = torch.index_select(queries, -1, torch.tensor(self.dim_5, device=queries.device)), \\\n",
    "            torch.index_select(keys, -1, torch.tensor(self.dim_5, device=keys.device)), torch.index_select(\n",
    "            values, -1, torch.tensor(self.dim_5, device=values.device))\n",
    "        q6, k6, v6 = torch.index_select(queries, -1, torch.tensor(self.dim_6, device=queries.device)), \\\n",
    "            torch.index_select(keys, -1, torch.tensor(self.dim_6, device=keys.device)), torch.index_select(\n",
    "            values, -1, torch.tensor(self.dim_6, device=values.device))\n",
    "        q7, k7, v7 = torch.index_select(queries, -1, torch.tensor(self.dim_7, device=queries.device)), \\\n",
    "            torch.index_select(keys, -1, torch.tensor(self.dim_7, device=keys.device)), torch.index_select(\n",
    "            values, -1, torch.tensor(self.dim_7, device=values.device))\n",
    "\n",
    "        head0 = self.attention(self.Wq0(q0), self.Wk0(k0), self.Wv0(v0), valid_lens)\n",
    "        head1 = self.attention(self.Wq1(q1), self.Wk1(k1), self.Wv1(v1), valid_lens)\n",
    "        head2 = self.attention(self.Wq2(q2), self.Wk2(k2), self.Wv2(v2), valid_lens)\n",
    "        head3 = self.attention(self.Wq3(q3), self.Wk3(k3), self.Wv3(v3), valid_lens)\n",
    "        head4 = self.attention(self.Wq4(q4), self.Wk4(k4), self.Wv4(v4), valid_lens)\n",
    "        head5 = self.attention(self.Wq5(q5), self.Wk5(k5), self.Wv5(v5), valid_lens)\n",
    "        head6 = self.attention(self.Wq6(q6), self.Wk6(k6), self.Wv6(v6), valid_lens)\n",
    "        head7 = self.attention(self.Wq7(q7), self.Wk7(k7), self.Wv7(v7), valid_lens)\n",
    "\n",
    "        output_concat = torch.cat((head0, head1, head2, head3, head4, head5, head6, head7), dim=-1)\n",
    "        list_concat = self.dim_0 + self.dim_1 + self.dim_2 + self.dim_3 + self.dim_4 + self.dim_5 + self.dim_6 + self.dim_7\n",
    "        return self.W_o(assemble(output_concat, list_concat))"
   ]
  },
  {
   "cell_type": "code",
   "execution_count": 6,
   "id": "a8dcc73b-6e07-46de-8f37-80a24df9dad4",
   "metadata": {
    "execution": {
     "iopub.execute_input": "2024-07-25T05:34:42.900530Z",
     "iopub.status.busy": "2024-07-25T05:34:42.900134Z",
     "iopub.status.idle": "2024-07-25T05:34:42.906974Z",
     "shell.execute_reply": "2024-07-25T05:34:42.906158Z",
     "shell.execute_reply.started": "2024-07-25T05:34:42.900505Z"
    }
   },
   "outputs": [],
   "source": [
    "# 编码器块\n",
    "class EncoderBlock(nn.Module):\n",
    "    \"\"\"transformer编码器块\"\"\"\n",
    "\n",
    "    def __init__(self, num_hiddens, norm_shape, ffn_num_input,\n",
    "                 ffn_num_hiddens, dim_dict, dropout, use_bias=False, **kwargs):\n",
    "        super(EncoderBlock, self).__init__(**kwargs)\n",
    "        self.attention = FamAttention(num_hiddens, dim_dict, dropout, use_bias)\n",
    "        self.addnorm1 = d2l.AddNorm(norm_shape, dropout)\n",
    "        self.ffn = d2l.PositionWiseFFN(\n",
    "            ffn_num_input, ffn_num_hiddens, num_hiddens)\n",
    "        self.addnorm2 = d2l.AddNorm(norm_shape, dropout)\n",
    "\n",
    "    def forward(self, X, valid_lens):\n",
    "        Y = self.addnorm1(X, self.attention(X, X, X, valid_lens))\n",
    "        return self.addnorm2(Y, self.ffn(Y))"
   ]
  },
  {
   "cell_type": "code",
   "execution_count": 7,
   "id": "0d296b9f-e400-4058-a1a7-8ed8ebb1a897",
   "metadata": {
    "execution": {
     "iopub.execute_input": "2024-07-25T05:34:44.667625Z",
     "iopub.status.busy": "2024-07-25T05:34:44.667271Z",
     "iopub.status.idle": "2024-07-25T05:34:44.678143Z",
     "shell.execute_reply": "2024-07-25T05:34:44.677034Z",
     "shell.execute_reply.started": "2024-07-25T05:34:44.667594Z"
    }
   },
   "outputs": [],
   "source": [
    "class FamEncoder(nn.Module):\n",
    "    \"\"\"采用BERT编码器结构\"\"\"\n",
    "    def __init__(self, vocab_size, num_hiddens, norm_shape, ffn_num_input,\n",
    "                 ffn_num_hiddens, dim_dict, num_layers, dropout, max_len=128,\n",
    "                 **kwargs):\n",
    "        super(FamEncoder, self).__init__(**kwargs)\n",
    "        self.token_embedding = nn.Embedding(vocab_size, num_hiddens)\n",
    "        self.segment_embedding = nn.Embedding(2, num_hiddens)\n",
    "        self.blks = nn.Sequential()\n",
    "        self.agg_layer = nn.Sequential(nn.Linear(num_hiddens, num_hiddens),\n",
    "                                      nn.ReLU())\n",
    "        self.output = nn.Linear(num_hiddens, 3)\n",
    "        for i in range(num_layers):\n",
    "            self.blks.add_module(f\"{i}\", EncoderBlock(\n",
    "                num_hiddens, norm_shape, ffn_num_input,\n",
    "                ffn_num_hiddens, dim_dict, dropout, True))\n",
    "        # 在BERT中，位置嵌入是可学习的，因此我们创建一个足够长的位置嵌入参数\n",
    "        self.pos_embedding = nn.Parameter(torch.randn(1, max_len,\n",
    "                                                      num_hiddens))\n",
    "\n",
    "    def forward(self, tokens, segments, valid_lens):\n",
    "        # 在以下代码段中，X的形状保持不变：（批量大小，最大序列长度，num_hiddens）\n",
    "        X = self.token_embedding(tokens) + self.segment_embedding(segments)\n",
    "        X = X + self.pos_embedding.data[:, :X.shape[1], :]\n",
    "        for blk in self.blks:\n",
    "            X = blk(X, valid_lens)\n",
    "        # 取句首'<cls>'标签对应的输出向量用于分类\n",
    "        return self.output(self.agg_layer(X[:, 0, :]))"
   ]
  },
  {
   "cell_type": "markdown",
   "id": "ea9e0c88-fffb-4768-a9bb-c281126e1715",
   "metadata": {},
   "source": [
    "## Baseline"
   ]
  },
  {
   "cell_type": "code",
   "execution_count": 5,
   "id": "4b6d08b8-5964-4415-a0e7-25896c77b45e",
   "metadata": {
    "execution": {
     "iopub.execute_input": "2024-07-25T11:02:00.637845Z",
     "iopub.status.busy": "2024-07-25T11:02:00.637326Z",
     "iopub.status.idle": "2024-07-25T11:02:00.655074Z",
     "shell.execute_reply": "2024-07-25T11:02:00.653960Z",
     "shell.execute_reply.started": "2024-07-25T11:02:00.637794Z"
    }
   },
   "outputs": [],
   "source": [
    "# 常规编码器\n",
    "class BaseEncoder(nn.Module):\n",
    "    \"\"\"采用BERT编码器结构\"\"\"\n",
    "    def __init__(self, vocab_size, num_hiddens, norm_shape, ffn_num_input,\n",
    "                 ffn_num_hiddens, num_heads, num_layers, dropout,\n",
    "                 max_len=128, key_size=512, query_size=512, value_size=512,\n",
    "                 **kwargs):\n",
    "        super(BaseEncoder, self).__init__(**kwargs)\n",
    "        self.token_embedding = nn.Embedding(vocab_size, num_hiddens)\n",
    "        self.segment_embedding = nn.Embedding(2, num_hiddens)\n",
    "        self.blks = nn.Sequential()\n",
    "        self.agg_layer = nn.Sequential(nn.Linear(num_hiddens, num_hiddens),\n",
    "                                      nn.ReLU())\n",
    "        self.output = nn.Linear(num_hiddens, 3)\n",
    "        for i in range(num_layers):\n",
    "            self.blks.add_module(f\"{i}\", d2l.EncoderBlock(\n",
    "                key_size, query_size, value_size, num_hiddens, norm_shape,\n",
    "                ffn_num_input, ffn_num_hiddens, num_heads, dropout, True))\n",
    "        # 在BERT中，位置嵌入是可学习的，因此我们创建一个足够长的位置嵌入参数\n",
    "        self.pos_embedding = nn.Parameter(torch.randn(1, max_len,\n",
    "                                                      num_hiddens))\n",
    "\n",
    "    def forward(self, tokens, segments, valid_lens):\n",
    "        # 在以下代码段中，X的形状保持不变：（批量大小，最大序列长度，num_hiddens）\n",
    "        X = self.token_embedding(tokens) + self.segment_embedding(segments)\n",
    "        X = X + self.pos_embedding.data[:, :X.shape[1], :]\n",
    "        for blk in self.blks:\n",
    "            X = blk(X, valid_lens)\n",
    "        # 取句首'<cls>'标签对应的输出向量用于分类\n",
    "        return self.output(self.agg_layer(X[:, 0, :]))"
   ]
  },
  {
   "cell_type": "markdown",
   "id": "21044199-6f62-49e0-bc12-4d9d33abd9f0",
   "metadata": {},
   "source": [
    "# 训练和测试数据集"
   ]
  },
  {
   "cell_type": "code",
   "execution_count": 6,
   "id": "13788161-755d-4207-a16f-dad86a077e41",
   "metadata": {
    "execution": {
     "iopub.execute_input": "2024-07-25T11:02:02.852768Z",
     "iopub.status.busy": "2024-07-25T11:02:02.851451Z",
     "iopub.status.idle": "2024-07-25T11:02:02.880030Z",
     "shell.execute_reply": "2024-07-25T11:02:02.878615Z",
     "shell.execute_reply.started": "2024-07-25T11:02:02.852706Z"
    }
   },
   "outputs": [],
   "source": [
    "class SNLIBERTDataset(torch.utils.data.Dataset):\n",
    "    def __init__(self, dataset, max_len, vocab=None):\n",
    "        premise = [self._process(sen) for sen in dataset['premise']]\n",
    "        hypothesis = [self._process(sen) for sen in dataset['hypothesis']]\n",
    "        # all_premise_hypothesis_tokens = [d2l.tokenize(sentences)\n",
    "        #     for sentences in [premise, hypothesis]]\n",
    "        all_premise_hypothesis_tokens = [[\n",
    "            p_tokens, h_tokens] for p_tokens, h_tokens in zip(\n",
    "            *[d2l.tokenize(sentences)\n",
    "              for sentences in [premise, hypothesis]])]\n",
    "        self.labels = torch.tensor(dataset['label'])\n",
    "        if vocab is None:\n",
    "            self.vocab = d2l.Vocab(d2l.tokenize(premise + hypothesis), min_freq=5,\n",
    "                                   reserved_tokens=['<pad>', '<cls>', '<pad>', '<sep>'])\n",
    "        else:\n",
    "            self.vocab = vocab\n",
    "        self.max_len = max_len\n",
    "        (self.all_token_ids, self.all_segments,\n",
    "         self.valid_lens) = self._preprocess(all_premise_hypothesis_tokens)\n",
    "        print('read ' + str(len(self.all_token_ids)) + ' examples')\n",
    "\n",
    "    def _process(self, raw_sentences):\n",
    "        raw_sentences = re.sub(r'[^0-9a-zA-Z]', ' ', raw_sentences)\n",
    "        raw_sentences = re.sub('\\\\s{2,}', ' ', raw_sentences)\n",
    "        return raw_sentences\n",
    "\n",
    "    def _preprocess(self, all_premise_hypothesis_tokens):\n",
    "        # pool = multiprocessing.Pool(4)  # 使用4个进程\n",
    "        # out = pool.map(self._mp_worker, all_premise_hypothesis_tokens)\n",
    "        out = list(map(self._mp_worker, all_premise_hypothesis_tokens))\n",
    "        all_token_ids = [\n",
    "            token_ids for token_ids, segments, valid_len in out]\n",
    "        all_segments = [segments for token_ids, segments, valid_len in out]\n",
    "        valid_lens = [valid_len for token_ids, segments, valid_len in out]\n",
    "        return (torch.tensor(all_token_ids, dtype=torch.long),\n",
    "                torch.tensor(all_segments, dtype=torch.long),\n",
    "                torch.tensor(valid_lens))\n",
    "\n",
    "    def _mp_worker(self, premise_hypothesis_tokens):\n",
    "        p_tokens, h_tokens = premise_hypothesis_tokens\n",
    "        self._truncate_pair_of_tokens(p_tokens, h_tokens)\n",
    "        tokens, segments = d2l.get_tokens_and_segments(p_tokens, h_tokens)\n",
    "        token_ids = self.vocab[tokens] + [self.vocab['<pad>']] \\\n",
    "                             * (self.max_len - len(tokens))\n",
    "        segments = segments + [0] * (self.max_len - len(segments))\n",
    "        valid_len = len(tokens)\n",
    "        return token_ids, segments, valid_len\n",
    "\n",
    "    def _truncate_pair_of_tokens(self, p_tokens, h_tokens):\n",
    "        # 为BERT输入中的'<CLS>'、'<SEP>'和'<SEP>'词元保留位置\n",
    "        while len(p_tokens) + len(h_tokens) > self.max_len - 3:\n",
    "            if len(p_tokens) > len(h_tokens):\n",
    "                p_tokens.pop()\n",
    "            else:\n",
    "                h_tokens.pop()\n",
    "\n",
    "    def __getitem__(self, idx):\n",
    "        return (self.all_token_ids[idx], self.all_segments[idx],\n",
    "                self.valid_lens[idx]), self.labels[idx]\n",
    "\n",
    "    def __len__(self):\n",
    "        return len(self.all_token_ids)"
   ]
  },
  {
   "cell_type": "code",
   "execution_count": 7,
   "id": "30ab56af-de28-4e89-8cb7-093c94e9c9bd",
   "metadata": {
    "execution": {
     "iopub.execute_input": "2024-07-25T11:02:04.770482Z",
     "iopub.status.busy": "2024-07-25T11:02:04.769967Z",
     "iopub.status.idle": "2024-07-25T11:02:49.765248Z",
     "shell.execute_reply": "2024-07-25T11:02:49.764273Z",
     "shell.execute_reply.started": "2024-07-25T11:02:04.770432Z"
    }
   },
   "outputs": [
    {
     "name": "stdout",
     "output_type": "stream",
     "text": [
      "read 549367 examples\n",
      "训练集词表大小: 18018\n",
      "read 9824 examples\n",
      "read 9842 examples\n"
     ]
    }
   ],
   "source": [
    "batch_size, max_len = 512, 128\n",
    "train_set = SNLIBERTDataset(dataset['train'], max_len)\n",
    "vocab = train_set.vocab\n",
    "print(f\"训练集词表大小: {len(vocab)}\")\n",
    "test_set = SNLIBERTDataset(dataset['test'], max_len, vocab)\n",
    "validation_set = SNLIBERTDataset(dataset['validation'], max_len, vocab)"
   ]
  },
  {
   "cell_type": "code",
   "execution_count": 8,
   "id": "5f61e9b1-c9a5-495e-90ab-331d585d88e5",
   "metadata": {
    "execution": {
     "iopub.execute_input": "2024-07-25T11:02:58.470831Z",
     "iopub.status.busy": "2024-07-25T11:02:58.470542Z",
     "iopub.status.idle": "2024-07-25T11:02:58.542920Z",
     "shell.execute_reply": "2024-07-25T11:02:58.542108Z",
     "shell.execute_reply.started": "2024-07-25T11:02:58.470807Z"
    }
   },
   "outputs": [
    {
     "data": {
      "text/plain": [
       "Counter({1: 182764, 2: 183187, 0: 183416})"
      ]
     },
     "execution_count": 8,
     "metadata": {},
     "output_type": "execute_result"
    }
   ],
   "source": [
    "# 查看标签数量统计\n",
    "# from collections import Counter\n",
    "cnt = Counter(train_set.labels.numpy())\n",
    "cnt"
   ]
  },
  {
   "cell_type": "code",
   "execution_count": 11,
   "id": "38094cc0-c6a1-49b3-8c07-cacf403cddbb",
   "metadata": {
    "execution": {
     "iopub.execute_input": "2024-07-25T05:35:58.281412Z",
     "iopub.status.busy": "2024-07-25T05:35:58.280391Z",
     "iopub.status.idle": "2024-07-25T05:36:26.788763Z",
     "shell.execute_reply": "2024-07-25T05:36:26.787655Z",
     "shell.execute_reply.started": "2024-07-25T05:35:58.281383Z"
    }
   },
   "outputs": [],
   "source": [
    "# 检测数据集中有无 -1 标签\n",
    "for data in dataset['train']:\n",
    "    if data['label'] == -1:\n",
    "        print(data)\n",
    "        break"
   ]
  },
  {
   "cell_type": "code",
   "execution_count": 17,
   "id": "aa6c683e-6071-4704-bff8-013d226ad845",
   "metadata": {
    "execution": {
     "iopub.execute_input": "2024-07-25T11:07:02.708091Z",
     "iopub.status.busy": "2024-07-25T11:07:02.707618Z",
     "iopub.status.idle": "2024-07-25T11:07:02.714561Z",
     "shell.execute_reply": "2024-07-25T11:07:02.713637Z",
     "shell.execute_reply.started": "2024-07-25T11:07:02.708065Z"
    }
   },
   "outputs": [
    {
     "name": "stdout",
     "output_type": "stream",
     "text": [
      "训练集大小: 1073, 测试集大小: 20, 验证集大小: 20\n"
     ]
    }
   ],
   "source": [
    "# 生成可迭代数据集\n",
    "train_iter = torch.utils.data.DataLoader(train_set, batch_size, shuffle=True)\n",
    "test_iter = torch.utils.data.DataLoader(test_set, batch_size, shuffle=False)\n",
    "validation_iter = torch.utils.data.DataLoader(validation_set, batch_size, shuffle=False)\n",
    "print(f'训练集大小: {len(train_iter)}, 测试集大小: {len(test_iter)}, 验证集大小: {len(validation_iter)}')"
   ]
  },
  {
   "cell_type": "markdown",
   "id": "4ef6d84e-b2c2-4e3a-8101-9d6463446b44",
   "metadata": {},
   "source": [
    "# 训练准备"
   ]
  },
  {
   "cell_type": "markdown",
   "id": "0c20ed69-4c79-4b89-9082-0d783248f74e",
   "metadata": {},
   "source": [
    "## 参数和超参数, 实例化模型"
   ]
  },
  {
   "cell_type": "code",
   "execution_count": 9,
   "id": "0b68fe60-ca00-446c-a463-173ad324df4a",
   "metadata": {
    "execution": {
     "iopub.execute_input": "2024-07-25T11:03:02.256298Z",
     "iopub.status.busy": "2024-07-25T11:03:02.256013Z",
     "iopub.status.idle": "2024-07-25T11:03:02.261912Z",
     "shell.execute_reply": "2024-07-25T11:03:02.260624Z",
     "shell.execute_reply.started": "2024-07-25T11:03:02.256273Z"
    }
   },
   "outputs": [],
   "source": [
    "# 参数和超参数\n",
    "num_hiddens, num_layers, dropout = 512, 3, 0.1\n",
    "ffn_num_input, ffn_num_hiddens, num_heads, norm_shape = 512, 2048, 8, [512]\n",
    "lr, num_epochs, device = 5e-5, 30, d2l.try_gpu()"
   ]
  },
  {
   "cell_type": "markdown",
   "id": "070b71eb-7073-480a-855d-82fc61749abd",
   "metadata": {},
   "source": [
    "### FAM"
   ]
  },
  {
   "cell_type": "code",
   "execution_count": 16,
   "id": "3193c9f4-df3d-4a4c-ad20-d81d1b3d09f5",
   "metadata": {
    "execution": {
     "iopub.execute_input": "2024-07-25T05:36:44.032445Z",
     "iopub.status.busy": "2024-07-25T05:36:44.031721Z",
     "iopub.status.idle": "2024-07-25T05:36:44.110685Z",
     "shell.execute_reply": "2024-07-25T05:36:44.109776Z",
     "shell.execute_reply.started": "2024-07-25T05:36:44.032389Z"
    }
   },
   "outputs": [],
   "source": [
    "file_path = '/root/autodl-tmp/fam_classifier/snli/'\n",
    "excelfile = pd.read_excel(file_path + 'snliFA.xlsx', sheet_name='Sheet2', header=0, index_col=0)\n",
    "dim_dict = dict()\n",
    "for i in range(512):\n",
    "    dim_dict[excelfile['Dimension'].values[i]] = excelfile['Factor'].values[i]"
   ]
  },
  {
   "cell_type": "code",
   "execution_count": 17,
   "id": "90a8bb20-ca56-4c38-8758-2a933ce2ef2e",
   "metadata": {
    "execution": {
     "iopub.execute_input": "2024-07-25T05:36:46.215015Z",
     "iopub.status.busy": "2024-07-25T05:36:46.214544Z",
     "iopub.status.idle": "2024-07-25T05:36:46.337703Z",
     "shell.execute_reply": "2024-07-25T05:36:46.336586Z",
     "shell.execute_reply.started": "2024-07-25T05:36:46.214990Z"
    }
   },
   "outputs": [
    {
     "name": "stdout",
     "output_type": "stream",
     "text": [
      "16,956,461 total parameters.\n",
      "16,956,461 training parameters.\n"
     ]
    }
   ],
   "source": [
    "# 实例化 FAM 模型\n",
    "net = FamEncoder(\n",
    "    len(vocab), num_hiddens, norm_shape, ffn_num_input,\n",
    "    ffn_num_hiddens, dim_dict, num_layers, dropout)\n",
    "# Find total parameters and trainable parameters\n",
    "total_params = sum(p.numel() for p in net.parameters())\n",
    "print(f'{total_params:,} total parameters.')\n",
    "total_trainable_params = sum(p.numel() for p in net.parameters() if p.requires_grad)\n",
    "print(f'{total_trainable_params:,} training parameters.')"
   ]
  },
  {
   "cell_type": "markdown",
   "id": "3d8c6862-322f-437f-a376-d898ff7a09e4",
   "metadata": {},
   "source": [
    "### Baseline"
   ]
  },
  {
   "cell_type": "code",
   "execution_count": 18,
   "id": "cbd3935e-de2c-48f8-92c3-eb2395d8347e",
   "metadata": {
    "execution": {
     "iopub.execute_input": "2024-07-25T11:07:13.545159Z",
     "iopub.status.busy": "2024-07-25T11:07:13.543980Z",
     "iopub.status.idle": "2024-07-25T11:07:13.697347Z",
     "shell.execute_reply": "2024-07-25T11:07:13.696360Z",
     "shell.execute_reply.started": "2024-07-25T11:07:13.545097Z"
    }
   },
   "outputs": [
    {
     "name": "stdout",
     "output_type": "stream",
     "text": [
      "19,013,123 total parameters.\n",
      "19,013,123 training parameters.\n"
     ]
    }
   ],
   "source": [
    "# 实例化 Baseline 模型\n",
    "num_heads = 8\n",
    "basenet = BaseEncoder(\n",
    "    len(vocab), num_hiddens, norm_shape, ffn_num_input,\n",
    "    ffn_num_hiddens, num_heads, num_layers, dropout)\n",
    "\n",
    "# Find total parameters and trainable parameters\n",
    "total_params = sum(p.numel() for p in basenet.parameters())\n",
    "print(f'{total_params:,} total parameters.')\n",
    "total_trainable_params = sum(p.numel() for p in basenet.parameters() if p.requires_grad)\n",
    "print(f'{total_trainable_params:,} training parameters.')"
   ]
  },
  {
   "cell_type": "markdown",
   "id": "acabf085-7446-4c70-a5d9-0352712dbbc9",
   "metadata": {},
   "source": [
    "## 初始化模型参数"
   ]
  },
  {
   "cell_type": "code",
   "execution_count": 12,
   "id": "fc8c1fb9-7197-4484-9ee1-966f417764f2",
   "metadata": {
    "execution": {
     "iopub.execute_input": "2024-07-25T11:04:15.376233Z",
     "iopub.status.busy": "2024-07-25T11:04:15.375754Z",
     "iopub.status.idle": "2024-07-25T11:04:18.925212Z",
     "shell.execute_reply": "2024-07-25T11:04:18.924456Z",
     "shell.execute_reply.started": "2024-07-25T11:04:15.376207Z"
    }
   },
   "outputs": [],
   "source": [
    "# 初始化embedding层模型权重\n",
    "def get_embedding_weights(vocab, word2vecmodel, num_hiddens):\n",
    "    wordlist = word2vecmodel.wv.index_to_key\n",
    "    n = len(vocab)\n",
    "    data = np.random.randn(n, num_hiddens)\n",
    "    for i in range(n):\n",
    "        word = vocab.idx_to_token[i]\n",
    "        data[i] = np.array(word2vecmodel.wv[word]) if word in wordlist else data[i]\n",
    "    return torch.tensor(data, dtype=torch.float32)\n",
    "\n",
    "\n",
    "def init_embedding_weights(module, weights):\n",
    "    module.weight.data = weights\n",
    "\n",
    "\n",
    "# 初始化线性层权重\n",
    "def xavier_init_weights(m):\n",
    "    if type(m) in (nn.Linear, nn.Conv1d):\n",
    "        nn.init.xavier_uniform_(m.weight)\n",
    "\n",
    "\n",
    "file_path = '/root/autodl-tmp/fam_classifier/snli/'\n",
    "word2vecmodel = word2vec.Word2Vec.load(file_path + 'snli_word_vec_sg.bin')\n",
    "weights = get_embedding_weights(vocab, word2vecmodel, num_hiddens)"
   ]
  },
  {
   "cell_type": "markdown",
   "id": "868d5b97-a1ac-4b66-b89a-99d5fe4bf5a0",
   "metadata": {},
   "source": [
    "### FAM"
   ]
  },
  {
   "cell_type": "code",
   "execution_count": 19,
   "id": "5a429475-e555-44e4-a411-0c62c35a9175",
   "metadata": {
    "execution": {
     "iopub.execute_input": "2024-07-25T05:37:04.760704Z",
     "iopub.status.busy": "2024-07-25T05:37:04.760419Z",
     "iopub.status.idle": "2024-07-25T05:37:04.809043Z",
     "shell.execute_reply": "2024-07-25T05:37:04.808143Z",
     "shell.execute_reply.started": "2024-07-25T05:37:04.760680Z"
    },
    "scrolled": true
   },
   "outputs": [
    {
     "data": {
      "text/plain": [
       "FamEncoder(\n",
       "  (token_embedding): Embedding(18018, 512)\n",
       "  (segment_embedding): Embedding(2, 512)\n",
       "  (blks): Sequential(\n",
       "    (0): EncoderBlock(\n",
       "      (attention): FamAttention(\n",
       "        (attention): DotProductAttention(\n",
       "          (dropout): Dropout(p=0.1, inplace=False)\n",
       "        )\n",
       "        (W_o): Linear(in_features=512, out_features=512, bias=True)\n",
       "        (Wq0): Linear(in_features=77, out_features=77, bias=True)\n",
       "        (Wq1): Linear(in_features=63, out_features=63, bias=True)\n",
       "        (Wq2): Linear(in_features=81, out_features=81, bias=True)\n",
       "        (Wq3): Linear(in_features=65, out_features=65, bias=True)\n",
       "        (Wq4): Linear(in_features=54, out_features=54, bias=True)\n",
       "        (Wq5): Linear(in_features=56, out_features=56, bias=True)\n",
       "        (Wq6): Linear(in_features=67, out_features=67, bias=True)\n",
       "        (Wq7): Linear(in_features=49, out_features=49, bias=True)\n",
       "        (Wk0): Linear(in_features=77, out_features=77, bias=True)\n",
       "        (Wk1): Linear(in_features=63, out_features=63, bias=True)\n",
       "        (Wk2): Linear(in_features=81, out_features=81, bias=True)\n",
       "        (Wk3): Linear(in_features=65, out_features=65, bias=True)\n",
       "        (Wk4): Linear(in_features=54, out_features=54, bias=True)\n",
       "        (Wk5): Linear(in_features=56, out_features=56, bias=True)\n",
       "        (Wk6): Linear(in_features=67, out_features=67, bias=True)\n",
       "        (Wk7): Linear(in_features=49, out_features=49, bias=True)\n",
       "        (Wv0): Linear(in_features=77, out_features=77, bias=True)\n",
       "        (Wv1): Linear(in_features=63, out_features=63, bias=True)\n",
       "        (Wv2): Linear(in_features=81, out_features=81, bias=True)\n",
       "        (Wv3): Linear(in_features=65, out_features=65, bias=True)\n",
       "        (Wv4): Linear(in_features=54, out_features=54, bias=True)\n",
       "        (Wv5): Linear(in_features=56, out_features=56, bias=True)\n",
       "        (Wv6): Linear(in_features=67, out_features=67, bias=True)\n",
       "        (Wv7): Linear(in_features=49, out_features=49, bias=True)\n",
       "      )\n",
       "      (addnorm1): AddNorm(\n",
       "        (dropout): Dropout(p=0.1, inplace=False)\n",
       "        (ln): LayerNorm((512,), eps=1e-05, elementwise_affine=True)\n",
       "      )\n",
       "      (ffn): PositionWiseFFN(\n",
       "        (dense1): Linear(in_features=512, out_features=2048, bias=True)\n",
       "        (relu): ReLU()\n",
       "        (dense2): Linear(in_features=2048, out_features=512, bias=True)\n",
       "      )\n",
       "      (addnorm2): AddNorm(\n",
       "        (dropout): Dropout(p=0.1, inplace=False)\n",
       "        (ln): LayerNorm((512,), eps=1e-05, elementwise_affine=True)\n",
       "      )\n",
       "    )\n",
       "    (1): EncoderBlock(\n",
       "      (attention): FamAttention(\n",
       "        (attention): DotProductAttention(\n",
       "          (dropout): Dropout(p=0.1, inplace=False)\n",
       "        )\n",
       "        (W_o): Linear(in_features=512, out_features=512, bias=True)\n",
       "        (Wq0): Linear(in_features=77, out_features=77, bias=True)\n",
       "        (Wq1): Linear(in_features=63, out_features=63, bias=True)\n",
       "        (Wq2): Linear(in_features=81, out_features=81, bias=True)\n",
       "        (Wq3): Linear(in_features=65, out_features=65, bias=True)\n",
       "        (Wq4): Linear(in_features=54, out_features=54, bias=True)\n",
       "        (Wq5): Linear(in_features=56, out_features=56, bias=True)\n",
       "        (Wq6): Linear(in_features=67, out_features=67, bias=True)\n",
       "        (Wq7): Linear(in_features=49, out_features=49, bias=True)\n",
       "        (Wk0): Linear(in_features=77, out_features=77, bias=True)\n",
       "        (Wk1): Linear(in_features=63, out_features=63, bias=True)\n",
       "        (Wk2): Linear(in_features=81, out_features=81, bias=True)\n",
       "        (Wk3): Linear(in_features=65, out_features=65, bias=True)\n",
       "        (Wk4): Linear(in_features=54, out_features=54, bias=True)\n",
       "        (Wk5): Linear(in_features=56, out_features=56, bias=True)\n",
       "        (Wk6): Linear(in_features=67, out_features=67, bias=True)\n",
       "        (Wk7): Linear(in_features=49, out_features=49, bias=True)\n",
       "        (Wv0): Linear(in_features=77, out_features=77, bias=True)\n",
       "        (Wv1): Linear(in_features=63, out_features=63, bias=True)\n",
       "        (Wv2): Linear(in_features=81, out_features=81, bias=True)\n",
       "        (Wv3): Linear(in_features=65, out_features=65, bias=True)\n",
       "        (Wv4): Linear(in_features=54, out_features=54, bias=True)\n",
       "        (Wv5): Linear(in_features=56, out_features=56, bias=True)\n",
       "        (Wv6): Linear(in_features=67, out_features=67, bias=True)\n",
       "        (Wv7): Linear(in_features=49, out_features=49, bias=True)\n",
       "      )\n",
       "      (addnorm1): AddNorm(\n",
       "        (dropout): Dropout(p=0.1, inplace=False)\n",
       "        (ln): LayerNorm((512,), eps=1e-05, elementwise_affine=True)\n",
       "      )\n",
       "      (ffn): PositionWiseFFN(\n",
       "        (dense1): Linear(in_features=512, out_features=2048, bias=True)\n",
       "        (relu): ReLU()\n",
       "        (dense2): Linear(in_features=2048, out_features=512, bias=True)\n",
       "      )\n",
       "      (addnorm2): AddNorm(\n",
       "        (dropout): Dropout(p=0.1, inplace=False)\n",
       "        (ln): LayerNorm((512,), eps=1e-05, elementwise_affine=True)\n",
       "      )\n",
       "    )\n",
       "    (2): EncoderBlock(\n",
       "      (attention): FamAttention(\n",
       "        (attention): DotProductAttention(\n",
       "          (dropout): Dropout(p=0.1, inplace=False)\n",
       "        )\n",
       "        (W_o): Linear(in_features=512, out_features=512, bias=True)\n",
       "        (Wq0): Linear(in_features=77, out_features=77, bias=True)\n",
       "        (Wq1): Linear(in_features=63, out_features=63, bias=True)\n",
       "        (Wq2): Linear(in_features=81, out_features=81, bias=True)\n",
       "        (Wq3): Linear(in_features=65, out_features=65, bias=True)\n",
       "        (Wq4): Linear(in_features=54, out_features=54, bias=True)\n",
       "        (Wq5): Linear(in_features=56, out_features=56, bias=True)\n",
       "        (Wq6): Linear(in_features=67, out_features=67, bias=True)\n",
       "        (Wq7): Linear(in_features=49, out_features=49, bias=True)\n",
       "        (Wk0): Linear(in_features=77, out_features=77, bias=True)\n",
       "        (Wk1): Linear(in_features=63, out_features=63, bias=True)\n",
       "        (Wk2): Linear(in_features=81, out_features=81, bias=True)\n",
       "        (Wk3): Linear(in_features=65, out_features=65, bias=True)\n",
       "        (Wk4): Linear(in_features=54, out_features=54, bias=True)\n",
       "        (Wk5): Linear(in_features=56, out_features=56, bias=True)\n",
       "        (Wk6): Linear(in_features=67, out_features=67, bias=True)\n",
       "        (Wk7): Linear(in_features=49, out_features=49, bias=True)\n",
       "        (Wv0): Linear(in_features=77, out_features=77, bias=True)\n",
       "        (Wv1): Linear(in_features=63, out_features=63, bias=True)\n",
       "        (Wv2): Linear(in_features=81, out_features=81, bias=True)\n",
       "        (Wv3): Linear(in_features=65, out_features=65, bias=True)\n",
       "        (Wv4): Linear(in_features=54, out_features=54, bias=True)\n",
       "        (Wv5): Linear(in_features=56, out_features=56, bias=True)\n",
       "        (Wv6): Linear(in_features=67, out_features=67, bias=True)\n",
       "        (Wv7): Linear(in_features=49, out_features=49, bias=True)\n",
       "      )\n",
       "      (addnorm1): AddNorm(\n",
       "        (dropout): Dropout(p=0.1, inplace=False)\n",
       "        (ln): LayerNorm((512,), eps=1e-05, elementwise_affine=True)\n",
       "      )\n",
       "      (ffn): PositionWiseFFN(\n",
       "        (dense1): Linear(in_features=512, out_features=2048, bias=True)\n",
       "        (relu): ReLU()\n",
       "        (dense2): Linear(in_features=2048, out_features=512, bias=True)\n",
       "      )\n",
       "      (addnorm2): AddNorm(\n",
       "        (dropout): Dropout(p=0.1, inplace=False)\n",
       "        (ln): LayerNorm((512,), eps=1e-05, elementwise_affine=True)\n",
       "      )\n",
       "    )\n",
       "  )\n",
       "  (agg_layer): Sequential(\n",
       "    (0): Linear(in_features=512, out_features=512, bias=True)\n",
       "    (1): ReLU()\n",
       "  )\n",
       "  (output): Linear(in_features=512, out_features=3, bias=True)\n",
       ")"
      ]
     },
     "execution_count": 19,
     "metadata": {},
     "output_type": "execute_result"
    }
   ],
   "source": [
    "init_embedding_weights(net.token_embedding, weights)\n",
    "net.apply(xavier_init_weights)"
   ]
  },
  {
   "cell_type": "code",
   "execution_count": 20,
   "id": "5d9bc7a2-eba3-4bba-b28d-9d4cd0a337e9",
   "metadata": {
    "execution": {
     "iopub.execute_input": "2024-07-25T05:37:08.651807Z",
     "iopub.status.busy": "2024-07-25T05:37:08.651524Z",
     "iopub.status.idle": "2024-07-25T05:37:08.757739Z",
     "shell.execute_reply": "2024-07-25T05:37:08.757031Z",
     "shell.execute_reply.started": "2024-07-25T05:37:08.651784Z"
    },
    "scrolled": true
   },
   "outputs": [
    {
     "name": "stdout",
     "output_type": "stream",
     "text": [
      "pos_embedding ; torch.Size([1, 128, 512])\n",
      "token_embedding.weight ; torch.Size([18018, 512])\n",
      "segment_embedding.weight ; torch.Size([2, 512])\n",
      "blks.0.attention.W_o.weight ; torch.Size([512, 512])\n",
      "blks.0.attention.W_o.bias ; torch.Size([512])\n",
      "blks.0.attention.Wq0.weight ; torch.Size([77, 77])\n",
      "blks.0.attention.Wq0.bias ; torch.Size([77])\n",
      "blks.0.attention.Wq1.weight ; torch.Size([63, 63])\n",
      "blks.0.attention.Wq1.bias ; torch.Size([63])\n",
      "blks.0.attention.Wq2.weight ; torch.Size([81, 81])\n",
      "blks.0.attention.Wq2.bias ; torch.Size([81])\n",
      "blks.0.attention.Wq3.weight ; torch.Size([65, 65])\n",
      "blks.0.attention.Wq3.bias ; torch.Size([65])\n",
      "blks.0.attention.Wq4.weight ; torch.Size([54, 54])\n",
      "blks.0.attention.Wq4.bias ; torch.Size([54])\n",
      "blks.0.attention.Wq5.weight ; torch.Size([56, 56])\n",
      "blks.0.attention.Wq5.bias ; torch.Size([56])\n",
      "blks.0.attention.Wq6.weight ; torch.Size([67, 67])\n",
      "blks.0.attention.Wq6.bias ; torch.Size([67])\n",
      "blks.0.attention.Wq7.weight ; torch.Size([49, 49])\n",
      "blks.0.attention.Wq7.bias ; torch.Size([49])\n",
      "blks.0.attention.Wk0.weight ; torch.Size([77, 77])\n",
      "blks.0.attention.Wk0.bias ; torch.Size([77])\n",
      "blks.0.attention.Wk1.weight ; torch.Size([63, 63])\n",
      "blks.0.attention.Wk1.bias ; torch.Size([63])\n",
      "blks.0.attention.Wk2.weight ; torch.Size([81, 81])\n",
      "blks.0.attention.Wk2.bias ; torch.Size([81])\n",
      "blks.0.attention.Wk3.weight ; torch.Size([65, 65])\n",
      "blks.0.attention.Wk3.bias ; torch.Size([65])\n",
      "blks.0.attention.Wk4.weight ; torch.Size([54, 54])\n",
      "blks.0.attention.Wk4.bias ; torch.Size([54])\n",
      "blks.0.attention.Wk5.weight ; torch.Size([56, 56])\n",
      "blks.0.attention.Wk5.bias ; torch.Size([56])\n",
      "blks.0.attention.Wk6.weight ; torch.Size([67, 67])\n",
      "blks.0.attention.Wk6.bias ; torch.Size([67])\n",
      "blks.0.attention.Wk7.weight ; torch.Size([49, 49])\n",
      "blks.0.attention.Wk7.bias ; torch.Size([49])\n",
      "blks.0.attention.Wv0.weight ; torch.Size([77, 77])\n",
      "blks.0.attention.Wv0.bias ; torch.Size([77])\n",
      "blks.0.attention.Wv1.weight ; torch.Size([63, 63])\n",
      "blks.0.attention.Wv1.bias ; torch.Size([63])\n",
      "blks.0.attention.Wv2.weight ; torch.Size([81, 81])\n",
      "blks.0.attention.Wv2.bias ; torch.Size([81])\n",
      "blks.0.attention.Wv3.weight ; torch.Size([65, 65])\n",
      "blks.0.attention.Wv3.bias ; torch.Size([65])\n",
      "blks.0.attention.Wv4.weight ; torch.Size([54, 54])\n",
      "blks.0.attention.Wv4.bias ; torch.Size([54])\n",
      "blks.0.attention.Wv5.weight ; torch.Size([56, 56])\n",
      "blks.0.attention.Wv5.bias ; torch.Size([56])\n",
      "blks.0.attention.Wv6.weight ; torch.Size([67, 67])\n",
      "blks.0.attention.Wv6.bias ; torch.Size([67])\n",
      "blks.0.attention.Wv7.weight ; torch.Size([49, 49])\n",
      "blks.0.attention.Wv7.bias ; torch.Size([49])\n",
      "blks.0.addnorm1.ln.weight ; torch.Size([512])\n",
      "blks.0.addnorm1.ln.bias ; torch.Size([512])\n",
      "blks.0.ffn.dense1.weight ; torch.Size([2048, 512])\n",
      "blks.0.ffn.dense1.bias ; torch.Size([2048])\n",
      "blks.0.ffn.dense2.weight ; torch.Size([512, 2048])\n",
      "blks.0.ffn.dense2.bias ; torch.Size([512])\n",
      "blks.0.addnorm2.ln.weight ; torch.Size([512])\n",
      "blks.0.addnorm2.ln.bias ; torch.Size([512])\n",
      "blks.1.attention.W_o.weight ; torch.Size([512, 512])\n",
      "blks.1.attention.W_o.bias ; torch.Size([512])\n",
      "blks.1.attention.Wq0.weight ; torch.Size([77, 77])\n",
      "blks.1.attention.Wq0.bias ; torch.Size([77])\n",
      "blks.1.attention.Wq1.weight ; torch.Size([63, 63])\n",
      "blks.1.attention.Wq1.bias ; torch.Size([63])\n",
      "blks.1.attention.Wq2.weight ; torch.Size([81, 81])\n",
      "blks.1.attention.Wq2.bias ; torch.Size([81])\n",
      "blks.1.attention.Wq3.weight ; torch.Size([65, 65])\n",
      "blks.1.attention.Wq3.bias ; torch.Size([65])\n",
      "blks.1.attention.Wq4.weight ; torch.Size([54, 54])\n",
      "blks.1.attention.Wq4.bias ; torch.Size([54])\n",
      "blks.1.attention.Wq5.weight ; torch.Size([56, 56])\n",
      "blks.1.attention.Wq5.bias ; torch.Size([56])\n",
      "blks.1.attention.Wq6.weight ; torch.Size([67, 67])\n",
      "blks.1.attention.Wq6.bias ; torch.Size([67])\n",
      "blks.1.attention.Wq7.weight ; torch.Size([49, 49])\n",
      "blks.1.attention.Wq7.bias ; torch.Size([49])\n",
      "blks.1.attention.Wk0.weight ; torch.Size([77, 77])\n",
      "blks.1.attention.Wk0.bias ; torch.Size([77])\n",
      "blks.1.attention.Wk1.weight ; torch.Size([63, 63])\n",
      "blks.1.attention.Wk1.bias ; torch.Size([63])\n",
      "blks.1.attention.Wk2.weight ; torch.Size([81, 81])\n",
      "blks.1.attention.Wk2.bias ; torch.Size([81])\n",
      "blks.1.attention.Wk3.weight ; torch.Size([65, 65])\n",
      "blks.1.attention.Wk3.bias ; torch.Size([65])\n",
      "blks.1.attention.Wk4.weight ; torch.Size([54, 54])\n",
      "blks.1.attention.Wk4.bias ; torch.Size([54])\n",
      "blks.1.attention.Wk5.weight ; torch.Size([56, 56])\n",
      "blks.1.attention.Wk5.bias ; torch.Size([56])\n",
      "blks.1.attention.Wk6.weight ; torch.Size([67, 67])\n",
      "blks.1.attention.Wk6.bias ; torch.Size([67])\n",
      "blks.1.attention.Wk7.weight ; torch.Size([49, 49])\n",
      "blks.1.attention.Wk7.bias ; torch.Size([49])\n",
      "blks.1.attention.Wv0.weight ; torch.Size([77, 77])\n",
      "blks.1.attention.Wv0.bias ; torch.Size([77])\n",
      "blks.1.attention.Wv1.weight ; torch.Size([63, 63])\n",
      "blks.1.attention.Wv1.bias ; torch.Size([63])\n",
      "blks.1.attention.Wv2.weight ; torch.Size([81, 81])\n",
      "blks.1.attention.Wv2.bias ; torch.Size([81])\n",
      "blks.1.attention.Wv3.weight ; torch.Size([65, 65])\n",
      "blks.1.attention.Wv3.bias ; torch.Size([65])\n",
      "blks.1.attention.Wv4.weight ; torch.Size([54, 54])\n",
      "blks.1.attention.Wv4.bias ; torch.Size([54])\n",
      "blks.1.attention.Wv5.weight ; torch.Size([56, 56])\n",
      "blks.1.attention.Wv5.bias ; torch.Size([56])\n",
      "blks.1.attention.Wv6.weight ; torch.Size([67, 67])\n",
      "blks.1.attention.Wv6.bias ; torch.Size([67])\n",
      "blks.1.attention.Wv7.weight ; torch.Size([49, 49])\n",
      "blks.1.attention.Wv7.bias ; torch.Size([49])\n",
      "blks.1.addnorm1.ln.weight ; torch.Size([512])\n",
      "blks.1.addnorm1.ln.bias ; torch.Size([512])\n",
      "blks.1.ffn.dense1.weight ; torch.Size([2048, 512])\n",
      "blks.1.ffn.dense1.bias ; torch.Size([2048])\n",
      "blks.1.ffn.dense2.weight ; torch.Size([512, 2048])\n",
      "blks.1.ffn.dense2.bias ; torch.Size([512])\n",
      "blks.1.addnorm2.ln.weight ; torch.Size([512])\n",
      "blks.1.addnorm2.ln.bias ; torch.Size([512])\n",
      "blks.2.attention.W_o.weight ; torch.Size([512, 512])\n",
      "blks.2.attention.W_o.bias ; torch.Size([512])\n",
      "blks.2.attention.Wq0.weight ; torch.Size([77, 77])\n",
      "blks.2.attention.Wq0.bias ; torch.Size([77])\n",
      "blks.2.attention.Wq1.weight ; torch.Size([63, 63])\n",
      "blks.2.attention.Wq1.bias ; torch.Size([63])\n",
      "blks.2.attention.Wq2.weight ; torch.Size([81, 81])\n",
      "blks.2.attention.Wq2.bias ; torch.Size([81])\n",
      "blks.2.attention.Wq3.weight ; torch.Size([65, 65])\n",
      "blks.2.attention.Wq3.bias ; torch.Size([65])\n",
      "blks.2.attention.Wq4.weight ; torch.Size([54, 54])\n",
      "blks.2.attention.Wq4.bias ; torch.Size([54])\n",
      "blks.2.attention.Wq5.weight ; torch.Size([56, 56])\n",
      "blks.2.attention.Wq5.bias ; torch.Size([56])\n",
      "blks.2.attention.Wq6.weight ; torch.Size([67, 67])\n",
      "blks.2.attention.Wq6.bias ; torch.Size([67])\n",
      "blks.2.attention.Wq7.weight ; torch.Size([49, 49])\n",
      "blks.2.attention.Wq7.bias ; torch.Size([49])\n",
      "blks.2.attention.Wk0.weight ; torch.Size([77, 77])\n",
      "blks.2.attention.Wk0.bias ; torch.Size([77])\n",
      "blks.2.attention.Wk1.weight ; torch.Size([63, 63])\n",
      "blks.2.attention.Wk1.bias ; torch.Size([63])\n",
      "blks.2.attention.Wk2.weight ; torch.Size([81, 81])\n",
      "blks.2.attention.Wk2.bias ; torch.Size([81])\n",
      "blks.2.attention.Wk3.weight ; torch.Size([65, 65])\n",
      "blks.2.attention.Wk3.bias ; torch.Size([65])\n",
      "blks.2.attention.Wk4.weight ; torch.Size([54, 54])\n",
      "blks.2.attention.Wk4.bias ; torch.Size([54])\n",
      "blks.2.attention.Wk5.weight ; torch.Size([56, 56])\n",
      "blks.2.attention.Wk5.bias ; torch.Size([56])\n",
      "blks.2.attention.Wk6.weight ; torch.Size([67, 67])\n",
      "blks.2.attention.Wk6.bias ; torch.Size([67])\n",
      "blks.2.attention.Wk7.weight ; torch.Size([49, 49])\n",
      "blks.2.attention.Wk7.bias ; torch.Size([49])\n",
      "blks.2.attention.Wv0.weight ; torch.Size([77, 77])\n",
      "blks.2.attention.Wv0.bias ; torch.Size([77])\n",
      "blks.2.attention.Wv1.weight ; torch.Size([63, 63])\n",
      "blks.2.attention.Wv1.bias ; torch.Size([63])\n",
      "blks.2.attention.Wv2.weight ; torch.Size([81, 81])\n",
      "blks.2.attention.Wv2.bias ; torch.Size([81])\n",
      "blks.2.attention.Wv3.weight ; torch.Size([65, 65])\n",
      "blks.2.attention.Wv3.bias ; torch.Size([65])\n",
      "blks.2.attention.Wv4.weight ; torch.Size([54, 54])\n",
      "blks.2.attention.Wv4.bias ; torch.Size([54])\n",
      "blks.2.attention.Wv5.weight ; torch.Size([56, 56])\n",
      "blks.2.attention.Wv5.bias ; torch.Size([56])\n",
      "blks.2.attention.Wv6.weight ; torch.Size([67, 67])\n",
      "blks.2.attention.Wv6.bias ; torch.Size([67])\n",
      "blks.2.attention.Wv7.weight ; torch.Size([49, 49])\n",
      "blks.2.attention.Wv7.bias ; torch.Size([49])\n",
      "blks.2.addnorm1.ln.weight ; torch.Size([512])\n",
      "blks.2.addnorm1.ln.bias ; torch.Size([512])\n",
      "blks.2.ffn.dense1.weight ; torch.Size([2048, 512])\n",
      "blks.2.ffn.dense1.bias ; torch.Size([2048])\n",
      "blks.2.ffn.dense2.weight ; torch.Size([512, 2048])\n",
      "blks.2.ffn.dense2.bias ; torch.Size([512])\n",
      "blks.2.addnorm2.ln.weight ; torch.Size([512])\n",
      "blks.2.addnorm2.ln.bias ; torch.Size([512])\n",
      "agg_layer.0.weight ; torch.Size([512, 512])\n",
      "agg_layer.0.bias ; torch.Size([512])\n",
      "output.weight ; torch.Size([3, 512])\n",
      "output.bias ; torch.Size([3])\n"
     ]
    }
   ],
   "source": [
    "# 查看模型参数\n",
    "for name, parameters in net.named_parameters():\n",
    "    print(name, ';', parameters.size())"
   ]
  },
  {
   "cell_type": "markdown",
   "id": "93129368-53a1-4f6a-a260-28ef0babfe04",
   "metadata": {},
   "source": [
    "### Baseline"
   ]
  },
  {
   "cell_type": "code",
   "execution_count": 19,
   "id": "dde6cf46-8e73-4d2b-8221-71198a5b5752",
   "metadata": {
    "execution": {
     "iopub.execute_input": "2024-07-25T11:07:26.540433Z",
     "iopub.status.busy": "2024-07-25T11:07:26.539958Z",
     "iopub.status.idle": "2024-07-25T11:07:26.600391Z",
     "shell.execute_reply": "2024-07-25T11:07:26.599670Z",
     "shell.execute_reply.started": "2024-07-25T11:07:26.540407Z"
    },
    "scrolled": true
   },
   "outputs": [
    {
     "data": {
      "text/plain": [
       "BaseEncoder(\n",
       "  (token_embedding): Embedding(18018, 512)\n",
       "  (segment_embedding): Embedding(2, 512)\n",
       "  (blks): Sequential(\n",
       "    (0): EncoderBlock(\n",
       "      (attention): MultiHeadAttention(\n",
       "        (attention): DotProductAttention(\n",
       "          (dropout): Dropout(p=0.1, inplace=False)\n",
       "        )\n",
       "        (W_q): Linear(in_features=512, out_features=512, bias=True)\n",
       "        (W_k): Linear(in_features=512, out_features=512, bias=True)\n",
       "        (W_v): Linear(in_features=512, out_features=512, bias=True)\n",
       "        (W_o): Linear(in_features=512, out_features=512, bias=True)\n",
       "      )\n",
       "      (addnorm1): AddNorm(\n",
       "        (dropout): Dropout(p=0.1, inplace=False)\n",
       "        (ln): LayerNorm((512,), eps=1e-05, elementwise_affine=True)\n",
       "      )\n",
       "      (ffn): PositionWiseFFN(\n",
       "        (dense1): Linear(in_features=512, out_features=2048, bias=True)\n",
       "        (relu): ReLU()\n",
       "        (dense2): Linear(in_features=2048, out_features=512, bias=True)\n",
       "      )\n",
       "      (addnorm2): AddNorm(\n",
       "        (dropout): Dropout(p=0.1, inplace=False)\n",
       "        (ln): LayerNorm((512,), eps=1e-05, elementwise_affine=True)\n",
       "      )\n",
       "    )\n",
       "    (1): EncoderBlock(\n",
       "      (attention): MultiHeadAttention(\n",
       "        (attention): DotProductAttention(\n",
       "          (dropout): Dropout(p=0.1, inplace=False)\n",
       "        )\n",
       "        (W_q): Linear(in_features=512, out_features=512, bias=True)\n",
       "        (W_k): Linear(in_features=512, out_features=512, bias=True)\n",
       "        (W_v): Linear(in_features=512, out_features=512, bias=True)\n",
       "        (W_o): Linear(in_features=512, out_features=512, bias=True)\n",
       "      )\n",
       "      (addnorm1): AddNorm(\n",
       "        (dropout): Dropout(p=0.1, inplace=False)\n",
       "        (ln): LayerNorm((512,), eps=1e-05, elementwise_affine=True)\n",
       "      )\n",
       "      (ffn): PositionWiseFFN(\n",
       "        (dense1): Linear(in_features=512, out_features=2048, bias=True)\n",
       "        (relu): ReLU()\n",
       "        (dense2): Linear(in_features=2048, out_features=512, bias=True)\n",
       "      )\n",
       "      (addnorm2): AddNorm(\n",
       "        (dropout): Dropout(p=0.1, inplace=False)\n",
       "        (ln): LayerNorm((512,), eps=1e-05, elementwise_affine=True)\n",
       "      )\n",
       "    )\n",
       "    (2): EncoderBlock(\n",
       "      (attention): MultiHeadAttention(\n",
       "        (attention): DotProductAttention(\n",
       "          (dropout): Dropout(p=0.1, inplace=False)\n",
       "        )\n",
       "        (W_q): Linear(in_features=512, out_features=512, bias=True)\n",
       "        (W_k): Linear(in_features=512, out_features=512, bias=True)\n",
       "        (W_v): Linear(in_features=512, out_features=512, bias=True)\n",
       "        (W_o): Linear(in_features=512, out_features=512, bias=True)\n",
       "      )\n",
       "      (addnorm1): AddNorm(\n",
       "        (dropout): Dropout(p=0.1, inplace=False)\n",
       "        (ln): LayerNorm((512,), eps=1e-05, elementwise_affine=True)\n",
       "      )\n",
       "      (ffn): PositionWiseFFN(\n",
       "        (dense1): Linear(in_features=512, out_features=2048, bias=True)\n",
       "        (relu): ReLU()\n",
       "        (dense2): Linear(in_features=2048, out_features=512, bias=True)\n",
       "      )\n",
       "      (addnorm2): AddNorm(\n",
       "        (dropout): Dropout(p=0.1, inplace=False)\n",
       "        (ln): LayerNorm((512,), eps=1e-05, elementwise_affine=True)\n",
       "      )\n",
       "    )\n",
       "  )\n",
       "  (agg_layer): Sequential(\n",
       "    (0): Linear(in_features=512, out_features=512, bias=True)\n",
       "    (1): ReLU()\n",
       "  )\n",
       "  (output): Linear(in_features=512, out_features=3, bias=True)\n",
       ")"
      ]
     },
     "execution_count": 19,
     "metadata": {},
     "output_type": "execute_result"
    }
   ],
   "source": [
    "init_embedding_weights(basenet.token_embedding, weights)\n",
    "basenet.apply(xavier_init_weights)"
   ]
  },
  {
   "cell_type": "code",
   "execution_count": 20,
   "id": "604ee40e-dac6-49e5-a358-b718ec10273d",
   "metadata": {
    "execution": {
     "iopub.execute_input": "2024-07-25T11:07:30.015860Z",
     "iopub.status.busy": "2024-07-25T11:07:30.015563Z",
     "iopub.status.idle": "2024-07-25T11:07:30.052991Z",
     "shell.execute_reply": "2024-07-25T11:07:30.052218Z",
     "shell.execute_reply.started": "2024-07-25T11:07:30.015835Z"
    },
    "scrolled": true
   },
   "outputs": [
    {
     "name": "stdout",
     "output_type": "stream",
     "text": [
      "pos_embedding ; torch.Size([1, 128, 512])\n",
      "token_embedding.weight ; torch.Size([18018, 512])\n",
      "segment_embedding.weight ; torch.Size([2, 512])\n",
      "blks.0.attention.W_q.weight ; torch.Size([512, 512])\n",
      "blks.0.attention.W_q.bias ; torch.Size([512])\n",
      "blks.0.attention.W_k.weight ; torch.Size([512, 512])\n",
      "blks.0.attention.W_k.bias ; torch.Size([512])\n",
      "blks.0.attention.W_v.weight ; torch.Size([512, 512])\n",
      "blks.0.attention.W_v.bias ; torch.Size([512])\n",
      "blks.0.attention.W_o.weight ; torch.Size([512, 512])\n",
      "blks.0.attention.W_o.bias ; torch.Size([512])\n",
      "blks.0.addnorm1.ln.weight ; torch.Size([512])\n",
      "blks.0.addnorm1.ln.bias ; torch.Size([512])\n",
      "blks.0.ffn.dense1.weight ; torch.Size([2048, 512])\n",
      "blks.0.ffn.dense1.bias ; torch.Size([2048])\n",
      "blks.0.ffn.dense2.weight ; torch.Size([512, 2048])\n",
      "blks.0.ffn.dense2.bias ; torch.Size([512])\n",
      "blks.0.addnorm2.ln.weight ; torch.Size([512])\n",
      "blks.0.addnorm2.ln.bias ; torch.Size([512])\n",
      "blks.1.attention.W_q.weight ; torch.Size([512, 512])\n",
      "blks.1.attention.W_q.bias ; torch.Size([512])\n",
      "blks.1.attention.W_k.weight ; torch.Size([512, 512])\n",
      "blks.1.attention.W_k.bias ; torch.Size([512])\n",
      "blks.1.attention.W_v.weight ; torch.Size([512, 512])\n",
      "blks.1.attention.W_v.bias ; torch.Size([512])\n",
      "blks.1.attention.W_o.weight ; torch.Size([512, 512])\n",
      "blks.1.attention.W_o.bias ; torch.Size([512])\n",
      "blks.1.addnorm1.ln.weight ; torch.Size([512])\n",
      "blks.1.addnorm1.ln.bias ; torch.Size([512])\n",
      "blks.1.ffn.dense1.weight ; torch.Size([2048, 512])\n",
      "blks.1.ffn.dense1.bias ; torch.Size([2048])\n",
      "blks.1.ffn.dense2.weight ; torch.Size([512, 2048])\n",
      "blks.1.ffn.dense2.bias ; torch.Size([512])\n",
      "blks.1.addnorm2.ln.weight ; torch.Size([512])\n",
      "blks.1.addnorm2.ln.bias ; torch.Size([512])\n",
      "blks.2.attention.W_q.weight ; torch.Size([512, 512])\n",
      "blks.2.attention.W_q.bias ; torch.Size([512])\n",
      "blks.2.attention.W_k.weight ; torch.Size([512, 512])\n",
      "blks.2.attention.W_k.bias ; torch.Size([512])\n",
      "blks.2.attention.W_v.weight ; torch.Size([512, 512])\n",
      "blks.2.attention.W_v.bias ; torch.Size([512])\n",
      "blks.2.attention.W_o.weight ; torch.Size([512, 512])\n",
      "blks.2.attention.W_o.bias ; torch.Size([512])\n",
      "blks.2.addnorm1.ln.weight ; torch.Size([512])\n",
      "blks.2.addnorm1.ln.bias ; torch.Size([512])\n",
      "blks.2.ffn.dense1.weight ; torch.Size([2048, 512])\n",
      "blks.2.ffn.dense1.bias ; torch.Size([2048])\n",
      "blks.2.ffn.dense2.weight ; torch.Size([512, 2048])\n",
      "blks.2.ffn.dense2.bias ; torch.Size([512])\n",
      "blks.2.addnorm2.ln.weight ; torch.Size([512])\n",
      "blks.2.addnorm2.ln.bias ; torch.Size([512])\n",
      "agg_layer.0.weight ; torch.Size([512, 512])\n",
      "agg_layer.0.bias ; torch.Size([512])\n",
      "output.weight ; torch.Size([3, 512])\n",
      "output.bias ; torch.Size([3])\n"
     ]
    }
   ],
   "source": [
    "# 查看模型参数\n",
    "for name, parameters in basenet.named_parameters():\n",
    "    print(name, ';', parameters.size())"
   ]
  },
  {
   "cell_type": "markdown",
   "id": "3d9798d2-62e9-4143-b5e3-e26f5b90530e",
   "metadata": {},
   "source": [
    "## 评估指标"
   ]
  },
  {
   "cell_type": "code",
   "execution_count": 36,
   "id": "aea3a831-4510-4c7a-b38f-77a4205a5c90",
   "metadata": {
    "execution": {
     "iopub.execute_input": "2024-07-24T10:51:27.711942Z",
     "iopub.status.busy": "2024-07-24T10:51:27.711518Z",
     "iopub.status.idle": "2024-07-24T10:51:27.718340Z",
     "shell.execute_reply": "2024-07-24T10:51:27.717547Z",
     "shell.execute_reply.started": "2024-07-24T10:51:27.711915Z"
    }
   },
   "outputs": [
    {
     "data": {
      "text/plain": [
       "(tensor([2, 1]), tensor(4))"
      ]
     },
     "execution_count": 36,
     "metadata": {},
     "output_type": "execute_result"
    }
   ],
   "source": [
    "# 测试 argmax() 函数\n",
    "a = torch.tensor([[0.2, -0.6, 0.5],\n",
    "                  [0.1, 0.7, 0.01]])\n",
    "a.argmax(dim=-1), a.argmax()"
   ]
  },
  {
   "cell_type": "code",
   "execution_count": 15,
   "id": "32c098b8-ad50-4e16-8e48-0abfa935d043",
   "metadata": {
    "execution": {
     "iopub.execute_input": "2024-07-25T11:04:39.643562Z",
     "iopub.status.busy": "2024-07-25T11:04:39.642859Z",
     "iopub.status.idle": "2024-07-25T11:04:39.715160Z",
     "shell.execute_reply": "2024-07-25T11:04:39.714011Z",
     "shell.execute_reply.started": "2024-07-25T11:04:39.643510Z"
    }
   },
   "outputs": [],
   "source": [
    "# 定义评估模型准确率和F1指标的函数\n",
    "from sklearn.metrics import accuracy_score, f1_score\n",
    "# f1_score(labels, predicitons, average='None, 'micro', 'macro', 'weighted', 'samples)\n",
    "def evaluate_accuracy_f1(net, data_iter, device=None):\n",
    "    net.eval()  # Set the model to evaluation mode\n",
    "    if not device:\n",
    "        device = next(iter(net.parameters())).device\n",
    "\n",
    "    y_pred, y_true = torch.tensor([], device=device), torch.tensor([], device=device)\n",
    "    with torch.no_grad():\n",
    "        for data in data_iter:\n",
    "            X, y = data\n",
    "            tokens, segments, valid_len = [x.to(device) for x in X]\n",
    "            y = y.to(device)\n",
    "            y_pred = torch.cat([y_pred, net(tokens, segments, valid_len).argmax(dim=-1)])\n",
    "            y_true = torch.cat([y_true, y])\n",
    "    return accuracy_score(y_pred.cpu(), y_true.cpu()), f1_score(y_pred.cpu(), y_true.cpu(), average='macro')"
   ]
  },
  {
   "cell_type": "code",
   "execution_count": 45,
   "id": "eef3330c-b31e-440c-83f2-ac210e5ee35d",
   "metadata": {
    "execution": {
     "iopub.execute_input": "2024-07-24T11:22:21.209074Z",
     "iopub.status.busy": "2024-07-24T11:22:21.208789Z",
     "iopub.status.idle": "2024-07-24T11:23:48.022695Z",
     "shell.execute_reply": "2024-07-24T11:23:48.022092Z",
     "shell.execute_reply.started": "2024-07-24T11:22:21.209050Z"
    }
   },
   "outputs": [
    {
     "data": {
      "text/plain": [
       "(0.32949918566775244, 0.21441868725279453)"
      ]
     },
     "execution_count": 45,
     "metadata": {},
     "output_type": "execute_result"
    }
   ],
   "source": [
    "evaluate_accuracy_f1(net, test_iter)"
   ]
  },
  {
   "cell_type": "markdown",
   "id": "831321b7-8655-4ec4-bd23-a89cd485206a",
   "metadata": {},
   "source": [
    "# 正式训练"
   ]
  },
  {
   "cell_type": "markdown",
   "id": "92006012-ff73-4eb7-8efa-1f96ddd0a357",
   "metadata": {},
   "source": [
    "## 2层 FAM , 30 epochs"
   ]
  },
  {
   "cell_type": "code",
   "execution_count": 46,
   "id": "4a3a08b4-d148-4a1c-8b66-dc07b01019e5",
   "metadata": {
    "execution": {
     "iopub.execute_input": "2024-07-24T11:24:34.012522Z",
     "iopub.status.busy": "2024-07-24T11:24:34.012224Z",
     "iopub.status.idle": "2024-07-24T13:34:56.151467Z",
     "shell.execute_reply": "2024-07-24T13:34:56.150720Z",
     "shell.execute_reply.started": "2024-07-24T11:24:34.012494Z"
    },
    "scrolled": true
   },
   "outputs": [
    {
     "name": "stderr",
     "output_type": "stream",
     "text": [
      "100%|██████████| 1073/1073 [03:07<00:00,  5.71it/s]\n"
     ]
    },
    {
     "name": "stdout",
     "output_type": "stream",
     "text": [
      "epoch 1, loss 1.041, train_acc 0.567, train_f1 0.566, test_acc 0.570, test_f1 0.569, taking 260 seconds\n"
     ]
    },
    {
     "name": "stderr",
     "output_type": "stream",
     "text": [
      "100%|██████████| 1073/1073 [03:07<00:00,  5.71it/s]\n"
     ]
    },
    {
     "name": "stdout",
     "output_type": "stream",
     "text": [
      "epoch 2, loss 0.893, train_acc 0.615, train_f1 0.612, test_acc 0.619, test_f1 0.615, taking 259 seconds\n"
     ]
    },
    {
     "name": "stderr",
     "output_type": "stream",
     "text": [
      "100%|██████████| 1073/1073 [03:08<00:00,  5.70it/s]\n"
     ]
    },
    {
     "name": "stdout",
     "output_type": "stream",
     "text": [
      "epoch 3, loss 0.844, train_acc 0.631, train_f1 0.627, test_acc 0.631, test_f1 0.626, taking 260 seconds\n"
     ]
    },
    {
     "name": "stderr",
     "output_type": "stream",
     "text": [
      "100%|██████████| 1073/1073 [03:08<00:00,  5.71it/s]\n"
     ]
    },
    {
     "name": "stdout",
     "output_type": "stream",
     "text": [
      "epoch 4, loss 0.814, train_acc 0.653, train_f1 0.653, test_acc 0.648, test_f1 0.648, taking 259 seconds\n"
     ]
    },
    {
     "name": "stderr",
     "output_type": "stream",
     "text": [
      "100%|██████████| 1073/1073 [03:08<00:00,  5.70it/s]\n"
     ]
    },
    {
     "name": "stdout",
     "output_type": "stream",
     "text": [
      "epoch 5, loss 0.788, train_acc 0.672, train_f1 0.672, test_acc 0.663, test_f1 0.662, taking 261 seconds\n"
     ]
    },
    {
     "name": "stderr",
     "output_type": "stream",
     "text": [
      "100%|██████████| 1073/1073 [03:08<00:00,  5.71it/s]\n"
     ]
    },
    {
     "name": "stdout",
     "output_type": "stream",
     "text": [
      "epoch 6, loss 0.768, train_acc 0.678, train_f1 0.678, test_acc 0.667, test_f1 0.667, taking 260 seconds\n"
     ]
    },
    {
     "name": "stderr",
     "output_type": "stream",
     "text": [
      "100%|██████████| 1073/1073 [03:08<00:00,  5.69it/s]\n"
     ]
    },
    {
     "name": "stdout",
     "output_type": "stream",
     "text": [
      "epoch 7, loss 0.751, train_acc 0.686, train_f1 0.686, test_acc 0.676, test_f1 0.675, taking 261 seconds\n"
     ]
    },
    {
     "name": "stderr",
     "output_type": "stream",
     "text": [
      "100%|██████████| 1073/1073 [03:08<00:00,  5.70it/s]\n"
     ]
    },
    {
     "name": "stdout",
     "output_type": "stream",
     "text": [
      "epoch 8, loss 0.737, train_acc 0.689, train_f1 0.686, test_acc 0.687, test_f1 0.682, taking 261 seconds\n"
     ]
    },
    {
     "name": "stderr",
     "output_type": "stream",
     "text": [
      "100%|██████████| 1073/1073 [03:08<00:00,  5.70it/s]\n"
     ]
    },
    {
     "name": "stdout",
     "output_type": "stream",
     "text": [
      "epoch 9, loss 0.726, train_acc 0.698, train_f1 0.695, test_acc 0.688, test_f1 0.684, taking 261 seconds\n"
     ]
    },
    {
     "name": "stderr",
     "output_type": "stream",
     "text": [
      "100%|██████████| 1073/1073 [03:08<00:00,  5.69it/s]\n"
     ]
    },
    {
     "name": "stdout",
     "output_type": "stream",
     "text": [
      "epoch 10, loss 0.715, train_acc 0.708, train_f1 0.707, test_acc 0.698, test_f1 0.697, taking 261 seconds\n"
     ]
    },
    {
     "name": "stderr",
     "output_type": "stream",
     "text": [
      "100%|██████████| 1073/1073 [03:08<00:00,  5.68it/s]\n"
     ]
    },
    {
     "name": "stdout",
     "output_type": "stream",
     "text": [
      "epoch 11, loss 0.702, train_acc 0.717, train_f1 0.716, test_acc 0.701, test_f1 0.700, taking 261 seconds\n"
     ]
    },
    {
     "name": "stderr",
     "output_type": "stream",
     "text": [
      "100%|██████████| 1073/1073 [03:08<00:00,  5.69it/s]\n"
     ]
    },
    {
     "name": "stdout",
     "output_type": "stream",
     "text": [
      "epoch 12, loss 0.691, train_acc 0.721, train_f1 0.718, test_acc 0.705, test_f1 0.701, taking 261 seconds\n"
     ]
    },
    {
     "name": "stderr",
     "output_type": "stream",
     "text": [
      "100%|██████████| 1073/1073 [03:08<00:00,  5.69it/s]\n"
     ]
    },
    {
     "name": "stdout",
     "output_type": "stream",
     "text": [
      "epoch 13, loss 0.681, train_acc 0.729, train_f1 0.728, test_acc 0.712, test_f1 0.710, taking 261 seconds\n"
     ]
    },
    {
     "name": "stderr",
     "output_type": "stream",
     "text": [
      "100%|██████████| 1073/1073 [03:08<00:00,  5.69it/s]\n"
     ]
    },
    {
     "name": "stdout",
     "output_type": "stream",
     "text": [
      "epoch 14, loss 0.669, train_acc 0.738, train_f1 0.737, test_acc 0.719, test_f1 0.717, taking 261 seconds\n"
     ]
    },
    {
     "name": "stderr",
     "output_type": "stream",
     "text": [
      "100%|██████████| 1073/1073 [03:08<00:00,  5.69it/s]\n"
     ]
    },
    {
     "name": "stdout",
     "output_type": "stream",
     "text": [
      "epoch 15, loss 0.656, train_acc 0.745, train_f1 0.745, test_acc 0.723, test_f1 0.722, taking 261 seconds\n"
     ]
    },
    {
     "name": "stderr",
     "output_type": "stream",
     "text": [
      "100%|██████████| 1073/1073 [03:08<00:00,  5.69it/s]\n"
     ]
    },
    {
     "name": "stdout",
     "output_type": "stream",
     "text": [
      "epoch 16, loss 0.645, train_acc 0.745, train_f1 0.743, test_acc 0.723, test_f1 0.722, taking 261 seconds\n"
     ]
    },
    {
     "name": "stderr",
     "output_type": "stream",
     "text": [
      "100%|██████████| 1073/1073 [03:08<00:00,  5.68it/s]\n"
     ]
    },
    {
     "name": "stdout",
     "output_type": "stream",
     "text": [
      "epoch 17, loss 0.634, train_acc 0.755, train_f1 0.754, test_acc 0.728, test_f1 0.727, taking 261 seconds\n"
     ]
    },
    {
     "name": "stderr",
     "output_type": "stream",
     "text": [
      "100%|██████████| 1073/1073 [03:08<00:00,  5.69it/s]\n"
     ]
    },
    {
     "name": "stdout",
     "output_type": "stream",
     "text": [
      "epoch 18, loss 0.625, train_acc 0.757, train_f1 0.757, test_acc 0.728, test_f1 0.728, taking 261 seconds\n"
     ]
    },
    {
     "name": "stderr",
     "output_type": "stream",
     "text": [
      "100%|██████████| 1073/1073 [03:08<00:00,  5.69it/s]\n"
     ]
    },
    {
     "name": "stdout",
     "output_type": "stream",
     "text": [
      "epoch 19, loss 0.616, train_acc 0.758, train_f1 0.758, test_acc 0.731, test_f1 0.731, taking 261 seconds\n"
     ]
    },
    {
     "name": "stderr",
     "output_type": "stream",
     "text": [
      "100%|██████████| 1073/1073 [03:08<00:00,  5.69it/s]\n"
     ]
    },
    {
     "name": "stdout",
     "output_type": "stream",
     "text": [
      "epoch 20, loss 0.608, train_acc 0.770, train_f1 0.769, test_acc 0.738, test_f1 0.737, taking 261 seconds\n"
     ]
    },
    {
     "name": "stderr",
     "output_type": "stream",
     "text": [
      "100%|██████████| 1073/1073 [03:08<00:00,  5.69it/s]\n"
     ]
    },
    {
     "name": "stdout",
     "output_type": "stream",
     "text": [
      "epoch 21, loss 0.601, train_acc 0.773, train_f1 0.772, test_acc 0.739, test_f1 0.739, taking 261 seconds\n"
     ]
    },
    {
     "name": "stderr",
     "output_type": "stream",
     "text": [
      "100%|██████████| 1073/1073 [03:08<00:00,  5.69it/s]\n"
     ]
    },
    {
     "name": "stdout",
     "output_type": "stream",
     "text": [
      "epoch 22, loss 0.593, train_acc 0.770, train_f1 0.768, test_acc 0.742, test_f1 0.739, taking 261 seconds\n"
     ]
    },
    {
     "name": "stderr",
     "output_type": "stream",
     "text": [
      "100%|██████████| 1073/1073 [03:08<00:00,  5.70it/s]\n"
     ]
    },
    {
     "name": "stdout",
     "output_type": "stream",
     "text": [
      "epoch 23, loss 0.584, train_acc 0.777, train_f1 0.774, test_acc 0.737, test_f1 0.735, taking 261 seconds\n"
     ]
    },
    {
     "name": "stderr",
     "output_type": "stream",
     "text": [
      "100%|██████████| 1073/1073 [03:08<00:00,  5.69it/s]\n"
     ]
    },
    {
     "name": "stdout",
     "output_type": "stream",
     "text": [
      "epoch 24, loss 0.576, train_acc 0.786, train_f1 0.786, test_acc 0.744, test_f1 0.743, taking 261 seconds\n"
     ]
    },
    {
     "name": "stderr",
     "output_type": "stream",
     "text": [
      "100%|██████████| 1073/1073 [03:08<00:00,  5.69it/s]\n"
     ]
    },
    {
     "name": "stdout",
     "output_type": "stream",
     "text": [
      "epoch 25, loss 0.570, train_acc 0.786, train_f1 0.784, test_acc 0.742, test_f1 0.739, taking 261 seconds\n"
     ]
    },
    {
     "name": "stderr",
     "output_type": "stream",
     "text": [
      "100%|██████████| 1073/1073 [03:08<00:00,  5.69it/s]\n"
     ]
    },
    {
     "name": "stdout",
     "output_type": "stream",
     "text": [
      "epoch 26, loss 0.563, train_acc 0.792, train_f1 0.791, test_acc 0.742, test_f1 0.742, taking 261 seconds\n"
     ]
    },
    {
     "name": "stderr",
     "output_type": "stream",
     "text": [
      "100%|██████████| 1073/1073 [03:08<00:00,  5.69it/s]\n"
     ]
    },
    {
     "name": "stdout",
     "output_type": "stream",
     "text": [
      "epoch 27, loss 0.556, train_acc 0.795, train_f1 0.794, test_acc 0.749, test_f1 0.747, taking 261 seconds\n"
     ]
    },
    {
     "name": "stderr",
     "output_type": "stream",
     "text": [
      "100%|██████████| 1073/1073 [03:08<00:00,  5.69it/s]\n"
     ]
    },
    {
     "name": "stdout",
     "output_type": "stream",
     "text": [
      "epoch 28, loss 0.549, train_acc 0.799, train_f1 0.799, test_acc 0.748, test_f1 0.748, taking 261 seconds\n"
     ]
    },
    {
     "name": "stderr",
     "output_type": "stream",
     "text": [
      "100%|██████████| 1073/1073 [03:08<00:00,  5.69it/s]\n"
     ]
    },
    {
     "name": "stdout",
     "output_type": "stream",
     "text": [
      "epoch 29, loss 0.543, train_acc 0.802, train_f1 0.801, test_acc 0.748, test_f1 0.748, taking 261 seconds\n"
     ]
    },
    {
     "name": "stderr",
     "output_type": "stream",
     "text": [
      "100%|██████████| 1073/1073 [03:08<00:00,  5.70it/s]\n"
     ]
    },
    {
     "name": "stdout",
     "output_type": "stream",
     "text": [
      "epoch 30, loss 0.536, train_acc 0.802, train_f1 0.802, test_acc 0.742, test_f1 0.742, taking 261 seconds\n",
      "Training is finished.\n",
      "训练损失:0.536, 训练集准确率:0.802, 训练集f1:0.802, 测试集准确率:0.742, 测试集f1:0.802, 在设备cuda:0上训练30周期, 耗时7822 s\n"
     ]
    }
   ],
   "source": [
    "# 以‘微调’的模式进行训练\n",
    "# activation function: nn.ReLU()\n",
    "# 14,489,631 total parameters.\n",
    "loss = nn.CrossEntropyLoss(reduction='none')\n",
    "# 为不同层赋予不同的学习率\n",
    "forward_params = [\n",
    "    param for name, param in net.named_parameters()\n",
    "    if name != \"token_embedding.weight\"]\n",
    "trainer = torch.optim.Adam(\n",
    "    [{'params': net.token_embedding.parameters()},\n",
    "    {'params': forward_params,\n",
    "    'lr': lr * 10}], lr=lr)\n",
    "net.to(device)\n",
    "\n",
    "num_batches = len(train_iter)\n",
    "losses, train_accuracy, test_accuracy = [], [], []\n",
    "train_f1, test_f1 = [], []\n",
    "total_start = time.time()\n",
    "for epoch in range(num_epochs):\n",
    "    train_loss = 0\n",
    "    start_time = time.perf_counter()\n",
    "    net.train()\n",
    "    for index, data in tqdm(enumerate(train_iter), total=num_batches, leave=True):\n",
    "        (tokens, segments, valid_len), y = data\n",
    "        tokens, segments, valid_len = [v.to(device) for v in (tokens, segments, valid_len)]\n",
    "        y = y.to(device)\n",
    "        l = loss(net(tokens, segments, valid_len), y)\n",
    "        trainer.zero_grad()\n",
    "        l.sum().backward()\n",
    "        trainer.step()\n",
    "        train_loss += l.sum().cpu().detach().numpy() / batch_size\n",
    "        # train_acc += d2l.accuracy(net(X, valid_len), y) / batch_size\n",
    "    epochloss = train_loss / num_batches\n",
    "    epochtrainacc, epochtrainf1 =evaluate_accuracy_f1(net, train_iter)\n",
    "    epochtestacc, epochtestf1 = evaluate_accuracy_f1(net, test_iter)\n",
    "    end_time = time.perf_counter()\n",
    "    print(f'epoch {epoch + 1}, loss {epochloss:.3f}, train_acc {epochtrainacc:.3f}, '\n",
    "        f'train_f1 {epochtrainf1:.3f}, test_acc {epochtestacc:.3f}, '\n",
    "        f'test_f1 {epochtestf1:.3f}, taking {round(end_time - start_time)} seconds')\n",
    "    losses.append(epochloss)\n",
    "    train_accuracy.append(epochtrainacc)\n",
    "    train_f1.append(epochtrainf1)\n",
    "    test_accuracy.append(epochtestacc)\n",
    "    test_f1.append(epochtestf1)\n",
    "total_timecost = round(time.time() - total_start)\n",
    "print('Training is finished.')\n",
    "print(f'训练损失:{losses[-1]:.3f}, 训练集准确率:{train_accuracy[-1]:.3f}, '\n",
    "      f'训练集f1:{train_f1[-1]:.3f}, 测试集准确率:{test_accuracy[-1]:.3f}, '\n",
    "     f'测试集f1:{train_f1[-1]:.3f}, 在设备{device}上训练{num_epochs}周期, 耗时{total_timecost} s')"
   ]
  },
  {
   "cell_type": "markdown",
   "id": "9c8f6f98-fde9-415d-9f5c-a4c0183c8de3",
   "metadata": {},
   "source": [
    "## 保存结果"
   ]
  },
  {
   "cell_type": "code",
   "execution_count": 47,
   "id": "07ec01df-ae85-45e4-8a50-3f051b25b997",
   "metadata": {
    "execution": {
     "iopub.execute_input": "2024-07-24T13:37:50.200140Z",
     "iopub.status.busy": "2024-07-24T13:37:50.199859Z",
     "iopub.status.idle": "2024-07-24T13:37:50.205411Z",
     "shell.execute_reply": "2024-07-24T13:37:50.204574Z",
     "shell.execute_reply.started": "2024-07-24T13:37:50.200116Z"
    }
   },
   "outputs": [
    {
     "name": "stdout",
     "output_type": "stream",
     "text": [
      "训练集最佳准确率: 0.802,\n",
      "训练集最佳F1分数: 0.802,\n",
      "测试集最佳准确率: 0.749,\n",
      "测试集最佳F1分数: 0.748\n"
     ]
    }
   ],
   "source": [
    "print(f\"训练集最佳准确率: {max(train_accuracy):.3f},\\n\"\n",
    "    f\"训练集最佳F1分数: {max(train_f1):.3f},\\n\"\n",
    "    f\"测试集最佳准确率: {max(test_accuracy):.3f},\\n\"\n",
    "    f\"测试集最佳F1分数: {max(test_f1):.3f}\")"
   ]
  },
  {
   "cell_type": "code",
   "execution_count": 48,
   "id": "a98ffcfe-e0b5-4202-bc70-a41a300de92a",
   "metadata": {
    "execution": {
     "iopub.execute_input": "2024-07-24T13:37:53.827459Z",
     "iopub.status.busy": "2024-07-24T13:37:53.826806Z",
     "iopub.status.idle": "2024-07-24T13:37:53.996713Z",
     "shell.execute_reply": "2024-07-24T13:37:53.995971Z",
     "shell.execute_reply.started": "2024-07-24T13:37:53.827400Z"
    }
   },
   "outputs": [
    {
     "data": {
      "image/png": "[encoded data removed]",
      "text/plain": [
       "<Figure size 640x480 with 1 Axes>"
      ]
     },
     "metadata": {},
     "output_type": "display_data"
    }
   ],
   "source": [
    "fig = plt.figure()\n",
    "plt.title('train loss and accuracy')\n",
    "epochs = np.arange(1, num_epochs + 1)\n",
    "plt.axis([0, num_epochs, 0, 1])\n",
    "# losses, test_accuracy, test_f1\n",
    "plt.plot(epochs, losses, 'r.-', label='loss')\n",
    "# plt.plot(epochs, train_accuracy, 'g-.', label='train_acc')\n",
    "plt.plot(epochs, test_accuracy, 'g-.', label='test_acc')\n",
    "plt.plot(epochs, test_f1, 'b-.', label='test_f1')\n",
    "plt.legend(loc='best', frameon=False)\n",
    "plt.show()"
   ]
  },
  {
   "cell_type": "code",
   "execution_count": 50,
   "id": "f10871c4-1f16-4f25-8232-45d9914f5463",
   "metadata": {
    "execution": {
     "iopub.execute_input": "2024-07-24T13:38:36.717029Z",
     "iopub.status.busy": "2024-07-24T13:38:36.716745Z",
     "iopub.status.idle": "2024-07-24T13:38:36.735010Z",
     "shell.execute_reply": "2024-07-24T13:38:36.734490Z",
     "shell.execute_reply.started": "2024-07-24T13:38:36.717005Z"
    }
   },
   "outputs": [],
   "source": [
    "result = pd.DataFrame({\"train_acc\": train_accuracy,\n",
    "                       \"train_f1\": train_f1,\n",
    "                      \"test_acc\": test_accuracy,\n",
    "                      \"test_f1\": test_f1})\n",
    "result.to_excel(file_path + 'output/2layerfa.xlsx')"
   ]
  },
  {
   "cell_type": "code",
   "execution_count": 51,
   "id": "5ea1ff79-29ac-45da-97db-4d31225e01e7",
   "metadata": {
    "execution": {
     "iopub.execute_input": "2024-07-24T13:38:40.382957Z",
     "iopub.status.busy": "2024-07-24T13:38:40.382528Z",
     "iopub.status.idle": "2024-07-24T13:38:40.482680Z",
     "shell.execute_reply": "2024-07-24T13:38:40.482083Z",
     "shell.execute_reply.started": "2024-07-24T13:38:40.382931Z"
    }
   },
   "outputs": [],
   "source": [
    "torch.save(net.state_dict(), file_path + 'output/2layer_state_dict.pth')"
   ]
  },
  {
   "cell_type": "markdown",
   "id": "b998300f-78a4-4579-9dd4-e250a4b7bba8",
   "metadata": {},
   "source": [
    "## 2 层 Baseline, 30 epochs"
   ]
  },
  {
   "cell_type": "code",
   "execution_count": null,
   "id": "a7f971d9-bb89-4bde-a92d-e511b686448b",
   "metadata": {
    "execution": {
     "iopub.execute_input": "2024-07-25T00:35:09.459272Z",
     "iopub.status.busy": "2024-07-25T00:35:09.458661Z"
    }
   },
   "outputs": [
    {
     "name": "stderr",
     "output_type": "stream",
     "text": [
      "100%|██████████| 1073/1073 [02:12<00:00,  8.09it/s]\n"
     ]
    },
    {
     "name": "stdout",
     "output_type": "stream",
     "text": [
      "epoch 1, loss 1.065, train_acc 0.505, train_f1 0.505, test_acc 0.513, test_f1 0.513, taking 177 seconds\n"
     ]
    },
    {
     "name": "stderr",
     "output_type": "stream",
     "text": [
      "100%|██████████| 1073/1073 [02:15<00:00,  7.94it/s]\n"
     ]
    },
    {
     "name": "stdout",
     "output_type": "stream",
     "text": [
      "epoch 2, loss 0.950, train_acc 0.593, train_f1 0.591, test_acc 0.601, test_f1 0.599, taking 180 seconds\n"
     ]
    },
    {
     "name": "stderr",
     "output_type": "stream",
     "text": [
      "100%|██████████| 1073/1073 [02:15<00:00,  7.95it/s]\n"
     ]
    },
    {
     "name": "stdout",
     "output_type": "stream",
     "text": [
      "epoch 3, loss 0.886, train_acc 0.612, train_f1 0.607, test_acc 0.615, test_f1 0.608, taking 180 seconds\n"
     ]
    },
    {
     "name": "stderr",
     "output_type": "stream",
     "text": [
      "100%|██████████| 1073/1073 [02:14<00:00,  7.98it/s]\n"
     ]
    },
    {
     "name": "stdout",
     "output_type": "stream",
     "text": [
      "epoch 4, loss 0.859, train_acc 0.622, train_f1 0.622, test_acc 0.626, test_f1 0.625, taking 179 seconds\n"
     ]
    },
    {
     "name": "stderr",
     "output_type": "stream",
     "text": [
      "100%|██████████| 1073/1073 [02:15<00:00,  7.94it/s]\n"
     ]
    },
    {
     "name": "stdout",
     "output_type": "stream",
     "text": [
      "epoch 5, loss 0.850, train_acc 0.625, train_f1 0.624, test_acc 0.625, test_f1 0.623, taking 180 seconds\n"
     ]
    },
    {
     "name": "stderr",
     "output_type": "stream",
     "text": [
      "100%|██████████| 1073/1073 [02:15<00:00,  7.93it/s]\n"
     ]
    },
    {
     "name": "stdout",
     "output_type": "stream",
     "text": [
      "epoch 6, loss 0.846, train_acc 0.621, train_f1 0.618, test_acc 0.627, test_f1 0.624, taking 180 seconds\n"
     ]
    },
    {
     "name": "stderr",
     "output_type": "stream",
     "text": [
      "100%|██████████| 1073/1073 [02:14<00:00,  7.99it/s]\n"
     ]
    },
    {
     "name": "stdout",
     "output_type": "stream",
     "text": [
      "epoch 7, loss 0.849, train_acc 0.612, train_f1 0.609, test_acc 0.622, test_f1 0.620, taking 179 seconds\n"
     ]
    },
    {
     "name": "stderr",
     "output_type": "stream",
     "text": [
      "100%|██████████| 1073/1073 [02:15<00:00,  7.92it/s]\n"
     ]
    },
    {
     "name": "stdout",
     "output_type": "stream",
     "text": [
      "epoch 8, loss 0.849, train_acc 0.630, train_f1 0.630, test_acc 0.637, test_f1 0.636, taking 180 seconds\n"
     ]
    },
    {
     "name": "stderr",
     "output_type": "stream",
     "text": [
      "100%|██████████| 1073/1073 [02:15<00:00,  7.91it/s]\n"
     ]
    },
    {
     "name": "stdout",
     "output_type": "stream",
     "text": [
      "epoch 9, loss 0.846, train_acc 0.626, train_f1 0.625, test_acc 0.629, test_f1 0.627, taking 180 seconds\n"
     ]
    },
    {
     "name": "stderr",
     "output_type": "stream",
     "text": [
      "100%|██████████| 1073/1073 [02:14<00:00,  7.95it/s]\n"
     ]
    },
    {
     "name": "stdout",
     "output_type": "stream",
     "text": [
      "epoch 10, loss 0.838, train_acc 0.629, train_f1 0.629, test_acc 0.633, test_f1 0.633, taking 180 seconds\n"
     ]
    },
    {
     "name": "stderr",
     "output_type": "stream",
     "text": [
      "100%|██████████| 1073/1073 [02:15<00:00,  7.95it/s]\n"
     ]
    },
    {
     "name": "stdout",
     "output_type": "stream",
     "text": [
      "epoch 11, loss 0.837, train_acc 0.628, train_f1 0.624, test_acc 0.628, test_f1 0.624, taking 180 seconds\n"
     ]
    },
    {
     "name": "stderr",
     "output_type": "stream",
     "text": [
      "100%|██████████| 1073/1073 [02:15<00:00,  7.94it/s]\n"
     ]
    },
    {
     "name": "stdout",
     "output_type": "stream",
     "text": [
      "epoch 12, loss 0.838, train_acc 0.625, train_f1 0.622, test_acc 0.623, test_f1 0.620, taking 180 seconds\n"
     ]
    },
    {
     "name": "stderr",
     "output_type": "stream",
     "text": [
      "100%|██████████| 1073/1073 [02:15<00:00,  7.92it/s]\n"
     ]
    },
    {
     "name": "stdout",
     "output_type": "stream",
     "text": [
      "epoch 13, loss 0.830, train_acc 0.634, train_f1 0.633, test_acc 0.631, test_f1 0.630, taking 180 seconds\n"
     ]
    },
    {
     "name": "stderr",
     "output_type": "stream",
     "text": [
      "100%|██████████| 1073/1073 [02:15<00:00,  7.90it/s]\n"
     ]
    },
    {
     "name": "stdout",
     "output_type": "stream",
     "text": [
      "epoch 14, loss 0.833, train_acc 0.626, train_f1 0.626, test_acc 0.627, test_f1 0.627, taking 180 seconds\n"
     ]
    },
    {
     "name": "stderr",
     "output_type": "stream",
     "text": [
      "100%|██████████| 1073/1073 [02:13<00:00,  8.07it/s]\n"
     ]
    },
    {
     "name": "stdout",
     "output_type": "stream",
     "text": [
      "epoch 15, loss 0.839, train_acc 0.634, train_f1 0.634, test_acc 0.628, test_f1 0.629, taking 178 seconds\n"
     ]
    },
    {
     "name": "stderr",
     "output_type": "stream",
     "text": [
      "100%|██████████| 1073/1073 [02:15<00:00,  7.93it/s]\n"
     ]
    },
    {
     "name": "stdout",
     "output_type": "stream",
     "text": [
      "epoch 16, loss 0.828, train_acc 0.634, train_f1 0.633, test_acc 0.634, test_f1 0.634, taking 180 seconds\n"
     ]
    },
    {
     "name": "stderr",
     "output_type": "stream",
     "text": [
      "100%|██████████| 1073/1073 [02:15<00:00,  7.92it/s]\n"
     ]
    },
    {
     "name": "stdout",
     "output_type": "stream",
     "text": [
      "epoch 17, loss 0.824, train_acc 0.635, train_f1 0.634, test_acc 0.624, test_f1 0.624, taking 180 seconds\n"
     ]
    },
    {
     "name": "stderr",
     "output_type": "stream",
     "text": [
      "100%|██████████| 1073/1073 [02:14<00:00,  7.96it/s]\n"
     ]
    },
    {
     "name": "stdout",
     "output_type": "stream",
     "text": [
      "epoch 18, loss 0.830, train_acc 0.641, train_f1 0.639, test_acc 0.633, test_f1 0.630, taking 180 seconds\n"
     ]
    },
    {
     "name": "stderr",
     "output_type": "stream",
     "text": [
      "100%|██████████| 1073/1073 [02:14<00:00,  7.95it/s]\n"
     ]
    },
    {
     "name": "stdout",
     "output_type": "stream",
     "text": [
      "epoch 19, loss 0.835, train_acc 0.625, train_f1 0.623, test_acc 0.626, test_f1 0.624, taking 180 seconds\n"
     ]
    },
    {
     "name": "stderr",
     "output_type": "stream",
     "text": [
      "100%|██████████| 1073/1073 [02:14<00:00,  8.00it/s]\n"
     ]
    },
    {
     "name": "stdout",
     "output_type": "stream",
     "text": [
      "epoch 20, loss 0.840, train_acc 0.629, train_f1 0.629, test_acc 0.623, test_f1 0.623, taking 179 seconds\n"
     ]
    },
    {
     "name": "stderr",
     "output_type": "stream",
     "text": [
      "100%|██████████| 1073/1073 [02:15<00:00,  7.94it/s]\n"
     ]
    },
    {
     "name": "stdout",
     "output_type": "stream",
     "text": [
      "epoch 21, loss 0.830, train_acc 0.628, train_f1 0.626, test_acc 0.626, test_f1 0.623, taking 180 seconds\n"
     ]
    },
    {
     "name": "stderr",
     "output_type": "stream",
     "text": [
      "100%|██████████| 1073/1073 [02:14<00:00,  7.95it/s]\n"
     ]
    },
    {
     "name": "stdout",
     "output_type": "stream",
     "text": [
      "epoch 22, loss 0.838, train_acc 0.617, train_f1 0.614, test_acc 0.610, test_f1 0.608, taking 180 seconds\n"
     ]
    },
    {
     "name": "stderr",
     "output_type": "stream",
     "text": [
      "100%|██████████| 1073/1073 [02:14<00:00,  7.98it/s]\n"
     ]
    },
    {
     "name": "stdout",
     "output_type": "stream",
     "text": [
      "epoch 23, loss 0.844, train_acc 0.616, train_f1 0.615, test_acc 0.605, test_f1 0.604, taking 179 seconds\n"
     ]
    },
    {
     "name": "stderr",
     "output_type": "stream",
     "text": [
      "100%|██████████| 1073/1073 [02:15<00:00,  7.94it/s]\n"
     ]
    },
    {
     "name": "stdout",
     "output_type": "stream",
     "text": [
      "epoch 24, loss 0.866, train_acc 0.598, train_f1 0.597, test_acc 0.591, test_f1 0.590, taking 180 seconds\n"
     ]
    },
    {
     "name": "stderr",
     "output_type": "stream",
     "text": [
      "100%|██████████| 1073/1073 [02:14<00:00,  7.99it/s]\n"
     ]
    },
    {
     "name": "stdout",
     "output_type": "stream",
     "text": [
      "epoch 25, loss 0.872, train_acc 0.618, train_f1 0.617, test_acc 0.607, test_f1 0.605, taking 179 seconds\n"
     ]
    },
    {
     "name": "stderr",
     "output_type": "stream",
     "text": [
      "100%|██████████| 1073/1073 [02:15<00:00,  7.93it/s]\n"
     ]
    },
    {
     "name": "stdout",
     "output_type": "stream",
     "text": [
      "epoch 26, loss 0.848, train_acc 0.623, train_f1 0.621, test_acc 0.612, test_f1 0.609, taking 180 seconds\n"
     ]
    },
    {
     "name": "stderr",
     "output_type": "stream",
     "text": [
      "100%|██████████| 1073/1073 [02:14<00:00,  7.97it/s]\n"
     ]
    },
    {
     "name": "stdout",
     "output_type": "stream",
     "text": [
      "epoch 27, loss 0.850, train_acc 0.627, train_f1 0.627, test_acc 0.617, test_f1 0.617, taking 179 seconds\n"
     ]
    },
    {
     "name": "stderr",
     "output_type": "stream",
     "text": [
      "100%|██████████| 1073/1073 [02:15<00:00,  7.91it/s]\n"
     ]
    },
    {
     "name": "stdout",
     "output_type": "stream",
     "text": [
      "epoch 28, loss 0.836, train_acc 0.629, train_f1 0.627, test_acc 0.621, test_f1 0.619, taking 181 seconds\n"
     ]
    },
    {
     "name": "stderr",
     "output_type": "stream",
     "text": [
      "100%|██████████| 1073/1073 [02:14<00:00,  8.00it/s]\n"
     ]
    },
    {
     "name": "stdout",
     "output_type": "stream",
     "text": [
      "epoch 29, loss 0.834, train_acc 0.625, train_f1 0.623, test_acc 0.619, test_f1 0.616, taking 179 seconds\n"
     ]
    },
    {
     "name": "stderr",
     "output_type": "stream",
     "text": [
      " 43%|████▎     | 466/1073 [00:58<01:15,  8.04it/s]"
     ]
    }
   ],
   "source": [
    "# 以‘微调’的模式进行训练\n",
    "# activation function: nn.ReLU()\n",
    "# 15,860,739 total parameters.\n",
    "loss = nn.CrossEntropyLoss(reduction='none')\n",
    "# 为不同层赋予不同的学习率\n",
    "forward_params = [\n",
    "    param for name, param in basenet.named_parameters()\n",
    "    if name != \"token_embedding.weight\"]\n",
    "trainer = torch.optim.Adam(\n",
    "    [{'params': basenet.token_embedding.parameters()},\n",
    "    {'params': forward_params,\n",
    "    'lr': lr * 10}], lr=lr)\n",
    "basenet.to(device)\n",
    "\n",
    "num_batches = len(train_iter)\n",
    "losses, train_accuracy, test_accuracy = [], [], []\n",
    "train_f1, test_f1 = [], []\n",
    "total_start = time.time()\n",
    "for epoch in range(num_epochs):\n",
    "    train_loss = 0\n",
    "    start_time = time.perf_counter()\n",
    "    basenet.train()\n",
    "    for index, data in tqdm(enumerate(train_iter), total=num_batches, leave=True):\n",
    "        (tokens, segments, valid_len), y = data\n",
    "        tokens, segments, valid_len = [v.to(device) for v in (tokens, segments, valid_len)]\n",
    "        y = y.to(device)\n",
    "        l = loss(basenet(tokens, segments, valid_len), y)\n",
    "        trainer.zero_grad()\n",
    "        l.sum().backward()\n",
    "        trainer.step()\n",
    "        train_loss += l.sum().cpu().detach().numpy() / batch_size\n",
    "        # train_acc += d2l.accuracy(net(X, valid_len), y) / batch_size\n",
    "    epochloss = train_loss / num_batches\n",
    "    epochtrainacc, epochtrainf1 =evaluate_accuracy_f1(basenet, train_iter)\n",
    "    epochtestacc, epochtestf1 = evaluate_accuracy_f1(basenet, test_iter)\n",
    "    end_time = time.perf_counter()\n",
    "    print(f'epoch {epoch + 1}, loss {epochloss:.3f}, train_acc {epochtrainacc:.3f}, '\n",
    "        f'train_f1 {epochtrainf1:.3f}, test_acc {epochtestacc:.3f}, '\n",
    "        f'test_f1 {epochtestf1:.3f}, taking {round(end_time - start_time)} seconds')\n",
    "    losses.append(epochloss)\n",
    "    train_accuracy.append(epochtrainacc)\n",
    "    train_f1.append(epochtrainf1)\n",
    "    test_accuracy.append(epochtestacc)\n",
    "    test_f1.append(epochtestf1)\n",
    "total_timecost = round(time.time() - total_start)\n",
    "print('Training is finished.')\n",
    "print(f'训练损失:{losses[-1]:.3f}, 训练集准确率:{train_accuracy[-1]:.3f}, '\n",
    "      f'训练集f1:{train_f1[-1]:.3f}, 测试集准确率:{test_accuracy[-1]:.3f}, '\n",
    "     f'测试集f1:{train_f1[-1]:.3f}, 在设备{device}上训练{num_epochs}周期, 耗时{total_timecost} s')"
   ]
  },
  {
   "cell_type": "markdown",
   "id": "cbca17e9-ced7-4169-ad2f-e5cdb882ecf1",
   "metadata": {},
   "source": [
    "## 保存结果"
   ]
  },
  {
   "cell_type": "code",
   "execution_count": 21,
   "id": "adf5de48-2abf-45a9-bff8-d748fef9c979",
   "metadata": {
    "execution": {
     "iopub.execute_input": "2024-07-25T03:21:45.182423Z",
     "iopub.status.busy": "2024-07-25T03:21:45.181919Z",
     "iopub.status.idle": "2024-07-25T03:21:45.188787Z",
     "shell.execute_reply": "2024-07-25T03:21:45.187708Z",
     "shell.execute_reply.started": "2024-07-25T03:21:45.182374Z"
    }
   },
   "outputs": [
    {
     "name": "stdout",
     "output_type": "stream",
     "text": [
      "训练集最佳准确率: 0.641,\n",
      "训练集最佳F1分数: 0.639,\n",
      "测试集最佳准确率: 0.637,\n",
      "测试集最佳F1分数: 0.636\n"
     ]
    }
   ],
   "source": [
    "print(f\"训练集最佳准确率: {max(train_accuracy):.3f},\\n\"\n",
    "    f\"训练集最佳F1分数: {max(train_f1):.3f},\\n\"\n",
    "    f\"测试集最佳准确率: {max(test_accuracy):.3f},\\n\"\n",
    "    f\"测试集最佳F1分数: {max(test_f1):.3f}\")"
   ]
  },
  {
   "cell_type": "code",
   "execution_count": 22,
   "id": "ccc08cea-7f8d-4bec-80a5-2c82e859fa08",
   "metadata": {
    "execution": {
     "iopub.execute_input": "2024-07-25T03:21:56.465127Z",
     "iopub.status.busy": "2024-07-25T03:21:56.464614Z",
     "iopub.status.idle": "2024-07-25T03:21:56.631655Z",
     "shell.execute_reply": "2024-07-25T03:21:56.630878Z",
     "shell.execute_reply.started": "2024-07-25T03:21:56.465078Z"
    }
   },
   "outputs": [
    {
     "data": {
      "image/png": "[encoded data removed]",
      "text/plain": [
       "<Figure size 640x480 with 1 Axes>"
      ]
     },
     "metadata": {},
     "output_type": "display_data"
    }
   ],
   "source": [
    "fig = plt.figure()\n",
    "plt.title('train loss and accuracy')\n",
    "epochs = np.arange(1, num_epochs + 1)\n",
    "plt.axis([0, num_epochs, 0, 1])\n",
    "# losses, test_accuracy, test_f1\n",
    "plt.plot(epochs, losses, 'r.-', label='loss')\n",
    "# plt.plot(epochs, train_accuracy, 'g-.', label='train_acc')\n",
    "plt.plot(epochs, test_accuracy, 'g-.', label='test_acc')\n",
    "plt.plot(epochs, test_f1, 'b-.', label='test_f1')\n",
    "plt.legend(loc='best', frameon=False)\n",
    "plt.show()"
   ]
  },
  {
   "cell_type": "code",
   "execution_count": 23,
   "id": "77abe943-4e59-459a-8962-721b843eb36e",
   "metadata": {
    "execution": {
     "iopub.execute_input": "2024-07-25T03:22:09.186685Z",
     "iopub.status.busy": "2024-07-25T03:22:09.186298Z",
     "iopub.status.idle": "2024-07-25T03:22:09.214126Z",
     "shell.execute_reply": "2024-07-25T03:22:09.213020Z",
     "shell.execute_reply.started": "2024-07-25T03:22:09.186661Z"
    }
   },
   "outputs": [],
   "source": [
    "result = pd.DataFrame({\"train_acc\": train_accuracy,\n",
    "                       \"train_f1\": train_f1,\n",
    "                      \"test_acc\": test_accuracy,\n",
    "                      \"test_f1\": test_f1})\n",
    "result.to_excel(file_path + 'output/2layerba.xlsx')"
   ]
  },
  {
   "cell_type": "code",
   "execution_count": 24,
   "id": "466e9aba-e4e7-4508-acef-16a04b40bfcd",
   "metadata": {
    "execution": {
     "iopub.execute_input": "2024-07-25T03:22:17.745444Z",
     "iopub.status.busy": "2024-07-25T03:22:17.744317Z",
     "iopub.status.idle": "2024-07-25T03:22:17.865057Z",
     "shell.execute_reply": "2024-07-25T03:22:17.864047Z",
     "shell.execute_reply.started": "2024-07-25T03:22:17.745386Z"
    }
   },
   "outputs": [],
   "source": [
    "torch.save(basenet.state_dict(), file_path + 'output/2layerba_state_dict.pth')"
   ]
  },
  {
   "cell_type": "markdown",
   "id": "968ff2e3-3683-4ebd-96b8-4cc2d4e7126e",
   "metadata": {},
   "source": [
    "## 3层 FAM , 30 epochs"
   ]
  },
  {
   "cell_type": "code",
   "execution_count": 22,
   "id": "1d243d03-4067-4d83-b49b-3f4187608d34",
   "metadata": {
    "execution": {
     "iopub.execute_input": "2024-07-25T05:38:35.496392Z",
     "iopub.status.busy": "2024-07-25T05:38:35.496109Z",
     "iopub.status.idle": "2024-07-25T08:49:29.102750Z",
     "shell.execute_reply": "2024-07-25T08:49:29.101633Z",
     "shell.execute_reply.started": "2024-07-25T05:38:35.496368Z"
    }
   },
   "outputs": [
    {
     "name": "stderr",
     "output_type": "stream",
     "text": [
      "100%|██████████| 1073/1073 [04:35<00:00,  3.89it/s]\n"
     ]
    },
    {
     "name": "stdout",
     "output_type": "stream",
     "text": [
      "epoch 1, loss 1.054, train_acc 0.547, train_f1 0.540, test_acc 0.556, test_f1 0.550, taking 382 seconds\n"
     ]
    },
    {
     "name": "stderr",
     "output_type": "stream",
     "text": [
      "100%|██████████| 1073/1073 [04:35<00:00,  3.89it/s]\n"
     ]
    },
    {
     "name": "stdout",
     "output_type": "stream",
     "text": [
      "epoch 2, loss 0.899, train_acc 0.628, train_f1 0.627, test_acc 0.630, test_f1 0.629, taking 381 seconds\n"
     ]
    },
    {
     "name": "stderr",
     "output_type": "stream",
     "text": [
      "100%|██████████| 1073/1073 [04:35<00:00,  3.89it/s]\n"
     ]
    },
    {
     "name": "stdout",
     "output_type": "stream",
     "text": [
      "epoch 3, loss 0.826, train_acc 0.624, train_f1 0.622, test_acc 0.625, test_f1 0.621, taking 381 seconds\n"
     ]
    },
    {
     "name": "stderr",
     "output_type": "stream",
     "text": [
      "100%|██████████| 1073/1073 [04:36<00:00,  3.89it/s]\n"
     ]
    },
    {
     "name": "stdout",
     "output_type": "stream",
     "text": [
      "epoch 4, loss 0.789, train_acc 0.675, train_f1 0.673, test_acc 0.674, test_f1 0.672, taking 382 seconds\n"
     ]
    },
    {
     "name": "stderr",
     "output_type": "stream",
     "text": [
      "100%|██████████| 1073/1073 [04:36<00:00,  3.89it/s]\n"
     ]
    },
    {
     "name": "stdout",
     "output_type": "stream",
     "text": [
      "epoch 5, loss 0.759, train_acc 0.681, train_f1 0.680, test_acc 0.675, test_f1 0.674, taking 382 seconds\n"
     ]
    },
    {
     "name": "stderr",
     "output_type": "stream",
     "text": [
      "100%|██████████| 1073/1073 [04:35<00:00,  3.89it/s]\n"
     ]
    },
    {
     "name": "stdout",
     "output_type": "stream",
     "text": [
      "epoch 6, loss 0.732, train_acc 0.705, train_f1 0.704, test_acc 0.698, test_f1 0.696, taking 381 seconds\n"
     ]
    },
    {
     "name": "stderr",
     "output_type": "stream",
     "text": [
      "100%|██████████| 1073/1073 [04:35<00:00,  3.89it/s]\n"
     ]
    },
    {
     "name": "stdout",
     "output_type": "stream",
     "text": [
      "epoch 7, loss 0.709, train_acc 0.721, train_f1 0.719, test_acc 0.716, test_f1 0.714, taking 381 seconds\n"
     ]
    },
    {
     "name": "stderr",
     "output_type": "stream",
     "text": [
      "100%|██████████| 1073/1073 [04:36<00:00,  3.89it/s]\n"
     ]
    },
    {
     "name": "stdout",
     "output_type": "stream",
     "text": [
      "epoch 8, loss 0.687, train_acc 0.728, train_f1 0.728, test_acc 0.722, test_f1 0.721, taking 382 seconds\n"
     ]
    },
    {
     "name": "stderr",
     "output_type": "stream",
     "text": [
      "100%|██████████| 1073/1073 [04:35<00:00,  3.89it/s]\n"
     ]
    },
    {
     "name": "stdout",
     "output_type": "stream",
     "text": [
      "epoch 9, loss 0.666, train_acc 0.736, train_f1 0.734, test_acc 0.730, test_f1 0.728, taking 381 seconds\n"
     ]
    },
    {
     "name": "stderr",
     "output_type": "stream",
     "text": [
      "100%|██████████| 1073/1073 [04:35<00:00,  3.89it/s]\n"
     ]
    },
    {
     "name": "stdout",
     "output_type": "stream",
     "text": [
      "epoch 10, loss 0.640, train_acc 0.755, train_f1 0.753, test_acc 0.745, test_f1 0.743, taking 381 seconds\n"
     ]
    },
    {
     "name": "stderr",
     "output_type": "stream",
     "text": [
      "100%|██████████| 1073/1073 [04:35<00:00,  3.89it/s]\n"
     ]
    },
    {
     "name": "stdout",
     "output_type": "stream",
     "text": [
      "epoch 11, loss 0.618, train_acc 0.750, train_f1 0.747, test_acc 0.745, test_f1 0.742, taking 381 seconds\n"
     ]
    },
    {
     "name": "stderr",
     "output_type": "stream",
     "text": [
      "100%|██████████| 1073/1073 [04:35<00:00,  3.89it/s]\n"
     ]
    },
    {
     "name": "stdout",
     "output_type": "stream",
     "text": [
      "epoch 12, loss 0.599, train_acc 0.777, train_f1 0.776, test_acc 0.766, test_f1 0.764, taking 382 seconds\n"
     ]
    },
    {
     "name": "stderr",
     "output_type": "stream",
     "text": [
      "100%|██████████| 1073/1073 [04:35<00:00,  3.89it/s]\n"
     ]
    },
    {
     "name": "stdout",
     "output_type": "stream",
     "text": [
      "epoch 13, loss 0.576, train_acc 0.787, train_f1 0.786, test_acc 0.778, test_f1 0.777, taking 381 seconds\n"
     ]
    },
    {
     "name": "stderr",
     "output_type": "stream",
     "text": [
      "100%|██████████| 1073/1073 [04:36<00:00,  3.88it/s]\n"
     ]
    },
    {
     "name": "stdout",
     "output_type": "stream",
     "text": [
      "epoch 14, loss 0.559, train_acc 0.792, train_f1 0.793, test_acc 0.780, test_f1 0.780, taking 382 seconds\n"
     ]
    },
    {
     "name": "stderr",
     "output_type": "stream",
     "text": [
      "100%|██████████| 1073/1073 [04:36<00:00,  3.88it/s]\n"
     ]
    },
    {
     "name": "stdout",
     "output_type": "stream",
     "text": [
      "epoch 15, loss 0.544, train_acc 0.796, train_f1 0.795, test_acc 0.782, test_f1 0.781, taking 382 seconds\n"
     ]
    },
    {
     "name": "stderr",
     "output_type": "stream",
     "text": [
      "100%|██████████| 1073/1073 [04:36<00:00,  3.89it/s]\n"
     ]
    },
    {
     "name": "stdout",
     "output_type": "stream",
     "text": [
      "epoch 16, loss 0.532, train_acc 0.805, train_f1 0.803, test_acc 0.790, test_f1 0.788, taking 382 seconds\n"
     ]
    },
    {
     "name": "stderr",
     "output_type": "stream",
     "text": [
      "100%|██████████| 1073/1073 [04:36<00:00,  3.89it/s]\n"
     ]
    },
    {
     "name": "stdout",
     "output_type": "stream",
     "text": [
      "epoch 17, loss 0.520, train_acc 0.814, train_f1 0.815, test_acc 0.794, test_f1 0.794, taking 382 seconds\n"
     ]
    },
    {
     "name": "stderr",
     "output_type": "stream",
     "text": [
      "100%|██████████| 1073/1073 [04:36<00:00,  3.89it/s]\n"
     ]
    },
    {
     "name": "stdout",
     "output_type": "stream",
     "text": [
      "epoch 18, loss 0.510, train_acc 0.814, train_f1 0.814, test_acc 0.795, test_f1 0.795, taking 382 seconds\n"
     ]
    },
    {
     "name": "stderr",
     "output_type": "stream",
     "text": [
      "100%|██████████| 1073/1073 [04:36<00:00,  3.89it/s]\n"
     ]
    },
    {
     "name": "stdout",
     "output_type": "stream",
     "text": [
      "epoch 19, loss 0.500, train_acc 0.818, train_f1 0.819, test_acc 0.793, test_f1 0.793, taking 382 seconds\n"
     ]
    },
    {
     "name": "stderr",
     "output_type": "stream",
     "text": [
      "100%|██████████| 1073/1073 [04:35<00:00,  3.89it/s]\n"
     ]
    },
    {
     "name": "stdout",
     "output_type": "stream",
     "text": [
      "epoch 20, loss 0.491, train_acc 0.820, train_f1 0.818, test_acc 0.796, test_f1 0.793, taking 382 seconds\n"
     ]
    },
    {
     "name": "stderr",
     "output_type": "stream",
     "text": [
      "100%|██████████| 1073/1073 [04:36<00:00,  3.88it/s]\n"
     ]
    },
    {
     "name": "stdout",
     "output_type": "stream",
     "text": [
      "epoch 21, loss 0.482, train_acc 0.827, train_f1 0.828, test_acc 0.804, test_f1 0.804, taking 382 seconds\n"
     ]
    },
    {
     "name": "stderr",
     "output_type": "stream",
     "text": [
      "100%|██████████| 1073/1073 [04:36<00:00,  3.89it/s]\n"
     ]
    },
    {
     "name": "stdout",
     "output_type": "stream",
     "text": [
      "epoch 22, loss 0.474, train_acc 0.827, train_f1 0.825, test_acc 0.801, test_f1 0.798, taking 382 seconds\n"
     ]
    },
    {
     "name": "stderr",
     "output_type": "stream",
     "text": [
      "100%|██████████| 1073/1073 [04:36<00:00,  3.88it/s]\n"
     ]
    },
    {
     "name": "stdout",
     "output_type": "stream",
     "text": [
      "epoch 23, loss 0.466, train_acc 0.835, train_f1 0.834, test_acc 0.805, test_f1 0.803, taking 382 seconds\n"
     ]
    },
    {
     "name": "stderr",
     "output_type": "stream",
     "text": [
      "100%|██████████| 1073/1073 [04:36<00:00,  3.89it/s]\n"
     ]
    },
    {
     "name": "stdout",
     "output_type": "stream",
     "text": [
      "epoch 24, loss 0.458, train_acc 0.838, train_f1 0.838, test_acc 0.807, test_f1 0.806, taking 382 seconds\n"
     ]
    },
    {
     "name": "stderr",
     "output_type": "stream",
     "text": [
      "100%|██████████| 1073/1073 [04:36<00:00,  3.89it/s]\n"
     ]
    },
    {
     "name": "stdout",
     "output_type": "stream",
     "text": [
      "epoch 25, loss 0.452, train_acc 0.840, train_f1 0.840, test_acc 0.807, test_f1 0.807, taking 382 seconds\n"
     ]
    },
    {
     "name": "stderr",
     "output_type": "stream",
     "text": [
      "100%|██████████| 1073/1073 [04:36<00:00,  3.88it/s]\n"
     ]
    },
    {
     "name": "stdout",
     "output_type": "stream",
     "text": [
      "epoch 26, loss 0.445, train_acc 0.845, train_f1 0.844, test_acc 0.812, test_f1 0.811, taking 382 seconds\n"
     ]
    },
    {
     "name": "stderr",
     "output_type": "stream",
     "text": [
      "100%|██████████| 1073/1073 [04:35<00:00,  3.89it/s]\n"
     ]
    },
    {
     "name": "stdout",
     "output_type": "stream",
     "text": [
      "epoch 27, loss 0.439, train_acc 0.850, train_f1 0.849, test_acc 0.812, test_f1 0.811, taking 381 seconds\n"
     ]
    },
    {
     "name": "stderr",
     "output_type": "stream",
     "text": [
      "100%|██████████| 1073/1073 [04:36<00:00,  3.89it/s]\n"
     ]
    },
    {
     "name": "stdout",
     "output_type": "stream",
     "text": [
      "epoch 28, loss 0.432, train_acc 0.850, train_f1 0.850, test_acc 0.807, test_f1 0.808, taking 382 seconds\n"
     ]
    },
    {
     "name": "stderr",
     "output_type": "stream",
     "text": [
      "100%|██████████| 1073/1073 [04:36<00:00,  3.89it/s]\n"
     ]
    },
    {
     "name": "stdout",
     "output_type": "stream",
     "text": [
      "epoch 29, loss 0.426, train_acc 0.854, train_f1 0.853, test_acc 0.811, test_f1 0.810, taking 382 seconds\n"
     ]
    },
    {
     "name": "stderr",
     "output_type": "stream",
     "text": [
      "100%|██████████| 1073/1073 [04:36<00:00,  3.89it/s]\n"
     ]
    },
    {
     "name": "stdout",
     "output_type": "stream",
     "text": [
      "epoch 30, loss 0.420, train_acc 0.858, train_f1 0.858, test_acc 0.816, test_f1 0.815, taking 382 seconds\n",
      "Training is finished.\n",
      "训练损失:0.420, 训练集准确率:0.858, 训练集f1:0.858, 测试集准确率:0.816, 测试集f1:0.858, 在设备cuda:0上训练30周期, 耗时11451 s\n"
     ]
    }
   ],
   "source": [
    "# 以‘微调’的模式进行训练\n",
    "# activation function: nn.ReLU()\n",
    "# 16,956,461 total parameters.\n",
    "loss = nn.CrossEntropyLoss(reduction='none')\n",
    "# 为不同层赋予不同的学习率\n",
    "forward_params = [\n",
    "    param for name, param in net.named_parameters()\n",
    "    if name != \"token_embedding.weight\"]\n",
    "trainer = torch.optim.Adam(\n",
    "    [{'params': net.token_embedding.parameters()},\n",
    "    {'params': forward_params,\n",
    "    'lr': lr * 10}], lr=lr)\n",
    "net.to(device)\n",
    "\n",
    "num_batches = len(train_iter)\n",
    "losses, train_accuracy, test_accuracy = [], [], []\n",
    "train_f1, test_f1 = [], []\n",
    "total_start = time.time()\n",
    "for epoch in range(num_epochs):\n",
    "    train_loss = 0\n",
    "    start_time = time.perf_counter()\n",
    "    net.train()\n",
    "    for index, data in tqdm(enumerate(train_iter), total=num_batches, leave=True):\n",
    "        (tokens, segments, valid_len), y = data\n",
    "        tokens, segments, valid_len = [v.to(device) for v in (tokens, segments, valid_len)]\n",
    "        y = y.to(device)\n",
    "        l = loss(net(tokens, segments, valid_len), y)\n",
    "        trainer.zero_grad()\n",
    "        l.sum().backward()\n",
    "        trainer.step()\n",
    "        train_loss += l.sum().cpu().detach().numpy() / batch_size\n",
    "        # train_acc += d2l.accuracy(net(X, valid_len), y) / batch_size\n",
    "    epochloss = train_loss / num_batches\n",
    "    epochtrainacc, epochtrainf1 =evaluate_accuracy_f1(net, train_iter)\n",
    "    epochtestacc, epochtestf1 = evaluate_accuracy_f1(net, test_iter)\n",
    "    end_time = time.perf_counter()\n",
    "    print(f'epoch {epoch + 1}, loss {epochloss:.3f}, train_acc {epochtrainacc:.3f}, '\n",
    "        f'train_f1 {epochtrainf1:.3f}, test_acc {epochtestacc:.3f}, '\n",
    "        f'test_f1 {epochtestf1:.3f}, taking {round(end_time - start_time)} seconds')\n",
    "    losses.append(epochloss)\n",
    "    train_accuracy.append(epochtrainacc)\n",
    "    train_f1.append(epochtrainf1)\n",
    "    test_accuracy.append(epochtestacc)\n",
    "    test_f1.append(epochtestf1)\n",
    "total_timecost = round(time.time() - total_start)\n",
    "print('Training is finished.')\n",
    "print(f'训练损失:{losses[-1]:.3f}, 训练集准确率:{train_accuracy[-1]:.3f}, '\n",
    "      f'训练集f1:{train_f1[-1]:.3f}, 测试集准确率:{test_accuracy[-1]:.3f}, '\n",
    "     f'测试集f1:{test_f1[-1]:.3f}, 在设备{device}上训练{num_epochs}周期, 耗时{total_timecost} s')"
   ]
  },
  {
   "cell_type": "markdown",
   "id": "67c2c307-8b8e-4457-99c9-6427efae1d29",
   "metadata": {},
   "source": [
    "## 保存结果"
   ]
  },
  {
   "cell_type": "code",
   "execution_count": 23,
   "id": "66c3dbd8-2f6b-4c38-8ba1-be1df4f1ac62",
   "metadata": {
    "execution": {
     "iopub.execute_input": "2024-07-25T08:53:41.284081Z",
     "iopub.status.busy": "2024-07-25T08:53:41.283753Z",
     "iopub.status.idle": "2024-07-25T08:53:41.289756Z",
     "shell.execute_reply": "2024-07-25T08:53:41.288861Z",
     "shell.execute_reply.started": "2024-07-25T08:53:41.284054Z"
    }
   },
   "outputs": [
    {
     "name": "stdout",
     "output_type": "stream",
     "text": [
      "训练集最佳准确率: 0.858,\n",
      "训练集最佳F1分数: 0.858,\n",
      "测试集最佳准确率: 0.816,\n",
      "测试集最佳F1分数: 0.815\n"
     ]
    }
   ],
   "source": [
    "print(f\"训练集最佳准确率: {max(train_accuracy):.3f},\\n\"\n",
    "    f\"训练集最佳F1分数: {max(train_f1):.3f},\\n\"\n",
    "    f\"测试集最佳准确率: {max(test_accuracy):.3f},\\n\"\n",
    "    f\"测试集最佳F1分数: {max(test_f1):.3f}\")"
   ]
  },
  {
   "cell_type": "code",
   "execution_count": 24,
   "id": "b7ddac19-e6bb-4e06-a86d-c5cc90324481",
   "metadata": {
    "execution": {
     "iopub.execute_input": "2024-07-25T08:54:38.330162Z",
     "iopub.status.busy": "2024-07-25T08:54:38.329880Z",
     "iopub.status.idle": "2024-07-25T08:54:38.481974Z",
     "shell.execute_reply": "2024-07-25T08:54:38.481125Z",
     "shell.execute_reply.started": "2024-07-25T08:54:38.330138Z"
    }
   },
   "outputs": [
    {
     "data": {
      "image/png": "[encoded data removed]",
      "text/plain": [
       "<Figure size 640x480 with 1 Axes>"
      ]
     },
     "metadata": {},
     "output_type": "display_data"
    }
   ],
   "source": [
    "fig = plt.figure()\n",
    "plt.title('train loss and accuracy')\n",
    "epochs = np.arange(1, num_epochs + 1)\n",
    "plt.axis([0, num_epochs, 0, 1])\n",
    "# losses, test_accuracy, test_f1\n",
    "plt.plot(epochs, losses, 'r.-', label='loss')\n",
    "# plt.plot(epochs, train_accuracy, 'g-.', label='train_acc')\n",
    "plt.plot(epochs, test_accuracy, 'g-.', label='test_acc')\n",
    "plt.plot(epochs, test_f1, 'b-.', label='test_f1')\n",
    "plt.legend(loc='best', frameon=False)\n",
    "plt.show()"
   ]
  },
  {
   "cell_type": "code",
   "execution_count": 25,
   "id": "7593f3e7-4d6f-4695-9f20-03d75ac21115",
   "metadata": {
    "execution": {
     "iopub.execute_input": "2024-07-25T08:55:14.261369Z",
     "iopub.status.busy": "2024-07-25T08:55:14.261086Z",
     "iopub.status.idle": "2024-07-25T08:55:14.280246Z",
     "shell.execute_reply": "2024-07-25T08:55:14.279391Z",
     "shell.execute_reply.started": "2024-07-25T08:55:14.261345Z"
    }
   },
   "outputs": [],
   "source": [
    "result = pd.DataFrame({\"train_acc\": train_accuracy,\n",
    "                       \"train_f1\": train_f1,\n",
    "                      \"test_acc\": test_accuracy,\n",
    "                      \"test_f1\": test_f1})\n",
    "result.to_excel(file_path + 'output/3layerfa.xlsx')"
   ]
  },
  {
   "cell_type": "code",
   "execution_count": 26,
   "id": "4f62a84e-e811-4b52-b4d7-5851b36b470d",
   "metadata": {
    "execution": {
     "iopub.execute_input": "2024-07-25T08:55:47.183398Z",
     "iopub.status.busy": "2024-07-25T08:55:47.182918Z",
     "iopub.status.idle": "2024-07-25T08:55:47.318713Z",
     "shell.execute_reply": "2024-07-25T08:55:47.317805Z",
     "shell.execute_reply.started": "2024-07-25T08:55:47.183373Z"
    }
   },
   "outputs": [],
   "source": [
    "torch.save(net.state_dict(), file_path + 'output/3layer_state_dict.pth')"
   ]
  },
  {
   "cell_type": "markdown",
   "id": "7b45cd0d-3f6d-4f6c-b9dd-0b8cf471696e",
   "metadata": {},
   "source": [
    "## 3 层 Baseline, 30 epochs"
   ]
  },
  {
   "cell_type": "code",
   "execution_count": 21,
   "id": "c681279f-fd65-46c0-a372-b5689a2be194",
   "metadata": {
    "execution": {
     "iopub.execute_input": "2024-07-25T11:07:37.039793Z",
     "iopub.status.busy": "2024-07-25T11:07:37.038559Z",
     "iopub.status.idle": "2024-07-25T13:14:46.860673Z",
     "shell.execute_reply": "2024-07-25T13:14:46.859985Z",
     "shell.execute_reply.started": "2024-07-25T11:07:37.039730Z"
    }
   },
   "outputs": [
    {
     "name": "stderr",
     "output_type": "stream",
     "text": [
      "100%|██████████| 1073/1073 [03:06<00:00,  5.74it/s]\n"
     ]
    },
    {
     "name": "stdout",
     "output_type": "stream",
     "text": [
      "epoch 1, loss 1.073, train_acc 0.506, train_f1 0.507, test_acc 0.519, test_f1 0.521, taking 252 seconds\n"
     ]
    },
    {
     "name": "stderr",
     "output_type": "stream",
     "text": [
      "100%|██████████| 1073/1073 [03:08<00:00,  5.68it/s]\n"
     ]
    },
    {
     "name": "stdout",
     "output_type": "stream",
     "text": [
      "epoch 2, loss 0.942, train_acc 0.598, train_f1 0.597, test_acc 0.604, test_f1 0.604, taking 254 seconds\n"
     ]
    },
    {
     "name": "stderr",
     "output_type": "stream",
     "text": [
      "100%|██████████| 1073/1073 [03:08<00:00,  5.68it/s]\n"
     ]
    },
    {
     "name": "stdout",
     "output_type": "stream",
     "text": [
      "epoch 3, loss 0.885, train_acc 0.596, train_f1 0.595, test_acc 0.599, test_f1 0.599, taking 254 seconds\n"
     ]
    },
    {
     "name": "stderr",
     "output_type": "stream",
     "text": [
      "100%|██████████| 1073/1073 [03:08<00:00,  5.68it/s]\n"
     ]
    },
    {
     "name": "stdout",
     "output_type": "stream",
     "text": [
      "epoch 4, loss 0.868, train_acc 0.607, train_f1 0.603, test_acc 0.611, test_f1 0.606, taking 254 seconds\n"
     ]
    },
    {
     "name": "stderr",
     "output_type": "stream",
     "text": [
      "100%|██████████| 1073/1073 [03:09<00:00,  5.68it/s]\n"
     ]
    },
    {
     "name": "stdout",
     "output_type": "stream",
     "text": [
      "epoch 5, loss 0.854, train_acc 0.606, train_f1 0.603, test_acc 0.608, test_f1 0.605, taking 254 seconds\n"
     ]
    },
    {
     "name": "stderr",
     "output_type": "stream",
     "text": [
      "100%|██████████| 1073/1073 [03:08<00:00,  5.68it/s]\n"
     ]
    },
    {
     "name": "stdout",
     "output_type": "stream",
     "text": [
      "epoch 6, loss 0.861, train_acc 0.615, train_f1 0.614, test_acc 0.615, test_f1 0.614, taking 254 seconds\n"
     ]
    },
    {
     "name": "stderr",
     "output_type": "stream",
     "text": [
      "100%|██████████| 1073/1073 [03:08<00:00,  5.68it/s]\n"
     ]
    },
    {
     "name": "stdout",
     "output_type": "stream",
     "text": [
      "epoch 7, loss 0.861, train_acc 0.630, train_f1 0.630, test_acc 0.624, test_f1 0.624, taking 254 seconds\n"
     ]
    },
    {
     "name": "stderr",
     "output_type": "stream",
     "text": [
      " 79%|███████▊  | 844/1073 [02:28<00:39,  5.76it/s]IOPub message rate exceeded.\n",
      "The Jupyter server will temporarily stop sending output\n",
      "to the client in order to avoid crashing it.\n",
      "To change this limit, set the config variable\n",
      "`--ServerApp.iopub_msg_rate_limit`.\n",
      "\n",
      "Current values:\n",
      "ServerApp.iopub_msg_rate_limit=1000.0 (msgs/sec)\n",
      "ServerApp.rate_limit_window=3.0 (secs)\n",
      "\n",
      "100%|██████████| 1073/1073 [03:08<00:00,  5.68it/s]\n"
     ]
    },
    {
     "name": "stdout",
     "output_type": "stream",
     "text": [
      "epoch 17, loss 0.821, train_acc 0.641, train_f1 0.639, test_acc 0.633, test_f1 0.631, taking 254 seconds\n"
     ]
    },
    {
     "name": "stderr",
     "output_type": "stream",
     "text": [
      "100%|██████████| 1073/1073 [03:08<00:00,  5.68it/s]\n"
     ]
    },
    {
     "name": "stdout",
     "output_type": "stream",
     "text": [
      "epoch 18, loss 0.816, train_acc 0.643, train_f1 0.643, test_acc 0.633, test_f1 0.632, taking 254 seconds\n"
     ]
    },
    {
     "name": "stderr",
     "output_type": "stream",
     "text": [
      "100%|██████████| 1073/1073 [03:08<00:00,  5.68it/s]\n"
     ]
    },
    {
     "name": "stdout",
     "output_type": "stream",
     "text": [
      "epoch 19, loss 0.815, train_acc 0.639, train_f1 0.635, test_acc 0.636, test_f1 0.631, taking 254 seconds\n"
     ]
    },
    {
     "name": "stderr",
     "output_type": "stream",
     "text": [
      "100%|██████████| 1073/1073 [03:08<00:00,  5.68it/s]\n"
     ]
    },
    {
     "name": "stdout",
     "output_type": "stream",
     "text": [
      "epoch 20, loss 0.811, train_acc 0.642, train_f1 0.640, test_acc 0.637, test_f1 0.635, taking 254 seconds\n"
     ]
    },
    {
     "name": "stderr",
     "output_type": "stream",
     "text": [
      "100%|██████████| 1073/1073 [03:09<00:00,  5.68it/s]\n"
     ]
    },
    {
     "name": "stdout",
     "output_type": "stream",
     "text": [
      "epoch 21, loss 0.816, train_acc 0.637, train_f1 0.637, test_acc 0.635, test_f1 0.634, taking 255 seconds\n"
     ]
    },
    {
     "name": "stderr",
     "output_type": "stream",
     "text": [
      "100%|██████████| 1073/1073 [03:09<00:00,  5.67it/s]\n"
     ]
    },
    {
     "name": "stdout",
     "output_type": "stream",
     "text": [
      "epoch 22, loss 0.818, train_acc 0.641, train_f1 0.639, test_acc 0.634, test_f1 0.631, taking 255 seconds\n"
     ]
    },
    {
     "name": "stderr",
     "output_type": "stream",
     "text": [
      "100%|██████████| 1073/1073 [03:09<00:00,  5.68it/s]\n"
     ]
    },
    {
     "name": "stdout",
     "output_type": "stream",
     "text": [
      "epoch 23, loss 0.811, train_acc 0.640, train_f1 0.637, test_acc 0.633, test_f1 0.629, taking 255 seconds\n"
     ]
    },
    {
     "name": "stderr",
     "output_type": "stream",
     "text": [
      "100%|██████████| 1073/1073 [03:09<00:00,  5.67it/s]\n"
     ]
    },
    {
     "name": "stdout",
     "output_type": "stream",
     "text": [
      "epoch 24, loss 0.810, train_acc 0.634, train_f1 0.630, test_acc 0.624, test_f1 0.619, taking 255 seconds\n"
     ]
    },
    {
     "name": "stderr",
     "output_type": "stream",
     "text": [
      "100%|██████████| 1073/1073 [03:09<00:00,  5.67it/s]\n"
     ]
    },
    {
     "name": "stdout",
     "output_type": "stream",
     "text": [
      "epoch 25, loss 0.813, train_acc 0.644, train_f1 0.643, test_acc 0.640, test_f1 0.639, taking 255 seconds\n"
     ]
    },
    {
     "name": "stderr",
     "output_type": "stream",
     "text": [
      "  4%|▍         | 47/1073 [00:08<02:58,  5.74it/s]IOPub message rate exceeded.\n",
      "The Jupyter server will temporarily stop sending output\n",
      "to the client in order to avoid crashing it.\n",
      "To change this limit, set the config variable\n",
      "`--ServerApp.iopub_msg_rate_limit`.\n",
      "\n",
      "Current values:\n",
      "ServerApp.iopub_msg_rate_limit=1000.0 (msgs/sec)\n",
      "ServerApp.rate_limit_window=3.0 (secs)\n",
      "\n",
      "100%|██████████| 1073/1073 [03:09<00:00,  5.68it/s]\n"
     ]
    },
    {
     "name": "stdout",
     "output_type": "stream",
     "text": [
      "epoch 29, loss 0.809, train_acc 0.639, train_f1 0.637, test_acc 0.632, test_f1 0.629, taking 254 seconds\n"
     ]
    },
    {
     "name": "stderr",
     "output_type": "stream",
     "text": [
      "100%|██████████| 1073/1073 [03:08<00:00,  5.68it/s]\n"
     ]
    },
    {
     "name": "stdout",
     "output_type": "stream",
     "text": [
      "epoch 30, loss 0.806, train_acc 0.648, train_f1 0.648, test_acc 0.636, test_f1 0.636, taking 254 seconds\n",
      "Training is finished.\n",
      "训练损失:0.806, 训练集准确率:0.648, 训练集f1:0.648, 测试集准确率:0.636, 测试集f1:0.636, 在设备cuda:0上训练30周期, 耗时7630 s\n"
     ]
    }
   ],
   "source": [
    "# 以‘微调’的模式进行训练\n",
    "# activation function: nn.ReLU()\n",
    "# 19,013,123 total parameters.\n",
    "loss = nn.CrossEntropyLoss(reduction='none')\n",
    "# 为不同层赋予不同的学习率\n",
    "forward_params = [\n",
    "    param for name, param in basenet.named_parameters()\n",
    "    if name != \"token_embedding.weight\"]\n",
    "trainer = torch.optim.Adam(\n",
    "    [{'params': basenet.token_embedding.parameters()},\n",
    "    {'params': forward_params,\n",
    "    'lr': lr * 10}], lr=lr)\n",
    "basenet.to(device)\n",
    "\n",
    "num_batches = len(train_iter)\n",
    "losses, train_accuracy, test_accuracy = [], [], []\n",
    "train_f1, test_f1 = [], []\n",
    "total_start = time.time()\n",
    "for epoch in range(num_epochs):\n",
    "    train_loss = 0\n",
    "    start_time = time.perf_counter()\n",
    "    basenet.train()\n",
    "    for index, data in tqdm(enumerate(train_iter), total=num_batches, leave=True):\n",
    "        (tokens, segments, valid_len), y = data\n",
    "        tokens, segments, valid_len = [v.to(device) for v in (tokens, segments, valid_len)]\n",
    "        y = y.to(device)\n",
    "        l = loss(basenet(tokens, segments, valid_len), y)\n",
    "        trainer.zero_grad()\n",
    "        l.sum().backward()\n",
    "        trainer.step()\n",
    "        train_loss += l.sum().cpu().detach().numpy() / batch_size\n",
    "        # train_acc += d2l.accuracy(net(X, valid_len), y) / batch_size\n",
    "    epochloss = train_loss / num_batches\n",
    "    epochtrainacc, epochtrainf1 =evaluate_accuracy_f1(basenet, train_iter)\n",
    "    epochtestacc, epochtestf1 = evaluate_accuracy_f1(basenet, test_iter)\n",
    "    end_time = time.perf_counter()\n",
    "    print(f'epoch {epoch + 1}, loss {epochloss:.3f}, train_acc {epochtrainacc:.3f}, '\n",
    "        f'train_f1 {epochtrainf1:.3f}, test_acc {epochtestacc:.3f}, '\n",
    "        f'test_f1 {epochtestf1:.3f}, taking {round(end_time - start_time)} seconds')\n",
    "    losses.append(epochloss)\n",
    "    train_accuracy.append(epochtrainacc)\n",
    "    train_f1.append(epochtrainf1)\n",
    "    test_accuracy.append(epochtestacc)\n",
    "    test_f1.append(epochtestf1)\n",
    "total_timecost = round(time.time() - total_start)\n",
    "print('Training is finished.')\n",
    "print(f'训练损失:{losses[-1]:.3f}, 训练集准确率:{train_accuracy[-1]:.3f}, '\n",
    "      f'训练集f1:{train_f1[-1]:.3f}, 测试集准确率:{test_accuracy[-1]:.3f}, '\n",
    "     f'测试集f1:{test_f1[-1]:.3f}, 在设备{device}上训练{num_epochs}周期, 耗时{total_timecost} s')"
   ]
  },
  {
   "cell_type": "markdown",
   "id": "9525f50c-278d-44fb-9409-332bc0ebf2a8",
   "metadata": {},
   "source": [
    "## 保存结果"
   ]
  },
  {
   "cell_type": "code",
   "execution_count": 22,
   "id": "8ee4613f-6055-412a-b58b-8ccb4492d810",
   "metadata": {
    "execution": {
     "iopub.execute_input": "2024-07-25T13:29:08.185999Z",
     "iopub.status.busy": "2024-07-25T13:29:08.185707Z",
     "iopub.status.idle": "2024-07-25T13:29:08.190070Z",
     "shell.execute_reply": "2024-07-25T13:29:08.189450Z",
     "shell.execute_reply.started": "2024-07-25T13:29:08.185974Z"
    }
   },
   "outputs": [
    {
     "name": "stdout",
     "output_type": "stream",
     "text": [
      "训练集最佳准确率: 0.648,\n",
      "训练集最佳F1分数: 0.648,\n",
      "测试集最佳准确率: 0.640,\n",
      "测试集最佳F1分数: 0.639\n"
     ]
    }
   ],
   "source": [
    "print(f\"训练集最佳准确率: {max(train_accuracy):.3f},\\n\"\n",
    "    f\"训练集最佳F1分数: {max(train_f1):.3f},\\n\"\n",
    "    f\"测试集最佳准确率: {max(test_accuracy):.3f},\\n\"\n",
    "    f\"测试集最佳F1分数: {max(test_f1):.3f}\")"
   ]
  },
  {
   "cell_type": "code",
   "execution_count": 23,
   "id": "7ec0642c-7c3c-4892-bf68-cd5745ae840c",
   "metadata": {
    "execution": {
     "iopub.execute_input": "2024-07-25T13:29:19.686818Z",
     "iopub.status.busy": "2024-07-25T13:29:19.686298Z",
     "iopub.status.idle": "2024-07-25T13:29:19.862588Z",
     "shell.execute_reply": "2024-07-25T13:29:19.861836Z",
     "shell.execute_reply.started": "2024-07-25T13:29:19.686768Z"
    }
   },
   "outputs": [
    {
     "data": {
      "image/png": "[encoded data removed]",
      "text/plain": [
       "<Figure size 640x480 with 1 Axes>"
      ]
     },
     "metadata": {},
     "output_type": "display_data"
    }
   ],
   "source": [
    "fig = plt.figure()\n",
    "plt.title('train loss and accuracy')\n",
    "epochs = np.arange(1, num_epochs + 1)\n",
    "plt.axis([0, num_epochs, 0, 1])\n",
    "# losses, test_accuracy, test_f1\n",
    "plt.plot(epochs, losses, 'r.-', label='loss')\n",
    "# plt.plot(epochs, train_accuracy, 'g-.', label='train_acc')\n",
    "plt.plot(epochs, test_accuracy, 'g-.', label='test_acc')\n",
    "plt.plot(epochs, test_f1, 'b-.', label='test_f1')\n",
    "plt.legend(loc='best', frameon=False)\n",
    "plt.show()"
   ]
  },
  {
   "cell_type": "code",
   "execution_count": 24,
   "id": "4120a583-0340-4536-95cd-25b372bd4947",
   "metadata": {
    "execution": {
     "iopub.execute_input": "2024-07-25T13:29:37.287467Z",
     "iopub.status.busy": "2024-07-25T13:29:37.286982Z",
     "iopub.status.idle": "2024-07-25T13:29:37.408672Z",
     "shell.execute_reply": "2024-07-25T13:29:37.407774Z",
     "shell.execute_reply.started": "2024-07-25T13:29:37.287442Z"
    }
   },
   "outputs": [],
   "source": [
    "result = pd.DataFrame({\"train_acc\": train_accuracy,\n",
    "                       \"train_f1\": train_f1,\n",
    "                      \"test_acc\": test_accuracy,\n",
    "                      \"test_f1\": test_f1})\n",
    "result.to_excel(file_path + 'output/3layerba.xlsx')"
   ]
  },
  {
   "cell_type": "code",
   "execution_count": 25,
   "id": "623c532c-a97a-4b6f-add8-3788d65f46df",
   "metadata": {
    "execution": {
     "iopub.execute_input": "2024-07-25T13:29:58.075755Z",
     "iopub.status.busy": "2024-07-25T13:29:58.075259Z",
     "iopub.status.idle": "2024-07-25T13:29:58.200470Z",
     "shell.execute_reply": "2024-07-25T13:29:58.199483Z",
     "shell.execute_reply.started": "2024-07-25T13:29:58.075728Z"
    }
   },
   "outputs": [],
   "source": [
    "torch.save(basenet.state_dict(), file_path + 'output/3layerba_state_dict.pth')"
   ]
  },
  {
   "cell_type": "markdown",
   "id": "c09b50c6-a4cd-414b-a2c7-c2ef12c899f4",
   "metadata": {},
   "source": [
    "# 结尾"
   ]
  }
 ],
 "metadata": {
  "kernelspec": {
   "display_name": "Python 3 (ipykernel)",
   "language": "python",
   "name": "python3"
  },
  "language_info": {
   "codemirror_mode": {
    "name": "ipython",
    "version": 3
   },
   "file_extension": ".py",
   "mimetype": "text/x-python",
   "name": "python",
   "nbconvert_exporter": "python",
   "pygments_lexer": "ipython3",
   "version": "3.8.10"
  }
 },
 "nbformat": 4,
 "nbformat_minor": 5
}
