{
 "cells": [
  {
   "cell_type": "markdown",
   "id": "1705b86b-0be7-4801-bb5a-b7f1acab1530",
   "metadata": {},
   "source": [
    "# 环境"
   ]
  },
  {
   "cell_type": "markdown",
   "id": "6f6b5d99-e025-4927-a3c0-c60ee3253fa4",
   "metadata": {},
   "source": [
    "  为实验安装需要用到的库"
   ]
  },
  {
   "cell_type": "code",
   "execution_count": null,
   "id": "3c56be2e-c912-42b5-a150-89fee79158e5",
   "metadata": {},
   "outputs": [],
   "source": [
    "# !pip install datasets\n",
    "# !pip install factor_analyzer\n",
    "# !pip install xlwt\n",
    "# !pip install seaborn\n",
    "# !pip install gensim"
   ]
  },
  {
   "cell_type": "markdown",
   "id": "36509c18-ac15-47b1-accb-be5966d68b3d",
   "metadata": {},
   "source": [
    "# 准备数据"
   ]
  },
  {
   "cell_type": "code",
   "execution_count": 1,
   "id": "a56b34f6-e408-4b4a-885c-5c31f0b746d0",
   "metadata": {
    "execution": {
     "iopub.execute_input": "2024-07-23T00:36:37.879188Z",
     "iopub.status.busy": "2024-07-23T00:36:37.878720Z",
     "iopub.status.idle": "2024-07-23T00:36:40.788593Z",
     "shell.execute_reply": "2024-07-23T00:36:40.787757Z",
     "shell.execute_reply.started": "2024-07-23T00:36:37.879140Z"
    }
   },
   "outputs": [
    {
     "name": "stderr",
     "output_type": "stream",
     "text": [
      "Reusing dataset imdb (/root/.cache/huggingface/datasets/imdb/plain_text/1.0.0/2fdd8b9bcadd6e7055e742a706876ba43f19faee861df134affd7a3f60fc38a1)\n"
     ]
    },
    {
     "data": {
      "application/vnd.jupyter.widget-view+json": {
       "model_id": "e9f3be8158ef440cb55321d743cf9560",
       "version_major": 2,
       "version_minor": 0
      },
      "text/plain": [
       "  0%|          | 0/3 [00:00<?, ?it/s]"
      ]
     },
     "metadata": {},
     "output_type": "display_data"
    },
    {
     "name": "stdout",
     "output_type": "stream",
     "text": [
      "25000 25000 50000\n",
      "{'text': 'I rented I AM CURIOUS-YELLOW from my video store because of all the controversy that surrounded it when it was first released in 1967. I also heard that at first it was seized by U.S. customs if it ever tried to enter this country, therefore being a fan of films considered \"controversial\" I really had to see this for myself.<br /><br />The plot is centered around a young Swedish drama student named Lena who wants to learn everything she can about life. In particular she wants to focus her attentions to making some sort of documentary on what the average Swede thought about certain political issues such as the Vietnam War and race issues in the United States. In between asking politicians and ordinary denizens of Stockholm about their opinions on politics, she has sex with her drama teacher, classmates, and married men.<br /><br />What kills me about I AM CURIOUS-YELLOW is that 40 years ago, this was considered pornographic. Really, the sex and nudity scenes are few and far between, even then it\\'s not shot like some cheaply made porno. While my countrymen mind find it shocking, in reality sex and nudity are a major staple in Swedish cinema. Even Ingmar Bergman, arguably their answer to good old boy John Ford, had sex scenes in his films.<br /><br />I do commend the filmmakers for the fact that any sex shown in the film is shown for artistic purposes rather than just to shock people and make money to be shown in pornographic theaters in America. I AM CURIOUS-YELLOW is a good film for anyone wanting to study the meat and potatoes (no pun intended) of Swedish cinema. But really, this film doesn\\'t have much of a plot.', 'label': 0}\n"
     ]
    }
   ],
   "source": [
    "from datasets import load_dataset\n",
    "\n",
    "dataset = load_dataset('imdb')\n",
    "\n",
    "print(len(dataset['train']), len(dataset['test']), len(dataset['unsupervised']))\n",
    "print(dataset['train'][0])"
   ]
  },
  {
   "cell_type": "markdown",
   "id": "901e30ff-d77a-4cb4-8035-acb41819040f",
   "metadata": {},
   "source": [
    "# 训练词向量"
   ]
  },
  {
   "cell_type": "markdown",
   "id": "f20041fe-8090-45ba-9182-f8a47b7c0f92",
   "metadata": {},
   "source": [
    "  首先预处理文本，分词和去除标点符号。"
   ]
  },
  {
   "cell_type": "code",
   "execution_count": 2,
   "id": "656b59a3-510f-4559-81fc-dabe88b1ea5f",
   "metadata": {
    "execution": {
     "iopub.execute_input": "2024-07-23T00:36:45.498296Z",
     "iopub.status.busy": "2024-07-23T00:36:45.497596Z",
     "iopub.status.idle": "2024-07-23T00:37:03.783798Z",
     "shell.execute_reply": "2024-07-23T00:37:03.782839Z",
     "shell.execute_reply.started": "2024-07-23T00:36:45.498244Z"
    }
   },
   "outputs": [
    {
     "name": "stdout",
     "output_type": "stream",
     "text": [
      "I rented I AM CURIOUS-YELLOW from my video store because of all the controversy that surrounded it when it was first released in 1967. I also heard that at first it was seized by U.S. customs if it ever tried to enter this country , therefore being a fan of films considered \"controversial\" I really had to see this for myself . The plot is centered around a young Swedish drama student named Lena who wants to learn everything she can about life . In particular she wants to focus her attentions to making some sort of documentary on what the average Swede thought about certain political issues such as the Vietnam War and race issues in the United States . In between asking politicians and ordinary denizens of Stockholm about their opinions on politics , she has sex with her drama teacher , classmates , and married men . What kills me about I AM CURIOUS-YELLOW is that 40 years ago , this was considered pornographic . Really , the sex and nudity scenes are few and far between , even then it's not shot like some cheaply made porno . While my countrymen mind find it shocking , in reality sex and nudity are a major staple in Swedish cinema . Even Ingmar Bergman , arguably their answer to good old boy John Ford , had sex scenes in his films . I do commend the filmmakers for the fact that any sex shown in the film is shown for artistic purposes rather than just to shock people and make money to be shown in pornographic theaters in America . I AM CURIOUS-YELLOW is a good film for anyone wanting to study the meat and potatoes no pun intended of Swedish cinema . But really , this film doesn't have much of a plot .\n"
     ]
    }
   ],
   "source": [
    "# 对于每一段评论文本，去除标点符号和换行符，单词间空格相连\n",
    "# 需注意，当前处理方法没有把单词中的标点符号去掉\n",
    "def no_space(char, prev_char):\n",
    "    return char in set(',.!?') and prev_char != ' ' and ord(prev_char) >= 97\n",
    "\n",
    "\n",
    "def preprocess(sentence):\n",
    "    sentence = sentence.strip('\\n').replace('<br /><br />', ' ').replace('(', '').replace(')', '')\n",
    "    out = [' ' + char if i > 0 and no_space(char, sentence[i - 1]) else char\n",
    "        for i, char in enumerate(sentence)]\n",
    "    return ''.join(out)\n",
    "\n",
    "\n",
    "processed = []\n",
    "for onedata in dataset['train']:\n",
    "    processed.append(preprocess(onedata['text']))\n",
    "\n",
    "print(processed[0])"
   ]
  },
  {
   "cell_type": "code",
   "execution_count": 3,
   "id": "84a48ce2-20f1-4083-bbc9-b2e00ba674c3",
   "metadata": {
    "execution": {
     "iopub.execute_input": "2024-07-23T00:37:10.064935Z",
     "iopub.status.busy": "2024-07-23T00:37:10.064652Z",
     "iopub.status.idle": "2024-07-23T00:37:11.248088Z",
     "shell.execute_reply": "2024-07-23T00:37:11.247262Z",
     "shell.execute_reply.started": "2024-07-23T00:37:10.064911Z"
    }
   },
   "outputs": [
    {
     "data": {
      "text/plain": [
       "(25000, 285)"
      ]
     },
     "execution_count": 3,
     "metadata": {},
     "output_type": "execute_result"
    }
   ],
   "source": [
    "punc = set(',.?!')\n",
    "words = [[word for word in sen.split(' ') if word not in punc] for sen in processed]\n",
    "len(words), len(words[0])"
   ]
  },
  {
   "cell_type": "code",
   "execution_count": 5,
   "id": "c145d420-ec43-419f-a446-1d4acb3cff01",
   "metadata": {},
   "outputs": [],
   "source": [
    "# 训练词向量\n",
    "from gensim.models import word2vec\n",
    "\n",
    "file_path = 'autodl-tmp/fam_classifier/imdb/'\n",
    "model = word2vec.Word2Vec(sentences=words, vector_size=512, sg=1, min_count=5)"
   ]
  },
  {
   "cell_type": "code",
   "execution_count": 7,
   "id": "cd217663-aa35-4c3a-ba8a-e967e4730c69",
   "metadata": {},
   "outputs": [],
   "source": [
    "model.save(file_path + \"imdb_word_vec_sg.bin\")"
   ]
  },
  {
   "cell_type": "markdown",
   "id": "2d96cb82-77dd-4009-816e-26e0129d7710",
   "metadata": {},
   "source": [
    "# 因子分析"
   ]
  },
  {
   "cell_type": "code",
   "execution_count": 13,
   "id": "0e40ce47-3f37-4d76-9980-a25669ade2c1",
   "metadata": {},
   "outputs": [],
   "source": [
    "import numpy as np\n",
    "import pandas as pd\n",
    "from d2l import torch as d2l\n",
    "import matplotlib.pyplot as plt\n",
    "import seaborn as sns\n",
    "import math\n",
    "from gensim.models import word2vec\n",
    "from factor_analyzer import FactorAnalyzer\n",
    "from factor_analyzer.factor_analyzer import calculate_bartlett_sphericity, calculate_kmo"
   ]
  },
  {
   "cell_type": "code",
   "execution_count": null,
   "id": "80fc4aa2-a6a0-485f-83f6-026cdf2c1e27",
   "metadata": {},
   "outputs": [],
   "source": [
    "# 加载训练好的word2vec模型\n",
    "model = word2vec.Word2Vec.load(file_path + 'imdb_word_vec_sg.bin')\n",
    "embedding = np.array([model.wv[word] for word in model.wv.index_to_key])\n",
    "print(embedding.shape)\n",
    "\n",
    "# 查看单词的词向量\n",
    "# model.wv['fascinating']"
   ]
  },
  {
   "cell_type": "code",
   "execution_count": 14,
   "id": "75f46df4-2852-4204-9cc4-2876d5656d94",
   "metadata": {},
   "outputs": [
    {
     "name": "stdout",
     "output_type": "stream",
     "text": [
      "Bartlett's球状检验: 检验总体变量的相关矩阵是否是单位阵\n",
      "inf 0.0\n",
      "kmo检验:\n",
      "检查变量间的相关性和偏相关性，取值在0-1之间；KMO统计量越接近1，变量间的相关性越强，偏相关性越弱，因子分析的效果越好\n"
     ]
    },
    {
     "name": "stderr",
     "output_type": "stream",
     "text": [
      "/root/miniconda3/lib/python3.8/site-packages/factor_analyzer/utils.py:244: UserWarning: The inverse of the variance-covariance matrix was calculated using the Moore-Penrose generalized matrix inversion, due to its determinant being at or very close to zero.\n",
      "  warnings.warn(\n"
     ]
    },
    {
     "name": "stdout",
     "output_type": "stream",
     "text": [
      "KMO值为:  0.7628552186586137\n"
     ]
    }
   ],
   "source": [
    "# Bartlett's球状检验\n",
    "print('Bartlett\\'s球状检验: 检验总体变量的相关矩阵是否是单位阵')\n",
    "chi_square_value, p_value = calculate_bartlett_sphericity(embedding)\n",
    "print(chi_square_value, p_value)\n",
    "\n",
    "# 导入kmo检验\n",
    "print('kmo检验:')\n",
    "print('检查变量间的相关性和偏相关性，取值在0-1之间；KMO统计量越接近1，变量间的相关性越强，偏相关性越弱，因子分析的效果越好')\n",
    "kmo_all, kmo_model = calculate_kmo(embedding)\n",
    "print('KMO值为: ', kmo_model)"
   ]
  },
  {
   "cell_type": "code",
   "execution_count": 15,
   "id": "f5432c54-857d-42b4-91df-c4e79674733c",
   "metadata": {},
   "outputs": [],
   "source": [
    "# 因子分析\n",
    "fa = FactorAnalyzer(25, rotation=None)\n",
    "# fa = FactorAnalyzer(25, rotation='varimax')\n",
    "fa.fit(embedding)\n",
    "\n",
    "# 特征值、特征向量\n",
    "ev, v = fa.get_eigenvalues()"
   ]
  },
  {
   "cell_type": "code",
   "execution_count": 17,
   "id": "20b61bf6-51b2-49bb-92bd-7f3173d0020f",
   "metadata": {},
   "outputs": [
    {
     "data": {
      "image/png": "[encoded data removed]",
      "text/plain": [
       "<Figure size 640x480 with 1 Axes>"
      ]
     },
     "metadata": {},
     "output_type": "display_data"
    },
    {
     "data": {
      "text/plain": [
       "<Figure size 640x480 with 0 Axes>"
      ]
     },
     "metadata": {},
     "output_type": "display_data"
    }
   ],
   "source": [
    "# 可视化\n",
    "# plot横轴是指标个数，纵轴是ev值\n",
    "plt.scatter(range(1, embedding.shape[1]+1), ev)\n",
    "plt.plot(range(1, embedding.shape[1]+1), ev)\n",
    "plt.title('Scree Plot')\n",
    "plt.xlabel('Factors')\n",
    "plt.ylabel('Eigenvalue')\n",
    "plt.grid()\n",
    "plt.show()\n",
    "\n",
    "plt.savefig(file_path + 'ev.png')"
   ]
  },
  {
   "cell_type": "code",
   "execution_count": 22,
   "id": "f61a5e9d-6ca8-4cce-9969-aacc7d974b22",
   "metadata": {},
   "outputs": [],
   "source": [
    "df_ev = pd.DataFrame({\"index\": range(1, embedding.shape[1]+1),\n",
    "                     \"evalue\": ev})\n",
    "df_ev.to_excel(file_path + 'ev_output.xlsx')"
   ]
  },
  {
   "cell_type": "code",
   "execution_count": 23,
   "id": "b3209be1-fe30-4cf7-aaef-a9001ab87e05",
   "metadata": {},
   "outputs": [
    {
     "data": {
      "image/png": "[encoded data removed]",
      "text/plain": [
       "<Figure size 640x480 with 1 Axes>"
      ]
     },
     "metadata": {},
     "output_type": "display_data"
    },
    {
     "data": {
      "text/plain": [
       "<Figure size 640x480 with 0 Axes>"
      ]
     },
     "metadata": {},
     "output_type": "display_data"
    }
   ],
   "source": [
    "# 更清晰的展示前三十个\n",
    "plt.scatter(range(1, 31), ev[:30])\n",
    "plt.plot(range(1, 31), ev[:30])\n",
    "plt.title('Scree Plot')\n",
    "plt.xlabel('Factors')\n",
    "plt.ylabel('Eigenvalue')\n",
    "plt.grid()\n",
    "plt.show()\n",
    "plt.savefig(file_path + 'ev30.png')"
   ]
  },
  {
   "cell_type": "code",
   "execution_count": 24,
   "id": "1b90d9e4-15a7-475f-a240-e20aa137d0ff",
   "metadata": {},
   "outputs": [
    {
     "name": "stdout",
     "output_type": "stream",
     "text": [
      "(512, 8)\n"
     ]
    },
    {
     "name": "stderr",
     "output_type": "stream",
     "text": [
      "/root/miniconda3/lib/python3.8/site-packages/IPython/core/interactiveshell.py:3473: FutureWarning: As the xlwt package is no longer maintained, the xlwt engine will be removed in a future version of pandas. This is the only engine in pandas that supports writing in the xls format. Install openpyxl and write to an xlsx file instead. You can set the option io.excel.xls.writer to 'xlwt' to silence this warning. While this option is deprecated and will also raise a warning, it can be globally set and the warning suppressed.\n",
      "  if (await self.run_code(code, result,  async_=asy)):\n"
     ]
    }
   ],
   "source": [
    "# 上图表示，八个因子已经承载了足够多的特征值，确定因子数为8进行因子分析\n",
    "fa = FactorAnalyzer(8, rotation=\"promax\")\n",
    "fa.fit(embedding)\n",
    "print(fa.loadings_.shape)\n",
    "\n",
    "# 保存因子分析的结果\n",
    "# 512*8(变量个数*因子个数)\n",
    "index = fa.loadings_.argmax(axis=1)\n",
    "res = np.array([[i, idx] for i, idx in enumerate(index)])\n",
    "\n",
    "data_1 = pd.DataFrame(fa.loadings_, columns=['fa1', 'fa2', 'fa3', 'fa4', 'fa5', 'fa6', 'fa7', 'fa8'])\n",
    "data_2 = pd.DataFrame(res, columns=['Dimension', 'Factor'])\n",
    "with pd.ExcelWriter(file_path + \"FAoutput.xls\") as writer1:\n",
    "    data_1.to_excel(writer1, sheet_name=\"Sheet1\")\n",
    "    data_2.to_excel(writer1, sheet_name=\"Sheet2\")\n",
    "    writer1.save()"
   ]
  },
  {
   "cell_type": "code",
   "execution_count": 25,
   "id": "7ff80c21-0da7-4424-8382-8c2c7003a66b",
   "metadata": {},
   "outputs": [
    {
     "data": {
      "image/png": "[encoded data removed]",
      "text/plain": [
       "<Figure size 1200x2500 with 2 Axes>"
      ]
     },
     "metadata": {},
     "output_type": "display_data"
    }
   ],
   "source": [
    "# 因子分析结果可视化\n",
    "df_cm = pd.DataFrame(np.abs(fa.loadings_))\n",
    "fig, ax = plt.subplots(figsize=(12, 25))\n",
    "sns.heatmap(df_cm, annot=None, cmap='YlGnBu', ax=ax)  # cbar_kws\n",
    "\n",
    "ax.tick_params(axis='x', labelsize=15)\n",
    "ax.set_title(\"Factor Analysis\", fontsize=12)\n",
    "ax.set_ylabel(\"Dimension\")\n",
    "plt.savefig(file_path + 'FAdimension.png')"
   ]
  },
  {
   "cell_type": "markdown",
   "id": "4a8a4a84-612c-4da0-aad8-53a3ab91f7e9",
   "metadata": {},
   "source": [
    "# 模型架构"
   ]
  },
  {
   "cell_type": "code",
   "execution_count": 4,
   "id": "9055ea49-6e75-4374-9b46-ee1d78c85b67",
   "metadata": {
    "execution": {
     "iopub.execute_input": "2024-07-23T00:37:34.907978Z",
     "iopub.status.busy": "2024-07-23T00:37:34.907510Z",
     "iopub.status.idle": "2024-07-23T00:37:36.651153Z",
     "shell.execute_reply": "2024-07-23T00:37:36.650267Z",
     "shell.execute_reply.started": "2024-07-23T00:37:34.907952Z"
    }
   },
   "outputs": [],
   "source": [
    "# 做完因子分析得到结果后，接下来的模型构建和训练和前面关系不大了\n",
    "# 每次引用下面这些库就足够\n",
    "import torch\n",
    "from torch import nn\n",
    "import numpy as np\n",
    "import pandas as pd\n",
    "from d2l import torch as d2l\n",
    "import matplotlib.pyplot as plt\n",
    "from datasets import load_dataset\n",
    "from tqdm import tqdm\n",
    "import time\n",
    "import math\n",
    "from gensim.models import word2vec"
   ]
  },
  {
   "cell_type": "code",
   "execution_count": 5,
   "id": "a51c1e64-2223-4e36-bf8d-d3637910475e",
   "metadata": {
    "execution": {
     "iopub.execute_input": "2024-07-23T00:37:36.652862Z",
     "iopub.status.busy": "2024-07-23T00:37:36.652531Z",
     "iopub.status.idle": "2024-07-23T00:37:36.686331Z",
     "shell.execute_reply": "2024-07-23T00:37:36.685518Z",
     "shell.execute_reply.started": "2024-07-23T00:37:36.652839Z"
    }
   },
   "outputs": [],
   "source": [
    "class FAMAttention(nn.Module):\n",
    "    \"\"\"修改多头注意力，针对嵌入512维，8个head的模型\"\"\"\n",
    "\n",
    "    def __init__(self, num_hiddens, dim_dict, dropout, bias=False, **kwargs):\n",
    "        super(FAMAttention, self).__init__(**kwargs)\n",
    "        self.attention = d2l.DotProductAttention(dropout)\n",
    "        self.W_o = nn.Linear(num_hiddens, num_hiddens, bias=bias)\n",
    "        self.dim_dict = dim_dict\n",
    "        self.dim_0 = [dim for dim, idx in self.dim_dict.items() if idx == 0]\n",
    "        self.dim_1 = [dim for dim, idx in self.dim_dict.items() if idx == 1]\n",
    "        self.dim_2 = [dim for dim, idx in self.dim_dict.items() if idx == 2]\n",
    "        self.dim_3 = [dim for dim, idx in self.dim_dict.items() if idx == 3]\n",
    "        self.dim_4 = [dim for dim, idx in self.dim_dict.items() if idx == 4]\n",
    "        self.dim_5 = [dim for dim, idx in self.dim_dict.items() if idx == 5]\n",
    "        self.dim_6 = [dim for dim, idx in self.dim_dict.items() if idx == 6]\n",
    "        self.dim_7 = [dim for dim, idx in self.dim_dict.items() if idx == 7]\n",
    "        # self.list_concat = torch.cat((self.dim_0, self.dim_1, self.dim_2, self.dim_3, self.dim_4, self.dim_5,\n",
    "        # self.dim_6, self.dim_7))\n",
    "        self.len_0, self.len_1, self.len_2, self.len_3, self.len_4, self.len_5, self.len_6, self.len_7 = len(\n",
    "            self.dim_0), len(self.dim_1), len(self.dim_2), len(self.dim_3), len(self.dim_4), len(self.dim_5),\\\n",
    "            len(self.dim_6), len(self.dim_7)\n",
    "\n",
    "        self.Wq0 = nn.Linear(self.len_0, self.len_0, bias=bias)\n",
    "        self.Wq1 = nn.Linear(self.len_1, self.len_1, bias=bias)\n",
    "        self.Wq2 = nn.Linear(self.len_2, self.len_2, bias=bias)\n",
    "        self.Wq3 = nn.Linear(self.len_3, self.len_3, bias=bias)\n",
    "        self.Wq4 = nn.Linear(self.len_4, self.len_4, bias=bias)\n",
    "        self.Wq5 = nn.Linear(self.len_5, self.len_5, bias=bias)\n",
    "        self.Wq6 = nn.Linear(self.len_6, self.len_6, bias=bias)\n",
    "        self.Wq7 = nn.Linear(self.len_7, self.len_7, bias=bias)\n",
    "\n",
    "        self.Wk0 = nn.Linear(self.len_0, self.len_0, bias=bias)\n",
    "        self.Wk1 = nn.Linear(self.len_1, self.len_1, bias=bias)\n",
    "        self.Wk2 = nn.Linear(self.len_2, self.len_2, bias=bias)\n",
    "        self.Wk3 = nn.Linear(self.len_3, self.len_3, bias=bias)\n",
    "        self.Wk4 = nn.Linear(self.len_4, self.len_4, bias=bias)\n",
    "        self.Wk5 = nn.Linear(self.len_5, self.len_5, bias=bias)\n",
    "        self.Wk6 = nn.Linear(self.len_6, self.len_6, bias=bias)\n",
    "        self.Wk7 = nn.Linear(self.len_7, self.len_7, bias=bias)\n",
    "\n",
    "        self.Wv0 = nn.Linear(self.len_0, self.len_0, bias=bias)\n",
    "        self.Wv1 = nn.Linear(self.len_1, self.len_1, bias=bias)\n",
    "        self.Wv2 = nn.Linear(self.len_2, self.len_2, bias=bias)\n",
    "        self.Wv3 = nn.Linear(self.len_3, self.len_3, bias=bias)\n",
    "        self.Wv4 = nn.Linear(self.len_4, self.len_4, bias=bias)\n",
    "        self.Wv5 = nn.Linear(self.len_5, self.len_5, bias=bias)\n",
    "        self.Wv6 = nn.Linear(self.len_6, self.len_6, bias=bias)\n",
    "        self.Wv7 = nn.Linear(self.len_7, self.len_7, bias=bias)\n",
    "\n",
    "    def forward(self, queries, keys, values, valid_lens):\n",
    "        def assemble(output_concat, list_concat):\n",
    "            reslist = []\n",
    "            for i in range(512):\n",
    "                reslist.append(list_concat.index(i))\n",
    "            return torch.index_select(output_concat, -1, torch.tensor(reslist, device=output_concat.device))\n",
    "\n",
    "        # queries, keys, values的形状: (batch_size，查询或者“键－值”对的个数，num_hiddens)\n",
    "        # qi, ki, vi的形状：(batch_size, 查询或者“键－值”对的个数， self.len_i)\n",
    "        q0, k0, v0 = torch.index_select(queries, -1, torch.tensor(self.dim_0, device=queries.device)), \\\n",
    "            torch.index_select(keys, -1, torch.tensor(self.dim_0, device=keys.device)), torch.index_select(\n",
    "            values, -1, torch.tensor(self.dim_0, device=values.device))\n",
    "        q1, k1, v1 = torch.index_select(queries, -1, torch.tensor(self.dim_1, device=queries.device)), \\\n",
    "            torch.index_select(keys, -1, torch.tensor(self.dim_1, device=keys.device)), torch.index_select(\n",
    "            values, -1, torch.tensor(self.dim_1, device=values.device))\n",
    "        q2, k2, v2 = torch.index_select(queries, -1, torch.tensor(self.dim_2, device=queries.device)), \\\n",
    "            torch.index_select(keys, -1, torch.tensor(self.dim_2, device=keys.device)), torch.index_select(\n",
    "            values, -1, torch.tensor(self.dim_2, device=values.device))\n",
    "        q3, k3, v3 = torch.index_select(queries, -1, torch.tensor(self.dim_3, device=queries.device)), \\\n",
    "            torch.index_select(keys, -1, torch.tensor(self.dim_3, device=keys.device)), torch.index_select(\n",
    "            values, -1, torch.tensor(self.dim_3, device=values.device))\n",
    "        q4, k4, v4 = torch.index_select(queries, -1, torch.tensor(self.dim_4, device=queries.device)), \\\n",
    "            torch.index_select(keys, -1, torch.tensor(self.dim_4, device=keys.device)), torch.index_select(\n",
    "            values, -1, torch.tensor(self.dim_4, device=values.device))\n",
    "        q5, k5, v5 = torch.index_select(queries, -1, torch.tensor(self.dim_5, device=queries.device)), \\\n",
    "            torch.index_select(keys, -1, torch.tensor(self.dim_5, device=keys.device)), torch.index_select(\n",
    "            values, -1, torch.tensor(self.dim_5, device=values.device))\n",
    "        q6, k6, v6 = torch.index_select(queries, -1, torch.tensor(self.dim_6, device=queries.device)), \\\n",
    "            torch.index_select(keys, -1, torch.tensor(self.dim_6, device=keys.device)), torch.index_select(\n",
    "            values, -1, torch.tensor(self.dim_6, device=values.device))\n",
    "        q7, k7, v7 = torch.index_select(queries, -1, torch.tensor(self.dim_7, device=queries.device)), \\\n",
    "            torch.index_select(keys, -1, torch.tensor(self.dim_7, device=keys.device)), torch.index_select(\n",
    "            values, -1, torch.tensor(self.dim_7, device=values.device))\n",
    "\n",
    "        head0 = self.attention(self.Wq0(q0), self.Wk0(k0), self.Wv0(v0), valid_lens)\n",
    "        head1 = self.attention(self.Wq1(q1), self.Wk1(k1), self.Wv1(v1), valid_lens)\n",
    "        head2 = self.attention(self.Wq2(q2), self.Wk2(k2), self.Wv2(v2), valid_lens)\n",
    "        head3 = self.attention(self.Wq3(q3), self.Wk3(k3), self.Wv3(v3), valid_lens)\n",
    "        head4 = self.attention(self.Wq4(q4), self.Wk4(k4), self.Wv4(v4), valid_lens)\n",
    "        head5 = self.attention(self.Wq5(q5), self.Wk5(k5), self.Wv5(v5), valid_lens)\n",
    "        head6 = self.attention(self.Wq6(q6), self.Wk6(k6), self.Wv6(v6), valid_lens)\n",
    "        head7 = self.attention(self.Wq7(q7), self.Wk7(k7), self.Wv7(v7), valid_lens)\n",
    "\n",
    "        output_concat = torch.cat((head0, head1, head2, head3, head4, head5, head6, head7), dim=-1)\n",
    "        list_concat = self.dim_0 + self.dim_1 + self.dim_2 + self.dim_3 + self.dim_4 + self.dim_5 + self.dim_6 + self.dim_7\n",
    "        return self.W_o(assemble(output_concat, list_concat))"
   ]
  },
  {
   "cell_type": "code",
   "execution_count": 6,
   "id": "1349c4d0-1216-451c-89ee-e8df1701e557",
   "metadata": {
    "execution": {
     "iopub.execute_input": "2024-07-23T00:37:36.687431Z",
     "iopub.status.busy": "2024-07-23T00:37:36.687224Z",
     "iopub.status.idle": "2024-07-23T00:37:36.693225Z",
     "shell.execute_reply": "2024-07-23T00:37:36.692501Z",
     "shell.execute_reply.started": "2024-07-23T00:37:36.687409Z"
    }
   },
   "outputs": [],
   "source": [
    "# 编码器块\n",
    "class EncoderBlock(nn.Module):\n",
    "    \"\"\"修改的编码器块\"\"\"\n",
    "\n",
    "    def __init__(self, num_hiddens, norm_shape, ffn_num_input,\n",
    "                 ffn_num_hiddens, dim_dict, dropout, use_bias=False, **kwargs):\n",
    "        super(EncoderBlock, self).__init__(**kwargs)\n",
    "        self.attention = FAMAttention(num_hiddens, dim_dict, dropout, use_bias)\n",
    "        self.addnorm1 = d2l.AddNorm(norm_shape, dropout)\n",
    "        self.ffn = d2l.PositionWiseFFN(\n",
    "            ffn_num_input, ffn_num_hiddens, num_hiddens)\n",
    "        self.addnorm2 = d2l.AddNorm(norm_shape, dropout)\n",
    "\n",
    "    def forward(self, X, valid_lens):\n",
    "        Y = self.addnorm1(X, self.attention(X, X, X, valid_lens))\n",
    "        return self.addnorm2(Y, self.ffn(Y))"
   ]
  },
  {
   "cell_type": "code",
   "execution_count": 7,
   "id": "b6fa6bb8-8ea6-4c0d-95f0-216011d2aa68",
   "metadata": {
    "execution": {
     "iopub.execute_input": "2024-07-23T00:37:39.801403Z",
     "iopub.status.busy": "2024-07-23T00:37:39.801116Z",
     "iopub.status.idle": "2024-07-23T00:37:39.810339Z",
     "shell.execute_reply": "2024-07-23T00:37:39.809396Z",
     "shell.execute_reply.started": "2024-07-23T00:37:39.801379Z"
    }
   },
   "outputs": [],
   "source": [
    "# 编码器\n",
    "class FAMEncoder(d2l.Encoder):\n",
    "    \"\"\"修改的编码器\"\"\"\n",
    "\n",
    "    def __init__(self, vocab_size, num_hiddens, norm_shape, ffn_num_input,\n",
    "                 ffn_num_hiddens, dim_dict, num_layers, dropout, num_output,\n",
    "                 use_bias=False, **kwargs):\n",
    "        super(FAMEncoder, self).__init__(**kwargs)\n",
    "        self.num_hiddens = num_hiddens\n",
    "        self.embedding = nn.Embedding(vocab_size, num_hiddens)\n",
    "        self.pos_encoding = d2l.PositionalEncoding(num_hiddens, dropout)\n",
    "        self.blks = nn.Sequential()\n",
    "        self.outhidden = nn.Sequential(\n",
    "                                    nn.Linear(num_hiddens, num_hiddens),\n",
    "                                    nn.ReLU())\n",
    "        self.Dense = nn.Linear(num_hiddens, num_output)\n",
    "        for i in range(num_layers):\n",
    "            self.blks.add_module(\"block\" + str(i),\n",
    "                                 EncoderBlock(num_hiddens, norm_shape, ffn_num_input,\n",
    "                                              ffn_num_hiddens, dim_dict, dropout, use_bias))\n",
    "\n",
    "    def forward(self, X, valid_lens, *args):\n",
    "        X = self.pos_encoding(self.embedding(X) * math.sqrt(self.num_hiddens))\n",
    "        self.attention_weights = [None] * len(self.blks)\n",
    "        for i, blk in enumerate(self.blks):\n",
    "            X = blk(X, valid_lens)\n",
    "            self.attention_weights[i] = blk.attention.attention.attention_weights\n",
    "        # 取句首'cls'token的向量用于情感分类\n",
    "        return self.Dense(self.outhidden(X[:, 0, :]))"
   ]
  },
  {
   "cell_type": "markdown",
   "id": "1bc7a0af-0021-4e15-bc7b-f90120267a6f",
   "metadata": {},
   "source": [
    "# 加载训练数据"
   ]
  },
  {
   "cell_type": "code",
   "execution_count": 8,
   "id": "3fe117fa-7843-43a5-b1aa-d915d322986b",
   "metadata": {
    "execution": {
     "iopub.execute_input": "2024-07-23T00:37:47.512708Z",
     "iopub.status.busy": "2024-07-23T00:37:47.512192Z",
     "iopub.status.idle": "2024-07-23T00:38:07.871453Z",
     "shell.execute_reply": "2024-07-23T00:38:07.870483Z",
     "shell.execute_reply.started": "2024-07-23T00:37:47.512658Z"
    }
   },
   "outputs": [
    {
     "name": "stdout",
     "output_type": "stream",
     "text": [
      "词表大小:  37652\n",
      "前50个token:  ['<unk>', '<pad>', '<cls>', 'the', 'a', 'and', 'of', 'to', 'is', 'in', 'I', 'that', 'it', 'this', 'was', 'as', 'with', 'movie', 'for', 'The', 'film', 'but', 'on', 'are', 'his', 'not', 'have', 'you', 'be', 'one', 'he', 'at', 'by', 'all', 'an', 'who', 'from', 'like', 'they', 'her', 'so', 'about', 'or', 'has', 'just', 'out', 'This', 'some', 'good', 'more']\n"
     ]
    }
   ],
   "source": [
    "# 生成词表\n",
    "def load_datawords(dataset):\n",
    "    processed = []\n",
    "    for onedata in dataset:\n",
    "        processed.append(preprocess(onedata['text']))\n",
    "\n",
    "    punc = set(',.?!')\n",
    "    words = [[word for word in sen.split(' ') if word not in punc] for sen in processed]\n",
    "    return [['<cls>'] + line for line in words]\n",
    "\n",
    "\n",
    "train_words = load_datawords(dataset['train'])\n",
    "vocab = d2l.Vocab(train_words, min_freq=5, reserved_tokens=['<pad>', '<cls>'])\n",
    "print('词表大小: ', len(vocab))\n",
    "print('前50个token: ', vocab.idx_to_token[:50])"
   ]
  },
  {
   "cell_type": "code",
   "execution_count": 9,
   "id": "f30a04a7-c108-47ee-8235-5f8d974f9106",
   "metadata": {
    "execution": {
     "iopub.execute_input": "2024-07-23T00:38:15.263350Z",
     "iopub.status.busy": "2024-07-23T00:38:15.262869Z",
     "iopub.status.idle": "2024-07-23T00:38:43.360587Z",
     "shell.execute_reply": "2024-07-23T00:38:43.359493Z",
     "shell.execute_reply.started": "2024-07-23T00:38:15.263323Z"
    }
   },
   "outputs": [
    {
     "name": "stdout",
     "output_type": "stream",
     "text": [
      "X: torch.Size([64, 500]) , y: torch.Size([64]) , valid_len: torch.Size([64])\n",
      "小批量数目： 391\n"
     ]
    }
   ],
   "source": [
    "# 生成训练数据集、测试数据集\n",
    "# 每条数据包括: (语句词元, 语句有效长度, 标签)\n",
    "def load_imdb_data(datawords, vocab, dataset, batch_size, num_steps):\n",
    "    data_tokens = torch.tensor([d2l.truncate_pad(\n",
    "        vocab[line], num_steps, vocab['<pad>']) for line in datawords])\n",
    "    valid_lens = (data_tokens != vocab['<pad>']).type(torch.int32).sum(1)\n",
    "    labels = torch.tensor(dataset[:]['label'])\n",
    "    return d2l.load_array((data_tokens, valid_lens, labels), batch_size)\n",
    "\n",
    "\n",
    "batch_size, num_steps = 64, 500\n",
    "train_iter = load_imdb_data(train_words, vocab, dataset['train'], batch_size, num_steps)\n",
    "for X, valid_len, y in train_iter:\n",
    "    print('X:', X.shape, ', y:', y.shape, ', valid_len:', valid_len.shape)\n",
    "    break\n",
    "print('小批量数目：', len(train_iter))\n",
    "\n",
    "\n",
    "# 测试集\n",
    "test_words = load_datawords(dataset['test'])\n",
    "\n",
    "test_iter = load_imdb_data(test_words, vocab, dataset['test'], 64, 500)"
   ]
  },
  {
   "cell_type": "code",
   "execution_count": 13,
   "id": "80ce575d-4f59-41d6-ba05-6fa926dfb093",
   "metadata": {
    "execution": {
     "iopub.execute_input": "2024-07-22T10:47:58.977269Z",
     "iopub.status.busy": "2024-07-22T10:47:58.976754Z",
     "iopub.status.idle": "2024-07-22T10:47:59.007481Z",
     "shell.execute_reply": "2024-07-22T10:47:59.006413Z",
     "shell.execute_reply.started": "2024-07-22T10:47:58.977219Z"
    }
   },
   "outputs": [
    {
     "data": {
      "text/plain": [
       "Counter({0: 12500, 1: 12500})"
      ]
     },
     "execution_count": 13,
     "metadata": {},
     "output_type": "execute_result"
    }
   ],
   "source": [
    "from collections import Counter\n",
    "Counter(dataset['test']['label'])"
   ]
  },
  {
   "cell_type": "markdown",
   "id": "9a430e72-8198-4e2f-bbb5-e875af974e42",
   "metadata": {},
   "source": [
    "# 模型训练"
   ]
  },
  {
   "cell_type": "code",
   "execution_count": 22,
   "id": "5885aac5-3cb7-48bf-8e7f-18591c50c65b",
   "metadata": {
    "execution": {
     "iopub.execute_input": "2024-07-23T00:58:31.244329Z",
     "iopub.status.busy": "2024-07-23T00:58:31.243830Z",
     "iopub.status.idle": "2024-07-23T00:58:31.251283Z",
     "shell.execute_reply": "2024-07-23T00:58:31.250205Z",
     "shell.execute_reply.started": "2024-07-23T00:58:31.244282Z"
    }
   },
   "outputs": [],
   "source": [
    "# 参数和超参数\n",
    "num_hiddens, num_layers, dropout, num_output = 512, 3, 0.1, 2\n",
    "ffn_num_input, ffn_num_hiddens, num_heads, norm_shape = 512, 2048, 8, [512]\n",
    "lr, num_epochs, device = 5e-5, 60, d2l.try_gpu()"
   ]
  },
  {
   "cell_type": "code",
   "execution_count": 23,
   "id": "d2f696fb-5820-400c-8a37-651aa2983305",
   "metadata": {
    "execution": {
     "iopub.execute_input": "2024-07-23T00:58:33.305275Z",
     "iopub.status.busy": "2024-07-23T00:58:33.304789Z",
     "iopub.status.idle": "2024-07-23T00:58:33.310623Z",
     "shell.execute_reply": "2024-07-23T00:58:33.309400Z",
     "shell.execute_reply.started": "2024-07-23T00:58:33.305228Z"
    }
   },
   "outputs": [],
   "source": [
    "file_path = '/root//autodl-tmp/fam_classifier/imdb/'"
   ]
  },
  {
   "cell_type": "code",
   "execution_count": 24,
   "id": "e8617b75-32db-4c82-bebf-145168cb9def",
   "metadata": {
    "execution": {
     "iopub.execute_input": "2024-07-23T00:58:34.965974Z",
     "iopub.status.busy": "2024-07-23T00:58:34.965459Z",
     "iopub.status.idle": "2024-07-23T00:58:35.023208Z",
     "shell.execute_reply": "2024-07-23T00:58:35.022020Z",
     "shell.execute_reply.started": "2024-07-23T00:58:34.965925Z"
    }
   },
   "outputs": [],
   "source": [
    "# 因子分析结果\n",
    "excelfile = pd.read_excel(file_path + 'FAoutput.xls', sheet_name='Sheet2', header=0, index_col=0)\n",
    "dim_dict = dict()\n",
    "for i in range(512):\n",
    "    dim_dict[excelfile['Dimension'].values[i]] = excelfile['Factor'].values[i]"
   ]
  },
  {
   "cell_type": "code",
   "execution_count": 25,
   "id": "456f9afc-e58f-47ed-a1dd-0e69ccaf7c2b",
   "metadata": {
    "execution": {
     "iopub.execute_input": "2024-07-23T00:58:38.096523Z",
     "iopub.status.busy": "2024-07-23T00:58:38.095114Z",
     "iopub.status.idle": "2024-07-23T00:58:38.311248Z",
     "shell.execute_reply": "2024-07-23T00:58:38.310338Z",
     "shell.execute_reply.started": "2024-07-23T00:58:38.096461Z"
    }
   },
   "outputs": [
    {
     "name": "stdout",
     "output_type": "stream",
     "text": [
      "26,952,088 total parameters.\n",
      "26,952,088 training parameters.\n"
     ]
    }
   ],
   "source": [
    "# 实例化模型, 打印模型参数数量\n",
    "net = FAMEncoder(\n",
    "    len(vocab), num_hiddens, norm_shape,\n",
    "    ffn_num_input, ffn_num_hiddens, dim_dict,\n",
    "    num_layers,dropout, num_output)\n",
    "\n",
    "# Find total parameters and trainable parameters\n",
    "total_params = sum(p.numel() for p in net.parameters())\n",
    "print(f'{total_params:,} total parameters.')\n",
    "total_trainable_params = sum(p.numel() for p in net.parameters() if p.requires_grad)\n",
    "print(f'{total_trainable_params:,} training parameters.')"
   ]
  },
  {
   "cell_type": "code",
   "execution_count": 26,
   "id": "41420893-ed43-420f-a7f0-a1cdf36dfca3",
   "metadata": {
    "execution": {
     "iopub.execute_input": "2024-07-23T00:58:42.542136Z",
     "iopub.status.busy": "2024-07-23T00:58:42.541851Z",
     "iopub.status.idle": "2024-07-23T00:58:56.507895Z",
     "shell.execute_reply": "2024-07-23T00:58:56.506779Z",
     "shell.execute_reply.started": "2024-07-23T00:58:42.542113Z"
    }
   },
   "outputs": [],
   "source": [
    "# 用word2vector训练的词向量来初始化embedding层模型权重\n",
    "def get_embedding_weights(vocab, word2vecmodel, num_hiddens):\n",
    "    wordlist = word2vecmodel.wv.index_to_key\n",
    "    n = len(vocab)\n",
    "    data = np.random.randn(n, num_hiddens)\n",
    "    for i in range(n):\n",
    "        word = vocab.idx_to_token[i]\n",
    "        data[i] = np.array(word2vecmodel.wv[word]) if word in wordlist else data[i]\n",
    "    return torch.tensor(data, dtype=torch.float32)\n",
    "\n",
    "\n",
    "def init_embedding_weights(net, weights):\n",
    "    for m in net.modules():\n",
    "        if isinstance(m, nn.Embedding):\n",
    "            m.weight.data = weights\n",
    "\n",
    "\n",
    "word2vecmodel = word2vec.Word2Vec.load(file_path + 'imdb_word_vec_sg.bin')\n",
    "weights = get_embedding_weights(vocab, word2vecmodel, num_hiddens)\n",
    "init_embedding_weights(net, weights)"
   ]
  },
  {
   "cell_type": "code",
   "execution_count": 27,
   "id": "ccf99178-e9f4-48b4-9dd2-4e47eefea883",
   "metadata": {
    "execution": {
     "iopub.execute_input": "2024-07-23T00:59:00.764392Z",
     "iopub.status.busy": "2024-07-23T00:59:00.764110Z",
     "iopub.status.idle": "2024-07-23T00:59:00.813362Z",
     "shell.execute_reply": "2024-07-23T00:59:00.812552Z",
     "shell.execute_reply.started": "2024-07-23T00:59:00.764368Z"
    },
    "scrolled": true
   },
   "outputs": [
    {
     "data": {
      "text/plain": [
       "FAMEncoder(\n",
       "  (embedding): Embedding(37652, 512)\n",
       "  (pos_encoding): PositionalEncoding(\n",
       "    (dropout): Dropout(p=0.1, inplace=False)\n",
       "  )\n",
       "  (blks): Sequential(\n",
       "    (block0): EncoderBlock(\n",
       "      (attention): FAMAttention(\n",
       "        (attention): DotProductAttention(\n",
       "          (dropout): Dropout(p=0.1, inplace=False)\n",
       "        )\n",
       "        (W_o): Linear(in_features=512, out_features=512, bias=False)\n",
       "        (Wq0): Linear(in_features=89, out_features=89, bias=False)\n",
       "        (Wq1): Linear(in_features=83, out_features=83, bias=False)\n",
       "        (Wq2): Linear(in_features=73, out_features=73, bias=False)\n",
       "        (Wq3): Linear(in_features=69, out_features=69, bias=False)\n",
       "        (Wq4): Linear(in_features=66, out_features=66, bias=False)\n",
       "        (Wq5): Linear(in_features=58, out_features=58, bias=False)\n",
       "        (Wq6): Linear(in_features=43, out_features=43, bias=False)\n",
       "        (Wq7): Linear(in_features=31, out_features=31, bias=False)\n",
       "        (Wk0): Linear(in_features=89, out_features=89, bias=False)\n",
       "        (Wk1): Linear(in_features=83, out_features=83, bias=False)\n",
       "        (Wk2): Linear(in_features=73, out_features=73, bias=False)\n",
       "        (Wk3): Linear(in_features=69, out_features=69, bias=False)\n",
       "        (Wk4): Linear(in_features=66, out_features=66, bias=False)\n",
       "        (Wk5): Linear(in_features=58, out_features=58, bias=False)\n",
       "        (Wk6): Linear(in_features=43, out_features=43, bias=False)\n",
       "        (Wk7): Linear(in_features=31, out_features=31, bias=False)\n",
       "        (Wv0): Linear(in_features=89, out_features=89, bias=False)\n",
       "        (Wv1): Linear(in_features=83, out_features=83, bias=False)\n",
       "        (Wv2): Linear(in_features=73, out_features=73, bias=False)\n",
       "        (Wv3): Linear(in_features=69, out_features=69, bias=False)\n",
       "        (Wv4): Linear(in_features=66, out_features=66, bias=False)\n",
       "        (Wv5): Linear(in_features=58, out_features=58, bias=False)\n",
       "        (Wv6): Linear(in_features=43, out_features=43, bias=False)\n",
       "        (Wv7): Linear(in_features=31, out_features=31, bias=False)\n",
       "      )\n",
       "      (addnorm1): AddNorm(\n",
       "        (dropout): Dropout(p=0.1, inplace=False)\n",
       "        (ln): LayerNorm((512,), eps=1e-05, elementwise_affine=True)\n",
       "      )\n",
       "      (ffn): PositionWiseFFN(\n",
       "        (dense1): Linear(in_features=512, out_features=2048, bias=True)\n",
       "        (relu): ReLU()\n",
       "        (dense2): Linear(in_features=2048, out_features=512, bias=True)\n",
       "      )\n",
       "      (addnorm2): AddNorm(\n",
       "        (dropout): Dropout(p=0.1, inplace=False)\n",
       "        (ln): LayerNorm((512,), eps=1e-05, elementwise_affine=True)\n",
       "      )\n",
       "    )\n",
       "    (block1): EncoderBlock(\n",
       "      (attention): FAMAttention(\n",
       "        (attention): DotProductAttention(\n",
       "          (dropout): Dropout(p=0.1, inplace=False)\n",
       "        )\n",
       "        (W_o): Linear(in_features=512, out_features=512, bias=False)\n",
       "        (Wq0): Linear(in_features=89, out_features=89, bias=False)\n",
       "        (Wq1): Linear(in_features=83, out_features=83, bias=False)\n",
       "        (Wq2): Linear(in_features=73, out_features=73, bias=False)\n",
       "        (Wq3): Linear(in_features=69, out_features=69, bias=False)\n",
       "        (Wq4): Linear(in_features=66, out_features=66, bias=False)\n",
       "        (Wq5): Linear(in_features=58, out_features=58, bias=False)\n",
       "        (Wq6): Linear(in_features=43, out_features=43, bias=False)\n",
       "        (Wq7): Linear(in_features=31, out_features=31, bias=False)\n",
       "        (Wk0): Linear(in_features=89, out_features=89, bias=False)\n",
       "        (Wk1): Linear(in_features=83, out_features=83, bias=False)\n",
       "        (Wk2): Linear(in_features=73, out_features=73, bias=False)\n",
       "        (Wk3): Linear(in_features=69, out_features=69, bias=False)\n",
       "        (Wk4): Linear(in_features=66, out_features=66, bias=False)\n",
       "        (Wk5): Linear(in_features=58, out_features=58, bias=False)\n",
       "        (Wk6): Linear(in_features=43, out_features=43, bias=False)\n",
       "        (Wk7): Linear(in_features=31, out_features=31, bias=False)\n",
       "        (Wv0): Linear(in_features=89, out_features=89, bias=False)\n",
       "        (Wv1): Linear(in_features=83, out_features=83, bias=False)\n",
       "        (Wv2): Linear(in_features=73, out_features=73, bias=False)\n",
       "        (Wv3): Linear(in_features=69, out_features=69, bias=False)\n",
       "        (Wv4): Linear(in_features=66, out_features=66, bias=False)\n",
       "        (Wv5): Linear(in_features=58, out_features=58, bias=False)\n",
       "        (Wv6): Linear(in_features=43, out_features=43, bias=False)\n",
       "        (Wv7): Linear(in_features=31, out_features=31, bias=False)\n",
       "      )\n",
       "      (addnorm1): AddNorm(\n",
       "        (dropout): Dropout(p=0.1, inplace=False)\n",
       "        (ln): LayerNorm((512,), eps=1e-05, elementwise_affine=True)\n",
       "      )\n",
       "      (ffn): PositionWiseFFN(\n",
       "        (dense1): Linear(in_features=512, out_features=2048, bias=True)\n",
       "        (relu): ReLU()\n",
       "        (dense2): Linear(in_features=2048, out_features=512, bias=True)\n",
       "      )\n",
       "      (addnorm2): AddNorm(\n",
       "        (dropout): Dropout(p=0.1, inplace=False)\n",
       "        (ln): LayerNorm((512,), eps=1e-05, elementwise_affine=True)\n",
       "      )\n",
       "    )\n",
       "    (block2): EncoderBlock(\n",
       "      (attention): FAMAttention(\n",
       "        (attention): DotProductAttention(\n",
       "          (dropout): Dropout(p=0.1, inplace=False)\n",
       "        )\n",
       "        (W_o): Linear(in_features=512, out_features=512, bias=False)\n",
       "        (Wq0): Linear(in_features=89, out_features=89, bias=False)\n",
       "        (Wq1): Linear(in_features=83, out_features=83, bias=False)\n",
       "        (Wq2): Linear(in_features=73, out_features=73, bias=False)\n",
       "        (Wq3): Linear(in_features=69, out_features=69, bias=False)\n",
       "        (Wq4): Linear(in_features=66, out_features=66, bias=False)\n",
       "        (Wq5): Linear(in_features=58, out_features=58, bias=False)\n",
       "        (Wq6): Linear(in_features=43, out_features=43, bias=False)\n",
       "        (Wq7): Linear(in_features=31, out_features=31, bias=False)\n",
       "        (Wk0): Linear(in_features=89, out_features=89, bias=False)\n",
       "        (Wk1): Linear(in_features=83, out_features=83, bias=False)\n",
       "        (Wk2): Linear(in_features=73, out_features=73, bias=False)\n",
       "        (Wk3): Linear(in_features=69, out_features=69, bias=False)\n",
       "        (Wk4): Linear(in_features=66, out_features=66, bias=False)\n",
       "        (Wk5): Linear(in_features=58, out_features=58, bias=False)\n",
       "        (Wk6): Linear(in_features=43, out_features=43, bias=False)\n",
       "        (Wk7): Linear(in_features=31, out_features=31, bias=False)\n",
       "        (Wv0): Linear(in_features=89, out_features=89, bias=False)\n",
       "        (Wv1): Linear(in_features=83, out_features=83, bias=False)\n",
       "        (Wv2): Linear(in_features=73, out_features=73, bias=False)\n",
       "        (Wv3): Linear(in_features=69, out_features=69, bias=False)\n",
       "        (Wv4): Linear(in_features=66, out_features=66, bias=False)\n",
       "        (Wv5): Linear(in_features=58, out_features=58, bias=False)\n",
       "        (Wv6): Linear(in_features=43, out_features=43, bias=False)\n",
       "        (Wv7): Linear(in_features=31, out_features=31, bias=False)\n",
       "      )\n",
       "      (addnorm1): AddNorm(\n",
       "        (dropout): Dropout(p=0.1, inplace=False)\n",
       "        (ln): LayerNorm((512,), eps=1e-05, elementwise_affine=True)\n",
       "      )\n",
       "      (ffn): PositionWiseFFN(\n",
       "        (dense1): Linear(in_features=512, out_features=2048, bias=True)\n",
       "        (relu): ReLU()\n",
       "        (dense2): Linear(in_features=2048, out_features=512, bias=True)\n",
       "      )\n",
       "      (addnorm2): AddNorm(\n",
       "        (dropout): Dropout(p=0.1, inplace=False)\n",
       "        (ln): LayerNorm((512,), eps=1e-05, elementwise_affine=True)\n",
       "      )\n",
       "    )\n",
       "  )\n",
       "  (outhidden): Sequential(\n",
       "    (0): Linear(in_features=512, out_features=512, bias=True)\n",
       "    (1): ReLU()\n",
       "  )\n",
       "  (Dense): Linear(in_features=512, out_features=2, bias=True)\n",
       ")"
      ]
     },
     "execution_count": 27,
     "metadata": {},
     "output_type": "execute_result"
    }
   ],
   "source": [
    "# 用Xavier初始化线性层权重\n",
    "def xavier_init_weights(m):\n",
    "    if type(m) in (nn.Linear, nn.Conv1d):\n",
    "        nn.init.xavier_uniform_(m.weight)\n",
    "\n",
    "\n",
    "net.apply(xavier_init_weights)"
   ]
  },
  {
   "cell_type": "code",
   "execution_count": null,
   "id": "6a35ad18-8d4a-4bbd-bdee-7f12358ec838",
   "metadata": {},
   "outputs": [],
   "source": [
    "from sklearn.metrics import precision_score, recall_score, f1_score\n",
    "def evaluate_accuracy_gpu(net, data_iter, device=None):\n",
    "    \"\"\"Compute the accuracy for a model on a dataset using a GPU.\"\"\"\n",
    "    net.eval()  # Set the model to evaluation mode\n",
    "    if not device:\n",
    "        device = next(iter(net.parameters())).device\n",
    "    # No. of correct predictions, no. of predictions\n",
    "    metric = d2l.Accumulator(2)\n",
    "\n",
    "    with torch.no_grad():\n",
    "        for data in data_iter:\n",
    "            if isinstance(data, list) or isinstance(data, tuple):\n",
    "                X, valid_len, y = [x.to(device) for x in data]\n",
    "            else:\n",
    "                X = X.to(device)\n",
    "            metric.add(d2l.accuracy(net(X, valid_len), y), d2l.size(y))\n",
    "    return metric[0] / metric[1]"
   ]
  },
  {
   "cell_type": "code",
   "execution_count": 28,
   "id": "5f5308f7-f0ef-4fac-a700-d084a229619e",
   "metadata": {
    "execution": {
     "iopub.execute_input": "2024-07-23T00:59:05.578179Z",
     "iopub.status.busy": "2024-07-23T00:59:05.577890Z",
     "iopub.status.idle": "2024-07-23T00:59:05.585698Z",
     "shell.execute_reply": "2024-07-23T00:59:05.584884Z",
     "shell.execute_reply.started": "2024-07-23T00:59:05.578154Z"
    }
   },
   "outputs": [],
   "source": [
    "# 定义评估模型准确率和F1指标的函数\n",
    "from sklearn.metrics import accuracy_score, f1_score\n",
    "# f1_score(labels, predicitons, average='micro')\n",
    "def evaluate_accuracy_f1(net, data_iter, device=None):\n",
    "    net.eval()  # Set the model to evaluation mode\n",
    "    if not device:\n",
    "        device = next(iter(net.parameters())).device\n",
    "\n",
    "    y_pred, y_true = torch.tensor([], device=device), torch.tensor([], device=device)\n",
    "    with torch.no_grad():\n",
    "        for data in data_iter:\n",
    "            if isinstance(data, list) or isinstance(data, tuple):\n",
    "                X, valid_len, y = [x.to(device) for x in data]\n",
    "            else:\n",
    "                X = X.to(device)\n",
    "            y_pred = torch.cat([y_pred, net(X, valid_len).argmax(dim=-1)])\n",
    "            y_true = torch.cat([y_true, y])\n",
    "    return accuracy_score(y_pred.cpu(), y_true.cpu()), f1_score(y_pred.cpu(), y_true.cpu())"
   ]
  },
  {
   "cell_type": "code",
   "execution_count": 44,
   "id": "1dc3dbd0-3c3d-40bd-afb5-aff8e3257ba1",
   "metadata": {
    "execution": {
     "iopub.execute_input": "2024-07-22T11:33:06.338568Z",
     "iopub.status.busy": "2024-07-22T11:33:06.338055Z",
     "iopub.status.idle": "2024-07-22T11:42:07.630433Z",
     "shell.execute_reply": "2024-07-22T11:42:07.629793Z",
     "shell.execute_reply.started": "2024-07-22T11:33:06.338518Z"
    }
   },
   "outputs": [
    {
     "data": {
      "text/plain": [
       "(0.49944, 0.6660083271057969)"
      ]
     },
     "execution_count": 44,
     "metadata": {},
     "output_type": "execute_result"
    }
   ],
   "source": [
    "evaluate_accuracy_f1(net, test_iter)"
   ]
  },
  {
   "cell_type": "code",
   "execution_count": 39,
   "id": "9b9a59d4-8902-4318-a747-9fd1a13cf025",
   "metadata": {
    "execution": {
     "iopub.execute_input": "2024-07-22T11:27:18.360166Z",
     "iopub.status.busy": "2024-07-22T11:27:18.359876Z",
     "iopub.status.idle": "2024-07-22T11:27:18.365309Z",
     "shell.execute_reply": "2024-07-22T11:27:18.364602Z",
     "shell.execute_reply.started": "2024-07-22T11:27:18.360142Z"
    }
   },
   "outputs": [
    {
     "data": {
      "text/plain": [
       "torch.Size([0])"
      ]
     },
     "execution_count": 39,
     "metadata": {},
     "output_type": "execute_result"
    }
   ],
   "source": [
    "torch.tensor([]).shape"
   ]
  },
  {
   "cell_type": "markdown",
   "id": "1c24eaa4-6fd5-4831-88c4-67087c732622",
   "metadata": {},
   "source": [
    "## 正式训练-两层FAM"
   ]
  },
  {
   "cell_type": "markdown",
   "id": "2f072804-3a9c-4572-b939-a1b518e5d35c",
   "metadata": {},
   "source": [
    "  由于模型的embedding层用word2vec词向量进行了初始化，可以认为嵌入层现在已经有了一定的信息表征能力，因此在接下来的训练过程里，给该层的参数一个较小的学习率，而给其他层更大的学习率(这里用的10倍)。已有的训练结果表示这样的微调方法产生的结果是不错的，但是不否认有更好的训练方式。"
   ]
  },
  {
   "cell_type": "code",
   "execution_count": 24,
   "id": "6980bed9-caa1-4142-96de-5bb7c2a00866",
   "metadata": {
    "execution": {
     "iopub.execute_input": "2024-07-22T14:02:39.005541Z",
     "iopub.status.busy": "2024-07-22T14:02:39.005006Z",
     "iopub.status.idle": "2024-07-22T15:39:35.132666Z",
     "shell.execute_reply": "2024-07-22T15:39:35.131728Z",
     "shell.execute_reply.started": "2024-07-22T14:02:39.005490Z"
    }
   },
   "outputs": [
    {
     "name": "stderr",
     "output_type": "stream",
     "text": [
      "100%|██████████| 391/391 [00:54<00:00,  7.17it/s]\n"
     ]
    },
    {
     "name": "stdout",
     "output_type": "stream",
     "text": [
      "epoch 1, loss 0.720, train_acc 0.756, train_f1 0.744, test_acc 0.756,test_f1 0.744, taking 97 seconds\n"
     ]
    },
    {
     "name": "stderr",
     "output_type": "stream",
     "text": [
      "100%|██████████| 391/391 [00:54<00:00,  7.18it/s]\n"
     ]
    },
    {
     "name": "stdout",
     "output_type": "stream",
     "text": [
      "epoch 2, loss 0.503, train_acc 0.807, train_f1 0.819, test_acc 0.807,test_f1 0.819, taking 97 seconds\n"
     ]
    },
    {
     "name": "stderr",
     "output_type": "stream",
     "text": [
      "100%|██████████| 391/391 [00:54<00:00,  7.17it/s]\n"
     ]
    },
    {
     "name": "stdout",
     "output_type": "stream",
     "text": [
      "epoch 3, loss 0.423, train_acc 0.829, train_f1 0.820, test_acc 0.829,test_f1 0.820, taking 97 seconds\n"
     ]
    },
    {
     "name": "stderr",
     "output_type": "stream",
     "text": [
      "100%|██████████| 391/391 [00:54<00:00,  7.16it/s]\n"
     ]
    },
    {
     "name": "stdout",
     "output_type": "stream",
     "text": [
      "epoch 4, loss 0.398, train_acc 0.831, train_f1 0.821, test_acc 0.831,test_f1 0.821, taking 97 seconds\n"
     ]
    },
    {
     "name": "stderr",
     "output_type": "stream",
     "text": [
      "100%|██████████| 391/391 [00:54<00:00,  7.17it/s]\n"
     ]
    },
    {
     "name": "stdout",
     "output_type": "stream",
     "text": [
      "epoch 5, loss 0.377, train_acc 0.846, train_f1 0.856, test_acc 0.846,test_f1 0.856, taking 97 seconds\n"
     ]
    },
    {
     "name": "stderr",
     "output_type": "stream",
     "text": [
      "100%|██████████| 391/391 [00:54<00:00,  7.18it/s]\n"
     ]
    },
    {
     "name": "stdout",
     "output_type": "stream",
     "text": [
      "epoch 6, loss 0.359, train_acc 0.857, train_f1 0.858, test_acc 0.857,test_f1 0.858, taking 97 seconds\n"
     ]
    },
    {
     "name": "stderr",
     "output_type": "stream",
     "text": [
      "100%|██████████| 391/391 [00:54<00:00,  7.15it/s]\n"
     ]
    },
    {
     "name": "stdout",
     "output_type": "stream",
     "text": [
      "epoch 7, loss 0.349, train_acc 0.857, train_f1 0.862, test_acc 0.857,test_f1 0.862, taking 97 seconds\n"
     ]
    },
    {
     "name": "stderr",
     "output_type": "stream",
     "text": [
      "100%|██████████| 391/391 [00:54<00:00,  7.14it/s]\n"
     ]
    },
    {
     "name": "stdout",
     "output_type": "stream",
     "text": [
      "epoch 8, loss 0.332, train_acc 0.865, train_f1 0.867, test_acc 0.865,test_f1 0.867, taking 97 seconds\n"
     ]
    },
    {
     "name": "stderr",
     "output_type": "stream",
     "text": [
      "100%|██████████| 391/391 [00:54<00:00,  7.16it/s]\n"
     ]
    },
    {
     "name": "stdout",
     "output_type": "stream",
     "text": [
      "epoch 9, loss 0.324, train_acc 0.868, train_f1 0.870, test_acc 0.868,test_f1 0.870, taking 97 seconds\n"
     ]
    },
    {
     "name": "stderr",
     "output_type": "stream",
     "text": [
      "100%|██████████| 391/391 [00:54<00:00,  7.16it/s]\n"
     ]
    },
    {
     "name": "stdout",
     "output_type": "stream",
     "text": [
      "epoch 10, loss 0.314, train_acc 0.868, train_f1 0.866, test_acc 0.868,test_f1 0.866, taking 97 seconds\n"
     ]
    },
    {
     "name": "stderr",
     "output_type": "stream",
     "text": [
      "100%|██████████| 391/391 [00:54<00:00,  7.17it/s]\n"
     ]
    },
    {
     "name": "stdout",
     "output_type": "stream",
     "text": [
      "epoch 11, loss 0.299, train_acc 0.872, train_f1 0.874, test_acc 0.872,test_f1 0.874, taking 97 seconds\n"
     ]
    },
    {
     "name": "stderr",
     "output_type": "stream",
     "text": [
      "100%|██████████| 391/391 [00:54<00:00,  7.17it/s]\n"
     ]
    },
    {
     "name": "stdout",
     "output_type": "stream",
     "text": [
      "epoch 12, loss 0.295, train_acc 0.872, train_f1 0.870, test_acc 0.872,test_f1 0.870, taking 97 seconds\n"
     ]
    },
    {
     "name": "stderr",
     "output_type": "stream",
     "text": [
      "100%|██████████| 391/391 [00:54<00:00,  7.16it/s]\n"
     ]
    },
    {
     "name": "stdout",
     "output_type": "stream",
     "text": [
      "epoch 13, loss 0.278, train_acc 0.872, train_f1 0.877, test_acc 0.872,test_f1 0.877, taking 97 seconds\n"
     ]
    },
    {
     "name": "stderr",
     "output_type": "stream",
     "text": [
      "100%|██████████| 391/391 [00:54<00:00,  7.17it/s]\n"
     ]
    },
    {
     "name": "stdout",
     "output_type": "stream",
     "text": [
      "epoch 14, loss 0.271, train_acc 0.877, train_f1 0.877, test_acc 0.877,test_f1 0.877, taking 97 seconds\n"
     ]
    },
    {
     "name": "stderr",
     "output_type": "stream",
     "text": [
      "100%|██████████| 391/391 [00:54<00:00,  7.18it/s]\n"
     ]
    },
    {
     "name": "stdout",
     "output_type": "stream",
     "text": [
      "epoch 15, loss 0.262, train_acc 0.875, train_f1 0.874, test_acc 0.875,test_f1 0.874, taking 97 seconds\n"
     ]
    },
    {
     "name": "stderr",
     "output_type": "stream",
     "text": [
      "100%|██████████| 391/391 [00:54<00:00,  7.19it/s]\n"
     ]
    },
    {
     "name": "stdout",
     "output_type": "stream",
     "text": [
      "epoch 16, loss 0.248, train_acc 0.851, train_f1 0.864, test_acc 0.851,test_f1 0.864, taking 97 seconds\n"
     ]
    },
    {
     "name": "stderr",
     "output_type": "stream",
     "text": [
      "100%|██████████| 391/391 [00:54<00:00,  7.19it/s]\n"
     ]
    },
    {
     "name": "stdout",
     "output_type": "stream",
     "text": [
      "epoch 17, loss 0.242, train_acc 0.871, train_f1 0.866, test_acc 0.871,test_f1 0.866, taking 97 seconds\n"
     ]
    },
    {
     "name": "stderr",
     "output_type": "stream",
     "text": [
      "100%|██████████| 391/391 [00:54<00:00,  7.17it/s]\n"
     ]
    },
    {
     "name": "stdout",
     "output_type": "stream",
     "text": [
      "epoch 18, loss 0.228, train_acc 0.869, train_f1 0.872, test_acc 0.869,test_f1 0.872, taking 97 seconds\n"
     ]
    },
    {
     "name": "stderr",
     "output_type": "stream",
     "text": [
      "100%|██████████| 391/391 [00:54<00:00,  7.16it/s]\n"
     ]
    },
    {
     "name": "stdout",
     "output_type": "stream",
     "text": [
      "epoch 19, loss 0.217, train_acc 0.856, train_f1 0.864, test_acc 0.856,test_f1 0.864, taking 97 seconds\n"
     ]
    },
    {
     "name": "stderr",
     "output_type": "stream",
     "text": [
      "100%|██████████| 391/391 [00:54<00:00,  7.16it/s]\n"
     ]
    },
    {
     "name": "stdout",
     "output_type": "stream",
     "text": [
      "epoch 20, loss 0.200, train_acc 0.867, train_f1 0.867, test_acc 0.867,test_f1 0.867, taking 97 seconds\n"
     ]
    },
    {
     "name": "stderr",
     "output_type": "stream",
     "text": [
      "100%|██████████| 391/391 [00:54<00:00,  7.16it/s]\n"
     ]
    },
    {
     "name": "stdout",
     "output_type": "stream",
     "text": [
      "epoch 21, loss 0.191, train_acc 0.863, train_f1 0.865, test_acc 0.863,test_f1 0.865, taking 97 seconds\n"
     ]
    },
    {
     "name": "stderr",
     "output_type": "stream",
     "text": [
      "100%|██████████| 391/391 [00:54<00:00,  7.17it/s]\n"
     ]
    },
    {
     "name": "stdout",
     "output_type": "stream",
     "text": [
      "epoch 22, loss 0.192, train_acc 0.858, train_f1 0.856, test_acc 0.858,test_f1 0.856, taking 97 seconds\n"
     ]
    },
    {
     "name": "stderr",
     "output_type": "stream",
     "text": [
      "100%|██████████| 391/391 [00:54<00:00,  7.19it/s]\n"
     ]
    },
    {
     "name": "stdout",
     "output_type": "stream",
     "text": [
      "epoch 23, loss 0.171, train_acc 0.854, train_f1 0.849, test_acc 0.854,test_f1 0.849, taking 97 seconds\n"
     ]
    },
    {
     "name": "stderr",
     "output_type": "stream",
     "text": [
      "100%|██████████| 391/391 [00:54<00:00,  7.19it/s]\n"
     ]
    },
    {
     "name": "stdout",
     "output_type": "stream",
     "text": [
      "epoch 24, loss 0.156, train_acc 0.858, train_f1 0.859, test_acc 0.858,test_f1 0.859, taking 97 seconds\n"
     ]
    },
    {
     "name": "stderr",
     "output_type": "stream",
     "text": [
      "100%|██████████| 391/391 [00:54<00:00,  7.18it/s]\n"
     ]
    },
    {
     "name": "stdout",
     "output_type": "stream",
     "text": [
      "epoch 25, loss 0.152, train_acc 0.855, train_f1 0.849, test_acc 0.855,test_f1 0.849, taking 97 seconds\n"
     ]
    },
    {
     "name": "stderr",
     "output_type": "stream",
     "text": [
      "100%|██████████| 391/391 [00:54<00:00,  7.17it/s]\n"
     ]
    },
    {
     "name": "stdout",
     "output_type": "stream",
     "text": [
      "epoch 26, loss 0.143, train_acc 0.855, train_f1 0.854, test_acc 0.855,test_f1 0.854, taking 97 seconds\n"
     ]
    },
    {
     "name": "stderr",
     "output_type": "stream",
     "text": [
      "100%|██████████| 391/391 [00:54<00:00,  7.18it/s]\n"
     ]
    },
    {
     "name": "stdout",
     "output_type": "stream",
     "text": [
      "epoch 27, loss 0.129, train_acc 0.847, train_f1 0.841, test_acc 0.847,test_f1 0.841, taking 97 seconds\n"
     ]
    },
    {
     "name": "stderr",
     "output_type": "stream",
     "text": [
      "100%|██████████| 391/391 [00:54<00:00,  7.18it/s]\n"
     ]
    },
    {
     "name": "stdout",
     "output_type": "stream",
     "text": [
      "epoch 28, loss 0.122, train_acc 0.846, train_f1 0.848, test_acc 0.846,test_f1 0.848, taking 97 seconds\n"
     ]
    },
    {
     "name": "stderr",
     "output_type": "stream",
     "text": [
      "100%|██████████| 391/391 [00:54<00:00,  7.16it/s]\n"
     ]
    },
    {
     "name": "stdout",
     "output_type": "stream",
     "text": [
      "epoch 29, loss 0.113, train_acc 0.848, train_f1 0.847, test_acc 0.848,test_f1 0.847, taking 97 seconds\n"
     ]
    },
    {
     "name": "stderr",
     "output_type": "stream",
     "text": [
      "100%|██████████| 391/391 [00:54<00:00,  7.16it/s]\n"
     ]
    },
    {
     "name": "stdout",
     "output_type": "stream",
     "text": [
      "epoch 30, loss 0.111, train_acc 0.840, train_f1 0.838, test_acc 0.840,test_f1 0.838, taking 97 seconds\n"
     ]
    },
    {
     "name": "stderr",
     "output_type": "stream",
     "text": [
      "100%|██████████| 391/391 [00:54<00:00,  7.15it/s]\n"
     ]
    },
    {
     "name": "stdout",
     "output_type": "stream",
     "text": [
      "epoch 31, loss 0.101, train_acc 0.842, train_f1 0.846, test_acc 0.842,test_f1 0.846, taking 97 seconds\n"
     ]
    },
    {
     "name": "stderr",
     "output_type": "stream",
     "text": [
      "100%|██████████| 391/391 [00:54<00:00,  7.19it/s]\n"
     ]
    },
    {
     "name": "stdout",
     "output_type": "stream",
     "text": [
      "epoch 32, loss 0.104, train_acc 0.829, train_f1 0.840, test_acc 0.829,test_f1 0.840, taking 97 seconds\n"
     ]
    },
    {
     "name": "stderr",
     "output_type": "stream",
     "text": [
      "100%|██████████| 391/391 [00:54<00:00,  7.17it/s]\n"
     ]
    },
    {
     "name": "stdout",
     "output_type": "stream",
     "text": [
      "epoch 33, loss 0.099, train_acc 0.846, train_f1 0.842, test_acc 0.846,test_f1 0.842, taking 97 seconds\n"
     ]
    },
    {
     "name": "stderr",
     "output_type": "stream",
     "text": [
      "100%|██████████| 391/391 [00:54<00:00,  7.18it/s]\n"
     ]
    },
    {
     "name": "stdout",
     "output_type": "stream",
     "text": [
      "epoch 34, loss 0.099, train_acc 0.822, train_f1 0.807, test_acc 0.822,test_f1 0.807, taking 97 seconds\n"
     ]
    },
    {
     "name": "stderr",
     "output_type": "stream",
     "text": [
      "100%|██████████| 391/391 [00:54<00:00,  7.16it/s]\n"
     ]
    },
    {
     "name": "stdout",
     "output_type": "stream",
     "text": [
      "epoch 35, loss 0.087, train_acc 0.853, train_f1 0.853, test_acc 0.853,test_f1 0.853, taking 97 seconds\n"
     ]
    },
    {
     "name": "stderr",
     "output_type": "stream",
     "text": [
      "100%|██████████| 391/391 [00:54<00:00,  7.18it/s]\n"
     ]
    },
    {
     "name": "stdout",
     "output_type": "stream",
     "text": [
      "epoch 36, loss 0.082, train_acc 0.846, train_f1 0.845, test_acc 0.846,test_f1 0.845, taking 97 seconds\n"
     ]
    },
    {
     "name": "stderr",
     "output_type": "stream",
     "text": [
      "100%|██████████| 391/391 [00:54<00:00,  7.17it/s]\n"
     ]
    },
    {
     "name": "stdout",
     "output_type": "stream",
     "text": [
      "epoch 37, loss 0.081, train_acc 0.841, train_f1 0.835, test_acc 0.841,test_f1 0.835, taking 97 seconds\n"
     ]
    },
    {
     "name": "stderr",
     "output_type": "stream",
     "text": [
      "100%|██████████| 391/391 [00:54<00:00,  7.16it/s]\n"
     ]
    },
    {
     "name": "stdout",
     "output_type": "stream",
     "text": [
      "epoch 38, loss 0.077, train_acc 0.832, train_f1 0.829, test_acc 0.832,test_f1 0.829, taking 97 seconds\n"
     ]
    },
    {
     "name": "stderr",
     "output_type": "stream",
     "text": [
      "100%|██████████| 391/391 [00:54<00:00,  7.18it/s]\n"
     ]
    },
    {
     "name": "stdout",
     "output_type": "stream",
     "text": [
      "epoch 39, loss 0.074, train_acc 0.841, train_f1 0.843, test_acc 0.841,test_f1 0.843, taking 97 seconds\n"
     ]
    },
    {
     "name": "stderr",
     "output_type": "stream",
     "text": [
      "100%|██████████| 391/391 [00:54<00:00,  7.18it/s]\n"
     ]
    },
    {
     "name": "stdout",
     "output_type": "stream",
     "text": [
      "epoch 40, loss 0.072, train_acc 0.817, train_f1 0.796, test_acc 0.817,test_f1 0.796, taking 97 seconds\n"
     ]
    },
    {
     "name": "stderr",
     "output_type": "stream",
     "text": [
      "100%|██████████| 391/391 [00:54<00:00,  7.17it/s]\n"
     ]
    },
    {
     "name": "stdout",
     "output_type": "stream",
     "text": [
      "epoch 41, loss 0.069, train_acc 0.843, train_f1 0.837, test_acc 0.843,test_f1 0.837, taking 97 seconds\n"
     ]
    },
    {
     "name": "stderr",
     "output_type": "stream",
     "text": [
      "100%|██████████| 391/391 [00:54<00:00,  7.17it/s]\n"
     ]
    },
    {
     "name": "stdout",
     "output_type": "stream",
     "text": [
      "epoch 42, loss 0.068, train_acc 0.843, train_f1 0.846, test_acc 0.843,test_f1 0.846, taking 97 seconds\n"
     ]
    },
    {
     "name": "stderr",
     "output_type": "stream",
     "text": [
      "100%|██████████| 391/391 [00:54<00:00,  7.17it/s]\n"
     ]
    },
    {
     "name": "stdout",
     "output_type": "stream",
     "text": [
      "epoch 43, loss 0.067, train_acc 0.830, train_f1 0.841, test_acc 0.830,test_f1 0.841, taking 97 seconds\n"
     ]
    },
    {
     "name": "stderr",
     "output_type": "stream",
     "text": [
      "100%|██████████| 391/391 [00:54<00:00,  7.17it/s]\n"
     ]
    },
    {
     "name": "stdout",
     "output_type": "stream",
     "text": [
      "epoch 44, loss 0.054, train_acc 0.840, train_f1 0.845, test_acc 0.840,test_f1 0.845, taking 97 seconds\n"
     ]
    },
    {
     "name": "stderr",
     "output_type": "stream",
     "text": [
      "100%|██████████| 391/391 [00:54<00:00,  7.17it/s]\n"
     ]
    },
    {
     "name": "stdout",
     "output_type": "stream",
     "text": [
      "epoch 45, loss 0.054, train_acc 0.838, train_f1 0.837, test_acc 0.838,test_f1 0.837, taking 97 seconds\n"
     ]
    },
    {
     "name": "stderr",
     "output_type": "stream",
     "text": [
      "100%|██████████| 391/391 [00:54<00:00,  7.17it/s]\n"
     ]
    },
    {
     "name": "stdout",
     "output_type": "stream",
     "text": [
      "epoch 46, loss 0.054, train_acc 0.831, train_f1 0.826, test_acc 0.831,test_f1 0.826, taking 97 seconds\n"
     ]
    },
    {
     "name": "stderr",
     "output_type": "stream",
     "text": [
      "100%|██████████| 391/391 [00:54<00:00,  7.16it/s]\n"
     ]
    },
    {
     "name": "stdout",
     "output_type": "stream",
     "text": [
      "epoch 47, loss 0.053, train_acc 0.839, train_f1 0.846, test_acc 0.839,test_f1 0.846, taking 97 seconds\n"
     ]
    },
    {
     "name": "stderr",
     "output_type": "stream",
     "text": [
      "100%|██████████| 391/391 [00:54<00:00,  7.17it/s]\n"
     ]
    },
    {
     "name": "stdout",
     "output_type": "stream",
     "text": [
      "epoch 48, loss 0.049, train_acc 0.834, train_f1 0.833, test_acc 0.834,test_f1 0.833, taking 97 seconds\n"
     ]
    },
    {
     "name": "stderr",
     "output_type": "stream",
     "text": [
      "100%|██████████| 391/391 [00:54<00:00,  7.18it/s]\n"
     ]
    },
    {
     "name": "stdout",
     "output_type": "stream",
     "text": [
      "epoch 49, loss 0.055, train_acc 0.825, train_f1 0.815, test_acc 0.825,test_f1 0.815, taking 97 seconds\n"
     ]
    },
    {
     "name": "stderr",
     "output_type": "stream",
     "text": [
      "100%|██████████| 391/391 [00:54<00:00,  7.16it/s]\n"
     ]
    },
    {
     "name": "stdout",
     "output_type": "stream",
     "text": [
      "epoch 50, loss 0.049, train_acc 0.831, train_f1 0.839, test_acc 0.831,test_f1 0.839, taking 97 seconds\n"
     ]
    },
    {
     "name": "stderr",
     "output_type": "stream",
     "text": [
      "100%|██████████| 391/391 [00:54<00:00,  7.16it/s]\n"
     ]
    },
    {
     "name": "stdout",
     "output_type": "stream",
     "text": [
      "epoch 51, loss 0.049, train_acc 0.836, train_f1 0.833, test_acc 0.836,test_f1 0.833, taking 97 seconds\n"
     ]
    },
    {
     "name": "stderr",
     "output_type": "stream",
     "text": [
      "100%|██████████| 391/391 [00:54<00:00,  7.17it/s]\n"
     ]
    },
    {
     "name": "stdout",
     "output_type": "stream",
     "text": [
      "epoch 52, loss 0.050, train_acc 0.818, train_f1 0.808, test_acc 0.818,test_f1 0.808, taking 97 seconds\n"
     ]
    },
    {
     "name": "stderr",
     "output_type": "stream",
     "text": [
      "100%|██████████| 391/391 [00:54<00:00,  7.18it/s]\n"
     ]
    },
    {
     "name": "stdout",
     "output_type": "stream",
     "text": [
      "epoch 53, loss 0.045, train_acc 0.829, train_f1 0.824, test_acc 0.829,test_f1 0.824, taking 97 seconds\n"
     ]
    },
    {
     "name": "stderr",
     "output_type": "stream",
     "text": [
      "100%|██████████| 391/391 [00:54<00:00,  7.20it/s]\n"
     ]
    },
    {
     "name": "stdout",
     "output_type": "stream",
     "text": [
      "epoch 54, loss 0.044, train_acc 0.817, train_f1 0.802, test_acc 0.817,test_f1 0.802, taking 97 seconds\n"
     ]
    },
    {
     "name": "stderr",
     "output_type": "stream",
     "text": [
      "100%|██████████| 391/391 [00:54<00:00,  7.16it/s]\n"
     ]
    },
    {
     "name": "stdout",
     "output_type": "stream",
     "text": [
      "epoch 55, loss 0.044, train_acc 0.834, train_f1 0.829, test_acc 0.834,test_f1 0.829, taking 97 seconds\n"
     ]
    },
    {
     "name": "stderr",
     "output_type": "stream",
     "text": [
      "100%|██████████| 391/391 [00:54<00:00,  7.16it/s]\n"
     ]
    },
    {
     "name": "stdout",
     "output_type": "stream",
     "text": [
      "epoch 56, loss 0.046, train_acc 0.818, train_f1 0.802, test_acc 0.818,test_f1 0.802, taking 97 seconds\n"
     ]
    },
    {
     "name": "stderr",
     "output_type": "stream",
     "text": [
      "100%|██████████| 391/391 [00:54<00:00,  7.20it/s]\n"
     ]
    },
    {
     "name": "stdout",
     "output_type": "stream",
     "text": [
      "epoch 57, loss 0.038, train_acc 0.818, train_f1 0.803, test_acc 0.818,test_f1 0.803, taking 97 seconds\n"
     ]
    },
    {
     "name": "stderr",
     "output_type": "stream",
     "text": [
      "100%|██████████| 391/391 [00:54<00:00,  7.17it/s]\n"
     ]
    },
    {
     "name": "stdout",
     "output_type": "stream",
     "text": [
      "epoch 58, loss 0.037, train_acc 0.839, train_f1 0.842, test_acc 0.839,test_f1 0.842, taking 97 seconds\n"
     ]
    },
    {
     "name": "stderr",
     "output_type": "stream",
     "text": [
      "100%|██████████| 391/391 [00:54<00:00,  7.19it/s]\n"
     ]
    },
    {
     "name": "stdout",
     "output_type": "stream",
     "text": [
      "epoch 59, loss 0.035, train_acc 0.844, train_f1 0.840, test_acc 0.844,test_f1 0.840, taking 97 seconds\n"
     ]
    },
    {
     "name": "stderr",
     "output_type": "stream",
     "text": [
      "100%|██████████| 391/391 [00:54<00:00,  7.12it/s]\n"
     ]
    },
    {
     "name": "stdout",
     "output_type": "stream",
     "text": [
      "epoch 60, loss 0.037, train_acc 0.832, train_f1 0.837, test_acc 0.832,test_f1 0.837, taking 97 seconds\n",
      "Training is finished.\n",
      "训练损失:0.037, 训练集准确率:0.832, 训练集f1:0.837, 测试集准确率:0.832, 测试集f1:0.837, 在设备cuda:0上训练60周期, 耗时5813 s\n"
     ]
    }
   ],
   "source": [
    "# 以‘微调’的模式进行训练\n",
    "# activation function: nn.ReLU()\n",
    "# 24,492,514 total parameters.\n",
    "loss = nn.CrossEntropyLoss(reduction='none')\n",
    "# 为不同层赋予不同的学习率\n",
    "forward_params = [\n",
    "    param for name, param in net.named_parameters()\n",
    "    if name != \"embedding.weight\"]\n",
    "trainer = torch.optim.Adam(\n",
    "    [{'params': net.embedding.parameters()},\n",
    "    {'params': forward_params,\n",
    "    'lr': lr * 10}], lr=lr)\n",
    "net.to(device)\n",
    "\n",
    "num_batches = len(train_iter)\n",
    "losses, train_accuracy, test_accuracy = [], [], []\n",
    "train_f1, test_f1 = [], []\n",
    "total_start = time.time()\n",
    "for epoch in range(num_epochs):\n",
    "    train_loss = 0\n",
    "    start_time = time.perf_counter()\n",
    "    net.train()\n",
    "    for index, data in tqdm(enumerate(train_iter), total=num_batches, leave=True):\n",
    "        X, valid_len, y = [v.to(device) for v in data]\n",
    "        l = loss(net(X, valid_len), y)\n",
    "        trainer.zero_grad()\n",
    "        l.sum().backward()\n",
    "        trainer.step()\n",
    "        train_loss += l.sum().cpu().detach().numpy() / batch_size\n",
    "        # train_acc += d2l.accuracy(net(X, valid_len), y) / batch_size\n",
    "    epochloss = train_loss / num_batches\n",
    "    epochtrainacc, epochtrainf1 =evaluate_accuracy_f1(net, test_iter)\n",
    "    epochtestacc, epochtestf1 = evaluate_accuracy_f1(net, test_iter)\n",
    "    end_time = time.perf_counter()\n",
    "    print(f'epoch {epoch + 1}, loss {epochloss:.3f}, train_acc {epochtrainacc:.3f}, '\n",
    "        f'train_f1 {epochtrainf1:.3f}, test_acc {epochtestacc:.3f},'\n",
    "        f'test_f1 {epochtestf1:.3f}, taking {round(end_time - start_time)} seconds')\n",
    "    losses.append(epochloss)\n",
    "    train_accuracy.append(epochtrainacc)\n",
    "    train_f1.append(epochtrainf1)\n",
    "    test_accuracy.append(epochtestacc)\n",
    "    test_f1.append(epochtestf1)\n",
    "total_timecost = round(time.time() - total_start)\n",
    "print('Training is finished.')\n",
    "print(f'训练损失:{losses[-1]:.3f}, 训练集准确率:{train_accuracy[-1]:.3f}, '\n",
    "      f'训练集f1:{train_f1[-1]:.3f}, 测试集准确率:{test_accuracy[-1]:.3f}, '\n",
    "     f'测试集f1:{train_f1[-1]:.3f}, 在设备{device}上训练{num_epochs}周期, 耗时{total_timecost} s')"
   ]
  },
  {
   "cell_type": "markdown",
   "id": "7113abd8-e9d7-437c-afba-9dbebe3dadad",
   "metadata": {},
   "source": [
    "## 保存结果"
   ]
  },
  {
   "cell_type": "markdown",
   "id": "bde3b999-d516-48e6-8734-075a951cf571",
   "metadata": {},
   "source": [
    "  对于画图效果的调整，可以参考网站https://blog.csdn.net/weixin_43384257/article/details/115640104, https://blog.csdn.net/qq_41870157/article/details/104328111\n",
    "网上matplotlib的教程很多。"
   ]
  },
  {
   "cell_type": "code",
   "execution_count": 25,
   "id": "65bad684-da5a-45e1-a71b-128502e13ff2",
   "metadata": {
    "execution": {
     "iopub.execute_input": "2024-07-22T15:40:10.921423Z",
     "iopub.status.busy": "2024-07-22T15:40:10.921131Z",
     "iopub.status.idle": "2024-07-22T15:40:10.926710Z",
     "shell.execute_reply": "2024-07-22T15:40:10.925703Z",
     "shell.execute_reply.started": "2024-07-22T15:40:10.921399Z"
    }
   },
   "outputs": [
    {
     "name": "stdout",
     "output_type": "stream",
     "text": [
      "测试集最佳准确率: 0.877,\n",
      "测试集最佳F1分数: 0.877\n"
     ]
    }
   ],
   "source": [
    "print(f\"测试集最佳准确率: {max(test_accuracy):.3f},\\n\"\n",
    "    f\"测试集最佳F1分数: {max(test_f1):.3f}\")"
   ]
  },
  {
   "cell_type": "code",
   "execution_count": 27,
   "id": "7ab5ad24-680a-40af-b503-3a4d31019798",
   "metadata": {
    "execution": {
     "iopub.execute_input": "2024-07-22T15:40:33.384868Z",
     "iopub.status.busy": "2024-07-22T15:40:33.384579Z",
     "iopub.status.idle": "2024-07-22T15:40:33.551457Z",
     "shell.execute_reply": "2024-07-22T15:40:33.550687Z",
     "shell.execute_reply.started": "2024-07-22T15:40:33.384844Z"
    }
   },
   "outputs": [
    {
     "data": {
      "image/png": "[encoded data removed]",
      "text/plain": [
       "<Figure size 640x480 with 1 Axes>"
      ]
     },
     "metadata": {},
     "output_type": "display_data"
    }
   ],
   "source": [
    "fig = plt.figure()\n",
    "plt.title('train loss and accuracy')\n",
    "epochs = np.arange(1, num_epochs + 1)\n",
    "plt.axis([0, num_epochs, 0, 1])\n",
    "# losses, train_accuracy, test_accuracy, test_f1\n",
    "plt.plot(epochs, losses, 'r.-', label='loss')\n",
    "# plt.plot(epochs, train_accuracy, 'g-.', label='train_acc')\n",
    "plt.plot(epochs, test_accuracy, 'g-.', label='test_acc')\n",
    "plt.plot(epochs, test_f1, 'b-.', label='test_f1')\n",
    "plt.legend(loc='best', frameon=False)\n",
    "plt.show()"
   ]
  },
  {
   "cell_type": "code",
   "execution_count": 28,
   "id": "4fd4fae2-d031-4724-a5c3-4140a94d6a46",
   "metadata": {
    "execution": {
     "iopub.execute_input": "2024-07-22T15:40:41.182395Z",
     "iopub.status.busy": "2024-07-22T15:40:41.182102Z",
     "iopub.status.idle": "2024-07-22T15:40:41.303417Z",
     "shell.execute_reply": "2024-07-22T15:40:41.302429Z",
     "shell.execute_reply.started": "2024-07-22T15:40:41.182371Z"
    }
   },
   "outputs": [],
   "source": [
    "result = pd.DataFrame({\"train_acc\": train_accuracy,\n",
    "                       \"train_f1\": train_f1,\n",
    "                      \"test_acc\": test_accuracy,\n",
    "                      \"test_f1\": test_f1})\n",
    "result.to_excel(file_path + 'output/2layerfa.xlsx')"
   ]
  },
  {
   "cell_type": "code",
   "execution_count": 29,
   "id": "f0c70dbd-506e-4f33-b661-0d71541c848c",
   "metadata": {
    "execution": {
     "iopub.execute_input": "2024-07-22T15:40:57.798814Z",
     "iopub.status.busy": "2024-07-22T15:40:57.798285Z",
     "iopub.status.idle": "2024-07-22T15:40:57.982481Z",
     "shell.execute_reply": "2024-07-22T15:40:57.981486Z",
     "shell.execute_reply.started": "2024-07-22T15:40:57.798783Z"
    }
   },
   "outputs": [],
   "source": [
    "torch.save(net.state_dict(), file_path + 'output/2layer_state_dict.pth')"
   ]
  },
  {
   "cell_type": "markdown",
   "id": "287cbe8d-417d-4ed8-8943-7bfc6833c81a",
   "metadata": {},
   "source": [
    "## 正式训练-三层FAM"
   ]
  },
  {
   "cell_type": "code",
   "execution_count": 29,
   "id": "04e54562-d70b-40a3-b82e-7c5841824c57",
   "metadata": {
    "execution": {
     "iopub.execute_input": "2024-07-23T01:00:08.986807Z",
     "iopub.status.busy": "2024-07-23T01:00:08.986293Z",
     "iopub.status.idle": "2024-07-23T03:24:27.727860Z",
     "shell.execute_reply": "2024-07-23T03:24:27.726929Z",
     "shell.execute_reply.started": "2024-07-23T01:00:08.986757Z"
    }
   },
   "outputs": [
    {
     "name": "stderr",
     "output_type": "stream",
     "text": [
      "100%|██████████| 391/391 [01:20<00:00,  4.83it/s]\n"
     ]
    },
    {
     "name": "stdout",
     "output_type": "stream",
     "text": [
      "epoch 1, loss 0.739, train_acc 0.500, train_f1 0.000, test_acc 0.500,test_f1 0.000, taking 144 seconds\n"
     ]
    },
    {
     "name": "stderr",
     "output_type": "stream",
     "text": [
      "100%|██████████| 391/391 [01:21<00:00,  4.83it/s]\n"
     ]
    },
    {
     "name": "stdout",
     "output_type": "stream",
     "text": [
      "epoch 2, loss 0.703, train_acc 0.500, train_f1 0.667, test_acc 0.500,test_f1 0.667, taking 144 seconds\n"
     ]
    },
    {
     "name": "stderr",
     "output_type": "stream",
     "text": [
      "100%|██████████| 391/391 [01:20<00:00,  4.83it/s]\n"
     ]
    },
    {
     "name": "stdout",
     "output_type": "stream",
     "text": [
      "epoch 3, loss 0.701, train_acc 0.500, train_f1 0.667, test_acc 0.500,test_f1 0.667, taking 144 seconds\n"
     ]
    },
    {
     "name": "stderr",
     "output_type": "stream",
     "text": [
      "100%|██████████| 391/391 [01:20<00:00,  4.84it/s]\n"
     ]
    },
    {
     "name": "stdout",
     "output_type": "stream",
     "text": [
      "epoch 4, loss 0.698, train_acc 0.500, train_f1 0.667, test_acc 0.500,test_f1 0.667, taking 144 seconds\n"
     ]
    },
    {
     "name": "stderr",
     "output_type": "stream",
     "text": [
      "100%|██████████| 391/391 [01:21<00:00,  4.83it/s]\n"
     ]
    },
    {
     "name": "stdout",
     "output_type": "stream",
     "text": [
      "epoch 5, loss 0.689, train_acc 0.500, train_f1 0.000, test_acc 0.500,test_f1 0.000, taking 144 seconds\n"
     ]
    },
    {
     "name": "stderr",
     "output_type": "stream",
     "text": [
      "100%|██████████| 391/391 [01:20<00:00,  4.83it/s]\n"
     ]
    },
    {
     "name": "stdout",
     "output_type": "stream",
     "text": [
      "epoch 6, loss 0.607, train_acc 0.700, train_f1 0.764, test_acc 0.701,test_f1 0.764, taking 144 seconds\n"
     ]
    },
    {
     "name": "stderr",
     "output_type": "stream",
     "text": [
      "100%|██████████| 391/391 [01:20<00:00,  4.83it/s]\n"
     ]
    },
    {
     "name": "stdout",
     "output_type": "stream",
     "text": [
      "epoch 7, loss 0.480, train_acc 0.803, train_f1 0.825, test_acc 0.798,test_f1 0.820, taking 144 seconds\n"
     ]
    },
    {
     "name": "stderr",
     "output_type": "stream",
     "text": [
      "100%|██████████| 391/391 [01:21<00:00,  4.82it/s]\n"
     ]
    },
    {
     "name": "stdout",
     "output_type": "stream",
     "text": [
      "epoch 8, loss 0.421, train_acc 0.799, train_f1 0.826, test_acc 0.792,test_f1 0.820, taking 144 seconds\n"
     ]
    },
    {
     "name": "stderr",
     "output_type": "stream",
     "text": [
      "100%|██████████| 391/391 [01:21<00:00,  4.82it/s]\n"
     ]
    },
    {
     "name": "stdout",
     "output_type": "stream",
     "text": [
      "epoch 9, loss 0.391, train_acc 0.818, train_f1 0.840, test_acc 0.809,test_f1 0.832, taking 144 seconds\n"
     ]
    },
    {
     "name": "stderr",
     "output_type": "stream",
     "text": [
      "100%|██████████| 391/391 [01:21<00:00,  4.82it/s]\n"
     ]
    },
    {
     "name": "stdout",
     "output_type": "stream",
     "text": [
      "epoch 10, loss 0.357, train_acc 0.864, train_f1 0.859, test_acc 0.849,test_f1 0.842, taking 144 seconds\n"
     ]
    },
    {
     "name": "stderr",
     "output_type": "stream",
     "text": [
      "100%|██████████| 391/391 [01:21<00:00,  4.82it/s]\n"
     ]
    },
    {
     "name": "stdout",
     "output_type": "stream",
     "text": [
      "epoch 11, loss 0.346, train_acc 0.858, train_f1 0.868, test_acc 0.850,test_f1 0.859, taking 144 seconds\n"
     ]
    },
    {
     "name": "stderr",
     "output_type": "stream",
     "text": [
      "100%|██████████| 391/391 [01:21<00:00,  4.82it/s]\n"
     ]
    },
    {
     "name": "stdout",
     "output_type": "stream",
     "text": [
      "epoch 12, loss 0.335, train_acc 0.864, train_f1 0.854, test_acc 0.839,test_f1 0.824, taking 144 seconds\n"
     ]
    },
    {
     "name": "stderr",
     "output_type": "stream",
     "text": [
      "100%|██████████| 391/391 [01:21<00:00,  4.82it/s]\n"
     ]
    },
    {
     "name": "stdout",
     "output_type": "stream",
     "text": [
      "epoch 13, loss 0.321, train_acc 0.889, train_f1 0.890, test_acc 0.863,test_f1 0.864, taking 144 seconds\n"
     ]
    },
    {
     "name": "stderr",
     "output_type": "stream",
     "text": [
      "100%|██████████| 391/391 [01:20<00:00,  4.83it/s]\n"
     ]
    },
    {
     "name": "stdout",
     "output_type": "stream",
     "text": [
      "epoch 14, loss 0.302, train_acc 0.899, train_f1 0.900, test_acc 0.865,test_f1 0.867, taking 144 seconds\n"
     ]
    },
    {
     "name": "stderr",
     "output_type": "stream",
     "text": [
      "100%|██████████| 391/391 [01:21<00:00,  4.82it/s]\n"
     ]
    },
    {
     "name": "stdout",
     "output_type": "stream",
     "text": [
      "epoch 15, loss 0.295, train_acc 0.898, train_f1 0.898, test_acc 0.865,test_f1 0.864, taking 144 seconds\n"
     ]
    },
    {
     "name": "stderr",
     "output_type": "stream",
     "text": [
      "100%|██████████| 391/391 [01:21<00:00,  4.82it/s]\n"
     ]
    },
    {
     "name": "stdout",
     "output_type": "stream",
     "text": [
      "epoch 16, loss 0.285, train_acc 0.903, train_f1 0.907, test_acc 0.870,test_f1 0.874, taking 144 seconds\n"
     ]
    },
    {
     "name": "stderr",
     "output_type": "stream",
     "text": [
      "100%|██████████| 391/391 [01:20<00:00,  4.83it/s]\n"
     ]
    },
    {
     "name": "stdout",
     "output_type": "stream",
     "text": [
      "epoch 17, loss 0.271, train_acc 0.914, train_f1 0.915, test_acc 0.868,test_f1 0.871, taking 144 seconds\n"
     ]
    },
    {
     "name": "stderr",
     "output_type": "stream",
     "text": [
      "100%|██████████| 391/391 [01:20<00:00,  4.83it/s]\n"
     ]
    },
    {
     "name": "stdout",
     "output_type": "stream",
     "text": [
      "epoch 18, loss 0.264, train_acc 0.915, train_f1 0.916, test_acc 0.873,test_f1 0.875, taking 144 seconds\n"
     ]
    },
    {
     "name": "stderr",
     "output_type": "stream",
     "text": [
      "100%|██████████| 391/391 [01:20<00:00,  4.83it/s]\n"
     ]
    },
    {
     "name": "stdout",
     "output_type": "stream",
     "text": [
      "epoch 19, loss 0.259, train_acc 0.919, train_f1 0.917, test_acc 0.868,test_f1 0.865, taking 144 seconds\n"
     ]
    },
    {
     "name": "stderr",
     "output_type": "stream",
     "text": [
      "100%|██████████| 391/391 [01:20<00:00,  4.83it/s]\n"
     ]
    },
    {
     "name": "stdout",
     "output_type": "stream",
     "text": [
      "epoch 20, loss 0.250, train_acc 0.925, train_f1 0.923, test_acc 0.865,test_f1 0.860, taking 144 seconds\n"
     ]
    },
    {
     "name": "stderr",
     "output_type": "stream",
     "text": [
      "100%|██████████| 391/391 [01:21<00:00,  4.82it/s]\n"
     ]
    },
    {
     "name": "stdout",
     "output_type": "stream",
     "text": [
      "epoch 21, loss 0.239, train_acc 0.933, train_f1 0.933, test_acc 0.868,test_f1 0.865, taking 144 seconds\n"
     ]
    },
    {
     "name": "stderr",
     "output_type": "stream",
     "text": [
      "100%|██████████| 391/391 [01:21<00:00,  4.82it/s]\n"
     ]
    },
    {
     "name": "stdout",
     "output_type": "stream",
     "text": [
      "epoch 22, loss 0.230, train_acc 0.934, train_f1 0.936, test_acc 0.864,test_f1 0.868, taking 144 seconds\n"
     ]
    },
    {
     "name": "stderr",
     "output_type": "stream",
     "text": [
      "100%|██████████| 391/391 [01:21<00:00,  4.82it/s]\n"
     ]
    },
    {
     "name": "stdout",
     "output_type": "stream",
     "text": [
      "epoch 23, loss 0.217, train_acc 0.943, train_f1 0.944, test_acc 0.865,test_f1 0.866, taking 144 seconds\n"
     ]
    },
    {
     "name": "stderr",
     "output_type": "stream",
     "text": [
      "100%|██████████| 391/391 [01:20<00:00,  4.83it/s]\n"
     ]
    },
    {
     "name": "stdout",
     "output_type": "stream",
     "text": [
      "epoch 24, loss 0.208, train_acc 0.947, train_f1 0.947, test_acc 0.867,test_f1 0.866, taking 144 seconds\n"
     ]
    },
    {
     "name": "stderr",
     "output_type": "stream",
     "text": [
      "100%|██████████| 391/391 [01:21<00:00,  4.83it/s]\n"
     ]
    },
    {
     "name": "stdout",
     "output_type": "stream",
     "text": [
      "epoch 25, loss 0.204, train_acc 0.953, train_f1 0.954, test_acc 0.865,test_f1 0.864, taking 144 seconds\n"
     ]
    },
    {
     "name": "stderr",
     "output_type": "stream",
     "text": [
      "100%|██████████| 391/391 [01:20<00:00,  4.83it/s]\n"
     ]
    },
    {
     "name": "stdout",
     "output_type": "stream",
     "text": [
      "epoch 26, loss 0.191, train_acc 0.952, train_f1 0.953, test_acc 0.866,test_f1 0.870, taking 144 seconds\n"
     ]
    },
    {
     "name": "stderr",
     "output_type": "stream",
     "text": [
      "100%|██████████| 391/391 [01:20<00:00,  4.83it/s]\n"
     ]
    },
    {
     "name": "stdout",
     "output_type": "stream",
     "text": [
      "epoch 27, loss 0.179, train_acc 0.958, train_f1 0.957, test_acc 0.859,test_f1 0.853, taking 144 seconds\n"
     ]
    },
    {
     "name": "stderr",
     "output_type": "stream",
     "text": [
      "100%|██████████| 391/391 [01:21<00:00,  4.82it/s]\n"
     ]
    },
    {
     "name": "stdout",
     "output_type": "stream",
     "text": [
      "epoch 28, loss 0.176, train_acc 0.960, train_f1 0.960, test_acc 0.858,test_f1 0.862, taking 144 seconds\n"
     ]
    },
    {
     "name": "stderr",
     "output_type": "stream",
     "text": [
      "100%|██████████| 391/391 [01:21<00:00,  4.83it/s]\n"
     ]
    },
    {
     "name": "stdout",
     "output_type": "stream",
     "text": [
      "epoch 29, loss 0.161, train_acc 0.966, train_f1 0.966, test_acc 0.856,test_f1 0.860, taking 144 seconds\n"
     ]
    },
    {
     "name": "stderr",
     "output_type": "stream",
     "text": [
      "100%|██████████| 391/391 [01:20<00:00,  4.83it/s]\n"
     ]
    },
    {
     "name": "stdout",
     "output_type": "stream",
     "text": [
      "epoch 30, loss 0.162, train_acc 0.971, train_f1 0.971, test_acc 0.858,test_f1 0.854, taking 144 seconds\n"
     ]
    },
    {
     "name": "stderr",
     "output_type": "stream",
     "text": [
      "100%|██████████| 391/391 [01:21<00:00,  4.82it/s]\n"
     ]
    },
    {
     "name": "stdout",
     "output_type": "stream",
     "text": [
      "epoch 31, loss 0.149, train_acc 0.974, train_f1 0.974, test_acc 0.856,test_f1 0.850, taking 144 seconds\n"
     ]
    },
    {
     "name": "stderr",
     "output_type": "stream",
     "text": [
      "100%|██████████| 391/391 [01:20<00:00,  4.83it/s]\n"
     ]
    },
    {
     "name": "stdout",
     "output_type": "stream",
     "text": [
      "epoch 32, loss 0.140, train_acc 0.977, train_f1 0.977, test_acc 0.854,test_f1 0.850, taking 144 seconds\n"
     ]
    },
    {
     "name": "stderr",
     "output_type": "stream",
     "text": [
      "100%|██████████| 391/391 [01:20<00:00,  4.83it/s]\n"
     ]
    },
    {
     "name": "stdout",
     "output_type": "stream",
     "text": [
      "epoch 33, loss 0.131, train_acc 0.978, train_f1 0.978, test_acc 0.851,test_f1 0.855, taking 145 seconds\n"
     ]
    },
    {
     "name": "stderr",
     "output_type": "stream",
     "text": [
      "100%|██████████| 391/391 [01:21<00:00,  4.82it/s]\n"
     ]
    },
    {
     "name": "stdout",
     "output_type": "stream",
     "text": [
      "epoch 34, loss 0.122, train_acc 0.983, train_f1 0.983, test_acc 0.855,test_f1 0.850, taking 145 seconds\n"
     ]
    },
    {
     "name": "stderr",
     "output_type": "stream",
     "text": [
      "100%|██████████| 391/391 [01:21<00:00,  4.82it/s]\n"
     ]
    },
    {
     "name": "stdout",
     "output_type": "stream",
     "text": [
      "epoch 35, loss 0.108, train_acc 0.982, train_f1 0.982, test_acc 0.847,test_f1 0.845, taking 144 seconds\n"
     ]
    },
    {
     "name": "stderr",
     "output_type": "stream",
     "text": [
      "100%|██████████| 391/391 [01:21<00:00,  4.83it/s]\n"
     ]
    },
    {
     "name": "stdout",
     "output_type": "stream",
     "text": [
      "epoch 36, loss 0.107, train_acc 0.982, train_f1 0.982, test_acc 0.857,test_f1 0.858, taking 144 seconds\n"
     ]
    },
    {
     "name": "stderr",
     "output_type": "stream",
     "text": [
      "100%|██████████| 391/391 [01:20<00:00,  4.83it/s]\n"
     ]
    },
    {
     "name": "stdout",
     "output_type": "stream",
     "text": [
      "epoch 37, loss 0.101, train_acc 0.981, train_f1 0.982, test_acc 0.845,test_f1 0.851, taking 144 seconds\n"
     ]
    },
    {
     "name": "stderr",
     "output_type": "stream",
     "text": [
      "100%|██████████| 391/391 [01:20<00:00,  4.83it/s]\n"
     ]
    },
    {
     "name": "stdout",
     "output_type": "stream",
     "text": [
      "epoch 38, loss 0.099, train_acc 0.974, train_f1 0.975, test_acc 0.830,test_f1 0.843, taking 144 seconds\n"
     ]
    },
    {
     "name": "stderr",
     "output_type": "stream",
     "text": [
      "100%|██████████| 391/391 [01:20<00:00,  4.83it/s]\n"
     ]
    },
    {
     "name": "stdout",
     "output_type": "stream",
     "text": [
      "epoch 39, loss 0.095, train_acc 0.987, train_f1 0.987, test_acc 0.848,test_f1 0.853, taking 144 seconds\n"
     ]
    },
    {
     "name": "stderr",
     "output_type": "stream",
     "text": [
      "100%|██████████| 391/391 [01:20<00:00,  4.83it/s]\n"
     ]
    },
    {
     "name": "stdout",
     "output_type": "stream",
     "text": [
      "epoch 40, loss 0.085, train_acc 0.989, train_f1 0.989, test_acc 0.848,test_f1 0.846, taking 144 seconds\n"
     ]
    },
    {
     "name": "stderr",
     "output_type": "stream",
     "text": [
      "100%|██████████| 391/391 [01:21<00:00,  4.83it/s]\n"
     ]
    },
    {
     "name": "stdout",
     "output_type": "stream",
     "text": [
      "epoch 41, loss 0.084, train_acc 0.988, train_f1 0.988, test_acc 0.837,test_f1 0.826, taking 144 seconds\n"
     ]
    },
    {
     "name": "stderr",
     "output_type": "stream",
     "text": [
      "100%|██████████| 391/391 [01:21<00:00,  4.82it/s]\n"
     ]
    },
    {
     "name": "stdout",
     "output_type": "stream",
     "text": [
      "epoch 42, loss 0.081, train_acc 0.990, train_f1 0.990, test_acc 0.848,test_f1 0.847, taking 144 seconds\n"
     ]
    },
    {
     "name": "stderr",
     "output_type": "stream",
     "text": [
      "100%|██████████| 391/391 [01:21<00:00,  4.82it/s]\n"
     ]
    },
    {
     "name": "stdout",
     "output_type": "stream",
     "text": [
      "epoch 43, loss 0.074, train_acc 0.993, train_f1 0.993, test_acc 0.835,test_f1 0.831, taking 145 seconds\n"
     ]
    },
    {
     "name": "stderr",
     "output_type": "stream",
     "text": [
      "100%|██████████| 391/391 [01:21<00:00,  4.82it/s]\n"
     ]
    },
    {
     "name": "stdout",
     "output_type": "stream",
     "text": [
      "epoch 44, loss 0.069, train_acc 0.993, train_f1 0.993, test_acc 0.840,test_f1 0.837, taking 144 seconds\n"
     ]
    },
    {
     "name": "stderr",
     "output_type": "stream",
     "text": [
      "100%|██████████| 391/391 [01:21<00:00,  4.83it/s]\n"
     ]
    },
    {
     "name": "stdout",
     "output_type": "stream",
     "text": [
      "epoch 45, loss 0.069, train_acc 0.988, train_f1 0.988, test_acc 0.832,test_f1 0.843, taking 145 seconds\n"
     ]
    },
    {
     "name": "stderr",
     "output_type": "stream",
     "text": [
      "100%|██████████| 391/391 [01:21<00:00,  4.82it/s]\n"
     ]
    },
    {
     "name": "stdout",
     "output_type": "stream",
     "text": [
      "epoch 46, loss 0.069, train_acc 0.994, train_f1 0.994, test_acc 0.841,test_f1 0.837, taking 145 seconds\n"
     ]
    },
    {
     "name": "stderr",
     "output_type": "stream",
     "text": [
      "100%|██████████| 391/391 [01:21<00:00,  4.82it/s]\n"
     ]
    },
    {
     "name": "stdout",
     "output_type": "stream",
     "text": [
      "epoch 47, loss 0.061, train_acc 0.989, train_f1 0.989, test_acc 0.833,test_f1 0.844, taking 144 seconds\n"
     ]
    },
    {
     "name": "stderr",
     "output_type": "stream",
     "text": [
      "100%|██████████| 391/391 [01:20<00:00,  4.83it/s]\n"
     ]
    },
    {
     "name": "stdout",
     "output_type": "stream",
     "text": [
      "epoch 48, loss 0.063, train_acc 0.994, train_f1 0.994, test_acc 0.835,test_f1 0.839, taking 144 seconds\n"
     ]
    },
    {
     "name": "stderr",
     "output_type": "stream",
     "text": [
      "100%|██████████| 391/391 [01:20<00:00,  4.83it/s]\n"
     ]
    },
    {
     "name": "stdout",
     "output_type": "stream",
     "text": [
      "epoch 49, loss 0.063, train_acc 0.994, train_f1 0.994, test_acc 0.837,test_f1 0.825, taking 144 seconds\n"
     ]
    },
    {
     "name": "stderr",
     "output_type": "stream",
     "text": [
      "100%|██████████| 391/391 [01:21<00:00,  4.82it/s]\n"
     ]
    },
    {
     "name": "stdout",
     "output_type": "stream",
     "text": [
      "epoch 50, loss 0.055, train_acc 0.996, train_f1 0.996, test_acc 0.844,test_f1 0.845, taking 144 seconds\n"
     ]
    },
    {
     "name": "stderr",
     "output_type": "stream",
     "text": [
      "100%|██████████| 391/391 [01:21<00:00,  4.82it/s]\n"
     ]
    },
    {
     "name": "stdout",
     "output_type": "stream",
     "text": [
      "epoch 51, loss 0.052, train_acc 0.995, train_f1 0.995, test_acc 0.829,test_f1 0.817, taking 144 seconds\n"
     ]
    },
    {
     "name": "stderr",
     "output_type": "stream",
     "text": [
      "100%|██████████| 391/391 [01:21<00:00,  4.83it/s]\n"
     ]
    },
    {
     "name": "stdout",
     "output_type": "stream",
     "text": [
      "epoch 52, loss 0.052, train_acc 0.996, train_f1 0.996, test_acc 0.834,test_f1 0.827, taking 144 seconds\n"
     ]
    },
    {
     "name": "stderr",
     "output_type": "stream",
     "text": [
      "100%|██████████| 391/391 [01:21<00:00,  4.82it/s]\n"
     ]
    },
    {
     "name": "stdout",
     "output_type": "stream",
     "text": [
      "epoch 53, loss 0.052, train_acc 0.996, train_f1 0.996, test_acc 0.829,test_f1 0.826, taking 144 seconds\n"
     ]
    },
    {
     "name": "stderr",
     "output_type": "stream",
     "text": [
      "100%|██████████| 391/391 [01:21<00:00,  4.82it/s]\n"
     ]
    },
    {
     "name": "stdout",
     "output_type": "stream",
     "text": [
      "epoch 54, loss 0.053, train_acc 0.996, train_f1 0.996, test_acc 0.845,test_f1 0.844, taking 144 seconds\n"
     ]
    },
    {
     "name": "stderr",
     "output_type": "stream",
     "text": [
      "100%|██████████| 391/391 [01:20<00:00,  4.83it/s]\n"
     ]
    },
    {
     "name": "stdout",
     "output_type": "stream",
     "text": [
      "epoch 55, loss 0.046, train_acc 0.997, train_f1 0.997, test_acc 0.825,test_f1 0.823, taking 144 seconds\n"
     ]
    },
    {
     "name": "stderr",
     "output_type": "stream",
     "text": [
      "100%|██████████| 391/391 [01:20<00:00,  4.83it/s]\n"
     ]
    },
    {
     "name": "stdout",
     "output_type": "stream",
     "text": [
      "epoch 56, loss 0.046, train_acc 0.997, train_f1 0.997, test_acc 0.838,test_f1 0.833, taking 144 seconds\n"
     ]
    },
    {
     "name": "stderr",
     "output_type": "stream",
     "text": [
      "100%|██████████| 391/391 [01:20<00:00,  4.83it/s]\n"
     ]
    },
    {
     "name": "stdout",
     "output_type": "stream",
     "text": [
      "epoch 57, loss 0.042, train_acc 0.997, train_f1 0.997, test_acc 0.838,test_f1 0.834, taking 144 seconds\n"
     ]
    },
    {
     "name": "stderr",
     "output_type": "stream",
     "text": [
      "100%|██████████| 391/391 [01:20<00:00,  4.83it/s]\n"
     ]
    },
    {
     "name": "stdout",
     "output_type": "stream",
     "text": [
      "epoch 58, loss 0.044, train_acc 0.995, train_f1 0.995, test_acc 0.835,test_f1 0.842, taking 144 seconds\n"
     ]
    },
    {
     "name": "stderr",
     "output_type": "stream",
     "text": [
      "100%|██████████| 391/391 [01:21<00:00,  4.81it/s]\n"
     ]
    },
    {
     "name": "stdout",
     "output_type": "stream",
     "text": [
      "epoch 59, loss 0.040, train_acc 0.997, train_f1 0.997, test_acc 0.828,test_f1 0.814, taking 145 seconds\n"
     ]
    },
    {
     "name": "stderr",
     "output_type": "stream",
     "text": [
      "100%|██████████| 391/391 [01:21<00:00,  4.82it/s]\n"
     ]
    },
    {
     "name": "stdout",
     "output_type": "stream",
     "text": [
      "epoch 60, loss 0.040, train_acc 0.997, train_f1 0.997, test_acc 0.830,test_f1 0.834, taking 144 seconds\n",
      "Training is finished.\n",
      "训练损失:0.040, 训练集准确率:0.997, 训练集f1:0.997, 测试集准确率:0.830, 测试集f1:0.997, 在设备cuda:0上训练60周期, 耗时8659 s\n"
     ]
    }
   ],
   "source": [
    "# 以‘微调’的模式进行训练\n",
    "# activation function: nn.ReLU()\n",
    "# 26,952,088 total parameters.\n",
    "loss = nn.CrossEntropyLoss(reduction='none')\n",
    "# 为不同层赋予不同的学习率\n",
    "forward_params = [\n",
    "    param for name, param in net.named_parameters()\n",
    "    if name != \"embedding.weight\"]\n",
    "trainer = torch.optim.Adam(\n",
    "    [{'params': net.embedding.parameters()},\n",
    "    {'params': forward_params,\n",
    "    'lr': lr * 10}], lr=lr)\n",
    "net.to(device)\n",
    "\n",
    "num_batches = len(train_iter)\n",
    "losses, train_accuracy, test_accuracy = [], [], []\n",
    "train_f1, test_f1 = [], []\n",
    "total_start = time.time()\n",
    "for epoch in range(num_epochs):\n",
    "    train_loss = 0\n",
    "    start_time = time.perf_counter()\n",
    "    net.train()\n",
    "    for index, data in tqdm(enumerate(train_iter), total=num_batches, leave=True):\n",
    "        X, valid_len, y = [v.to(device) for v in data]\n",
    "        l = loss(net(X, valid_len), y)\n",
    "        trainer.zero_grad()\n",
    "        l.sum().backward()\n",
    "        trainer.step()\n",
    "        train_loss += l.sum().cpu().detach().numpy() / batch_size\n",
    "        # train_acc += d2l.accuracy(net(X, valid_len), y) / batch_size\n",
    "    epochloss = train_loss / num_batches\n",
    "    epochtrainacc, epochtrainf1 = evaluate_accuracy_f1(net, train_iter)\n",
    "    epochtestacc, epochtestf1 = evaluate_accuracy_f1(net, test_iter)\n",
    "    end_time = time.perf_counter()\n",
    "    print(f'epoch {epoch + 1}, loss {epochloss:.3f}, train_acc {epochtrainacc:.3f}, '\n",
    "        f'train_f1 {epochtrainf1:.3f}, test_acc {epochtestacc:.3f},'\n",
    "        f'test_f1 {epochtestf1:.3f}, taking {round(end_time - start_time)} seconds')\n",
    "    losses.append(epochloss)\n",
    "    train_accuracy.append(epochtrainacc)\n",
    "    train_f1.append(epochtrainf1)\n",
    "    test_accuracy.append(epochtestacc)\n",
    "    test_f1.append(epochtestf1)\n",
    "total_timecost = round(time.time() - total_start)\n",
    "print('Training is finished.')\n",
    "print(f'训练损失:{losses[-1]:.3f}, 训练集准确率:{train_accuracy[-1]:.3f}, '\n",
    "      f'训练集f1:{train_f1[-1]:.3f}, 测试集准确率:{test_accuracy[-1]:.3f}, '\n",
    "     f'测试集f1:{train_f1[-1]:.3f}, 在设备{device}上训练{num_epochs}周期, 耗时{total_timecost} s')"
   ]
  },
  {
   "cell_type": "markdown",
   "id": "7601b4a2-14db-411f-bafd-f0aae9175ef9",
   "metadata": {},
   "source": [
    "## 保存结果"
   ]
  },
  {
   "cell_type": "code",
   "execution_count": 31,
   "id": "2c7b433e-0baf-49e2-92de-38dedcd24bf8",
   "metadata": {
    "execution": {
     "iopub.execute_input": "2024-07-23T03:25:49.653090Z",
     "iopub.status.busy": "2024-07-23T03:25:49.651727Z",
     "iopub.status.idle": "2024-07-23T03:25:49.659325Z",
     "shell.execute_reply": "2024-07-23T03:25:49.658117Z",
     "shell.execute_reply.started": "2024-07-23T03:25:49.653029Z"
    }
   },
   "outputs": [
    {
     "name": "stdout",
     "output_type": "stream",
     "text": [
      "训练集最佳准确率: 0.997,\n",
      "训练集最佳F1分数: 0.997,\n",
      "测试集最佳准确率: 0.873,\n",
      "测试集最佳F1分数: 0.875\n"
     ]
    }
   ],
   "source": [
    "print(f\"训练集最佳准确率: {max(train_accuracy):.3f},\\n\"\n",
    "    f\"训练集最佳F1分数: {max(train_f1):.3f},\\n\"\n",
    "    f\"测试集最佳准确率: {max(test_accuracy):.3f},\\n\"\n",
    "    f\"测试集最佳F1分数: {max(test_f1):.3f}\")"
   ]
  },
  {
   "cell_type": "code",
   "execution_count": 32,
   "id": "a3d3eb31-56b4-4bce-b61b-0028179d9bc4",
   "metadata": {
    "execution": {
     "iopub.execute_input": "2024-07-23T03:25:57.524815Z",
     "iopub.status.busy": "2024-07-23T03:25:57.524318Z",
     "iopub.status.idle": "2024-07-23T03:25:57.700806Z",
     "shell.execute_reply": "2024-07-23T03:25:57.699969Z",
     "shell.execute_reply.started": "2024-07-23T03:25:57.524770Z"
    }
   },
   "outputs": [
    {
     "data": {
      "image/png": "[encoded data removed]",
      "text/plain": [
       "<Figure size 640x480 with 1 Axes>"
      ]
     },
     "metadata": {},
     "output_type": "display_data"
    }
   ],
   "source": [
    "fig = plt.figure()\n",
    "plt.title('train loss and accuracy')\n",
    "epochs = np.arange(1, num_epochs + 1)\n",
    "plt.axis([0, num_epochs, 0, 1])\n",
    "# losses, test_accuracy, test_f1\n",
    "plt.plot(epochs, losses, 'r.-', label='loss')\n",
    "# plt.plot(epochs, train_accuracy, 'g-.', label='train_acc')\n",
    "plt.plot(epochs, test_accuracy, 'g-.', label='test_acc')\n",
    "plt.plot(epochs, test_f1, 'b-.', label='test_f1')\n",
    "plt.legend(loc='best', frameon=False)\n",
    "plt.show()"
   ]
  },
  {
   "cell_type": "code",
   "execution_count": 33,
   "id": "a196e984-637d-4421-9d62-ff990e2332fc",
   "metadata": {
    "execution": {
     "iopub.execute_input": "2024-07-23T03:26:10.216388Z",
     "iopub.status.busy": "2024-07-23T03:26:10.216098Z",
     "iopub.status.idle": "2024-07-23T03:26:10.313255Z",
     "shell.execute_reply": "2024-07-23T03:26:10.312203Z",
     "shell.execute_reply.started": "2024-07-23T03:26:10.216364Z"
    }
   },
   "outputs": [],
   "source": [
    "result = pd.DataFrame({\"train_acc\": train_accuracy,\n",
    "                       \"train_f1\": train_f1,\n",
    "                      \"test_acc\": test_accuracy,\n",
    "                      \"test_f1\": test_f1})\n",
    "result.to_excel(file_path + 'output/3layerfa.xlsx')"
   ]
  },
  {
   "cell_type": "code",
   "execution_count": 35,
   "id": "ce0fac1c-6929-4df0-9f07-5b492e0f32b1",
   "metadata": {
    "execution": {
     "iopub.execute_input": "2024-07-23T03:26:42.893268Z",
     "iopub.status.busy": "2024-07-23T03:26:42.892982Z",
     "iopub.status.idle": "2024-07-23T03:26:43.088276Z",
     "shell.execute_reply": "2024-07-23T03:26:43.087376Z",
     "shell.execute_reply.started": "2024-07-23T03:26:42.893244Z"
    }
   },
   "outputs": [],
   "source": [
    "torch.save(net.state_dict(), file_path + 'output/3layer_state_dict.pth')"
   ]
  },
  {
   "cell_type": "markdown",
   "id": "79585d9d-5373-4a07-8344-7438e652c849",
   "metadata": {},
   "source": [
    "# 结尾"
   ]
  },
  {
   "cell_type": "code",
   "execution_count": null,
   "id": "8c718afc-8ed2-4314-960a-03705967b18e",
   "metadata": {},
   "outputs": [],
   "source": []
  }
 ],
 "metadata": {
  "kernelspec": {
   "display_name": "Python 3 (ipykernel)",
   "language": "python",
   "name": "python3"
  },
  "language_info": {
   "codemirror_mode": {
    "name": "ipython",
    "version": 3
   },
   "file_extension": ".py",
   "mimetype": "text/x-python",
   "name": "python",
   "nbconvert_exporter": "python",
   "pygments_lexer": "ipython3",
   "version": "3.8.10"
  }
 },
 "nbformat": 4,
 "nbformat_minor": 5
}
